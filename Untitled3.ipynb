{
  "nbformat": 4,
  "nbformat_minor": 0,
  "metadata": {
    "colab": {
      "provenance": [],
      "authorship_tag": "ABX9TyNxH6I8Hhk9WcxT7qAvhTia",
      "include_colab_link": true
    },
    "kernelspec": {
      "name": "python3",
      "display_name": "Python 3"
    },
    "language_info": {
      "name": "python"
    }
  },
  "cells": [
    {
      "cell_type": "markdown",
      "metadata": {
        "id": "view-in-github",
        "colab_type": "text"
      },
      "source": [
        "<a href=\"https://colab.research.google.com/github/UEPP40/PUM/blob/Posadzy/Untitled3.ipynb\" target=\"_parent\"><img src=\"https://colab.research.google.com/assets/colab-badge.svg\" alt=\"Open In Colab\"/></a>"
      ]
    },
    {
      "cell_type": "code",
      "execution_count": 15,
      "metadata": {
        "id": "EmkKVRX8RBuU"
      },
      "outputs": [],
      "source": [
        "import pandas as pd\n",
        "import numpy as np\n",
        "from sklearn.model_selection import train_test_split\n",
        "from sklearn.linear_model import LinearRegression, HuberRegressor\n",
        "from sklearn.preprocessing import LabelEncoder\n",
        "from sklearn.metrics import mean_absolute_error, median_absolute_error, r2_score\n",
        "\n",
        "df  =  pd.read_csv(\"Salary Data (2).csv\")\n",
        "df.dropna(inplace=True)\n",
        "le = LabelEncoder()\n",
        "#df.dtypes\n",
        "columns= [\"Gender\",\"Education Level\", \"Job Title\"]\n",
        "df[columns] = df[columns].apply(LabelEncoder().fit_transform)\n",
        "train_df, test_df = train_test_split(df, test_size = 0.3, random_state=40)\n",
        "\n",
        "train_x = train_df[['Age','Gender','Education Level', 'Job Title', 'Years of Experience']]\n",
        "train_y = train_df['Salary']\n",
        "test_x = test_df[['Age','Gender','Education Level', 'Job Title', 'Years of Experience']]\n",
        "test_y = test_df['Salary']\n",
        "\n",
        "reg = LinearRegression().fit(train_x, train_y)\n",
        "reg.score(train_x, train_y)\n",
        "reg.coef_\n",
        "reg.intercept_\n",
        "predic_y = reg.predict(test_x)"
      ]
    },
    {
      "cell_type": "code",
      "source": [
        "huber = HuberRegressor().fit(train_x, train_y)\n",
        "huber.score(train_x, train_y)\n",
        "huber.coef_\n",
        "huber.intercept_\n",
        "predic_huber_y = huber.predict(test_x)"
      ],
      "metadata": {
        "id": "4Z7uc2BOTLZ0"
      },
      "execution_count": 16,
      "outputs": []
    },
    {
      "cell_type": "code",
      "source": [
        "true_y = test_y\n",
        "print (\"regresja liniowa:\",  mean_absolute_error(true_y, predic_y))\n",
        "\n",
        "print(\"regresja Hubera\",mean_absolute_error(true_y, predic_huber_y))"
      ],
      "metadata": {
        "colab": {
          "base_uri": "https://localhost:8080/"
        },
        "id": "c-MXaC15Tgi5",
        "outputId": "5b1c050c-a78d-4733-be8a-39f1ca30ff3f"
      },
      "execution_count": 17,
      "outputs": [
        {
          "output_type": "stream",
          "name": "stdout",
          "text": [
            "regresja liniowa: 12351.261118548075\n",
            "regresja Hubera 11696.811241388032\n"
          ]
        }
      ]
    },
    {
      "cell_type": "code",
      "source": [
        "true_y = test_y\n",
        "print(\"regresja liniowa\",median_absolute_error(true_y, predic_y))\n",
        "print(\"regresja Hubera\",median_absolute_error(true_y, predic_huber_y))"
      ],
      "metadata": {
        "colab": {
          "base_uri": "https://localhost:8080/"
        },
        "id": "4hqc9zPjTicf",
        "outputId": "9651e4b9-8f70-4a8b-9e1b-748e96e636cf"
      },
      "execution_count": 18,
      "outputs": [
        {
          "output_type": "stream",
          "name": "stdout",
          "text": [
            "regresja liniowa 10532.659544538386\n",
            "regresja Hubera 9092.997949978522\n"
          ]
        }
      ]
    }
  ]
}