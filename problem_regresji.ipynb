{
  "nbformat": 4,
  "nbformat_minor": 0,
  "metadata": {
    "colab": {
      "provenance": [],
      "authorship_tag": "ABX9TyMtQsEWltKcuYlmdDtooHgS",
      "include_colab_link": true
    },
    "kernelspec": {
      "name": "python3",
      "display_name": "Python 3"
    },
    "language_info": {
      "name": "python"
    }
  },
  "cells": [
    {
      "cell_type": "markdown",
      "metadata": {
        "id": "view-in-github",
        "colab_type": "text"
      },
      "source": [
        "<a href=\"https://colab.research.google.com/github/UEPP40/PUM/blob/gamszej/problem_regresji.ipynb\" target=\"_parent\"><img src=\"https://colab.research.google.com/assets/colab-badge.svg\" alt=\"Open In Colab\"/></a>"
      ]
    },
    {
      "cell_type": "code",
      "execution_count": 28,
      "metadata": {
        "id": "9JPOBEkstrOk"
      },
      "outputs": [],
      "source": [
        "import pandas as pd\n",
        "import numpy as np\n",
        "from sklearn.model_selection import train_test_split\n",
        "from sklearn.linear_model import LinearRegression\n",
        "from sklearn.preprocessing import LabelEncoder\n",
        "from sklearn.metrics import mean_absolute_error, median_absolute_error, r2_score"
      ]
    },
    {
      "cell_type": "code",
      "source": [
        "df = pd.read_csv(\"Salary Data (2).csv\")"
      ],
      "metadata": {
        "id": "VL6B1ALzuIjc"
      },
      "execution_count": 29,
      "outputs": []
    },
    {
      "cell_type": "code",
      "source": [
        "df.shape"
      ],
      "metadata": {
        "id": "_7JXeucBuM0a"
      },
      "execution_count": null,
      "outputs": []
    },
    {
      "cell_type": "code",
      "source": [
        "df.head()\n"
      ],
      "metadata": {
        "id": "7KGuJ0DeuR3L"
      },
      "execution_count": null,
      "outputs": []
    },
    {
      "cell_type": "code",
      "source": [
        "from sklearn.preprocessing import LabelEncoder\n",
        "\n",
        "df.dropna(inplace=True)\n",
        "le = LabelEncoder()\n",
        "\n",
        "columns = [\"Gender\", \"Education Level\", \"Job Title\"]\n",
        "df[columns] = df[columns].apply(LabelEncoder().fit_transform)\n",
        "\n",
        "df.head()"
      ],
      "metadata": {
        "id": "r6bPYKP0wjxM"
      },
      "execution_count": null,
      "outputs": []
    },
    {
      "cell_type": "code",
      "source": [
        "\n",
        "df.dropna(inplace=True)\n",
        "columns = [\"Gender\", \"Education Level\", \"Job Title\"]\n",
        "df[columns] = df[columns].apply(LabelEncoder().fit_transform)\n"
      ],
      "metadata": {
        "id": "ySbZrp3XyO0G"
      },
      "execution_count": 33,
      "outputs": []
    },
    {
      "cell_type": "code",
      "source": [
        "from sklearn.model_selection import train_test_split\n",
        "\n",
        "train_df, test_df, = train_test_split(df, test_size = 0.3, random_state=40)\n",
        "\n",
        "X_train = train_df[[\"Age\", \"Gender\", \"Education Level\", \"Job Title\", \"Years of Experience\"]]\n",
        "Y_train = train_df[\"Salary\"]\n",
        "\n",
        "x_test = test_df[[\"Age\", \"Gender\", \"Education Level\", \"Job Title\", \"Years of Experience\"]]\n",
        "y_test = test_df[\"Salary\"]\n",
        "\n",
        "df.head()"
      ],
      "metadata": {
        "id": "Dxjp2mTD0wHu"
      },
      "execution_count": null,
      "outputs": []
    },
    {
      "cell_type": "code",
      "source": [
        "from sklearn.linear_model import LinearRegression\n",
        "\n",
        "reg = LinearRegression().fit(X_train, Y_train)\n",
        "reg.score(X_train, Y_train)\n",
        "reg.coef_\n",
        "reg.intercept_\n",
        "y_pred = reg.predict(x_test)\n",
        "\n"
      ],
      "metadata": {
        "id": "mSO19h3m42aa"
      },
      "execution_count": 35,
      "outputs": []
    },
    {
      "cell_type": "code",
      "source": [
        "from sklearn.metrics import mean_absolute_error\n",
        "y_true = y_test\n",
        "mean_absolute_error(y_true, y_pred)\n"
      ],
      "metadata": {
        "colab": {
          "base_uri": "https://localhost:8080/"
        },
        "id": "PKIztz3749cC",
        "outputId": "44d06e23-3d1a-42c6-b8f3-7482af9bf4f5"
      },
      "execution_count": 36,
      "outputs": [
        {
          "output_type": "execute_result",
          "data": {
            "text/plain": [
              "12351.261118548075"
            ]
          },
          "metadata": {},
          "execution_count": 36
        }
      ]
    },
    {
      "cell_type": "code",
      "source": [
        "from sklearn.metrics import median_absolute_error\n",
        "y_true = y_test\n",
        "median_absolute_error(y_true, y_pred)\n"
      ],
      "metadata": {
        "colab": {
          "base_uri": "https://localhost:8080/"
        },
        "id": "nskR0lxQ589z",
        "outputId": "7d24a8e0-cbfa-441d-b01c-313301ab1a09"
      },
      "execution_count": 37,
      "outputs": [
        {
          "output_type": "execute_result",
          "data": {
            "text/plain": [
              "10532.659544538386"
            ]
          },
          "metadata": {},
          "execution_count": 37
        }
      ]
    },
    {
      "cell_type": "code",
      "source": [
        "from sklearn.metrics import r2_score\n",
        "y_true = y_test\n",
        "r2_score(y_true, y_pred)\n"
      ],
      "metadata": {
        "colab": {
          "base_uri": "https://localhost:8080/"
        },
        "id": "E2RYZx2p7mj1",
        "outputId": "1a8521be-5c45-4e8a-e679-256590884945"
      },
      "execution_count": 38,
      "outputs": [
        {
          "output_type": "execute_result",
          "data": {
            "text/plain": [
              "0.885420522400265"
            ]
          },
          "metadata": {},
          "execution_count": 38
        }
      ]
    },
    {
      "cell_type": "code",
      "source": [
        "import numpy as np\n",
        "from sklearn.linear_model import LinearRegression\n",
        "\n",
        "X = np.array([[1,1],[1,2],[2,2],[2,3]])\n",
        "\n",
        "y = np.dot(X, np.array9([1,2])) + 3\n",
        "reg = LinearRegression().fit(X.y)\n",
        "reg.score(X,y)\n",
        "\n",
        "reg.coef_\n",
        "array([1.,2.])\n",
        "reg.intercept_\n",
        "\n",
        "reg.predict(np.array([[3,5]]))\n",
        "array([16.])"
      ],
      "metadata": {
        "id": "UASCm5Svvf1o"
      },
      "execution_count": null,
      "outputs": []
    }
  ]
}