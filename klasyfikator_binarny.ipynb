{
  "nbformat": 4,
  "nbformat_minor": 0,
  "metadata": {
    "colab": {
      "provenance": [],
      "authorship_tag": "ABX9TyOw8AzpXpfk8lAI5zsXxkFW",
      "include_colab_link": true
    },
    "kernelspec": {
      "name": "python3",
      "display_name": "Python 3"
    },
    "language_info": {
      "name": "python"
    }
  },
  "cells": [
    {
      "cell_type": "markdown",
      "metadata": {
        "id": "view-in-github",
        "colab_type": "text"
      },
      "source": [
        "<a href=\"https://colab.research.google.com/github/UEPP40/PUM/blob/adamczyk/klasyfikator_binarny.ipynb\" target=\"_parent\"><img src=\"https://colab.research.google.com/assets/colab-badge.svg\" alt=\"Open In Colab\"/></a>"
      ]
    },
    {
      "cell_type": "code",
      "execution_count": 198,
      "metadata": {
        "id": "3EzvT2IrkDeL"
      },
      "outputs": [],
      "source": [
        "from sklearn.datasets import load_breast_cancer\n",
        "import pandas as pd\n",
        "import seaborn as sns"
      ]
    },
    {
      "cell_type": "code",
      "source": [
        "from sklearn.datasets import load_breast_cancer\n",
        "data = load_breast_cancer()\n",
        "data.keys()"
      ],
      "metadata": {
        "colab": {
          "base_uri": "https://localhost:8080/"
        },
        "id": "XnQp9iX5kMZn",
        "outputId": "707b5924-4734-4d8c-b503-c2a07ed6727b"
      },
      "execution_count": 199,
      "outputs": [
        {
          "output_type": "execute_result",
          "data": {
            "text/plain": [
              "dict_keys(['data', 'target', 'frame', 'target_names', 'DESCR', 'feature_names', 'filename', 'data_module'])"
            ]
          },
          "metadata": {},
          "execution_count": 199
        }
      ]
    },
    {
      "cell_type": "code",
      "source": [
        "print(data.DESCR)"
      ],
      "metadata": {
        "colab": {
          "base_uri": "https://localhost:8080/"
        },
        "id": "c4XjQZoGlhBY",
        "outputId": "42438add-0c31-4d80-f1cb-795be4611789"
      },
      "execution_count": 200,
      "outputs": [
        {
          "output_type": "stream",
          "name": "stdout",
          "text": [
            ".. _breast_cancer_dataset:\n",
            "\n",
            "Breast cancer wisconsin (diagnostic) dataset\n",
            "--------------------------------------------\n",
            "\n",
            "**Data Set Characteristics:**\n",
            "\n",
            "    :Number of Instances: 569\n",
            "\n",
            "    :Number of Attributes: 30 numeric, predictive attributes and the class\n",
            "\n",
            "    :Attribute Information:\n",
            "        - radius (mean of distances from center to points on the perimeter)\n",
            "        - texture (standard deviation of gray-scale values)\n",
            "        - perimeter\n",
            "        - area\n",
            "        - smoothness (local variation in radius lengths)\n",
            "        - compactness (perimeter^2 / area - 1.0)\n",
            "        - concavity (severity of concave portions of the contour)\n",
            "        - concave points (number of concave portions of the contour)\n",
            "        - symmetry\n",
            "        - fractal dimension (\"coastline approximation\" - 1)\n",
            "\n",
            "        The mean, standard error, and \"worst\" or largest (mean of the three\n",
            "        worst/largest values) of these features were computed for each image,\n",
            "        resulting in 30 features.  For instance, field 0 is Mean Radius, field\n",
            "        10 is Radius SE, field 20 is Worst Radius.\n",
            "\n",
            "        - class:\n",
            "                - WDBC-Malignant\n",
            "                - WDBC-Benign\n",
            "\n",
            "    :Summary Statistics:\n",
            "\n",
            "    ===================================== ====== ======\n",
            "                                           Min    Max\n",
            "    ===================================== ====== ======\n",
            "    radius (mean):                        6.981  28.11\n",
            "    texture (mean):                       9.71   39.28\n",
            "    perimeter (mean):                     43.79  188.5\n",
            "    area (mean):                          143.5  2501.0\n",
            "    smoothness (mean):                    0.053  0.163\n",
            "    compactness (mean):                   0.019  0.345\n",
            "    concavity (mean):                     0.0    0.427\n",
            "    concave points (mean):                0.0    0.201\n",
            "    symmetry (mean):                      0.106  0.304\n",
            "    fractal dimension (mean):             0.05   0.097\n",
            "    radius (standard error):              0.112  2.873\n",
            "    texture (standard error):             0.36   4.885\n",
            "    perimeter (standard error):           0.757  21.98\n",
            "    area (standard error):                6.802  542.2\n",
            "    smoothness (standard error):          0.002  0.031\n",
            "    compactness (standard error):         0.002  0.135\n",
            "    concavity (standard error):           0.0    0.396\n",
            "    concave points (standard error):      0.0    0.053\n",
            "    symmetry (standard error):            0.008  0.079\n",
            "    fractal dimension (standard error):   0.001  0.03\n",
            "    radius (worst):                       7.93   36.04\n",
            "    texture (worst):                      12.02  49.54\n",
            "    perimeter (worst):                    50.41  251.2\n",
            "    area (worst):                         185.2  4254.0\n",
            "    smoothness (worst):                   0.071  0.223\n",
            "    compactness (worst):                  0.027  1.058\n",
            "    concavity (worst):                    0.0    1.252\n",
            "    concave points (worst):               0.0    0.291\n",
            "    symmetry (worst):                     0.156  0.664\n",
            "    fractal dimension (worst):            0.055  0.208\n",
            "    ===================================== ====== ======\n",
            "\n",
            "    :Missing Attribute Values: None\n",
            "\n",
            "    :Class Distribution: 212 - Malignant, 357 - Benign\n",
            "\n",
            "    :Creator:  Dr. William H. Wolberg, W. Nick Street, Olvi L. Mangasarian\n",
            "\n",
            "    :Donor: Nick Street\n",
            "\n",
            "    :Date: November, 1995\n",
            "\n",
            "This is a copy of UCI ML Breast Cancer Wisconsin (Diagnostic) datasets.\n",
            "https://goo.gl/U2Uwz2\n",
            "\n",
            "Features are computed from a digitized image of a fine needle\n",
            "aspirate (FNA) of a breast mass.  They describe\n",
            "characteristics of the cell nuclei present in the image.\n",
            "\n",
            "Separating plane described above was obtained using\n",
            "Multisurface Method-Tree (MSM-T) [K. P. Bennett, \"Decision Tree\n",
            "Construction Via Linear Programming.\" Proceedings of the 4th\n",
            "Midwest Artificial Intelligence and Cognitive Science Society,\n",
            "pp. 97-101, 1992], a classification method which uses linear\n",
            "programming to construct a decision tree.  Relevant features\n",
            "were selected using an exhaustive search in the space of 1-4\n",
            "features and 1-3 separating planes.\n",
            "\n",
            "The actual linear program used to obtain the separating plane\n",
            "in the 3-dimensional space is that described in:\n",
            "[K. P. Bennett and O. L. Mangasarian: \"Robust Linear\n",
            "Programming Discrimination of Two Linearly Inseparable Sets\",\n",
            "Optimization Methods and Software 1, 1992, 23-34].\n",
            "\n",
            "This database is also available through the UW CS ftp server:\n",
            "\n",
            "ftp ftp.cs.wisc.edu\n",
            "cd math-prog/cpo-dataset/machine-learn/WDBC/\n",
            "\n",
            ".. topic:: References\n",
            "\n",
            "   - W.N. Street, W.H. Wolberg and O.L. Mangasarian. Nuclear feature extraction \n",
            "     for breast tumor diagnosis. IS&T/SPIE 1993 International Symposium on \n",
            "     Electronic Imaging: Science and Technology, volume 1905, pages 861-870,\n",
            "     San Jose, CA, 1993.\n",
            "   - O.L. Mangasarian, W.N. Street and W.H. Wolberg. Breast cancer diagnosis and \n",
            "     prognosis via linear programming. Operations Research, 43(4), pages 570-577, \n",
            "     July-August 1995.\n",
            "   - W.H. Wolberg, W.N. Street, and O.L. Mangasarian. Machine learning techniques\n",
            "     to diagnose breast cancer from fine-needle aspirates. Cancer Letters 77 (1994) \n",
            "     163-171.\n"
          ]
        }
      ]
    },
    {
      "cell_type": "code",
      "source": [
        "data.target_names"
      ],
      "metadata": {
        "colab": {
          "base_uri": "https://localhost:8080/"
        },
        "id": "W0gFdnTtl6j4",
        "outputId": "22ea4ab6-0f17-4c82-99a5-50d62c173c91"
      },
      "execution_count": 201,
      "outputs": [
        {
          "output_type": "execute_result",
          "data": {
            "text/plain": [
              "array(['malignant', 'benign'], dtype='<U9')"
            ]
          },
          "metadata": {},
          "execution_count": 201
        }
      ]
    },
    {
      "cell_type": "code",
      "source": [
        "X = pd.DataFrame(data.data, columns = data.feature_names)\n",
        "y = pd.DataFrame(data.target, columns = ['target'])"
      ],
      "metadata": {
        "id": "XFv9jIbDkTYv"
      },
      "execution_count": 202,
      "outputs": []
    },
    {
      "cell_type": "code",
      "source": [
        "y.shape"
      ],
      "metadata": {
        "colab": {
          "base_uri": "https://localhost:8080/"
        },
        "id": "1tLnQ_QulYkE",
        "outputId": "871983bd-4502-4922-d1fe-10930b4a699a"
      },
      "execution_count": 203,
      "outputs": [
        {
          "output_type": "execute_result",
          "data": {
            "text/plain": [
              "(569, 1)"
            ]
          },
          "metadata": {},
          "execution_count": 203
        }
      ]
    },
    {
      "cell_type": "code",
      "source": [
        "y.value_counts()"
      ],
      "metadata": {
        "colab": {
          "base_uri": "https://localhost:8080/"
        },
        "id": "9VdpwwuClrLQ",
        "outputId": "9f983a48-fb1f-4f40-9daa-7fb9b4dc84d9"
      },
      "execution_count": 204,
      "outputs": [
        {
          "output_type": "execute_result",
          "data": {
            "text/plain": [
              "target\n",
              "1         357\n",
              "0         212\n",
              "Name: count, dtype: int64"
            ]
          },
          "metadata": {},
          "execution_count": 204
        }
      ]
    },
    {
      "cell_type": "code",
      "source": [
        "X.columns"
      ],
      "metadata": {
        "colab": {
          "base_uri": "https://localhost:8080/"
        },
        "id": "oBazQWZymOsg",
        "outputId": "0c04f80e-a97e-42de-c64d-b769453d8a2b"
      },
      "execution_count": 205,
      "outputs": [
        {
          "output_type": "execute_result",
          "data": {
            "text/plain": [
              "Index(['mean radius', 'mean texture', 'mean perimeter', 'mean area',\n",
              "       'mean smoothness', 'mean compactness', 'mean concavity',\n",
              "       'mean concave points', 'mean symmetry', 'mean fractal dimension',\n",
              "       'radius error', 'texture error', 'perimeter error', 'area error',\n",
              "       'smoothness error', 'compactness error', 'concavity error',\n",
              "       'concave points error', 'symmetry error', 'fractal dimension error',\n",
              "       'worst radius', 'worst texture', 'worst perimeter', 'worst area',\n",
              "       'worst smoothness', 'worst compactness', 'worst concavity',\n",
              "       'worst concave points', 'worst symmetry', 'worst fractal dimension'],\n",
              "      dtype='object')"
            ]
          },
          "metadata": {},
          "execution_count": 205
        }
      ]
    },
    {
      "cell_type": "code",
      "source": [
        "sns.histplot(data=X, x=\"mean area\")"
      ],
      "metadata": {
        "colab": {
          "base_uri": "https://localhost:8080/",
          "height": 466
        },
        "id": "d3N-Ycw-lbHm",
        "outputId": "c84077e8-3406-4ebc-c3f7-5df1cc69f630"
      },
      "execution_count": 206,
      "outputs": [
        {
          "output_type": "execute_result",
          "data": {
            "text/plain": [
              "<Axes: xlabel='mean area', ylabel='Count'>"
            ]
          },
          "metadata": {},
          "execution_count": 206
        },
        {
          "output_type": "display_data",
          "data": {
            "text/plain": [
              "<Figure size 640x480 with 1 Axes>"
            ],
            "image/png": "[encoded data removed]"
          },
          "metadata": {}
        }
      ]
    },
    {
      "cell_type": "code",
      "source": [
        "sns.scatterplot(data=X, x=\"mean area\", y=y['target'])"
      ],
      "metadata": {
        "colab": {
          "base_uri": "https://localhost:8080/",
          "height": 466
        },
        "id": "Xor5oOtSovXg",
        "outputId": "c6557a97-06ae-4eed-a7ce-be36aa5f0f06"
      },
      "execution_count": 207,
      "outputs": [
        {
          "output_type": "execute_result",
          "data": {
            "text/plain": [
              "<Axes: xlabel='mean area', ylabel='target'>"
            ]
          },
          "metadata": {},
          "execution_count": 207
        },
        {
          "output_type": "display_data",
          "data": {
            "text/plain": [
              "<Figure size 640x480 with 1 Axes>"
            ],
            "image/png": "[encoded data removed]"
          },
          "metadata": {}
        }
      ]
    },
    {
      "cell_type": "code",
      "source": [
        "import matplotlib.pyplot as plt\n",
        "\"\"\"\n",
        "plt.figure(figsize=(6, 4))\n",
        "for column in X.columns:\n",
        "  sns.histplot(data=X, x=column)\n",
        "  plt.show()\"\"\""
      ],
      "metadata": {
        "colab": {
          "base_uri": "https://localhost:8080/",
          "height": 35
        },
        "id": "OdtJQ3rgmmeh",
        "outputId": "202e47b2-8532-4d0d-9c30-26c786e7f2ea"
      },
      "execution_count": 208,
      "outputs": [
        {
          "output_type": "execute_result",
          "data": {
            "text/plain": [
              "'\\nplt.figure(figsize=(6, 4)) \\nfor column in X.columns:\\n  sns.histplot(data=X, x=column)\\n  plt.show()'"
            ],
            "application/vnd.google.colaboratory.intrinsic+json": {
              "type": "string"
            }
          },
          "metadata": {},
          "execution_count": 208
        }
      ]
    },
    {
      "cell_type": "code",
      "source": [
        "X.describe().T"
      ],
      "metadata": {
        "colab": {
          "base_uri": "https://localhost:8080/",
          "height": 990
        },
        "id": "PEGUPMYenroQ",
        "outputId": "9fd09e23-98b0-45eb-a118-9861b493faa7"
      },
      "execution_count": 209,
      "outputs": [
        {
          "output_type": "execute_result",
          "data": {
            "text/plain": [
              "                         count        mean         std         min  \\\n",
              "mean radius              569.0   14.127292    3.524049    6.981000   \n",
              "mean texture             569.0   19.289649    4.301036    9.710000   \n",
              "mean perimeter           569.0   91.969033   24.298981   43.790000   \n",
              "mean area                569.0  654.889104  351.914129  143.500000   \n",
              "mean smoothness          569.0    0.096360    0.014064    0.052630   \n",
              "mean compactness         569.0    0.104341    0.052813    0.019380   \n",
              "mean concavity           569.0    0.088799    0.079720    0.000000   \n",
              "mean concave points      569.0    0.048919    0.038803    0.000000   \n",
              "mean symmetry            569.0    0.181162    0.027414    0.106000   \n",
              "mean fractal dimension   569.0    0.062798    0.007060    0.049960   \n",
              "radius error             569.0    0.405172    0.277313    0.111500   \n",
              "texture error            569.0    1.216853    0.551648    0.360200   \n",
              "perimeter error          569.0    2.866059    2.021855    0.757000   \n",
              "area error               569.0   40.337079   45.491006    6.802000   \n",
              "smoothness error         569.0    0.007041    0.003003    0.001713   \n",
              "compactness error        569.0    0.025478    0.017908    0.002252   \n",
              "concavity error          569.0    0.031894    0.030186    0.000000   \n",
              "concave points error     569.0    0.011796    0.006170    0.000000   \n",
              "symmetry error           569.0    0.020542    0.008266    0.007882   \n",
              "fractal dimension error  569.0    0.003795    0.002646    0.000895   \n",
              "worst radius             569.0   16.269190    4.833242    7.930000   \n",
              "worst texture            569.0   25.677223    6.146258   12.020000   \n",
              "worst perimeter          569.0  107.261213   33.602542   50.410000   \n",
              "worst area               569.0  880.583128  569.356993  185.200000   \n",
              "worst smoothness         569.0    0.132369    0.022832    0.071170   \n",
              "worst compactness        569.0    0.254265    0.157336    0.027290   \n",
              "worst concavity          569.0    0.272188    0.208624    0.000000   \n",
              "worst concave points     569.0    0.114606    0.065732    0.000000   \n",
              "worst symmetry           569.0    0.290076    0.061867    0.156500   \n",
              "worst fractal dimension  569.0    0.083946    0.018061    0.055040   \n",
              "\n",
              "                                25%         50%          75%         max  \n",
              "mean radius               11.700000   13.370000    15.780000    28.11000  \n",
              "mean texture              16.170000   18.840000    21.800000    39.28000  \n",
              "mean perimeter            75.170000   86.240000   104.100000   188.50000  \n",
              "mean area                420.300000  551.100000   782.700000  2501.00000  \n",
              "mean smoothness            0.086370    0.095870     0.105300     0.16340  \n",
              "mean compactness           0.064920    0.092630     0.130400     0.34540  \n",
              "mean concavity             0.029560    0.061540     0.130700     0.42680  \n",
              "mean concave points        0.020310    0.033500     0.074000     0.20120  \n",
              "mean symmetry              0.161900    0.179200     0.195700     0.30400  \n",
              "mean fractal dimension     0.057700    0.061540     0.066120     0.09744  \n",
              "radius error               0.232400    0.324200     0.478900     2.87300  \n",
              "texture error              0.833900    1.108000     1.474000     4.88500  \n",
              "perimeter error            1.606000    2.287000     3.357000    21.98000  \n",
              "area error                17.850000   24.530000    45.190000   542.20000  \n",
              "smoothness error           0.005169    0.006380     0.008146     0.03113  \n",
              "compactness error          0.013080    0.020450     0.032450     0.13540  \n",
              "concavity error            0.015090    0.025890     0.042050     0.39600  \n",
              "concave points error       0.007638    0.010930     0.014710     0.05279  \n",
              "symmetry error             0.015160    0.018730     0.023480     0.07895  \n",
              "fractal dimension error    0.002248    0.003187     0.004558     0.02984  \n",
              "worst radius              13.010000   14.970000    18.790000    36.04000  \n",
              "worst texture             21.080000   25.410000    29.720000    49.54000  \n",
              "worst perimeter           84.110000   97.660000   125.400000   251.20000  \n",
              "worst area               515.300000  686.500000  1084.000000  4254.00000  \n",
              "worst smoothness           0.116600    0.131300     0.146000     0.22260  \n",
              "worst compactness          0.147200    0.211900     0.339100     1.05800  \n",
              "worst concavity            0.114500    0.226700     0.382900     1.25200  \n",
              "worst concave points       0.064930    0.099930     0.161400     0.29100  \n",
              "worst symmetry             0.250400    0.282200     0.317900     0.66380  \n",
              "worst fractal dimension    0.071460    0.080040     0.092080     0.20750  "
            ],
            "text/html": [
              "\n",
              "  <div id=\"df-2ee7724e-1856-4186-b410-e28a2aaea803\" class=\"colab-df-container\">\n",
              "    <div>\n",
              "<style scoped>\n",
              "    .dataframe tbody tr th:only-of-type {\n",
              "        vertical-align: middle;\n",
              "    }\n",
              "\n",
              "    .dataframe tbody tr th {\n",
              "        vertical-align: top;\n",
              "    }\n",
              "\n",
              "    .dataframe thead th {\n",
              "        text-align: right;\n",
              "    }\n",
              "</style>\n",
              "<table border=\"1\" class=\"dataframe\">\n",
              "  <thead>\n",
              "    <tr style=\"text-align: right;\">\n",
              "      <th></th>\n",
              "      <th>count</th>\n",
              "      <th>mean</th>\n",
              "      <th>std</th>\n",
              "      <th>min</th>\n",
              "      <th>25%</th>\n",
              "      <th>50%</th>\n",
              "      <th>75%</th>\n",
              "      <th>max</th>\n",
              "    </tr>\n",
              "  </thead>\n",
              "  <tbody>\n",
              "    <tr>\n",
              "      <th>mean radius</th>\n",
              "      <td>569.0</td>\n",
              "      <td>14.127292</td>\n",
              "      <td>3.524049</td>\n",
              "      <td>6.981000</td>\n",
              "      <td>11.700000</td>\n",
              "      <td>13.370000</td>\n",
              "      <td>15.780000</td>\n",
              "      <td>28.11000</td>\n",
              "    </tr>\n",
              "    <tr>\n",
              "      <th>mean texture</th>\n",
              "      <td>569.0</td>\n",
              "      <td>19.289649</td>\n",
              "      <td>4.301036</td>\n",
              "      <td>9.710000</td>\n",
              "      <td>16.170000</td>\n",
              "      <td>18.840000</td>\n",
              "      <td>21.800000</td>\n",
              "      <td>39.28000</td>\n",
              "    </tr>\n",
              "    <tr>\n",
              "      <th>mean perimeter</th>\n",
              "      <td>569.0</td>\n",
              "      <td>91.969033</td>\n",
              "      <td>24.298981</td>\n",
              "      <td>43.790000</td>\n",
              "      <td>75.170000</td>\n",
              "      <td>86.240000</td>\n",
              "      <td>104.100000</td>\n",
              "      <td>188.50000</td>\n",
              "    </tr>\n",
              "    <tr>\n",
              "      <th>mean area</th>\n",
              "      <td>569.0</td>\n",
              "      <td>654.889104</td>\n",
              "      <td>351.914129</td>\n",
              "      <td>143.500000</td>\n",
              "      <td>420.300000</td>\n",
              "      <td>551.100000</td>\n",
              "      <td>782.700000</td>\n",
              "      <td>2501.00000</td>\n",
              "    </tr>\n",
              "    <tr>\n",
              "      <th>mean smoothness</th>\n",
              "      <td>569.0</td>\n",
              "      <td>0.096360</td>\n",
              "      <td>0.014064</td>\n",
              "      <td>0.052630</td>\n",
              "      <td>0.086370</td>\n",
              "      <td>0.095870</td>\n",
              "      <td>0.105300</td>\n",
              "      <td>0.16340</td>\n",
              "    </tr>\n",
              "    <tr>\n",
              "      <th>mean compactness</th>\n",
              "      <td>569.0</td>\n",
              "      <td>0.104341</td>\n",
              "      <td>0.052813</td>\n",
              "      <td>0.019380</td>\n",
              "      <td>0.064920</td>\n",
              "      <td>0.092630</td>\n",
              "      <td>0.130400</td>\n",
              "      <td>0.34540</td>\n",
              "    </tr>\n",
              "    <tr>\n",
              "      <th>mean concavity</th>\n",
              "      <td>569.0</td>\n",
              "      <td>0.088799</td>\n",
              "      <td>0.079720</td>\n",
              "      <td>0.000000</td>\n",
              "      <td>0.029560</td>\n",
              "      <td>0.061540</td>\n",
              "      <td>0.130700</td>\n",
              "      <td>0.42680</td>\n",
              "    </tr>\n",
              "    <tr>\n",
              "      <th>mean concave points</th>\n",
              "      <td>569.0</td>\n",
              "      <td>0.048919</td>\n",
              "      <td>0.038803</td>\n",
              "      <td>0.000000</td>\n",
              "      <td>0.020310</td>\n",
              "      <td>0.033500</td>\n",
              "      <td>0.074000</td>\n",
              "      <td>0.20120</td>\n",
              "    </tr>\n",
              "    <tr>\n",
              "      <th>mean symmetry</th>\n",
              "      <td>569.0</td>\n",
              "      <td>0.181162</td>\n",
              "      <td>0.027414</td>\n",
              "      <td>0.106000</td>\n",
              "      <td>0.161900</td>\n",
              "      <td>0.179200</td>\n",
              "      <td>0.195700</td>\n",
              "      <td>0.30400</td>\n",
              "    </tr>\n",
              "    <tr>\n",
              "      <th>mean fractal dimension</th>\n",
              "      <td>569.0</td>\n",
              "      <td>0.062798</td>\n",
              "      <td>0.007060</td>\n",
              "      <td>0.049960</td>\n",
              "      <td>0.057700</td>\n",
              "      <td>0.061540</td>\n",
              "      <td>0.066120</td>\n",
              "      <td>0.09744</td>\n",
              "    </tr>\n",
              "    <tr>\n",
              "      <th>radius error</th>\n",
              "      <td>569.0</td>\n",
              "      <td>0.405172</td>\n",
              "      <td>0.277313</td>\n",
              "      <td>0.111500</td>\n",
              "      <td>0.232400</td>\n",
              "      <td>0.324200</td>\n",
              "      <td>0.478900</td>\n",
              "      <td>2.87300</td>\n",
              "    </tr>\n",
              "    <tr>\n",
              "      <th>texture error</th>\n",
              "      <td>569.0</td>\n",
              "      <td>1.216853</td>\n",
              "      <td>0.551648</td>\n",
              "      <td>0.360200</td>\n",
              "      <td>0.833900</td>\n",
              "      <td>1.108000</td>\n",
              "      <td>1.474000</td>\n",
              "      <td>4.88500</td>\n",
              "    </tr>\n",
              "    <tr>\n",
              "      <th>perimeter error</th>\n",
              "      <td>569.0</td>\n",
              "      <td>2.866059</td>\n",
              "      <td>2.021855</td>\n",
              "      <td>0.757000</td>\n",
              "      <td>1.606000</td>\n",
              "      <td>2.287000</td>\n",
              "      <td>3.357000</td>\n",
              "      <td>21.98000</td>\n",
              "    </tr>\n",
              "    <tr>\n",
              "      <th>area error</th>\n",
              "      <td>569.0</td>\n",
              "      <td>40.337079</td>\n",
              "      <td>45.491006</td>\n",
              "      <td>6.802000</td>\n",
              "      <td>17.850000</td>\n",
              "      <td>24.530000</td>\n",
              "      <td>45.190000</td>\n",
              "      <td>542.20000</td>\n",
              "    </tr>\n",
              "    <tr>\n",
              "      <th>smoothness error</th>\n",
              "      <td>569.0</td>\n",
              "      <td>0.007041</td>\n",
              "      <td>0.003003</td>\n",
              "      <td>0.001713</td>\n",
              "      <td>0.005169</td>\n",
              "      <td>0.006380</td>\n",
              "      <td>0.008146</td>\n",
              "      <td>0.03113</td>\n",
              "    </tr>\n",
              "    <tr>\n",
              "      <th>compactness error</th>\n",
              "      <td>569.0</td>\n",
              "      <td>0.025478</td>\n",
              "      <td>0.017908</td>\n",
              "      <td>0.002252</td>\n",
              "      <td>0.013080</td>\n",
              "      <td>0.020450</td>\n",
              "      <td>0.032450</td>\n",
              "      <td>0.13540</td>\n",
              "    </tr>\n",
              "    <tr>\n",
              "      <th>concavity error</th>\n",
              "      <td>569.0</td>\n",
              "      <td>0.031894</td>\n",
              "      <td>0.030186</td>\n",
              "      <td>0.000000</td>\n",
              "      <td>0.015090</td>\n",
              "      <td>0.025890</td>\n",
              "      <td>0.042050</td>\n",
              "      <td>0.39600</td>\n",
              "    </tr>\n",
              "    <tr>\n",
              "      <th>concave points error</th>\n",
              "      <td>569.0</td>\n",
              "      <td>0.011796</td>\n",
              "      <td>0.006170</td>\n",
              "      <td>0.000000</td>\n",
              "      <td>0.007638</td>\n",
              "      <td>0.010930</td>\n",
              "      <td>0.014710</td>\n",
              "      <td>0.05279</td>\n",
              "    </tr>\n",
              "    <tr>\n",
              "      <th>symmetry error</th>\n",
              "      <td>569.0</td>\n",
              "      <td>0.020542</td>\n",
              "      <td>0.008266</td>\n",
              "      <td>0.007882</td>\n",
              "      <td>0.015160</td>\n",
              "      <td>0.018730</td>\n",
              "      <td>0.023480</td>\n",
              "      <td>0.07895</td>\n",
              "    </tr>\n",
              "    <tr>\n",
              "      <th>fractal dimension error</th>\n",
              "      <td>569.0</td>\n",
              "      <td>0.003795</td>\n",
              "      <td>0.002646</td>\n",
              "      <td>0.000895</td>\n",
              "      <td>0.002248</td>\n",
              "      <td>0.003187</td>\n",
              "      <td>0.004558</td>\n",
              "      <td>0.02984</td>\n",
              "    </tr>\n",
              "    <tr>\n",
              "      <th>worst radius</th>\n",
              "      <td>569.0</td>\n",
              "      <td>16.269190</td>\n",
              "      <td>4.833242</td>\n",
              "      <td>7.930000</td>\n",
              "      <td>13.010000</td>\n",
              "      <td>14.970000</td>\n",
              "      <td>18.790000</td>\n",
              "      <td>36.04000</td>\n",
              "    </tr>\n",
              "    <tr>\n",
              "      <th>worst texture</th>\n",
              "      <td>569.0</td>\n",
              "      <td>25.677223</td>\n",
              "      <td>6.146258</td>\n",
              "      <td>12.020000</td>\n",
              "      <td>21.080000</td>\n",
              "      <td>25.410000</td>\n",
              "      <td>29.720000</td>\n",
              "      <td>49.54000</td>\n",
              "    </tr>\n",
              "    <tr>\n",
              "      <th>worst perimeter</th>\n",
              "      <td>569.0</td>\n",
              "      <td>107.261213</td>\n",
              "      <td>33.602542</td>\n",
              "      <td>50.410000</td>\n",
              "      <td>84.110000</td>\n",
              "      <td>97.660000</td>\n",
              "      <td>125.400000</td>\n",
              "      <td>251.20000</td>\n",
              "    </tr>\n",
              "    <tr>\n",
              "      <th>worst area</th>\n",
              "      <td>569.0</td>\n",
              "      <td>880.583128</td>\n",
              "      <td>569.356993</td>\n",
              "      <td>185.200000</td>\n",
              "      <td>515.300000</td>\n",
              "      <td>686.500000</td>\n",
              "      <td>1084.000000</td>\n",
              "      <td>4254.00000</td>\n",
              "    </tr>\n",
              "    <tr>\n",
              "      <th>worst smoothness</th>\n",
              "      <td>569.0</td>\n",
              "      <td>0.132369</td>\n",
              "      <td>0.022832</td>\n",
              "      <td>0.071170</td>\n",
              "      <td>0.116600</td>\n",
              "      <td>0.131300</td>\n",
              "      <td>0.146000</td>\n",
              "      <td>0.22260</td>\n",
              "    </tr>\n",
              "    <tr>\n",
              "      <th>worst compactness</th>\n",
              "      <td>569.0</td>\n",
              "      <td>0.254265</td>\n",
              "      <td>0.157336</td>\n",
              "      <td>0.027290</td>\n",
              "      <td>0.147200</td>\n",
              "      <td>0.211900</td>\n",
              "      <td>0.339100</td>\n",
              "      <td>1.05800</td>\n",
              "    </tr>\n",
              "    <tr>\n",
              "      <th>worst concavity</th>\n",
              "      <td>569.0</td>\n",
              "      <td>0.272188</td>\n",
              "      <td>0.208624</td>\n",
              "      <td>0.000000</td>\n",
              "      <td>0.114500</td>\n",
              "      <td>0.226700</td>\n",
              "      <td>0.382900</td>\n",
              "      <td>1.25200</td>\n",
              "    </tr>\n",
              "    <tr>\n",
              "      <th>worst concave points</th>\n",
              "      <td>569.0</td>\n",
              "      <td>0.114606</td>\n",
              "      <td>0.065732</td>\n",
              "      <td>0.000000</td>\n",
              "      <td>0.064930</td>\n",
              "      <td>0.099930</td>\n",
              "      <td>0.161400</td>\n",
              "      <td>0.29100</td>\n",
              "    </tr>\n",
              "    <tr>\n",
              "      <th>worst symmetry</th>\n",
              "      <td>569.0</td>\n",
              "      <td>0.290076</td>\n",
              "      <td>0.061867</td>\n",
              "      <td>0.156500</td>\n",
              "      <td>0.250400</td>\n",
              "      <td>0.282200</td>\n",
              "      <td>0.317900</td>\n",
              "      <td>0.66380</td>\n",
              "    </tr>\n",
              "    <tr>\n",
              "      <th>worst fractal dimension</th>\n",
              "      <td>569.0</td>\n",
              "      <td>0.083946</td>\n",
              "      <td>0.018061</td>\n",
              "      <td>0.055040</td>\n",
              "      <td>0.071460</td>\n",
              "      <td>0.080040</td>\n",
              "      <td>0.092080</td>\n",
              "      <td>0.20750</td>\n",
              "    </tr>\n",
              "  </tbody>\n",
              "</table>\n",
              "</div>\n",
              "    <div class=\"colab-df-buttons\">\n",
              "\n",
              "  <div class=\"colab-df-container\">\n",
              "    <button class=\"colab-df-convert\" onclick=\"convertToInteractive('df-2ee7724e-1856-4186-b410-e28a2aaea803')\"\n",
              "            title=\"Convert this dataframe to an interactive table.\"\n",
              "            style=\"display:none;\">\n",
              "\n",
              "  <svg xmlns=\"http://www.w3.org/2000/svg\" height=\"24px\" viewBox=\"0 -960 960 960\">\n",
              "    <path d=\"M120-120v-720h720v720H120Zm60-500h600v-160H180v160Zm220 220h160v-160H400v160Zm0 220h160v-160H400v160ZM180-400h160v-160H180v160Zm440 0h160v-160H620v160ZM180-180h160v-160H180v160Zm440 0h160v-160H620v160Z\"/>\n",
              "  </svg>\n",
              "    </button>\n",
              "\n",
              "  <style>\n",
              "    .colab-df-container {\n",
              "      display:flex;\n",
              "      gap: 12px;\n",
              "    }\n",
              "\n",
              "    .colab-df-convert {\n",
              "      background-color: #E8F0FE;\n",
              "      border: none;\n",
              "      border-radius: 50%;\n",
              "      cursor: pointer;\n",
              "      display: none;\n",
              "      fill: #1967D2;\n",
              "      height: 32px;\n",
              "      padding: 0 0 0 0;\n",
              "      width: 32px;\n",
              "    }\n",
              "\n",
              "    .colab-df-convert:hover {\n",
              "      background-color: #E2EBFA;\n",
              "      box-shadow: 0px 1px 2px rgba(60, 64, 67, 0.3), 0px 1px 3px 1px rgba(60, 64, 67, 0.15);\n",
              "      fill: #174EA6;\n",
              "    }\n",
              "\n",
              "    .colab-df-buttons div {\n",
              "      margin-bottom: 4px;\n",
              "    }\n",
              "\n",
              "    [theme=dark] .colab-df-convert {\n",
              "      background-color: #3B4455;\n",
              "      fill: #D2E3FC;\n",
              "    }\n",
              "\n",
              "    [theme=dark] .colab-df-convert:hover {\n",
              "      background-color: #434B5C;\n",
              "      box-shadow: 0px 1px 3px 1px rgba(0, 0, 0, 0.15);\n",
              "      filter: drop-shadow(0px 1px 2px rgba(0, 0, 0, 0.3));\n",
              "      fill: #FFFFFF;\n",
              "    }\n",
              "  </style>\n",
              "\n",
              "    <script>\n",
              "      const buttonEl =\n",
              "        document.querySelector('#df-2ee7724e-1856-4186-b410-e28a2aaea803 button.colab-df-convert');\n",
              "      buttonEl.style.display =\n",
              "        google.colab.kernel.accessAllowed ? 'block' : 'none';\n",
              "\n",
              "      async function convertToInteractive(key) {\n",
              "        const element = document.querySelector('#df-2ee7724e-1856-4186-b410-e28a2aaea803');\n",
              "        const dataTable =\n",
              "          await google.colab.kernel.invokeFunction('convertToInteractive',\n",
              "                                                    [key], {});\n",
              "        if (!dataTable) return;\n",
              "\n",
              "        const docLinkHtml = 'Like what you see? Visit the ' +\n",
              "          '<a target=\"_blank\" href=https://colab.research.google.com/notebooks/data_table.ipynb>data table notebook</a>'\n",
              "          + ' to learn more about interactive tables.';\n",
              "        element.innerHTML = '';\n",
              "        dataTable['output_type'] = 'display_data';\n",
              "        await google.colab.output.renderOutput(dataTable, element);\n",
              "        const docLink = document.createElement('div');\n",
              "        docLink.innerHTML = docLinkHtml;\n",
              "        element.appendChild(docLink);\n",
              "      }\n",
              "    </script>\n",
              "  </div>\n",
              "\n",
              "\n",
              "<div id=\"df-b9b8babd-a745-47c9-a43b-2dc1a2d462c6\">\n",
              "  <button class=\"colab-df-quickchart\" onclick=\"quickchart('df-b9b8babd-a745-47c9-a43b-2dc1a2d462c6')\"\n",
              "            title=\"Suggest charts\"\n",
              "            style=\"display:none;\">\n",
              "\n",
              "<svg xmlns=\"http://www.w3.org/2000/svg\" height=\"24px\"viewBox=\"0 0 24 24\"\n",
              "     width=\"24px\">\n",
              "    <g>\n",
              "        <path d=\"M19 3H5c-1.1 0-2 .9-2 2v14c0 1.1.9 2 2 2h14c1.1 0 2-.9 2-2V5c0-1.1-.9-2-2-2zM9 17H7v-7h2v7zm4 0h-2V7h2v10zm4 0h-2v-4h2v4z\"/>\n",
              "    </g>\n",
              "</svg>\n",
              "  </button>\n",
              "\n",
              "<style>\n",
              "  .colab-df-quickchart {\n",
              "      --bg-color: #E8F0FE;\n",
              "      --fill-color: #1967D2;\n",
              "      --hover-bg-color: #E2EBFA;\n",
              "      --hover-fill-color: #174EA6;\n",
              "      --disabled-fill-color: #AAA;\n",
              "      --disabled-bg-color: #DDD;\n",
              "  }\n",
              "\n",
              "  [theme=dark] .colab-df-quickchart {\n",
              "      --bg-color: #3B4455;\n",
              "      --fill-color: #D2E3FC;\n",
              "      --hover-bg-color: #434B5C;\n",
              "      --hover-fill-color: #FFFFFF;\n",
              "      --disabled-bg-color: #3B4455;\n",
              "      --disabled-fill-color: #666;\n",
              "  }\n",
              "\n",
              "  .colab-df-quickchart {\n",
              "    background-color: var(--bg-color);\n",
              "    border: none;\n",
              "    border-radius: 50%;\n",
              "    cursor: pointer;\n",
              "    display: none;\n",
              "    fill: var(--fill-color);\n",
              "    height: 32px;\n",
              "    padding: 0;\n",
              "    width: 32px;\n",
              "  }\n",
              "\n",
              "  .colab-df-quickchart:hover {\n",
              "    background-color: var(--hover-bg-color);\n",
              "    box-shadow: 0 1px 2px rgba(60, 64, 67, 0.3), 0 1px 3px 1px rgba(60, 64, 67, 0.15);\n",
              "    fill: var(--button-hover-fill-color);\n",
              "  }\n",
              "\n",
              "  .colab-df-quickchart-complete:disabled,\n",
              "  .colab-df-quickchart-complete:disabled:hover {\n",
              "    background-color: var(--disabled-bg-color);\n",
              "    fill: var(--disabled-fill-color);\n",
              "    box-shadow: none;\n",
              "  }\n",
              "\n",
              "  .colab-df-spinner {\n",
              "    border: 2px solid var(--fill-color);\n",
              "    border-color: transparent;\n",
              "    border-bottom-color: var(--fill-color);\n",
              "    animation:\n",
              "      spin 1s steps(1) infinite;\n",
              "  }\n",
              "\n",
              "  @keyframes spin {\n",
              "    0% {\n",
              "      border-color: transparent;\n",
              "      border-bottom-color: var(--fill-color);\n",
              "      border-left-color: var(--fill-color);\n",
              "    }\n",
              "    20% {\n",
              "      border-color: transparent;\n",
              "      border-left-color: var(--fill-color);\n",
              "      border-top-color: var(--fill-color);\n",
              "    }\n",
              "    30% {\n",
              "      border-color: transparent;\n",
              "      border-left-color: var(--fill-color);\n",
              "      border-top-color: var(--fill-color);\n",
              "      border-right-color: var(--fill-color);\n",
              "    }\n",
              "    40% {\n",
              "      border-color: transparent;\n",
              "      border-right-color: var(--fill-color);\n",
              "      border-top-color: var(--fill-color);\n",
              "    }\n",
              "    60% {\n",
              "      border-color: transparent;\n",
              "      border-right-color: var(--fill-color);\n",
              "    }\n",
              "    80% {\n",
              "      border-color: transparent;\n",
              "      border-right-color: var(--fill-color);\n",
              "      border-bottom-color: var(--fill-color);\n",
              "    }\n",
              "    90% {\n",
              "      border-color: transparent;\n",
              "      border-bottom-color: var(--fill-color);\n",
              "    }\n",
              "  }\n",
              "</style>\n",
              "\n",
              "  <script>\n",
              "    async function quickchart(key) {\n",
              "      const quickchartButtonEl =\n",
              "        document.querySelector('#' + key + ' button');\n",
              "      quickchartButtonEl.disabled = true;  // To prevent multiple clicks.\n",
              "      quickchartButtonEl.classList.add('colab-df-spinner');\n",
              "      try {\n",
              "        const charts = await google.colab.kernel.invokeFunction(\n",
              "            'suggestCharts', [key], {});\n",
              "      } catch (error) {\n",
              "        console.error('Error during call to suggestCharts:', error);\n",
              "      }\n",
              "      quickchartButtonEl.classList.remove('colab-df-spinner');\n",
              "      quickchartButtonEl.classList.add('colab-df-quickchart-complete');\n",
              "    }\n",
              "    (() => {\n",
              "      let quickchartButtonEl =\n",
              "        document.querySelector('#df-b9b8babd-a745-47c9-a43b-2dc1a2d462c6 button');\n",
              "      quickchartButtonEl.style.display =\n",
              "        google.colab.kernel.accessAllowed ? 'block' : 'none';\n",
              "    })();\n",
              "  </script>\n",
              "</div>\n",
              "    </div>\n",
              "  </div>\n"
            ],
            "application/vnd.google.colaboratory.intrinsic+json": {
              "type": "dataframe",
              "summary": "{\n  \"name\": \"X\",\n  \"rows\": 30,\n  \"fields\": [\n    {\n      \"column\": \"count\",\n      \"properties\": {\n        \"dtype\": \"number\",\n        \"std\": 0.0,\n        \"min\": 569.0,\n        \"max\": 569.0,\n        \"num_unique_values\": 1,\n        \"samples\": [\n          569.0\n        ],\n        \"semantic_type\": \"\",\n        \"description\": \"\"\n      }\n    },\n    {\n      \"column\": \"mean\",\n      \"properties\": {\n        \"dtype\": \"number\",\n        \"std\": 195.86138598399455,\n        \"min\": 0.0037949038664323374,\n        \"max\": 880.5831282952548,\n        \"num_unique_values\": 30,\n        \"samples\": [\n          0.11460622319859401\n        ],\n        \"semantic_type\": \"\",\n        \"description\": \"\"\n      }\n    },\n    {\n      \"column\": \"std\",\n      \"properties\": {\n        \"dtype\": \"number\",\n        \"std\": 119.67576524672171,\n        \"min\": 0.002646070967089195,\n        \"max\": 569.356992669949,\n        \"num_unique_values\": 30,\n        \"samples\": [\n          0.06573234119594207\n        ],\n        \"semantic_type\": \"\",\n        \"description\": \"\"\n      }\n    },\n    {\n      \"column\": \"min\",\n      \"properties\": {\n        \"dtype\": \"number\",\n        \"std\": 42.524969915309626,\n        \"min\": 0.0,\n        \"max\": 185.2,\n        \"num_unique_values\": 25,\n        \"samples\": [\n          0.04996\n        ],\n        \"semantic_type\": \"\",\n        \"description\": \"\"\n      }\n    },\n    {\n      \"column\": \"25%\",\n      \"properties\": {\n        \"dtype\": \"number\",\n        \"std\": 118.89455228667681,\n        \"min\": 0.002248,\n        \"max\": 515.3,\n        \"num_unique_values\": 30,\n        \"samples\": [\n          0.06493\n        ],\n        \"semantic_type\": \"\",\n        \"description\": \"\"\n      }\n    },\n    {\n      \"column\": \"50%\",\n      \"properties\": {\n        \"dtype\": \"number\",\n        \"std\": 157.19118789388529,\n        \"min\": 0.003187,\n        \"max\": 686.5,\n        \"num_unique_values\": 29,\n        \"samples\": [\n          0.2822\n        ],\n        \"semantic_type\": \"\",\n        \"description\": \"\"\n      }\n    },\n    {\n      \"column\": \"75%\",\n      \"properties\": {\n        \"dtype\": \"number\",\n        \"std\": 238.65558769907574,\n        \"min\": 0.004558,\n        \"max\": 1084.0,\n        \"num_unique_values\": 30,\n        \"samples\": [\n          0.1614\n        ],\n        \"semantic_type\": \"\",\n        \"description\": \"\"\n      }\n    },\n    {\n      \"column\": \"max\",\n      \"properties\": {\n        \"dtype\": \"number\",\n        \"std\": 883.8964955090008,\n        \"min\": 0.02984,\n        \"max\": 4254.0,\n        \"num_unique_values\": 30,\n        \"samples\": [\n          0.291\n        ],\n        \"semantic_type\": \"\",\n        \"description\": \"\"\n      }\n    }\n  ]\n}"
            }
          },
          "metadata": {},
          "execution_count": 209
        }
      ]
    },
    {
      "cell_type": "code",
      "source": [
        "from sklearn.preprocessing import MinMaxScaler\n",
        "scaler = MinMaxScaler()\n",
        "X_scaled = scaler.fit_transform(X)"
      ],
      "metadata": {
        "id": "UtH_yrU-poTn"
      },
      "execution_count": 210,
      "outputs": []
    },
    {
      "cell_type": "code",
      "source": [
        "import numpy as np\n",
        "from sklearn.model_selection import train_test_split\n",
        "X_train, X_test, y_train, y_test = train_test_split( X_scaled, y, test_size=0.3, random_state=42)"
      ],
      "metadata": {
        "id": "VfioLaHBpWWy"
      },
      "execution_count": 211,
      "outputs": []
    },
    {
      "cell_type": "code",
      "source": [
        "from sklearn.linear_model import LogisticRegression"
      ],
      "metadata": {
        "id": "ew3Mf-X0nj0w"
      },
      "execution_count": 212,
      "outputs": []
    },
    {
      "cell_type": "code",
      "source": [
        "clf = LogisticRegression().fit(X_train, y_train)\n",
        "y_pred_clf = clf.predict(X_test)\n",
        "y_pred_clf_proba = clf.predict_proba(X_test)"
      ],
      "metadata": {
        "colab": {
          "base_uri": "https://localhost:8080/"
        },
        "id": "6t2-sM4TqIlG",
        "outputId": "f4e2b5ba-4e5c-4838-fab5-a45548752782"
      },
      "execution_count": 213,
      "outputs": [
        {
          "output_type": "stream",
          "name": "stderr",
          "text": [
            "/usr/local/lib/python3.10/dist-packages/sklearn/utils/validation.py:1143: DataConversionWarning: A column-vector y was passed when a 1d array was expected. Please change the shape of y to (n_samples, ), for example using ravel().\n",
            "  y = column_or_1d(y, warn=True)\n"
          ]
        }
      ]
    },
    {
      "cell_type": "code",
      "source": [
        "from sklearn.metrics import confusion_matrix, ConfusionMatrixDisplay\n",
        "from sklearn.metrics import RocCurveDisplay, roc_curve,classification_report"
      ],
      "metadata": {
        "id": "S4hVyWuCqsvn"
      },
      "execution_count": 214,
      "outputs": []
    },
    {
      "cell_type": "code",
      "source": [
        "cm = confusion_matrix(y_test, y_pred_clf)\n",
        "cm_display = ConfusionMatrixDisplay(cm).plot()"
      ],
      "metadata": {
        "colab": {
          "base_uri": "https://localhost:8080/",
          "height": 449
        },
        "id": "5TVHhM4nq_Q2",
        "outputId": "4cf6169e-e41a-4783-a441-9cd0957fa983"
      },
      "execution_count": 215,
      "outputs": [
        {
          "output_type": "display_data",
          "data": {
            "text/plain": [
              "<Figure size 640x480 with 2 Axes>"
            ],
            "image/png": "[encoded data removed]"
          },
          "metadata": {}
        }
      ]
    },
    {
      "cell_type": "code",
      "source": [
        "y_score = clf.decision_function(X_test)\n",
        "fpr, tpr, _ = roc_curve(y_test, y_score, pos_label=clf.classes_[1])\n",
        "roc_display = RocCurveDisplay(fpr=fpr, tpr=tpr).plot()"
      ],
      "metadata": {
        "colab": {
          "base_uri": "https://localhost:8080/",
          "height": 449
        },
        "id": "9jbiaUcMrOUe",
        "outputId": "2b5a6dbe-3032-42c8-ab76-2ed3beb55381"
      },
      "execution_count": 216,
      "outputs": [
        {
          "output_type": "display_data",
          "data": {
            "text/plain": [
              "<Figure size 640x480 with 1 Axes>"
            ],
            "image/png": "[encoded data removed]"
          },
          "metadata": {}
        }
      ]
    },
    {
      "cell_type": "code",
      "source": [
        "print(classification_report(y_test, y_pred_clf, target_names=data.target_names))"
      ],
      "metadata": {
        "colab": {
          "base_uri": "https://localhost:8080/"
        },
        "id": "MTppww3gsPzw",
        "outputId": "d8955e1d-b2d2-45a1-b4af-a402a1797777"
      },
      "execution_count": 217,
      "outputs": [
        {
          "output_type": "stream",
          "name": "stdout",
          "text": [
            "              precision    recall  f1-score   support\n",
            "\n",
            "   malignant       1.00      0.94      0.97        63\n",
            "      benign       0.96      1.00      0.98       108\n",
            "\n",
            "    accuracy                           0.98       171\n",
            "   macro avg       0.98      0.97      0.97       171\n",
            "weighted avg       0.98      0.98      0.98       171\n",
            "\n"
          ]
        }
      ]
    },
    {
      "cell_type": "code",
      "source": [
        "threshold  = 0\n",
        "while threshold  < 0.9:\n",
        "  y_pred_class = [1 if prob > threshold else 0 for prob in y_pred_clf_proba[:,1]]\n",
        "  print(\"threshold: \", threshold, \"\\n\", confusion_matrix(y_test, y_pred_class))\n",
        "  threshold += 0.05"
      ],
      "metadata": {
        "colab": {
          "base_uri": "https://localhost:8080/"
        },
        "id": "IqOUM_AGtaap",
        "outputId": "b429f059-c2d1-4d0c-a3af-1e01a3a47bec"
      },
      "execution_count": 218,
      "outputs": [
        {
          "output_type": "stream",
          "name": "stdout",
          "text": [
            "threshold:  0 \n",
            " [[  0  63]\n",
            " [  0 108]]\n",
            "threshold:  0.05 \n",
            " [[ 34  29]\n",
            " [  0 108]]\n",
            "threshold:  0.1 \n",
            " [[ 41  22]\n",
            " [  0 108]]\n",
            "threshold:  0.15000000000000002 \n",
            " [[ 44  19]\n",
            " [  0 108]]\n",
            "threshold:  0.2 \n",
            " [[ 50  13]\n",
            " [  0 108]]\n",
            "threshold:  0.25 \n",
            " [[ 52  11]\n",
            " [  0 108]]\n",
            "threshold:  0.3 \n",
            " [[ 54   9]\n",
            " [  0 108]]\n",
            "threshold:  0.35 \n",
            " [[ 56   7]\n",
            " [  0 108]]\n",
            "threshold:  0.39999999999999997 \n",
            " [[ 56   7]\n",
            " [  0 108]]\n",
            "threshold:  0.44999999999999996 \n",
            " [[ 57   6]\n",
            " [  0 108]]\n",
            "threshold:  0.49999999999999994 \n",
            " [[ 59   4]\n",
            " [  0 108]]\n",
            "threshold:  0.5499999999999999 \n",
            " [[ 61   2]\n",
            " [  1 107]]\n",
            "threshold:  0.6 \n",
            " [[ 62   1]\n",
            " [  1 107]]\n",
            "threshold:  0.65 \n",
            " [[ 62   1]\n",
            " [  5 103]]\n",
            "threshold:  0.7000000000000001 \n",
            " [[62  1]\n",
            " [ 9 99]]\n",
            "threshold:  0.7500000000000001 \n",
            " [[63  0]\n",
            " [ 9 99]]\n",
            "threshold:  0.8000000000000002 \n",
            " [[63  0]\n",
            " [11 97]]\n",
            "threshold:  0.8500000000000002 \n",
            " [[63  0]\n",
            " [16 92]]\n"
          ]
        }
      ]
    },
    {
      "cell_type": "code",
      "source": [
        "y_pred_clf[0:4]"
      ],
      "metadata": {
        "colab": {
          "base_uri": "https://localhost:8080/"
        },
        "id": "mv9RKAt2t6hd",
        "outputId": "ee9babb7-0e30-4784-9a4f-8621bd03a8bb"
      },
      "execution_count": 219,
      "outputs": [
        {
          "output_type": "execute_result",
          "data": {
            "text/plain": [
              "array([1, 0, 0, 1])"
            ]
          },
          "metadata": {},
          "execution_count": 219
        }
      ]
    },
    {
      "cell_type": "code",
      "source": [
        "y_score = neigh3.predict(X_test)\n",
        "fpr, tpr, _ = roc_curve(y_test, y_score)\n",
        "roc_display = RocCurveDisplay(fpr=fpr, tpr=tpr).plot()"
      ],
      "metadata": {
        "colab": {
          "base_uri": "https://localhost:8080/",
          "height": 449
        },
        "id": "uGeNMCu1vmSV",
        "outputId": "4faf1168-9394-4e98-b4d1-cc234f88f237"
      },
      "execution_count": 220,
      "outputs": [
        {
          "output_type": "display_data",
          "data": {
            "text/plain": [
              "<Figure size 640x480 with 1 Axes>"
            ],
            "image/png": "[encoded data removed]"
          },
          "metadata": {}
        }
      ]
    },
    {
      "cell_type": "code",
      "source": [
        "cm = confusion_matrix(y_test, y_pred_neigh3)\n",
        "cm_display = ConfusionMatrixDisplay(cm).plot()"
      ],
      "metadata": {
        "colab": {
          "base_uri": "https://localhost:8080/",
          "height": 449
        },
        "id": "0d1Dj1S9wT-W",
        "outputId": "7a64a3a7-45ea-4a43-be7f-233e7e772c48"
      },
      "execution_count": 221,
      "outputs": [
        {
          "output_type": "display_data",
          "data": {
            "text/plain": [
              "<Figure size 640x480 with 2 Axes>"
            ],
            "image/png": "[encoded data removed]"
          },
          "metadata": {}
        }
      ]
    },
    {
      "cell_type": "code",
      "source": [
        "threshold  = 0.5\n",
        "while threshold  < 1:\n",
        "  y_pred_class = [1 if prob > threshold else 0 for prob in y_pred_clf_proba[:,1]]\n",
        "  print(\"threshold: \", threshold, \"\\n\", confusion_matrix(y_test, y_pred_neigh3))\n",
        "  threshold += 0.05"
      ],
      "metadata": {
        "colab": {
          "base_uri": "https://localhost:8080/"
        },
        "id": "6F3Sx1Srweo7",
        "outputId": "c7fe0f13-fe81-415b-c1ca-a4f30fe8a8cd"
      },
      "execution_count": 222,
      "outputs": [
        {
          "output_type": "stream",
          "name": "stdout",
          "text": [
            "threshold:  0.5 \n",
            " [[ 60   3]\n",
            " [  2 106]]\n",
            "threshold:  0.55 \n",
            " [[ 60   3]\n",
            " [  2 106]]\n",
            "threshold:  0.6000000000000001 \n",
            " [[ 60   3]\n",
            " [  2 106]]\n",
            "threshold:  0.6500000000000001 \n",
            " [[ 60   3]\n",
            " [  2 106]]\n",
            "threshold:  0.7000000000000002 \n",
            " [[ 60   3]\n",
            " [  2 106]]\n",
            "threshold:  0.7500000000000002 \n",
            " [[ 60   3]\n",
            " [  2 106]]\n",
            "threshold:  0.8000000000000003 \n",
            " [[ 60   3]\n",
            " [  2 106]]\n",
            "threshold:  0.8500000000000003 \n",
            " [[ 60   3]\n",
            " [  2 106]]\n",
            "threshold:  0.9000000000000004 \n",
            " [[ 60   3]\n",
            " [  2 106]]\n",
            "threshold:  0.9500000000000004 \n",
            " [[ 60   3]\n",
            " [  2 106]]\n"
          ]
        }
      ]
    },
    {
      "cell_type": "code",
      "source": [
        "print(classification_report(y_test, y_pred_clf, target_names=data.target_names))"
      ],
      "metadata": {
        "colab": {
          "base_uri": "https://localhost:8080/"
        },
        "id": "1T7bzEmfwofc",
        "outputId": "3aa07fc0-b37f-40ac-bc0b-23ad04bfdb57"
      },
      "execution_count": 223,
      "outputs": [
        {
          "output_type": "stream",
          "name": "stdout",
          "text": [
            "              precision    recall  f1-score   support\n",
            "\n",
            "   malignant       1.00      0.94      0.97        63\n",
            "      benign       0.96      1.00      0.98       108\n",
            "\n",
            "    accuracy                           0.98       171\n",
            "   macro avg       0.98      0.97      0.97       171\n",
            "weighted avg       0.98      0.98      0.98       171\n",
            "\n"
          ]
        }
      ]
    },
    {
      "cell_type": "code",
      "source": [
        "from sklearn.model_selection import GridSearchCV\n",
        "\n",
        "param_grid = {'n_neighbors': range(1, 8)}\n",
        "\n",
        "knn = KNeighborsClassifier()\n",
        "\n",
        "grid_search = GridSearchCV(knn, param_grid, cv=5, scoring='accuracy')\n",
        "grid_search.fit(X, y)\n",
        "\n",
        "print(\"Najlepszy parametr:\", grid_search.best_params_)\n"
      ],
      "metadata": {
        "colab": {
          "base_uri": "https://localhost:8080/"
        },
        "id": "M7WZihiyw2Sl",
        "outputId": "d2a3fd01-5604-4c8d-bc54-ef45e8dd72fd"
      },
      "execution_count": 224,
      "outputs": [
        {
          "output_type": "stream",
          "name": "stderr",
          "text": [
            "/usr/local/lib/python3.10/dist-packages/sklearn/neighbors/_classification.py:215: DataConversionWarning: A column-vector y was passed when a 1d array was expected. Please change the shape of y to (n_samples,), for example using ravel().\n",
            "  return self._fit(X, y)\n",
            "/usr/local/lib/python3.10/dist-packages/sklearn/neighbors/_classification.py:215: DataConversionWarning: A column-vector y was passed when a 1d array was expected. Please change the shape of y to (n_samples,), for example using ravel().\n",
            "  return self._fit(X, y)\n",
            "/usr/local/lib/python3.10/dist-packages/sklearn/neighbors/_classification.py:215: DataConversionWarning: A column-vector y was passed when a 1d array was expected. Please change the shape of y to (n_samples,), for example using ravel().\n",
            "  return self._fit(X, y)\n",
            "/usr/local/lib/python3.10/dist-packages/sklearn/neighbors/_classification.py:215: DataConversionWarning: A column-vector y was passed when a 1d array was expected. Please change the shape of y to (n_samples,), for example using ravel().\n",
            "  return self._fit(X, y)\n",
            "/usr/local/lib/python3.10/dist-packages/sklearn/neighbors/_classification.py:215: DataConversionWarning: A column-vector y was passed when a 1d array was expected. Please change the shape of y to (n_samples,), for example using ravel().\n",
            "  return self._fit(X, y)\n",
            "/usr/local/lib/python3.10/dist-packages/sklearn/neighbors/_classification.py:215: DataConversionWarning: A column-vector y was passed when a 1d array was expected. Please change the shape of y to (n_samples,), for example using ravel().\n",
            "  return self._fit(X, y)\n",
            "/usr/local/lib/python3.10/dist-packages/sklearn/neighbors/_classification.py:215: DataConversionWarning: A column-vector y was passed when a 1d array was expected. Please change the shape of y to (n_samples,), for example using ravel().\n",
            "  return self._fit(X, y)\n",
            "/usr/local/lib/python3.10/dist-packages/sklearn/neighbors/_classification.py:215: DataConversionWarning: A column-vector y was passed when a 1d array was expected. Please change the shape of y to (n_samples,), for example using ravel().\n",
            "  return self._fit(X, y)\n",
            "/usr/local/lib/python3.10/dist-packages/sklearn/neighbors/_classification.py:215: DataConversionWarning: A column-vector y was passed when a 1d array was expected. Please change the shape of y to (n_samples,), for example using ravel().\n",
            "  return self._fit(X, y)\n",
            "/usr/local/lib/python3.10/dist-packages/sklearn/neighbors/_classification.py:215: DataConversionWarning: A column-vector y was passed when a 1d array was expected. Please change the shape of y to (n_samples,), for example using ravel().\n",
            "  return self._fit(X, y)\n",
            "/usr/local/lib/python3.10/dist-packages/sklearn/neighbors/_classification.py:215: DataConversionWarning: A column-vector y was passed when a 1d array was expected. Please change the shape of y to (n_samples,), for example using ravel().\n",
            "  return self._fit(X, y)\n",
            "/usr/local/lib/python3.10/dist-packages/sklearn/neighbors/_classification.py:215: DataConversionWarning: A column-vector y was passed when a 1d array was expected. Please change the shape of y to (n_samples,), for example using ravel().\n",
            "  return self._fit(X, y)\n",
            "/usr/local/lib/python3.10/dist-packages/sklearn/neighbors/_classification.py:215: DataConversionWarning: A column-vector y was passed when a 1d array was expected. Please change the shape of y to (n_samples,), for example using ravel().\n",
            "  return self._fit(X, y)\n",
            "/usr/local/lib/python3.10/dist-packages/sklearn/neighbors/_classification.py:215: DataConversionWarning: A column-vector y was passed when a 1d array was expected. Please change the shape of y to (n_samples,), for example using ravel().\n",
            "  return self._fit(X, y)\n",
            "/usr/local/lib/python3.10/dist-packages/sklearn/neighbors/_classification.py:215: DataConversionWarning: A column-vector y was passed when a 1d array was expected. Please change the shape of y to (n_samples,), for example using ravel().\n",
            "  return self._fit(X, y)\n",
            "/usr/local/lib/python3.10/dist-packages/sklearn/neighbors/_classification.py:215: DataConversionWarning: A column-vector y was passed when a 1d array was expected. Please change the shape of y to (n_samples,), for example using ravel().\n",
            "  return self._fit(X, y)\n",
            "/usr/local/lib/python3.10/dist-packages/sklearn/neighbors/_classification.py:215: DataConversionWarning: A column-vector y was passed when a 1d array was expected. Please change the shape of y to (n_samples,), for example using ravel().\n",
            "  return self._fit(X, y)\n",
            "/usr/local/lib/python3.10/dist-packages/sklearn/neighbors/_classification.py:215: DataConversionWarning: A column-vector y was passed when a 1d array was expected. Please change the shape of y to (n_samples,), for example using ravel().\n",
            "  return self._fit(X, y)\n",
            "/usr/local/lib/python3.10/dist-packages/sklearn/neighbors/_classification.py:215: DataConversionWarning: A column-vector y was passed when a 1d array was expected. Please change the shape of y to (n_samples,), for example using ravel().\n",
            "  return self._fit(X, y)\n",
            "/usr/local/lib/python3.10/dist-packages/sklearn/neighbors/_classification.py:215: DataConversionWarning: A column-vector y was passed when a 1d array was expected. Please change the shape of y to (n_samples,), for example using ravel().\n",
            "  return self._fit(X, y)\n",
            "/usr/local/lib/python3.10/dist-packages/sklearn/neighbors/_classification.py:215: DataConversionWarning: A column-vector y was passed when a 1d array was expected. Please change the shape of y to (n_samples,), for example using ravel().\n",
            "  return self._fit(X, y)\n",
            "/usr/local/lib/python3.10/dist-packages/sklearn/neighbors/_classification.py:215: DataConversionWarning: A column-vector y was passed when a 1d array was expected. Please change the shape of y to (n_samples,), for example using ravel().\n",
            "  return self._fit(X, y)\n",
            "/usr/local/lib/python3.10/dist-packages/sklearn/neighbors/_classification.py:215: DataConversionWarning: A column-vector y was passed when a 1d array was expected. Please change the shape of y to (n_samples,), for example using ravel().\n",
            "  return self._fit(X, y)\n",
            "/usr/local/lib/python3.10/dist-packages/sklearn/neighbors/_classification.py:215: DataConversionWarning: A column-vector y was passed when a 1d array was expected. Please change the shape of y to (n_samples,), for example using ravel().\n",
            "  return self._fit(X, y)\n",
            "/usr/local/lib/python3.10/dist-packages/sklearn/neighbors/_classification.py:215: DataConversionWarning: A column-vector y was passed when a 1d array was expected. Please change the shape of y to (n_samples,), for example using ravel().\n",
            "  return self._fit(X, y)\n"
          ]
        },
        {
          "output_type": "stream",
          "name": "stdout",
          "text": [
            "Najlepszy parametr: {'n_neighbors': 5}\n"
          ]
        },
        {
          "output_type": "stream",
          "name": "stderr",
          "text": [
            "/usr/local/lib/python3.10/dist-packages/sklearn/neighbors/_classification.py:215: DataConversionWarning: A column-vector y was passed when a 1d array was expected. Please change the shape of y to (n_samples,), for example using ravel().\n",
            "  return self._fit(X, y)\n",
            "/usr/local/lib/python3.10/dist-packages/sklearn/neighbors/_classification.py:215: DataConversionWarning: A column-vector y was passed when a 1d array was expected. Please change the shape of y to (n_samples,), for example using ravel().\n",
            "  return self._fit(X, y)\n",
            "/usr/local/lib/python3.10/dist-packages/sklearn/neighbors/_classification.py:215: DataConversionWarning: A column-vector y was passed when a 1d array was expected. Please change the shape of y to (n_samples,), for example using ravel().\n",
            "  return self._fit(X, y)\n",
            "/usr/local/lib/python3.10/dist-packages/sklearn/neighbors/_classification.py:215: DataConversionWarning: A column-vector y was passed when a 1d array was expected. Please change the shape of y to (n_samples,), for example using ravel().\n",
            "  return self._fit(X, y)\n",
            "/usr/local/lib/python3.10/dist-packages/sklearn/neighbors/_classification.py:215: DataConversionWarning: A column-vector y was passed when a 1d array was expected. Please change the shape of y to (n_samples,), for example using ravel().\n",
            "  return self._fit(X, y)\n",
            "/usr/local/lib/python3.10/dist-packages/sklearn/neighbors/_classification.py:215: DataConversionWarning: A column-vector y was passed when a 1d array was expected. Please change the shape of y to (n_samples,), for example using ravel().\n",
            "  return self._fit(X, y)\n",
            "/usr/local/lib/python3.10/dist-packages/sklearn/neighbors/_classification.py:215: DataConversionWarning: A column-vector y was passed when a 1d array was expected. Please change the shape of y to (n_samples,), for example using ravel().\n",
            "  return self._fit(X, y)\n",
            "/usr/local/lib/python3.10/dist-packages/sklearn/neighbors/_classification.py:215: DataConversionWarning: A column-vector y was passed when a 1d array was expected. Please change the shape of y to (n_samples,), for example using ravel().\n",
            "  return self._fit(X, y)\n",
            "/usr/local/lib/python3.10/dist-packages/sklearn/neighbors/_classification.py:215: DataConversionWarning: A column-vector y was passed when a 1d array was expected. Please change the shape of y to (n_samples,), for example using ravel().\n",
            "  return self._fit(X, y)\n",
            "/usr/local/lib/python3.10/dist-packages/sklearn/neighbors/_classification.py:215: DataConversionWarning: A column-vector y was passed when a 1d array was expected. Please change the shape of y to (n_samples,), for example using ravel().\n",
            "  return self._fit(X, y)\n",
            "/usr/local/lib/python3.10/dist-packages/sklearn/neighbors/_classification.py:215: DataConversionWarning: A column-vector y was passed when a 1d array was expected. Please change the shape of y to (n_samples,), for example using ravel().\n",
            "  return self._fit(X, y)\n"
          ]
        }
      ]
    },
    {
      "cell_type": "code",
      "source": [],
      "metadata": {
        "id": "qWTW81woxBh-"
      },
      "execution_count": 224,
      "outputs": []
    }
  ]
}