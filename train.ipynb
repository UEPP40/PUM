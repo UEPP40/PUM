import pandas as pd
import numpy as np
from sklearn.preprocessing import LabelEncoder
df = pd.read_csv("train.csv")
df.tail()
df.shape
duplicates = df.duplicated(subset=['ID'])
if duplicates.any():
    print("Znaleziono duplikaty w kolumnie 'ID'.")
    print(df[duplicates])
else:
    print("Brak duplikatów w kolumnie 'ID'.")
df.drop_duplicates(subset="ID", inplace=True)
df['Age'] = df['Age'].str.replace('_','')
types_data = {
    "ID": str,
    "Customer_ID": str,
    "Month": str,
    "Name": str,
    "Age": int,
}

df.astype(types_data)
df['Monthly_Inhand_Salary'] = df['Monthly_Inhand_Salary'].fillna(method='pad')
df['Annual_Income'] = df['Annual_Income'].str.replace('_','')
df['Age'] = df['Age'].str.replace('-','')
df["ID"] = df["ID"].astype(str)
df["Customer_ID"] = df["Customer_ID"].astype(str)
df["Month"] = df["Month"].astype(str)
df["Name"] = df["Name"].astype(str)
df["Age"] = df["Age"].astype(int)
df["Annual_Income"] = df["Annual_Income"].astype(float)
df["Monthly_Inhand_Salary"] = df["Monthly_Inhand_Salary"].astype(float)
df['Age'] = pd.to_numeric(df['Age'], errors='coerce')
     

df["ID"]=df["ID"].fillna('Brak informacji')
df['Customer_ID'] = df['Customer_ID'].fillna('Brak informacji')
df['Month'] = df['Month'].fillna('Brak informacji')
df['Name'] = df['Name'].fillna('Nieznane')
     

df = df.drop(df[df['Age'] > 100].index)
     

df['Num_Bank_Accounts'] = df['Num_Bank_Accounts'].fillna(method='pad')
     

df["Num_Bank_Accounts"] = df["Num_Bank_Accounts"].astype(int)
     

FeaturesToConvert = ['Num_of_Loan', 'Num_of_Delayed_Payment', 'Changed_Credit_Limit', 'Outstanding_Debt', 'Amount_invested_monthly', 'Monthly_Balance']
for feature in FeaturesToConvert:
  df[feature] = df[feature].str.replace('_','')
     

# Zamiana na typ danych typu float
df["Amount_invested_monthly"] = df["Amount_invested_monthly"].astype(float)
df["Monthly_Balance"] = df["Monthly_Balance"].astype(float)
df["Credit_Utilization_Ratio"] = df["Credit_Utilization_Ratio"].astype(float)
df["Outstanding_Debt"] = df["Outstanding_Debt"].astype(float)
df["Num_of_Delayed_Payment"] = df["Num_of_Delayed_Payment"].astype(float)
df["Num_of_Loan"] = df["Num_of_Loan"].astype(float)
df = df.dropna(subset=["Changed_Credit_Limit"])
df = df[df["Changed_Credit_Limit"] != '']
df["Changed_Credit_Limit"] = df["Changed_Credit_Limit"].astype(float)
df["Num_of_Delayed_Payment"] = df["Num_of_Delayed_Payment"].astype(float)
df["Num_of_Loan"] = df["Num_of_Loan"].astype(float)
     

# Zastępowanie wartości pustych
df["SSN"]=df["SSN"].fillna('Brak informacji')
df["SSN"] = df["SSN"].astype(str)
df["Occupation"]=df["Occupation"].fillna('Brak informacji')
df["Occupation"] = df["Occupation"].str.replace('_______','Brak informacji')
df["Occupation"] = df["Occupation"].astype(str)
df['Annual_Income'] = df['Annual_Income'].fillna(method='pad')
df["Annual_Income"] = df["Annual_Income"].astype(float)
df['Num_Bank_Accounts'] = df['Num_Bank_Accounts'].fillna(0)
df["Num_Bank_Accounts"] = df["Num_Bank_Accounts"].astype(float)
df['Num_Credit_Card'] = df['Num_Credit_Card'].fillna(0)
df['Num_Credit_Card'] = df['Num_Credit_Card'].astype(float)
df['Interest_Rate'] = df['Interest_Rate'].fillna(0)
df['Interest_Rate'] = df['Interest_Rate'].astype(float)
df['Num_of_Loan'] = df['Num_of_Loan'].fillna(0)
df["Num_of_Loan"] = df["Num_of_Loan"].astype(float)
df['Type_of_Loan'] = df['Type_of_Loan'].fillna('Nieokreślony')
df["Type_of_Loan"] = df["Type_of_Loan"].astype(str)
df['Delay_from_due_date'] = df['Delay_from_due_date'].fillna(0)
df["Delay_from_due_date"] = df["Delay_from_due_date"].astype(float)
df['Num_of_Delayed_Payment'] = df['Num_of_Delayed_Payment'].fillna(0)
df["Num_of_Delayed_Payment"] = df["Num_of_Delayed_Payment"].astype(float)
df['Changed_Credit_Limit'] = df['Changed_Credit_Limit'].fillna(0)
df["Changed_Credit_Limit"] = df["Changed_Credit_Limit"].astype(float)
df['Num_Credit_Inquiries'] = df['Num_Credit_Inquiries'].fillna(0)
df["Num_Credit_Inquiries"] = df["Num_Credit_Inquiries"].astype(float)
df['Credit_Mix'] = df['Credit_Mix'].fillna('Nieznane')
df["Credit_Mix"] = df["Credit_Mix"].astype(str)
df['Outstanding_Debt'] = df['Outstanding_Debt'].fillna(0)
df["Outstanding_Debt"] = df["Outstanding_Debt"].astype(float)
df['Credit_Utilization_Ratio'] = df['Credit_Utilization_Ratio'].fillna(0)
df["Credit_Utilization_Ratio"] = df["Credit_Utilization_Ratio"].astype(float)
df['Payment_of_Min_Amount'] = df['Payment_of_Min_Amount'].fillna('Brak informacji')
df["Payment_of_Min_Amount"] = df["Payment_of_Min_Amount"].astype(str)
df['Total_EMI_per_month'] = df['Total_EMI_per_month'].fillna(method='pad')
df["Total_EMI_per_month"] = df["Total_EMI_per_month"].astype(float)
df['Amount_invested_monthly'] = df['Amount_invested_monthly'].fillna(method='pad')
df["Amount_invested_monthly"] = df["Amount_invested_monthly"].astype(float)
df['Payment_Behaviour'] = df['Payment_Behaviour'].fillna('Brak informacji')
df["Payment_Behaviour"] = df["Payment_Behaviour"].astype(str)
df['Monthly_Balance'] = df['Monthly_Balance'].fillna(method='pad')
df["Monthly_Balance"] = df["Monthly_Balance"].astype(float)
df['Credit_Score'] = df['Credit_Score'].fillna('Brak informacji')
df["Credit_Score"] = df["Credit_Score"].astype(str)
     

# Funkcja, w której zamieniamy tekst na wartości liczbowe w latach
def convert_to_years(text):
    if isinstance(text, str):
        parts = text.split()
        year = int(parts[0])
        month = int(parts[3])

        credit_age_numeric = year + month / 12
        return credit_age_numeric
    else:
        return text
df["Credit_History_Age"] = df["Credit_History_Age"].apply(lambda x: convert_to_years(x))
     

# Zamiana wartości pustych w Credit_History_Age na 0
df["Credit_History_Age"] = df["Credit_History_Age"].fillna(0)
# Zamiana kolumny Credit_History_Age na typ danych zmiennoprzecinkowych
df["Credit_History_Age"] = df["Credit_History_Age"].astype(float)
df.head(50)
# Wybranie kolumn, w których nie mogą być wartości ujemne
non_negative_values = ['Num_Bank_Accounts', 'Num_of_Loan', 'Delay_from_due_date', 'Num_of_Delayed_Payment', 'Changed_Credit_Limit']
# Usuwanie ujemnych wartości
for column in non_negative_values:
  df = df.drop(df[df[column] < 0].index)
# Sprawdzamy czy ujemne wartości zostały usunięte w sposób prawidłowy
df.describe()
# Wartości odstające dla dochodu rocznego
Aq1 = df.Annual_Income.quantile(0.25)
Aq3 = df.Annual_Income.quantile(0.75)
Aiqr = Aq3 - Aq1

# Wartości odstające dla Num_Bank_Accounts
Nq1 = df.Num_Bank_Accounts.quantile(0.25)
Nq3 = df.Num_Bank_Accounts.quantile(0.75)
Niqr = Nq3 - Nq1

# Wartości odstające dla Num_Credit_Card
NCq1 = df.Num_Credit_Card.quantile(0.25)
NCq3 = df.Num_Credit_Card.quantile(0.75)
NCiqr = NCq3 - NCq1

# Total_EMI_per_month
Tq1 = df.Total_EMI_per_month.quantile(0.25)
Tq3 = df.Total_EMI_per_month.quantile(0.75)
Tiqr = Tq3 - Tq1

# Wartości odstające dla Interest_Rate
INq1 = df.Interest_Rate.quantile(0.25)
INq3 = df.Interest_Rate.quantile(0.75)
INiqr = INq3 - INq1

# Wartości odstające dla Num_of_Loan
NLq1 = df.Num_of_Loan.quantile(0.25)
NLq3 = df.Num_of_Loan.quantile(0.75)
NLiqr = NLq3 - NLq1

# Wartości odstające dla Num_of_Delayed_Payment
NPq1 = df.Num_of_Delayed_Payment.quantile(0.25)
NPq3 = df.Num_of_Delayed_Payment.quantile(0.75)
NPiqr = NPq3 - NPq1

# Usuwanie wartości odstających
df = df.drop(df.loc[df['Annual_Income'] > (Aq3 + 1.5 * Aiqr)].index)
df = df.drop(df.loc[df['Annual_Income'] < (Aq1 - 1.5 * Aiqr)].index)

df = df.drop(df.loc[df['Num_Bank_Accounts'] > (Nq3 + 1.5 * Niqr)].index)
df = df.drop(df.loc[df['Num_Bank_Accounts'] < (Nq1 - 1.5 * Niqr)].index)

df = df.drop(df.loc[df['Num_Credit_Card'] > (NCq3 + 1.5 * NCiqr)].index)
df = df.drop(df.loc[df['Num_Credit_Card'] < (NCq1 - 1.5 * NCiqr)].index)

df = df.drop(df.loc[df['Total_EMI_per_month'] > (Tq3 + 1.5 * Tiqr)].index)
df = df.drop(df.loc[df['Total_EMI_per_month'] < (Tq1 - 1.5 * Tiqr)].index)

df = df.drop(df.loc[df['Interest_Rate'] > (INq3 + 1.5 * INiqr)].index)
df = df.drop(df.loc[df['Interest_Rate'] < (INq1 - 1.5 * INiqr)].index)

df = df.drop(df.loc[df['Num_of_Loan'] > (NLq3 + 1.5 * NLiqr)].index)
df = df.drop(df.loc[df['Num_of_Loan'] < (NLq1 - 1.5 * NLiqr)].index)

df = df.drop(df.loc[df['Num_of_Delayed_Payment'] > (NPq3 + 1.5 * NPiqr)].index)
df = df.drop(df.loc[df['Num_of_Delayed_Payment'] < (NPq1 - 1.5 * NPiqr)].index)

df.shape
# Utworzenie obiektu encodera
le = LabelEncoder()

# Zamiana wartości Credit Score na liczbowe, dzięki labelencodera
df.Credit_Score = le.fit_transform(df.Credit_Score)

# Sprawdzenie czy wszystko się zakodowało poprawnie

print(dict(zip(le.classes_, le.transform(le.classes_))))
     
{'Good': 0, 'Poor': 1, 'Standard': 2}

from sklearn.preprocessing import MinMaxScaler

# Utworzenie instancji scaler'a
scaler = MinMaxScaler()

col_float = ['Age', 'Annual_Income', 'Delay_from_due_date', 'Num_of_Delayed_Payment', 'Outstanding_Debt', 'Credit_History_Age', 'Total_EMI_per_month', 'Monthly_Balance', 'Credit_Score']

for i in col_float:
    df[i] = scaler.fit_transform(df[[i]])
     

import matplotlib.pyplot as plt
import seaborn as sns

# Wybranie kolumn numerycznych
numerical_cols = ['Age', 'Annual_Income', 'Delay_from_due_date', 'Num_of_Delayed_Payment','Outstanding_Debt', 'Credit_History_Age', 'Total_EMI_per_month', 'Monthly_Balance', 'Credit_Score']

# Rysowanie heatmapy korelacji między wybranymi cechami numerycznymi
plt.figure(figsize=(20, 18))
sns.heatmap(df[numerical_cols].corr(), annot=True, linewidths=0.1, cmap='Blues')
plt.title('Numerical Features Correlation')
plt.show()
# Utworzenie DataFrame z rankingiem korelacji cech względem 'Credit_Score_Encoded'
correlation_with_credit_score = pd.DataFrame(abs(df.corr()['Credit_Score'].drop('Credit_Score') * 100).sort_values(ascending=False))

# Wyświetlenie rankingu korelacji w formie wykresu słupkowego
correlation_with_credit_score.plot.bar(figsize=(10, 8), legend=False)
plt.title('Feature Correlation with Credit Score (%)')
plt.show()
     
