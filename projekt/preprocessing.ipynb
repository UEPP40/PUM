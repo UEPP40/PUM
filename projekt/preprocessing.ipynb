{
  "nbformat": 4,
  "nbformat_minor": 0,
  "metadata": {
    "colab": {
      "provenance": []
    },
    "kernelspec": {
      "name": "python3",
      "display_name": "Python 3"
    },
    "language_info": {
      "name": "python"
    }
  },
  "cells": [
    {
      "cell_type": "code",
      "execution_count": null,
      "metadata": {
        "id": "ykhKZeqCLO3i"
      },
      "outputs": [],
      "source": [
        "# link do repozytorium przesłany na maila"
      ]
    }
  ]
}
