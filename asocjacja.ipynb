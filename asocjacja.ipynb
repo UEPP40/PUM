{
  "nbformat": 4,
  "nbformat_minor": 0,
  "metadata": {
    "colab": {
      "provenance": [],
      "authorship_tag": "ABX9TyP6XKrvRIZvZLaRcgSfIzLh",
      "include_colab_link": true
    },
    "kernelspec": {
      "name": "python3",
      "display_name": "Python 3"
    },
    "language_info": {
      "name": "python"
    }
  },
  "cells": [
    {
      "cell_type": "markdown",
      "metadata": {
        "id": "view-in-github",
        "colab_type": "text"
      },
      "source": [
        "<a href=\"https://colab.research.google.com/github/UEPP40/PUM/blob/golon/asocjacja.ipynb\" target=\"_parent\"><img src=\"https://colab.research.google.com/assets/colab-badge.svg\" alt=\"Open In Colab\"/></a>"
      ]
    },
    {
      "cell_type": "code",
      "source": [
        "import pandas as pd\n",
        "from mlxtend.frequent_patterns import apriori, association_rules\n",
        "from mlxtend.preprocessing import TransactionEncoder\n",
        "\n",
        "# Wczytanie danych z pliku CSV\n",
        "df = pd.read_csv('GroceryStoreDataSet.csv', header=None)\n",
        "\n",
        "# Przekształcenie danych do postaci listy list\n",
        "data = df[0].apply(lambda x: x.split(','))\n",
        "\n",
        "# Inicjalizacja i przekształcenie TransactionEncoder\n",
        "te = TransactionEncoder()\n",
        "te_ary = te.fit(data).transform(data)\n",
        "df = pd.DataFrame(te_ary, columns=te.columns_)\n",
        "\n",
        "# Zastosowanie algorytmu Apriori\n",
        "frequent_itemsets = apriori(df, min_support=0.15, use_colnames=True, verbose=1)\n",
        "\n",
        "# Tworzenie reguł stowarzyszeń\n",
        "rules = association_rules(frequent_itemsets, metric=\"lift\", min_threshold=0.05)\n",
        "\n",
        "print(rules)\n",
        "\n",
        "# Sortowanie reguł według ufności\n",
        "rules_sorted_by_confidence = rules.sort_values(by='confidence', ascending=False)\n",
        "\n",
        "# Wypisanie par produktów o największej ufności reguły\n",
        "print(\"Produkty o największej ufności reguły:\")\n",
        "print(rules_sorted_by_confidence[['antecedents', 'consequents', 'confidence']].head())\n",
        "\n",
        "# Sortowanie reguł według liftu\n",
        "rules_sorted_by_lift = rules.sort_values(by='lift', ascending=False)\n",
        "\n",
        "# Wypisanie par produktów o największym lift\n",
        "print(\"\\nProdukty o największym lift:\")\n",
        "print(rules_sorted_by_lift[['antecedents', 'consequents', 'lift']].head())\n"
      ],
      "metadata": {
        "colab": {
          "base_uri": "https://localhost:8080/"
        },
        "id": "ptmbTDHjvLsT",
        "outputId": "79e3bfdd-5923-480a-ea5f-7306ed47fbea"
      },
      "execution_count": 23,
      "outputs": [
        {
          "output_type": "stream",
          "name": "stdout",
          "text": [
            "\rProcessing 90 combinations | Sampling itemset size 2\rProcessing 117 combinations | Sampling itemset size 3\n",
            "     antecedents   consequents  antecedent support  consequent support  \\\n",
            "0      (BISCUIT)       (BREAD)                0.35                0.65   \n",
            "1        (BREAD)     (BISCUIT)                0.65                0.35   \n",
            "2   (CORNFLAKES)     (BISCUIT)                0.30                0.35   \n",
            "3      (BISCUIT)  (CORNFLAKES)                0.35                0.30   \n",
            "4    (BOURNVITA)       (BREAD)                0.20                0.65   \n",
            "5        (BREAD)   (BOURNVITA)                0.65                0.20   \n",
            "6       (COFFEE)       (BREAD)                0.40                0.65   \n",
            "7        (BREAD)      (COFFEE)                0.65                0.40   \n",
            "8        (MAGGI)       (BREAD)                0.25                0.65   \n",
            "9        (BREAD)       (MAGGI)                0.65                0.25   \n",
            "10        (MILK)       (BREAD)                0.25                0.65   \n",
            "11       (BREAD)        (MILK)                0.65                0.25   \n",
            "12       (BREAD)       (SUGER)                0.65                0.30   \n",
            "13       (SUGER)       (BREAD)                0.30                0.65   \n",
            "14         (TEA)       (BREAD)                0.35                0.65   \n",
            "15       (BREAD)         (TEA)                0.65                0.35   \n",
            "16      (COFFEE)        (COCK)                0.40                0.15   \n",
            "17        (COCK)      (COFFEE)                0.15                0.40   \n",
            "18  (CORNFLAKES)      (COFFEE)                0.30                0.40   \n",
            "19      (COFFEE)  (CORNFLAKES)                0.40                0.30   \n",
            "20      (COFFEE)       (SUGER)                0.40                0.30   \n",
            "21       (SUGER)      (COFFEE)                0.30                0.40   \n",
            "22         (TEA)       (MAGGI)                0.35                0.25   \n",
            "23       (MAGGI)         (TEA)                0.25                0.35   \n",
            "\n",
            "    support  confidence      lift  leverage  conviction  zhangs_metric  \n",
            "0      0.20    0.571429  0.879121   -0.0275    0.816667      -0.174603  \n",
            "1      0.20    0.307692  0.879121   -0.0275    0.938889      -0.282051  \n",
            "2      0.15    0.500000  1.428571    0.0450    1.300000       0.428571  \n",
            "3      0.15    0.428571  1.428571    0.0450    1.225000       0.461538  \n",
            "4      0.15    0.750000  1.153846    0.0200    1.400000       0.166667  \n",
            "5      0.15    0.230769  1.153846    0.0200    1.040000       0.380952  \n",
            "6      0.15    0.375000  0.576923   -0.1100    0.560000      -0.550000  \n",
            "7      0.15    0.230769  0.576923   -0.1100    0.780000      -0.676923  \n",
            "8      0.15    0.600000  0.923077   -0.0125    0.875000      -0.100000  \n",
            "9      0.15    0.230769  0.923077   -0.0125    0.975000      -0.192308  \n",
            "10     0.20    0.800000  1.230769    0.0375    1.750000       0.250000  \n",
            "11     0.20    0.307692  1.230769    0.0375    1.083333       0.535714  \n",
            "12     0.20    0.307692  1.025641    0.0050    1.011111       0.071429  \n",
            "13     0.20    0.666667  1.025641    0.0050    1.050000       0.035714  \n",
            "14     0.20    0.571429  0.879121   -0.0275    0.816667      -0.174603  \n",
            "15     0.20    0.307692  0.879121   -0.0275    0.938889      -0.282051  \n",
            "16     0.15    0.375000  2.500000    0.0900    1.360000       1.000000  \n",
            "17     0.15    1.000000  2.500000    0.0900         inf       0.705882  \n",
            "18     0.20    0.666667  1.666667    0.0800    1.800000       0.571429  \n",
            "19     0.20    0.500000  1.666667    0.0800    1.400000       0.666667  \n",
            "20     0.20    0.500000  1.666667    0.0800    1.400000       0.666667  \n",
            "21     0.20    0.666667  1.666667    0.0800    1.800000       0.571429  \n",
            "22     0.20    0.571429  2.285714    0.1125    1.750000       0.865385  \n",
            "23     0.20    0.800000  2.285714    0.1125    3.250000       0.750000  \n"
          ]
        },
        {
          "output_type": "stream",
          "name": "stderr",
          "text": [
            "/usr/local/lib/python3.10/dist-packages/ipykernel/ipkernel.py:283: DeprecationWarning: `should_run_async` will not call `transform_cell` automatically in the future. Please pass the result to `transformed_cell` argument and any exception that happen during thetransform in `preprocessing_exc_tuple` in IPython 7.17 and above.\n",
            "  and should_run_async(code)\n"
          ]
        }
      ]
    },
    {
      "cell_type": "code",
      "source": [],
      "metadata": {
        "id": "P18WDIG0xifr"
      },
      "execution_count": null,
      "outputs": []
    }
  ]
}