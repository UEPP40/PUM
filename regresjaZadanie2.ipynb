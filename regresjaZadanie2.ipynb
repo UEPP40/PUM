{
  "nbformat": 4,
  "nbformat_minor": 0,
  "metadata": {
    "colab": {
      "provenance": [],
      "authorship_tag": "ABX9TyPDMKdrM/kcJJHm1ak3M2G8",
      "include_colab_link": true
    },
    "kernelspec": {
      "name": "python3",
      "display_name": "Python 3"
    },
    "language_info": {
      "name": "python"
    }
  },
  "cells": [
    {
      "cell_type": "markdown",
      "metadata": {
        "id": "view-in-github",
        "colab_type": "text"
      },
      "source": [
        "<a href=\"https://colab.research.google.com/github/UEPP40/PUM/blob/ostrowska/regresjaZadanie2.ipynb\" target=\"_parent\"><img src=\"https://colab.research.google.com/assets/colab-badge.svg\" alt=\"Open In Colab\"/></a>"
      ]
    },
    {
      "cell_type": "code",
      "execution_count": 13,
      "metadata": {
        "colab": {
          "base_uri": "https://localhost:8080/"
        },
        "id": "OkFwKgo6-ra_",
        "outputId": "8a3c0c3c-0964-415b-c27e-b348831508cd"
      },
      "outputs": [
        {
          "output_type": "stream",
          "name": "stdout",
          "text": [
            "(20640, 8) (20640,)\n",
            "['MedInc', 'HouseAge', 'AveRooms', 'AveBedrms', 'Population', 'AveOccup', 'Latitude', 'Longitude']\n",
            "   MedInc  HouseAge  AveRooms  AveBedrms  Population  AveOccup  Latitude  \\\n",
            "0  8.3252      41.0  6.984127   1.023810       322.0  2.555556     37.88   \n",
            "1  8.3014      21.0  6.238137   0.971880      2401.0  2.109842     37.86   \n",
            "2  7.2574      52.0  8.288136   1.073446       496.0  2.802260     37.85   \n",
            "3  5.6431      52.0  5.817352   1.073059       558.0  2.547945     37.85   \n",
            "4  3.8462      52.0  6.281853   1.081081       565.0  2.181467     37.85   \n",
            "\n",
            "   Longitude  \n",
            "0    -122.23  \n",
            "1    -122.22  \n",
            "2    -122.24  \n",
            "3    -122.25  \n",
            "4    -122.25  \n"
          ]
        }
      ],
      "source": [
        "import pandas as pd\n",
        "from numpy import mean, std, absolute\n",
        "from matplotlib import pyplot\n",
        "\n",
        "from sklearn.datasets import fetch_california_housing\n",
        "\n",
        "from sklearn.model_selection import cross_val_score, KFold, RepeatedKFold\n",
        "\n",
        "from sklearn.pipeline import Pipeline\n",
        "from sklearn.linear_model import LinearRegression, HuberRegressor\n",
        "\n",
        "from sklearn.compose import TransformedTargetRegressor\n",
        "\n",
        "from sklearn.preprocessing import PolynomialFeatures, MinMaxScaler\n",
        "\n",
        "from sklearn.metrics import mean_squared_error\n",
        "\n",
        "housing = fetch_california_housing()\n",
        "print(housing.data.shape, housing.target.shape)\n",
        "print(housing.feature_names)\n",
        "X = pd.DataFrame(data = housing.data, columns = housing.feature_names)\n",
        "\n",
        "print(X.head())\n",
        "y=housing.target"
      ]
    },
    {
      "cell_type": "code",
      "source": [
        "from sklearn.model_selection import train_test_split\n",
        "\n",
        "X_train, X_test, y_train, y_test = train_test_split(X, y, test_size=0.2, random_state=42)"
      ],
      "metadata": {
        "id": "Cc8XsiIL-sLP"
      },
      "execution_count": 14,
      "outputs": []
    },
    {
      "cell_type": "code",
      "source": [
        "#liniowa\n",
        "model1 = Pipeline([\n",
        "    ('scaler', MinMaxScaler()),\n",
        "    ('regressor', LinearRegression())\n",
        "])\n",
        "\n",
        "model1.fit(X_train, y_train)\n",
        "\n",
        "score1 = model1.score(X_test, y_test)\n",
        "print(\"Wynik liniowa:\", score1)"
      ],
      "metadata": {
        "colab": {
          "base_uri": "https://localhost:8080/"
        },
        "id": "iu5Dat_r-uHW",
        "outputId": "f84061f6-66e0-45a9-f8cb-4dcf53aa4813"
      },
      "execution_count": 15,
      "outputs": [
        {
          "output_type": "stream",
          "name": "stdout",
          "text": [
            "Wynik liniowa: 0.5757877060324512\n"
          ]
        }
      ]
    },
    {
      "cell_type": "code",
      "source": [
        "#Wielomianowa 2 Stopnia\n",
        "model2 = Pipeline([\n",
        "    ('poly', PolynomialFeatures(degree=2)),\n",
        "    ('linear', LinearRegression())\n",
        "])\n",
        "\n",
        "# Dopasowanie modelu do danych treningowych\n",
        "model2.fit(X_train, y_train)\n",
        "\n",
        "# Ocena modelu na danych testowych\n",
        "score2 = model2.score(X_test, y_test)\n",
        "print(\"Wynik 2:\", score2)"
      ],
      "metadata": {
        "colab": {
          "base_uri": "https://localhost:8080/"
        },
        "id": "vUOpSTDc-wN1",
        "outputId": "2f75a3e6-2404-4faf-95be-e05106862e45"
      },
      "execution_count": 16,
      "outputs": [
        {
          "output_type": "stream",
          "name": "stdout",
          "text": [
            "Wynik 2: 0.6456819713278688\n"
          ]
        }
      ]
    },
    {
      "cell_type": "code",
      "source": [
        "#Wielomianowa 3 Stopnia\n",
        "model3 = Pipeline([\n",
        "    ('poly', PolynomialFeatures(degree=3)),\n",
        "    ('linear', LinearRegression())\n",
        "])\n",
        "\n",
        "model3.fit(X_train, y_train)\n",
        "\n",
        "score3 = model3.score(X_test, y_test)\n",
        "print(\"Wynik 3:\", score3)\n",
        "\n"
      ],
      "metadata": {
        "colab": {
          "base_uri": "https://localhost:8080/"
        },
        "id": "_SnAtyN8-xeH",
        "outputId": "b619b306-63e9-4df0-bcdc-c16601014525"
      },
      "execution_count": 20,
      "outputs": [
        {
          "output_type": "stream",
          "name": "stdout",
          "text": [
            "Wynik 3: -17.395619727030436\n"
          ]
        }
      ]
    },
    {
      "cell_type": "code",
      "source": [
        "#wykres\n",
        "pyplot.boxplot([score1,score2,score3], showmeans=True)\n",
        "pyplot.show()"
      ],
      "metadata": {
        "colab": {
          "base_uri": "https://localhost:8080/",
          "height": 430
        },
        "id": "0tvOHZwr-y8v",
        "outputId": "ced38af5-659e-4bf1-f104-59c26f787e72"
      },
      "execution_count": 19,
      "outputs": [
        {
          "output_type": "display_data",
          "data": {
            "text/plain": [
              "<Figure size 640x480 with 1 Axes>"
            ],
            "image/png": "[encoded data removed]"
          },
          "metadata": {}
        }
      ]
    }
  ]
}