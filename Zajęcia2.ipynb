{
  "nbformat": 4,
  "nbformat_minor": 0,
  "metadata": {
    "colab": {
      "provenance": [],
      "authorship_tag": "ABX9TyNP7IRzwdAuZtKKvXgoJOML",
      "include_colab_link": true
    },
    "kernelspec": {
      "name": "python3",
      "display_name": "Python 3"
    },
    "language_info": {
      "name": "python"
    }
  },
  "cells": [
    {
      "cell_type": "markdown",
      "metadata": {
        "id": "view-in-github",
        "colab_type": "text"
      },
      "source": [
        "<a href=\"https://colab.research.google.com/github/UEPP40/PUM/blob/wilmanski/Zaj%C4%99cia2.ipynb\" target=\"_parent\"><img src=\"https://colab.research.google.com/assets/colab-badge.svg\" alt=\"Open In Colab\"/></a>"
      ]
    },
    {
      "cell_type": "code",
      "execution_count": 10,
      "metadata": {
        "id": "X-InyWdag6dX"
      },
      "outputs": [],
      "source": [
        "import pandas as pd"
      ]
    },
    {
      "cell_type": "code",
      "source": [
        "df = pd.read_csv('train.csv')"
      ],
      "metadata": {
        "colab": {
          "base_uri": "https://localhost:8080/"
        },
        "id": "25rIm7qTlOgb",
        "outputId": "955847ca-6ee8-46f1-eb2a-8ebdf5545720"
      },
      "execution_count": 11,
      "outputs": [
        {
          "output_type": "stream",
          "name": "stderr",
          "text": [
            "<ipython-input-11-cd75a77447fc>:1: DtypeWarning: Columns (26) have mixed types. Specify dtype option on import or set low_memory=False.\n",
            "  df = pd.read_csv('train.csv')\n"
          ]
        }
      ]
    },
    {
      "cell_type": "markdown",
      "source": [
        "Wymiary"
      ],
      "metadata": {
        "id": "c8KXSWv6oDNO"
      }
    },
    {
      "cell_type": "code",
      "source": [
        "print(df.shape)"
      ],
      "metadata": {
        "colab": {
          "base_uri": "https://localhost:8080/"
        },
        "id": "WBF0Rmxolgq1",
        "outputId": "a6aa5c7e-314f-4d7a-db85-bdc599969158"
      },
      "execution_count": 13,
      "outputs": [
        {
          "output_type": "stream",
          "name": "stdout",
          "text": [
            "(100000, 28)\n"
          ]
        }
      ]
    },
    {
      "cell_type": "markdown",
      "source": [
        "Wyrzucenie duplikatów"
      ],
      "metadata": {
        "id": "afDyvWpPoKI0"
      }
    },
    {
      "cell_type": "code",
      "source": [
        "print(df.drop_duplicates())"
      ],
      "metadata": {
        "colab": {
          "base_uri": "https://localhost:8080/"
        },
        "id": "yfxAFdP9l8ef",
        "outputId": "6e6daf5c-644a-429b-a415-1debe8e2414a"
      },
      "execution_count": 9,
      "outputs": [
        {
          "output_type": "stream",
          "name": "stdout",
          "text": [
            "            ID Customer_ID     Month           Name   Age          SSN  \\\n",
            "0       0x1602   CUS_0xd40   January  Aaron Maashoh    23  821-00-0265   \n",
            "1       0x1603   CUS_0xd40  February  Aaron Maashoh    23  821-00-0265   \n",
            "2       0x1604   CUS_0xd40     March  Aaron Maashoh  -500  821-00-0265   \n",
            "3       0x1605   CUS_0xd40     April  Aaron Maashoh    23  821-00-0265   \n",
            "4       0x1606   CUS_0xd40       May  Aaron Maashoh    23  821-00-0265   \n",
            "...        ...         ...       ...            ...   ...          ...   \n",
            "53925  0x151f7  CUS_0x4460      June         Daveyx    54  909-64-1351   \n",
            "53926  0x151f8  CUS_0x4460      July         Daveyx    54  909-64-1351   \n",
            "53927  0x151f9  CUS_0x4460    August         Daveyx    54  909-64-1351   \n",
            "53928  0x151fe  CUS_0xc0b3   January            NaN    44  973-12-0733   \n",
            "53929  0x151ff  CUS_0xc0b3  February         Grantg    44  973-12-0733   \n",
            "\n",
            "       Occupation Annual_Income  Monthly_Inhand_Salary  Num_Bank_Accounts  \\\n",
            "0       Scientist      19114.12            1824.843333                  3   \n",
            "1       Scientist      19114.12                    NaN                  3   \n",
            "2       Scientist      19114.12                    NaN                  3   \n",
            "3       Scientist      19114.12                    NaN                  3   \n",
            "4       Scientist      19114.12            1824.843333                  3   \n",
            "...           ...           ...                    ...                ...   \n",
            "53925  Accountant     14566.335            1105.861250                  4   \n",
            "53926  Accountant     14566.335            1105.861250                  4   \n",
            "53927  Accountant     14566.335            1105.861250                  4   \n",
            "53928   Scientist     15990.655            1244.554583                  7   \n",
            "53929   Scientist     15990.655            1244.554583                  7   \n",
            "\n",
            "       ...  Credit_Mix  Outstanding_Debt Credit_Utilization_Ratio  \\\n",
            "0      ...           _            809.98                26.822620   \n",
            "1      ...        Good            809.98                31.944960   \n",
            "2      ...        Good            809.98                28.609352   \n",
            "3      ...        Good            809.98                31.377862   \n",
            "4      ...        Good            809.98                24.797347   \n",
            "...    ...         ...               ...                      ...   \n",
            "53925  ...        Good            765.44                31.960446   \n",
            "53926  ...        Good            765.44                27.172551   \n",
            "53927  ...        Good            765.44                40.035934   \n",
            "53928  ...    Standard           1214.53                34.070673   \n",
            "53929  ...    Standard           1214.53                32.892446   \n",
            "\n",
            "           Credit_History_Age  Payment_of_Min_Amount Total_EMI_per_month  \\\n",
            "0       22 Years and 1 Months                     No           49.574949   \n",
            "1                         NaN                     No           49.574949   \n",
            "2       22 Years and 3 Months                     No           49.574949   \n",
            "3       22 Years and 4 Months                     No           49.574949   \n",
            "4       22 Years and 5 Months                     No           49.574949   \n",
            "...                       ...                    ...                 ...   \n",
            "53925   30 Years and 8 Months                     No           19.082335   \n",
            "53926   30 Years and 9 Months                     No           19.082335   \n",
            "53927  30 Years and 10 Months                     No           19.082335   \n",
            "53928   14 Years and 1 Months                    Yes           53.918469   \n",
            "53929   14 Years and 2 Months                    Yes           53.918469   \n",
            "\n",
            "      Amount_invested_monthly                 Payment_Behaviour  \\\n",
            "0           80.41529543900253   High_spent_Small_value_payments   \n",
            "1          118.28022162236736    Low_spent_Large_value_payments   \n",
            "2             81.699521264648   Low_spent_Medium_value_payments   \n",
            "3           199.4580743910713    Low_spent_Small_value_payments   \n",
            "4          41.420153086217326  High_spent_Medium_value_payments   \n",
            "...                       ...                               ...   \n",
            "53925       99.56582008186192    Low_spent_Small_value_payments   \n",
            "53926               __10000__  High_spent_Medium_value_payments   \n",
            "53927       59.85784043265989   High_spent_Small_value_payments   \n",
            "53928       80.85327108647152    Low_spent_Small_value_payments   \n",
            "53929      34.569232631010735   Low_spent_Medium_value_payments   \n",
            "\n",
            "          Monthly_Balance Credit_Score  \n",
            "0      312.49408867943663         Good  \n",
            "1      284.62916249607184         Good  \n",
            "2       331.2098628537912         Good  \n",
            "3      223.45130972736786         Good  \n",
            "4      341.48923103222177         Good  \n",
            "...                   ...          ...  \n",
            "53925  281.93797036208235     Standard  \n",
            "53926  299.32727448191736         Good  \n",
            "53927  291.64595001128447         Good  \n",
            "53928   279.6837183154413     Standard  \n",
            "53929  315.96775677090204           St  \n",
            "\n",
            "[53930 rows x 28 columns]\n"
          ]
        }
      ]
    },
    {
      "cell_type": "code",
      "source": [
        "df = df.astype({col: 'string' for col in df.select_dtypes(['object']).columns})\n",
        "print(df.dtypes)"
      ],
      "metadata": {
        "colab": {
          "base_uri": "https://localhost:8080/"
        },
        "id": "0-0cICNwmZZh",
        "outputId": "6961122c-2903-475e-c87f-bc036e77df94"
      },
      "execution_count": 14,
      "outputs": [
        {
          "output_type": "stream",
          "name": "stdout",
          "text": [
            "ID                           string\n",
            "Customer_ID                  string\n",
            "Month                        string\n",
            "Name                         string\n",
            "Age                          string\n",
            "SSN                          string\n",
            "Occupation                   string\n",
            "Annual_Income                string\n",
            "Monthly_Inhand_Salary       float64\n",
            "Num_Bank_Accounts             int64\n",
            "Num_Credit_Card               int64\n",
            "Interest_Rate                 int64\n",
            "Num_of_Loan                  string\n",
            "Type_of_Loan                 string\n",
            "Delay_from_due_date           int64\n",
            "Num_of_Delayed_Payment       string\n",
            "Changed_Credit_Limit         string\n",
            "Num_Credit_Inquiries        float64\n",
            "Credit_Mix                   string\n",
            "Outstanding_Debt             string\n",
            "Credit_Utilization_Ratio    float64\n",
            "Credit_History_Age           string\n",
            "Payment_of_Min_Amount        string\n",
            "Total_EMI_per_month         float64\n",
            "Amount_invested_monthly      string\n",
            "Payment_Behaviour            string\n",
            "Monthly_Balance              string\n",
            "Credit_Score                 string\n",
            "dtype: object\n"
          ]
        }
      ]
    }
  ]
}