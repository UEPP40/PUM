{
  "nbformat": 4,
  "nbformat_minor": 0,
  "metadata": {
    "colab": {
      "provenance": [],
      "authorship_tag": "ABX9TyOEUR6L2jEqIxpbdCLDcE5c",
      "include_colab_link": true
    },
    "kernelspec": {
      "name": "python3",
      "display_name": "Python 3"
    },
    "language_info": {
      "name": "python"
    }
  },
  "cells": [
    {
      "cell_type": "markdown",
      "metadata": {
        "id": "view-in-github",
        "colab_type": "text"
      },
      "source": [
        "<a href=\"https://colab.research.google.com/github/UEPP40/PUM/blob/kaperob/BigData.ipynb\" target=\"_parent\"><img src=\"https://colab.research.google.com/assets/colab-badge.svg\" alt=\"Open In Colab\"/></a>"
      ]
    },
    {
      "cell_type": "code",
      "execution_count": 4,
      "metadata": {
        "id": "pNcCO41ez4cB"
      },
      "outputs": [],
      "source": [
        "!apt-get install openjdk-8-jdk-headless -qq > /dev/null"
      ]
    },
    {
      "cell_type": "code",
      "source": [
        "!wget -q http://www.apache.org/dist/spark/spark-3.5.1/spark-3.5.1-bin-hadoop3.tgz"
      ],
      "metadata": {
        "id": "pE3BABvR5Yly"
      },
      "execution_count": 5,
      "outputs": []
    },
    {
      "cell_type": "code",
      "source": [
        "!tar xf spark-3.5.1-bin-hadoop3.tgz"
      ],
      "metadata": {
        "id": "8DfOhJ-Y5c-h"
      },
      "execution_count": 6,
      "outputs": []
    },
    {
      "cell_type": "code",
      "source": [
        "!pip install -q findspark==1.3.0"
      ],
      "metadata": {
        "id": "CyRgdCRT5fka"
      },
      "execution_count": 7,
      "outputs": []
    },
    {
      "cell_type": "code",
      "source": [
        "!pip install -q pyspark==3.5.1"
      ],
      "metadata": {
        "colab": {
          "base_uri": "https://localhost:8080/"
        },
        "id": "IddZdVfT5mFd",
        "outputId": "7b9ac5dd-a707-4e0d-dc04-10a36c5aa8ac"
      },
      "execution_count": 8,
      "outputs": [
        {
          "output_type": "stream",
          "name": "stdout",
          "text": [
            "\u001b[2K     \u001b[90m━━━━━━━━━━━━━━━━━━━━━━━━━━━━━━━━━━━━━━━━\u001b[0m \u001b[32m317.0/317.0 MB\u001b[0m \u001b[31m4.2 MB/s\u001b[0m eta \u001b[36m0:00:00\u001b[0m\n",
            "\u001b[?25h  Preparing metadata (setup.py) ... \u001b[?25l\u001b[?25hdone\n",
            "  Building wheel for pyspark (setup.py) ... \u001b[?25l\u001b[?25hdone\n"
          ]
        }
      ]
    },
    {
      "cell_type": "code",
      "source": [
        "import os\n",
        "os.environ[\"JAVA_HOME\"] = \"/usr/lib/jvm/java-8-openjdk-amd64\"\n",
        "os.environ[\"SPARK_HOME\"] = \"/content/spark-3.5.1-bin-hadoop3\""
      ],
      "metadata": {
        "id": "MPzl0BpT51GD"
      },
      "execution_count": 9,
      "outputs": []
    },
    {
      "cell_type": "code",
      "source": [
        "import findspark\n",
        "import pyspark\n",
        "from pyspark.sql import SparkSession\n",
        "from pyspark import SparkContext\n",
        "import pandas as pd\n",
        "\n",
        "findspark.init(\"spark-3.5.1-bin-hadoop3\")\n",
        "sc = pyspark.SparkContext('local[*]')\n",
        "spark = SparkSession.builder.appName('abc').getOrCreate()"
      ],
      "metadata": {
        "id": "Ie5qrAT853Jr"
      },
      "execution_count": 10,
      "outputs": []
    },
    {
      "cell_type": "code",
      "source": [
        "\n",
        "from pyspark.sql.types import *\n",
        "import pyspark.sql.functions as f"
      ],
      "metadata": {
        "id": "6KqOWXTZUlxs"
      },
      "execution_count": 11,
      "outputs": []
    },
    {
      "cell_type": "code",
      "source": [
        "#zadanie 4\n",
        "schema = StructType([\n",
        "    StructField(\"Imie\", StringType(), True),\n",
        "    StructField(\"Nazwisko\", StringType(), True),\n",
        "    StructField(\"stawka godzinowa w dolarach\", FloatType(), True),\n",
        "    StructField(\"rok urodzenia\", IntegerType(), True)\n",
        "])\n",
        "\n",
        "df = spark.read.csv(\"pracownicy.csv\", header=True, schema=schema, sep=\";\")"
      ],
      "metadata": {
        "id": "agIYj8idREWd"
      },
      "execution_count": 13,
      "outputs": []
    },
    {
      "cell_type": "code",
      "source": [
        "average_hourly_rate_by_birth_year = df.groupBy(\"rok urodzenia\").agg(f.avg(\"stawka godzinowa w dolarach\").alias(\"średnia stawka godzinowa\"))\n",
        "\n",
        "average_hourly_rate_by_birth_year.show()"
      ],
      "metadata": {
        "colab": {
          "base_uri": "https://localhost:8080/"
        },
        "id": "W2EALtawU569",
        "outputId": "c6248007-0bdd-45ed-e3f0-4360880e7fd2"
      },
      "execution_count": 14,
      "outputs": [
        {
          "output_type": "stream",
          "name": "stdout",
          "text": [
            "+-------------+------------------------+\n",
            "|rok urodzenia|średnia stawka godzinowa|\n",
            "+-------------+------------------------+\n",
            "|         1955|                    67.0|\n",
            "|         1944|                    78.0|\n",
            "|         1965|                    57.0|\n",
            "|         2020|                    12.6|\n",
            "|         1999|                    23.0|\n",
            "+-------------+------------------------+\n",
            "\n"
          ]
        }
      ]
    },
    {
      "cell_type": "code",
      "source": [
        "\n",
        "df_with_avg_hourly_rate = df.join(average_hourly_rate_by_birth_year, \"rok urodzenia\", \"left\")\n",
        "\n",
        "df_with_avg_hourly_rate.show()"
      ],
      "metadata": {
        "colab": {
          "base_uri": "https://localhost:8080/"
        },
        "id": "CSwR-xG7Vq_y",
        "outputId": "1146855a-68c5-4466-efa1-05045b9ed19a"
      },
      "execution_count": 15,
      "outputs": [
        {
          "output_type": "stream",
          "name": "stdout",
          "text": [
            "+-------------+---------+---------+---------------------------+------------------------+\n",
            "|rok urodzenia|     Imie| Nazwisko|stawka godzinowa w dolarach|średnia stawka godzinowa|\n",
            "+-------------+---------+---------+---------------------------+------------------------+\n",
            "|         1944|   Maciej| Kowalski|                       78.0|                    78.0|\n",
            "|         1965|  Michael| Kowalski|                       57.0|                    57.0|\n",
            "|         1999|      Ewa| Kowalska|                       23.0|                    23.0|\n",
            "|         2020|     John|    Nowak|                       12.0|                    12.6|\n",
            "|         1955|    Steve| Stevniak|                       67.0|                    67.0|\n",
            "|         1955|     Bill|    Gates|                       67.0|                    67.0|\n",
            "|         1999|     Jan | Kowalski|                       23.0|                    23.0|\n",
            "|         2020|     John|    Nowak|                       12.0|                    12.6|\n",
            "|         1955|    Steve| Stevniak|                       67.0|                    67.0|\n",
            "|         1955|     Bill|    Gates|                       67.0|                    67.0|\n",
            "|         1999|      Jan| Kowalski|                       23.0|                    23.0|\n",
            "|         2020|     John|    Nowak|                       12.0|                    12.6|\n",
            "|         1955|    Steve|Stevniak |                       67.0|                    67.0|\n",
            "|         1955|Magdalena|    Gates|                       67.0|                    67.0|\n",
            "|         1944|     John|    Nowak|                       78.0|                    78.0|\n",
            "|         1965|    Steve| Stevniak|                       57.0|                    57.0|\n",
            "|         1999|     Bill|    Gates|                       23.0|                    23.0|\n",
            "|         2020|      Jan| Kowalski|                       12.0|                    12.6|\n",
            "|         1955|Michalina|    Nowak|                       67.0|                    67.0|\n",
            "|         1955|    Steve| Stevniak|                       67.0|                    67.0|\n",
            "+-------------+---------+---------+---------------------------+------------------------+\n",
            "only showing top 20 rows\n",
            "\n"
          ]
        }
      ]
    },
    {
      "cell_type": "code",
      "source": [
        "df_sorted = df_with_avg_hourly_rate.orderBy(\"rok urodzenia\", ascending = False)\n",
        "df_sorted.show()"
      ],
      "metadata": {
        "colab": {
          "base_uri": "https://localhost:8080/"
        },
        "id": "u9lNmQAJXM9Z",
        "outputId": "dc57baf4-6cef-434d-b2b3-087bf59e06e4"
      },
      "execution_count": 16,
      "outputs": [
        {
          "output_type": "stream",
          "name": "stdout",
          "text": [
            "+-------------+---------+---------+---------------------------+------------------------+\n",
            "|rok urodzenia|     Imie| Nazwisko|stawka godzinowa w dolarach|średnia stawka godzinowa|\n",
            "+-------------+---------+---------+---------------------------+------------------------+\n",
            "|         2020|     John|    Nowak|                       12.0|                    12.6|\n",
            "|         2020|     John|    Nowak|                       12.0|                    12.6|\n",
            "|         2020|     John|    Nowak|                       12.0|                    12.6|\n",
            "|         2020|      Jan| Kowalski|                       12.0|                    12.6|\n",
            "|         2020|     John|    Nowak|                       15.0|                    12.6|\n",
            "|         1999|      Ewa| Kowalska|                       23.0|                    23.0|\n",
            "|         1999|     Jan | Kowalski|                       23.0|                    23.0|\n",
            "|         1999|      Jan| Kowalski|                       23.0|                    23.0|\n",
            "|         1999|     Bill|    Gates|                       23.0|                    23.0|\n",
            "|         1999|      Jan| Kowalski|                       23.0|                    23.0|\n",
            "|         1965|  Michael| Kowalski|                       57.0|                    57.0|\n",
            "|         1965|    Steve| Stevniak|                       57.0|                    57.0|\n",
            "|         1955|    Steve| Stevniak|                       67.0|                    67.0|\n",
            "|         1955|     Bill|    Gates|                       67.0|                    67.0|\n",
            "|         1955|    Steve| Stevniak|                       67.0|                    67.0|\n",
            "|         1955|     Bill|    Gates|                       67.0|                    67.0|\n",
            "|         1955|    Steve|Stevniak |                       67.0|                    67.0|\n",
            "|         1955|Magdalena|    Gates|                       67.0|                    67.0|\n",
            "|         1955|Michalina|    Nowak|                       67.0|                    67.0|\n",
            "|         1955|    Steve| Stevniak|                       67.0|                    67.0|\n",
            "+-------------+---------+---------+---------------------------+------------------------+\n",
            "only showing top 20 rows\n",
            "\n"
          ]
        }
      ]
    },
    {
      "cell_type": "code",
      "source": [
        "df_sorted.toPandas().to_csv('avg_salary_per_hour.csv', index = False)"
      ],
      "metadata": {
        "id": "cbc11mTyXy5T"
      },
      "execution_count": 18,
      "outputs": []
    },
    {
      "cell_type": "code",
      "source": [
        "\n",
        "!unzip pagecounts.zip"
      ],
      "metadata": {
        "colab": {
          "base_uri": "https://localhost:8080/"
        },
        "id": "1RoQojn7Dy76",
        "outputId": "b51fd4f7-e953-491b-c22c-0424e99bccbc"
      },
      "execution_count": 19,
      "outputs": [
        {
          "output_type": "stream",
          "name": "stdout",
          "text": [
            "Archive:  pagecounts.zip\n",
            "   creating: pagecounts/\n",
            "  inflating: pagecounts/part-00001   \n",
            "  inflating: pagecounts/part-00053   \n"
          ]
        }
      ]
    },
    {
      "cell_type": "code",
      "source": [
        "!head pagecounts/part-00001"
      ],
      "metadata": {
        "colab": {
          "base_uri": "https://localhost:8080/"
        },
        "id": "_HXXw7vlEmBU",
        "outputId": "1acca159-7ad4-46b7-e2c1-ca42d207cb76"
      },
      "execution_count": 20,
      "outputs": [
        {
          "output_type": "stream",
          "name": "stdout",
          "text": [
            "20090505-000000 aa Main_Page 2 9980\n",
            "20090505-000000 ab %D0%90%D0%B8%D0%BD%D1%82%D0%B5%D1%80%D0%BD%D0%B5%D1%82 1 465\n",
            "20090505-000000 ab %D0%98%D1%85%D0%B0%D0%B4%D0%BE%D1%83_%D0%B0%D0%B4%D0%B0%D2%9F%D1%8C%D0%B0 1 16086\n",
            "20090505-000000 af.b Tuisblad 1 36236\n",
            "20090505-000000 af.d Tuisblad 4 189738\n",
            "20090505-000000 af.q Tuisblad 2 56143\n",
            "20090505-000000 af Afrika 1 46833\n",
            "20090505-000000 af Afrikaans 2 53577\n",
            "20090505-000000 af Australi%C3%AB 1 132432\n",
            "20090505-000000 af Barack_Obama 1 23368\n"
          ]
        }
      ]
    },
    {
      "cell_type": "code",
      "source": [
        "!head pagecounts/part-00053"
      ],
      "metadata": {
        "colab": {
          "base_uri": "https://localhost:8080/"
        },
        "id": "47WwHG-2Eqcd",
        "outputId": "48dc3541-4311-4181-a204-a701d95fa9f8"
      },
      "execution_count": 21,
      "outputs": [
        {
          "output_type": "stream",
          "name": "stdout",
          "text": [
            "20090507-040000 aa Main_Page 7 51309\n",
            "20090507-040000 ab %D0%90%D0%B8%D0%BD%D1%82%D0%B5%D1%80%D0%BD%D0%B5%D1%82 1 34069\n",
            "20090507-040000 ab %D0%98%D1%85%D0%B0%D0%B4%D0%BE%D1%83_%D0%B0%D0%B4%D0%B0%D2%9F%D1%8C%D0%B0 3 65763\n",
            "20090507-040000 af.b Tuisblad 1 36231\n",
            "20090507-040000 af.d Tuisblad 1 58960\n",
            "20090507-040000 af.q Tuisblad 1 44265\n",
            "20090507-040000 af Afrikaans 3 80838\n",
            "20090507-040000 af Australi%C3%AB 1 132433\n",
            "20090507-040000 af Ensiklopedie 2 60584\n",
            "20090507-040000 af Internet 1 48816\n"
          ]
        }
      ]
    },
    {
      "cell_type": "code",
      "source": [
        "from pyspark.sql.functions import split\n",
        "from pyspark.sql.functions import col, sum, substring"
      ],
      "metadata": {
        "id": "Nl67wMifR7lg"
      },
      "execution_count": 68,
      "outputs": []
    },
    {
      "cell_type": "code",
      "source": [
        "#zadanie 5 DF\n",
        "df = spark.read.text(\"pagecounts/*\")"
      ],
      "metadata": {
        "id": "LutRm2iFGVj_"
      },
      "execution_count": 62,
      "outputs": []
    },
    {
      "cell_type": "code",
      "source": [
        "# Split the lines by space and create separate columns\n",
        "split_df = df.withColumn(\"value\", split(df.value, ' '))\n",
        "\n",
        "# Select individual columns from the split values\n",
        "columns = [split_df['value'][i].alias(f\"col{i+1}\") for i in range(len(split_df.select(\"value\").first()[0]))]\n",
        "df_split = split_df.select(*columns)"
      ],
      "metadata": {
        "id": "Qvc0GhcfOCXH"
      },
      "execution_count": 65,
      "outputs": []
    },
    {
      "cell_type": "code",
      "source": [
        "df_split.show()"
      ],
      "metadata": {
        "colab": {
          "base_uri": "https://localhost:8080/"
        },
        "id": "F5pvbyEbR9lg",
        "outputId": "0487dd03-4700-4119-8109-4216c7620698"
      },
      "execution_count": 66,
      "outputs": [
        {
          "output_type": "stream",
          "name": "stdout",
          "text": [
            "+---------------+----+--------------------+----+------+\n",
            "|           col1|col2|                col3|col4|  col5|\n",
            "+---------------+----+--------------------+----+------+\n",
            "|20090505-000000|  aa|           Main_Page|   2|  9980|\n",
            "|20090505-000000|  ab|%D0%90%D0%B8%D0%B...|   1|   465|\n",
            "|20090505-000000|  ab|%D0%98%D1%85%D0%B...|   1| 16086|\n",
            "|20090505-000000|af.b|            Tuisblad|   1| 36236|\n",
            "|20090505-000000|af.d|            Tuisblad|   4|189738|\n",
            "|20090505-000000|af.q|            Tuisblad|   2| 56143|\n",
            "|20090505-000000|  af|              Afrika|   1| 46833|\n",
            "|20090505-000000|  af|           Afrikaans|   2| 53577|\n",
            "|20090505-000000|  af|      Australi%C3%AB|   1|132432|\n",
            "|20090505-000000|  af|        Barack_Obama|   1| 23368|\n",
            "|20090505-000000|  af|           Duitsland|   2| 91024|\n",
            "|20090505-000000|  af|        Johannesburg|   1| 17488|\n",
            "|20090505-000000|  af|Special:RecentCha...|   1|  1174|\n",
            "|20090505-000000|  af|Spesiaal:Onlangse...|   3|101681|\n",
            "|20090505-000000|  af|Spesiaal:RecentCh...|   2|  2248|\n",
            "|20090505-000000|  af|         Suid-Afrika|   1| 30698|\n",
            "|20090505-000000|  af|            Tuisblad|  14|155257|\n",
            "|20090505-000000|  af|           Varkgriep|   4| 42236|\n",
            "|20090505-000000|  af|           Wikipedia|   2| 32796|\n",
            "|20090505-000000|  af|Wikipedia:Gebruik...|   2| 24062|\n",
            "+---------------+----+--------------------+----+------+\n",
            "only showing top 20 rows\n",
            "\n"
          ]
        }
      ]
    },
    {
      "cell_type": "code",
      "source": [
        "filtered_df = df_split.filter(col(\"col2\") == 'en')"
      ],
      "metadata": {
        "id": "0Gfzi1yJSnyZ"
      },
      "execution_count": 69,
      "outputs": []
    },
    {
      "cell_type": "code",
      "source": [
        "filtered_df = filtered_df.withColumn(\"day\", substring(col(\"col1\"), 1, 8))"
      ],
      "metadata": {
        "id": "FChVgYXFSxH0"
      },
      "execution_count": 70,
      "outputs": []
    },
    {
      "cell_type": "code",
      "source": [
        "filtered_df = filtered_df.withColumn(\"col5\", col(\"col5\").cast(LongType()))"
      ],
      "metadata": {
        "id": "csjoajm6TMNf"
      },
      "execution_count": 73,
      "outputs": []
    },
    {
      "cell_type": "code",
      "source": [
        "filtered_df.show()"
      ],
      "metadata": {
        "colab": {
          "base_uri": "https://localhost:8080/"
        },
        "id": "f7laPyMnUcWu",
        "outputId": "1f83a3f6-382a-4f6c-d7d1-add3e48aef97"
      },
      "execution_count": 76,
      "outputs": [
        {
          "output_type": "stream",
          "name": "stdout",
          "text": [
            "+---------------+----+--------------------+----+------+--------+\n",
            "|           col1|col2|                col3|col4|  col5|     day|\n",
            "+---------------+----+--------------------+----+------+--------+\n",
            "|20090505-000000|  en|                   !|   4|170494|20090505|\n",
            "|20090505-000000|  en|                 !!!|  21|306957|20090505|\n",
            "|20090505-000000|  en|      !!!Fuck_You!!!|   9| 87025|20090505|\n",
            "|20090505-000000|  en|!!!Fuck_You!!!_an...|   2| 17960|20090505|\n",
            "|20090505-000000|  en|         !!!_(album)|   4| 16665|20090505|\n",
            "|20090505-000000|  en|        !Kung_people|   8| 75641|20090505|\n",
            "|20090505-000000|  en|          !T.O.O.H.!|   2| 34121|20090505|\n",
            "|20090505-000000|  en|          !important| 161|987385|20090505|\n",
            "|20090505-000000|  en|                   $|   2| 46050|20090505|\n",
            "|20090505-000000|  en|                  $1|  11| 54820|20090505|\n",
            "|20090505-000000|  en|  $100,000_Challenge|   5| 22202|20090505|\n",
            "|20090505-000000|  en|     $25,000_Pyramid|  17|483855|20090505|\n",
            "|20090505-000000|  en|               $9.99|   1|  9508|20090505|\n",
            "|20090505-000000|  en|         $pringfield|   4| 54550|20090505|\n",
            "|20090505-000000|  en|$pringfield_(Or,_...|   4|119887|20090505|\n",
            "|20090505-000000|  en|       %20%28band%29|  52| 56606|20090505|\n",
            "|20090505-000000|  en|           %20(band)|  11| 12073|20090505|\n",
            "|20090505-000000|  en|                 %22|   8|212708|20090505|\n",
            "|20090505-000000|  en|        %22-cides%22|  43|371862|20090505|\n",
            "|20090505-000000|  en|%22Big%22_Jim_Martin|   2| 29802|20090505|\n",
            "+---------------+----+--------------------+----+------+--------+\n",
            "only showing top 20 rows\n",
            "\n"
          ]
        }
      ]
    },
    {
      "cell_type": "code",
      "source": [
        "result_df = filtered_df.groupBy(\"day\").agg(sum(col(\"col5\")).alias(\"total_views\"))"
      ],
      "metadata": {
        "id": "s3oxor0xS0Tl"
      },
      "execution_count": 74,
      "outputs": []
    },
    {
      "cell_type": "code",
      "source": [
        "result_df.show()"
      ],
      "metadata": {
        "colab": {
          "base_uri": "https://localhost:8080/"
        },
        "id": "Bn6jhjDRS24H",
        "outputId": "a3a057e8-ebd8-490d-d540-b9fa9fa492ea"
      },
      "execution_count": 75,
      "outputs": [
        {
          "output_type": "stream",
          "name": "stdout",
          "text": [
            "+--------+------------+\n",
            "|     day| total_views|\n",
            "+--------+------------+\n",
            "|20090505|164579353011|\n",
            "|20090507|144784324959|\n",
            "+--------+------------+\n",
            "\n"
          ]
        }
      ]
    },
    {
      "cell_type": "code",
      "source": [
        "#zadanie 5 RDD\n",
        "rdd = sc.textFile(\"pagecounts/*\")"
      ],
      "metadata": {
        "id": "DBlrTCt9VgEh"
      },
      "execution_count": 77,
      "outputs": []
    },
    {
      "cell_type": "code",
      "source": [
        "split_rdd = rdd.map(lambda line: line.split(' '))"
      ],
      "metadata": {
        "id": "0HKICHITVjui"
      },
      "execution_count": 78,
      "outputs": []
    },
    {
      "cell_type": "code",
      "source": [
        "filtered_rdd = split_rdd.filter(lambda cols: cols[1] == 'en')"
      ],
      "metadata": {
        "id": "CAL4ZDALVmXz"
      },
      "execution_count": 79,
      "outputs": []
    },
    {
      "cell_type": "code",
      "source": [
        "result_rdd = mapped_rdd.reduceByKey(lambda x, y: x + y)"
      ],
      "metadata": {
        "id": "PhZtTJWnVsvK"
      },
      "execution_count": 81,
      "outputs": []
    },
    {
      "cell_type": "code",
      "source": [
        "result = result_rdd.collect()"
      ],
      "metadata": {
        "id": "rrF3LEVEVvGM"
      },
      "execution_count": 82,
      "outputs": []
    },
    {
      "cell_type": "code",
      "source": [
        "for day, total_views in result:\n",
        "    print(f\"Day: {day}, Total Views: {total_views}\")"
      ],
      "metadata": {
        "colab": {
          "base_uri": "https://localhost:8080/"
        },
        "id": "pKRxxmstVw8f",
        "outputId": "fa9974de-d688-4247-ab1e-42322f3f4ad6"
      },
      "execution_count": 83,
      "outputs": [
        {
          "output_type": "stream",
          "name": "stdout",
          "text": [
            "Day: 20090505, Total Views: 164579353011\n",
            "Day: 20090507, Total Views: 144784324959\n"
          ]
        }
      ]
    }
  ]
}