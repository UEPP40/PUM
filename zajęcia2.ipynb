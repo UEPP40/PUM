# Do wyświetlania kolorowego tekstu w konsoli
import pandas as pd
import numpy as np
from termcolor import colored

# Wczytaj dane
df = pd.read_csv("train.csv")


# Lista cech do przekształcenia na liczby
FeaturesToConvert = ['Age', 'Annual_Income', 'Num_of_Loan', 'Num_of_Delayed_Payment',
                     'Changed_Credit_Limit', 'Outstanding_Debt', 'Amount_invested_monthly',
                     'Monthly_Balance']

# Sprawdź unikalne wartości cech
for feature in FeaturesToConvert:
    uniques = df[feature].unique()
    print('Feature:\n', colored(feature, attrs=['bold']), '\n', uniques, '\n', '--'*40, '\n')

# Usuń zbędne znaki '-’ , '_'
for feature in FeaturesToConvert:
    df[feature] = df[feature].str.strip('-_’')

# Zastąp puste kolumny wartościami NaN
for feature in FeaturesToConvert:
    df[feature] = df[feature].replace({'': np.nan})

# Zmień typ zmiennych ilościowych na float64
for feature in FeaturesToConvert:
    df[feature] = df[feature].astype('float64')

for feature in FeaturesToConvert:
    mean_value = df[feature].mean()  # Oblicz średnią dla każdej kolumny
    df[feature].fillna(mean_value, inplace=True)  # Uzupełnij braki danych średnią
print("Wymiary ramki danych:", df.shape)
print(df.head())
for feature in FeaturesToConvert:
    # Oblicz średnią dla każdej kolumny
    mean_value = df[feature].mean()
    # Uzupełnij braki danych średnią
    df[feature].fillna(mean_value, inplace=True)
     
