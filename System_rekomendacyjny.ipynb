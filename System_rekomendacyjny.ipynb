{
  "nbformat": 4,
  "nbformat_minor": 0,
  "metadata": {
    "colab": {
      "provenance": [],
      "authorship_tag": "ABX9TyPjVVjzFdLHBCfyTydkz1ZS",
      "include_colab_link": true
    },
    "kernelspec": {
      "name": "python3",
      "display_name": "Python 3"
    },
    "language_info": {
      "name": "python"
    }
  },
  "cells": [
    {
      "cell_type": "markdown",
      "metadata": {
        "id": "view-in-github",
        "colab_type": "text"
      },
      "source": [
        "<a href=\"https://colab.research.google.com/github/UEPP40/PUM/blob/paziewski/System_rekomendacyjny.ipynb\" target=\"_parent\"><img src=\"https://colab.research.google.com/assets/colab-badge.svg\" alt=\"Open In Colab\"/></a>"
      ]
    },
    {
      "cell_type": "markdown",
      "source": [
        "Przegląd danych:\n",
        "\n",
        "1.Podaj liczbę filmów dla dzieci\n",
        "\n",
        "2.Pokaż rozkład ocen filmów z 1995\n",
        "\n",
        "3.Podaj średnią ocen wszystkich filmów akcji oraz 3 filmy najwyżej oceniane"
      ],
      "metadata": {
        "id": "k-1pmq8QeVie"
      }
    },
    {
      "cell_type": "code",
      "source": [
        "import pandas as pd\n",
        "import numpy as np\n",
        "from scipy.sparse import csr_matrix\n",
        "from sklearn.neighbors import NearestNeighbors\n",
        "import matplotlib.pyplot as plt"
      ],
      "metadata": {
        "id": "AYioNxSoAN53"
      },
      "execution_count": 17,
      "outputs": []
    },
    {
      "cell_type": "code",
      "execution_count": 24,
      "metadata": {
        "colab": {
          "base_uri": "https://localhost:8080/",
          "height": 1000
        },
        "id": "e-blAa8BeUQ6",
        "outputId": "bff2311f-6c52-4d00-9041-14dbd4eb27b6"
      },
      "outputs": [
        {
          "output_type": "stream",
          "name": "stdout",
          "text": [
            "   userId  movieId  rating  timestamp\n",
            "0       1        1     4.0  964982703\n",
            "1       1        3     4.0  964981247\n",
            "2       1        6     4.0  964982224\n",
            "3       1       47     5.0  964983815\n",
            "4       1       50     5.0  964982931\n",
            "5       1       70     3.0  964982400\n",
            "6       1      101     5.0  964980868\n",
            "7       1      110     4.0  964982176\n",
            "8       1      151     5.0  964984041\n",
            "9       1      157     5.0  964984100\n",
            "   movieId                               title  \\\n",
            "0        1                    Toy Story (1995)   \n",
            "1        2                      Jumanji (1995)   \n",
            "2        3             Grumpier Old Men (1995)   \n",
            "3        4            Waiting to Exhale (1995)   \n",
            "4        5  Father of the Bride Part II (1995)   \n",
            "5        6                         Heat (1995)   \n",
            "6        7                      Sabrina (1995)   \n",
            "7        8                 Tom and Huck (1995)   \n",
            "8        9                 Sudden Death (1995)   \n",
            "9       10                    GoldenEye (1995)   \n",
            "\n",
            "                                        genres  \n",
            "0  Adventure|Animation|Children|Comedy|Fantasy  \n",
            "1                   Adventure|Children|Fantasy  \n",
            "2                               Comedy|Romance  \n",
            "3                         Comedy|Drama|Romance  \n",
            "4                                       Comedy  \n",
            "5                        Action|Crime|Thriller  \n",
            "6                               Comedy|Romance  \n",
            "7                           Adventure|Children  \n",
            "8                                       Action  \n",
            "9                    Action|Adventure|Thriller  \n",
            "   userId  movieId  rating   timestamp             title  \\\n",
            "0       1        1     4.0   964982703  Toy Story (1995)   \n",
            "1       5        1     4.0   847434962  Toy Story (1995)   \n",
            "2       7        1     4.5  1106635946  Toy Story (1995)   \n",
            "3      15        1     2.5  1510577970  Toy Story (1995)   \n",
            "4      17        1     4.5  1305696483  Toy Story (1995)   \n",
            "5      18        1     3.5  1455209816  Toy Story (1995)   \n",
            "6      19        1     4.0   965705637  Toy Story (1995)   \n",
            "7      21        1     3.5  1407618878  Toy Story (1995)   \n",
            "8      27        1     3.0   962685262  Toy Story (1995)   \n",
            "9      31        1     5.0   850466616  Toy Story (1995)   \n",
            "\n",
            "                                        genres  \n",
            "0  Adventure|Animation|Children|Comedy|Fantasy  \n",
            "1  Adventure|Animation|Children|Comedy|Fantasy  \n",
            "2  Adventure|Animation|Children|Comedy|Fantasy  \n",
            "3  Adventure|Animation|Children|Comedy|Fantasy  \n",
            "4  Adventure|Animation|Children|Comedy|Fantasy  \n",
            "5  Adventure|Animation|Children|Comedy|Fantasy  \n",
            "6  Adventure|Animation|Children|Comedy|Fantasy  \n",
            "7  Adventure|Animation|Children|Comedy|Fantasy  \n",
            "8  Adventure|Animation|Children|Comedy|Fantasy  \n",
            "9  Adventure|Animation|Children|Comedy|Fantasy  \n",
            "Liczba filmów dla dzieci 9208\n",
            "Rozkład ocen filmów z 1995 roku:\n",
            "count    6144.000000\n",
            "mean        3.443848\n",
            "std         1.059566\n",
            "min         0.500000\n",
            "25%         3.000000\n",
            "50%         3.500000\n",
            "75%         4.000000\n",
            "max         5.000000\n",
            "Name: rating, dtype: float64\n"
          ]
        },
        {
          "output_type": "display_data",
          "data": {
            "text/plain": [
              "<Figure size 500x250 with 1 Axes>"
            ],
            "image/png": "[encoded data removed]"
          },
          "metadata": {}
        },
        {
          "output_type": "stream",
          "name": "stdout",
          "text": [
            "Średnia ocena filmów akcji: 3.447984331646809\n",
            "3 najwyżej oceniane filmy akcji:\n",
            "title\n",
            "Knock Off (1998)                                                      5.0\n",
            "On the Other Side of the Tracks (De l'autre côté du périph) (2012)    5.0\n",
            "Sonatine (Sonachine) (1993)                                           5.0\n",
            "Name: rating, dtype: float64\n"
          ]
        }
      ],
      "source": [
        "ratings = pd.read_csv('https://s3-us-west-2.amazonaws.com/recommender-tutorial/ratings.csv')\n",
        "movies = pd.read_csv('https://s3-us-west-2.amazonaws.com/recommender-tutorial/movies.csv')\n",
        "print(ratings.head(10))\n",
        "print(movies.head(10))\n",
        "\n",
        "\n",
        "# Połącz zestawy danych na podstawie movieId\n",
        "data_merged = pd.merge(ratings, movies, on='movieId')\n",
        "print(data_merged.head(10))\n",
        "\n",
        "# Zadanie 1: Liczba filmów dla dzieci\n",
        "children_movies_count = movies[movies['genres'].str.contains('Children')].shape[0]\n",
        "print(\"Liczba filmów dla dzieci: \" + str(children_movies_count))\n",
        "\n",
        "# Zadanie 2: Rozkład ocen filmów z 1995 roku\n",
        "movies_1995 = movies[movies['title'].str.contains('\\(1995\\)')]\n",
        "data_1995 = data_merged[data_merged['movieId'].isin(movies_1995['movieId'])]\n",
        "print(f\"Rozkład ocen filmów z 1995 roku:\\n{data_1995['rating'].describe()}\")\n",
        "\n",
        "# Wykres rozkładu ocen filmów z 1995 roku\n",
        "plt.figure(figsize=(5, 2.5))\n",
        "plt.hist(data_1995['rating'], bins=10, edgecolor='black')\n",
        "plt.title('Rozkład ocen filmów z 1995 roku')\n",
        "plt.xlabel('Ocena')\n",
        "plt.ylabel('Liczba wystąpień')\n",
        "plt.grid(True)\n",
        "plt.show()\n",
        "\n",
        "# Zadanie 3: Średnia ocena wszystkich filmów akcji oraz 3 najwyżej oceniane filmy\n",
        "action_movies = movies[movies['genres'].str.contains('Action')]\n",
        "data_action = data_merged[data_merged['movieId'].isin(action_movies['movieId'])]\n",
        "average_action_rating = data_action['rating'].mean()\n",
        "top_3_action_movies = data_action.groupby('title')['rating'].mean().sort_values(ascending=False).head(3)\n",
        "\n",
        "print(f\"Średnia ocena filmów akcji: {average_action_rating}\")\n",
        "print(\"3 najwyżej oceniane filmy akcji:\")\n",
        "print(top_3_action_movies)"
      ]
    },
    {
      "cell_type": "markdown",
      "source": [
        "Zbuduj system rekomendacyjny używając biblioteki SURPRISE\n",
        "\n",
        "• Użyj dwóch algorytmów SVD oraz kNN w wersji wylosowanej\n",
        "\n",
        "• Użyj optymalizacji parametrów metodą GRID search do wyboru liczby sąsiadów z wylosowanego przedziału\n",
        "\n",
        "• Użyj walidacji krzyżowej dla ostatecznego modelu\n",
        "\n",
        "• Porównaj oba algorytmy pod względem czasu uczenia oraz wylosowanych błędów"
      ],
      "metadata": {
        "id": "TChsjpLTor9f"
      }
    },
    {
      "cell_type": "code",
      "source": [
        "!pip install surprise\n",
        "# importing relevant libraries\n",
        "from surprise.model_selection import cross_validate, GridSearchCV\n",
        "from surprise.prediction_algorithms import SVD, KNNBasic, KNNBaseline\n",
        "from surprise import Dataset\n",
        "from surprise import Reader\n",
        "from surprise import accuracy, Dataset, SVD\n",
        "from surprise.model_selection import train_test_split\n",
        "import time"
      ],
      "metadata": {
        "colab": {
          "base_uri": "https://localhost:8080/"
        },
        "id": "HMHm1A1Ko3KS",
        "outputId": "2987c8fb-91ea-43e6-c276-6ee626aba0e9"
      },
      "execution_count": 27,
      "outputs": [
        {
          "output_type": "stream",
          "name": "stdout",
          "text": [
            "Requirement already satisfied: surprise in /usr/local/lib/python3.10/dist-packages (0.1)\n",
            "Requirement already satisfied: scikit-surprise in /usr/local/lib/python3.10/dist-packages (from surprise) (1.1.4)\n",
            "Requirement already satisfied: joblib>=1.2.0 in /usr/local/lib/python3.10/dist-packages (from scikit-surprise->surprise) (1.4.2)\n",
            "Requirement already satisfied: numpy>=1.19.5 in /usr/local/lib/python3.10/dist-packages (from scikit-surprise->surprise) (1.25.2)\n",
            "Requirement already satisfied: scipy>=1.6.0 in /usr/local/lib/python3.10/dist-packages (from scikit-surprise->surprise) (1.11.4)\n"
          ]
        }
      ]
    },
    {
      "cell_type": "code",
      "source": [
        "# Wczytaj dane\n",
        "ratings = pd.read_csv('https://s3-us-west-2.amazonaws.com/recommender-tutorial/ratings.csv')\n",
        "movies = pd.read_csv('https://s3-us-west-2.amazonaws.com/recommender-tutorial/movies.csv')\n",
        "\n",
        "# Przygotowanie danych\n",
        "min_rating = ratings.rating.min()\n",
        "max_rating = ratings.rating.max()\n",
        "reader = Reader(rating_scale=(min_rating, max_rating))\n",
        "data = Dataset.load_from_df(ratings[['userId', 'movieId', 'rating']], reader)\n",
        "trainset, testset = train_test_split(data, test_size=0.25)\n",
        "\n",
        "# Algorytm SVD\n",
        "start_time_svd_train = time.time()\n",
        "algo_svd = SVD()\n",
        "algo_svd.fit(trainset)\n",
        "predictions_svd = algo_svd.test(testset)\n",
        "svd_rmse = accuracy.rmse(predictions_svd)\n",
        "end_time_svd_train = time.time()\n",
        "\n",
        "param_grid_svd = {'n_factors': [10, 20, 50, 100], 'lr_all': [0.002, 0.005], 'reg_all': [0.02, 0.1]}\n",
        "gs_svd = GridSearchCV(SVD, param_grid_svd, measures=['rmse'], cv=3, n_jobs=-1)\n",
        "start_time_svd = time.time()\n",
        "gs_svd.fit(data)\n",
        "end_time_svd = time.time()\n",
        "\n",
        "# Algorytm kNN\n",
        "start_time_knn_train = time.time()\n",
        "algo_knn = KNNBasic()\n",
        "algo_knn.fit(trainset)\n",
        "predictions_knn = algo_knn.test(testset)\n",
        "knn_rmse = accuracy.rmse(predictions_knn)\n",
        "end_time_knn_train = time.time()\n",
        "\n",
        "param_grid_knn = {'k': [20, 30, 40, 50], 'sim_options': {'name': ['pearson_baseline', 'cosine'], 'user_based': [False]}}\n",
        "gs_knn = GridSearchCV(KNNBasic, param_grid_knn, measures=['rmse'], cv=3, n_jobs=-1)\n",
        "start_time_knn = time.time()\n",
        "gs_knn.fit(data)\n",
        "end_time_knn = time.time()\n",
        "\n",
        "# Najlepsze parametry dla SVD i kNN\n",
        "best_svd_params = gs_svd.best_params['rmse']\n",
        "best_knn_params = gs_knn.best_params['rmse']\n",
        "\n",
        "# Walidacja krzyżowa dla najlepszych modeli\n",
        "best_svd = gs_svd.best_estimator['rmse']\n",
        "best_knn = gs_knn.best_estimator['rmse']\n",
        "\n",
        "# Walidacja krzyżowa dla kNN\n",
        "start_time_knn_cross = time.time()\n",
        "cv_results_knn = cross_validate(best_knn, data, measures=['rmse'], cv=5, verbose=True)\n",
        "end_time_knn_cross = time.time()\n",
        "\n",
        "# Walidacja krzyżowa dla SVD\n",
        "start_time_svd_cross = time.time()\n",
        "cv_results_svd = cross_validate(best_svd, data, measures=['rmse'], cv=5, verbose=True)\n",
        "end_time_svd_cross = time.time()\n",
        "\n",
        "# Wyniki\n",
        "print(f\"\\nNajlepsze parametry SVD: {best_svd_params}\")\n",
        "print(f\"Najlepsze parametry kNN: {best_knn_params}\")\n",
        "print(f\"\\nCzas trenowania SVD: {end_time_svd_train - start_time_svd_train:.2f} sekund\")\n",
        "print(f\"Czas trenowania kNN: {end_time_knn_train - start_time_knn_train:.2f} sekund\")\n",
        "print(f\"\\nCzas optymalizacji hiperparametrów SVD: {end_time_svd - start_time_svd:.2f} sekund\")\n",
        "print(f\"Czas optymalizacji hiperparametrów kNN: {end_time_knn - start_time_knn:.2f} sekund\")\n",
        "print(f\"\\nCzas walidacji krzyżowej SVD: {end_time_svd_cross - start_time_svd_cross:.2f} sekund\")\n",
        "print(f\"Czas walidacji krzyżowej kNN: {end_time_knn_cross - start_time_knn_cross:.2f} sekund\")\n",
        "\n",
        "print(\"\\nWyniki walidacji krzyżowej dla SVD:\")\n",
        "for key, value in cv_results_svd.items():\n",
        "    print(f\"{key}: {value}\")\n",
        "\n",
        "print(\"\\nWyniki walidacji krzyżowej dla kNN:\")\n",
        "for key, value in cv_results_knn.items():\n",
        "    print(f\"{key}: {value}\")"
      ],
      "metadata": {
        "colab": {
          "base_uri": "https://localhost:8080/"
        },
        "id": "BUejdjH9KLiu",
        "outputId": "4fd31e06-9352-4c3f-cafa-b1b44b51909f"
      },
      "execution_count": 28,
      "outputs": [
        {
          "output_type": "stream",
          "name": "stdout",
          "text": [
            "RMSE: 0.8750\n",
            "Computing the msd similarity matrix...\n",
            "Done computing similarity matrix.\n",
            "RMSE: 0.9553\n",
            "Estimating biases using als...\n",
            "Computing the pearson_baseline similarity matrix...\n",
            "Done computing similarity matrix.\n",
            "Estimating biases using als...\n",
            "Computing the pearson_baseline similarity matrix...\n",
            "Done computing similarity matrix.\n",
            "Estimating biases using als...\n",
            "Computing the pearson_baseline similarity matrix...\n",
            "Done computing similarity matrix.\n",
            "Estimating biases using als...\n",
            "Computing the pearson_baseline similarity matrix...\n",
            "Done computing similarity matrix.\n",
            "Estimating biases using als...\n",
            "Computing the pearson_baseline similarity matrix...\n",
            "Done computing similarity matrix.\n",
            "Evaluating RMSE of algorithm KNNBasic on 5 split(s).\n",
            "\n",
            "                  Fold 1  Fold 2  Fold 3  Fold 4  Fold 5  Mean    Std     \n",
            "RMSE (testset)    0.9199  0.9130  0.9139  0.9165  0.9187  0.9164  0.0027  \n",
            "Fit time          7.94    8.74    8.87    8.71    12.38   9.33    1.56    \n",
            "Test time         10.27   9.91    9.92    15.33   8.52    10.79   2.35    \n",
            "Evaluating RMSE of algorithm SVD on 5 split(s).\n",
            "\n",
            "                  Fold 1  Fold 2  Fold 3  Fold 4  Fold 5  Mean    Std     \n",
            "RMSE (testset)    0.8703  0.8723  0.8694  0.8713  0.8635  0.8693  0.0031  \n",
            "Fit time          0.85    1.16    0.92    0.77    0.79    0.90    0.14    \n",
            "Test time         0.43    0.20    0.12    0.11    0.12    0.20    0.12    \n",
            "\n",
            "Najlepsze parametry SVD: {'n_factors': 10, 'lr_all': 0.005, 'reg_all': 0.02}\n",
            "Najlepsze parametry kNN: {'k': 50, 'sim_options': {'name': 'pearson_baseline', 'user_based': False}}\n",
            "\n",
            "Czas trenowania SVD: 8.03 sekund\n",
            "Czas trenowania kNN: 2.50 sekund\n",
            "\n",
            "Czas optymalizacji hiperparametrów SVD: 60.52 sekund\n",
            "Czas optymalizacji hiperparametrów kNN: 316.16 sekund\n",
            "\n",
            "Czas walidacji krzyżowej SVD: 6.75 sekund\n",
            "Czas walidacji krzyżowej kNN: 101.65 sekund\n",
            "\n",
            "Wyniki walidacji krzyżowej dla SVD:\n",
            "test_rmse: [0.87028094 0.87227964 0.86942197 0.8712602  0.86349223]\n",
            "fit_time: (0.854658842086792, 1.1642522811889648, 0.9249274730682373, 0.7746446132659912, 0.7928612232208252)\n",
            "test_time: (0.42885446548461914, 0.2047872543334961, 0.11586546897888184, 0.11344194412231445, 0.12094473838806152)\n",
            "\n",
            "Wyniki walidacji krzyżowej dla kNN:\n",
            "test_rmse: [0.91989056 0.91298527 0.91390777 0.91646997 0.91871588]\n",
            "fit_time: (7.936638593673706, 8.736886024475098, 8.86996579170227, 8.709265232086182, 12.38161015510559)\n",
            "test_time: (10.274438619613647, 9.906505346298218, 9.921283721923828, 15.329190969467163, 8.522629737854004)\n"
          ]
        }
      ]
    }
  ]
}