{
  "nbformat": 4,
  "nbformat_minor": 0,
  "metadata": {
    "colab": {
      "provenance": []
    },
    "kernelspec": {
      "name": "python3",
      "display_name": "Python 3"
    },
    "language_info": {
      "name": "python"
    }
  },
  "cells": [
    {
      "cell_type": "code",
      "source": [
        "import numpy as np\n",
        "import pandas as pd\n",
        "from mlxtend.frequent_patterns import apriori, association_rules\n",
        "from mlxtend.preprocessing import TransactionEncoder\n",
        "import matplotlib.pyplot as plt\n",
        "from sklearn.neighbors import NearestNeighbors\n",
        "\n",
        "ratings = pd.read_csv('https://s3-us-west-2.amazonaws.com/recommender-tutorial/ratings.csv')\n",
        "movies = pd.read_csv('https://s3-us-west-2.amazonaws.com/recommender-tutorial/movies.csv')\n",
        "\n",
        "total_ratings = ratings.shape[0]\n",
        "total_movies = movies['movieId'].nunique()\n",
        "total_users = ratings['userId'].nunique()\n",
        "avg_ratings_per_user = total_ratings / total_users\n",
        "avg_ratings_per_movie = total_ratings / total_movies\n",
        "ratings_distribution = ratings['rating'].value_counts().sort_index()\n",
        "\n",
        "print(\"Liczba ocen:\", total_ratings)\n",
        "print(\"Liczba filmów:\", total_movies)\n",
        "print(\"Liczba użytkowników:\", total_users)\n",
        "print(\"Średnia liczba ocen na użytkownika:\", avg_ratings_per_user)\n",
        "print(\"Średnia liczba ocen na film:\", avg_ratings_per_movie)\n",
        "print(\"Ratings Distribution:\\n\", ratings_distribution)\n"
      ],
      "metadata": {
        "colab": {
          "base_uri": "https://localhost:8080/"
        },
        "id": "7crxeRQk9Dx8",
        "outputId": "78596e3e-a47d-41eb-f699-83489d208db6"
      },
      "execution_count": 1,
      "outputs": [
        {
          "output_type": "stream",
          "name": "stdout",
          "text": [
            "Liczba ocen: 100836\n",
            "Liczba filmów: 9742\n",
            "Liczba użytkowników: 610\n",
            "Średnia liczba ocen na użytkownika: 165.30491803278687\n",
            "Średnia liczba ocen na film: 10.350646684459043\n",
            "Ratings Distribution:\n",
            " rating\n",
            "0.5     1370\n",
            "1.0     2811\n",
            "1.5     1791\n",
            "2.0     7551\n",
            "2.5     5550\n",
            "3.0    20047\n",
            "3.5    13136\n",
            "4.0    26818\n",
            "4.5     8551\n",
            "5.0    13211\n",
            "Name: count, dtype: int64\n"
          ]
        }
      ]
    },
    {
      "cell_type": "code",
      "source": [
        "plt.figure(figsize=(10, 6))\n",
        "ratings_distribution.plot(kind='bar')\n",
        "plt.title('Distribution of movie ratings')\n",
        "plt.xlabel('Rating')\n",
        "plt.ylabel('Count')\n",
        "plt.xticks(rotation=0)\n",
        "plt.show()"
      ],
      "metadata": {
        "colab": {
          "base_uri": "https://localhost:8080/",
          "height": 620
        },
        "id": "CMc-l75EV2mP",
        "outputId": "8ea27126-533c-46ad-821d-9ebdd4e85d14"
      },
      "execution_count": 2,
      "outputs": [
        {
          "output_type": "stream",
          "name": "stderr",
          "text": [
            "/usr/local/lib/python3.10/dist-packages/ipykernel/ipkernel.py:283: DeprecationWarning: `should_run_async` will not call `transform_cell` automatically in the future. Please pass the result to `transformed_cell` argument and any exception that happen during thetransform in `preprocessing_exc_tuple` in IPython 7.17 and above.\n",
            "  and should_run_async(code)\n"
          ]
        },
        {
          "output_type": "display_data",
          "data": {
            "text/plain": [
              "<Figure size 1000x600 with 1 Axes>"
            ],
            "image/png": "[encoded data removed]"
          },
          "metadata": {}
        }
      ]
    },
    {
      "cell_type": "code",
      "source": [
        "movie_titles = dict(zip(movies['movieId'],movies['title']))\n",
        "movie_stats = ratings.groupby('movieId').agg(count=('rating', 'size'), mean=('rating', 'mean')).reset_index()\n",
        "C = movie_stats['count'].mean()\n",
        "m = movie_stats['mean'].mean()"
      ],
      "metadata": {
        "id": "jzm7JPnhBPVo",
        "colab": {
          "base_uri": "https://localhost:8080/"
        },
        "outputId": "7d239753-75bd-45e6-dfb1-bced0fe57f64"
      },
      "execution_count": 4,
      "outputs": [
        {
          "output_type": "stream",
          "name": "stderr",
          "text": [
            "/usr/local/lib/python3.10/dist-packages/ipykernel/ipkernel.py:283: DeprecationWarning: `should_run_async` will not call `transform_cell` automatically in the future. Please pass the result to `transformed_cell` argument and any exception that happen during thetransform in `preprocessing_exc_tuple` in IPython 7.17 and above.\n",
            "  and should_run_async(code)\n"
          ]
        }
      ]
    },
    {
      "cell_type": "code",
      "source": [
        "def bayesian_avg(ratings):\n",
        "  bayesian_avg = (C*m+ratings.sum())/(C+ratings.count())\n",
        "  return bayesian_avg"
      ],
      "metadata": {
        "colab": {
          "base_uri": "https://localhost:8080/"
        },
        "id": "p4wJC7XBAY0i",
        "outputId": "8fb02fce-dc9a-4022-9321-c84d8227fdc2"
      },
      "execution_count": 5,
      "outputs": [
        {
          "output_type": "stream",
          "name": "stderr",
          "text": [
            "/usr/local/lib/python3.10/dist-packages/ipykernel/ipkernel.py:283: DeprecationWarning: `should_run_async` will not call `transform_cell` automatically in the future. Please pass the result to `transformed_cell` argument and any exception that happen during thetransform in `preprocessing_exc_tuple` in IPython 7.17 and above.\n",
            "  and should_run_async(code)\n"
          ]
        }
      ]
    },
    {
      "cell_type": "code",
      "source": [
        "bayesian_avg_ratings = ratings.groupby('movieId')['rating'].agg(bayesian_avg).reset_index()\n",
        "bayesian_avg_ratings.columns = ['movieId', 'bayesian_avg']\n",
        "movie_stats = movie_stats.merge(bayesian_avg_ratings, on='movieId')\n",
        "print(movie_stats.head())"
      ],
      "metadata": {
        "colab": {
          "base_uri": "https://localhost:8080/"
        },
        "id": "RYkC16TMWMao",
        "outputId": "13cfe14e-7d3d-4268-a894-3303a9ed43ba"
      },
      "execution_count": 9,
      "outputs": [
        {
          "output_type": "stream",
          "name": "stderr",
          "text": [
            "/usr/local/lib/python3.10/dist-packages/ipykernel/ipkernel.py:283: DeprecationWarning: `should_run_async` will not call `transform_cell` automatically in the future. Please pass the result to `transformed_cell` argument and any exception that happen during thetransform in `preprocessing_exc_tuple` in IPython 7.17 and above.\n",
            "  and should_run_async(code)\n"
          ]
        },
        {
          "output_type": "stream",
          "name": "stdout",
          "text": [
            "   movieId  count      mean  bayesian_avg_x  bayesian_avg_y\n",
            "0        1    215  3.920930        3.890632        3.890632\n",
            "1        2    110  3.431818        3.417227        3.417227\n",
            "2        3     52  3.259615        3.260086        3.260086\n",
            "3        4      7  2.357143        2.897612        2.897612\n",
            "4        5     49  3.071429        3.104793        3.104793\n"
          ]
        }
      ]
    },
    {
      "cell_type": "code",
      "source": [
        "from scipy.sparse import csr_matrix\n",
        "def create_sparse(df):\n",
        "  M = df['userId'].nunique()\n",
        "  N = df['movieId'].nunique()\n",
        "  user_mapper = dict(zip(np.unique(df[\"userId\"]), list(range(M))))\n",
        "  movie_mapper = dict(zip(np.unique(df[\"movieId\"]), list(range(N))))\n",
        "  user_inv_mapper = dict(zip(list(range(M)), np.unique(df[\"userId\"])))\n",
        "  movie_inv_mapper = dict(zip(list(range(N)), np.unique(df[\"movieId\"])))\n",
        "  user_index = [user_mapper[i] for i in df['userId']]\n",
        "  item_index = [movie_mapper[i] for i in df['movieId']]\n",
        "  X = csr_matrix((df[\"rating\"], (user_index, item_index)), shape=(M,N))\n",
        "  return X, user_mapper, movie_mapper, user_inv_mapper,movie_inv_mapper"
      ],
      "metadata": {
        "id": "ip4HIXPGChGU",
        "colab": {
          "base_uri": "https://localhost:8080/"
        },
        "outputId": "20463223-edcf-41fe-c66a-3b41b0c0d014"
      },
      "execution_count": 10,
      "outputs": [
        {
          "output_type": "stream",
          "name": "stderr",
          "text": [
            "/usr/local/lib/python3.10/dist-packages/ipykernel/ipkernel.py:283: DeprecationWarning: `should_run_async` will not call `transform_cell` automatically in the future. Please pass the result to `transformed_cell` argument and any exception that happen during thetransform in `preprocessing_exc_tuple` in IPython 7.17 and above.\n",
            "  and should_run_async(code)\n"
          ]
        }
      ]
    },
    {
      "cell_type": "code",
      "source": [
        "X, user_mapper, movie_mapper, user_inv_mapper,movie_inv_mapper = create_sparse(ratings)"
      ],
      "metadata": {
        "id": "k1j_hjVLGMYd",
        "colab": {
          "base_uri": "https://localhost:8080/"
        },
        "outputId": "ebb72932-255a-4633-f046-a2d3d85fed0a"
      },
      "execution_count": 11,
      "outputs": [
        {
          "output_type": "stream",
          "name": "stderr",
          "text": [
            "/usr/local/lib/python3.10/dist-packages/ipykernel/ipkernel.py:283: DeprecationWarning: `should_run_async` will not call `transform_cell` automatically in the future. Please pass the result to `transformed_cell` argument and any exception that happen during thetransform in `preprocessing_exc_tuple` in IPython 7.17 and above.\n",
            "  and should_run_async(code)\n"
          ]
        }
      ]
    },
    {
      "cell_type": "code",
      "source": [
        "n_total = X.shape[0]*X.shape[1]\n",
        "n_ratings = X.nnz #scipy.sparse.csr_matrix.nnz no of stored values, including explicit 0\n",
        "sparsity = n_ratings/n_total\n",
        "sparsity_p = round(sparsity*100,2)\n",
        "print(f\"Matrix sparsity: {sparsity_p}%\")\n",
        "n_ratings_per_user = X.getnnz(axis=1)"
      ],
      "metadata": {
        "colab": {
          "base_uri": "https://localhost:8080/"
        },
        "id": "d-6uikuTCyFL",
        "outputId": "86a19ce4-ab87-49b9-8eeb-8981d300fb54"
      },
      "execution_count": null,
      "outputs": [
        {
          "output_type": "stream",
          "name": "stdout",
          "text": [
            "Matrix sparsity: 1.7%\n"
          ]
        }
      ]
    },
    {
      "cell_type": "code",
      "source": [
        "def find_similar_movies(movie_id, X, movie_mapper, movie_inv_mapper, k, metric='cosine'):\n",
        "    X = X.T\n",
        "    neighbour_ids = []\n",
        "    movie_ind = movie_mapper[movie_id]\n",
        "    movie_vec = X[movie_ind]\n",
        "    if isinstance(movie_vec, (np.ndarray)):\n",
        "        movie_vec = movie_vec.reshape(1,-1)\n",
        "    kNN = NearestNeighbors(n_neighbors=k+1, algorithm=\"brute\", metric=metric)\n",
        "    kNN.fit(X)\n",
        "    neighbour = kNN.kneighbors(movie_vec, return_distance=False)\n",
        "    for i in range(1, k+1):\n",
        "        n = neighbour.item(i)\n",
        "        neighbour_ids.append(movie_inv_mapper[n])\n",
        "    return neighbour_ids"
      ],
      "metadata": {
        "colab": {
          "base_uri": "https://localhost:8080/"
        },
        "id": "19hbT_i9W3N8",
        "outputId": "6d937aff-c842-452a-e533-e0bada7980db"
      },
      "execution_count": 12,
      "outputs": [
        {
          "output_type": "stream",
          "name": "stderr",
          "text": [
            "/usr/local/lib/python3.10/dist-packages/ipykernel/ipkernel.py:283: DeprecationWarning: `should_run_async` will not call `transform_cell` automatically in the future. Please pass the result to `transformed_cell` argument and any exception that happen during thetransform in `preprocessing_exc_tuple` in IPython 7.17 and above.\n",
            "  and should_run_async(code)\n"
          ]
        }
      ]
    },
    {
      "cell_type": "code",
      "source": [
        "n_total = X.shape[0]*X.shape[1]\n",
        "n_ratings = X.nnz #scipy.sparse.csr_matrix.nnz no of stored values, including explicit 0\n",
        "sparsity = n_ratings/n_total\n",
        "sparsity_p = round(sparsity*100,2)\n",
        "print(f\"Matrix sparsity: {sparsity_p}%\")\n",
        "n_ratings_per_user = X.getnnz(axis=1)\n",
        "n_ratings_per_user = X.getnnz(axis=1)\n",
        "print(\"Amount of ratings per user:\", n_ratings_per_user)"
      ],
      "metadata": {
        "colab": {
          "base_uri": "https://localhost:8080/"
        },
        "id": "C59W95tJGBYk",
        "outputId": "58768e49-a02a-4d58-944b-6ac7409c79fe"
      },
      "execution_count": 15,
      "outputs": [
        {
          "output_type": "stream",
          "name": "stdout",
          "text": [
            "Matrix sparsity: 1.7%\n",
            "Amount of ratings per user: [ 232   29   39  216   44  314  152   47   46  140   64   32   31   48\n",
            "  135   98  105  502  703  242  443  119  121  110   26   21  135  570\n",
            "   81   34   50  102  156   86   23   60   21   78  100  103  217  440\n",
            "  114   48  399   42  140   33   21  310  359  130   20   33   25   46\n",
            "  476  112  107   22   39  366  271  517   34  345   36 1260   46   62\n",
            "   35   45  210  177   69  119   29   61   64  167   26  227  118  293\n",
            "   34   70   21   56  518   54  575   24   97   56  168   78   36   92\n",
            "   53  148   61   56  377  273  722   33   34   76  127   51  646   65\n",
            "  150   31  112   87  165   22  215   22   58  292   56   50  360   38\n",
            "   22   33  140   28   69  347   35   35  279  111  141   22  194  608\n",
            "  168   38   71  128   23   32   20   48   58   26   59   63  179   34\n",
            "   46  398   21   26   97  437   39   38   23   36   65  190  173   94\n",
            "  269   50   82   26   25   67   24   36  904   77   69   24  118  977\n",
            "   57  134   47  226  258   48   20   66   85   22   35   20  187   32\n",
            "   35  230  363  334  110  403   45   83   27   25   20   26   35  138\n",
            "   89  248   84   22   98  164  613   26  528  207  331  250   75   54\n",
            "   75  507   94   25   65  139   24  862  150  202   65   30   50   44\n",
            "  279  128   76   35   36   93   21  204  150   51 1046   27   23   38\n",
            "   47  127   44  174   20   25   29  152   53   57  210   56  163  180\n",
            "   57  129   29   40   43   31   55 1346  403   41   28   20  176  196\n",
            "   21  237   35   88   36  106  152 1055   24  267   31  446   21  437\n",
            "   41   27   72  939   23   32  114   32   53  216  677  112  975  115\n",
            "  103   64   28  223  340  128   33   53  189  879   35   20   56  107\n",
            "   98   21  270  152   48  255   23  247  168  267   25  154   28   56\n",
            "   77   39  371   28   52   66   59   69   62  164   45   55   37   40\n",
            "  141  294   90  226   26  289  383   41   74   25   97  109   30   21\n",
            "  277   31  185  469  129   93   41  236  100   33   33  133  131   48\n",
            "   36 1218  474  291   34   70  201   68 1027   29   34   81  386   25\n",
            "  123   23   61   28   23   46   36   43   72   48   34   60  120   20\n",
            "   22  141  126  167  127  102   56 2698   94   51   67   93  155  141\n",
            "   37   93   23  138  306   88   84  300   58   58   20  260   22  233\n",
            "   42  106  122  635   21   33   45   20   37   42   77   84   78 1864\n",
            "   38   51   34  202  311   45   57   43   50   59   26   82   27  455\n",
            "   33  138  115  113   22   33  465   80   28   29   37 2108  155   69\n",
            "  600   22  181  836   31  128  728  275   23   56   56  111  648  113\n",
            "   64  121   61   22  265   29   51   35   27   86   45   35   95   87\n",
            "   31   42   21   24  467  108   52   50   32  397   26   26  400   24\n",
            "   26  186   40  200   75  131  500   58  167   73   25   27   22   50\n",
            "   38  520   30   40   47   37   38   42   87  113   76   22   23   64\n",
            "   21   26   21   28  123  188   83   89  578   32   27   56  140  458\n",
            "  505  231  213  157   29   74  385   23   20  191  112  155  299   23\n",
            "   36   20  161   27   73  436   40   56   56   83   61  208  165   56\n",
            "   40  728   54   94  103  232   20  411  443   21 2478  763  101  135\n",
            "  943  100  221 1115  187  831   37 1302]\n"
          ]
        },
        {
          "output_type": "stream",
          "name": "stderr",
          "text": [
            "/usr/local/lib/python3.10/dist-packages/ipykernel/ipkernel.py:283: DeprecationWarning: `should_run_async` will not call `transform_cell` automatically in the future. Please pass the result to `transformed_cell` argument and any exception that happen during thetransform in `preprocessing_exc_tuple` in IPython 7.17 and above.\n",
            "  and should_run_async(code)\n"
          ]
        }
      ]
    },
    {
      "cell_type": "markdown",
      "source": [
        "Toy Story Zadanie"
      ],
      "metadata": {
        "id": "gDC1gtMYXGHi"
      }
    },
    {
      "cell_type": "code",
      "source": [
        "toystory_id = movies[movies['title'].str.contains('Toy Story')]['movieId'].iloc[0]\n",
        "similar_movies = find_similar_movies(toystory_id, X, movie_mapper, movie_inv_mapper, k=10, metric='cosine')\n",
        "original_movie_title = movies[movies['movieId'] == toystory_id]['title'].values[0]\n",
        "recommended_titles = movies[movies['movieId'].isin(similar_movies)]['title'].values\n",
        "print(f\"\\nRekomendacje po obejrzeniu filmu '{original_movie_title}':\")\n",
        "for idx, title in enumerate(recommended_titles, 1):\n",
        "    print(f\"{idx}. {title}\")"
      ],
      "metadata": {
        "colab": {
          "base_uri": "https://localhost:8080/"
        },
        "id": "05YtJhvVXE6L",
        "outputId": "e475455c-d84a-4ae7-822b-26eceac8289e"
      },
      "execution_count": 25,
      "outputs": [
        {
          "output_type": "stream",
          "name": "stdout",
          "text": [
            "\n",
            "Rekomendacje po obejrzeniu filmu 'Toy Story (1995)':\n",
            "1. Star Wars: Episode IV - A New Hope (1977)\n",
            "2. Forrest Gump (1994)\n",
            "3. Lion King, The (1994)\n",
            "4. Jurassic Park (1993)\n",
            "5. Mission: Impossible (1996)\n",
            "6. Independence Day (a.k.a. ID4) (1996)\n",
            "7. Star Wars: Episode VI - Return of the Jedi (1983)\n",
            "8. Groundhog Day (1993)\n",
            "9. Back to the Future (1985)\n",
            "10. Toy Story 2 (1999)\n"
          ]
        },
        {
          "output_type": "stream",
          "name": "stderr",
          "text": [
            "/usr/local/lib/python3.10/dist-packages/ipykernel/ipkernel.py:283: DeprecationWarning: `should_run_async` will not call `transform_cell` automatically in the future. Please pass the result to `transformed_cell` argument and any exception that happen during thetransform in `preprocessing_exc_tuple` in IPython 7.17 and above.\n",
            "  and should_run_async(code)\n"
          ]
        }
      ]
    },
    {
      "cell_type": "markdown",
      "source": [
        "Zadanie 1"
      ],
      "metadata": {
        "id": "D_fIE2ANhjqS"
      }
    },
    {
      "cell_type": "code",
      "source": [
        "num_children_movies = movies[movies['genres'].str.contains(\"Children\")].shape[0]\n",
        "print(f\"Liczba filmów dla dzieci: {num_children_movies}\")"
      ],
      "metadata": {
        "colab": {
          "base_uri": "https://localhost:8080/"
        },
        "id": "WqGYKhvPfIqi",
        "outputId": "84fa829a-243d-4281-b988-48c19119b6ea"
      },
      "execution_count": 26,
      "outputs": [
        {
          "output_type": "stream",
          "name": "stdout",
          "text": [
            "Liczba filmów dla dzieci: 664\n"
          ]
        },
        {
          "output_type": "stream",
          "name": "stderr",
          "text": [
            "/usr/local/lib/python3.10/dist-packages/ipykernel/ipkernel.py:283: DeprecationWarning: `should_run_async` will not call `transform_cell` automatically in the future. Please pass the result to `transformed_cell` argument and any exception that happen during thetransform in `preprocessing_exc_tuple` in IPython 7.17 and above.\n",
            "  and should_run_async(code)\n"
          ]
        }
      ]
    },
    {
      "cell_type": "markdown",
      "source": [
        "Zadanie 2"
      ],
      "metadata": {
        "id": "k3tdlbZahlCT"
      }
    },
    {
      "cell_type": "code",
      "source": [
        "movies_1995 = movies[movies['title'].str.contains(\"1995\")]\n",
        "ratings_1995 = ratings[ratings['movieId'].isin(movies_1995['movieId'])]\n",
        "rating_distribution_1995 = ratings_1995['rating'].value_counts().sort_index()\n",
        "plt.figure(figsize=(10, 6))\n",
        "rating_distribution_1995.plot(kind='bar')\n",
        "plt.title('Rozkład ocen dla filmów z 1995 roku')\n",
        "plt.xlabel('Ocena')\n",
        "plt.ylabel('Liczba')\n",
        "plt.xticks(rotation=0)\n",
        "plt.show()"
      ],
      "metadata": {
        "colab": {
          "base_uri": "https://localhost:8080/",
          "height": 620
        },
        "id": "-LsuMfmnhGA6",
        "outputId": "f129d671-e185-42cf-ebeb-8c30c4c770c9"
      },
      "execution_count": 27,
      "outputs": [
        {
          "output_type": "stream",
          "name": "stderr",
          "text": [
            "/usr/local/lib/python3.10/dist-packages/ipykernel/ipkernel.py:283: DeprecationWarning: `should_run_async` will not call `transform_cell` automatically in the future. Please pass the result to `transformed_cell` argument and any exception that happen during thetransform in `preprocessing_exc_tuple` in IPython 7.17 and above.\n",
            "  and should_run_async(code)\n"
          ]
        },
        {
          "output_type": "display_data",
          "data": {
            "text/plain": [
              "<Figure size 1000x600 with 1 Axes>"
            ],
            "image/png": "[encoded data removed]"
          },
          "metadata": {}
        }
      ]
    },
    {
      "cell_type": "markdown",
      "source": [
        "Zadanie 3"
      ],
      "metadata": {
        "id": "rPR5oWTWhoD0"
      }
    },
    {
      "cell_type": "code",
      "source": [
        "action_movies = movies[movies['genres'].str.contains(\"Action\")]\n",
        "action_movie_ids = action_movies['movieId']\n",
        "action_ratings = ratings[ratings['movieId'].isin(action_movie_ids)]\n",
        "avg_action_rating = action_ratings['rating'].mean()\n",
        "print(f\"Średnia ocen wszystkich filmów akcji: {avg_action_rating:.2f}\")\n",
        "action_movie_avg_ratings = action_ratings.groupby('movieId')['rating'].mean().reset_index()\n",
        "top_3_action_movies = action_movie_avg_ratings.nlargest(3, 'rating')\n",
        "top_3_action_movies = top_3_action_movies.merge(movies[['movieId', 'title']], on='movieId')\n",
        "print(\"Top 3 najwyżej oceniane filmy akcji:\")\n",
        "for idx, row in top_3_action_movies.iterrows():\n",
        "    print(f\"{idx + 1}. {row['title']} - Ocena: {row['rating']:.2f}\")"
      ],
      "metadata": {
        "colab": {
          "base_uri": "https://localhost:8080/"
        },
        "id": "eF-3OEyJhLKF",
        "outputId": "7973dc6e-c098-4d23-da26-1cd8858e2396"
      },
      "execution_count": 28,
      "outputs": [
        {
          "output_type": "stream",
          "name": "stdout",
          "text": [
            "Średnia ocen wszystkich filmów akcji: 3.45\n",
            "Top 3 najwyżej oceniane filmy akcji:\n",
            "1. Supercop 2 (Project S) (Chao ji ji hua) (1993) - Ocena: 5.00\n",
            "2. Assignment, The (1997) - Ocena: 5.00\n",
            "3. Knock Off (1998) - Ocena: 5.00\n"
          ]
        },
        {
          "output_type": "stream",
          "name": "stderr",
          "text": [
            "/usr/local/lib/python3.10/dist-packages/ipykernel/ipkernel.py:283: DeprecationWarning: `should_run_async` will not call `transform_cell` automatically in the future. Please pass the result to `transformed_cell` argument and any exception that happen during thetransform in `preprocessing_exc_tuple` in IPython 7.17 and above.\n",
            "  and should_run_async(code)\n"
          ]
        }
      ]
    },
    {
      "cell_type": "code",
      "source": [
        "!pip install surprise\n",
        "import pandas as pd\n",
        "import time\n",
        "from surprise.model_selection import cross_validate, GridSearchCV, train_test_split\n",
        "from surprise.prediction_algorithms import SVD, KNNBasic, KNNBaseline\n",
        "from surprise import Dataset, Reader, accuracy"
      ],
      "metadata": {
        "colab": {
          "base_uri": "https://localhost:8080/"
        },
        "id": "dGNi_q88zQq0",
        "outputId": "9f6d3b95-cda5-4120-dd5c-4536096bcd76"
      },
      "execution_count": 29,
      "outputs": [
        {
          "output_type": "stream",
          "name": "stderr",
          "text": [
            "/usr/local/lib/python3.10/dist-packages/ipykernel/ipkernel.py:283: DeprecationWarning: `should_run_async` will not call `transform_cell` automatically in the future. Please pass the result to `transformed_cell` argument and any exception that happen during thetransform in `preprocessing_exc_tuple` in IPython 7.17 and above.\n",
            "  and should_run_async(code)\n"
          ]
        },
        {
          "output_type": "stream",
          "name": "stdout",
          "text": [
            "Collecting surprise\n",
            "  Downloading surprise-0.1-py2.py3-none-any.whl (1.8 kB)\n",
            "Collecting scikit-surprise (from surprise)\n",
            "  Downloading scikit_surprise-1.1.4.tar.gz (154 kB)\n",
            "\u001b[?25l     \u001b[90m━━━━━━━━━━━━━━━━━━━━━━━━━━━━━━━━━━━━━━━━\u001b[0m \u001b[32m0.0/154.4 kB\u001b[0m \u001b[31m?\u001b[0m eta \u001b[36m-:--:--\u001b[0m\r\u001b[2K     \u001b[91m━━━━━━━━━━━━━━━━━━━━━━━━━━━━━━━━━━━━━━━\u001b[0m\u001b[91m╸\u001b[0m \u001b[32m153.6/154.4 kB\u001b[0m \u001b[31m5.0 MB/s\u001b[0m eta \u001b[36m0:00:01\u001b[0m\r\u001b[2K     \u001b[90m━━━━━━━━━━━━━━━━━━━━━━━━━━━━━━━━━━━━━━━━\u001b[0m \u001b[32m154.4/154.4 kB\u001b[0m \u001b[31m3.8 MB/s\u001b[0m eta \u001b[36m0:00:00\u001b[0m\n",
            "\u001b[?25h  Installing build dependencies ... \u001b[?25l\u001b[?25hdone\n",
            "  Getting requirements to build wheel ... \u001b[?25l\u001b[?25hdone\n",
            "  Preparing metadata (pyproject.toml) ... \u001b[?25l\u001b[?25hdone\n",
            "Requirement already satisfied: joblib>=1.2.0 in /usr/local/lib/python3.10/dist-packages (from scikit-surprise->surprise) (1.4.2)\n",
            "Requirement already satisfied: numpy>=1.19.5 in /usr/local/lib/python3.10/dist-packages (from scikit-surprise->surprise) (1.25.2)\n",
            "Requirement already satisfied: scipy>=1.6.0 in /usr/local/lib/python3.10/dist-packages (from scikit-surprise->surprise) (1.11.4)\n",
            "Building wheels for collected packages: scikit-surprise\n",
            "  Building wheel for scikit-surprise (pyproject.toml) ... \u001b[?25l\u001b[?25hdone\n",
            "  Created wheel for scikit-surprise: filename=scikit_surprise-1.1.4-cp310-cp310-linux_x86_64.whl size=2357253 sha256=33c78e0b46409c0e8fca8b14ef313fc703fc1fda742a946e2f57857f652a1fa9\n",
            "  Stored in directory: /root/.cache/pip/wheels/4b/3f/df/6acbf0a40397d9bf3ff97f582cc22fb9ce66adde75bc71fd54\n",
            "Successfully built scikit-surprise\n",
            "Installing collected packages: scikit-surprise, surprise\n",
            "Successfully installed scikit-surprise-1.1.4 surprise-0.1\n"
          ]
        }
      ]
    },
    {
      "cell_type": "code",
      "source": [
        "# Wczytywanie danych\n",
        "ratings_data = pd.read_csv('https://s3-us-west-2.amazonaws.com/recommender-tutorial/ratings.csv')\n",
        "min_rating_value = ratings_data.rating.min()\n",
        "max_rating_value = ratings_data.rating.max()\n",
        "\n",
        "# Przygotowanie danych\n",
        "rating_reader = Reader(rating_scale=(min_rating_value, max_rating_value))\n",
        "dataset = Dataset.load_from_df(ratings_data[['userId', 'movieId', 'rating']], rating_reader)\n",
        "trainset, testset = train_test_split(dataset, test_size=0.25)\n",
        "\n",
        "# Trening SVD\n",
        "start_time_svd_train = time.time()\n",
        "svd_algo = SVD()\n",
        "svd_algo.fit(trainset)\n",
        "svd_predictions = svd_algo.test(testset)\n",
        "accuracy.rmse(svd_predictions)\n",
        "end_time_svd_train = time.time()\n",
        "\n",
        "# GridSearch dla SVD\n",
        "svd_param_grid = {'n_factors': [1, 2, 5, 10, 50]}\n",
        "start_time_svd_grid = time.time()\n",
        "svd_grid_search = GridSearchCV(SVD, svd_param_grid, measures=['rmse'], cv=5, n_jobs=-1)\n",
        "svd_grid_search.fit(dataset)\n",
        "end_time_svd_grid = time.time()\n",
        "\n",
        "best_svd_params = svd_grid_search.best_params\n",
        "best_svd_algo = svd_grid_search.best_estimator['rmse']\n",
        "svd_cross_val = cross_validate(best_svd_algo, dataset, measures=['RMSE', 'MAE'], cv=5, verbose=True)\n",
        "\n",
        "# Trening KNN\n",
        "start_time_knn_train = time.time()\n",
        "knn_algo = KNNBasic()\n",
        "knn_algo.fit(trainset)\n",
        "knn_predictions = knn_algo.test(testset)\n",
        "accuracy.rmse(knn_predictions)\n",
        "end_time_knn_train = time.time()\n",
        "\n",
        "# GridSearch dla KNN\n",
        "knn_param_grid = {'k': [1, 2, 5, 10, 20, 30, 40, 50]}\n",
        "start_time_knn_grid = time.time()\n",
        "knn_grid_search = GridSearchCV(KNNBasic, knn_param_grid, measures=['rmse'], cv=5, n_jobs=-1)\n",
        "knn_grid_search.fit(dataset)\n",
        "end_time_knn_grid = time.time()\n",
        "\n",
        "best_knn_params = knn_grid_search.best_params\n",
        "best_knn_algo = knn_grid_search.best_estimator['rmse']\n",
        "knn_cross_val = cross_validate(best_knn_algo, dataset, measures=['RMSE', 'MAE'], cv=5, verbose=True)\n",
        "\n",
        "# Trening KNNBaseline\n",
        "knn_baseline_algo = KNNBaseline()\n",
        "knn_baseline_algo.fit(trainset)\n",
        "knn_baseline_predictions = knn_baseline_algo.test(testset)\n",
        "accuracy.rmse(knn_baseline_predictions)\n",
        "\n",
        "# Walidacja krzyżowa KNN\n",
        "start_time_knn_cross = time.time()\n",
        "knn_cross_results = cross_validate(best_knn_algo, dataset, measures=['rmse'], cv=5, verbose=True)\n",
        "end_time_knn_cross = time.time()\n",
        "\n",
        "# Walidacja krzyżowa SVD\n",
        "start_time_svd_cross = time.time()\n",
        "svd_cross_results = cross_validate(best_svd_algo, dataset, measures=['rmse'], cv=5, verbose=True)\n",
        "end_time_svd_cross = time.time()\n",
        "\n",
        "# Wyniki i czasy wykonania\n",
        "print(f\"\\nNajlepszy KNN RMSE: {knn_grid_search.best_score['rmse']}\")\n",
        "print(f\"Najlepszy SVD RMSE: {svd_grid_search.best_score['rmse']}\")\n",
        "print(f\"\\nNajlepsze parametry KNN: {knn_grid_search.best_params['rmse']}\")\n",
        "print(f\"Najlepsze parametry SVD: {svd_grid_search.best_params['rmse']}\")\n",
        "print(f\"\\nCzas trenowania hiperparametrów KNN: {end_time_knn_grid - start_time_knn_grid} sekund\")\n",
        "print(f\"Czas trenowania hiperparametrów SVD: {end_time_svd_grid - start_time_svd_grid} sekund\")\n",
        "print(f\"\\nCzas trenowania KNN (cross-validation): {end_time_knn_cross - start_time_knn_cross} sekund\")\n",
        "print(f\"Czas trenowania SVD (cross-validation): {end_time_svd_cross - start_time_svd_cross} sekund\")\n",
        "print(f\"\\nCzas trenowania SVD: {end_time_svd_train - start_time_svd_train} sekund\")\n",
        "print(f\"Czas trenowania KNN: {end_time_knn_train - start_time_knn_train} sekund\")\n",
        "print(f\"\\nWyniki walidacji krzyżowej KNN: {knn_cross_results}\")\n",
        "print(f\"Wyniki walidacji krzyżowej SVD: {svd_cross_results}\")"
      ],
      "metadata": {
        "colab": {
          "base_uri": "https://localhost:8080/"
        },
        "id": "ocOtRplHz75v",
        "outputId": "75190ac8-49e0-4c95-dce3-9e3b42a3eb0f"
      },
      "execution_count": 31,
      "outputs": [
        {
          "output_type": "stream",
          "name": "stderr",
          "text": [
            "/usr/local/lib/python3.10/dist-packages/ipykernel/ipkernel.py:283: DeprecationWarning: `should_run_async` will not call `transform_cell` automatically in the future. Please pass the result to `transformed_cell` argument and any exception that happen during thetransform in `preprocessing_exc_tuple` in IPython 7.17 and above.\n",
            "  and should_run_async(code)\n"
          ]
        },
        {
          "output_type": "stream",
          "name": "stdout",
          "text": [
            "RMSE: 0.8809\n",
            "Evaluating RMSE, MAE of algorithm SVD on 5 split(s).\n",
            "\n",
            "                  Fold 1  Fold 2  Fold 3  Fold 4  Fold 5  Mean    Std     \n",
            "RMSE (testset)    0.8658  0.8694  0.8683  0.8762  0.8654  0.8690  0.0039  \n",
            "MAE (testset)     0.6647  0.6683  0.6655  0.6728  0.6686  0.6680  0.0029  \n",
            "Fit time          0.75    1.00    0.77    0.86    0.96    0.87    0.10    \n",
            "Test time         0.43    0.12    0.13    0.37    0.14    0.24    0.13    \n",
            "Computing the msd similarity matrix...\n",
            "Done computing similarity matrix.\n",
            "RMSE: 0.9576\n",
            "Computing the msd similarity matrix...\n",
            "Done computing similarity matrix.\n",
            "Computing the msd similarity matrix...\n",
            "Done computing similarity matrix.\n",
            "Computing the msd similarity matrix...\n",
            "Done computing similarity matrix.\n",
            "Computing the msd similarity matrix...\n",
            "Done computing similarity matrix.\n",
            "Computing the msd similarity matrix...\n",
            "Done computing similarity matrix.\n",
            "Evaluating RMSE, MAE of algorithm KNNBasic on 5 split(s).\n",
            "\n",
            "                  Fold 1  Fold 2  Fold 3  Fold 4  Fold 5  Mean    Std     \n",
            "RMSE (testset)    0.9361  0.9368  0.9409  0.9387  0.9441  0.9393  0.0029  \n",
            "MAE (testset)     0.7161  0.7162  0.7197  0.7178  0.7198  0.7179  0.0016  \n",
            "Fit time          0.17    0.16    0.28    0.20    0.15    0.19    0.05    \n",
            "Test time         1.31    1.49    2.76    1.53    1.24    1.66    0.56    \n",
            "Estimating biases using als...\n",
            "Computing the msd similarity matrix...\n",
            "Done computing similarity matrix.\n",
            "RMSE: 0.8818\n",
            "Computing the msd similarity matrix...\n",
            "Done computing similarity matrix.\n",
            "Computing the msd similarity matrix...\n",
            "Done computing similarity matrix.\n",
            "Computing the msd similarity matrix...\n",
            "Done computing similarity matrix.\n",
            "Computing the msd similarity matrix...\n",
            "Done computing similarity matrix.\n",
            "Computing the msd similarity matrix...\n",
            "Done computing similarity matrix.\n",
            "Evaluating RMSE of algorithm KNNBasic on 5 split(s).\n",
            "\n",
            "                  Fold 1  Fold 2  Fold 3  Fold 4  Fold 5  Mean    Std     \n",
            "RMSE (testset)    0.9468  0.9516  0.9414  0.9332  0.9354  0.9417  0.0069  \n",
            "Fit time          0.15    0.23    0.33    0.20    0.15    0.21    0.07    \n",
            "Test time         1.47    2.02    2.10    1.64    1.23    1.69    0.33    \n",
            "Evaluating RMSE of algorithm SVD on 5 split(s).\n",
            "\n",
            "                  Fold 1  Fold 2  Fold 3  Fold 4  Fold 5  Mean    Std     \n",
            "RMSE (testset)    0.8678  0.8732  0.8731  0.8743  0.8600  0.8697  0.0053  \n",
            "Fit time          1.03    0.95    0.84    1.02    1.17    1.00    0.11    \n",
            "Test time         0.15    0.11    0.58    0.12    0.24    0.24    0.17    \n",
            "\n",
            "Najlepszy KNN RMSE: 0.9415279838804338\n",
            "Najlepszy SVD RMSE: 0.8690088503975362\n",
            "\n",
            "Najlepsze parametry KNN: {'k': 20}\n",
            "Najlepsze parametry SVD: {'n_factors': 5}\n",
            "\n",
            "Czas trenowania hiperparametrów KNN: 52.45121788978577 sekund\n",
            "Czas trenowania hiperparametrów SVD: 36.66432070732117 sekund\n",
            "\n",
            "Czas trenowania KNN (cross-validation): 11.035248756408691 sekund\n",
            "Czas trenowania SVD (cross-validation): 7.287067651748657 sekund\n",
            "\n",
            "Czas trenowania SVD: 4.520092964172363 sekund\n",
            "Czas trenowania KNN: 2.174349308013916 sekund\n",
            "\n",
            "Wyniki walidacji krzyżowej KNN: {'test_rmse': array([0.94675921, 0.95160918, 0.94135904, 0.9332227 , 0.93535445]), 'fit_time': (0.14566397666931152, 0.2322080135345459, 0.32763195037841797, 0.20496797561645508, 0.1531810760498047), 'test_time': (1.4675867557525635, 2.016486406326294, 2.0972952842712402, 1.6360762119293213, 1.2288312911987305)}\n",
            "Wyniki walidacji krzyżowej SVD: {'test_rmse': array([0.86780839, 0.87320614, 0.87309452, 0.87431509, 0.86004414]), 'fit_time': (1.0257670879364014, 0.9542672634124756, 0.8350160121917725, 1.015491247177124, 1.1723673343658447), 'test_time': (0.1546778678894043, 0.11417579650878906, 0.5770177841186523, 0.11536931991577148, 0.23978829383850098)}\n"
          ]
        }
      ]
    }
  ]
}