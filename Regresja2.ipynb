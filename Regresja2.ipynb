{
  "nbformat": 4,
  "nbformat_minor": 0,
  "metadata": {
    "colab": {
      "provenance": [],
      "authorship_tag": "ABX9TyNbVnLeyXIHF9M2uMxbrbNg",
      "include_colab_link": true
    },
    "kernelspec": {
      "name": "python3",
      "display_name": "Python 3"
    },
    "language_info": {
      "name": "python"
    }
  },
  "cells": [
    {
      "cell_type": "markdown",
      "metadata": {
        "id": "view-in-github",
        "colab_type": "text"
      },
      "source": [
        "<a href=\"https://colab.research.google.com/github/UEPP40/PUM/blob/Majewska/Regresja2.ipynb\" target=\"_parent\"><img src=\"https://colab.research.google.com/assets/colab-badge.svg\" alt=\"Open In Colab\"/></a>"
      ]
    },
    {
      "cell_type": "code",
      "execution_count": 42,
      "metadata": {
        "id": "-2H_jMCPpDNc"
      },
      "outputs": [],
      "source": [
        "import pandas as pd\n",
        "from numpy import mean\n",
        "from numpy import std\n",
        "from numpy import absolute\n",
        "\n",
        "from matplotlib import pyplot\n",
        "\n",
        "from sklearn.datasets import fetch_california_housing\n",
        "\n",
        "from sklearn.model_selection import cross_val_score\n",
        "from sklearn.model_selection import KFold\n",
        "from sklearn.model_selection import RepeatedKFold\n",
        "\n",
        "from sklearn.pipeline import Pipeline\n",
        "\n",
        "from sklearn.linear_model import LinearRegression\n",
        "from sklearn.linear_model import HuberRegressor\n",
        "from sklearn.model_selection import train_test_split\n",
        "from sklearn.compose import TransformedTargetRegressor\n",
        "\n",
        "from sklearn.preprocessing import PolynomialFeatures\n",
        "from sklearn.preprocessing import MinMaxScaler\n",
        "\n",
        "from sklearn.metrics import mean_squared_error\n",
        "\n",
        "from sklearn.metrics import median_absolute_error\n",
        "from sklearn.metrics import mean_absolute_error\n"
      ]
    },
    {
      "cell_type": "code",
      "source": [
        "housing = fetch_california_housing()\n",
        "print(housing.data.shape, housing.target.shape)\n",
        "print(housing.feature_names)\n",
        "X = pd.DataFrame(data =housing.data, columns = housing.feature_names)\n",
        "print(X.head())\n",
        "y = housing.target"
      ],
      "metadata": {
        "colab": {
          "base_uri": "https://localhost:8080/"
        },
        "id": "VcMSYohSqWF8",
        "outputId": "4f3db2b9-5883-4ee6-c0c3-8cf741bb1139"
      },
      "execution_count": 43,
      "outputs": [
        {
          "output_type": "stream",
          "name": "stdout",
          "text": [
            "(20640, 8) (20640,)\n",
            "['MedInc', 'HouseAge', 'AveRooms', 'AveBedrms', 'Population', 'AveOccup', 'Latitude', 'Longitude']\n",
            "   MedInc  HouseAge  AveRooms  AveBedrms  Population  AveOccup  Latitude  \\\n",
            "0  8.3252      41.0  6.984127   1.023810       322.0  2.555556     37.88   \n",
            "1  8.3014      21.0  6.238137   0.971880      2401.0  2.109842     37.86   \n",
            "2  7.2574      52.0  8.288136   1.073446       496.0  2.802260     37.85   \n",
            "3  5.6431      52.0  5.817352   1.073059       558.0  2.547945     37.85   \n",
            "4  3.8462      52.0  6.281853   1.081081       565.0  2.181467     37.85   \n",
            "\n",
            "   Longitude  \n",
            "0    -122.23  \n",
            "1    -122.22  \n",
            "2    -122.24  \n",
            "3    -122.25  \n",
            "4    -122.25  \n"
          ]
        }
      ]
    },
    {
      "cell_type": "code",
      "source": [
        "X_train, X_test, y_train, y_test = train_test_split(X, y, test_size=0.33, random_state=42)"
      ],
      "metadata": {
        "id": "zQ41g941reFM"
      },
      "execution_count": 44,
      "outputs": []
    },
    {
      "cell_type": "code",
      "source": [
        "reg = LinearRegression().fit(X_train, y_train)\n",
        "reg.score(X, y)\n",
        "reg.coef_\n",
        "reg.intercept_\n",
        "y_pred = reg.predict(X_test)"
      ],
      "metadata": {
        "id": "0TwrYQ2Zxulu"
      },
      "execution_count": 45,
      "outputs": []
    },
    {
      "cell_type": "code",
      "source": [
        "x_train = y_train\n",
        "median_absolute_error(y_test, y_pred)"
      ],
      "metadata": {
        "colab": {
          "base_uri": "https://localhost:8080/"
        },
        "id": "wq8tFGVdxxjO",
        "outputId": "14f59326-f287-4c5b-962c-8c2842c04321"
      },
      "execution_count": 46,
      "outputs": [
        {
          "output_type": "execute_result",
          "data": {
            "text/plain": [
              "0.4109047708539084"
            ]
          },
          "metadata": {},
          "execution_count": 46
        }
      ]
    },
    {
      "cell_type": "code",
      "source": [
        "x_train = y_train\n",
        "mean_absolute_error(y_test, y_pred)"
      ],
      "metadata": {
        "colab": {
          "base_uri": "https://localhost:8080/"
        },
        "id": "gwtYiSXHx7ym",
        "outputId": "4ff59a28-6a02-4d9e-a29c-41e0688aa242"
      },
      "execution_count": 47,
      "outputs": [
        {
          "output_type": "execute_result",
          "data": {
            "text/plain": [
              "0.5295710106684446"
            ]
          },
          "metadata": {},
          "execution_count": 47
        }
      ]
    },
    {
      "cell_type": "code",
      "source": [
        "rkf = RepeatedKFold(n_splits=2, n_repeats=2, random_state=2652124)\n",
        "rkf.get_n_splits(X, y)\n",
        "lin = LinearRegression()\n",
        "print(cross_val_score(lin, X, y, cv=rkf, scoring='neg_mean_absolute_error'))\n",
        "cv_scores_lin = cross_val_score(lin, X, y, cv=rkf, scoring='neg_mean_absolute_error')"
      ],
      "metadata": {
        "colab": {
          "base_uri": "https://localhost:8080/"
        },
        "id": "ssSUZ-cfyFvp",
        "outputId": "4cf7f2b4-17c6-4a66-ff1a-aac970b01f00"
      },
      "execution_count": 55,
      "outputs": [
        {
          "output_type": "stream",
          "name": "stdout",
          "text": [
            "[-0.53375343 -0.5543241  -0.53634802 -0.52722252]\n"
          ]
        }
      ]
    },
    {
      "cell_type": "code",
      "source": [
        "xpol2 = PolynomialFeatures(2)\n",
        "x2 =  xpol2.fit_transform(X)\n",
        "print(cross_val_score(lin, x2, y, cv=rkf, scoring='neg_mean_absolute_error'))\n",
        "cv_scores_pol2 = cross_val_score(lin, x2, y, cv=rkf, scoring='neg_mean_absolute_error')"
      ],
      "metadata": {
        "colab": {
          "base_uri": "https://localhost:8080/"
        },
        "id": "BM7-VXTd1Tgz",
        "outputId": "ef1f941b-bde3-44dc-9da5-a5c2d822feb5"
      },
      "execution_count": 57,
      "outputs": [
        {
          "output_type": "stream",
          "name": "stdout",
          "text": [
            "[-0.46469077 -3.91335037 -0.62031356 -0.46610743]\n"
          ]
        }
      ]
    },
    {
      "cell_type": "code",
      "source": [
        "xpol3 = PolynomialFeatures(2)\n",
        "x3 =  xpol3.fit_transform(X)\n",
        "print(cross_val_score(lin, x3, y, cv=rkf, scoring='neg_mean_absolute_error'))\n",
        "cv_scores_pol3 = cross_val_score(lin, x3, y, cv=rkf, scoring='neg_mean_absolute_error')"
      ],
      "metadata": {
        "colab": {
          "base_uri": "https://localhost:8080/"
        },
        "id": "seUKM3ij5p1G",
        "outputId": "d1418e98-3175-4d43-af78-d96367b7f362"
      },
      "execution_count": 59,
      "outputs": [
        {
          "output_type": "stream",
          "name": "stdout",
          "text": [
            "[-0.46469077 -3.91335037 -0.62031356 -0.46610743]\n"
          ]
        }
      ]
    },
    {
      "cell_type": "code",
      "source": [
        "from sklearn.model_selection import cross_val_score\n",
        "import numpy as np\n",
        "from sklearn.neighbors import KNeighborsRegressor\n",
        "\n",
        "knn_cv = KNeighborsRegressor(n_neighbors=3)\n",
        "cv_scores_knn = cross_val_score(knn_cv, X, y, cv=rkf)\n"
      ],
      "metadata": {
        "id": "sTWBWRE11y28"
      },
      "execution_count": 51,
      "outputs": []
    },
    {
      "cell_type": "code",
      "source": [
        "import matplotlib.pyplot as plt\n",
        "plt.boxplot([cv_scores_lin, cv_scores_pol2, cv_scores_pol3, cv_scores_knn])\n",
        "plt.show()\n"
      ],
      "metadata": {
        "colab": {
          "base_uri": "https://localhost:8080/",
          "height": 430
        },
        "id": "vBWzjwe26kjt",
        "outputId": "69c63157-fdf8-43f7-dc54-f936df884b1a"
      },
      "execution_count": 60,
      "outputs": [
        {
          "output_type": "display_data",
          "data": {
            "text/plain": [
              "<Figure size 640x480 with 1 Axes>"
            ],
            "image/png": "[encoded data removed]"
          },
          "metadata": {}
        }
      ]
    },
    {
      "cell_type": "code",
      "source": [
        "pipeline = Pipeline(steps=[('normalize', MinMaxScaler()), ('model', LinearRegression())])\n",
        "model = TransformedTargetRegressor(regressor=LinearRegression())\n",
        "cv = RepeatedKFold(n_splits=5, random_state=1)\n",
        "scores_tv = cross_val_score(model, X, y, scoring='neg_mean_absolute_error', cv=cv)\n",
        "scores = absolute(scores_tv)\n",
        "s_mean = mean(scores_tv)\n",
        "print(scores_tv)\n",
        "print('Mean MAE: %.3f' % (s_mean))\n",
        "\n",
        "pyplot.boxplot(scores_tv, showmeans=True)\n",
        "pyplot.show()"
      ],
      "metadata": {
        "colab": {
          "base_uri": "https://localhost:8080/",
          "height": 612
        },
        "id": "3YbufPs68nux",
        "outputId": "6018f68b-1971-4af5-fb26-2627b824f17c"
      },
      "execution_count": 64,
      "outputs": [
        {
          "output_type": "stream",
          "name": "stdout",
          "text": [
            "[-0.53286851 -0.52878709 -0.53770585 -0.52744413 -0.5316177  -0.51838361\n",
            " -0.54599058 -0.54441511 -0.52572175 -0.52433106 -0.53594667 -0.5264349\n",
            " -0.52975192 -0.53645394 -0.52883193 -0.52756796 -0.53376565 -0.54080917\n",
            " -0.52410467 -0.5328948  -0.53331152 -0.54714239 -0.52155503 -0.53514727\n",
            " -0.53577333 -0.53349807 -0.52602299 -0.52639701 -0.53572607 -0.53526683\n",
            " -0.52327868 -0.53804418 -0.53574505 -0.52286058 -0.54061997 -0.52409155\n",
            " -0.54565352 -0.52198429 -0.52684071 -0.54042373 -0.52094972 -0.53429095\n",
            " -0.54002604 -0.54734418 -0.51572067 -0.52832662 -0.54277574 -0.53498608\n",
            " -0.53427416 -0.51774758]\n",
            "Mean MAE: -0.532\n"
          ]
        },
        {
          "output_type": "display_data",
          "data": {
            "text/plain": [
              "<Figure size 640x480 with 1 Axes>"
            ],
            "image/png": "[encoded data removed]"
          },
          "metadata": {}
        }
      ]
    }
  ]
}