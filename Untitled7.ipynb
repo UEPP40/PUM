{
  "nbformat": 4,
  "nbformat_minor": 0,
  "metadata": {
    "colab": {
      "provenance": [],
      "authorship_tag": "ABX9TyNK5RbA5ZB6jScXO7+pb+nF",
      "include_colab_link": true
    },
    "kernelspec": {
      "name": "python3",
      "display_name": "Python 3"
    },
    "language_info": {
      "name": "python"
    }
  },
  "cells": [
    {
      "cell_type": "markdown",
      "metadata": {
        "id": "view-in-github",
        "colab_type": "text"
      },
      "source": [
        "<a href=\"https://colab.research.google.com/github/UEPP40/PUM/blob/Zyrek/Untitled7.ipynb\" target=\"_parent\"><img src=\"https://colab.research.google.com/assets/colab-badge.svg\" alt=\"Open In Colab\"/></a>"
      ]
    },
    {
      "cell_type": "code",
      "execution_count": 16,
      "metadata": {
        "colab": {
          "base_uri": "https://localhost:8080/"
        },
        "id": "WSjrbChOpRrh",
        "outputId": "bfce169a-2d44-4771-f9f5-0e0366afd6d2"
      },
      "outputs": [
        {
          "output_type": "stream",
          "name": "stdout",
          "text": [
            "(20640, 8) (20640,)\n",
            "['MedInc', 'HouseAge', 'AveRooms', 'AveBedrms', 'Population', 'AveOccup', 'Latitude', 'Longitude']\n",
            "   MedInc  HouseAge  AveRooms  AveBedrms  Population  AveOccup  Latitude  \\\n",
            "0  8.3252      41.0  6.984127   1.023810       322.0  2.555556     37.88   \n",
            "1  8.3014      21.0  6.238137   0.971880      2401.0  2.109842     37.86   \n",
            "2  7.2574      52.0  8.288136   1.073446       496.0  2.802260     37.85   \n",
            "3  5.6431      52.0  5.817352   1.073059       558.0  2.547945     37.85   \n",
            "4  3.8462      52.0  6.281853   1.081081       565.0  2.181467     37.85   \n",
            "\n",
            "   Longitude  \n",
            "0    -122.23  \n",
            "1    -122.22  \n",
            "2    -122.24  \n",
            "3    -122.25  \n",
            "4    -122.25  \n",
            "R^2 = 0.6456819713278688\n"
          ]
        }
      ],
      "source": [
        "import pandas as pd\n",
        "import numpy as np\n",
        "from matplotlib import pyplot\n",
        "from sklearn.model_selection import cross_val_score, KFold, RepeatedKFold, train_test_split\n",
        "\n",
        "from sklearn.pipeline import Pipeline\n",
        "\n",
        "from sklearn.linear_model import LinearRegression, HuberRegressor\n",
        "\n",
        "from sklearn.compose import TransformedTargetRegressor\n",
        "\n",
        "from sklearn.preprocessing import PolynomialFeatures, MinMaxScaler\n",
        "\n",
        "from sklearn.metrics import mean_squared_error\n",
        "\n",
        "from sklearn.datasets import fetch_california_housing\n",
        "\n",
        "housing = fetch_california_housing()\n",
        "print(housing.data.shape, housing.target.shape)\n",
        "print(housing.feature_names)\n",
        "X = pd.DataFrame(data = housing.data, columns = housing.feature_names)\n",
        "print(X.head())\n",
        "y = housing.target\n",
        "\n",
        "X_train, X_test, Y_train, Y_test = train_test_split(X, y, test_size=0.2, random_state=42)\n",
        "\n",
        "model = Pipeline([('poly', PolynomialFeatures(degree=2)), ('linear', LinearRegression())])\n",
        "\n",
        "model.fit(X_train, Y_train)\n",
        "score = model.score(X_test, Y_test)\n",
        "print(\"R^2 =\", score)"
      ]
    },
    {
      "cell_type": "code",
      "source": [
        "model = Pipeline([('poly', PolynomialFeatures(degree=3)), ('linear', LinearRegression())])\n",
        "\n",
        "model.fit(X_train, Y_train)\n",
        "score = model.score(X_test, Y_test)\n",
        "print(\"R^2 =\", score)"
      ],
      "metadata": {
        "colab": {
          "base_uri": "https://localhost:8080/"
        },
        "id": "Msj29UXC6Hi8",
        "outputId": "a8598dd6-2508-4e7f-daf7-9f4f741d5d31"
      },
      "execution_count": 17,
      "outputs": [
        {
          "output_type": "stream",
          "name": "stdout",
          "text": [
            "R^2 = -17.395619727030436\n"
          ]
        }
      ]
    },
    {
      "cell_type": "code",
      "source": [
        "rkf = RepeatedKFold(n_splits = 2, n_repeats = 2, random_state = 1234)\n",
        "lin = LinearRegression()\n",
        "cv_scores_linear = cross_val_score(lin, X, y, cv=rkf, scoring='neg_mean_absolute_error')"
      ],
      "metadata": {
        "id": "HQP-WYq26n5E"
      },
      "execution_count": 20,
      "outputs": []
    },
    {
      "cell_type": "code",
      "source": [
        "xplo2 = PolynomialFeatures(2)\n",
        "x2 = xplo2.fit"
      ],
      "metadata": {
        "id": "-DFr7BeW7xN5"
      },
      "execution_count": null,
      "outputs": []
    }
  ]
}