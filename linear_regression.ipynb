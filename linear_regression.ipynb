
import pandas as pd
import numpy as np
from sklearn.decomposition import PCA
from sklearn.preprocessing import LabelEncoder
from sklearn.model_selection import train_test_split
from sklearn.linear_model import LinearRegression, HuberRegressor
from sklearn.metrics import mean_absolute_error
from sklearn.metrics import median_absolute_error
from sklearn.metrics import r2_score
salary_df = pd.read_csv(r'/content/Salary Data (2).csv')
salary_df.shape
for i in salary_df.columns:
  print(salary_df[i].value_counts())
  print('*'*50)
salary_df.isna().any()
salary_df.fillna(method='pad', inplace=True)
salary_df[['Age','Years of Experience']] = salary_df[['Age','Years of Experience']].apply(lambda x: x.astype(int))
age_mean = salary_df[(salary_df['Age'] <= 100) & (salary_df['Age'] >= 1)]['Age'].mean()
salary_df['Age'] = salary_df['Age'].fillna(age_mean)
salary_df.loc[salary_df['Age'] >= 100, 'Age'] = age_mean
salary_df.loc[salary_df['Age'] < 1, 'Age'] = age_mean
le = LabelEncoder()
columns_to_code = ['Gender','Education Level','Job Title']
# dzięki apply możemy za jednym wywołaniem kodu wykonać daną operację na każdym elemencie z listy
salary_df[columns_to_code] = salary_df[columns_to_code].apply(LabelEncoder().fit_transform)
x_train, x_test, y_train, y_test = train_test_split( salary_df[['Age','Gender','Education Level','Job Title','Years of Experience']], salary_df['Salary'], test_size=0.33, random_state=42)
reg = LinearRegression().fit(x_train, y_train)
y_przewidywania =reg.predict(x_test)
mean_absolute_error(y_test,y_przewidywania)
median_absolute_error(y_test,y_przewidywania)
huber = HuberRegressor().fit(x_train,y_train)
huber.score(x_train,y_train)
huber.coef_
huber.intercept_
y_przwidywana_huber = huber.predict(x_test)
y_prawdziwe = y_test
print ("regresja liniowa:",  mean_absolute_error(y_prawdziwe,y_przewidywania))
print("regresja Hubera",mean_absolute_error(y_prawdziwe,y_przwidywana_huber))
y_prawdziwe = y_test
print ("regresja liniowa:",  median_absolute_error(y_prawdziwe,y_przewidywania))
print("regresja Hubera",median_absolute_error(y_prawdziwe,y_przwidywana_huber))
y_prawdziwe = y_test
print("regresja liniowa", r2_score(y_prawdziwe,y_przewidywania))
print("regresja Hubra",r2_score(y_prawdziwe,y_przwidywana_huber))
