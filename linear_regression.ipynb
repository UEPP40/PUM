{
  "nbformat": 4,
  "nbformat_minor": 0,
  "metadata": {
    "colab": {
      "provenance": [],
      "authorship_tag": "ABX9TyN8bGjQh9d9UJIUUAURrqnj",
      "include_colab_link": true
    },
    "kernelspec": {
      "name": "python3",
      "display_name": "Python 3"
    },
    "language_info": {
      "name": "python"
    }
  },
  "cells": [
    {
      "cell_type": "markdown",
      "metadata": {
        "id": "view-in-github",
        "colab_type": "text"
      },
      "source": [
        "<a href=\"https://colab.research.google.com/github/UEPP40/PUM/blob/kaperob/linear_regression.ipynb\" target=\"_parent\"><img src=\"https://colab.research.google.com/assets/colab-badge.svg\" alt=\"Open In Colab\"/></a>"
      ]
    },
    {
      "cell_type": "code",
      "execution_count": 1,
      "metadata": {
        "id": "Zxv8OCrpvF8b"
      },
      "outputs": [],
      "source": [
        "import pandas as pd\n",
        "import numpy as np\n",
        "from sklearn.decomposition import PCA\n",
        "from sklearn.preprocessing import LabelEncoder\n",
        "from sklearn.model_selection import train_test_split\n",
        "from sklearn.linear_model import LinearRegression, HuberRegressor\n",
        "from sklearn.metrics import mean_absolute_error\n",
        "from sklearn.metrics import median_absolute_error\n",
        "from sklearn.metrics import r2_score\n",
        "from statsmodels.stats.outliers_influence import variance_inflation_factor"
      ]
    },
    {
      "cell_type": "code",
      "source": [
        "salary_df = pd.read_csv(r'/content/Salary Data (2).csv')"
      ],
      "metadata": {
        "id": "eSg7s5BGvrIc"
      },
      "execution_count": 2,
      "outputs": []
    },
    {
      "cell_type": "code",
      "source": [
        "salary_df.shape"
      ],
      "metadata": {
        "colab": {
          "base_uri": "https://localhost:8080/"
        },
        "id": "r_gOipiSw4kT",
        "outputId": "b694eaf7-ef7a-4b45-8398-ade46e3dc58d"
      },
      "execution_count": 3,
      "outputs": [
        {
          "output_type": "execute_result",
          "data": {
            "text/plain": [
              "(375, 6)"
            ]
          },
          "metadata": {},
          "execution_count": 3
        }
      ]
    },
    {
      "cell_type": "code",
      "source": [
        "for i in salary_df.columns:\n",
        "  print(salary_df[i].value_counts())\n",
        "  print('*'*50)"
      ],
      "metadata": {
        "id": "4BBSDDIQ3HmG",
        "outputId": "92a5fc01-78a3-4f91-d0d0-0eaeae0462db",
        "colab": {
          "base_uri": "https://localhost:8080/"
        }
      },
      "execution_count": 4,
      "outputs": [
        {
          "output_type": "stream",
          "name": "stdout",
          "text": [
            "33.0    24\n",
            "29.0    23\n",
            "35.0    22\n",
            "31.0    21\n",
            "44.0    21\n",
            "36.0    20\n",
            "34.0    17\n",
            "45.0    17\n",
            "38.0    15\n",
            "30.0    15\n",
            "47.0    15\n",
            "40.0    13\n",
            "28.0    13\n",
            "43.0    12\n",
            "37.0    12\n",
            "41.0    12\n",
            "32.0    12\n",
            "39.0    12\n",
            "42.0    11\n",
            "46.0    10\n",
            "27.0     9\n",
            "48.0     9\n",
            "50.0     8\n",
            "49.0     8\n",
            "26.0     7\n",
            "51.0     5\n",
            "25.0     4\n",
            "52.0     3\n",
            "24.0     1\n",
            "23.0     1\n",
            "53.0     1\n",
            "Name: Age, dtype: int64\n",
            "**************************************************\n",
            "Male      194\n",
            "Female    179\n",
            "Name: Gender, dtype: int64\n",
            "**************************************************\n",
            "Bachelor's    224\n",
            "Master's       98\n",
            "PhD            51\n",
            "Name: Education Level, dtype: int64\n",
            "**************************************************\n",
            "Director of Marketing              12\n",
            "Director of Operations             11\n",
            "Senior Business Analyst            10\n",
            "Senior Marketing Analyst            9\n",
            "Senior Marketing Manager            9\n",
            "                                   ..\n",
            "Business Development Manager        1\n",
            "Customer Service Representative     1\n",
            "IT Manager                          1\n",
            "Digital Marketing Manager           1\n",
            "Junior Web Developer                1\n",
            "Name: Job Title, Length: 174, dtype: int64\n",
            "**************************************************\n",
            "2.0     31\n",
            "3.0     30\n",
            "8.0     25\n",
            "9.0     22\n",
            "4.0     20\n",
            "7.0     18\n",
            "10.0    18\n",
            "16.0    18\n",
            "5.0     17\n",
            "15.0    16\n",
            "19.0    15\n",
            "12.0    15\n",
            "20.0    13\n",
            "18.0    13\n",
            "21.0    13\n",
            "14.0    13\n",
            "1.5     12\n",
            "6.0     12\n",
            "13.0    11\n",
            "11.0    10\n",
            "22.0     9\n",
            "1.0      7\n",
            "17.0     5\n",
            "25.0     3\n",
            "0.0      3\n",
            "23.0     2\n",
            "24.0     1\n",
            "0.5      1\n",
            "Name: Years of Experience, dtype: int64\n",
            "**************************************************\n",
            "40000.0     31\n",
            "50000.0     22\n",
            "95000.0     22\n",
            "180000.0    20\n",
            "120000.0    20\n",
            "90000.0     18\n",
            "150000.0    18\n",
            "45000.0     18\n",
            "160000.0    17\n",
            "60000.0     17\n",
            "110000.0    17\n",
            "170000.0    16\n",
            "130000.0    14\n",
            "100000.0    14\n",
            "140000.0    14\n",
            "35000.0     13\n",
            "80000.0     12\n",
            "55000.0     10\n",
            "85000.0     10\n",
            "70000.0      9\n",
            "65000.0      9\n",
            "105000.0     6\n",
            "190000.0     4\n",
            "75000.0      4\n",
            "115000.0     3\n",
            "250000.0     2\n",
            "200000.0     2\n",
            "135000.0     2\n",
            "175000.0     2\n",
            "125000.0     1\n",
            "30000.0      1\n",
            "220000.0     1\n",
            "185000.0     1\n",
            "145000.0     1\n",
            "155000.0     1\n",
            "350.0        1\n",
            "Name: Salary, dtype: int64\n",
            "**************************************************\n"
          ]
        }
      ]
    },
    {
      "cell_type": "code",
      "source": [
        "salary_df.isna().any()"
      ],
      "metadata": {
        "id": "K2vqkrJ8zji0",
        "outputId": "26ffcb66-9585-4faf-a32d-19d029c94599",
        "colab": {
          "base_uri": "https://localhost:8080/"
        }
      },
      "execution_count": 5,
      "outputs": [
        {
          "output_type": "execute_result",
          "data": {
            "text/plain": [
              "Age                    True\n",
              "Gender                 True\n",
              "Education Level        True\n",
              "Job Title              True\n",
              "Years of Experience    True\n",
              "Salary                 True\n",
              "dtype: bool"
            ]
          },
          "metadata": {},
          "execution_count": 5
        }
      ]
    },
    {
      "cell_type": "code",
      "source": [
        "salary_df.fillna(method='pad', inplace=True)"
      ],
      "metadata": {
        "id": "bNBR6i7xz69K"
      },
      "execution_count": 6,
      "outputs": []
    },
    {
      "cell_type": "code",
      "source": [
        "salary_df[['Age','Years of Experience']] = salary_df[['Age','Years of Experience']].apply(lambda x: x.astype(int))"
      ],
      "metadata": {
        "id": "Aw-1OoNGvJoc"
      },
      "execution_count": 7,
      "outputs": []
    },
    {
      "cell_type": "code",
      "source": [
        "age_mean = salary_df[(salary_df['Age'] <= 100) & (salary_df['Age'] >= 1)]['Age'].mean()"
      ],
      "metadata": {
        "id": "8cEn7t-c0ocb"
      },
      "execution_count": 8,
      "outputs": []
    },
    {
      "cell_type": "code",
      "source": [
        "salary_df['Age'] = salary_df['Age'].fillna(age_mean)\n",
        "salary_df.loc[salary_df['Age'] >= 100, 'Age'] = age_mean\n",
        "salary_df.loc[salary_df['Age'] < 1, 'Age'] = age_mean"
      ],
      "metadata": {
        "id": "GgTuLJhY1F0W"
      },
      "execution_count": 9,
      "outputs": []
    },
    {
      "cell_type": "code",
      "source": [
        "le = LabelEncoder()"
      ],
      "metadata": {
        "id": "_u42ou5M1ssK"
      },
      "execution_count": 10,
      "outputs": []
    },
    {
      "cell_type": "code",
      "source": [
        "columns_to_code = ['Gender','Education Level','Job Title']\n",
        "\n",
        "# dzięki apply możemy za jednym wywołaniem kodu wykonać daną operację na każdym elemencie z listy\n",
        "salary_df[columns_to_code] = salary_df[columns_to_code].apply(LabelEncoder().fit_transform)"
      ],
      "metadata": {
        "id": "AHqPsTI019c5"
      },
      "execution_count": 11,
      "outputs": []
    },
    {
      "cell_type": "code",
      "source": [
        "x_train, x_test, y_train, y_test = train_test_split( salary_df[['Age','Gender','Education Level','Job Title','Years of Experience']], salary_df['Salary'], test_size=0.33, random_state=42)"
      ],
      "metadata": {
        "id": "isTeXfwV2QUy"
      },
      "execution_count": 12,
      "outputs": []
    },
    {
      "cell_type": "code",
      "source": [
        "reg = LinearRegression().fit(x_train, y_train)\n",
        "y_przewidywania =reg.predict(x_test)"
      ],
      "metadata": {
        "id": "7t8-DTd16DzV"
      },
      "execution_count": 13,
      "outputs": []
    },
    {
      "cell_type": "code",
      "source": [
        "mean_absolute_error(y_test,y_przewidywania)"
      ],
      "metadata": {
        "id": "kNd5Gk1T78qT",
        "outputId": "9256ff34-c3aa-4f73-cb97-c79eef0af270",
        "colab": {
          "base_uri": "https://localhost:8080/"
        }
      },
      "execution_count": 14,
      "outputs": [
        {
          "output_type": "execute_result",
          "data": {
            "text/plain": [
              "10655.892049878197"
            ]
          },
          "metadata": {},
          "execution_count": 14
        }
      ]
    },
    {
      "cell_type": "code",
      "source": [
        "median_absolute_error(y_test,y_przewidywania)"
      ],
      "metadata": {
        "id": "vPaBF5PK8Lav",
        "outputId": "37df9fbf-56f3-4149-92be-67e6af676b27",
        "colab": {
          "base_uri": "https://localhost:8080/"
        }
      },
      "execution_count": 15,
      "outputs": [
        {
          "output_type": "execute_result",
          "data": {
            "text/plain": [
              "7107.919661770196"
            ]
          },
          "metadata": {},
          "execution_count": 15
        }
      ]
    },
    {
      "cell_type": "code",
      "source": [
        "huber = HuberRegressor().fit(x_train,y_train)\n",
        "huber.score(x_train,y_train)\n",
        "huber.coef_\n",
        "huber.intercept_\n",
        "y_przwidywana_huber = huber.predict(x_test)\n"
      ],
      "metadata": {
        "id": "kL3OmjmZKetn",
        "outputId": "77a87105-b827-458c-83bb-d96d2d8b69dc",
        "colab": {
          "base_uri": "https://localhost:8080/"
        }
      },
      "execution_count": 16,
      "outputs": [
        {
          "output_type": "stream",
          "name": "stderr",
          "text": [
            "/usr/local/lib/python3.10/dist-packages/sklearn/linear_model/_huber.py:342: ConvergenceWarning: lbfgs failed to converge (status=1):\n",
            "STOP: TOTAL NO. of ITERATIONS REACHED LIMIT.\n",
            "\n",
            "Increase the number of iterations (max_iter) or scale the data as shown in:\n",
            "    https://scikit-learn.org/stable/modules/preprocessing.html\n",
            "  self.n_iter_ = _check_optimize_result(\"lbfgs\", opt_res, self.max_iter)\n"
          ]
        }
      ]
    },
    {
      "cell_type": "code",
      "source": [
        "\n",
        "y_prawdziwe = y_test\n",
        "print (\"regresja liniowa:\",  mean_absolute_error(y_prawdziwe,y_przewidywania))\n",
        "print(\"regresja Hubera\",mean_absolute_error(y_prawdziwe,y_przwidywana_huber))\n"
      ],
      "metadata": {
        "id": "_gzaZEtALhh1",
        "outputId": "ffc76c96-9cdd-457d-e625-1304c36f89d0",
        "colab": {
          "base_uri": "https://localhost:8080/"
        }
      },
      "execution_count": 17,
      "outputs": [
        {
          "output_type": "stream",
          "name": "stdout",
          "text": [
            "regresja liniowa: 10655.892049878197\n",
            "regresja Hubera 10281.018356691475\n"
          ]
        }
      ]
    },
    {
      "cell_type": "code",
      "source": [
        "\n",
        "y_prawdziwe = y_test\n",
        "print (\"regresja liniowa:\",  median_absolute_error(y_prawdziwe,y_przewidywania))\n",
        "print(\"regresja Hubera\",median_absolute_error(y_prawdziwe,y_przwidywana_huber))"
      ],
      "metadata": {
        "id": "dbfgIFRKMJe7",
        "outputId": "7ab2cc6f-a5a9-4c68-9fcc-06f83e8069bb",
        "colab": {
          "base_uri": "https://localhost:8080/"
        }
      },
      "execution_count": 18,
      "outputs": [
        {
          "output_type": "stream",
          "name": "stdout",
          "text": [
            "regresja liniowa: 7107.919661770196\n",
            "regresja Hubera 6598.790656351895\n"
          ]
        }
      ]
    },
    {
      "cell_type": "code",
      "source": [
        "y_prawdziwe = y_test\n",
        "print(\"regresja liniowa\", r2_score(y_prawdziwe,y_przewidywania))\n",
        "print(\"regresja Hubra\",r2_score(y_prawdziwe,y_przwidywana_huber))"
      ],
      "metadata": {
        "id": "UXrDS8ntMi90",
        "outputId": "062f2700-41e2-44ea-eeb0-5f42dbc9ccd8",
        "colab": {
          "base_uri": "https://localhost:8080/"
        }
      },
      "execution_count": 19,
      "outputs": [
        {
          "output_type": "stream",
          "name": "stdout",
          "text": [
            "regresja liniowa 0.8924678720454159\n",
            "regresja Hubra 0.8982653114109581\n"
          ]
        }
      ]
    },
    {
      "cell_type": "code",
      "source": [
        "# calculating VIF for each feature\n",
        "vif_data = pd.DataFrame()\n",
        "vif_data[\"feature\"] = salary_df.columns\n",
        "vif_data[\"VIF\"] = [variance_inflation_factor(salary_df.values, i) for i in range(len(salary_df.columns))]\n",
        "vif_data"
      ],
      "metadata": {
        "id": "CPo93gzjmda5",
        "outputId": "e5cab51e-b80a-4962-ab41-865ec947f021",
        "colab": {
          "base_uri": "https://localhost:8080/",
          "height": 238
        }
      },
      "execution_count": 21,
      "outputs": [
        {
          "output_type": "execute_result",
          "data": {
            "text/plain": [
              "               feature        VIF\n",
              "0                  Age  21.337334\n",
              "1               Gender   2.184715\n",
              "2      Education Level   2.962684\n",
              "3            Job Title   4.894133\n",
              "4  Years of Experience  23.587218\n",
              "5               Salary  52.033087"
            ],
            "text/html": [
              "\n",
              "  <div id=\"df-954db57e-cbed-4370-8a90-3ae6c0a6ec86\" class=\"colab-df-container\">\n",
              "    <div>\n",
              "<style scoped>\n",
              "    .dataframe tbody tr th:only-of-type {\n",
              "        vertical-align: middle;\n",
              "    }\n",
              "\n",
              "    .dataframe tbody tr th {\n",
              "        vertical-align: top;\n",
              "    }\n",
              "\n",
              "    .dataframe thead th {\n",
              "        text-align: right;\n",
              "    }\n",
              "</style>\n",
              "<table border=\"1\" class=\"dataframe\">\n",
              "  <thead>\n",
              "    <tr style=\"text-align: right;\">\n",
              "      <th></th>\n",
              "      <th>feature</th>\n",
              "      <th>VIF</th>\n",
              "    </tr>\n",
              "  </thead>\n",
              "  <tbody>\n",
              "    <tr>\n",
              "      <th>0</th>\n",
              "      <td>Age</td>\n",
              "      <td>21.337334</td>\n",
              "    </tr>\n",
              "    <tr>\n",
              "      <th>1</th>\n",
              "      <td>Gender</td>\n",
              "      <td>2.184715</td>\n",
              "    </tr>\n",
              "    <tr>\n",
              "      <th>2</th>\n",
              "      <td>Education Level</td>\n",
              "      <td>2.962684</td>\n",
              "    </tr>\n",
              "    <tr>\n",
              "      <th>3</th>\n",
              "      <td>Job Title</td>\n",
              "      <td>4.894133</td>\n",
              "    </tr>\n",
              "    <tr>\n",
              "      <th>4</th>\n",
              "      <td>Years of Experience</td>\n",
              "      <td>23.587218</td>\n",
              "    </tr>\n",
              "    <tr>\n",
              "      <th>5</th>\n",
              "      <td>Salary</td>\n",
              "      <td>52.033087</td>\n",
              "    </tr>\n",
              "  </tbody>\n",
              "</table>\n",
              "</div>\n",
              "    <div class=\"colab-df-buttons\">\n",
              "\n",
              "  <div class=\"colab-df-container\">\n",
              "    <button class=\"colab-df-convert\" onclick=\"convertToInteractive('df-954db57e-cbed-4370-8a90-3ae6c0a6ec86')\"\n",
              "            title=\"Convert this dataframe to an interactive table.\"\n",
              "            style=\"display:none;\">\n",
              "\n",
              "  <svg xmlns=\"http://www.w3.org/2000/svg\" height=\"24px\" viewBox=\"0 -960 960 960\">\n",
              "    <path d=\"M120-120v-720h720v720H120Zm60-500h600v-160H180v160Zm220 220h160v-160H400v160Zm0 220h160v-160H400v160ZM180-400h160v-160H180v160Zm440 0h160v-160H620v160ZM180-180h160v-160H180v160Zm440 0h160v-160H620v160Z\"/>\n",
              "  </svg>\n",
              "    </button>\n",
              "\n",
              "  <style>\n",
              "    .colab-df-container {\n",
              "      display:flex;\n",
              "      gap: 12px;\n",
              "    }\n",
              "\n",
              "    .colab-df-convert {\n",
              "      background-color: #E8F0FE;\n",
              "      border: none;\n",
              "      border-radius: 50%;\n",
              "      cursor: pointer;\n",
              "      display: none;\n",
              "      fill: #1967D2;\n",
              "      height: 32px;\n",
              "      padding: 0 0 0 0;\n",
              "      width: 32px;\n",
              "    }\n",
              "\n",
              "    .colab-df-convert:hover {\n",
              "      background-color: #E2EBFA;\n",
              "      box-shadow: 0px 1px 2px rgba(60, 64, 67, 0.3), 0px 1px 3px 1px rgba(60, 64, 67, 0.15);\n",
              "      fill: #174EA6;\n",
              "    }\n",
              "\n",
              "    .colab-df-buttons div {\n",
              "      margin-bottom: 4px;\n",
              "    }\n",
              "\n",
              "    [theme=dark] .colab-df-convert {\n",
              "      background-color: #3B4455;\n",
              "      fill: #D2E3FC;\n",
              "    }\n",
              "\n",
              "    [theme=dark] .colab-df-convert:hover {\n",
              "      background-color: #434B5C;\n",
              "      box-shadow: 0px 1px 3px 1px rgba(0, 0, 0, 0.15);\n",
              "      filter: drop-shadow(0px 1px 2px rgba(0, 0, 0, 0.3));\n",
              "      fill: #FFFFFF;\n",
              "    }\n",
              "  </style>\n",
              "\n",
              "    <script>\n",
              "      const buttonEl =\n",
              "        document.querySelector('#df-954db57e-cbed-4370-8a90-3ae6c0a6ec86 button.colab-df-convert');\n",
              "      buttonEl.style.display =\n",
              "        google.colab.kernel.accessAllowed ? 'block' : 'none';\n",
              "\n",
              "      async function convertToInteractive(key) {\n",
              "        const element = document.querySelector('#df-954db57e-cbed-4370-8a90-3ae6c0a6ec86');\n",
              "        const dataTable =\n",
              "          await google.colab.kernel.invokeFunction('convertToInteractive',\n",
              "                                                    [key], {});\n",
              "        if (!dataTable) return;\n",
              "\n",
              "        const docLinkHtml = 'Like what you see? Visit the ' +\n",
              "          '<a target=\"_blank\" href=https://colab.research.google.com/notebooks/data_table.ipynb>data table notebook</a>'\n",
              "          + ' to learn more about interactive tables.';\n",
              "        element.innerHTML = '';\n",
              "        dataTable['output_type'] = 'display_data';\n",
              "        await google.colab.output.renderOutput(dataTable, element);\n",
              "        const docLink = document.createElement('div');\n",
              "        docLink.innerHTML = docLinkHtml;\n",
              "        element.appendChild(docLink);\n",
              "      }\n",
              "    </script>\n",
              "  </div>\n",
              "\n",
              "\n",
              "<div id=\"df-95ae2e96-07c6-45bd-ba25-c9adc9df378a\">\n",
              "  <button class=\"colab-df-quickchart\" onclick=\"quickchart('df-95ae2e96-07c6-45bd-ba25-c9adc9df378a')\"\n",
              "            title=\"Suggest charts\"\n",
              "            style=\"display:none;\">\n",
              "\n",
              "<svg xmlns=\"http://www.w3.org/2000/svg\" height=\"24px\"viewBox=\"0 0 24 24\"\n",
              "     width=\"24px\">\n",
              "    <g>\n",
              "        <path d=\"M19 3H5c-1.1 0-2 .9-2 2v14c0 1.1.9 2 2 2h14c1.1 0 2-.9 2-2V5c0-1.1-.9-2-2-2zM9 17H7v-7h2v7zm4 0h-2V7h2v10zm4 0h-2v-4h2v4z\"/>\n",
              "    </g>\n",
              "</svg>\n",
              "  </button>\n",
              "\n",
              "<style>\n",
              "  .colab-df-quickchart {\n",
              "      --bg-color: #E8F0FE;\n",
              "      --fill-color: #1967D2;\n",
              "      --hover-bg-color: #E2EBFA;\n",
              "      --hover-fill-color: #174EA6;\n",
              "      --disabled-fill-color: #AAA;\n",
              "      --disabled-bg-color: #DDD;\n",
              "  }\n",
              "\n",
              "  [theme=dark] .colab-df-quickchart {\n",
              "      --bg-color: #3B4455;\n",
              "      --fill-color: #D2E3FC;\n",
              "      --hover-bg-color: #434B5C;\n",
              "      --hover-fill-color: #FFFFFF;\n",
              "      --disabled-bg-color: #3B4455;\n",
              "      --disabled-fill-color: #666;\n",
              "  }\n",
              "\n",
              "  .colab-df-quickchart {\n",
              "    background-color: var(--bg-color);\n",
              "    border: none;\n",
              "    border-radius: 50%;\n",
              "    cursor: pointer;\n",
              "    display: none;\n",
              "    fill: var(--fill-color);\n",
              "    height: 32px;\n",
              "    padding: 0;\n",
              "    width: 32px;\n",
              "  }\n",
              "\n",
              "  .colab-df-quickchart:hover {\n",
              "    background-color: var(--hover-bg-color);\n",
              "    box-shadow: 0 1px 2px rgba(60, 64, 67, 0.3), 0 1px 3px 1px rgba(60, 64, 67, 0.15);\n",
              "    fill: var(--button-hover-fill-color);\n",
              "  }\n",
              "\n",
              "  .colab-df-quickchart-complete:disabled,\n",
              "  .colab-df-quickchart-complete:disabled:hover {\n",
              "    background-color: var(--disabled-bg-color);\n",
              "    fill: var(--disabled-fill-color);\n",
              "    box-shadow: none;\n",
              "  }\n",
              "\n",
              "  .colab-df-spinner {\n",
              "    border: 2px solid var(--fill-color);\n",
              "    border-color: transparent;\n",
              "    border-bottom-color: var(--fill-color);\n",
              "    animation:\n",
              "      spin 1s steps(1) infinite;\n",
              "  }\n",
              "\n",
              "  @keyframes spin {\n",
              "    0% {\n",
              "      border-color: transparent;\n",
              "      border-bottom-color: var(--fill-color);\n",
              "      border-left-color: var(--fill-color);\n",
              "    }\n",
              "    20% {\n",
              "      border-color: transparent;\n",
              "      border-left-color: var(--fill-color);\n",
              "      border-top-color: var(--fill-color);\n",
              "    }\n",
              "    30% {\n",
              "      border-color: transparent;\n",
              "      border-left-color: var(--fill-color);\n",
              "      border-top-color: var(--fill-color);\n",
              "      border-right-color: var(--fill-color);\n",
              "    }\n",
              "    40% {\n",
              "      border-color: transparent;\n",
              "      border-right-color: var(--fill-color);\n",
              "      border-top-color: var(--fill-color);\n",
              "    }\n",
              "    60% {\n",
              "      border-color: transparent;\n",
              "      border-right-color: var(--fill-color);\n",
              "    }\n",
              "    80% {\n",
              "      border-color: transparent;\n",
              "      border-right-color: var(--fill-color);\n",
              "      border-bottom-color: var(--fill-color);\n",
              "    }\n",
              "    90% {\n",
              "      border-color: transparent;\n",
              "      border-bottom-color: var(--fill-color);\n",
              "    }\n",
              "  }\n",
              "</style>\n",
              "\n",
              "  <script>\n",
              "    async function quickchart(key) {\n",
              "      const quickchartButtonEl =\n",
              "        document.querySelector('#' + key + ' button');\n",
              "      quickchartButtonEl.disabled = true;  // To prevent multiple clicks.\n",
              "      quickchartButtonEl.classList.add('colab-df-spinner');\n",
              "      try {\n",
              "        const charts = await google.colab.kernel.invokeFunction(\n",
              "            'suggestCharts', [key], {});\n",
              "      } catch (error) {\n",
              "        console.error('Error during call to suggestCharts:', error);\n",
              "      }\n",
              "      quickchartButtonEl.classList.remove('colab-df-spinner');\n",
              "      quickchartButtonEl.classList.add('colab-df-quickchart-complete');\n",
              "    }\n",
              "    (() => {\n",
              "      let quickchartButtonEl =\n",
              "        document.querySelector('#df-95ae2e96-07c6-45bd-ba25-c9adc9df378a button');\n",
              "      quickchartButtonEl.style.display =\n",
              "        google.colab.kernel.accessAllowed ? 'block' : 'none';\n",
              "    })();\n",
              "  </script>\n",
              "</div>\n",
              "    </div>\n",
              "  </div>\n"
            ],
            "application/vnd.google.colaboratory.intrinsic+json": {
              "type": "dataframe",
              "variable_name": "vif_data",
              "summary": "{\n  \"name\": \"vif_data\",\n  \"rows\": 6,\n  \"fields\": [\n    {\n      \"column\": \"feature\",\n      \"properties\": {\n        \"dtype\": \"string\",\n        \"num_unique_values\": 6,\n        \"samples\": [\n          \"Age\",\n          \"Gender\",\n          \"Salary\"\n        ],\n        \"semantic_type\": \"\",\n        \"description\": \"\"\n      }\n    },\n    {\n      \"column\": \"VIF\",\n      \"properties\": {\n        \"dtype\": \"number\",\n        \"std\": 19.227307221568733,\n        \"min\": 2.184715498650867,\n        \"max\": 52.033086674272816,\n        \"num_unique_values\": 6,\n        \"samples\": [\n          21.33733423416874,\n          2.184715498650867,\n          52.033086674272816\n        ],\n        \"semantic_type\": \"\",\n        \"description\": \"\"\n      }\n    }\n  ]\n}"
            }
          },
          "metadata": {},
          "execution_count": 21
        }
      ]
    }
  ]
}