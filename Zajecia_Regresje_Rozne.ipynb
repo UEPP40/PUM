{
  "nbformat": 4,
  "nbformat_minor": 0,
  "metadata": {
    "colab": {
      "provenance": [],
      "authorship_tag": "ABX9TyN/Bz/xBMYXdRrcaCLaci3C",
      "include_colab_link": true
    },
    "kernelspec": {
      "name": "python3",
      "display_name": "Python 3"
    },
    "language_info": {
      "name": "python"
    }
  },
  "cells": [
    {
      "cell_type": "markdown",
      "metadata": {
        "id": "view-in-github",
        "colab_type": "text"
      },
      "source": [
        "<a href=\"https://colab.research.google.com/github/UEPP40/PUM/blob/manczak/Zajecia_Regresje_Rozne.ipynb\" target=\"_parent\"><img src=\"https://colab.research.google.com/assets/colab-badge.svg\" alt=\"Open In Colab\"/></a>"
      ]
    },
    {
      "cell_type": "code",
      "execution_count": 34,
      "metadata": {
        "id": "yDYdcit-phb7"
      },
      "outputs": [],
      "source": [
        "import pandas as pd\n",
        "import numpy as np\n",
        "from numpy import mean\n",
        "from numpy import std\n",
        "from numpy import absolute\n",
        "\n",
        "from matplotlib import pyplot\n",
        "\n",
        "from sklearn.datasets import fetch_california_housing\n",
        "\n",
        "from sklearn.model_selection import cross_val_score\n",
        "from sklearn.model_selection import KFold\n",
        "from sklearn.model_selection import RepeatedKFold\n",
        "\n",
        "from sklearn.pipeline import Pipeline\n",
        "\n",
        "from sklearn.linear_model import LinearRegression\n",
        "from sklearn.linear_model import HuberRegressor\n",
        "from sklearn.compose import TransformedTargetRegressor\n",
        "\n",
        "from sklearn.preprocessing import PolynomialFeatures\n",
        "from sklearn.preprocessing import MinMaxScaler\n",
        "\n",
        "from sklearn.metrics import mean_squared_error"
      ]
    },
    {
      "cell_type": "code",
      "source": [
        "# load data\n",
        "\n",
        "housing = fetch_california_housing()\n",
        "print(housing.data.shape, housing.target.shape)\n",
        "\n",
        "print(housing.feature_names)"
      ],
      "metadata": {
        "colab": {
          "base_uri": "https://localhost:8080/"
        },
        "id": "ejO35vaJqG3L",
        "outputId": "673fc746-e688-44bd-e4e2-dfff1d9b503f"
      },
      "execution_count": 35,
      "outputs": [
        {
          "output_type": "stream",
          "name": "stdout",
          "text": [
            "(20640, 8) (20640,)\n",
            "['MedInc', 'HouseAge', 'AveRooms', 'AveBedrms', 'Population', 'AveOccup', 'Latitude', 'Longitude']\n"
          ]
        }
      ]
    },
    {
      "cell_type": "code",
      "source": [
        "X = pd.DataFrame(data = housing.data, columns = housing.feature_names)\n",
        "print(X.head())\n",
        "\n",
        "y = housing.target"
      ],
      "metadata": {
        "colab": {
          "base_uri": "https://localhost:8080/"
        },
        "id": "01_9Y8zvqn4I",
        "outputId": "cb1164df-9414-48ae-96d0-ac5d152ca2aa"
      },
      "execution_count": 36,
      "outputs": [
        {
          "output_type": "stream",
          "name": "stdout",
          "text": [
            "   MedInc  HouseAge  AveRooms  AveBedrms  Population  AveOccup  Latitude  \\\n",
            "0  8.3252      41.0  6.984127   1.023810       322.0  2.555556     37.88   \n",
            "1  8.3014      21.0  6.238137   0.971880      2401.0  2.109842     37.86   \n",
            "2  7.2574      52.0  8.288136   1.073446       496.0  2.802260     37.85   \n",
            "3  5.6431      52.0  5.817352   1.073059       558.0  2.547945     37.85   \n",
            "4  3.8462      52.0  6.281853   1.081081       565.0  2.181467     37.85   \n",
            "\n",
            "   Longitude  \n",
            "0    -122.23  \n",
            "1    -122.22  \n",
            "2    -122.24  \n",
            "3    -122.25  \n",
            "4    -122.25  \n"
          ]
        }
      ]
    },
    {
      "cell_type": "code",
      "source": [
        "model_lin = LinearRegression()"
      ],
      "metadata": {
        "id": "wNB3Goxkvm3o"
      },
      "execution_count": 37,
      "outputs": []
    },
    {
      "cell_type": "code",
      "source": [
        "# Ustawienia dla walidacji krzyżowej:\n",
        "cv = RepeatedKFold(n_splits=5, n_repeats=5, random_state=1)"
      ],
      "metadata": {
        "id": "QyGAMKKAyoxg"
      },
      "execution_count": 38,
      "outputs": []
    },
    {
      "cell_type": "code",
      "source": [
        "# Obliczanie błędu średniokwadratowego (MSE) za pomocą walidacji krzyżowej\n",
        "blad_sredniokwadratowy = cross_val_score(model_lin, X, y, scoring='neg_mean_squared_error', cv=cv, n_jobs=-1)\n"
      ],
      "metadata": {
        "id": "hDVJe_FByy0d"
      },
      "execution_count": 39,
      "outputs": []
    },
    {
      "cell_type": "code",
      "source": [
        "print(blad_sredniokwadratowy)"
      ],
      "metadata": {
        "colab": {
          "base_uri": "https://localhost:8080/"
        },
        "id": "NekjXJiPzaRk",
        "outputId": "34459c2d-2ff5-41dc-fac9-ceca5ae17d1d"
      },
      "execution_count": 40,
      "outputs": [
        {
          "output_type": "stream",
          "name": "stdout",
          "text": [
            "[-0.52914023 -0.5126393  -0.53908745 -0.50610094 -0.55096393 -0.49700305\n",
            " -0.56833422 -0.56140077 -0.51132183 -0.50406523 -0.53994357 -0.52115031\n",
            " -0.51721993 -0.52555722 -0.53347797 -0.53820188 -0.52000447 -0.53552124\n",
            " -0.51464969 -0.54476779 -0.53313041 -1.31524248 -0.50321081 -0.52702671\n",
            " -0.5553761 ]\n"
          ]
        }
      ]
    },
    {
      "cell_type": "code",
      "source": [
        "# Średnia dla błędu średniokwadratowego\n",
        "srednia_bledu = np.mean(blad_sredniokwadratowy)\n",
        "\n",
        "# Odchylenie dla bledu sredniokwadratowego\n",
        "odchylenie_bledu = np.std(blad_sredniokwadratowy)\n",
        "\n",
        "srednia_bledu, odchylenie_bledu"
      ],
      "metadata": {
        "colab": {
          "base_uri": "https://localhost:8080/"
        },
        "id": "EPebcaSvy_aq",
        "outputId": "fe592841-3a4c-4b3b-add4-a1d802588992"
      },
      "execution_count": 41,
      "outputs": [
        {
          "output_type": "execute_result",
          "data": {
            "text/plain": [
              "(-0.5601815004331749, 0.1552028132663088)"
            ]
          },
          "metadata": {},
          "execution_count": 41
        }
      ]
    },
    {
      "cell_type": "markdown",
      "source": [
        "#Wyniki dla regresji liniowej:\n",
        "\n",
        "#(-0.5280350153126617, 0.025537936338042883)\n"
      ],
      "metadata": {
        "id": "9N1qQT530uHT"
      }
    },
    {
      "cell_type": "code",
      "source": [
        "# Przygotowanie transformacji wielomianowej 2. stopnia\n",
        "poly_transform = PolynomialFeatures(degree=2, include_bias=False)\n",
        "\n",
        "# Tworzenie pipeline'a, który najpierw przekształci cechy do postaci wielomianowej,\n",
        "# a następnie zastosuje regresję liniową\n",
        "model_poly2 = Pipeline([\n",
        "    ('poly', poly_transform),\n",
        "    ('linear', LinearRegression())\n",
        "])\n",
        "\n",
        "# Ustawienia walidacji krzyżowej, takie same jak ostatnio\n",
        "cv = RepeatedKFold(n_splits=5, n_repeats=5, random_state=1)\n",
        "\n",
        "# Obliczanie negatywnego MSE za pomocą walidacji krzyżowej\n",
        "blad_sredniokwadratowy2 = cross_val_score(model_poly2, X, y, scoring='neg_mean_squared_error', cv=cv, n_jobs=-1)\n",
        "\n",
        "# Średni i odchylenie standardowe negatywnego MSE\n",
        "srednia_bledu2 = np.mean(blad_sredniokwadratowy2)\n",
        "odchylenie_bledu2 = np.std(blad_sredniokwadratowy2)\n",
        "\n",
        "srednia_bledu2, odchylenie_bledu2"
      ],
      "metadata": {
        "colab": {
          "base_uri": "https://localhost:8080/"
        },
        "id": "o6k7N8eEzGh0",
        "outputId": "8d9d5e3e-79d5-477e-efe4-aaac50d8fa5f"
      },
      "execution_count": 42,
      "outputs": [
        {
          "output_type": "execute_result",
          "data": {
            "text/plain": [
              "(-14.475686435425905, 42.680399544226866)"
            ]
          },
          "metadata": {},
          "execution_count": 42
        }
      ]
    },
    {
      "cell_type": "markdown",
      "source": [
        "# Wyniki dla wielowymiarowej 2 stopnia\n",
        "# (-2.246261005282666, 6.09434581244046)"
      ],
      "metadata": {
        "id": "okQwgvxr1emW"
      }
    },
    {
      "cell_type": "code",
      "source": [
        "# Przygotowanie transformacji wielomianowej 3. stopnia\n",
        "poly_transform = PolynomialFeatures(degree=3, include_bias=False)\n",
        "\n",
        "# Tworzenie pipeline'a, który najpierw przekształci cechy do postaci wielomianowej,\n",
        "# a następnie zastosuje regresję liniową\n",
        "model_poly3 = Pipeline([\n",
        "    ('poly', poly_transform),\n",
        "    ('linear', LinearRegression())\n",
        "])\n",
        "\n",
        "# Ustawienia walidacji krzyżowej, takie same jak ostatnio\n",
        "cv = RepeatedKFold(n_splits=5, n_repeats=5, random_state=1)\n",
        "\n",
        "# Obliczanie negatywnego MSE za pomocą walidacji krzyżowej\n",
        "blad_sredniokwadratowy3 = cross_val_score(model_poly3, X, y, scoring='neg_mean_squared_error', cv=cv, n_jobs=-1)\n",
        "\n",
        "# Średni i odchylenie standardowe negatywnego MSE\n",
        "srednia_bledu3 = np.mean(blad_sredniokwadratowy3)\n",
        "odchylenie_bledu3 = np.std(blad_sredniokwadratowy3)\n",
        "\n",
        "srednia_bledu3, odchylenie_bledu3"
      ],
      "metadata": {
        "colab": {
          "base_uri": "https://localhost:8080/"
        },
        "id": "JAFEj-dG10Ri",
        "outputId": "cbb4b68b-57f1-4c83-e92b-696cfbc53dff"
      },
      "execution_count": 43,
      "outputs": [
        {
          "output_type": "execute_result",
          "data": {
            "text/plain": [
              "(-650513.4586397528, 2109756.4037612295)"
            ]
          },
          "metadata": {},
          "execution_count": 43
        }
      ]
    },
    {
      "cell_type": "markdown",
      "source": [
        "# 3 Stopnia\n",
        "# (-64509.584848895305, 191734.36245621508)"
      ],
      "metadata": {
        "id": "VQAt3M4Y2kzs"
      }
    },
    {
      "cell_type": "code",
      "source": [
        "from sklearn.neighbors import KNeighborsRegressor\n",
        "\n",
        "# Inicjalizacja modelu k-NN z określoną liczbą sąsiadów, np. k=5\n",
        "model_knn = KNeighborsRegressor(n_neighbors=5)\n",
        "\n",
        "# Ustawienia walidacji krzyżowej, takie same jak ostatnio\n",
        "cv = RepeatedKFold(n_splits=5, n_repeats=5, random_state=1)\n",
        "\n",
        "# Obliczanie negatywnego MSE za pomocą walidacji krzyżowej\n",
        "blad_sredniokwadratowy_knn = cross_val_score(model_knn, X, y, scoring='neg_mean_squared_error', cv=cv, n_jobs=-1)\n",
        "\n",
        "# Średni i odchylenie standardowe negatywnego MSE\n",
        "srednia_bledu_knn = np.mean(blad_sredniokwadratowy_knn)\n",
        "odchylenie_bledu_knn = np.std(blad_sredniokwadratowy_knn)\n",
        "\n",
        "srednia_bledu_knn, odchylenie_bledu_knn\n"
      ],
      "metadata": {
        "colab": {
          "base_uri": "https://localhost:8080/"
        },
        "id": "g026FyVC28ex",
        "outputId": "0732c65a-81f6-4ede-e7bc-c1e6510133ec"
      },
      "execution_count": 44,
      "outputs": [
        {
          "output_type": "execute_result",
          "data": {
            "text/plain": [
              "(-1.1276646043758873, 0.025867448153570515)"
            ]
          },
          "metadata": {},
          "execution_count": 44
        }
      ]
    },
    {
      "cell_type": "markdown",
      "source": [
        "Taki wynik dla knn:\n",
        "# (-1.1077443132493996, 0.032400978501796886)"
      ],
      "metadata": {
        "id": "GFtEPPiL2_qY"
      }
    },
    {
      "cell_type": "code",
      "source": [
        "pyplot.boxplot([blad_sredniokwadratowy, blad_sredniokwadratowy2, blad_sredniokwadratowy3, blad_sredniokwadratowy_knn], showmeans = True)"
      ],
      "metadata": {
        "colab": {
          "base_uri": "https://localhost:8080/",
          "height": 1000
        },
        "id": "QrszksZF3-w7",
        "outputId": "7a76d3c0-cdcb-407d-b09c-df7577ee424e"
      },
      "execution_count": 45,
      "outputs": [
        {
          "output_type": "execute_result",
          "data": {
            "text/plain": [
              "{'whiskers': [<matplotlib.lines.Line2D at 0x7aa15093b7f0>,\n",
              "  <matplotlib.lines.Line2D at 0x7aa15093ba90>,\n",
              "  <matplotlib.lines.Line2D at 0x7aa15090c8e0>,\n",
              "  <matplotlib.lines.Line2D at 0x7aa15090d180>,\n",
              "  <matplotlib.lines.Line2D at 0x7aa15090e2f0>,\n",
              "  <matplotlib.lines.Line2D at 0x7aa15090ee00>,\n",
              "  <matplotlib.lines.Line2D at 0x7aa15090f400>,\n",
              "  <matplotlib.lines.Line2D at 0x7aa15090f9a0>],\n",
              " 'caps': [<matplotlib.lines.Line2D at 0x7aa15093bd30>,\n",
              "  <matplotlib.lines.Line2D at 0x7aa15093bfd0>,\n",
              "  <matplotlib.lines.Line2D at 0x7aa15090d270>,\n",
              "  <matplotlib.lines.Line2D at 0x7aa15090d990>,\n",
              "  <matplotlib.lines.Line2D at 0x7aa15090eaa0>,\n",
              "  <matplotlib.lines.Line2D at 0x7aa15090ebf0>,\n",
              "  <matplotlib.lines.Line2D at 0x7aa15090feb0>,\n",
              "  <matplotlib.lines.Line2D at 0x7aa15090fc70>],\n",
              " 'boxes': [<matplotlib.lines.Line2D at 0x7aa15093b550>,\n",
              "  <matplotlib.lines.Line2D at 0x7aa15090cc40>,\n",
              "  <matplotlib.lines.Line2D at 0x7aa15090dff0>,\n",
              "  <matplotlib.lines.Line2D at 0x7aa15090f7c0>],\n",
              " 'medians': [<matplotlib.lines.Line2D at 0x7aa15090c280>,\n",
              "  <matplotlib.lines.Line2D at 0x7aa15090d6f0>,\n",
              "  <matplotlib.lines.Line2D at 0x7aa15090e830>,\n",
              "  <matplotlib.lines.Line2D at 0x7aa150b741f0>],\n",
              " 'fliers': [<matplotlib.lines.Line2D at 0x7aa15090c850>,\n",
              "  <matplotlib.lines.Line2D at 0x7aa15090db40>,\n",
              "  <matplotlib.lines.Line2D at 0x7aa15090f250>,\n",
              "  <matplotlib.lines.Line2D at 0x7aa150b74730>],\n",
              " 'means': [<matplotlib.lines.Line2D at 0x7aa15090c610>,\n",
              "  <matplotlib.lines.Line2D at 0x7aa15090dc30>,\n",
              "  <matplotlib.lines.Line2D at 0x7aa15090f0d0>,\n",
              "  <matplotlib.lines.Line2D at 0x7aa150b74490>]}"
            ]
          },
          "metadata": {},
          "execution_count": 45
        },
        {
          "output_type": "display_data",
          "data": {
            "text/plain": [
              "<Figure size 640x480 with 1 Axes>"
            ],
            "image/png": "[encoded data removed]"
          },
          "metadata": {}
        }
      ]
    },
    {
      "cell_type": "code",
      "source": [
        "# trójka bardzo odstaje\n",
        "pyplot.boxplot([blad_sredniokwadratowy,  blad_sredniokwadratowy_knn], showmeans = True)"
      ],
      "metadata": {
        "colab": {
          "base_uri": "https://localhost:8080/",
          "height": 708
        },
        "id": "cGtX0wke5Nq1",
        "outputId": "c45d7e46-7252-4a73-cf93-4ea8dec0785e"
      },
      "execution_count": 46,
      "outputs": [
        {
          "output_type": "execute_result",
          "data": {
            "text/plain": [
              "{'whiskers': [<matplotlib.lines.Line2D at 0x7aa150c081c0>,\n",
              "  <matplotlib.lines.Line2D at 0x7aa150c08460>,\n",
              "  <matplotlib.lines.Line2D at 0x7aa150c096c0>,\n",
              "  <matplotlib.lines.Line2D at 0x7aa150c09960>],\n",
              " 'caps': [<matplotlib.lines.Line2D at 0x7aa150c08700>,\n",
              "  <matplotlib.lines.Line2D at 0x7aa150c089a0>,\n",
              "  <matplotlib.lines.Line2D at 0x7aa150c09c00>,\n",
              "  <matplotlib.lines.Line2D at 0x7aa150c09ea0>],\n",
              " 'boxes': [<matplotlib.lines.Line2D at 0x7aa150bd3ee0>,\n",
              "  <matplotlib.lines.Line2D at 0x7aa150c09420>],\n",
              " 'medians': [<matplotlib.lines.Line2D at 0x7aa150c08c40>,\n",
              "  <matplotlib.lines.Line2D at 0x7aa150c0a140>],\n",
              " 'fliers': [<matplotlib.lines.Line2D at 0x7aa150c09180>,\n",
              "  <matplotlib.lines.Line2D at 0x7aa150c0a680>],\n",
              " 'means': [<matplotlib.lines.Line2D at 0x7aa150c08ee0>,\n",
              "  <matplotlib.lines.Line2D at 0x7aa150c0a3e0>]}"
            ]
          },
          "metadata": {},
          "execution_count": 46
        },
        {
          "output_type": "display_data",
          "data": {
            "text/plain": [
              "<Figure size 640x480 with 1 Axes>"
            ],
            "image/png": "[encoded data removed]"
          },
          "metadata": {}
        }
      ]
    },
    {
      "cell_type": "code",
      "source": [
        "# To pani pokazała na końcu zajęć i dało to bardzo dobre wyniki\n",
        "pipeline = Pipeline(steps=[('normalize', MinMaxScaler()), ('model', LinearRegression())])\n",
        "model = TransformedTargetRegressor(regressor = LinearRegression())\n",
        "\n",
        "cv = RepeatedKFold(n_splits=5, n_repeats=5, random_state=1)\n",
        "\n",
        "scores_tv = cross_val_score(model, X, y, scoring = 'neg_mean_absolute_error', cv = cv, n_jobs=-1)\n",
        "\n",
        "scores = absolute(scores_tv)\n",
        "\n",
        "s_mean = mean(scores_tv)\n",
        "print (scores_tv)\n",
        "print('Mean MAE: %.3f' % (s_mean))\n",
        "\n",
        "pyplot.boxplot(scores_tv, showmeans=True)\n",
        "pyplot.show()"
      ],
      "metadata": {
        "colab": {
          "base_uri": "https://localhost:8080/",
          "height": 534
        },
        "id": "v-AY72pj8VFh",
        "outputId": "d375a731-9d2d-44a5-f28c-2cf343ea3c08"
      },
      "execution_count": 47,
      "outputs": [
        {
          "output_type": "stream",
          "name": "stdout",
          "text": [
            "[-0.53286851 -0.52878709 -0.53770585 -0.52744413 -0.5316177  -0.51838361\n",
            " -0.54599058 -0.54441511 -0.52572175 -0.52433106 -0.53594667 -0.5264349\n",
            " -0.52975192 -0.53645394 -0.52883193 -0.52756796 -0.53376565 -0.54080917\n",
            " -0.52410467 -0.5328948  -0.53331152 -0.54714239 -0.52155503 -0.53514727\n",
            " -0.53577333]\n",
            "Mean MAE: -0.532\n"
          ]
        },
        {
          "output_type": "display_data",
          "data": {
            "text/plain": [
              "<Figure size 640x480 with 1 Axes>"
            ],
            "image/png": "[encoded data removed]"
          },
          "metadata": {}
        }
      ]
    },
    {
      "cell_type": "code",
      "source": [
        "# sprawdzimy z innymi:\n",
        "pyplot.boxplot([blad_sredniokwadratowy,  blad_sredniokwadratowy_knn, scores_tv], showmeans = True)\n",
        "# pyplot.boxplot([blad_sredniokwadratowy, blad_sredniokwadratowy2,  blad_sredniokwadratowy_knn, scores_tv], showmeans = True)"
      ],
      "metadata": {
        "colab": {
          "base_uri": "https://localhost:8080/",
          "height": 846
        },
        "id": "xP9EjNKt9qjf",
        "outputId": "510ff2e4-8e3e-449a-9b43-742c6f2a9eb4"
      },
      "execution_count": 48,
      "outputs": [
        {
          "output_type": "execute_result",
          "data": {
            "text/plain": [
              "{'whiskers': [<matplotlib.lines.Line2D at 0x7aa1509de470>,\n",
              "  <matplotlib.lines.Line2D at 0x7aa1509dddb0>,\n",
              "  <matplotlib.lines.Line2D at 0x7aa1509dfaf0>,\n",
              "  <matplotlib.lines.Line2D at 0x7aa1509dfc40>,\n",
              "  <matplotlib.lines.Line2D at 0x7aa1509943d0>,\n",
              "  <matplotlib.lines.Line2D at 0x7aa1509958a0>],\n",
              " 'caps': [<matplotlib.lines.Line2D at 0x7aa1509dea10>,\n",
              "  <matplotlib.lines.Line2D at 0x7aa1509de710>,\n",
              "  <matplotlib.lines.Line2D at 0x7aa1509df040>,\n",
              "  <matplotlib.lines.Line2D at 0x7aa1509d00d0>,\n",
              "  <matplotlib.lines.Line2D at 0x7aa150994cd0>,\n",
              "  <matplotlib.lines.Line2D at 0x7aa150996050>],\n",
              " 'boxes': [<matplotlib.lines.Line2D at 0x7aa1509de1d0>,\n",
              "  <matplotlib.lines.Line2D at 0x7aa1509df850>,\n",
              "  <matplotlib.lines.Line2D at 0x7aa1509964d0>],\n",
              " 'medians': [<matplotlib.lines.Line2D at 0x7aa1509df070>,\n",
              "  <matplotlib.lines.Line2D at 0x7aa1509d0370>,\n",
              "  <matplotlib.lines.Line2D at 0x7aa150974a90>],\n",
              " 'fliers': [<matplotlib.lines.Line2D at 0x7aa1509df580>,\n",
              "  <matplotlib.lines.Line2D at 0x7aa150995c90>,\n",
              "  <matplotlib.lines.Line2D at 0x7aa150974310>],\n",
              " 'means': [<matplotlib.lines.Line2D at 0x7aa1509df280>,\n",
              "  <matplotlib.lines.Line2D at 0x7aa1509952d0>,\n",
              "  <matplotlib.lines.Line2D at 0x7aa150974340>]}"
            ]
          },
          "metadata": {},
          "execution_count": 48
        },
        {
          "output_type": "display_data",
          "data": {
            "text/plain": [
              "<Figure size 640x480 with 1 Axes>"
            ],
            "image/png": "[encoded data removed]"
          },
          "metadata": {}
        }
      ]
    },
    {
      "cell_type": "code",
      "source": [],
      "metadata": {
        "id": "BtAl87x-9r1L"
      },
      "execution_count": 48,
      "outputs": []
    }
  ]
}