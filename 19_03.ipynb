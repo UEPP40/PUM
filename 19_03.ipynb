{
  "nbformat": 4,
  "nbformat_minor": 0,
  "metadata": {
    "colab": {
      "provenance": [],
      "authorship_tag": "ABX9TyM91/E2yDJPExJtfOLC3Z+n",
      "include_colab_link": true
    },
    "kernelspec": {
      "name": "python3",
      "display_name": "Python 3"
    },
    "language_info": {
      "name": "python"
    }
  },
  "cells": [
    {
      "cell_type": "markdown",
      "metadata": {
        "id": "view-in-github",
        "colab_type": "text"
      },
      "source": [
        "<a href=\"https://colab.research.google.com/github/UEPP40/PUM/blob/Zyrek/19_03.ipynb\" target=\"_parent\"><img src=\"https://colab.research.google.com/assets/colab-badge.svg\" alt=\"Open In Colab\"/></a>"
      ]
    },
    {
      "cell_type": "code",
      "execution_count": 15,
      "metadata": {
        "id": "MHcxqRNbuN1B"
      },
      "outputs": [],
      "source": [
        "import pandas as pd\n",
        "import numpy as np\n",
        "from sklearn.model_selection import train_test_split\n",
        "from sklearn.linear_model import LinearRegression, HuberRegressor\n",
        "from sklearn.preprocessing import LabelEncoder\n",
        "from sklearn.metrics import mean_absolute_error, median_absolute_error, r2_score\n",
        "\n",
        "df  =  pd.read_csv(\"Salary Data (2).csv\")\n",
        "df.dropna(inplace=True)\n",
        "le = LabelEncoder()\n",
        "df.dtypes\n",
        "columns= [\"Gender\",\"Education Level\", \"Job Title\"]\n",
        "df[columns] = df[columns].apply(LabelEncoder().fit_transform)\n",
        "train_df, test_df = train_test_split(df, test_size = 0.3, random_state=40)\n",
        "\n",
        "X_train = train_df[['Age','Gender','Education Level', 'Job Title', 'Years of Experience']]\n",
        "Y_train = train_df['Salary']\n",
        "X_test = test_df[['Age','Gender','Education Level', 'Job Title', 'Years of Experience']]\n",
        "Y_test = test_df['Salary']\n",
        "\n",
        "reg = LinearRegression().fit(X_train,Y_train)\n",
        "reg.score(X_train,Y_train)\n",
        "reg.coef_\n",
        "reg.intercept_\n",
        "y_predict = reg.predict(X_test)"
      ]
    },
    {
      "cell_type": "code",
      "source": [
        "y_true = Y_test\n",
        "mean_absolute_error(y_true,y_predict)"
      ],
      "metadata": {
        "colab": {
          "base_uri": "https://localhost:8080/"
        },
        "id": "08ICkifH5N33",
        "outputId": "08ecdda6-c95a-4ccb-9547-a6fc9362ec35"
      },
      "execution_count": 16,
      "outputs": [
        {
          "output_type": "execute_result",
          "data": {
            "text/plain": [
              "12351.261118548075"
            ]
          },
          "metadata": {},
          "execution_count": 16
        }
      ]
    },
    {
      "cell_type": "code",
      "source": [
        "y_true = Y_test\n",
        "median_absolute_error(y_true, y_predict)"
      ],
      "metadata": {
        "colab": {
          "base_uri": "https://localhost:8080/"
        },
        "id": "5zhvZpJb8WpM",
        "outputId": "db1b3e3d-a46d-49da-d593-ffe47a04b985"
      },
      "execution_count": 17,
      "outputs": [
        {
          "output_type": "execute_result",
          "data": {
            "text/plain": [
              "10532.659544538386"
            ]
          },
          "metadata": {},
          "execution_count": 17
        }
      ]
    },
    {
      "cell_type": "code",
      "source": [
        "y_true = Y_test\n",
        "r2_score(y_true, y_predict)"
      ],
      "metadata": {
        "colab": {
          "base_uri": "https://localhost:8080/"
        },
        "id": "vDErEke782xm",
        "outputId": "73483822-e0fa-432d-dc6d-80399b26c961"
      },
      "execution_count": 18,
      "outputs": [
        {
          "output_type": "execute_result",
          "data": {
            "text/plain": [
              "0.885420522400265"
            ]
          },
          "metadata": {},
          "execution_count": 18
        }
      ]
    },
    {
      "cell_type": "code",
      "source": [
        "hub = HuberRegressor().fit(X_train,Y_train)\n",
        "hub.score(X_train,Y_train)\n",
        "hub.coef_\n",
        "hub.intercept_\n",
        "y_predict_hub = hub.predict(X_test)"
      ],
      "metadata": {
        "id": "fOY9UJQ09IYO"
      },
      "execution_count": 21,
      "outputs": []
    },
    {
      "cell_type": "code",
      "source": [
        "y_true = Y_test\n",
        "mean_absolute_error(y_true,y_predict_hub)"
      ],
      "metadata": {
        "colab": {
          "base_uri": "https://localhost:8080/"
        },
        "id": "FXsFbWyv93ch",
        "outputId": "c253a3c7-27a3-4f40-ccc3-4d7532cc2d58"
      },
      "execution_count": 22,
      "outputs": [
        {
          "output_type": "execute_result",
          "data": {
            "text/plain": [
              "11696.811241388032"
            ]
          },
          "metadata": {},
          "execution_count": 22
        }
      ]
    },
    {
      "cell_type": "code",
      "source": [
        "y_true = Y_test\n",
        "median_absolute_error(y_true,y_predict_hub)"
      ],
      "metadata": {
        "colab": {
          "base_uri": "https://localhost:8080/"
        },
        "id": "2tn7iAl796IE",
        "outputId": "88430099-710e-4f82-ca6e-a80887a133b3"
      },
      "execution_count": 23,
      "outputs": [
        {
          "output_type": "execute_result",
          "data": {
            "text/plain": [
              "9092.997949978522"
            ]
          },
          "metadata": {},
          "execution_count": 23
        }
      ]
    },
    {
      "cell_type": "code",
      "source": [
        "y_true = Y_test\n",
        "r2_score(y_true,y_predict_hub)"
      ],
      "metadata": {
        "colab": {
          "base_uri": "https://localhost:8080/"
        },
        "id": "2LwzB06f99GQ",
        "outputId": "2db480aa-4085-46c6-c72b-843240f9ee07"
      },
      "execution_count": 24,
      "outputs": [
        {
          "output_type": "execute_result",
          "data": {
            "text/plain": [
              "0.8944905861139743"
            ]
          },
          "metadata": {},
          "execution_count": 24
        }
      ]
    }
  ]
}