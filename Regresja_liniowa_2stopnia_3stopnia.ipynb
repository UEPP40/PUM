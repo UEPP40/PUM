{
  "nbformat": 4,
  "nbformat_minor": 0,
  "metadata": {
    "colab": {
      "provenance": [],
      "authorship_tag": "ABX9TyOU0crd0Vrvl53B3684coee",
      "include_colab_link": true
    },
    "kernelspec": {
      "name": "python3",
      "display_name": "Python 3"
    },
    "language_info": {
      "name": "python"
    }
  },
  "cells": [
    {
      "cell_type": "markdown",
      "metadata": {
        "id": "view-in-github",
        "colab_type": "text"
      },
      "source": [
        "<a href=\"https://colab.research.google.com/github/UEPP40/PUM/blob/gamszej/Regresja_liniowa_2stopnia_3stopnia.ipynb\" target=\"_parent\"><img src=\"https://colab.research.google.com/assets/colab-badge.svg\" alt=\"Open In Colab\"/></a>"
      ]
    },
    {
      "cell_type": "code",
      "execution_count": null,
      "metadata": {
        "id": "OSM3xjrupazH"
      },
      "outputs": [],
      "source": [
        "import pandas as pd\n",
        "from numpy import mean, std, absolute\n",
        "from matplotlib import pyplot\n",
        "\n",
        "from sklearn.datasets import fetch_california_housing\n",
        "\n",
        "from sklearn.model_selection import cross_val_score, KFold, RepeatedKFold\n",
        "\n",
        "from sklearn.pipeline import Pipeline\n",
        "from sklearn.linear_model import LinearRegression, HuberRegressor\n",
        "\n",
        "from sklearn.compose import TransformedTargetRegressor\n",
        "\n",
        "from sklearn.preprocessing import PolynomialFeatures, MinMaxScaler\n",
        "\n",
        "from sklearn.metrics import mean_squared_error\n",
        "\n",
        "housing = fetch_california_housing()\n",
        "print(housing.data.shape, housing.target.shape)\n",
        "print(housing.feature_names)\n",
        "X = pd.DataFrame(data = housing.data, columns = housing.feature_names)\n",
        "\n",
        "print(X.head())\n",
        "y=housing.target"
      ]
    },
    {
      "cell_type": "code",
      "source": [
        "from sklearn.model_selection import train_test_split\n",
        "\n",
        "X_train, X_test, y_train, y_test = train_test_split(X, y, test_size=0.2, random_state=42)"
      ],
      "metadata": {
        "id": "9oABeriZ3M_7"
      },
      "execution_count": null,
      "outputs": []
    },
    {
      "cell_type": "code",
      "source": [
        "#liniowa\n",
        "model1 = Pipeline([\n",
        "    ('scaler', MinMaxScaler()),\n",
        "    ('regressor', LinearRegression())\n",
        "])\n",
        "\n",
        "model1.fit(X_train, y_train)\n",
        "\n",
        "score1 = model1.score(X_test, y_test)\n",
        "print(\"Wynik liniowa:\", score1)"
      ],
      "metadata": {
        "colab": {
          "base_uri": "https://localhost:8080/"
        },
        "id": "3Qpkedym9Llq",
        "outputId": "d1158906-9d5e-4802-cc3d-24a4831099e8"
      },
      "execution_count": 33,
      "outputs": [
        {
          "output_type": "stream",
          "name": "stdout",
          "text": [
            "Wynik liniowa: 0.5757877060324512\n"
          ]
        }
      ]
    },
    {
      "cell_type": "code",
      "source": [
        "#Wielomianowa 2 Stopnia\n",
        "model2 = Pipeline([\n",
        "    ('poly', PolynomialFeatures(degree=2)),\n",
        "    ('linear', LinearRegression())\n",
        "])\n",
        "\n",
        "# Dopasowanie modelu do danych treningowych\n",
        "model2.fit(X_train, y_train)\n",
        "\n",
        "# Ocena modelu na danych testowych\n",
        "score = model2.score(X_test, y_test)\n",
        "print(\"Wynik 2:\", score)"
      ],
      "metadata": {
        "id": "HIQgkjt24dib",
        "colab": {
          "base_uri": "https://localhost:8080/"
        },
        "outputId": "4e56c578-aa86-4695-f54d-ce89808db2ad"
      },
      "execution_count": 32,
      "outputs": [
        {
          "output_type": "stream",
          "name": "stdout",
          "text": [
            "Wynik 2: 0.6456819713278688\n"
          ]
        }
      ]
    },
    {
      "cell_type": "code",
      "source": [
        "#Wielomianowa 3 Stopnia\n",
        "model3 = Pipeline([\n",
        "    ('poly', PolynomialFeatures(degree=3)),\n",
        "    ('linear', LinearRegression())\n",
        "])\n",
        "\n",
        "model3.fit(X_train, y_train)\n",
        "\n",
        "score = model3.score(X_test, y_test)\n",
        "print(\"Wynik 3:\", score)"
      ],
      "metadata": {
        "id": "gAxrHN7n4wOW",
        "colab": {
          "base_uri": "https://localhost:8080/"
        },
        "outputId": "44fea278-a912-4424-bba6-47049b212fc1"
      },
      "execution_count": 31,
      "outputs": [
        {
          "output_type": "stream",
          "name": "stdout",
          "text": [
            "Wynik 3: -17.395619727030436\n"
          ]
        }
      ]
    }
  ]
}