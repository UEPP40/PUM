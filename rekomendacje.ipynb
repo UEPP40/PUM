{
 "cells": [
  {
   "cell_type": "code",
   "execution_count": 11,
   "metadata": {},
   "outputs": [],
   "source": [
    "import numpy as np\n",
    "import pandas as pd\n",
    "import matplotlib.pyplot as plt\n",
    "from scipy.cluster.hierarchy import dendrogram\n",
    "import seaborn as sns\n",
    "from sklearn.cluster import KMeans, AgglomerativeClustering\n",
    "from sklearn.preprocessing import LabelEncoder\n",
    "from mlxtend.preprocessing import TransactionEncoder\n",
    "from mlxtend.frequent_patterns import apriori, association_rules\n",
    "import csv"
   ]
  },
  {
   "cell_type": "code",
   "execution_count": 12,
   "metadata": {},
   "outputs": [
    {
     "name": "stdout",
     "output_type": "stream",
     "text": [
      "[['MILK', 'BREAD', 'BISCUIT'], ['BREAD', 'MILK', 'BISCUIT', 'CORNFLAKES'], ['BREAD', 'TEA', 'BOURNVITA'], ['JAM', 'MAGGI', 'BREAD', 'MILK'], ['MAGGI', 'TEA', 'BISCUIT'], ['BREAD', 'TEA', 'BOURNVITA'], ['MAGGI', 'TEA', 'CORNFLAKES'], ['MAGGI', 'BREAD', 'TEA', 'BISCUIT'], ['JAM', 'MAGGI', 'BREAD', 'TEA'], ['BREAD', 'MILK'], ['COFFEE', 'COCK', 'BISCUIT', 'CORNFLAKES'], ['COFFEE', 'COCK', 'BISCUIT', 'CORNFLAKES'], ['COFFEE', 'SUGER', 'BOURNVITA'], ['BREAD', 'COFFEE', 'COCK'], ['BREAD', 'SUGER', 'BISCUIT'], ['COFFEE', 'SUGER', 'CORNFLAKES'], ['BREAD', 'SUGER', 'BOURNVITA'], ['BREAD', 'COFFEE', 'SUGER'], ['BREAD', 'COFFEE', 'SUGER'], ['TEA', 'MILK', 'COFFEE', 'CORNFLAKES']]\n"
     ]
    }
   ],
   "source": [
    "with open('GroceryStoreDataSet.csv', 'r') as f:\n",
    "    reader = csv.reader(f)\n",
    "    dataset = list(reader)\n",
    "\n",
    "print(dataset)"
   ]
  },
  {
   "cell_type": "code",
   "execution_count": 13,
   "metadata": {},
   "outputs": [
    {
     "data": {
      "text/html": [
       "<div>\n",
       "<style scoped>\n",
       "    .dataframe tbody tr th:only-of-type {\n",
       "        vertical-align: middle;\n",
       "    }\n",
       "\n",
       "    .dataframe tbody tr th {\n",
       "        vertical-align: top;\n",
       "    }\n",
       "\n",
       "    .dataframe thead th {\n",
       "        text-align: right;\n",
       "    }\n",
       "</style>\n",
       "<table border=\"1\" class=\"dataframe\">\n",
       "  <thead>\n",
       "    <tr style=\"text-align: right;\">\n",
       "      <th></th>\n",
       "      <th>BISCUIT</th>\n",
       "      <th>BOURNVITA</th>\n",
       "      <th>BREAD</th>\n",
       "      <th>COCK</th>\n",
       "      <th>COFFEE</th>\n",
       "      <th>CORNFLAKES</th>\n",
       "      <th>JAM</th>\n",
       "      <th>MAGGI</th>\n",
       "      <th>MILK</th>\n",
       "      <th>SUGER</th>\n",
       "      <th>TEA</th>\n",
       "    </tr>\n",
       "  </thead>\n",
       "  <tbody>\n",
       "    <tr>\n",
       "      <th>0</th>\n",
       "      <td>True</td>\n",
       "      <td>False</td>\n",
       "      <td>True</td>\n",
       "      <td>False</td>\n",
       "      <td>False</td>\n",
       "      <td>False</td>\n",
       "      <td>False</td>\n",
       "      <td>False</td>\n",
       "      <td>True</td>\n",
       "      <td>False</td>\n",
       "      <td>False</td>\n",
       "    </tr>\n",
       "    <tr>\n",
       "      <th>1</th>\n",
       "      <td>True</td>\n",
       "      <td>False</td>\n",
       "      <td>True</td>\n",
       "      <td>False</td>\n",
       "      <td>False</td>\n",
       "      <td>True</td>\n",
       "      <td>False</td>\n",
       "      <td>False</td>\n",
       "      <td>True</td>\n",
       "      <td>False</td>\n",
       "      <td>False</td>\n",
       "    </tr>\n",
       "    <tr>\n",
       "      <th>2</th>\n",
       "      <td>False</td>\n",
       "      <td>True</td>\n",
       "      <td>True</td>\n",
       "      <td>False</td>\n",
       "      <td>False</td>\n",
       "      <td>False</td>\n",
       "      <td>False</td>\n",
       "      <td>False</td>\n",
       "      <td>False</td>\n",
       "      <td>False</td>\n",
       "      <td>True</td>\n",
       "    </tr>\n",
       "    <tr>\n",
       "      <th>3</th>\n",
       "      <td>False</td>\n",
       "      <td>False</td>\n",
       "      <td>True</td>\n",
       "      <td>False</td>\n",
       "      <td>False</td>\n",
       "      <td>False</td>\n",
       "      <td>True</td>\n",
       "      <td>True</td>\n",
       "      <td>True</td>\n",
       "      <td>False</td>\n",
       "      <td>False</td>\n",
       "    </tr>\n",
       "    <tr>\n",
       "      <th>4</th>\n",
       "      <td>True</td>\n",
       "      <td>False</td>\n",
       "      <td>False</td>\n",
       "      <td>False</td>\n",
       "      <td>False</td>\n",
       "      <td>False</td>\n",
       "      <td>False</td>\n",
       "      <td>True</td>\n",
       "      <td>False</td>\n",
       "      <td>False</td>\n",
       "      <td>True</td>\n",
       "    </tr>\n",
       "  </tbody>\n",
       "</table>\n",
       "</div>"
      ],
      "text/plain": [
       "   BISCUIT  BOURNVITA  BREAD   COCK  COFFEE  CORNFLAKES    JAM  MAGGI   MILK  \\\n",
       "0     True      False   True  False   False       False  False  False   True   \n",
       "1     True      False   True  False   False        True  False  False   True   \n",
       "2    False       True   True  False   False       False  False  False  False   \n",
       "3    False      False   True  False   False       False   True   True   True   \n",
       "4     True      False  False  False   False       False  False   True  False   \n",
       "\n",
       "   SUGER    TEA  \n",
       "0  False  False  \n",
       "1  False  False  \n",
       "2  False   True  \n",
       "3  False  False  \n",
       "4  False   True  "
      ]
     },
     "execution_count": 13,
     "metadata": {},
     "output_type": "execute_result"
    }
   ],
   "source": [
    "encoder = TransactionEncoder()\n",
    "encoded_data = encoder.fit(dataset).transform(dataset) \n",
    "\n",
    "df_encoded = pd.DataFrame(encoded_data, columns=encoder.columns_)\n",
    "df_encoded.head()"
   ]
  },
  {
   "cell_type": "code",
   "execution_count": 14,
   "metadata": {},
   "outputs": [
    {
     "data": {
      "text/html": [
       "<div>\n",
       "<style scoped>\n",
       "    .dataframe tbody tr th:only-of-type {\n",
       "        vertical-align: middle;\n",
       "    }\n",
       "\n",
       "    .dataframe tbody tr th {\n",
       "        vertical-align: top;\n",
       "    }\n",
       "\n",
       "    .dataframe thead th {\n",
       "        text-align: right;\n",
       "    }\n",
       "</style>\n",
       "<table border=\"1\" class=\"dataframe\">\n",
       "  <thead>\n",
       "    <tr style=\"text-align: right;\">\n",
       "      <th></th>\n",
       "      <th>BISCUIT</th>\n",
       "      <th>BOURNVITA</th>\n",
       "      <th>BREAD</th>\n",
       "      <th>COCK</th>\n",
       "      <th>COFFEE</th>\n",
       "      <th>CORNFLAKES</th>\n",
       "      <th>JAM</th>\n",
       "      <th>MAGGI</th>\n",
       "      <th>MILK</th>\n",
       "      <th>SUGER</th>\n",
       "      <th>TEA</th>\n",
       "    </tr>\n",
       "  </thead>\n",
       "  <tbody>\n",
       "    <tr>\n",
       "      <th>0</th>\n",
       "      <td>1</td>\n",
       "      <td>0</td>\n",
       "      <td>1</td>\n",
       "      <td>0</td>\n",
       "      <td>0</td>\n",
       "      <td>0</td>\n",
       "      <td>0</td>\n",
       "      <td>0</td>\n",
       "      <td>1</td>\n",
       "      <td>0</td>\n",
       "      <td>0</td>\n",
       "    </tr>\n",
       "    <tr>\n",
       "      <th>1</th>\n",
       "      <td>1</td>\n",
       "      <td>0</td>\n",
       "      <td>1</td>\n",
       "      <td>0</td>\n",
       "      <td>0</td>\n",
       "      <td>1</td>\n",
       "      <td>0</td>\n",
       "      <td>0</td>\n",
       "      <td>1</td>\n",
       "      <td>0</td>\n",
       "      <td>0</td>\n",
       "    </tr>\n",
       "    <tr>\n",
       "      <th>2</th>\n",
       "      <td>0</td>\n",
       "      <td>1</td>\n",
       "      <td>1</td>\n",
       "      <td>0</td>\n",
       "      <td>0</td>\n",
       "      <td>0</td>\n",
       "      <td>0</td>\n",
       "      <td>0</td>\n",
       "      <td>0</td>\n",
       "      <td>0</td>\n",
       "      <td>1</td>\n",
       "    </tr>\n",
       "    <tr>\n",
       "      <th>3</th>\n",
       "      <td>0</td>\n",
       "      <td>0</td>\n",
       "      <td>1</td>\n",
       "      <td>0</td>\n",
       "      <td>0</td>\n",
       "      <td>0</td>\n",
       "      <td>1</td>\n",
       "      <td>1</td>\n",
       "      <td>1</td>\n",
       "      <td>0</td>\n",
       "      <td>0</td>\n",
       "    </tr>\n",
       "    <tr>\n",
       "      <th>4</th>\n",
       "      <td>1</td>\n",
       "      <td>0</td>\n",
       "      <td>0</td>\n",
       "      <td>0</td>\n",
       "      <td>0</td>\n",
       "      <td>0</td>\n",
       "      <td>0</td>\n",
       "      <td>1</td>\n",
       "      <td>0</td>\n",
       "      <td>0</td>\n",
       "      <td>1</td>\n",
       "    </tr>\n",
       "  </tbody>\n",
       "</table>\n",
       "</div>"
      ],
      "text/plain": [
       "   BISCUIT  BOURNVITA  BREAD  COCK  COFFEE  CORNFLAKES  JAM  MAGGI  MILK  \\\n",
       "0        1          0      1     0       0           0    0      0     1   \n",
       "1        1          0      1     0       0           1    0      0     1   \n",
       "2        0          1      1     0       0           0    0      0     0   \n",
       "3        0          0      1     0       0           0    1      1     1   \n",
       "4        1          0      0     0       0           0    0      1     0   \n",
       "\n",
       "   SUGER  TEA  \n",
       "0      0    0  \n",
       "1      0    0  \n",
       "2      0    1  \n",
       "3      0    0  \n",
       "4      0    1  "
      ]
     },
     "execution_count": 14,
     "metadata": {},
     "output_type": "execute_result"
    }
   ],
   "source": [
    "df_encoded = df_encoded.astype(int)\n",
    "df_encoded.head()"
   ]
  },
  {
   "cell_type": "code",
   "execution_count": 15,
   "metadata": {},
   "outputs": [
    {
     "name": "stderr",
     "output_type": "stream",
     "text": [
      "C:\\Users\\bwojt\\AppData\\Local\\Temp\\ipykernel_22164\\386141622.py:10: FutureWarning: \n",
      "\n",
      "Passing `palette` without assigning `hue` is deprecated and will be removed in v0.14.0. Assign the `y` variable to `hue` and set `legend=False` for the same effect.\n",
      "\n",
      "  sns.barplot(x=item_freq.values, y=item_freq.index, palette='viridis')\n"
     ]
    },
    {
     "data": {
      "image/png": "[encoded data removed]",
      "text/plain": [
       "<Figure size 1000x500 with 1 Axes>"
      ]
     },
     "metadata": {},
     "output_type": "display_data"
    }
   ],
   "source": [
    "pd.api.types.is_categorical_dtype\n",
    "\n",
    "# Summing up the columns to get the frequency of each item\n",
    "item_freq = df_encoded.sum().sort_values(ascending=False)\n",
    "\n",
    "# Setting up the figure size for better visualization\n",
    "plt.figure(figsize=(10, 5))\n",
    "\n",
    "# Creating a bar chart\n",
    "sns.barplot(x=item_freq.values, y=item_freq.index, palette='viridis')\n",
    "\n",
    "# Adding title and labels to the axes\n",
    "plt.title('Frequency of Items in Transactions')\n",
    "plt.xlabel('Frequency')\n",
    "plt.ylabel('Items')\n",
    "plt.show()"
   ]
  },
  {
   "cell_type": "code",
   "execution_count": 16,
   "metadata": {},
   "outputs": [
    {
     "name": "stdout",
     "output_type": "stream",
     "text": [
      "Processing 117 combinations | Sampling itemset size 3\n",
      "    support               itemsets\n",
      "2      0.65                (BREAD)\n",
      "4      0.40               (COFFEE)\n",
      "0      0.35              (BISCUIT)\n",
      "9      0.35                  (TEA)\n",
      "5      0.30           (CORNFLAKES)\n",
      "8      0.30                (SUGER)\n",
      "6      0.25                (MAGGI)\n",
      "7      0.25                 (MILK)\n",
      "15     0.20          (MILK, BREAD)\n",
      "20     0.20        (COFFEE, SUGER)\n",
      "19     0.20   (COFFEE, CORNFLAKES)\n",
      "17     0.20           (BREAD, TEA)\n",
      "16     0.20         (BREAD, SUGER)\n",
      "21     0.20           (MAGGI, TEA)\n",
      "1      0.20            (BOURNVITA)\n",
      "10     0.20       (BREAD, BISCUIT)\n",
      "14     0.15         (BREAD, MAGGI)\n",
      "13     0.15        (BREAD, COFFEE)\n",
      "12     0.15     (BREAD, BOURNVITA)\n",
      "18     0.15         (COCK, COFFEE)\n",
      "3      0.15                 (COCK)\n",
      "11     0.15  (CORNFLAKES, BISCUIT)\n"
     ]
    },
    {
     "name": "stderr",
     "output_type": "stream",
     "text": [
      "C:\\Users\\bwojt\\AppData\\Local\\Packages\\PythonSoftwareFoundation.Python.3.11_qbz5n2kfra8p0\\LocalCache\\local-packages\\Python311\\site-packages\\mlxtend\\frequent_patterns\\fpcommon.py:109: DeprecationWarning: DataFrames with non-bool types result in worse computationalperformance and their support might be discontinued in the future.Please use a DataFrame with bool type\n",
      "  warnings.warn(\n"
     ]
    }
   ],
   "source": [
    "df = apriori(df_encoded, min_support = 0.15, use_colnames = True, verbose = 1)\n",
    "\n",
    "df = df.sort_values(by=\"support\", ascending = False)\n",
    "print(df)"
   ]
  },
  {
   "cell_type": "code",
   "execution_count": 17,
   "metadata": {},
   "outputs": [
    {
     "name": "stdout",
     "output_type": "stream",
     "text": [
      "    antecedents consequents  antecedent support  consequent support  support  \\\n",
      "0        (MILK)     (BREAD)                0.25                0.65     0.20   \n",
      "1       (SUGER)    (COFFEE)                0.30                0.40     0.20   \n",
      "2  (CORNFLAKES)    (COFFEE)                0.30                0.40     0.20   \n",
      "3       (SUGER)     (BREAD)                0.30                0.65     0.20   \n",
      "4       (MAGGI)       (TEA)                0.25                0.35     0.20   \n",
      "5       (MAGGI)     (BREAD)                0.25                0.65     0.15   \n",
      "6   (BOURNVITA)     (BREAD)                0.20                0.65     0.15   \n",
      "7        (COCK)    (COFFEE)                0.15                0.40     0.15   \n",
      "\n",
      "   confidence      lift  leverage  conviction  zhangs_metric  \n",
      "0    0.800000  1.230769    0.0375       1.750       0.250000  \n",
      "1    0.666667  1.666667    0.0800       1.800       0.571429  \n",
      "2    0.666667  1.666667    0.0800       1.800       0.571429  \n",
      "3    0.666667  1.025641    0.0050       1.050       0.035714  \n",
      "4    0.800000  2.285714    0.1125       3.250       0.750000  \n",
      "5    0.600000  0.923077   -0.0125       0.875      -0.100000  \n",
      "6    0.750000  1.153846    0.0200       1.400       0.166667  \n",
      "7    1.000000  2.500000    0.0900         inf       0.705882  \n"
     ]
    }
   ],
   "source": [
    "df_ar = association_rules(df, metric = \"confidence\", min_threshold = 0.6)\n",
    "print(df_ar)"
   ]
  },
  {
   "cell_type": "code",
   "execution_count": 18,
   "metadata": {},
   "outputs": [
    {
     "name": "stdout",
     "output_type": "stream",
     "text": [
      "    antecedents consequents  antecedent support  consequent support  support  \\\n",
      "0        (MILK)     (BREAD)                0.25                0.65     0.20   \n",
      "1       (SUGER)    (COFFEE)                0.30                0.40     0.20   \n",
      "2  (CORNFLAKES)    (COFFEE)                0.30                0.40     0.20   \n",
      "3       (SUGER)     (BREAD)                0.30                0.65     0.20   \n",
      "4       (MAGGI)       (TEA)                0.25                0.35     0.20   \n",
      "5       (MAGGI)     (BREAD)                0.25                0.65     0.15   \n",
      "6   (BOURNVITA)     (BREAD)                0.20                0.65     0.15   \n",
      "7        (COCK)    (COFFEE)                0.15                0.40     0.15   \n",
      "\n",
      "   confidence      lift  leverage  conviction  zhangs_metric  \n",
      "0    0.800000  1.230769    0.0375       1.750       0.250000  \n",
      "1    0.666667  1.666667    0.0800       1.800       0.571429  \n",
      "2    0.666667  1.666667    0.0800       1.800       0.571429  \n",
      "3    0.666667  1.025641    0.0050       1.050       0.035714  \n",
      "4    0.800000  2.285714    0.1125       3.250       0.750000  \n",
      "5    0.600000  0.923077   -0.0125       0.875      -0.100000  \n",
      "6    0.750000  1.153846    0.0200       1.400       0.166667  \n",
      "7    1.000000  2.500000    0.0900         inf       0.705882  \n"
     ]
    }
   ],
   "source": [
    "df_ar = df_ar.sort_values(by=\"support\", ascending = False)\n",
    "print(df_ar)"
   ]
  },
  {
   "cell_type": "code",
   "execution_count": 19,
   "metadata": {},
   "outputs": [
    {
     "name": "stdout",
     "output_type": "stream",
     "text": [
      "    antecedents consequents  antecedent support  consequent support  support  \\\n",
      "7        (COCK)    (COFFEE)                0.15                0.40     0.15   \n",
      "0        (MILK)     (BREAD)                0.25                0.65     0.20   \n",
      "4       (MAGGI)       (TEA)                0.25                0.35     0.20   \n",
      "6   (BOURNVITA)     (BREAD)                0.20                0.65     0.15   \n",
      "1       (SUGER)    (COFFEE)                0.30                0.40     0.20   \n",
      "2  (CORNFLAKES)    (COFFEE)                0.30                0.40     0.20   \n",
      "3       (SUGER)     (BREAD)                0.30                0.65     0.20   \n",
      "5       (MAGGI)     (BREAD)                0.25                0.65     0.15   \n",
      "\n",
      "   confidence      lift  leverage  conviction  zhangs_metric  \n",
      "7    1.000000  2.500000    0.0900         inf       0.705882  \n",
      "0    0.800000  1.230769    0.0375       1.750       0.250000  \n",
      "4    0.800000  2.285714    0.1125       3.250       0.750000  \n",
      "6    0.750000  1.153846    0.0200       1.400       0.166667  \n",
      "1    0.666667  1.666667    0.0800       1.800       0.571429  \n",
      "2    0.666667  1.666667    0.0800       1.800       0.571429  \n",
      "3    0.666667  1.025641    0.0050       1.050       0.035714  \n",
      "5    0.600000  0.923077   -0.0125       0.875      -0.100000  \n"
     ]
    }
   ],
   "source": [
    "df_ar = df_ar.sort_values(by='confidence', ascending=False)\n",
    "print(df_ar)"
   ]
  },
  {
   "cell_type": "code",
   "execution_count": 20,
   "metadata": {},
   "outputs": [
    {
     "name": "stdout",
     "output_type": "stream",
     "text": [
      "    antecedents consequents  antecedent support  consequent support  support  \\\n",
      "7        (COCK)    (COFFEE)                0.15                0.40     0.15   \n",
      "4       (MAGGI)       (TEA)                0.25                0.35     0.20   \n",
      "1       (SUGER)    (COFFEE)                0.30                0.40     0.20   \n",
      "2  (CORNFLAKES)    (COFFEE)                0.30                0.40     0.20   \n",
      "0        (MILK)     (BREAD)                0.25                0.65     0.20   \n",
      "6   (BOURNVITA)     (BREAD)                0.20                0.65     0.15   \n",
      "3       (SUGER)     (BREAD)                0.30                0.65     0.20   \n",
      "5       (MAGGI)     (BREAD)                0.25                0.65     0.15   \n",
      "\n",
      "   confidence      lift  leverage  conviction  zhangs_metric  \n",
      "7    1.000000  2.500000    0.0900         inf       0.705882  \n",
      "4    0.800000  2.285714    0.1125       3.250       0.750000  \n",
      "1    0.666667  1.666667    0.0800       1.800       0.571429  \n",
      "2    0.666667  1.666667    0.0800       1.800       0.571429  \n",
      "0    0.800000  1.230769    0.0375       1.750       0.250000  \n",
      "6    0.750000  1.153846    0.0200       1.400       0.166667  \n",
      "3    0.666667  1.025641    0.0050       1.050       0.035714  \n",
      "5    0.600000  0.923077   -0.0125       0.875      -0.100000  \n"
     ]
    }
   ],
   "source": [
    "df_ar = df_ar.sort_values(by='lift', ascending=False)\n",
    "print(df_ar)"
   ]
  }
 ],
 "metadata": {
  "kernelspec": {
   "display_name": "Python 3",
   "language": "python",
   "name": "python3"
  },
  "language_info": {
   "codemirror_mode": {
    "name": "ipython",
    "version": 3
   },
   "file_extension": ".py",
   "mimetype": "text/x-python",
   "name": "python",
   "nbconvert_exporter": "python",
   "pygments_lexer": "ipython3",
   "version": "3.11.9"
  }
 },
 "nbformat": 4,
 "nbformat_minor": 2
}
