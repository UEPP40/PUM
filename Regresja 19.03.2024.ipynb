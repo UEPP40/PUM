{
  "nbformat": 4,
  "nbformat_minor": 0,
  "metadata": {
    "colab": {
      "provenance": [],
      "authorship_tag": "ABX9TyN1AnGgn3w98QkgtKaWwbyi",
      "include_colab_link": true
    },
    "kernelspec": {
      "name": "python3",
      "display_name": "Python 3"
    },
    "language_info": {
      "name": "python"
    }
  },
  "cells": [
    {
      "cell_type": "markdown",
      "metadata": {
        "id": "view-in-github",
        "colab_type": "text"
      },
      "source": [
        "<a href=\"https://colab.research.google.com/github/UEPP40/PUM/blob/golon/Regresja%2019.03.2024.ipynb\" target=\"_parent\"><img src=\"https://colab.research.google.com/assets/colab-badge.svg\" alt=\"Open In Colab\"/></a>"
      ]
    },
    {
      "cell_type": "code",
      "execution_count": 23,
      "metadata": {
        "colab": {
          "base_uri": "https://localhost:8080/"
        },
        "id": "gR4aMQlCuLQs",
        "outputId": "eb40e0b0-3e0c-4198-db29-d5b863e2cb94"
      },
      "outputs": [
        {
          "output_type": "execute_result",
          "data": {
            "text/plain": [
              "Age                    float64\n",
              "Gender                  string\n",
              "Education Level         string\n",
              "Job Title               string\n",
              "Years of Experience    float64\n",
              "Salary                 float64\n",
              "dtype: object"
            ]
          },
          "metadata": {},
          "execution_count": 23
        }
      ],
      "source": [
        "from ast import Str\n",
        "import numpy as np\n",
        "import pandas as pd\n",
        "import matplotlib.pyplot as plt\n",
        "import seaborn as sns\n",
        "from sklearn.preprocessing import LabelEncoder\n",
        "import math\n",
        "from sklearn.preprocessing import MinMaxScaler\n",
        "from sklearn.preprocessing import StandardScaler\n",
        "from sklearn.model_selection import train_test_split\n",
        "from sklearn.decomposition import PCA\n",
        "\n",
        "df = pd.read_csv(\"salary_data.csv\")\n",
        "\n",
        "df.shape\n",
        "\n",
        "df.dropna(inplace=True)\n",
        "\n",
        "df.head(50)\n",
        "\n",
        "\n",
        "df['Gender']= df['Gender'].astype('string')\n",
        "df['Job Title']= df['Job Title'].astype('string')\n",
        "df['Education Level']= df['Education Level'].astype('string')\n",
        "\n",
        "df.dtypes\n"
      ]
    },
    {
      "cell_type": "code",
      "source": [
        "from sklearn.preprocessing import OrdinalEncoder\n",
        "\n",
        "# Wyodrębnienie cech i etykiet\n",
        "X = df.drop(columns=['Salary'])\n",
        "y = df['Salary']\n",
        "\n",
        "\n",
        "# Inicjalizacja i dopasowanie OrdinalEncoder\n",
        "enc = OrdinalEncoder()\n",
        "X_encoded = enc.fit_transform(X)\n",
        "\n",
        "\n",
        "# Podział danych na zbiór treningowy i testowy\n",
        "X_train, X_test, y_train, y_test = train_test_split(X_encoded, y, test_size=0.3, random_state=42)\n"
      ],
      "metadata": {
        "id": "13mW-Cblz2Mk"
      },
      "execution_count": 38,
      "outputs": []
    },
    {
      "cell_type": "code",
      "source": [
        "from sklearn.linear_model import LinearRegression\n",
        "from sklearn.metrics import median_absolute_error\n",
        "from sklearn.metrics import mean_absolute_error\n",
        "\n",
        "# Inicjalizacja i dopasowanie modelu regresji liniowej\n",
        "model = LinearRegression()\n",
        "model.fit(X_train, y_train)\n",
        "\n",
        "# Przewidywanie na zbiorze testowym\n",
        "y_pred = model.predict(X_test)\n",
        "\n",
        "mean_absolute_error(y_test,y_pred)\n",
        "\n",
        "median_absolute_error(y_test,y_pred)"
      ],
      "metadata": {
        "colab": {
          "base_uri": "https://localhost:8080/"
        },
        "id": "E0vfMakQvuAv",
        "outputId": "a81b66f4-e397-447c-c823-29f10705a981"
      },
      "execution_count": 42,
      "outputs": [
        {
          "output_type": "execute_result",
          "data": {
            "text/plain": [
              "8311.843299316992"
            ]
          },
          "metadata": {},
          "execution_count": 42
        }
      ]
    },
    {
      "cell_type": "code",
      "source": [
        "from sklearn.linear_model import HuberRegressor\n",
        "\n",
        "model = HuberRegressor()\n",
        "model.fit(X_train, y_train)\n",
        "\n",
        "# Przewidywanie na zbiorze testowym\n",
        "y_pred = model.predict(X_test)\n",
        "\n",
        "median_absolute_error(y_test,y_pred)\n",
        "mean_absolute_error(y_test,y_pred)"
      ],
      "metadata": {
        "colab": {
          "base_uri": "https://localhost:8080/"
        },
        "id": "XdNNcyd_7hRV",
        "outputId": "2f4105a1-4816-421e-bcde-6a26ddc116d3"
      },
      "execution_count": 44,
      "outputs": [
        {
          "output_type": "execute_result",
          "data": {
            "text/plain": [
              "10943.309098940392"
            ]
          },
          "metadata": {},
          "execution_count": 44
        }
      ]
    }
  ]
}