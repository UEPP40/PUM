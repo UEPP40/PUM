{
  "nbformat": 4,
  "nbformat_minor": 0,
  "metadata": {
    "colab": {
      "provenance": [],
      "authorship_tag": "ABX9TyN6D55lK8W653LpfI1lIsHQ",
      "include_colab_link": true
    },
    "kernelspec": {
      "name": "python3",
      "display_name": "Python 3"
    },
    "language_info": {
      "name": "python"
    }
  },
  "cells": [
    {
      "cell_type": "markdown",
      "metadata": {
        "id": "view-in-github",
        "colab_type": "text"
      },
      "source": [
        "<a href=\"https://colab.research.google.com/github/UEPP40/PUM/blob/Kwasniewska/Regresja_czesc2.ipynb\" target=\"_parent\"><img src=\"https://colab.research.google.com/assets/colab-badge.svg\" alt=\"Open In Colab\"/></a>"
      ]
    },
    {
      "cell_type": "code",
      "execution_count": 53,
      "metadata": {
        "id": "7_mD01uipJb2"
      },
      "outputs": [],
      "source": [
        "import pandas as pd\n",
        "from numpy import mean\n",
        "from numpy import std\n",
        "from numpy import absolute\n",
        "from matplotlib import pyplot as plt\n",
        "\n",
        "from sklearn.datasets import fetch_california_housing\n",
        "\n",
        "from sklearn.model_selection import cross_val_score\n",
        "from sklearn.model_selection import KFold\n",
        "from sklearn.model_selection import RepeatedKFold\n",
        "\n",
        "from sklearn.pipeline import Pipeline\n",
        "\n",
        "from sklearn.linear_model import LinearRegression\n",
        "from sklearn.linear_model import HuberRegressor\n",
        "from sklearn.compose import TransformedTargetRegressor\n",
        "\n",
        "from sklearn.preprocessing import PolynomialFeatures\n",
        "from sklearn.preprocessing import MinMaxScaler"
      ]
    },
    {
      "cell_type": "code",
      "source": [
        "housing = fetch_california_housing()\n",
        "print(housing.data.shape, housing.target.shape)\n",
        "print(housing.feature_names)\n",
        "X = pd.DataFrame(data = housing.data, columns = housing.feature_names)\n",
        "print(X.head())\n",
        "y = housing.target"
      ],
      "metadata": {
        "colab": {
          "base_uri": "https://localhost:8080/"
        },
        "id": "jtSJ9Xufqkwa",
        "outputId": "a21419c1-c491-4b9f-f798-640a86390c28"
      },
      "execution_count": 54,
      "outputs": [
        {
          "output_type": "stream",
          "name": "stdout",
          "text": [
            "(20640, 8) (20640,)\n",
            "['MedInc', 'HouseAge', 'AveRooms', 'AveBedrms', 'Population', 'AveOccup', 'Latitude', 'Longitude']\n",
            "   MedInc  HouseAge  AveRooms  AveBedrms  Population  AveOccup  Latitude  \\\n",
            "0  8.3252      41.0  6.984127   1.023810       322.0  2.555556     37.88   \n",
            "1  8.3014      21.0  6.238137   0.971880      2401.0  2.109842     37.86   \n",
            "2  7.2574      52.0  8.288136   1.073446       496.0  2.802260     37.85   \n",
            "3  5.6431      52.0  5.817352   1.073059       558.0  2.547945     37.85   \n",
            "4  3.8462      52.0  6.281853   1.081081       565.0  2.181467     37.85   \n",
            "\n",
            "   Longitude  \n",
            "0    -122.23  \n",
            "1    -122.22  \n",
            "2    -122.24  \n",
            "3    -122.25  \n",
            "4    -122.25  \n"
          ]
        }
      ]
    },
    {
      "cell_type": "code",
      "source": [
        "rkf = RepeatedKFold(n_splits=5, n_repeats=5, random_state=2652124)\n",
        "lin = LinearRegression()\n",
        "cv_scores_linear = cross_val_score(lin, X, y, cv=rkf,scoring='neg_mean_absolute_error')"
      ],
      "metadata": {
        "id": "TCQkUfINyF97"
      },
      "execution_count": 55,
      "outputs": []
    },
    {
      "cell_type": "code",
      "source": [
        "xpol2 = PolynomialFeatures(2)\n",
        "x2 = xpol2.fit_transform(X)\n",
        "cv_scores_pol2 = cross_val_score(lin, x2, y, cv=rkf,scoring='neg_mean_absolute_error')"
      ],
      "metadata": {
        "id": "Td5-ue-VwXl3"
      },
      "execution_count": 56,
      "outputs": []
    },
    {
      "cell_type": "code",
      "source": [
        "xpol3 = PolynomialFeatures(3)\n",
        "x3 = xpol3.fit_transform(X)\n",
        "cv_scores_pol3 = cross_val_score(lin, x3, y, cv=rkf,scoring='neg_mean_absolute_error')"
      ],
      "metadata": {
        "id": "eQr3qJjj4_86"
      },
      "execution_count": 57,
      "outputs": []
    },
    {
      "cell_type": "code",
      "source": [
        "from sklearn.neighbors import KNeighborsRegressor\n",
        "import numpy as np\n",
        "knn_cv = KNeighborsRegressor(n_neighbors=3)\n",
        "cv_scores_knn = cross_val_score(knn_cv, X, y, cv=rkf)"
      ],
      "metadata": {
        "id": "R5OMdWUl11OK"
      },
      "execution_count": 58,
      "outputs": []
    },
    {
      "cell_type": "code",
      "source": [
        "plt.boxplot([cv_scores_linear, cv_scores_pol2, cv_scores_pol3, cv_scores_knn])\n",
        "plt.show()"
      ],
      "metadata": {
        "colab": {
          "base_uri": "https://localhost:8080/",
          "height": 430
        },
        "id": "vIhkJMu86Asq",
        "outputId": "683bac56-2706-42f1-d690-e04228f3a309"
      },
      "execution_count": 61,
      "outputs": [
        {
          "output_type": "display_data",
          "data": {
            "text/plain": [
              "<Figure size 640x480 with 1 Axes>"
            ],
            "image/png": "[encoded data removed]"
          },
          "metadata": {}
        }
      ]
    },
    {
      "cell_type": "code",
      "source": [
        "pipeline = Pipeline(steps=[('normalize', MinMaxScaler()), ('model', LinearRegression())])\n",
        "model = TransformedTargetRegressor(regressor=LinearRegression())\n",
        "cv = RepeatedKFold(n_splits=5, n_repeats=5, random_state=1)\n",
        "scores_tv = cross_val_score(model, X, y, scoring='neg_mean_absolute_error', cv=cv)\n",
        "scores = absolute(scores_tv)\n",
        "s_mean = mean(scores_tv)\n",
        "print(scores_tv)\n",
        "print('Mean MEA %.3f' % (s_mean))\n",
        "plt.boxplot(scores_tv, showmeans=True)\n",
        "plt.show()"
      ],
      "metadata": {
        "colab": {
          "base_uri": "https://localhost:8080/",
          "height": 534
        },
        "id": "zkL2rCrH8lcA",
        "outputId": "4dc4c52b-431c-464a-cdf1-b9a1c30f533d"
      },
      "execution_count": 63,
      "outputs": [
        {
          "output_type": "stream",
          "name": "stdout",
          "text": [
            "[-0.53286851 -0.52878709 -0.53770585 -0.52744413 -0.5316177  -0.51838361\n",
            " -0.54599058 -0.54441511 -0.52572175 -0.52433106 -0.53594667 -0.5264349\n",
            " -0.52975192 -0.53645394 -0.52883193 -0.52756796 -0.53376565 -0.54080917\n",
            " -0.52410467 -0.5328948  -0.53331152 -0.54714239 -0.52155503 -0.53514727\n",
            " -0.53577333]\n",
            "Mean MEA -0.532\n"
          ]
        },
        {
          "output_type": "display_data",
          "data": {
            "text/plain": [
              "<Figure size 640x480 with 1 Axes>"
            ],
            "image/png": "[encoded data removed]"
          },
          "metadata": {}
        }
      ]
    }
  ]
}