{
  "nbformat": 4,
  "nbformat_minor": 0,
  "metadata": {
    "colab": {
      "provenance": [],
      "authorship_tag": "ABX9TyMYVTX52sh1iRIrosZNPozG",
      "include_colab_link": true
    },
    "kernelspec": {
      "name": "python3",
      "display_name": "Python 3"
    },
    "language_info": {
      "name": "python"
    }
  },
  "cells": [
    {
      "cell_type": "markdown",
      "metadata": {
        "id": "view-in-github",
        "colab_type": "text"
      },
      "source": [
        "<a href=\"https://colab.research.google.com/github/UEPP40/PUM/blob/Majewska/Systemy_rekomendacyjne.ipynb\" target=\"_parent\"><img src=\"https://colab.research.google.com/assets/colab-badge.svg\" alt=\"Open In Colab\"/></a>"
      ]
    },
    {
      "cell_type": "code",
      "execution_count": 1,
      "metadata": {
        "id": "QqLf5E1UqcNr"
      },
      "outputs": [],
      "source": [
        "#pip install mlxtend"
      ]
    },
    {
      "cell_type": "code",
      "source": [
        "import pandas as pd\n",
        "import numpy as np\n",
        "from mlxtend.frequent_patterns import apriori, association_rules\n",
        "from mlxtend.preprocessing import TransactionEncoder"
      ],
      "metadata": {
        "id": "P0r78lOTrFuw"
      },
      "execution_count": 2,
      "outputs": []
    },
    {
      "cell_type": "code",
      "source": [
        "df = pd.read_csv('GroceryStoreDataSet.csv', header=None)"
      ],
      "metadata": {
        "colab": {
          "base_uri": "https://localhost:8080/"
        },
        "id": "vC0AYBj4r8Rt",
        "outputId": "68dee33f-faf3-4dbe-e02b-24d5d9d1cbf3"
      },
      "execution_count": 3,
      "outputs": [
        {
          "output_type": "stream",
          "name": "stderr",
          "text": [
            "/usr/local/lib/python3.10/dist-packages/ipykernel/ipkernel.py:283: DeprecationWarning: `should_run_async` will not call `transform_cell` automatically in the future. Please pass the result to `transformed_cell` argument and any exception that happen during thetransform in `preprocessing_exc_tuple` in IPython 7.17 and above.\n",
            "  and should_run_async(code)\n"
          ]
        }
      ]
    },
    {
      "cell_type": "code",
      "source": [
        "transactions=[]\n",
        "items=df[0].values\n",
        "print(items)"
      ],
      "metadata": {
        "colab": {
          "base_uri": "https://localhost:8080/"
        },
        "id": "4TD-JNB-xaEk",
        "outputId": "77b47ace-22a8-4f23-de0d-d83f2eb0d8d6"
      },
      "execution_count": 4,
      "outputs": [
        {
          "output_type": "stream",
          "name": "stdout",
          "text": [
            "['MILK,BREAD,BISCUIT' 'BREAD,MILK,BISCUIT,CORNFLAKES'\n",
            " 'BREAD,TEA,BOURNVITA' 'JAM,MAGGI,BREAD,MILK' 'MAGGI,TEA,BISCUIT'\n",
            " 'BREAD,TEA,BOURNVITA' 'MAGGI,TEA,CORNFLAKES' 'MAGGI,BREAD,TEA,BISCUIT'\n",
            " 'JAM,MAGGI,BREAD,TEA' 'BREAD,MILK' 'COFFEE,COCK,BISCUIT,CORNFLAKES'\n",
            " 'COFFEE,COCK,BISCUIT,CORNFLAKES' 'COFFEE,SUGER,BOURNVITA'\n",
            " 'BREAD,COFFEE,COCK' 'BREAD,SUGER,BISCUIT' 'COFFEE,SUGER,CORNFLAKES'\n",
            " 'BREAD,SUGER,BOURNVITA' 'BREAD,COFFEE,SUGER' 'BREAD,COFFEE,SUGER'\n",
            " 'TEA,MILK,COFFEE,CORNFLAKES']\n"
          ]
        },
        {
          "output_type": "stream",
          "name": "stderr",
          "text": [
            "/usr/local/lib/python3.10/dist-packages/ipykernel/ipkernel.py:283: DeprecationWarning: `should_run_async` will not call `transform_cell` automatically in the future. Please pass the result to `transformed_cell` argument and any exception that happen during thetransform in `preprocessing_exc_tuple` in IPython 7.17 and above.\n",
            "  and should_run_async(code)\n"
          ]
        }
      ]
    },
    {
      "cell_type": "code",
      "source": [
        "for i in range (0, len(items)):\n",
        "  transactions.append(items[i].split(','))\n",
        "\n",
        "te = TransactionEncoder()\n",
        "te_df = te.fit_transform(transactions)\n",
        "print(te.columns_)\n",
        "print(te_df)"
      ],
      "metadata": {
        "colab": {
          "base_uri": "https://localhost:8080/"
        },
        "id": "EljLRl0oxaJs",
        "outputId": "cd204259-e81a-4de2-d0ee-e887285c89f2"
      },
      "execution_count": 5,
      "outputs": [
        {
          "output_type": "stream",
          "name": "stdout",
          "text": [
            "['BISCUIT', 'BOURNVITA', 'BREAD', 'COCK', 'COFFEE', 'CORNFLAKES', 'JAM', 'MAGGI', 'MILK', 'SUGER', 'TEA']\n",
            "[[ True False  True False False False False False  True False False]\n",
            " [ True False  True False False  True False False  True False False]\n",
            " [False  True  True False False False False False False False  True]\n",
            " [False False  True False False False  True  True  True False False]\n",
            " [ True False False False False False False  True False False  True]\n",
            " [False  True  True False False False False False False False  True]\n",
            " [False False False False False  True False  True False False  True]\n",
            " [ True False  True False False False False  True False False  True]\n",
            " [False False  True False False False  True  True False False  True]\n",
            " [False False  True False False False False False  True False False]\n",
            " [ True False False  True  True  True False False False False False]\n",
            " [ True False False  True  True  True False False False False False]\n",
            " [False  True False False  True False False False False  True False]\n",
            " [False False  True  True  True False False False False False False]\n",
            " [ True False  True False False False False False False  True False]\n",
            " [False False False False  True  True False False False  True False]\n",
            " [False  True  True False False False False False False  True False]\n",
            " [False False  True False  True False False False False  True False]\n",
            " [False False  True False  True False False False False  True False]\n",
            " [False False False False  True  True False False  True False  True]]\n"
          ]
        },
        {
          "output_type": "stream",
          "name": "stderr",
          "text": [
            "/usr/local/lib/python3.10/dist-packages/ipykernel/ipkernel.py:283: DeprecationWarning: `should_run_async` will not call `transform_cell` automatically in the future. Please pass the result to `transformed_cell` argument and any exception that happen during thetransform in `preprocessing_exc_tuple` in IPython 7.17 and above.\n",
            "  and should_run_async(code)\n"
          ]
        }
      ]
    },
    {
      "cell_type": "code",
      "source": [
        "te_df.astype(\"int\")"
      ],
      "metadata": {
        "colab": {
          "base_uri": "https://localhost:8080/"
        },
        "id": "Dgi29XRXxaOR",
        "outputId": "b387414a-7cba-41bb-e801-90daf4af9877"
      },
      "execution_count": 6,
      "outputs": [
        {
          "output_type": "stream",
          "name": "stderr",
          "text": [
            "/usr/local/lib/python3.10/dist-packages/ipykernel/ipkernel.py:283: DeprecationWarning: `should_run_async` will not call `transform_cell` automatically in the future. Please pass the result to `transformed_cell` argument and any exception that happen during thetransform in `preprocessing_exc_tuple` in IPython 7.17 and above.\n",
            "  and should_run_async(code)\n"
          ]
        },
        {
          "output_type": "execute_result",
          "data": {
            "text/plain": [
              "array([[1, 0, 1, 0, 0, 0, 0, 0, 1, 0, 0],\n",
              "       [1, 0, 1, 0, 0, 1, 0, 0, 1, 0, 0],\n",
              "       [0, 1, 1, 0, 0, 0, 0, 0, 0, 0, 1],\n",
              "       [0, 0, 1, 0, 0, 0, 1, 1, 1, 0, 0],\n",
              "       [1, 0, 0, 0, 0, 0, 0, 1, 0, 0, 1],\n",
              "       [0, 1, 1, 0, 0, 0, 0, 0, 0, 0, 1],\n",
              "       [0, 0, 0, 0, 0, 1, 0, 1, 0, 0, 1],\n",
              "       [1, 0, 1, 0, 0, 0, 0, 1, 0, 0, 1],\n",
              "       [0, 0, 1, 0, 0, 0, 1, 1, 0, 0, 1],\n",
              "       [0, 0, 1, 0, 0, 0, 0, 0, 1, 0, 0],\n",
              "       [1, 0, 0, 1, 1, 1, 0, 0, 0, 0, 0],\n",
              "       [1, 0, 0, 1, 1, 1, 0, 0, 0, 0, 0],\n",
              "       [0, 1, 0, 0, 1, 0, 0, 0, 0, 1, 0],\n",
              "       [0, 0, 1, 1, 1, 0, 0, 0, 0, 0, 0],\n",
              "       [1, 0, 1, 0, 0, 0, 0, 0, 0, 1, 0],\n",
              "       [0, 0, 0, 0, 1, 1, 0, 0, 0, 1, 0],\n",
              "       [0, 1, 1, 0, 0, 0, 0, 0, 0, 1, 0],\n",
              "       [0, 0, 1, 0, 1, 0, 0, 0, 0, 1, 0],\n",
              "       [0, 0, 1, 0, 1, 0, 0, 0, 0, 1, 0],\n",
              "       [0, 0, 0, 0, 1, 1, 0, 0, 1, 0, 1]])"
            ]
          },
          "metadata": {},
          "execution_count": 6
        }
      ]
    },
    {
      "cell_type": "code",
      "source": [
        "data = pd.DataFrame(te_df, columns=te.columns_)"
      ],
      "metadata": {
        "colab": {
          "base_uri": "https://localhost:8080/"
        },
        "id": "p15HJBCSz7U9",
        "outputId": "ff901819-9690-4d9e-f2b5-ca87e273988d"
      },
      "execution_count": 7,
      "outputs": [
        {
          "output_type": "stream",
          "name": "stderr",
          "text": [
            "/usr/local/lib/python3.10/dist-packages/ipykernel/ipkernel.py:283: DeprecationWarning: `should_run_async` will not call `transform_cell` automatically in the future. Please pass the result to `transformed_cell` argument and any exception that happen during thetransform in `preprocessing_exc_tuple` in IPython 7.17 and above.\n",
            "  and should_run_async(code)\n"
          ]
        }
      ]
    },
    {
      "cell_type": "code",
      "source": [
        "support = apriori(data, min_support=0.15, use_colnames=True).sort_values(by='support', ascending=False)"
      ],
      "metadata": {
        "colab": {
          "base_uri": "https://localhost:8080/"
        },
        "id": "8LOABVE5PBxa",
        "outputId": "253a27e6-5117-493a-eb78-d770220b686a"
      },
      "execution_count": 8,
      "outputs": [
        {
          "output_type": "stream",
          "name": "stderr",
          "text": [
            "/usr/local/lib/python3.10/dist-packages/ipykernel/ipkernel.py:283: DeprecationWarning: `should_run_async` will not call `transform_cell` automatically in the future. Please pass the result to `transformed_cell` argument and any exception that happen during thetransform in `preprocessing_exc_tuple` in IPython 7.17 and above.\n",
            "  and should_run_async(code)\n"
          ]
        }
      ]
    },
    {
      "cell_type": "code",
      "source": [
        "conf = association_rules(support, metric='zhangs_metric', min_threshold=0.15).sort_values(by='zhangs_metric', ascending=False)\n",
        "conf"
      ],
      "metadata": {
        "colab": {
          "base_uri": "https://localhost:8080/",
          "height": 562
        },
        "id": "qt-uWt8nxaXN",
        "outputId": "d2501fa0-f153-4ae8-855b-5bd8b687e1a3"
      },
      "execution_count": 9,
      "outputs": [
        {
          "output_type": "stream",
          "name": "stderr",
          "text": [
            "/usr/local/lib/python3.10/dist-packages/ipykernel/ipkernel.py:283: DeprecationWarning: `should_run_async` will not call `transform_cell` automatically in the future. Please pass the result to `transformed_cell` argument and any exception that happen during thetransform in `preprocessing_exc_tuple` in IPython 7.17 and above.\n",
            "  and should_run_async(code)\n"
          ]
        },
        {
          "output_type": "execute_result",
          "data": {
            "text/plain": [
              "     antecedents   consequents  antecedent support  consequent support  \\\n",
              "10      (COFFEE)        (COCK)                0.40                0.15   \n",
              "7          (TEA)       (MAGGI)                0.35                0.25   \n",
              "6        (MAGGI)         (TEA)                0.25                0.35   \n",
              "11        (COCK)      (COFFEE)                0.15                0.40   \n",
              "2       (COFFEE)       (SUGER)                0.40                0.30   \n",
              "4       (COFFEE)  (CORNFLAKES)                0.40                0.30   \n",
              "3        (SUGER)      (COFFEE)                0.30                0.40   \n",
              "5   (CORNFLAKES)      (COFFEE)                0.30                0.40   \n",
              "0        (BREAD)        (MILK)                0.65                0.25   \n",
              "12     (BISCUIT)  (CORNFLAKES)                0.35                0.30   \n",
              "13  (CORNFLAKES)     (BISCUIT)                0.30                0.35   \n",
              "9        (BREAD)   (BOURNVITA)                0.65                0.20   \n",
              "1         (MILK)       (BREAD)                0.25                0.65   \n",
              "8    (BOURNVITA)       (BREAD)                0.20                0.65   \n",
              "\n",
              "    support  confidence      lift  leverage  conviction  zhangs_metric  \n",
              "10     0.15    0.375000  2.500000    0.0900    1.360000       1.000000  \n",
              "7      0.20    0.571429  2.285714    0.1125    1.750000       0.865385  \n",
              "6      0.20    0.800000  2.285714    0.1125    3.250000       0.750000  \n",
              "11     0.15    1.000000  2.500000    0.0900         inf       0.705882  \n",
              "2      0.20    0.500000  1.666667    0.0800    1.400000       0.666667  \n",
              "4      0.20    0.500000  1.666667    0.0800    1.400000       0.666667  \n",
              "3      0.20    0.666667  1.666667    0.0800    1.800000       0.571429  \n",
              "5      0.20    0.666667  1.666667    0.0800    1.800000       0.571429  \n",
              "0      0.20    0.307692  1.230769    0.0375    1.083333       0.535714  \n",
              "12     0.15    0.428571  1.428571    0.0450    1.225000       0.461538  \n",
              "13     0.15    0.500000  1.428571    0.0450    1.300000       0.428571  \n",
              "9      0.15    0.230769  1.153846    0.0200    1.040000       0.380952  \n",
              "1      0.20    0.800000  1.230769    0.0375    1.750000       0.250000  \n",
              "8      0.15    0.750000  1.153846    0.0200    1.400000       0.166667  "
            ],
            "text/html": [
              "\n",
              "  <div id=\"df-a804a5b5-1c61-43ca-a3a1-a054a6e39aae\" class=\"colab-df-container\">\n",
              "    <div>\n",
              "<style scoped>\n",
              "    .dataframe tbody tr th:only-of-type {\n",
              "        vertical-align: middle;\n",
              "    }\n",
              "\n",
              "    .dataframe tbody tr th {\n",
              "        vertical-align: top;\n",
              "    }\n",
              "\n",
              "    .dataframe thead th {\n",
              "        text-align: right;\n",
              "    }\n",
              "</style>\n",
              "<table border=\"1\" class=\"dataframe\">\n",
              "  <thead>\n",
              "    <tr style=\"text-align: right;\">\n",
              "      <th></th>\n",
              "      <th>antecedents</th>\n",
              "      <th>consequents</th>\n",
              "      <th>antecedent support</th>\n",
              "      <th>consequent support</th>\n",
              "      <th>support</th>\n",
              "      <th>confidence</th>\n",
              "      <th>lift</th>\n",
              "      <th>leverage</th>\n",
              "      <th>conviction</th>\n",
              "      <th>zhangs_metric</th>\n",
              "    </tr>\n",
              "  </thead>\n",
              "  <tbody>\n",
              "    <tr>\n",
              "      <th>10</th>\n",
              "      <td>(COFFEE)</td>\n",
              "      <td>(COCK)</td>\n",
              "      <td>0.40</td>\n",
              "      <td>0.15</td>\n",
              "      <td>0.15</td>\n",
              "      <td>0.375000</td>\n",
              "      <td>2.500000</td>\n",
              "      <td>0.0900</td>\n",
              "      <td>1.360000</td>\n",
              "      <td>1.000000</td>\n",
              "    </tr>\n",
              "    <tr>\n",
              "      <th>7</th>\n",
              "      <td>(TEA)</td>\n",
              "      <td>(MAGGI)</td>\n",
              "      <td>0.35</td>\n",
              "      <td>0.25</td>\n",
              "      <td>0.20</td>\n",
              "      <td>0.571429</td>\n",
              "      <td>2.285714</td>\n",
              "      <td>0.1125</td>\n",
              "      <td>1.750000</td>\n",
              "      <td>0.865385</td>\n",
              "    </tr>\n",
              "    <tr>\n",
              "      <th>6</th>\n",
              "      <td>(MAGGI)</td>\n",
              "      <td>(TEA)</td>\n",
              "      <td>0.25</td>\n",
              "      <td>0.35</td>\n",
              "      <td>0.20</td>\n",
              "      <td>0.800000</td>\n",
              "      <td>2.285714</td>\n",
              "      <td>0.1125</td>\n",
              "      <td>3.250000</td>\n",
              "      <td>0.750000</td>\n",
              "    </tr>\n",
              "    <tr>\n",
              "      <th>11</th>\n",
              "      <td>(COCK)</td>\n",
              "      <td>(COFFEE)</td>\n",
              "      <td>0.15</td>\n",
              "      <td>0.40</td>\n",
              "      <td>0.15</td>\n",
              "      <td>1.000000</td>\n",
              "      <td>2.500000</td>\n",
              "      <td>0.0900</td>\n",
              "      <td>inf</td>\n",
              "      <td>0.705882</td>\n",
              "    </tr>\n",
              "    <tr>\n",
              "      <th>2</th>\n",
              "      <td>(COFFEE)</td>\n",
              "      <td>(SUGER)</td>\n",
              "      <td>0.40</td>\n",
              "      <td>0.30</td>\n",
              "      <td>0.20</td>\n",
              "      <td>0.500000</td>\n",
              "      <td>1.666667</td>\n",
              "      <td>0.0800</td>\n",
              "      <td>1.400000</td>\n",
              "      <td>0.666667</td>\n",
              "    </tr>\n",
              "    <tr>\n",
              "      <th>4</th>\n",
              "      <td>(COFFEE)</td>\n",
              "      <td>(CORNFLAKES)</td>\n",
              "      <td>0.40</td>\n",
              "      <td>0.30</td>\n",
              "      <td>0.20</td>\n",
              "      <td>0.500000</td>\n",
              "      <td>1.666667</td>\n",
              "      <td>0.0800</td>\n",
              "      <td>1.400000</td>\n",
              "      <td>0.666667</td>\n",
              "    </tr>\n",
              "    <tr>\n",
              "      <th>3</th>\n",
              "      <td>(SUGER)</td>\n",
              "      <td>(COFFEE)</td>\n",
              "      <td>0.30</td>\n",
              "      <td>0.40</td>\n",
              "      <td>0.20</td>\n",
              "      <td>0.666667</td>\n",
              "      <td>1.666667</td>\n",
              "      <td>0.0800</td>\n",
              "      <td>1.800000</td>\n",
              "      <td>0.571429</td>\n",
              "    </tr>\n",
              "    <tr>\n",
              "      <th>5</th>\n",
              "      <td>(CORNFLAKES)</td>\n",
              "      <td>(COFFEE)</td>\n",
              "      <td>0.30</td>\n",
              "      <td>0.40</td>\n",
              "      <td>0.20</td>\n",
              "      <td>0.666667</td>\n",
              "      <td>1.666667</td>\n",
              "      <td>0.0800</td>\n",
              "      <td>1.800000</td>\n",
              "      <td>0.571429</td>\n",
              "    </tr>\n",
              "    <tr>\n",
              "      <th>0</th>\n",
              "      <td>(BREAD)</td>\n",
              "      <td>(MILK)</td>\n",
              "      <td>0.65</td>\n",
              "      <td>0.25</td>\n",
              "      <td>0.20</td>\n",
              "      <td>0.307692</td>\n",
              "      <td>1.230769</td>\n",
              "      <td>0.0375</td>\n",
              "      <td>1.083333</td>\n",
              "      <td>0.535714</td>\n",
              "    </tr>\n",
              "    <tr>\n",
              "      <th>12</th>\n",
              "      <td>(BISCUIT)</td>\n",
              "      <td>(CORNFLAKES)</td>\n",
              "      <td>0.35</td>\n",
              "      <td>0.30</td>\n",
              "      <td>0.15</td>\n",
              "      <td>0.428571</td>\n",
              "      <td>1.428571</td>\n",
              "      <td>0.0450</td>\n",
              "      <td>1.225000</td>\n",
              "      <td>0.461538</td>\n",
              "    </tr>\n",
              "    <tr>\n",
              "      <th>13</th>\n",
              "      <td>(CORNFLAKES)</td>\n",
              "      <td>(BISCUIT)</td>\n",
              "      <td>0.30</td>\n",
              "      <td>0.35</td>\n",
              "      <td>0.15</td>\n",
              "      <td>0.500000</td>\n",
              "      <td>1.428571</td>\n",
              "      <td>0.0450</td>\n",
              "      <td>1.300000</td>\n",
              "      <td>0.428571</td>\n",
              "    </tr>\n",
              "    <tr>\n",
              "      <th>9</th>\n",
              "      <td>(BREAD)</td>\n",
              "      <td>(BOURNVITA)</td>\n",
              "      <td>0.65</td>\n",
              "      <td>0.20</td>\n",
              "      <td>0.15</td>\n",
              "      <td>0.230769</td>\n",
              "      <td>1.153846</td>\n",
              "      <td>0.0200</td>\n",
              "      <td>1.040000</td>\n",
              "      <td>0.380952</td>\n",
              "    </tr>\n",
              "    <tr>\n",
              "      <th>1</th>\n",
              "      <td>(MILK)</td>\n",
              "      <td>(BREAD)</td>\n",
              "      <td>0.25</td>\n",
              "      <td>0.65</td>\n",
              "      <td>0.20</td>\n",
              "      <td>0.800000</td>\n",
              "      <td>1.230769</td>\n",
              "      <td>0.0375</td>\n",
              "      <td>1.750000</td>\n",
              "      <td>0.250000</td>\n",
              "    </tr>\n",
              "    <tr>\n",
              "      <th>8</th>\n",
              "      <td>(BOURNVITA)</td>\n",
              "      <td>(BREAD)</td>\n",
              "      <td>0.20</td>\n",
              "      <td>0.65</td>\n",
              "      <td>0.15</td>\n",
              "      <td>0.750000</td>\n",
              "      <td>1.153846</td>\n",
              "      <td>0.0200</td>\n",
              "      <td>1.400000</td>\n",
              "      <td>0.166667</td>\n",
              "    </tr>\n",
              "  </tbody>\n",
              "</table>\n",
              "</div>\n",
              "    <div class=\"colab-df-buttons\">\n",
              "\n",
              "  <div class=\"colab-df-container\">\n",
              "    <button class=\"colab-df-convert\" onclick=\"convertToInteractive('df-a804a5b5-1c61-43ca-a3a1-a054a6e39aae')\"\n",
              "            title=\"Convert this dataframe to an interactive table.\"\n",
              "            style=\"display:none;\">\n",
              "\n",
              "  <svg xmlns=\"http://www.w3.org/2000/svg\" height=\"24px\" viewBox=\"0 -960 960 960\">\n",
              "    <path d=\"M120-120v-720h720v720H120Zm60-500h600v-160H180v160Zm220 220h160v-160H400v160Zm0 220h160v-160H400v160ZM180-400h160v-160H180v160Zm440 0h160v-160H620v160ZM180-180h160v-160H180v160Zm440 0h160v-160H620v160Z\"/>\n",
              "  </svg>\n",
              "    </button>\n",
              "\n",
              "  <style>\n",
              "    .colab-df-container {\n",
              "      display:flex;\n",
              "      gap: 12px;\n",
              "    }\n",
              "\n",
              "    .colab-df-convert {\n",
              "      background-color: #E8F0FE;\n",
              "      border: none;\n",
              "      border-radius: 50%;\n",
              "      cursor: pointer;\n",
              "      display: none;\n",
              "      fill: #1967D2;\n",
              "      height: 32px;\n",
              "      padding: 0 0 0 0;\n",
              "      width: 32px;\n",
              "    }\n",
              "\n",
              "    .colab-df-convert:hover {\n",
              "      background-color: #E2EBFA;\n",
              "      box-shadow: 0px 1px 2px rgba(60, 64, 67, 0.3), 0px 1px 3px 1px rgba(60, 64, 67, 0.15);\n",
              "      fill: #174EA6;\n",
              "    }\n",
              "\n",
              "    .colab-df-buttons div {\n",
              "      margin-bottom: 4px;\n",
              "    }\n",
              "\n",
              "    [theme=dark] .colab-df-convert {\n",
              "      background-color: #3B4455;\n",
              "      fill: #D2E3FC;\n",
              "    }\n",
              "\n",
              "    [theme=dark] .colab-df-convert:hover {\n",
              "      background-color: #434B5C;\n",
              "      box-shadow: 0px 1px 3px 1px rgba(0, 0, 0, 0.15);\n",
              "      filter: drop-shadow(0px 1px 2px rgba(0, 0, 0, 0.3));\n",
              "      fill: #FFFFFF;\n",
              "    }\n",
              "  </style>\n",
              "\n",
              "    <script>\n",
              "      const buttonEl =\n",
              "        document.querySelector('#df-a804a5b5-1c61-43ca-a3a1-a054a6e39aae button.colab-df-convert');\n",
              "      buttonEl.style.display =\n",
              "        google.colab.kernel.accessAllowed ? 'block' : 'none';\n",
              "\n",
              "      async function convertToInteractive(key) {\n",
              "        const element = document.querySelector('#df-a804a5b5-1c61-43ca-a3a1-a054a6e39aae');\n",
              "        const dataTable =\n",
              "          await google.colab.kernel.invokeFunction('convertToInteractive',\n",
              "                                                    [key], {});\n",
              "        if (!dataTable) return;\n",
              "\n",
              "        const docLinkHtml = 'Like what you see? Visit the ' +\n",
              "          '<a target=\"_blank\" href=https://colab.research.google.com/notebooks/data_table.ipynb>data table notebook</a>'\n",
              "          + ' to learn more about interactive tables.';\n",
              "        element.innerHTML = '';\n",
              "        dataTable['output_type'] = 'display_data';\n",
              "        await google.colab.output.renderOutput(dataTable, element);\n",
              "        const docLink = document.createElement('div');\n",
              "        docLink.innerHTML = docLinkHtml;\n",
              "        element.appendChild(docLink);\n",
              "      }\n",
              "    </script>\n",
              "  </div>\n",
              "\n",
              "\n",
              "<div id=\"df-e1c75edc-68c4-4494-9d1c-71a566be5fac\">\n",
              "  <button class=\"colab-df-quickchart\" onclick=\"quickchart('df-e1c75edc-68c4-4494-9d1c-71a566be5fac')\"\n",
              "            title=\"Suggest charts\"\n",
              "            style=\"display:none;\">\n",
              "\n",
              "<svg xmlns=\"http://www.w3.org/2000/svg\" height=\"24px\"viewBox=\"0 0 24 24\"\n",
              "     width=\"24px\">\n",
              "    <g>\n",
              "        <path d=\"M19 3H5c-1.1 0-2 .9-2 2v14c0 1.1.9 2 2 2h14c1.1 0 2-.9 2-2V5c0-1.1-.9-2-2-2zM9 17H7v-7h2v7zm4 0h-2V7h2v10zm4 0h-2v-4h2v4z\"/>\n",
              "    </g>\n",
              "</svg>\n",
              "  </button>\n",
              "\n",
              "<style>\n",
              "  .colab-df-quickchart {\n",
              "      --bg-color: #E8F0FE;\n",
              "      --fill-color: #1967D2;\n",
              "      --hover-bg-color: #E2EBFA;\n",
              "      --hover-fill-color: #174EA6;\n",
              "      --disabled-fill-color: #AAA;\n",
              "      --disabled-bg-color: #DDD;\n",
              "  }\n",
              "\n",
              "  [theme=dark] .colab-df-quickchart {\n",
              "      --bg-color: #3B4455;\n",
              "      --fill-color: #D2E3FC;\n",
              "      --hover-bg-color: #434B5C;\n",
              "      --hover-fill-color: #FFFFFF;\n",
              "      --disabled-bg-color: #3B4455;\n",
              "      --disabled-fill-color: #666;\n",
              "  }\n",
              "\n",
              "  .colab-df-quickchart {\n",
              "    background-color: var(--bg-color);\n",
              "    border: none;\n",
              "    border-radius: 50%;\n",
              "    cursor: pointer;\n",
              "    display: none;\n",
              "    fill: var(--fill-color);\n",
              "    height: 32px;\n",
              "    padding: 0;\n",
              "    width: 32px;\n",
              "  }\n",
              "\n",
              "  .colab-df-quickchart:hover {\n",
              "    background-color: var(--hover-bg-color);\n",
              "    box-shadow: 0 1px 2px rgba(60, 64, 67, 0.3), 0 1px 3px 1px rgba(60, 64, 67, 0.15);\n",
              "    fill: var(--button-hover-fill-color);\n",
              "  }\n",
              "\n",
              "  .colab-df-quickchart-complete:disabled,\n",
              "  .colab-df-quickchart-complete:disabled:hover {\n",
              "    background-color: var(--disabled-bg-color);\n",
              "    fill: var(--disabled-fill-color);\n",
              "    box-shadow: none;\n",
              "  }\n",
              "\n",
              "  .colab-df-spinner {\n",
              "    border: 2px solid var(--fill-color);\n",
              "    border-color: transparent;\n",
              "    border-bottom-color: var(--fill-color);\n",
              "    animation:\n",
              "      spin 1s steps(1) infinite;\n",
              "  }\n",
              "\n",
              "  @keyframes spin {\n",
              "    0% {\n",
              "      border-color: transparent;\n",
              "      border-bottom-color: var(--fill-color);\n",
              "      border-left-color: var(--fill-color);\n",
              "    }\n",
              "    20% {\n",
              "      border-color: transparent;\n",
              "      border-left-color: var(--fill-color);\n",
              "      border-top-color: var(--fill-color);\n",
              "    }\n",
              "    30% {\n",
              "      border-color: transparent;\n",
              "      border-left-color: var(--fill-color);\n",
              "      border-top-color: var(--fill-color);\n",
              "      border-right-color: var(--fill-color);\n",
              "    }\n",
              "    40% {\n",
              "      border-color: transparent;\n",
              "      border-right-color: var(--fill-color);\n",
              "      border-top-color: var(--fill-color);\n",
              "    }\n",
              "    60% {\n",
              "      border-color: transparent;\n",
              "      border-right-color: var(--fill-color);\n",
              "    }\n",
              "    80% {\n",
              "      border-color: transparent;\n",
              "      border-right-color: var(--fill-color);\n",
              "      border-bottom-color: var(--fill-color);\n",
              "    }\n",
              "    90% {\n",
              "      border-color: transparent;\n",
              "      border-bottom-color: var(--fill-color);\n",
              "    }\n",
              "  }\n",
              "</style>\n",
              "\n",
              "  <script>\n",
              "    async function quickchart(key) {\n",
              "      const quickchartButtonEl =\n",
              "        document.querySelector('#' + key + ' button');\n",
              "      quickchartButtonEl.disabled = true;  // To prevent multiple clicks.\n",
              "      quickchartButtonEl.classList.add('colab-df-spinner');\n",
              "      try {\n",
              "        const charts = await google.colab.kernel.invokeFunction(\n",
              "            'suggestCharts', [key], {});\n",
              "      } catch (error) {\n",
              "        console.error('Error during call to suggestCharts:', error);\n",
              "      }\n",
              "      quickchartButtonEl.classList.remove('colab-df-spinner');\n",
              "      quickchartButtonEl.classList.add('colab-df-quickchart-complete');\n",
              "    }\n",
              "    (() => {\n",
              "      let quickchartButtonEl =\n",
              "        document.querySelector('#df-e1c75edc-68c4-4494-9d1c-71a566be5fac button');\n",
              "      quickchartButtonEl.style.display =\n",
              "        google.colab.kernel.accessAllowed ? 'block' : 'none';\n",
              "    })();\n",
              "  </script>\n",
              "</div>\n",
              "    </div>\n",
              "  </div>\n"
            ],
            "application/vnd.google.colaboratory.intrinsic+json": {
              "type": "dataframe",
              "variable_name": "conf",
              "repr_error": "Out of range float values are not JSON compliant: inf"
            }
          },
          "metadata": {},
          "execution_count": 9
        }
      ]
    },
    {
      "cell_type": "code",
      "source": [
        "conf_2 = association_rules(support, metric=\"confidence\",min_threshold=0.15).sort_values(by='zhangs_metric')\n",
        "conf_2"
      ],
      "metadata": {
        "colab": {
          "base_uri": "https://localhost:8080/",
          "height": 875
        },
        "id": "nE_vR6ENP5Py",
        "outputId": "a6eebcb7-17c8-4367-b174-3d1b31b7f873"
      },
      "execution_count": 10,
      "outputs": [
        {
          "output_type": "stream",
          "name": "stderr",
          "text": [
            "/usr/local/lib/python3.10/dist-packages/ipykernel/ipkernel.py:283: DeprecationWarning: `should_run_async` will not call `transform_cell` automatically in the future. Please pass the result to `transformed_cell` argument and any exception that happen during thetransform in `preprocessing_exc_tuple` in IPython 7.17 and above.\n",
            "  and should_run_async(code)\n"
          ]
        },
        {
          "output_type": "execute_result",
          "data": {
            "text/plain": [
              "     antecedents   consequents  antecedent support  consequent support  \\\n",
              "17       (BREAD)      (COFFEE)                0.65                0.40   \n",
              "16      (COFFEE)       (BREAD)                0.40                0.65   \n",
              "6        (BREAD)         (TEA)                0.65                0.35   \n",
              "13       (BREAD)     (BISCUIT)                0.65                0.35   \n",
              "14       (BREAD)       (MAGGI)                0.65                0.25   \n",
              "7          (TEA)       (BREAD)                0.35                0.65   \n",
              "12     (BISCUIT)       (BREAD)                0.35                0.65   \n",
              "15       (MAGGI)       (BREAD)                0.25                0.65   \n",
              "9        (SUGER)       (BREAD)                0.30                0.65   \n",
              "8        (BREAD)       (SUGER)                0.65                0.30   \n",
              "18   (BOURNVITA)       (BREAD)                0.20                0.65   \n",
              "1         (MILK)       (BREAD)                0.25                0.65   \n",
              "19       (BREAD)   (BOURNVITA)                0.65                0.20   \n",
              "23  (CORNFLAKES)     (BISCUIT)                0.30                0.35   \n",
              "22     (BISCUIT)  (CORNFLAKES)                0.35                0.30   \n",
              "0        (BREAD)        (MILK)                0.65                0.25   \n",
              "5   (CORNFLAKES)      (COFFEE)                0.30                0.40   \n",
              "3        (SUGER)      (COFFEE)                0.30                0.40   \n",
              "4       (COFFEE)  (CORNFLAKES)                0.40                0.30   \n",
              "2       (COFFEE)       (SUGER)                0.40                0.30   \n",
              "21        (COCK)      (COFFEE)                0.15                0.40   \n",
              "10       (MAGGI)         (TEA)                0.25                0.35   \n",
              "11         (TEA)       (MAGGI)                0.35                0.25   \n",
              "20      (COFFEE)        (COCK)                0.40                0.15   \n",
              "\n",
              "    support  confidence      lift  leverage  conviction  zhangs_metric  \n",
              "17     0.15    0.230769  0.576923   -0.1100    0.780000      -0.676923  \n",
              "16     0.15    0.375000  0.576923   -0.1100    0.560000      -0.550000  \n",
              "6      0.20    0.307692  0.879121   -0.0275    0.938889      -0.282051  \n",
              "13     0.20    0.307692  0.879121   -0.0275    0.938889      -0.282051  \n",
              "14     0.15    0.230769  0.923077   -0.0125    0.975000      -0.192308  \n",
              "7      0.20    0.571429  0.879121   -0.0275    0.816667      -0.174603  \n",
              "12     0.20    0.571429  0.879121   -0.0275    0.816667      -0.174603  \n",
              "15     0.15    0.600000  0.923077   -0.0125    0.875000      -0.100000  \n",
              "9      0.20    0.666667  1.025641    0.0050    1.050000       0.035714  \n",
              "8      0.20    0.307692  1.025641    0.0050    1.011111       0.071429  \n",
              "18     0.15    0.750000  1.153846    0.0200    1.400000       0.166667  \n",
              "1      0.20    0.800000  1.230769    0.0375    1.750000       0.250000  \n",
              "19     0.15    0.230769  1.153846    0.0200    1.040000       0.380952  \n",
              "23     0.15    0.500000  1.428571    0.0450    1.300000       0.428571  \n",
              "22     0.15    0.428571  1.428571    0.0450    1.225000       0.461538  \n",
              "0      0.20    0.307692  1.230769    0.0375    1.083333       0.535714  \n",
              "5      0.20    0.666667  1.666667    0.0800    1.800000       0.571429  \n",
              "3      0.20    0.666667  1.666667    0.0800    1.800000       0.571429  \n",
              "4      0.20    0.500000  1.666667    0.0800    1.400000       0.666667  \n",
              "2      0.20    0.500000  1.666667    0.0800    1.400000       0.666667  \n",
              "21     0.15    1.000000  2.500000    0.0900         inf       0.705882  \n",
              "10     0.20    0.800000  2.285714    0.1125    3.250000       0.750000  \n",
              "11     0.20    0.571429  2.285714    0.1125    1.750000       0.865385  \n",
              "20     0.15    0.375000  2.500000    0.0900    1.360000       1.000000  "
            ],
            "text/html": [
              "\n",
              "  <div id=\"df-77b4b059-64a1-4e53-80d0-f1975d3cb968\" class=\"colab-df-container\">\n",
              "    <div>\n",
              "<style scoped>\n",
              "    .dataframe tbody tr th:only-of-type {\n",
              "        vertical-align: middle;\n",
              "    }\n",
              "\n",
              "    .dataframe tbody tr th {\n",
              "        vertical-align: top;\n",
              "    }\n",
              "\n",
              "    .dataframe thead th {\n",
              "        text-align: right;\n",
              "    }\n",
              "</style>\n",
              "<table border=\"1\" class=\"dataframe\">\n",
              "  <thead>\n",
              "    <tr style=\"text-align: right;\">\n",
              "      <th></th>\n",
              "      <th>antecedents</th>\n",
              "      <th>consequents</th>\n",
              "      <th>antecedent support</th>\n",
              "      <th>consequent support</th>\n",
              "      <th>support</th>\n",
              "      <th>confidence</th>\n",
              "      <th>lift</th>\n",
              "      <th>leverage</th>\n",
              "      <th>conviction</th>\n",
              "      <th>zhangs_metric</th>\n",
              "    </tr>\n",
              "  </thead>\n",
              "  <tbody>\n",
              "    <tr>\n",
              "      <th>17</th>\n",
              "      <td>(BREAD)</td>\n",
              "      <td>(COFFEE)</td>\n",
              "      <td>0.65</td>\n",
              "      <td>0.40</td>\n",
              "      <td>0.15</td>\n",
              "      <td>0.230769</td>\n",
              "      <td>0.576923</td>\n",
              "      <td>-0.1100</td>\n",
              "      <td>0.780000</td>\n",
              "      <td>-0.676923</td>\n",
              "    </tr>\n",
              "    <tr>\n",
              "      <th>16</th>\n",
              "      <td>(COFFEE)</td>\n",
              "      <td>(BREAD)</td>\n",
              "      <td>0.40</td>\n",
              "      <td>0.65</td>\n",
              "      <td>0.15</td>\n",
              "      <td>0.375000</td>\n",
              "      <td>0.576923</td>\n",
              "      <td>-0.1100</td>\n",
              "      <td>0.560000</td>\n",
              "      <td>-0.550000</td>\n",
              "    </tr>\n",
              "    <tr>\n",
              "      <th>6</th>\n",
              "      <td>(BREAD)</td>\n",
              "      <td>(TEA)</td>\n",
              "      <td>0.65</td>\n",
              "      <td>0.35</td>\n",
              "      <td>0.20</td>\n",
              "      <td>0.307692</td>\n",
              "      <td>0.879121</td>\n",
              "      <td>-0.0275</td>\n",
              "      <td>0.938889</td>\n",
              "      <td>-0.282051</td>\n",
              "    </tr>\n",
              "    <tr>\n",
              "      <th>13</th>\n",
              "      <td>(BREAD)</td>\n",
              "      <td>(BISCUIT)</td>\n",
              "      <td>0.65</td>\n",
              "      <td>0.35</td>\n",
              "      <td>0.20</td>\n",
              "      <td>0.307692</td>\n",
              "      <td>0.879121</td>\n",
              "      <td>-0.0275</td>\n",
              "      <td>0.938889</td>\n",
              "      <td>-0.282051</td>\n",
              "    </tr>\n",
              "    <tr>\n",
              "      <th>14</th>\n",
              "      <td>(BREAD)</td>\n",
              "      <td>(MAGGI)</td>\n",
              "      <td>0.65</td>\n",
              "      <td>0.25</td>\n",
              "      <td>0.15</td>\n",
              "      <td>0.230769</td>\n",
              "      <td>0.923077</td>\n",
              "      <td>-0.0125</td>\n",
              "      <td>0.975000</td>\n",
              "      <td>-0.192308</td>\n",
              "    </tr>\n",
              "    <tr>\n",
              "      <th>7</th>\n",
              "      <td>(TEA)</td>\n",
              "      <td>(BREAD)</td>\n",
              "      <td>0.35</td>\n",
              "      <td>0.65</td>\n",
              "      <td>0.20</td>\n",
              "      <td>0.571429</td>\n",
              "      <td>0.879121</td>\n",
              "      <td>-0.0275</td>\n",
              "      <td>0.816667</td>\n",
              "      <td>-0.174603</td>\n",
              "    </tr>\n",
              "    <tr>\n",
              "      <th>12</th>\n",
              "      <td>(BISCUIT)</td>\n",
              "      <td>(BREAD)</td>\n",
              "      <td>0.35</td>\n",
              "      <td>0.65</td>\n",
              "      <td>0.20</td>\n",
              "      <td>0.571429</td>\n",
              "      <td>0.879121</td>\n",
              "      <td>-0.0275</td>\n",
              "      <td>0.816667</td>\n",
              "      <td>-0.174603</td>\n",
              "    </tr>\n",
              "    <tr>\n",
              "      <th>15</th>\n",
              "      <td>(MAGGI)</td>\n",
              "      <td>(BREAD)</td>\n",
              "      <td>0.25</td>\n",
              "      <td>0.65</td>\n",
              "      <td>0.15</td>\n",
              "      <td>0.600000</td>\n",
              "      <td>0.923077</td>\n",
              "      <td>-0.0125</td>\n",
              "      <td>0.875000</td>\n",
              "      <td>-0.100000</td>\n",
              "    </tr>\n",
              "    <tr>\n",
              "      <th>9</th>\n",
              "      <td>(SUGER)</td>\n",
              "      <td>(BREAD)</td>\n",
              "      <td>0.30</td>\n",
              "      <td>0.65</td>\n",
              "      <td>0.20</td>\n",
              "      <td>0.666667</td>\n",
              "      <td>1.025641</td>\n",
              "      <td>0.0050</td>\n",
              "      <td>1.050000</td>\n",
              "      <td>0.035714</td>\n",
              "    </tr>\n",
              "    <tr>\n",
              "      <th>8</th>\n",
              "      <td>(BREAD)</td>\n",
              "      <td>(SUGER)</td>\n",
              "      <td>0.65</td>\n",
              "      <td>0.30</td>\n",
              "      <td>0.20</td>\n",
              "      <td>0.307692</td>\n",
              "      <td>1.025641</td>\n",
              "      <td>0.0050</td>\n",
              "      <td>1.011111</td>\n",
              "      <td>0.071429</td>\n",
              "    </tr>\n",
              "    <tr>\n",
              "      <th>18</th>\n",
              "      <td>(BOURNVITA)</td>\n",
              "      <td>(BREAD)</td>\n",
              "      <td>0.20</td>\n",
              "      <td>0.65</td>\n",
              "      <td>0.15</td>\n",
              "      <td>0.750000</td>\n",
              "      <td>1.153846</td>\n",
              "      <td>0.0200</td>\n",
              "      <td>1.400000</td>\n",
              "      <td>0.166667</td>\n",
              "    </tr>\n",
              "    <tr>\n",
              "      <th>1</th>\n",
              "      <td>(MILK)</td>\n",
              "      <td>(BREAD)</td>\n",
              "      <td>0.25</td>\n",
              "      <td>0.65</td>\n",
              "      <td>0.20</td>\n",
              "      <td>0.800000</td>\n",
              "      <td>1.230769</td>\n",
              "      <td>0.0375</td>\n",
              "      <td>1.750000</td>\n",
              "      <td>0.250000</td>\n",
              "    </tr>\n",
              "    <tr>\n",
              "      <th>19</th>\n",
              "      <td>(BREAD)</td>\n",
              "      <td>(BOURNVITA)</td>\n",
              "      <td>0.65</td>\n",
              "      <td>0.20</td>\n",
              "      <td>0.15</td>\n",
              "      <td>0.230769</td>\n",
              "      <td>1.153846</td>\n",
              "      <td>0.0200</td>\n",
              "      <td>1.040000</td>\n",
              "      <td>0.380952</td>\n",
              "    </tr>\n",
              "    <tr>\n",
              "      <th>23</th>\n",
              "      <td>(CORNFLAKES)</td>\n",
              "      <td>(BISCUIT)</td>\n",
              "      <td>0.30</td>\n",
              "      <td>0.35</td>\n",
              "      <td>0.15</td>\n",
              "      <td>0.500000</td>\n",
              "      <td>1.428571</td>\n",
              "      <td>0.0450</td>\n",
              "      <td>1.300000</td>\n",
              "      <td>0.428571</td>\n",
              "    </tr>\n",
              "    <tr>\n",
              "      <th>22</th>\n",
              "      <td>(BISCUIT)</td>\n",
              "      <td>(CORNFLAKES)</td>\n",
              "      <td>0.35</td>\n",
              "      <td>0.30</td>\n",
              "      <td>0.15</td>\n",
              "      <td>0.428571</td>\n",
              "      <td>1.428571</td>\n",
              "      <td>0.0450</td>\n",
              "      <td>1.225000</td>\n",
              "      <td>0.461538</td>\n",
              "    </tr>\n",
              "    <tr>\n",
              "      <th>0</th>\n",
              "      <td>(BREAD)</td>\n",
              "      <td>(MILK)</td>\n",
              "      <td>0.65</td>\n",
              "      <td>0.25</td>\n",
              "      <td>0.20</td>\n",
              "      <td>0.307692</td>\n",
              "      <td>1.230769</td>\n",
              "      <td>0.0375</td>\n",
              "      <td>1.083333</td>\n",
              "      <td>0.535714</td>\n",
              "    </tr>\n",
              "    <tr>\n",
              "      <th>5</th>\n",
              "      <td>(CORNFLAKES)</td>\n",
              "      <td>(COFFEE)</td>\n",
              "      <td>0.30</td>\n",
              "      <td>0.40</td>\n",
              "      <td>0.20</td>\n",
              "      <td>0.666667</td>\n",
              "      <td>1.666667</td>\n",
              "      <td>0.0800</td>\n",
              "      <td>1.800000</td>\n",
              "      <td>0.571429</td>\n",
              "    </tr>\n",
              "    <tr>\n",
              "      <th>3</th>\n",
              "      <td>(SUGER)</td>\n",
              "      <td>(COFFEE)</td>\n",
              "      <td>0.30</td>\n",
              "      <td>0.40</td>\n",
              "      <td>0.20</td>\n",
              "      <td>0.666667</td>\n",
              "      <td>1.666667</td>\n",
              "      <td>0.0800</td>\n",
              "      <td>1.800000</td>\n",
              "      <td>0.571429</td>\n",
              "    </tr>\n",
              "    <tr>\n",
              "      <th>4</th>\n",
              "      <td>(COFFEE)</td>\n",
              "      <td>(CORNFLAKES)</td>\n",
              "      <td>0.40</td>\n",
              "      <td>0.30</td>\n",
              "      <td>0.20</td>\n",
              "      <td>0.500000</td>\n",
              "      <td>1.666667</td>\n",
              "      <td>0.0800</td>\n",
              "      <td>1.400000</td>\n",
              "      <td>0.666667</td>\n",
              "    </tr>\n",
              "    <tr>\n",
              "      <th>2</th>\n",
              "      <td>(COFFEE)</td>\n",
              "      <td>(SUGER)</td>\n",
              "      <td>0.40</td>\n",
              "      <td>0.30</td>\n",
              "      <td>0.20</td>\n",
              "      <td>0.500000</td>\n",
              "      <td>1.666667</td>\n",
              "      <td>0.0800</td>\n",
              "      <td>1.400000</td>\n",
              "      <td>0.666667</td>\n",
              "    </tr>\n",
              "    <tr>\n",
              "      <th>21</th>\n",
              "      <td>(COCK)</td>\n",
              "      <td>(COFFEE)</td>\n",
              "      <td>0.15</td>\n",
              "      <td>0.40</td>\n",
              "      <td>0.15</td>\n",
              "      <td>1.000000</td>\n",
              "      <td>2.500000</td>\n",
              "      <td>0.0900</td>\n",
              "      <td>inf</td>\n",
              "      <td>0.705882</td>\n",
              "    </tr>\n",
              "    <tr>\n",
              "      <th>10</th>\n",
              "      <td>(MAGGI)</td>\n",
              "      <td>(TEA)</td>\n",
              "      <td>0.25</td>\n",
              "      <td>0.35</td>\n",
              "      <td>0.20</td>\n",
              "      <td>0.800000</td>\n",
              "      <td>2.285714</td>\n",
              "      <td>0.1125</td>\n",
              "      <td>3.250000</td>\n",
              "      <td>0.750000</td>\n",
              "    </tr>\n",
              "    <tr>\n",
              "      <th>11</th>\n",
              "      <td>(TEA)</td>\n",
              "      <td>(MAGGI)</td>\n",
              "      <td>0.35</td>\n",
              "      <td>0.25</td>\n",
              "      <td>0.20</td>\n",
              "      <td>0.571429</td>\n",
              "      <td>2.285714</td>\n",
              "      <td>0.1125</td>\n",
              "      <td>1.750000</td>\n",
              "      <td>0.865385</td>\n",
              "    </tr>\n",
              "    <tr>\n",
              "      <th>20</th>\n",
              "      <td>(COFFEE)</td>\n",
              "      <td>(COCK)</td>\n",
              "      <td>0.40</td>\n",
              "      <td>0.15</td>\n",
              "      <td>0.15</td>\n",
              "      <td>0.375000</td>\n",
              "      <td>2.500000</td>\n",
              "      <td>0.0900</td>\n",
              "      <td>1.360000</td>\n",
              "      <td>1.000000</td>\n",
              "    </tr>\n",
              "  </tbody>\n",
              "</table>\n",
              "</div>\n",
              "    <div class=\"colab-df-buttons\">\n",
              "\n",
              "  <div class=\"colab-df-container\">\n",
              "    <button class=\"colab-df-convert\" onclick=\"convertToInteractive('df-77b4b059-64a1-4e53-80d0-f1975d3cb968')\"\n",
              "            title=\"Convert this dataframe to an interactive table.\"\n",
              "            style=\"display:none;\">\n",
              "\n",
              "  <svg xmlns=\"http://www.w3.org/2000/svg\" height=\"24px\" viewBox=\"0 -960 960 960\">\n",
              "    <path d=\"M120-120v-720h720v720H120Zm60-500h600v-160H180v160Zm220 220h160v-160H400v160Zm0 220h160v-160H400v160ZM180-400h160v-160H180v160Zm440 0h160v-160H620v160ZM180-180h160v-160H180v160Zm440 0h160v-160H620v160Z\"/>\n",
              "  </svg>\n",
              "    </button>\n",
              "\n",
              "  <style>\n",
              "    .colab-df-container {\n",
              "      display:flex;\n",
              "      gap: 12px;\n",
              "    }\n",
              "\n",
              "    .colab-df-convert {\n",
              "      background-color: #E8F0FE;\n",
              "      border: none;\n",
              "      border-radius: 50%;\n",
              "      cursor: pointer;\n",
              "      display: none;\n",
              "      fill: #1967D2;\n",
              "      height: 32px;\n",
              "      padding: 0 0 0 0;\n",
              "      width: 32px;\n",
              "    }\n",
              "\n",
              "    .colab-df-convert:hover {\n",
              "      background-color: #E2EBFA;\n",
              "      box-shadow: 0px 1px 2px rgba(60, 64, 67, 0.3), 0px 1px 3px 1px rgba(60, 64, 67, 0.15);\n",
              "      fill: #174EA6;\n",
              "    }\n",
              "\n",
              "    .colab-df-buttons div {\n",
              "      margin-bottom: 4px;\n",
              "    }\n",
              "\n",
              "    [theme=dark] .colab-df-convert {\n",
              "      background-color: #3B4455;\n",
              "      fill: #D2E3FC;\n",
              "    }\n",
              "\n",
              "    [theme=dark] .colab-df-convert:hover {\n",
              "      background-color: #434B5C;\n",
              "      box-shadow: 0px 1px 3px 1px rgba(0, 0, 0, 0.15);\n",
              "      filter: drop-shadow(0px 1px 2px rgba(0, 0, 0, 0.3));\n",
              "      fill: #FFFFFF;\n",
              "    }\n",
              "  </style>\n",
              "\n",
              "    <script>\n",
              "      const buttonEl =\n",
              "        document.querySelector('#df-77b4b059-64a1-4e53-80d0-f1975d3cb968 button.colab-df-convert');\n",
              "      buttonEl.style.display =\n",
              "        google.colab.kernel.accessAllowed ? 'block' : 'none';\n",
              "\n",
              "      async function convertToInteractive(key) {\n",
              "        const element = document.querySelector('#df-77b4b059-64a1-4e53-80d0-f1975d3cb968');\n",
              "        const dataTable =\n",
              "          await google.colab.kernel.invokeFunction('convertToInteractive',\n",
              "                                                    [key], {});\n",
              "        if (!dataTable) return;\n",
              "\n",
              "        const docLinkHtml = 'Like what you see? Visit the ' +\n",
              "          '<a target=\"_blank\" href=https://colab.research.google.com/notebooks/data_table.ipynb>data table notebook</a>'\n",
              "          + ' to learn more about interactive tables.';\n",
              "        element.innerHTML = '';\n",
              "        dataTable['output_type'] = 'display_data';\n",
              "        await google.colab.output.renderOutput(dataTable, element);\n",
              "        const docLink = document.createElement('div');\n",
              "        docLink.innerHTML = docLinkHtml;\n",
              "        element.appendChild(docLink);\n",
              "      }\n",
              "    </script>\n",
              "  </div>\n",
              "\n",
              "\n",
              "<div id=\"df-21827903-d83e-4717-9bee-e94864ac6af1\">\n",
              "  <button class=\"colab-df-quickchart\" onclick=\"quickchart('df-21827903-d83e-4717-9bee-e94864ac6af1')\"\n",
              "            title=\"Suggest charts\"\n",
              "            style=\"display:none;\">\n",
              "\n",
              "<svg xmlns=\"http://www.w3.org/2000/svg\" height=\"24px\"viewBox=\"0 0 24 24\"\n",
              "     width=\"24px\">\n",
              "    <g>\n",
              "        <path d=\"M19 3H5c-1.1 0-2 .9-2 2v14c0 1.1.9 2 2 2h14c1.1 0 2-.9 2-2V5c0-1.1-.9-2-2-2zM9 17H7v-7h2v7zm4 0h-2V7h2v10zm4 0h-2v-4h2v4z\"/>\n",
              "    </g>\n",
              "</svg>\n",
              "  </button>\n",
              "\n",
              "<style>\n",
              "  .colab-df-quickchart {\n",
              "      --bg-color: #E8F0FE;\n",
              "      --fill-color: #1967D2;\n",
              "      --hover-bg-color: #E2EBFA;\n",
              "      --hover-fill-color: #174EA6;\n",
              "      --disabled-fill-color: #AAA;\n",
              "      --disabled-bg-color: #DDD;\n",
              "  }\n",
              "\n",
              "  [theme=dark] .colab-df-quickchart {\n",
              "      --bg-color: #3B4455;\n",
              "      --fill-color: #D2E3FC;\n",
              "      --hover-bg-color: #434B5C;\n",
              "      --hover-fill-color: #FFFFFF;\n",
              "      --disabled-bg-color: #3B4455;\n",
              "      --disabled-fill-color: #666;\n",
              "  }\n",
              "\n",
              "  .colab-df-quickchart {\n",
              "    background-color: var(--bg-color);\n",
              "    border: none;\n",
              "    border-radius: 50%;\n",
              "    cursor: pointer;\n",
              "    display: none;\n",
              "    fill: var(--fill-color);\n",
              "    height: 32px;\n",
              "    padding: 0;\n",
              "    width: 32px;\n",
              "  }\n",
              "\n",
              "  .colab-df-quickchart:hover {\n",
              "    background-color: var(--hover-bg-color);\n",
              "    box-shadow: 0 1px 2px rgba(60, 64, 67, 0.3), 0 1px 3px 1px rgba(60, 64, 67, 0.15);\n",
              "    fill: var(--button-hover-fill-color);\n",
              "  }\n",
              "\n",
              "  .colab-df-quickchart-complete:disabled,\n",
              "  .colab-df-quickchart-complete:disabled:hover {\n",
              "    background-color: var(--disabled-bg-color);\n",
              "    fill: var(--disabled-fill-color);\n",
              "    box-shadow: none;\n",
              "  }\n",
              "\n",
              "  .colab-df-spinner {\n",
              "    border: 2px solid var(--fill-color);\n",
              "    border-color: transparent;\n",
              "    border-bottom-color: var(--fill-color);\n",
              "    animation:\n",
              "      spin 1s steps(1) infinite;\n",
              "  }\n",
              "\n",
              "  @keyframes spin {\n",
              "    0% {\n",
              "      border-color: transparent;\n",
              "      border-bottom-color: var(--fill-color);\n",
              "      border-left-color: var(--fill-color);\n",
              "    }\n",
              "    20% {\n",
              "      border-color: transparent;\n",
              "      border-left-color: var(--fill-color);\n",
              "      border-top-color: var(--fill-color);\n",
              "    }\n",
              "    30% {\n",
              "      border-color: transparent;\n",
              "      border-left-color: var(--fill-color);\n",
              "      border-top-color: var(--fill-color);\n",
              "      border-right-color: var(--fill-color);\n",
              "    }\n",
              "    40% {\n",
              "      border-color: transparent;\n",
              "      border-right-color: var(--fill-color);\n",
              "      border-top-color: var(--fill-color);\n",
              "    }\n",
              "    60% {\n",
              "      border-color: transparent;\n",
              "      border-right-color: var(--fill-color);\n",
              "    }\n",
              "    80% {\n",
              "      border-color: transparent;\n",
              "      border-right-color: var(--fill-color);\n",
              "      border-bottom-color: var(--fill-color);\n",
              "    }\n",
              "    90% {\n",
              "      border-color: transparent;\n",
              "      border-bottom-color: var(--fill-color);\n",
              "    }\n",
              "  }\n",
              "</style>\n",
              "\n",
              "  <script>\n",
              "    async function quickchart(key) {\n",
              "      const quickchartButtonEl =\n",
              "        document.querySelector('#' + key + ' button');\n",
              "      quickchartButtonEl.disabled = true;  // To prevent multiple clicks.\n",
              "      quickchartButtonEl.classList.add('colab-df-spinner');\n",
              "      try {\n",
              "        const charts = await google.colab.kernel.invokeFunction(\n",
              "            'suggestCharts', [key], {});\n",
              "      } catch (error) {\n",
              "        console.error('Error during call to suggestCharts:', error);\n",
              "      }\n",
              "      quickchartButtonEl.classList.remove('colab-df-spinner');\n",
              "      quickchartButtonEl.classList.add('colab-df-quickchart-complete');\n",
              "    }\n",
              "    (() => {\n",
              "      let quickchartButtonEl =\n",
              "        document.querySelector('#df-21827903-d83e-4717-9bee-e94864ac6af1 button');\n",
              "      quickchartButtonEl.style.display =\n",
              "        google.colab.kernel.accessAllowed ? 'block' : 'none';\n",
              "    })();\n",
              "  </script>\n",
              "</div>\n",
              "    </div>\n",
              "  </div>\n"
            ],
            "application/vnd.google.colaboratory.intrinsic+json": {
              "type": "dataframe",
              "variable_name": "conf_2",
              "repr_error": "Out of range float values are not JSON compliant: inf"
            }
          },
          "metadata": {},
          "execution_count": 10
        }
      ]
    },
    {
      "cell_type": "markdown",
      "source": [
        "Zadanie 2"
      ],
      "metadata": {
        "id": "cT_REcCIP-Ci"
      }
    },
    {
      "cell_type": "code",
      "source": [
        "import pandas as pd\n",
        "import numpy as np\n",
        "from scipy.sparse import csr_matrix\n",
        "import pandas as pd\n",
        "from sklearn.feature_extraction.text import TfidfVectorizer\n",
        "from sklearn.metrics.pairwise import cosine_similarity"
      ],
      "metadata": {
        "colab": {
          "base_uri": "https://localhost:8080/"
        },
        "id": "vbM-yJsEP_s7",
        "outputId": "4f5f3551-788f-4a39-fd67-32376c0f3cfa"
      },
      "execution_count": 11,
      "outputs": [
        {
          "output_type": "stream",
          "name": "stderr",
          "text": [
            "/usr/local/lib/python3.10/dist-packages/ipykernel/ipkernel.py:283: DeprecationWarning: `should_run_async` will not call `transform_cell` automatically in the future. Please pass the result to `transformed_cell` argument and any exception that happen during thetransform in `preprocessing_exc_tuple` in IPython 7.17 and above.\n",
            "  and should_run_async(code)\n"
          ]
        }
      ]
    },
    {
      "cell_type": "code",
      "source": [
        "ratings_url = 'https://s3-us-west-2.amazonaws.com/recommender-tutorial/ratings.csv'\n",
        "movies_url = 'https://s3-us-west-2.amazonaws.com/recommender-tutorial/movies.csv'"
      ],
      "metadata": {
        "colab": {
          "base_uri": "https://localhost:8080/"
        },
        "id": "nYCh47ueQES6",
        "outputId": "bea17756-966c-4185-b848-6e3d4223060f"
      },
      "execution_count": 12,
      "outputs": [
        {
          "output_type": "stream",
          "name": "stderr",
          "text": [
            "/usr/local/lib/python3.10/dist-packages/ipykernel/ipkernel.py:283: DeprecationWarning: `should_run_async` will not call `transform_cell` automatically in the future. Please pass the result to `transformed_cell` argument and any exception that happen during thetransform in `preprocessing_exc_tuple` in IPython 7.17 and above.\n",
            "  and should_run_async(code)\n"
          ]
        }
      ]
    },
    {
      "cell_type": "code",
      "source": [
        "ratings = pd.read_csv(ratings_url)\n",
        "movies = pd.read_csv(movies_url)"
      ],
      "metadata": {
        "colab": {
          "base_uri": "https://localhost:8080/"
        },
        "id": "ASE1saCiQGV3",
        "outputId": "af309b80-0084-4b22-b211-b64053d06d31"
      },
      "execution_count": 13,
      "outputs": [
        {
          "output_type": "stream",
          "name": "stderr",
          "text": [
            "/usr/local/lib/python3.10/dist-packages/ipykernel/ipkernel.py:283: DeprecationWarning: `should_run_async` will not call `transform_cell` automatically in the future. Please pass the result to `transformed_cell` argument and any exception that happen during thetransform in `preprocessing_exc_tuple` in IPython 7.17 and above.\n",
            "  and should_run_async(code)\n"
          ]
        }
      ]
    },
    {
      "cell_type": "code",
      "source": [
        "print(ratings)\n",
        "print(movies)"
      ],
      "metadata": {
        "colab": {
          "base_uri": "https://localhost:8080/"
        },
        "id": "3OEIN8aAQJAS",
        "outputId": "2b9692e9-bf22-48dc-b796-25f7fa140217"
      },
      "execution_count": 14,
      "outputs": [
        {
          "output_type": "stream",
          "name": "stdout",
          "text": [
            "        userId  movieId  rating   timestamp\n",
            "0            1        1     4.0   964982703\n",
            "1            1        3     4.0   964981247\n",
            "2            1        6     4.0   964982224\n",
            "3            1       47     5.0   964983815\n",
            "4            1       50     5.0   964982931\n",
            "...        ...      ...     ...         ...\n",
            "100831     610   166534     4.0  1493848402\n",
            "100832     610   168248     5.0  1493850091\n",
            "100833     610   168250     5.0  1494273047\n",
            "100834     610   168252     5.0  1493846352\n",
            "100835     610   170875     3.0  1493846415\n",
            "\n",
            "[100836 rows x 4 columns]\n",
            "      movieId                                      title  \\\n",
            "0           1                           Toy Story (1995)   \n",
            "1           2                             Jumanji (1995)   \n",
            "2           3                    Grumpier Old Men (1995)   \n",
            "3           4                   Waiting to Exhale (1995)   \n",
            "4           5         Father of the Bride Part II (1995)   \n",
            "...       ...                                        ...   \n",
            "9737   193581  Black Butler: Book of the Atlantic (2017)   \n",
            "9738   193583               No Game No Life: Zero (2017)   \n",
            "9739   193585                               Flint (2017)   \n",
            "9740   193587        Bungo Stray Dogs: Dead Apple (2018)   \n",
            "9741   193609        Andrew Dice Clay: Dice Rules (1991)   \n",
            "\n",
            "                                           genres  \n",
            "0     Adventure|Animation|Children|Comedy|Fantasy  \n",
            "1                      Adventure|Children|Fantasy  \n",
            "2                                  Comedy|Romance  \n",
            "3                            Comedy|Drama|Romance  \n",
            "4                                          Comedy  \n",
            "...                                           ...  \n",
            "9737              Action|Animation|Comedy|Fantasy  \n",
            "9738                     Animation|Comedy|Fantasy  \n",
            "9739                                        Drama  \n",
            "9740                             Action|Animation  \n",
            "9741                                       Comedy  \n",
            "\n",
            "[9742 rows x 3 columns]\n"
          ]
        },
        {
          "output_type": "stream",
          "name": "stderr",
          "text": [
            "/usr/local/lib/python3.10/dist-packages/ipykernel/ipkernel.py:283: DeprecationWarning: `should_run_async` will not call `transform_cell` automatically in the future. Please pass the result to `transformed_cell` argument and any exception that happen during thetransform in `preprocessing_exc_tuple` in IPython 7.17 and above.\n",
            "  and should_run_async(code)\n"
          ]
        }
      ]
    },
    {
      "cell_type": "code",
      "source": [
        "ratings.head()"
      ],
      "metadata": {
        "colab": {
          "base_uri": "https://localhost:8080/",
          "height": 262
        },
        "id": "QRmzUAu6QKup",
        "outputId": "3a801548-b1f0-4e3c-ecba-8c1348154bc4"
      },
      "execution_count": 15,
      "outputs": [
        {
          "output_type": "stream",
          "name": "stderr",
          "text": [
            "/usr/local/lib/python3.10/dist-packages/ipykernel/ipkernel.py:283: DeprecationWarning: `should_run_async` will not call `transform_cell` automatically in the future. Please pass the result to `transformed_cell` argument and any exception that happen during thetransform in `preprocessing_exc_tuple` in IPython 7.17 and above.\n",
            "  and should_run_async(code)\n"
          ]
        },
        {
          "output_type": "execute_result",
          "data": {
            "text/plain": [
              "   userId  movieId  rating  timestamp\n",
              "0       1        1     4.0  964982703\n",
              "1       1        3     4.0  964981247\n",
              "2       1        6     4.0  964982224\n",
              "3       1       47     5.0  964983815\n",
              "4       1       50     5.0  964982931"
            ],
            "text/html": [
              "\n",
              "  <div id=\"df-d2f286d1-15e3-442f-af4a-5dcabe45da07\" class=\"colab-df-container\">\n",
              "    <div>\n",
              "<style scoped>\n",
              "    .dataframe tbody tr th:only-of-type {\n",
              "        vertical-align: middle;\n",
              "    }\n",
              "\n",
              "    .dataframe tbody tr th {\n",
              "        vertical-align: top;\n",
              "    }\n",
              "\n",
              "    .dataframe thead th {\n",
              "        text-align: right;\n",
              "    }\n",
              "</style>\n",
              "<table border=\"1\" class=\"dataframe\">\n",
              "  <thead>\n",
              "    <tr style=\"text-align: right;\">\n",
              "      <th></th>\n",
              "      <th>userId</th>\n",
              "      <th>movieId</th>\n",
              "      <th>rating</th>\n",
              "      <th>timestamp</th>\n",
              "    </tr>\n",
              "  </thead>\n",
              "  <tbody>\n",
              "    <tr>\n",
              "      <th>0</th>\n",
              "      <td>1</td>\n",
              "      <td>1</td>\n",
              "      <td>4.0</td>\n",
              "      <td>964982703</td>\n",
              "    </tr>\n",
              "    <tr>\n",
              "      <th>1</th>\n",
              "      <td>1</td>\n",
              "      <td>3</td>\n",
              "      <td>4.0</td>\n",
              "      <td>964981247</td>\n",
              "    </tr>\n",
              "    <tr>\n",
              "      <th>2</th>\n",
              "      <td>1</td>\n",
              "      <td>6</td>\n",
              "      <td>4.0</td>\n",
              "      <td>964982224</td>\n",
              "    </tr>\n",
              "    <tr>\n",
              "      <th>3</th>\n",
              "      <td>1</td>\n",
              "      <td>47</td>\n",
              "      <td>5.0</td>\n",
              "      <td>964983815</td>\n",
              "    </tr>\n",
              "    <tr>\n",
              "      <th>4</th>\n",
              "      <td>1</td>\n",
              "      <td>50</td>\n",
              "      <td>5.0</td>\n",
              "      <td>964982931</td>\n",
              "    </tr>\n",
              "  </tbody>\n",
              "</table>\n",
              "</div>\n",
              "    <div class=\"colab-df-buttons\">\n",
              "\n",
              "  <div class=\"colab-df-container\">\n",
              "    <button class=\"colab-df-convert\" onclick=\"convertToInteractive('df-d2f286d1-15e3-442f-af4a-5dcabe45da07')\"\n",
              "            title=\"Convert this dataframe to an interactive table.\"\n",
              "            style=\"display:none;\">\n",
              "\n",
              "  <svg xmlns=\"http://www.w3.org/2000/svg\" height=\"24px\" viewBox=\"0 -960 960 960\">\n",
              "    <path d=\"M120-120v-720h720v720H120Zm60-500h600v-160H180v160Zm220 220h160v-160H400v160Zm0 220h160v-160H400v160ZM180-400h160v-160H180v160Zm440 0h160v-160H620v160ZM180-180h160v-160H180v160Zm440 0h160v-160H620v160Z\"/>\n",
              "  </svg>\n",
              "    </button>\n",
              "\n",
              "  <style>\n",
              "    .colab-df-container {\n",
              "      display:flex;\n",
              "      gap: 12px;\n",
              "    }\n",
              "\n",
              "    .colab-df-convert {\n",
              "      background-color: #E8F0FE;\n",
              "      border: none;\n",
              "      border-radius: 50%;\n",
              "      cursor: pointer;\n",
              "      display: none;\n",
              "      fill: #1967D2;\n",
              "      height: 32px;\n",
              "      padding: 0 0 0 0;\n",
              "      width: 32px;\n",
              "    }\n",
              "\n",
              "    .colab-df-convert:hover {\n",
              "      background-color: #E2EBFA;\n",
              "      box-shadow: 0px 1px 2px rgba(60, 64, 67, 0.3), 0px 1px 3px 1px rgba(60, 64, 67, 0.15);\n",
              "      fill: #174EA6;\n",
              "    }\n",
              "\n",
              "    .colab-df-buttons div {\n",
              "      margin-bottom: 4px;\n",
              "    }\n",
              "\n",
              "    [theme=dark] .colab-df-convert {\n",
              "      background-color: #3B4455;\n",
              "      fill: #D2E3FC;\n",
              "    }\n",
              "\n",
              "    [theme=dark] .colab-df-convert:hover {\n",
              "      background-color: #434B5C;\n",
              "      box-shadow: 0px 1px 3px 1px rgba(0, 0, 0, 0.15);\n",
              "      filter: drop-shadow(0px 1px 2px rgba(0, 0, 0, 0.3));\n",
              "      fill: #FFFFFF;\n",
              "    }\n",
              "  </style>\n",
              "\n",
              "    <script>\n",
              "      const buttonEl =\n",
              "        document.querySelector('#df-d2f286d1-15e3-442f-af4a-5dcabe45da07 button.colab-df-convert');\n",
              "      buttonEl.style.display =\n",
              "        google.colab.kernel.accessAllowed ? 'block' : 'none';\n",
              "\n",
              "      async function convertToInteractive(key) {\n",
              "        const element = document.querySelector('#df-d2f286d1-15e3-442f-af4a-5dcabe45da07');\n",
              "        const dataTable =\n",
              "          await google.colab.kernel.invokeFunction('convertToInteractive',\n",
              "                                                    [key], {});\n",
              "        if (!dataTable) return;\n",
              "\n",
              "        const docLinkHtml = 'Like what you see? Visit the ' +\n",
              "          '<a target=\"_blank\" href=https://colab.research.google.com/notebooks/data_table.ipynb>data table notebook</a>'\n",
              "          + ' to learn more about interactive tables.';\n",
              "        element.innerHTML = '';\n",
              "        dataTable['output_type'] = 'display_data';\n",
              "        await google.colab.output.renderOutput(dataTable, element);\n",
              "        const docLink = document.createElement('div');\n",
              "        docLink.innerHTML = docLinkHtml;\n",
              "        element.appendChild(docLink);\n",
              "      }\n",
              "    </script>\n",
              "  </div>\n",
              "\n",
              "\n",
              "<div id=\"df-a2eec262-a1d9-44de-9a7f-4b545b04b2b5\">\n",
              "  <button class=\"colab-df-quickchart\" onclick=\"quickchart('df-a2eec262-a1d9-44de-9a7f-4b545b04b2b5')\"\n",
              "            title=\"Suggest charts\"\n",
              "            style=\"display:none;\">\n",
              "\n",
              "<svg xmlns=\"http://www.w3.org/2000/svg\" height=\"24px\"viewBox=\"0 0 24 24\"\n",
              "     width=\"24px\">\n",
              "    <g>\n",
              "        <path d=\"M19 3H5c-1.1 0-2 .9-2 2v14c0 1.1.9 2 2 2h14c1.1 0 2-.9 2-2V5c0-1.1-.9-2-2-2zM9 17H7v-7h2v7zm4 0h-2V7h2v10zm4 0h-2v-4h2v4z\"/>\n",
              "    </g>\n",
              "</svg>\n",
              "  </button>\n",
              "\n",
              "<style>\n",
              "  .colab-df-quickchart {\n",
              "      --bg-color: #E8F0FE;\n",
              "      --fill-color: #1967D2;\n",
              "      --hover-bg-color: #E2EBFA;\n",
              "      --hover-fill-color: #174EA6;\n",
              "      --disabled-fill-color: #AAA;\n",
              "      --disabled-bg-color: #DDD;\n",
              "  }\n",
              "\n",
              "  [theme=dark] .colab-df-quickchart {\n",
              "      --bg-color: #3B4455;\n",
              "      --fill-color: #D2E3FC;\n",
              "      --hover-bg-color: #434B5C;\n",
              "      --hover-fill-color: #FFFFFF;\n",
              "      --disabled-bg-color: #3B4455;\n",
              "      --disabled-fill-color: #666;\n",
              "  }\n",
              "\n",
              "  .colab-df-quickchart {\n",
              "    background-color: var(--bg-color);\n",
              "    border: none;\n",
              "    border-radius: 50%;\n",
              "    cursor: pointer;\n",
              "    display: none;\n",
              "    fill: var(--fill-color);\n",
              "    height: 32px;\n",
              "    padding: 0;\n",
              "    width: 32px;\n",
              "  }\n",
              "\n",
              "  .colab-df-quickchart:hover {\n",
              "    background-color: var(--hover-bg-color);\n",
              "    box-shadow: 0 1px 2px rgba(60, 64, 67, 0.3), 0 1px 3px 1px rgba(60, 64, 67, 0.15);\n",
              "    fill: var(--button-hover-fill-color);\n",
              "  }\n",
              "\n",
              "  .colab-df-quickchart-complete:disabled,\n",
              "  .colab-df-quickchart-complete:disabled:hover {\n",
              "    background-color: var(--disabled-bg-color);\n",
              "    fill: var(--disabled-fill-color);\n",
              "    box-shadow: none;\n",
              "  }\n",
              "\n",
              "  .colab-df-spinner {\n",
              "    border: 2px solid var(--fill-color);\n",
              "    border-color: transparent;\n",
              "    border-bottom-color: var(--fill-color);\n",
              "    animation:\n",
              "      spin 1s steps(1) infinite;\n",
              "  }\n",
              "\n",
              "  @keyframes spin {\n",
              "    0% {\n",
              "      border-color: transparent;\n",
              "      border-bottom-color: var(--fill-color);\n",
              "      border-left-color: var(--fill-color);\n",
              "    }\n",
              "    20% {\n",
              "      border-color: transparent;\n",
              "      border-left-color: var(--fill-color);\n",
              "      border-top-color: var(--fill-color);\n",
              "    }\n",
              "    30% {\n",
              "      border-color: transparent;\n",
              "      border-left-color: var(--fill-color);\n",
              "      border-top-color: var(--fill-color);\n",
              "      border-right-color: var(--fill-color);\n",
              "    }\n",
              "    40% {\n",
              "      border-color: transparent;\n",
              "      border-right-color: var(--fill-color);\n",
              "      border-top-color: var(--fill-color);\n",
              "    }\n",
              "    60% {\n",
              "      border-color: transparent;\n",
              "      border-right-color: var(--fill-color);\n",
              "    }\n",
              "    80% {\n",
              "      border-color: transparent;\n",
              "      border-right-color: var(--fill-color);\n",
              "      border-bottom-color: var(--fill-color);\n",
              "    }\n",
              "    90% {\n",
              "      border-color: transparent;\n",
              "      border-bottom-color: var(--fill-color);\n",
              "    }\n",
              "  }\n",
              "</style>\n",
              "\n",
              "  <script>\n",
              "    async function quickchart(key) {\n",
              "      const quickchartButtonEl =\n",
              "        document.querySelector('#' + key + ' button');\n",
              "      quickchartButtonEl.disabled = true;  // To prevent multiple clicks.\n",
              "      quickchartButtonEl.classList.add('colab-df-spinner');\n",
              "      try {\n",
              "        const charts = await google.colab.kernel.invokeFunction(\n",
              "            'suggestCharts', [key], {});\n",
              "      } catch (error) {\n",
              "        console.error('Error during call to suggestCharts:', error);\n",
              "      }\n",
              "      quickchartButtonEl.classList.remove('colab-df-spinner');\n",
              "      quickchartButtonEl.classList.add('colab-df-quickchart-complete');\n",
              "    }\n",
              "    (() => {\n",
              "      let quickchartButtonEl =\n",
              "        document.querySelector('#df-a2eec262-a1d9-44de-9a7f-4b545b04b2b5 button');\n",
              "      quickchartButtonEl.style.display =\n",
              "        google.colab.kernel.accessAllowed ? 'block' : 'none';\n",
              "    })();\n",
              "  </script>\n",
              "</div>\n",
              "    </div>\n",
              "  </div>\n"
            ],
            "application/vnd.google.colaboratory.intrinsic+json": {
              "type": "dataframe",
              "variable_name": "ratings"
            }
          },
          "metadata": {},
          "execution_count": 15
        }
      ]
    },
    {
      "cell_type": "code",
      "source": [
        "movies.head()"
      ],
      "metadata": {
        "colab": {
          "base_uri": "https://localhost:8080/",
          "height": 262
        },
        "id": "8eVQA0LOQM4J",
        "outputId": "011d523f-e33f-4671-e7f5-205eba05c18f"
      },
      "execution_count": 16,
      "outputs": [
        {
          "output_type": "stream",
          "name": "stderr",
          "text": [
            "/usr/local/lib/python3.10/dist-packages/ipykernel/ipkernel.py:283: DeprecationWarning: `should_run_async` will not call `transform_cell` automatically in the future. Please pass the result to `transformed_cell` argument and any exception that happen during thetransform in `preprocessing_exc_tuple` in IPython 7.17 and above.\n",
            "  and should_run_async(code)\n"
          ]
        },
        {
          "output_type": "execute_result",
          "data": {
            "text/plain": [
              "   movieId                               title  \\\n",
              "0        1                    Toy Story (1995)   \n",
              "1        2                      Jumanji (1995)   \n",
              "2        3             Grumpier Old Men (1995)   \n",
              "3        4            Waiting to Exhale (1995)   \n",
              "4        5  Father of the Bride Part II (1995)   \n",
              "\n",
              "                                        genres  \n",
              "0  Adventure|Animation|Children|Comedy|Fantasy  \n",
              "1                   Adventure|Children|Fantasy  \n",
              "2                               Comedy|Romance  \n",
              "3                         Comedy|Drama|Romance  \n",
              "4                                       Comedy  "
            ],
            "text/html": [
              "\n",
              "  <div id=\"df-3f10361c-facb-4544-8feb-be0e4fb1d38b\" class=\"colab-df-container\">\n",
              "    <div>\n",
              "<style scoped>\n",
              "    .dataframe tbody tr th:only-of-type {\n",
              "        vertical-align: middle;\n",
              "    }\n",
              "\n",
              "    .dataframe tbody tr th {\n",
              "        vertical-align: top;\n",
              "    }\n",
              "\n",
              "    .dataframe thead th {\n",
              "        text-align: right;\n",
              "    }\n",
              "</style>\n",
              "<table border=\"1\" class=\"dataframe\">\n",
              "  <thead>\n",
              "    <tr style=\"text-align: right;\">\n",
              "      <th></th>\n",
              "      <th>movieId</th>\n",
              "      <th>title</th>\n",
              "      <th>genres</th>\n",
              "    </tr>\n",
              "  </thead>\n",
              "  <tbody>\n",
              "    <tr>\n",
              "      <th>0</th>\n",
              "      <td>1</td>\n",
              "      <td>Toy Story (1995)</td>\n",
              "      <td>Adventure|Animation|Children|Comedy|Fantasy</td>\n",
              "    </tr>\n",
              "    <tr>\n",
              "      <th>1</th>\n",
              "      <td>2</td>\n",
              "      <td>Jumanji (1995)</td>\n",
              "      <td>Adventure|Children|Fantasy</td>\n",
              "    </tr>\n",
              "    <tr>\n",
              "      <th>2</th>\n",
              "      <td>3</td>\n",
              "      <td>Grumpier Old Men (1995)</td>\n",
              "      <td>Comedy|Romance</td>\n",
              "    </tr>\n",
              "    <tr>\n",
              "      <th>3</th>\n",
              "      <td>4</td>\n",
              "      <td>Waiting to Exhale (1995)</td>\n",
              "      <td>Comedy|Drama|Romance</td>\n",
              "    </tr>\n",
              "    <tr>\n",
              "      <th>4</th>\n",
              "      <td>5</td>\n",
              "      <td>Father of the Bride Part II (1995)</td>\n",
              "      <td>Comedy</td>\n",
              "    </tr>\n",
              "  </tbody>\n",
              "</table>\n",
              "</div>\n",
              "    <div class=\"colab-df-buttons\">\n",
              "\n",
              "  <div class=\"colab-df-container\">\n",
              "    <button class=\"colab-df-convert\" onclick=\"convertToInteractive('df-3f10361c-facb-4544-8feb-be0e4fb1d38b')\"\n",
              "            title=\"Convert this dataframe to an interactive table.\"\n",
              "            style=\"display:none;\">\n",
              "\n",
              "  <svg xmlns=\"http://www.w3.org/2000/svg\" height=\"24px\" viewBox=\"0 -960 960 960\">\n",
              "    <path d=\"M120-120v-720h720v720H120Zm60-500h600v-160H180v160Zm220 220h160v-160H400v160Zm0 220h160v-160H400v160ZM180-400h160v-160H180v160Zm440 0h160v-160H620v160ZM180-180h160v-160H180v160Zm440 0h160v-160H620v160Z\"/>\n",
              "  </svg>\n",
              "    </button>\n",
              "\n",
              "  <style>\n",
              "    .colab-df-container {\n",
              "      display:flex;\n",
              "      gap: 12px;\n",
              "    }\n",
              "\n",
              "    .colab-df-convert {\n",
              "      background-color: #E8F0FE;\n",
              "      border: none;\n",
              "      border-radius: 50%;\n",
              "      cursor: pointer;\n",
              "      display: none;\n",
              "      fill: #1967D2;\n",
              "      height: 32px;\n",
              "      padding: 0 0 0 0;\n",
              "      width: 32px;\n",
              "    }\n",
              "\n",
              "    .colab-df-convert:hover {\n",
              "      background-color: #E2EBFA;\n",
              "      box-shadow: 0px 1px 2px rgba(60, 64, 67, 0.3), 0px 1px 3px 1px rgba(60, 64, 67, 0.15);\n",
              "      fill: #174EA6;\n",
              "    }\n",
              "\n",
              "    .colab-df-buttons div {\n",
              "      margin-bottom: 4px;\n",
              "    }\n",
              "\n",
              "    [theme=dark] .colab-df-convert {\n",
              "      background-color: #3B4455;\n",
              "      fill: #D2E3FC;\n",
              "    }\n",
              "\n",
              "    [theme=dark] .colab-df-convert:hover {\n",
              "      background-color: #434B5C;\n",
              "      box-shadow: 0px 1px 3px 1px rgba(0, 0, 0, 0.15);\n",
              "      filter: drop-shadow(0px 1px 2px rgba(0, 0, 0, 0.3));\n",
              "      fill: #FFFFFF;\n",
              "    }\n",
              "  </style>\n",
              "\n",
              "    <script>\n",
              "      const buttonEl =\n",
              "        document.querySelector('#df-3f10361c-facb-4544-8feb-be0e4fb1d38b button.colab-df-convert');\n",
              "      buttonEl.style.display =\n",
              "        google.colab.kernel.accessAllowed ? 'block' : 'none';\n",
              "\n",
              "      async function convertToInteractive(key) {\n",
              "        const element = document.querySelector('#df-3f10361c-facb-4544-8feb-be0e4fb1d38b');\n",
              "        const dataTable =\n",
              "          await google.colab.kernel.invokeFunction('convertToInteractive',\n",
              "                                                    [key], {});\n",
              "        if (!dataTable) return;\n",
              "\n",
              "        const docLinkHtml = 'Like what you see? Visit the ' +\n",
              "          '<a target=\"_blank\" href=https://colab.research.google.com/notebooks/data_table.ipynb>data table notebook</a>'\n",
              "          + ' to learn more about interactive tables.';\n",
              "        element.innerHTML = '';\n",
              "        dataTable['output_type'] = 'display_data';\n",
              "        await google.colab.output.renderOutput(dataTable, element);\n",
              "        const docLink = document.createElement('div');\n",
              "        docLink.innerHTML = docLinkHtml;\n",
              "        element.appendChild(docLink);\n",
              "      }\n",
              "    </script>\n",
              "  </div>\n",
              "\n",
              "\n",
              "<div id=\"df-c187c21f-58e3-48af-a287-61e0182fd3bf\">\n",
              "  <button class=\"colab-df-quickchart\" onclick=\"quickchart('df-c187c21f-58e3-48af-a287-61e0182fd3bf')\"\n",
              "            title=\"Suggest charts\"\n",
              "            style=\"display:none;\">\n",
              "\n",
              "<svg xmlns=\"http://www.w3.org/2000/svg\" height=\"24px\"viewBox=\"0 0 24 24\"\n",
              "     width=\"24px\">\n",
              "    <g>\n",
              "        <path d=\"M19 3H5c-1.1 0-2 .9-2 2v14c0 1.1.9 2 2 2h14c1.1 0 2-.9 2-2V5c0-1.1-.9-2-2-2zM9 17H7v-7h2v7zm4 0h-2V7h2v10zm4 0h-2v-4h2v4z\"/>\n",
              "    </g>\n",
              "</svg>\n",
              "  </button>\n",
              "\n",
              "<style>\n",
              "  .colab-df-quickchart {\n",
              "      --bg-color: #E8F0FE;\n",
              "      --fill-color: #1967D2;\n",
              "      --hover-bg-color: #E2EBFA;\n",
              "      --hover-fill-color: #174EA6;\n",
              "      --disabled-fill-color: #AAA;\n",
              "      --disabled-bg-color: #DDD;\n",
              "  }\n",
              "\n",
              "  [theme=dark] .colab-df-quickchart {\n",
              "      --bg-color: #3B4455;\n",
              "      --fill-color: #D2E3FC;\n",
              "      --hover-bg-color: #434B5C;\n",
              "      --hover-fill-color: #FFFFFF;\n",
              "      --disabled-bg-color: #3B4455;\n",
              "      --disabled-fill-color: #666;\n",
              "  }\n",
              "\n",
              "  .colab-df-quickchart {\n",
              "    background-color: var(--bg-color);\n",
              "    border: none;\n",
              "    border-radius: 50%;\n",
              "    cursor: pointer;\n",
              "    display: none;\n",
              "    fill: var(--fill-color);\n",
              "    height: 32px;\n",
              "    padding: 0;\n",
              "    width: 32px;\n",
              "  }\n",
              "\n",
              "  .colab-df-quickchart:hover {\n",
              "    background-color: var(--hover-bg-color);\n",
              "    box-shadow: 0 1px 2px rgba(60, 64, 67, 0.3), 0 1px 3px 1px rgba(60, 64, 67, 0.15);\n",
              "    fill: var(--button-hover-fill-color);\n",
              "  }\n",
              "\n",
              "  .colab-df-quickchart-complete:disabled,\n",
              "  .colab-df-quickchart-complete:disabled:hover {\n",
              "    background-color: var(--disabled-bg-color);\n",
              "    fill: var(--disabled-fill-color);\n",
              "    box-shadow: none;\n",
              "  }\n",
              "\n",
              "  .colab-df-spinner {\n",
              "    border: 2px solid var(--fill-color);\n",
              "    border-color: transparent;\n",
              "    border-bottom-color: var(--fill-color);\n",
              "    animation:\n",
              "      spin 1s steps(1) infinite;\n",
              "  }\n",
              "\n",
              "  @keyframes spin {\n",
              "    0% {\n",
              "      border-color: transparent;\n",
              "      border-bottom-color: var(--fill-color);\n",
              "      border-left-color: var(--fill-color);\n",
              "    }\n",
              "    20% {\n",
              "      border-color: transparent;\n",
              "      border-left-color: var(--fill-color);\n",
              "      border-top-color: var(--fill-color);\n",
              "    }\n",
              "    30% {\n",
              "      border-color: transparent;\n",
              "      border-left-color: var(--fill-color);\n",
              "      border-top-color: var(--fill-color);\n",
              "      border-right-color: var(--fill-color);\n",
              "    }\n",
              "    40% {\n",
              "      border-color: transparent;\n",
              "      border-right-color: var(--fill-color);\n",
              "      border-top-color: var(--fill-color);\n",
              "    }\n",
              "    60% {\n",
              "      border-color: transparent;\n",
              "      border-right-color: var(--fill-color);\n",
              "    }\n",
              "    80% {\n",
              "      border-color: transparent;\n",
              "      border-right-color: var(--fill-color);\n",
              "      border-bottom-color: var(--fill-color);\n",
              "    }\n",
              "    90% {\n",
              "      border-color: transparent;\n",
              "      border-bottom-color: var(--fill-color);\n",
              "    }\n",
              "  }\n",
              "</style>\n",
              "\n",
              "  <script>\n",
              "    async function quickchart(key) {\n",
              "      const quickchartButtonEl =\n",
              "        document.querySelector('#' + key + ' button');\n",
              "      quickchartButtonEl.disabled = true;  // To prevent multiple clicks.\n",
              "      quickchartButtonEl.classList.add('colab-df-spinner');\n",
              "      try {\n",
              "        const charts = await google.colab.kernel.invokeFunction(\n",
              "            'suggestCharts', [key], {});\n",
              "      } catch (error) {\n",
              "        console.error('Error during call to suggestCharts:', error);\n",
              "      }\n",
              "      quickchartButtonEl.classList.remove('colab-df-spinner');\n",
              "      quickchartButtonEl.classList.add('colab-df-quickchart-complete');\n",
              "    }\n",
              "    (() => {\n",
              "      let quickchartButtonEl =\n",
              "        document.querySelector('#df-c187c21f-58e3-48af-a287-61e0182fd3bf button');\n",
              "      quickchartButtonEl.style.display =\n",
              "        google.colab.kernel.accessAllowed ? 'block' : 'none';\n",
              "    })();\n",
              "  </script>\n",
              "</div>\n",
              "    </div>\n",
              "  </div>\n"
            ],
            "application/vnd.google.colaboratory.intrinsic+json": {
              "type": "dataframe",
              "variable_name": "movies",
              "summary": "{\n  \"name\": \"movies\",\n  \"rows\": 9742,\n  \"fields\": [\n    {\n      \"column\": \"movieId\",\n      \"properties\": {\n        \"dtype\": \"number\",\n        \"std\": 52160,\n        \"min\": 1,\n        \"max\": 193609,\n        \"num_unique_values\": 9742,\n        \"samples\": [\n          45635,\n          1373,\n          7325\n        ],\n        \"semantic_type\": \"\",\n        \"description\": \"\"\n      }\n    },\n    {\n      \"column\": \"title\",\n      \"properties\": {\n        \"dtype\": \"string\",\n        \"num_unique_values\": 9737,\n        \"samples\": [\n          \"Teenage Mutant Ninja Turtles (2014)\",\n          \"America's Sweethearts (2001)\",\n          \"Cast Away (2000)\"\n        ],\n        \"semantic_type\": \"\",\n        \"description\": \"\"\n      }\n    },\n    {\n      \"column\": \"genres\",\n      \"properties\": {\n        \"dtype\": \"category\",\n        \"num_unique_values\": 951,\n        \"samples\": [\n          \"Crime|Mystery|Romance|Thriller\",\n          \"Action|Adventure|Comedy|Western\",\n          \"Crime|Drama|Musical\"\n        ],\n        \"semantic_type\": \"\",\n        \"description\": \"\"\n      }\n    }\n  ]\n}"
            }
          },
          "metadata": {},
          "execution_count": 16
        }
      ]
    },
    {
      "cell_type": "code",
      "source": [
        "rating_counts = ratings['rating'].value_counts()\n",
        "print(rating_counts)"
      ],
      "metadata": {
        "colab": {
          "base_uri": "https://localhost:8080/"
        },
        "id": "3Z9NMUulQTW2",
        "outputId": "05cf5c5e-f40c-44aa-a36d-013a6ed9d3d6"
      },
      "execution_count": 17,
      "outputs": [
        {
          "output_type": "stream",
          "name": "stdout",
          "text": [
            "rating\n",
            "4.0    26818\n",
            "3.0    20047\n",
            "5.0    13211\n",
            "3.5    13136\n",
            "4.5     8551\n",
            "2.0     7551\n",
            "2.5     5550\n",
            "1.0     2811\n",
            "1.5     1791\n",
            "0.5     1370\n",
            "Name: count, dtype: int64\n"
          ]
        },
        {
          "output_type": "stream",
          "name": "stderr",
          "text": [
            "/usr/local/lib/python3.10/dist-packages/ipykernel/ipkernel.py:283: DeprecationWarning: `should_run_async` will not call `transform_cell` automatically in the future. Please pass the result to `transformed_cell` argument and any exception that happen during thetransform in `preprocessing_exc_tuple` in IPython 7.17 and above.\n",
            "  and should_run_async(code)\n"
          ]
        }
      ]
    },
    {
      "cell_type": "code",
      "source": [
        "total_votes = ratings['userId'].count()\n",
        "print(total_votes)"
      ],
      "metadata": {
        "colab": {
          "base_uri": "https://localhost:8080/"
        },
        "id": "Rv5DENo-QUX7",
        "outputId": "402837ce-2ff8-48e9-e9ac-db75aaaa1de2"
      },
      "execution_count": 18,
      "outputs": [
        {
          "output_type": "stream",
          "name": "stdout",
          "text": [
            "100836\n"
          ]
        },
        {
          "output_type": "stream",
          "name": "stderr",
          "text": [
            "/usr/local/lib/python3.10/dist-packages/ipykernel/ipkernel.py:283: DeprecationWarning: `should_run_async` will not call `transform_cell` automatically in the future. Please pass the result to `transformed_cell` argument and any exception that happen during thetransform in `preprocessing_exc_tuple` in IPython 7.17 and above.\n",
            "  and should_run_async(code)\n"
          ]
        }
      ]
    },
    {
      "cell_type": "code",
      "source": [
        "total_movies = movies['movieId'].count()\n",
        "print(total_movies)"
      ],
      "metadata": {
        "colab": {
          "base_uri": "https://localhost:8080/"
        },
        "id": "RVUpGnY6QWhb",
        "outputId": "2a173441-e0af-4754-b489-c12824f76cb5"
      },
      "execution_count": 19,
      "outputs": [
        {
          "output_type": "stream",
          "name": "stdout",
          "text": [
            "9742\n"
          ]
        },
        {
          "output_type": "stream",
          "name": "stderr",
          "text": [
            "/usr/local/lib/python3.10/dist-packages/ipykernel/ipkernel.py:283: DeprecationWarning: `should_run_async` will not call `transform_cell` automatically in the future. Please pass the result to `transformed_cell` argument and any exception that happen during thetransform in `preprocessing_exc_tuple` in IPython 7.17 and above.\n",
            "  and should_run_async(code)\n"
          ]
        }
      ]
    },
    {
      "cell_type": "code",
      "source": [
        "num_users = ratings['userId'].nunique()\n",
        "print(num_users)"
      ],
      "metadata": {
        "colab": {
          "base_uri": "https://localhost:8080/"
        },
        "id": "rBTSCiB-QZH6",
        "outputId": "7753a462-6777-429d-8150-dc33741d1f3f"
      },
      "execution_count": 20,
      "outputs": [
        {
          "output_type": "stream",
          "name": "stdout",
          "text": [
            "610\n"
          ]
        },
        {
          "output_type": "stream",
          "name": "stderr",
          "text": [
            "/usr/local/lib/python3.10/dist-packages/ipykernel/ipkernel.py:283: DeprecationWarning: `should_run_async` will not call `transform_cell` automatically in the future. Please pass the result to `transformed_cell` argument and any exception that happen during thetransform in `preprocessing_exc_tuple` in IPython 7.17 and above.\n",
            "  and should_run_async(code)\n"
          ]
        }
      ]
    },
    {
      "cell_type": "code",
      "source": [
        "num_ratings_per_user = ratings.groupby('userId').size()\n",
        "average_ratings_per_user = num_ratings_per_user.mean()\n",
        "print(average_ratings_per_user)"
      ],
      "metadata": {
        "colab": {
          "base_uri": "https://localhost:8080/"
        },
        "id": "ppEhO7N2Qa18",
        "outputId": "514f1942-595c-4260-ce74-60ffab037edd"
      },
      "execution_count": 21,
      "outputs": [
        {
          "output_type": "stream",
          "name": "stdout",
          "text": [
            "165.30491803278687\n"
          ]
        },
        {
          "output_type": "stream",
          "name": "stderr",
          "text": [
            "/usr/local/lib/python3.10/dist-packages/ipykernel/ipkernel.py:283: DeprecationWarning: `should_run_async` will not call `transform_cell` automatically in the future. Please pass the result to `transformed_cell` argument and any exception that happen during thetransform in `preprocessing_exc_tuple` in IPython 7.17 and above.\n",
            "  and should_run_async(code)\n"
          ]
        }
      ]
    },
    {
      "cell_type": "code",
      "source": [
        "num_ratings_per_movie = ratings.groupby('movieId').size()\n",
        "average_ratings_per_movie = num_ratings_per_movie.mean()\n",
        "print(average_ratings_per_movie)"
      ],
      "metadata": {
        "colab": {
          "base_uri": "https://localhost:8080/"
        },
        "id": "eAozE9eFQd6a",
        "outputId": "d2120312-2b52-4766-8942-43b75d0bf0d8"
      },
      "execution_count": 22,
      "outputs": [
        {
          "output_type": "stream",
          "name": "stdout",
          "text": [
            "10.369806663924312\n"
          ]
        },
        {
          "output_type": "stream",
          "name": "stderr",
          "text": [
            "/usr/local/lib/python3.10/dist-packages/ipykernel/ipkernel.py:283: DeprecationWarning: `should_run_async` will not call `transform_cell` automatically in the future. Please pass the result to `transformed_cell` argument and any exception that happen during thetransform in `preprocessing_exc_tuple` in IPython 7.17 and above.\n",
            "  and should_run_async(code)\n"
          ]
        }
      ]
    },
    {
      "cell_type": "code",
      "source": [
        "rating_distribution = ratings['rating'].value_counts().sort_index()\n",
        "print(rating_distribution)"
      ],
      "metadata": {
        "colab": {
          "base_uri": "https://localhost:8080/"
        },
        "id": "j1GLMtbxQfGH",
        "outputId": "82e03a92-0017-48cb-9e39-a9e0c176a16f"
      },
      "execution_count": 23,
      "outputs": [
        {
          "output_type": "stream",
          "name": "stdout",
          "text": [
            "rating\n",
            "0.5     1370\n",
            "1.0     2811\n",
            "1.5     1791\n",
            "2.0     7551\n",
            "2.5     5550\n",
            "3.0    20047\n",
            "3.5    13136\n",
            "4.0    26818\n",
            "4.5     8551\n",
            "5.0    13211\n",
            "Name: count, dtype: int64\n"
          ]
        },
        {
          "output_type": "stream",
          "name": "stderr",
          "text": [
            "/usr/local/lib/python3.10/dist-packages/ipykernel/ipkernel.py:283: DeprecationWarning: `should_run_async` will not call `transform_cell` automatically in the future. Please pass the result to `transformed_cell` argument and any exception that happen during thetransform in `preprocessing_exc_tuple` in IPython 7.17 and above.\n",
            "  and should_run_async(code)\n"
          ]
        }
      ]
    },
    {
      "cell_type": "code",
      "source": [
        "movies_titles = dict(zip(movies['movieId'], movies['title']))"
      ],
      "metadata": {
        "colab": {
          "base_uri": "https://localhost:8080/"
        },
        "id": "M6sjyzbJQwMc",
        "outputId": "90149adf-2d52-40cd-ca58-f45d6f28f6f7"
      },
      "execution_count": 24,
      "outputs": [
        {
          "output_type": "stream",
          "name": "stderr",
          "text": [
            "/usr/local/lib/python3.10/dist-packages/ipykernel/ipkernel.py:283: DeprecationWarning: `should_run_async` will not call `transform_cell` automatically in the future. Please pass the result to `transformed_cell` argument and any exception that happen during thetransform in `preprocessing_exc_tuple` in IPython 7.17 and above.\n",
            "  and should_run_async(code)\n"
          ]
        }
      ]
    },
    {
      "cell_type": "code",
      "source": [
        "movie_ratings = pd.merge(movies, ratings, on='movieId')\n",
        "\n",
        "tfidf = TfidfVectorizer(stop_words='english')\n",
        "tfidf_matrix = tfidf.fit_transform(movies['genres'])\n",
        "\n",
        "cosine_sim = cosine_similarity(tfidf_matrix, tfidf_matrix)\n",
        "\n",
        "def get_recommendations(title, cosine_sim=cosine_sim):\n",
        "\n",
        "    idx = movies[movies['title'] == title].index[0]\n",
        "\n",
        "    sim_scores = list(enumerate(cosine_sim[idx]))\n",
        "\n",
        "    sim_scores = sorted(sim_scores, key=lambda x: x[1], reverse=True)\n",
        "\n",
        "    sim_scores = sim_scores[1:11]\n",
        "\n",
        "    movie_indices = [i[0] for i in sim_scores]\n",
        "    return movies['title'].iloc[movie_indices]\n",
        "\n",
        "print(get_recommendations('Toy Story (1995)'))"
      ],
      "metadata": {
        "colab": {
          "base_uri": "https://localhost:8080/"
        },
        "id": "vbQPHqDI8qgm",
        "outputId": "26ea3a9f-a604-4408-a692-e2f756d2dccb"
      },
      "execution_count": 25,
      "outputs": [
        {
          "output_type": "stream",
          "name": "stderr",
          "text": [
            "/usr/local/lib/python3.10/dist-packages/ipykernel/ipkernel.py:283: DeprecationWarning: `should_run_async` will not call `transform_cell` automatically in the future. Please pass the result to `transformed_cell` argument and any exception that happen during thetransform in `preprocessing_exc_tuple` in IPython 7.17 and above.\n",
            "  and should_run_async(code)\n"
          ]
        },
        {
          "output_type": "stream",
          "name": "stdout",
          "text": [
            "1706                                          Antz (1998)\n",
            "2355                                   Toy Story 2 (1999)\n",
            "2809       Adventures of Rocky and Bullwinkle, The (2000)\n",
            "3000                     Emperor's New Groove, The (2000)\n",
            "3568                                Monsters, Inc. (2001)\n",
            "6194                                     Wild, The (2006)\n",
            "6486                               Shrek the Third (2007)\n",
            "6948                       Tale of Despereaux, The (2008)\n",
            "7760    Asterix and the Vikings (Astérix et les Viking...\n",
            "8219                                         Turbo (2013)\n",
            "Name: title, dtype: object\n"
          ]
        }
      ]
    },
    {
      "cell_type": "code",
      "source": [
        "def create_sparse(df):\n",
        "  M = df['userId'].nunique()\n",
        "  N = df['movieId'].nunique()\n",
        "\n",
        "  user_mapper = dict(zip(np.unique(df[\"userId\"]), list(range(M))))\n",
        "  movie_mapper = dict(zip(np.unique(df[\"movieId\"]), list(range(N))))\n",
        "\n",
        "  user_inv_mapper = dict(zip(list(range(M)), np.unique(df[\"userId\"])))\n",
        "  movie_inv_mapper = dict(zip(list(range(N)), np.unique(df[\"movieId\"])))\n",
        "\n",
        "  user_index = [user_mapper[i] for i in df['userId']]\n",
        "  item_index = [movie_mapper[i] for i in df['movieId']]\n",
        "\n",
        "  X = csr_matrix((df[\"rating\"], (user_index, item_index)), shape=(M,N))\n",
        "\n",
        "  return X, user_mapper, movie_mapper, user_inv_mapper, movie_inv_mapper\n",
        "\n",
        "X, user_mapper, movie_mapper, user_inv_mapper, movie_inv_mapper = create_sparse(ratings)"
      ],
      "metadata": {
        "colab": {
          "base_uri": "https://localhost:8080/"
        },
        "id": "ALD1SZ-bQyPE",
        "outputId": "69e89c9b-839e-48c6-fd8c-93be0a57c9ce"
      },
      "execution_count": 26,
      "outputs": [
        {
          "output_type": "stream",
          "name": "stderr",
          "text": [
            "/usr/local/lib/python3.10/dist-packages/ipykernel/ipkernel.py:283: DeprecationWarning: `should_run_async` will not call `transform_cell` automatically in the future. Please pass the result to `transformed_cell` argument and any exception that happen during thetransform in `preprocessing_exc_tuple` in IPython 7.17 and above.\n",
            "  and should_run_async(code)\n"
          ]
        }
      ]
    },
    {
      "cell_type": "code",
      "source": [
        "n_total = X.shape[0]*X.shape[1]\n",
        "n_ratings = X.nnz #scipy.sparse.csr_matrix.nnz no of stored values, including explicit 0\n",
        "sparsity = n_ratings/n_total\n",
        "sparsity_p = round(sparsity*100,2)\n",
        "print(f\"Matrix sparsity: {sparsity_p}%\")\n",
        "n_ratings_per_user = X.getnnz(axis=1)"
      ],
      "metadata": {
        "colab": {
          "base_uri": "https://localhost:8080/"
        },
        "id": "-UJGSe_iR7NE",
        "outputId": "6a65723e-7093-404e-d691-ecc122bf7d1c"
      },
      "execution_count": 27,
      "outputs": [
        {
          "output_type": "stream",
          "name": "stdout",
          "text": [
            "Matrix sparsity: 1.7%\n"
          ]
        },
        {
          "output_type": "stream",
          "name": "stderr",
          "text": [
            "/usr/local/lib/python3.10/dist-packages/ipykernel/ipkernel.py:283: DeprecationWarning: `should_run_async` will not call `transform_cell` automatically in the future. Please pass the result to `transformed_cell` argument and any exception that happen during thetransform in `preprocessing_exc_tuple` in IPython 7.17 and above.\n",
            "  and should_run_async(code)\n"
          ]
        }
      ]
    },
    {
      "cell_type": "code",
      "source": [
        "# Obliczenie liczby wszystkich możliwych ocen (łącznie z ocenami równymi zero)\n",
        "n_total = X.shape[0] * X.shape[1]\n",
        "\n",
        "# Obliczenie liczby ocenanych wartości (niezerowych) w macierzy rzadkiej\n",
        "n_ratings = X.nnz\n",
        "\n",
        "# Obliczenie rzadkości (sparsity) macierzy\n",
        "sparsity = n_ratings / n_total\n",
        "sparsity_p = round(sparsity * 100, 2)\n",
        "\n",
        "print(f\"Matrix sparsity: {sparsity_p}%\")\n",
        "\n",
        "# Obliczenie liczby ocen na użytkownika\n",
        "n_ratings_per_user = X.getnnz(axis=1)"
      ],
      "metadata": {
        "colab": {
          "base_uri": "https://localhost:8080/"
        },
        "id": "U7QoO3A_R8t9",
        "outputId": "a2890fcd-30b1-4179-c7f9-6fd091ef8d22"
      },
      "execution_count": 28,
      "outputs": [
        {
          "output_type": "stream",
          "name": "stdout",
          "text": [
            "Matrix sparsity: 1.7%\n"
          ]
        },
        {
          "output_type": "stream",
          "name": "stderr",
          "text": [
            "/usr/local/lib/python3.10/dist-packages/ipykernel/ipkernel.py:283: DeprecationWarning: `should_run_async` will not call `transform_cell` automatically in the future. Please pass the result to `transformed_cell` argument and any exception that happen during thetransform in `preprocessing_exc_tuple` in IPython 7.17 and above.\n",
            "  and should_run_async(code)\n"
          ]
        }
      ]
    },
    {
      "cell_type": "code",
      "source": [
        "from sklearn.neighbors import NearestNeighbors\n",
        "def find_similar_movies(movie_id, X, movie_mapper, movie_inv_mapper, k, metric='cosine'):\n",
        "  X = X.T\n",
        "  neighbour_ids = []\n",
        "  movie_ind = movie_mapper[movie_id]\n",
        "  movie_vec = X[movie_ind]\n",
        "  if isinstance(movie_vec, (np.ndarray)):\n",
        "    movie_vec = movie_vec.reshape(1,-1)\n",
        "  kNN = NearestNeighbors(n_neighbors=k+1, algorithm=\"brute\", metric=metric)\n",
        "  kNN.fit(X)\n",
        "  neighbour = kNN.kneighbors(movie_vec, return_distance=False)\n",
        "  for i in range(0,k):\n",
        "    n = neighbour.item(i)\n",
        "    neighbour_ids.append(movie_inv_mapper[n])\n",
        "  neighbour_ids.pop(0)\n",
        "  return neighbour_ids"
      ],
      "metadata": {
        "colab": {
          "base_uri": "https://localhost:8080/"
        },
        "id": "nXVqO9Jb5bsg",
        "outputId": "1be6b0ef-20e3-49b5-a2c7-81558934caf4"
      },
      "execution_count": 29,
      "outputs": [
        {
          "output_type": "stream",
          "name": "stderr",
          "text": [
            "/usr/local/lib/python3.10/dist-packages/ipykernel/ipkernel.py:283: DeprecationWarning: `should_run_async` will not call `transform_cell` automatically in the future. Please pass the result to `transformed_cell` argument and any exception that happen during thetransform in `preprocessing_exc_tuple` in IPython 7.17 and above.\n",
            "  and should_run_async(code)\n"
          ]
        }
      ]
    },
    {
      "cell_type": "code",
      "source": [
        "!pip install surprise\n",
        "# importing relevant libraries\n",
        "from surprise.model_selection import cross_validate, GridSearchCV\n",
        "from surprise.prediction_algorithms import SVD, KNNBasic, KNNBaseline\n",
        "from surprise import Dataset\n",
        "from surprise import Reader\n",
        "from surprise.model_selection import train_test_split\n",
        "from surprise import accuracy"
      ],
      "metadata": {
        "colab": {
          "base_uri": "https://localhost:8080/"
        },
        "id": "vqnct_mGza9k",
        "outputId": "7c7e76f5-1a1c-486d-f84e-404a6cc9057d"
      },
      "execution_count": 30,
      "outputs": [
        {
          "output_type": "stream",
          "name": "stderr",
          "text": [
            "/usr/local/lib/python3.10/dist-packages/ipykernel/ipkernel.py:283: DeprecationWarning: `should_run_async` will not call `transform_cell` automatically in the future. Please pass the result to `transformed_cell` argument and any exception that happen during thetransform in `preprocessing_exc_tuple` in IPython 7.17 and above.\n",
            "  and should_run_async(code)\n"
          ]
        },
        {
          "output_type": "stream",
          "name": "stdout",
          "text": [
            "Collecting surprise\n",
            "  Downloading surprise-0.1-py2.py3-none-any.whl (1.8 kB)\n",
            "Collecting scikit-surprise (from surprise)\n",
            "  Downloading scikit_surprise-1.1.4.tar.gz (154 kB)\n",
            "\u001b[2K     \u001b[90m━━━━━━━━━━━━━━━━━━━━━━━━━━━━━━━━━━━━━━━━\u001b[0m \u001b[32m154.4/154.4 kB\u001b[0m \u001b[31m1.5 MB/s\u001b[0m eta \u001b[36m0:00:00\u001b[0m\n",
            "\u001b[?25h  Installing build dependencies ... \u001b[?25l\u001b[?25hdone\n",
            "  Getting requirements to build wheel ... \u001b[?25l\u001b[?25hdone\n",
            "  Preparing metadata (pyproject.toml) ... \u001b[?25l\u001b[?25hdone\n",
            "Requirement already satisfied: joblib>=1.2.0 in /usr/local/lib/python3.10/dist-packages (from scikit-surprise->surprise) (1.4.2)\n",
            "Requirement already satisfied: numpy>=1.19.5 in /usr/local/lib/python3.10/dist-packages (from scikit-surprise->surprise) (1.25.2)\n",
            "Requirement already satisfied: scipy>=1.6.0 in /usr/local/lib/python3.10/dist-packages (from scikit-surprise->surprise) (1.11.4)\n",
            "Building wheels for collected packages: scikit-surprise\n",
            "  Building wheel for scikit-surprise (pyproject.toml) ... \u001b[?25l\u001b[?25hdone\n",
            "  Created wheel for scikit-surprise: filename=scikit_surprise-1.1.4-cp310-cp310-linux_x86_64.whl size=2357240 sha256=6ee9240b3730949d741634ca7033262344209a2e022a755c991355d652b21bc6\n",
            "  Stored in directory: /root/.cache/pip/wheels/4b/3f/df/6acbf0a40397d9bf3ff97f582cc22fb9ce66adde75bc71fd54\n",
            "Successfully built scikit-surprise\n",
            "Installing collected packages: scikit-surprise, surprise\n",
            "Successfully installed scikit-surprise-1.1.4 surprise-0.1\n"
          ]
        }
      ]
    },
    {
      "cell_type": "code",
      "source": [
        "min_rating = ratings.rating.min()\n",
        "max_rating = ratings.rating.max()\n",
        "reader = Reader(rating_scale=(min_rating, max_rating))\n",
        "data = Dataset.load_from_df(ratings[['userId','movieId' , 'rating']], reader)\n",
        "trainset, testset = train_test_split(data, test_size = 0.25)\n",
        "algo = SVD()\n",
        "algo.fit(trainset)\n",
        "predictions = algo.test(testset)\n",
        "accuracy.rmse(predictions)"
      ],
      "metadata": {
        "colab": {
          "base_uri": "https://localhost:8080/"
        },
        "id": "XyRyqeljz8ZZ",
        "outputId": "6c4616af-e6a0-45f9-ea13-8f29f2572ae8"
      },
      "execution_count": 31,
      "outputs": [
        {
          "output_type": "stream",
          "name": "stderr",
          "text": [
            "/usr/local/lib/python3.10/dist-packages/ipykernel/ipkernel.py:283: DeprecationWarning: `should_run_async` will not call `transform_cell` automatically in the future. Please pass the result to `transformed_cell` argument and any exception that happen during thetransform in `preprocessing_exc_tuple` in IPython 7.17 and above.\n",
            "  and should_run_async(code)\n"
          ]
        },
        {
          "output_type": "stream",
          "name": "stdout",
          "text": [
            "RMSE: 0.8705\n"
          ]
        },
        {
          "output_type": "execute_result",
          "data": {
            "text/plain": [
              "0.8705016937809475"
            ]
          },
          "metadata": {},
          "execution_count": 31
        }
      ]
    },
    {
      "cell_type": "code",
      "source": [
        "children_movies = movies[movies['genres'].str.contains('Children', na=False)]\n",
        "number_of_children_movies = len(children_movies)\n",
        "print(f\"Liczba filmów dla dzieci: {number_of_children_movies}\")"
      ],
      "metadata": {
        "colab": {
          "base_uri": "https://localhost:8080/"
        },
        "id": "HJn8LTVZDFr8",
        "outputId": "d6bedac8-985f-4d22-9688-175d802b49ec"
      },
      "execution_count": 32,
      "outputs": [
        {
          "output_type": "stream",
          "name": "stdout",
          "text": [
            "Liczba filmów dla dzieci: 664\n"
          ]
        },
        {
          "output_type": "stream",
          "name": "stderr",
          "text": [
            "/usr/local/lib/python3.10/dist-packages/ipykernel/ipkernel.py:283: DeprecationWarning: `should_run_async` will not call `transform_cell` automatically in the future. Please pass the result to `transformed_cell` argument and any exception that happen during thetransform in `preprocessing_exc_tuple` in IPython 7.17 and above.\n",
            "  and should_run_async(code)\n"
          ]
        }
      ]
    },
    {
      "cell_type": "code",
      "source": [
        "import matplotlib.pyplot as plt\n",
        "\n",
        "movies['year'] = movies['title'].str.extract(r'\\((\\d{4})\\)', expand=False)\n",
        "movies['year'] = movies['year'].astype(float)\n",
        "\n",
        "movies_1995 = movies[movies['year'] == 1995]\n",
        "movies_ratings_1995 = pd.merge(movies_1995, ratings, on='movieId')\n",
        "\n",
        "plt.hist(movies_ratings_1995['rating'], bins=10, edgecolor='black')\n",
        "plt.title('Rozkład ocen filmów z 1995 roku')\n",
        "plt.xlabel('Ocena')\n",
        "plt.ylabel('Liczba ocen')\n",
        "plt.show()"
      ],
      "metadata": {
        "colab": {
          "base_uri": "https://localhost:8080/",
          "height": 528
        },
        "id": "j1RaDDt3GsgB",
        "outputId": "afab0bc6-6512-4967-9ccf-220b9af0e0bd"
      },
      "execution_count": 33,
      "outputs": [
        {
          "output_type": "stream",
          "name": "stderr",
          "text": [
            "/usr/local/lib/python3.10/dist-packages/ipykernel/ipkernel.py:283: DeprecationWarning: `should_run_async` will not call `transform_cell` automatically in the future. Please pass the result to `transformed_cell` argument and any exception that happen during thetransform in `preprocessing_exc_tuple` in IPython 7.17 and above.\n",
            "  and should_run_async(code)\n"
          ]
        },
        {
          "output_type": "display_data",
          "data": {
            "text/plain": [
              "<Figure size 640x480 with 1 Axes>"
            ],
            "image/png": "[encoded data removed]"
          },
          "metadata": {}
        }
      ]
    },
    {
      "cell_type": "code",
      "source": [
        "action_movies = movies[movies['genres'].str.contains('Action', na=False)]\n",
        "action_ratings = pd.merge(action_movies, ratings, on='movieId')\n",
        "\n",
        "average_action_rating = action_ratings['rating'].mean()\n",
        "print(f\"Średnia ocena filmów akcji: {average_action_rating}\")\n",
        "\n",
        "action_movie_avg_ratings = action_ratings.groupby('title')['rating'].mean().reset_index()\n",
        "\n",
        "top_3_action_movies = action_movie_avg_ratings.sort_values(by='rating', ascending=False).head(3)\n",
        "\n",
        "print(\"Trzy najwyżej oceniane filmy akcji:\")\n",
        "print(top_3_action_movies)"
      ],
      "metadata": {
        "colab": {
          "base_uri": "https://localhost:8080/"
        },
        "id": "GLudltJzIpni",
        "outputId": "df747966-815e-4587-e707-c4f6c4a14ff4"
      },
      "execution_count": 34,
      "outputs": [
        {
          "output_type": "stream",
          "name": "stdout",
          "text": [
            "Średnia ocena filmów akcji: 3.447984331646809\n",
            "Trzy najwyżej oceniane filmy akcji:\n",
            "                                                  title  rating\n",
            "909                                    Knock Off (1998)     5.0\n",
            "1168  On the Other Side of the Tracks (De l'autre cô...     5.0\n",
            "1460                        Sonatine (Sonachine) (1993)     5.0\n"
          ]
        },
        {
          "output_type": "stream",
          "name": "stderr",
          "text": [
            "/usr/local/lib/python3.10/dist-packages/ipykernel/ipkernel.py:283: DeprecationWarning: `should_run_async` will not call `transform_cell` automatically in the future. Please pass the result to `transformed_cell` argument and any exception that happen during thetransform in `preprocessing_exc_tuple` in IPython 7.17 and above.\n",
            "  and should_run_async(code)\n"
          ]
        }
      ]
    },
    {
      "cell_type": "code",
      "source": [
        "reader = Reader(rating_scale=(0.5, 5.0))\n",
        "data = Dataset.load_from_df(ratings[['userId', 'movieId', 'rating']], reader)\n",
        "\n",
        "trainset, testset = train_test_split(data, test_size=0.2)\n",
        "\n",
        "algo = SVD()\n",
        "algo.fit(trainset)\n",
        "\n",
        "predictions = algo.test(testset)\n",
        "accuracy.rmse(predictions)\n",
        "\n",
        "def get_recommendations(user_id, num_recommendations=10):\n",
        "    all_movie_ids = ratings['movieId'].unique()\n",
        "\n",
        "    rated_movie_ids = ratings[ratings['userId'] == user_id]['movieId'].values\n",
        "\n",
        "    unrated_movie_ids = [mid for mid in all_movie_ids if mid not in rated_movie_ids]\n",
        "\n",
        "    predictions = [algo.predict(user_id, mid) for mid in unrated_movie_ids]\n",
        "\n",
        "    predictions.sort(key=lambda x: x.est, reverse=True)\n",
        "\n",
        "    top_predictions = predictions[:num_recommendations]\n",
        "\n",
        "    top_movie_ids = [pred.iid for pred in top_predictions]\n",
        "    top_movie_titles = movies[movies['movieId'].isin(top_movie_ids)]['title'].values\n",
        "\n",
        "    return top_movie_titles\n",
        "\n",
        "\n",
        "user_id = 1\n",
        "recommendations = get_recommendations(user_id)\n",
        "print(f\"Rekomendacje dla użytkownika {user_id}:\")\n",
        "print(recommendations)"
      ],
      "metadata": {
        "colab": {
          "base_uri": "https://localhost:8080/"
        },
        "id": "hCn5L_4oKWpa",
        "outputId": "312465c5-411d-4017-a7ec-578364250878"
      },
      "execution_count": 35,
      "outputs": [
        {
          "output_type": "stream",
          "name": "stderr",
          "text": [
            "/usr/local/lib/python3.10/dist-packages/ipykernel/ipkernel.py:283: DeprecationWarning: `should_run_async` will not call `transform_cell` automatically in the future. Please pass the result to `transformed_cell` argument and any exception that happen during thetransform in `preprocessing_exc_tuple` in IPython 7.17 and above.\n",
            "  and should_run_async(code)\n"
          ]
        },
        {
          "output_type": "stream",
          "name": "stdout",
          "text": [
            "RMSE: 0.8723\n",
            "Rekomendacje dla użytkownika 1:\n",
            "['Shawshank Redemption, The (1994)'\n",
            " 'Dr. Strangelove or: How I Learned to Stop Worrying and Love the Bomb (1964)'\n",
            " 'Casablanca (1942)' 'Amadeus (1984)'\n",
            " 'Bridge on the River Kwai, The (1957)' 'Good Will Hunting (1997)'\n",
            " 'Spirited Away (Sen to Chihiro no kamikakushi) (2001)'\n",
            " 'Adaptation (2002)' 'Dark Knight, The (2008)' 'Django Unchained (2012)']\n"
          ]
        }
      ]
    },
    {
      "cell_type": "code",
      "source": [
        "reader = Reader(rating_scale=(0.5, 5.0))\n",
        "data = Dataset.load_from_df(ratings[['userId', 'movieId', 'rating']], reader)\n",
        "\n",
        "trainset, testset = train_test_split(data, test_size=0.2, random_state=42)\n",
        "\n",
        "algo_svd = SVD(random_state=42)\n",
        "algo_svd.fit(trainset)\n",
        "\n",
        "sim_options = {\n",
        "    'name': 'cosine',\n",
        "    'user_based': False\n",
        "}\n",
        "algo_knn = KNNBasic(sim_options=sim_options, random_state=42)\n",
        "algo_knn.fit(trainset)\n",
        "\n",
        "\n",
        "predictions_svd = algo_svd.test(testset)\n",
        "rmse_svd = accuracy.rmse(predictions_svd)\n",
        "\n",
        "\n",
        "predictions_knn = algo_knn.test(testset)\n",
        "rmse_knn = accuracy.rmse(predictions_knn)\n",
        "\n",
        "print(f\"RMSE dla SVD: {rmse_svd}\")\n",
        "print(f\"RMSE dla kNN: {rmse_knn}\")"
      ],
      "metadata": {
        "colab": {
          "base_uri": "https://localhost:8080/"
        },
        "id": "l9mQ5oIwMHpq",
        "outputId": "9f5b91d2-eb40-4ee4-d79e-b14748d5bc73"
      },
      "execution_count": 36,
      "outputs": [
        {
          "output_type": "stream",
          "name": "stderr",
          "text": [
            "/usr/local/lib/python3.10/dist-packages/ipykernel/ipkernel.py:283: DeprecationWarning: `should_run_async` will not call `transform_cell` automatically in the future. Please pass the result to `transformed_cell` argument and any exception that happen during thetransform in `preprocessing_exc_tuple` in IPython 7.17 and above.\n",
            "  and should_run_async(code)\n"
          ]
        },
        {
          "output_type": "stream",
          "name": "stdout",
          "text": [
            "Computing the cosine similarity matrix...\n",
            "Done computing similarity matrix.\n",
            "RMSE: 0.8807\n",
            "RMSE: 0.9800\n",
            "RMSE dla SVD: 0.8807462819979623\n",
            "RMSE dla kNN: 0.97995665962038\n"
          ]
        }
      ]
    },
    {
      "cell_type": "code",
      "source": [
        "import random\n",
        "\n",
        "reader = Reader(rating_scale=(0.5, 5.0))\n",
        "data = Dataset.load_from_df(ratings[['userId', 'movieId', 'rating']], reader)\n",
        "\n",
        "trainset, testset = train_test_split(data, test_size=0.2, random_state=42)\n",
        "\n",
        "k_values = random.sample(range(5, 51), 10)\n",
        "\n",
        "param_grid = {'k': k_values, 'sim_options': {'name': ['cosine'], 'user_based': [False]}}\n",
        "\n",
        "grid_search_knn = GridSearchCV(KNNBasic, param_grid, measures=['rmse'], cv=5, n_jobs=-1)\n",
        "grid_search_knn.fit(data)"
      ],
      "metadata": {
        "colab": {
          "base_uri": "https://localhost:8080/"
        },
        "id": "0sf2FbMXNAvS",
        "outputId": "d2c3265a-4ae1-4b54-a54d-f461efc7f4ef"
      },
      "execution_count": 37,
      "outputs": [
        {
          "output_type": "stream",
          "name": "stderr",
          "text": [
            "/usr/local/lib/python3.10/dist-packages/ipykernel/ipkernel.py:283: DeprecationWarning: `should_run_async` will not call `transform_cell` automatically in the future. Please pass the result to `transformed_cell` argument and any exception that happen during thetransform in `preprocessing_exc_tuple` in IPython 7.17 and above.\n",
            "  and should_run_async(code)\n"
          ]
        }
      ]
    },
    {
      "cell_type": "code",
      "source": [
        "algo_svd = SVD(random_state=42)\n",
        "algo_svd.fit(trainset)\n",
        "\n",
        "\n",
        "best_k = grid_search_knn.best_params['rmse']['k']\n",
        "sim_options = {\n",
        "    'name': 'cosine',\n",
        "    'user_based': False\n",
        "}\n",
        "algo_knn = KNNBasic(k=best_k, sim_options=sim_options, random_state=42)\n",
        "algo_knn.fit(trainset)"
      ],
      "metadata": {
        "colab": {
          "base_uri": "https://localhost:8080/"
        },
        "id": "N1PIrBtNWGOc",
        "outputId": "be6c35ac-0de0-4748-f2b7-5b69aa6d68b7"
      },
      "execution_count": 38,
      "outputs": [
        {
          "output_type": "stream",
          "name": "stderr",
          "text": [
            "/usr/local/lib/python3.10/dist-packages/ipykernel/ipkernel.py:283: DeprecationWarning: `should_run_async` will not call `transform_cell` automatically in the future. Please pass the result to `transformed_cell` argument and any exception that happen during thetransform in `preprocessing_exc_tuple` in IPython 7.17 and above.\n",
            "  and should_run_async(code)\n"
          ]
        },
        {
          "output_type": "stream",
          "name": "stdout",
          "text": [
            "Computing the cosine similarity matrix...\n",
            "Done computing similarity matrix.\n"
          ]
        },
        {
          "output_type": "execute_result",
          "data": {
            "text/plain": [
              "<surprise.prediction_algorithms.knns.KNNBasic at 0x7cf987882d70>"
            ]
          },
          "metadata": {},
          "execution_count": 38
        }
      ]
    },
    {
      "cell_type": "code",
      "source": [
        "algo_svd = SVD(random_state=42)\n",
        "\n",
        "\n",
        "best_k = grid_search_knn.best_params['rmse']['k']\n",
        "sim_options = {\n",
        "    'name': 'cosine',\n",
        "    'user_based': False\n",
        "}\n",
        "algo_knn = KNNBasic(k=best_k, sim_options=sim_options, random_state=42)\n",
        "\n",
        "\n",
        "cross_validate_svd = cross_validate(algo_svd, data, measures=['RMSE', 'MAE'], cv=5, verbose=True)\n",
        "\n",
        "cross_validate_knn = cross_validate(algo_knn, data, measures=['RMSE', 'MAE'], cv=5, verbose=True)\n",
        "\n",
        "\n",
        "print(\"Wyniki walidacji krzyżowej dla SVD:\")\n",
        "print(f\"Średnie RMSE: {cross_validate_svd['test_rmse'].mean()}\")\n",
        "print(f\"Średnie MAE: {cross_validate_svd['test_mae'].mean()}\")\n",
        "\n",
        "\n",
        "print(\"Wyniki walidacji krzyżowej dla kNN:\")\n",
        "print(f\"Średnie RMSE: {cross_validate_knn['test_rmse'].mean()}\")\n",
        "print(f\"Średnie MAE: {cross_validate_knn['test_mae'].mean()}\")"
      ],
      "metadata": {
        "colab": {
          "base_uri": "https://localhost:8080/"
        },
        "id": "6ZkKlc4oZNJw",
        "outputId": "c0dc71ff-a619-43fd-b1b6-cd25656f1ba4"
      },
      "execution_count": 39,
      "outputs": [
        {
          "output_type": "stream",
          "name": "stderr",
          "text": [
            "/usr/local/lib/python3.10/dist-packages/ipykernel/ipkernel.py:283: DeprecationWarning: `should_run_async` will not call `transform_cell` automatically in the future. Please pass the result to `transformed_cell` argument and any exception that happen during thetransform in `preprocessing_exc_tuple` in IPython 7.17 and above.\n",
            "  and should_run_async(code)\n"
          ]
        },
        {
          "output_type": "stream",
          "name": "stdout",
          "text": [
            "Evaluating RMSE, MAE of algorithm SVD on 5 split(s).\n",
            "\n",
            "                  Fold 1  Fold 2  Fold 3  Fold 4  Fold 5  Mean    Std     \n",
            "RMSE (testset)    0.8746  0.8769  0.8755  0.8730  0.8722  0.8744  0.0017  \n",
            "MAE (testset)     0.6717  0.6713  0.6738  0.6695  0.6706  0.6714  0.0014  \n",
            "Fit time          1.60    1.62    1.91    2.21    1.55    1.78    0.25    \n",
            "Test time         0.12    0.40    0.19    0.13    0.30    0.23    0.11    \n",
            "Computing the cosine similarity matrix...\n",
            "Done computing similarity matrix.\n",
            "Computing the cosine similarity matrix...\n",
            "Done computing similarity matrix.\n",
            "Computing the cosine similarity matrix...\n",
            "Done computing similarity matrix.\n",
            "Computing the cosine similarity matrix...\n",
            "Done computing similarity matrix.\n",
            "Computing the cosine similarity matrix...\n",
            "Done computing similarity matrix.\n",
            "Evaluating RMSE, MAE of algorithm KNNBasic on 5 split(s).\n",
            "\n",
            "                  Fold 1  Fold 2  Fold 3  Fold 4  Fold 5  Mean    Std     \n",
            "RMSE (testset)    0.9692  0.9758  0.9616  0.9863  0.9706  0.9727  0.0082  \n",
            "MAE (testset)     0.7546  0.7602  0.7504  0.7670  0.7577  0.7580  0.0056  \n",
            "Fit time          7.17    7.97    7.88    7.11    8.08    7.64    0.41    \n",
            "Test time         9.50    8.09    9.61    9.22    8.50    8.98    0.59    \n",
            "Wyniki walidacji krzyżowej dla SVD:\n",
            "Średnie RMSE: 0.8744242315668401\n",
            "Średnie MAE: 0.6713844697047917\n",
            "Wyniki walidacji krzyżowej dla kNN:\n",
            "Średnie RMSE: 0.9727091003100539\n",
            "Średnie MAE: 0.7579951298156882\n"
          ]
        }
      ]
    }
  ]
}