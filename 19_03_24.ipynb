{
  "nbformat": 4,
  "nbformat_minor": 0,
  "metadata": {
    "colab": {
      "provenance": [],
      "authorship_tag": "ABX9TyNegTSAqVyMxT5mIP0MfTr3",
      "include_colab_link": true
    },
    "kernelspec": {
      "name": "python3",
      "display_name": "Python 3"
    },
    "language_info": {
      "name": "python"
    }
  },
  "cells": [
    {
      "cell_type": "markdown",
      "metadata": {
        "id": "view-in-github",
        "colab_type": "text"
      },
      "source": [
        "<a href=\"https://colab.research.google.com/github/UEPP40/PUM/blob/Stanislawska/19_03_24.ipynb\" target=\"_parent\"><img src=\"https://colab.research.google.com/assets/colab-badge.svg\" alt=\"Open In Colab\"/></a>"
      ]
    },
    {
      "cell_type": "code",
      "execution_count": 27,
      "metadata": {
        "id": "_ZbxYdrOuSUM"
      },
      "outputs": [],
      "source": [
        "import pandas as pd\n",
        "import numpy as np\n",
        "from sklearn.model_selection import train_test_split\n",
        "from sklearn.linear_model import LinearRegression, HuberRegressor\n",
        "from sklearn.preprocessing import LabelEncoder\n",
        "from sklearn.metrics import mean_absolute_error, median_absolute_error, r2_score\n",
        "\n",
        "df  =  pd.read_csv(\"Salary Data (2).csv\")\n",
        "df.dropna(inplace=True)\n",
        "le = LabelEncoder()\n",
        "#df.dtypes\n",
        "columns= [\"Gender\",\"Education Level\", \"Job Title\"]\n",
        "df[columns] = df[columns].apply(LabelEncoder().fit_transform)\n",
        "train_df, test_df = train_test_split(df, test_size = 0.3, random_state=40)\n",
        "\n",
        "X_train = train_df[['Age','Gender','Education Level', 'Job Title', 'Years of Experience']]\n",
        "Y_train = train_df['Salary']\n",
        "X_test = test_df[['Age','Gender','Education Level', 'Job Title', 'Years of Experience']]\n",
        "Y_test = test_df['Salary']\n",
        "\n",
        "reg = LinearRegression().fit(X_train,Y_train)\n",
        "reg.score(X_train,Y_train)\n",
        "reg.coef_\n",
        "reg.intercept_\n",
        "y_predic = reg.predict(X_test)\n"
      ]
    },
    {
      "cell_type": "code",
      "source": [
        "huber = HuberRegressor().fit(X_train,Y_train)\n",
        "huber.score(X_train,Y_train)\n",
        "huber.coef_\n",
        "huber.intercept_\n",
        "y_predic_huber = huber.predict(X_test)"
      ],
      "metadata": {
        "id": "oWuxMckl9Ftz"
      },
      "execution_count": 35,
      "outputs": []
    },
    {
      "cell_type": "code",
      "source": [
        "y_true = Y_test\n",
        "mean_absolute_error(y_true,y_predic)\n",
        "mean_absolute_error(y_true,y_predic_huber)\n"
      ],
      "metadata": {
        "colab": {
          "base_uri": "https://localhost:8080/"
        },
        "id": "zKDPY3aR40gE",
        "outputId": "d8aee0a4-72ce-4edb-a32f-54fbbc9e12d6"
      },
      "execution_count": 34,
      "outputs": [
        {
          "output_type": "execute_result",
          "data": {
            "text/plain": [
              "11696.811241388032"
            ]
          },
          "metadata": {},
          "execution_count": 34
        }
      ]
    },
    {
      "cell_type": "code",
      "source": [
        "y_true = Y_test\n",
        "median_absolute_error(y_true,y_predic)\n",
        "median_absolute_error(y_true,y_predic_huber)"
      ],
      "metadata": {
        "colab": {
          "base_uri": "https://localhost:8080/"
        },
        "id": "mZScOYZc76DU",
        "outputId": "2ecaac31-d14c-4ff0-ce46-dc56f5e37979"
      },
      "execution_count": 33,
      "outputs": [
        {
          "output_type": "execute_result",
          "data": {
            "text/plain": [
              "9092.997949978522"
            ]
          },
          "metadata": {},
          "execution_count": 33
        }
      ]
    },
    {
      "cell_type": "code",
      "source": [
        "y_true = Y_test\n",
        "r2_score(y_true,y_predic)\n",
        "r2_score(y_true,y_predic_huber)"
      ],
      "metadata": {
        "colab": {
          "base_uri": "https://localhost:8080/"
        },
        "id": "p4SiE5NW8XpP",
        "outputId": "80fa2bb2-c93c-4f53-a766-8a7c0233dbb3"
      },
      "execution_count": 32,
      "outputs": [
        {
          "output_type": "execute_result",
          "data": {
            "text/plain": [
              "0.8944905861139743"
            ]
          },
          "metadata": {},
          "execution_count": 32
        }
      ]
    }
  ]
}