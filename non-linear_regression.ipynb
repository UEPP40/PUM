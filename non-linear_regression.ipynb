{
 "cells": [
  {
   "cell_type": "code",
   "execution_count": 70,
   "metadata": {},
   "outputs": [],
   "source": [
    "#importy bibliotek\n",
    "import pandas as pd\n",
    "import numpy as np\n",
    "import matplotlib.pyplot as plt\n",
    "\n",
    "from sklearn.datasets import fetch_california_housing\n",
    "\n",
    "from sklearn.pipeline import Pipeline\n",
    "from sklearn.model_selection import train_test_split, cross_val_score, KFold, RepeatedKFold\n",
    "from sklearn.linear_model import LinearRegression, HuberRegressor\n",
    "from sklearn.compose import TransformedTargetRegressor\n",
    "from sklearn.preprocessing import PolynomialFeatures, MinMaxScaler, LabelEncoder\n",
    "from sklearn.metrics import mean_absolute_error, median_absolute_error, mean_squared_error\n",
    "\n",
    "from sklearn.neighbors import KNeighborsRegressor\n",
    "\n",
    "from statsmodels.stats.outliers_influence import variance_inflation_factor"
   ]
  },
  {
   "cell_type": "code",
   "execution_count": 71,
   "metadata": {},
   "outputs": [
    {
     "name": "stdout",
     "output_type": "stream",
     "text": [
      "(20640, 8) (20640,)\n",
      "['MedInc', 'HouseAge', 'AveRooms', 'AveBedrms', 'Population', 'AveOccup', 'Latitude', 'Longitude']\n",
      "   MedInc  HouseAge  AveRooms  AveBedrms  Population  AveOccup  Latitude  \\\n",
      "0  8.3252      41.0  6.984127   1.023810       322.0  2.555556     37.88   \n",
      "1  8.3014      21.0  6.238137   0.971880      2401.0  2.109842     37.86   \n",
      "2  7.2574      52.0  8.288136   1.073446       496.0  2.802260     37.85   \n",
      "3  5.6431      52.0  5.817352   1.073059       558.0  2.547945     37.85   \n",
      "4  3.8462      52.0  6.281853   1.081081       565.0  2.181467     37.85   \n",
      "\n",
      "   Longitude  \n",
      "0    -122.23  \n",
      "1    -122.22  \n",
      "2    -122.24  \n",
      "3    -122.25  \n",
      "4    -122.25  \n"
     ]
    },
    {
     "ename": "TypeError",
     "evalue": "'numpy.ndarray' object is not callable",
     "output_type": "error",
     "traceback": [
      "\u001b[1;31m---------------------------------------------------------------------------\u001b[0m",
      "\u001b[1;31mTypeError\u001b[0m                                 Traceback (most recent call last)",
      "Cell \u001b[1;32mIn[71], line 9\u001b[0m\n\u001b[0;32m      6\u001b[0m X \u001b[38;5;241m=\u001b[39m pd\u001b[38;5;241m.\u001b[39mDataFrame(data \u001b[38;5;241m=\u001b[39m housing\u001b[38;5;241m.\u001b[39mdata, columns \u001b[38;5;241m=\u001b[39m housing\u001b[38;5;241m.\u001b[39mfeature_names)\n\u001b[0;32m      7\u001b[0m \u001b[38;5;28mprint\u001b[39m(X\u001b[38;5;241m.\u001b[39mhead())\n\u001b[1;32m----> 9\u001b[0m y\u001b[38;5;241m=\u001b[39m\u001b[43mhousing\u001b[49m\u001b[38;5;241;43m.\u001b[39;49m\u001b[43mtarget\u001b[49m\u001b[43m(\u001b[49m\u001b[43m)\u001b[49m\n",
      "\u001b[1;31mTypeError\u001b[0m: 'numpy.ndarray' object is not callable"
     ]
    }
   ],
   "source": [
    "#loading data\n",
    "#dane już oczyszcone, skipujemy preprocessing\n",
    "housing = fetch_california_housing()\n",
    "print(housing.data.shape, housing.target.shape)\n",
    "print(housing.feature_names)\n",
    "X = pd.DataFrame(data = housing.data, columns = housing.feature_names)\n",
    "print(X.head())\n",
    "\n",
    "y=housing.target()"
   ]
  },
  {
   "cell_type": "markdown",
   "metadata": {},
   "source": [
    "Polecenia:\n",
    "Zbuduj regresję\n",
    "1. liniowa\n",
    "2. wielomianowa stopnia 2 \n",
    "3. wielomianowa stopnia 3\n",
    "4. z wykorzystaniem k-NN\n",
    "Wykorzystaj walidacje krzyzowa RepeatedKFold\n",
    "Porównaj wyniki na wyrkesie"
   ]
  },
  {
   "cell_type": "code",
   "execution_count": 76,
   "metadata": {},
   "outputs": [
    {
     "name": "stdout",
     "output_type": "stream",
     "text": [
      "[-0.53286851 -0.52878709 -0.53770585 -0.52744413 -0.5316177  -0.51838361\n",
      " -0.54599058 -0.54441511 -0.52572175 -0.52433106 -0.53594667 -0.5264349\n",
      " -0.52975192 -0.53645394 -0.52883193 -0.52756796 -0.53376565 -0.54080917\n",
      " -0.52410467 -0.5328948  -0.53331152 -0.54714239 -0.52155503 -0.53514727\n",
      " -0.53577333]\n"
     ]
    }
   ],
   "source": [
    "#Model liniowy\n",
    "modelLiniowy = LinearRegression()\n",
    "scores_nl = cross_val_score(modelLiniowy, X, y, scoring=scoring, cv=cv)\n",
    "print(scores_nl)"
   ]
  },
  {
   "cell_type": "code",
   "execution_count": 77,
   "metadata": {},
   "outputs": [
    {
     "name": "stdout",
     "output_type": "stream",
     "text": [
      "[-0.46068688 -0.46520339 -0.48962711 -0.53463121 -0.46972893 -0.45852361\n",
      " -0.5073441  -0.55725589 -0.45461183 -0.45874716 -0.48855883 -0.46910137\n",
      " -0.46268312 -0.4657843  -0.53521965 -0.46827252 -0.65348789 -0.48126515\n",
      " -0.45291146 -0.47421852 -0.46808185 -0.73837247 -0.46453799 -0.47494396\n",
      " -0.46972059]\n"
     ]
    }
   ],
   "source": [
    "#Wielomian drugiego stopnia\n",
    "polySecondDegree = PolynomialFeatures(degree=2)\n",
    "X_poly_2nd = polySecondDegree.fit_transform(X)\n",
    "\n",
    "scores_poly_2nd = cross_val_score(modelLiniowy, X_poly_2nd, y, scoring=scoring, cv=cv)\n",
    "print(scores_poly_2nd)"
   ]
  },
  {
   "cell_type": "code",
   "execution_count": 78,
   "metadata": {},
   "outputs": [
    {
     "name": "stdout",
     "output_type": "stream",
     "text": [
      "[ -0.43968622  -0.43428826  -4.02509124  -2.62357842  -0.45131546\n",
      "  -0.47619153  -9.91576288 -11.46351919  -0.51660074  -0.42990658\n",
      "  -9.86259133  -0.54690445  -0.58489421  -0.44177124  -5.62124581\n",
      "  -0.48334991 -35.89226447  -0.49744861  -0.42542696  -1.88912328\n",
      "  -0.44278599 -77.02171695  -0.6509718   -0.48696622  -0.49227024]\n"
     ]
    }
   ],
   "source": [
    "#Wielomian trzeciego stopnia\n",
    "polyThirdDegree = PolynomialFeatures(degree=3)\n",
    "X_poly_3rd = polyThirdDegree.fit_transform(X)\n",
    "\n",
    "scores_poly_3rd = cross_val_score(modelLiniowy, X_poly_3rd, y, scoring=scoring, cv=cv)\n",
    "print(scores_poly_3rd)"
   ]
  },
  {
   "cell_type": "code",
   "execution_count": 79,
   "metadata": {},
   "outputs": [
    {
     "name": "stdout",
     "output_type": "stream",
     "text": [
      "[-0.84889867 -0.85632577 -0.8537272  -0.86152211 -0.85155007 -0.83103903\n",
      " -0.85333422 -0.86063006 -0.85547732 -0.87317075 -0.85252258 -0.83285176\n",
      " -0.84897123 -0.85087678 -0.84265897 -0.84168493 -0.8609756  -0.85977332\n",
      " -0.84119082 -0.86223421 -0.84608317 -0.84810528 -0.85852155 -0.85837224\n",
      " -0.86699582]\n"
     ]
    }
   ],
   "source": [
    "#k-NN\n",
    "neighbours = KNeighborsRegressor(n_neighbors=2)\n",
    "scores_kNN = cross_val_score(neighbours, X, y, scoring=scoring, cv=cv)\n",
    "print(scores_kNN)"
   ]
  },
  {
   "cell_type": "code",
   "execution_count": 90,
   "metadata": {},
   "outputs": [
    {
     "data": {
      "image/png": "[encoded data removed]",
      "text/plain": [
       "<Figure size 640x480 with 1 Axes>"
      ]
     },
     "metadata": {},
     "output_type": "display_data"
    }
   ],
   "source": [
    "plt.boxplot([scores_nl, scores_poly_2nd, scores_poly_3rd, scores_kNN], showmeans = True)\n",
    "plt.ylim(-1, -0.3)\n",
    "plt.show()"
   ]
  }
 ],
 "metadata": {
  "kernelspec": {
   "display_name": "Python 3",
   "language": "python",
   "name": "python3"
  },
  "language_info": {
   "codemirror_mode": {
    "name": "ipython",
    "version": 3
   },
   "file_extension": ".py",
   "mimetype": "text/x-python",
   "name": "python",
   "nbconvert_exporter": "python",
   "pygments_lexer": "ipython3",
   "version": "3.11.8"
  }
 },
 "nbformat": 4,
 "nbformat_minor": 2
}
