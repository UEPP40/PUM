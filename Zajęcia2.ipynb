{
  "nbformat": 4,
  "nbformat_minor": 0,
  "metadata": {
    "colab": {
      "provenance": [],
      "authorship_tag": "ABX9TyMSVUybqmXNE67XdIZvqXJ0",
      "include_colab_link": true
    },
    "kernelspec": {
      "name": "python3",
      "display_name": "Python 3"
    },
    "language_info": {
      "name": "python"
    }
  },
  "cells": [
    {
      "cell_type": "markdown",
      "metadata": {
        "id": "view-in-github",
        "colab_type": "text"
      },
      "source": [
        "<a href=\"https://colab.research.google.com/github/UEPP40/PUM/blob/wilmanski/Zaj%C4%99cia2.ipynb\" target=\"_parent\"><img src=\"https://colab.research.google.com/assets/colab-badge.svg\" alt=\"Open In Colab\"/></a>"
      ]
    },
    {
      "cell_type": "code",
      "execution_count": 2,
      "metadata": {
        "id": "X-InyWdag6dX"
      },
      "outputs": [],
      "source": [
        "import pandas as pd"
      ]
    },
    {
      "cell_type": "code",
      "source": [
        "df = pd.read_csv('train.csv')"
      ],
      "metadata": {
        "id": "25rIm7qTlOgb"
      },
      "execution_count": 3,
      "outputs": []
    },
    {
      "cell_type": "code",
      "source": [
        "print(df.head())"
      ],
      "metadata": {
        "colab": {
          "base_uri": "https://localhost:8080/"
        },
        "id": "MOcvjqvPlVN9",
        "outputId": "b893bef2-fb72-4b72-8ad1-ed5c061eef71"
      },
      "execution_count": 4,
      "outputs": [
        {
          "output_type": "stream",
          "name": "stdout",
          "text": [
            "       ID Customer_ID     Month           Name   Age          SSN Occupation  \\\n",
            "0  0x1602   CUS_0xd40   January  Aaron Maashoh    23  821-00-0265  Scientist   \n",
            "1  0x1603   CUS_0xd40  February  Aaron Maashoh    23  821-00-0265  Scientist   \n",
            "2  0x1604   CUS_0xd40     March  Aaron Maashoh  -500  821-00-0265  Scientist   \n",
            "3  0x1605   CUS_0xd40     April  Aaron Maashoh    23  821-00-0265  Scientist   \n",
            "4  0x1606   CUS_0xd40       May  Aaron Maashoh    23  821-00-0265  Scientist   \n",
            "\n",
            "  Annual_Income  Monthly_Inhand_Salary  Num_Bank_Accounts  ...  Credit_Mix  \\\n",
            "0      19114.12            1824.843333                  3  ...           _   \n",
            "1      19114.12                    NaN                  3  ...        Good   \n",
            "2      19114.12                    NaN                  3  ...        Good   \n",
            "3      19114.12                    NaN                  3  ...        Good   \n",
            "4      19114.12            1824.843333                  3  ...        Good   \n",
            "\n",
            "   Outstanding_Debt Credit_Utilization_Ratio     Credit_History_Age  \\\n",
            "0            809.98                26.822620  22 Years and 1 Months   \n",
            "1            809.98                31.944960                    NaN   \n",
            "2            809.98                28.609352  22 Years and 3 Months   \n",
            "3            809.98                31.377862  22 Years and 4 Months   \n",
            "4            809.98                24.797347  22 Years and 5 Months   \n",
            "\n",
            "   Payment_of_Min_Amount Total_EMI_per_month Amount_invested_monthly  \\\n",
            "0                     No           49.574949       80.41529543900253   \n",
            "1                     No           49.574949      118.28022162236736   \n",
            "2                     No           49.574949         81.699521264648   \n",
            "3                     No           49.574949       199.4580743910713   \n",
            "4                     No           49.574949      41.420153086217326   \n",
            "\n",
            "                  Payment_Behaviour     Monthly_Balance Credit_Score  \n",
            "0   High_spent_Small_value_payments  312.49408867943663         Good  \n",
            "1    Low_spent_Large_value_payments  284.62916249607184         Good  \n",
            "2   Low_spent_Medium_value_payments   331.2098628537912         Good  \n",
            "3    Low_spent_Small_value_payments  223.45130972736786         Good  \n",
            "4  High_spent_Medium_value_payments  341.48923103222177         Good  \n",
            "\n",
            "[5 rows x 28 columns]\n"
          ]
        }
      ]
    },
    {
      "cell_type": "code",
      "source": [
        "print(df.shape)"
      ],
      "metadata": {
        "colab": {
          "base_uri": "https://localhost:8080/"
        },
        "id": "WBF0Rmxolgq1",
        "outputId": "8c0cc135-f963-48d9-8596-163cf23dd6a3"
      },
      "execution_count": 8,
      "outputs": [
        {
          "output_type": "stream",
          "name": "stdout",
          "text": [
            "(53930, 28)\n"
          ]
        }
      ]
    },
    {
      "cell_type": "code",
      "source": [
        "print(df.drop_duplicates())"
      ],
      "metadata": {
        "colab": {
          "base_uri": "https://localhost:8080/"
        },
        "id": "yfxAFdP9l8ef",
        "outputId": "6e6daf5c-644a-429b-a415-1debe8e2414a"
      },
      "execution_count": 9,
      "outputs": [
        {
          "output_type": "stream",
          "name": "stdout",
          "text": [
            "            ID Customer_ID     Month           Name   Age          SSN  \\\n",
            "0       0x1602   CUS_0xd40   January  Aaron Maashoh    23  821-00-0265   \n",
            "1       0x1603   CUS_0xd40  February  Aaron Maashoh    23  821-00-0265   \n",
            "2       0x1604   CUS_0xd40     March  Aaron Maashoh  -500  821-00-0265   \n",
            "3       0x1605   CUS_0xd40     April  Aaron Maashoh    23  821-00-0265   \n",
            "4       0x1606   CUS_0xd40       May  Aaron Maashoh    23  821-00-0265   \n",
            "...        ...         ...       ...            ...   ...          ...   \n",
            "53925  0x151f7  CUS_0x4460      June         Daveyx    54  909-64-1351   \n",
            "53926  0x151f8  CUS_0x4460      July         Daveyx    54  909-64-1351   \n",
            "53927  0x151f9  CUS_0x4460    August         Daveyx    54  909-64-1351   \n",
            "53928  0x151fe  CUS_0xc0b3   January            NaN    44  973-12-0733   \n",
            "53929  0x151ff  CUS_0xc0b3  February         Grantg    44  973-12-0733   \n",
            "\n",
            "       Occupation Annual_Income  Monthly_Inhand_Salary  Num_Bank_Accounts  \\\n",
            "0       Scientist      19114.12            1824.843333                  3   \n",
            "1       Scientist      19114.12                    NaN                  3   \n",
            "2       Scientist      19114.12                    NaN                  3   \n",
            "3       Scientist      19114.12                    NaN                  3   \n",
            "4       Scientist      19114.12            1824.843333                  3   \n",
            "...           ...           ...                    ...                ...   \n",
            "53925  Accountant     14566.335            1105.861250                  4   \n",
            "53926  Accountant     14566.335            1105.861250                  4   \n",
            "53927  Accountant     14566.335            1105.861250                  4   \n",
            "53928   Scientist     15990.655            1244.554583                  7   \n",
            "53929   Scientist     15990.655            1244.554583                  7   \n",
            "\n",
            "       ...  Credit_Mix  Outstanding_Debt Credit_Utilization_Ratio  \\\n",
            "0      ...           _            809.98                26.822620   \n",
            "1      ...        Good            809.98                31.944960   \n",
            "2      ...        Good            809.98                28.609352   \n",
            "3      ...        Good            809.98                31.377862   \n",
            "4      ...        Good            809.98                24.797347   \n",
            "...    ...         ...               ...                      ...   \n",
            "53925  ...        Good            765.44                31.960446   \n",
            "53926  ...        Good            765.44                27.172551   \n",
            "53927  ...        Good            765.44                40.035934   \n",
            "53928  ...    Standard           1214.53                34.070673   \n",
            "53929  ...    Standard           1214.53                32.892446   \n",
            "\n",
            "           Credit_History_Age  Payment_of_Min_Amount Total_EMI_per_month  \\\n",
            "0       22 Years and 1 Months                     No           49.574949   \n",
            "1                         NaN                     No           49.574949   \n",
            "2       22 Years and 3 Months                     No           49.574949   \n",
            "3       22 Years and 4 Months                     No           49.574949   \n",
            "4       22 Years and 5 Months                     No           49.574949   \n",
            "...                       ...                    ...                 ...   \n",
            "53925   30 Years and 8 Months                     No           19.082335   \n",
            "53926   30 Years and 9 Months                     No           19.082335   \n",
            "53927  30 Years and 10 Months                     No           19.082335   \n",
            "53928   14 Years and 1 Months                    Yes           53.918469   \n",
            "53929   14 Years and 2 Months                    Yes           53.918469   \n",
            "\n",
            "      Amount_invested_monthly                 Payment_Behaviour  \\\n",
            "0           80.41529543900253   High_spent_Small_value_payments   \n",
            "1          118.28022162236736    Low_spent_Large_value_payments   \n",
            "2             81.699521264648   Low_spent_Medium_value_payments   \n",
            "3           199.4580743910713    Low_spent_Small_value_payments   \n",
            "4          41.420153086217326  High_spent_Medium_value_payments   \n",
            "...                       ...                               ...   \n",
            "53925       99.56582008186192    Low_spent_Small_value_payments   \n",
            "53926               __10000__  High_spent_Medium_value_payments   \n",
            "53927       59.85784043265989   High_spent_Small_value_payments   \n",
            "53928       80.85327108647152    Low_spent_Small_value_payments   \n",
            "53929      34.569232631010735   Low_spent_Medium_value_payments   \n",
            "\n",
            "          Monthly_Balance Credit_Score  \n",
            "0      312.49408867943663         Good  \n",
            "1      284.62916249607184         Good  \n",
            "2       331.2098628537912         Good  \n",
            "3      223.45130972736786         Good  \n",
            "4      341.48923103222177         Good  \n",
            "...                   ...          ...  \n",
            "53925  281.93797036208235     Standard  \n",
            "53926  299.32727448191736         Good  \n",
            "53927  291.64595001128447         Good  \n",
            "53928   279.6837183154413     Standard  \n",
            "53929  315.96775677090204           St  \n",
            "\n",
            "[53930 rows x 28 columns]\n"
          ]
        }
      ]
    },
    {
      "cell_type": "code",
      "source": [],
      "metadata": {
        "id": "0-0cICNwmZZh"
      },
      "execution_count": null,
      "outputs": []
    }
  ]
}