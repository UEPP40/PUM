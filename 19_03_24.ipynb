{
  "nbformat": 4,
  "nbformat_minor": 0,
  "metadata": {
    "colab": {
      "provenance": [],
      "authorship_tag": "ABX9TyPkZcSTGuV1/pTI1CTQotNv",
      "include_colab_link": true
    },
    "kernelspec": {
      "name": "python3",
      "display_name": "Python 3"
    },
    "language_info": {
      "name": "python"
    }
  },
  "cells": [
    {
      "cell_type": "markdown",
      "metadata": {
        "id": "view-in-github",
        "colab_type": "text"
      },
      "source": [
        "<a href=\"https://colab.research.google.com/github/UEPP40/PUM/blob/Stanislawska/19_03_24.ipynb\" target=\"_parent\"><img src=\"https://colab.research.google.com/assets/colab-badge.svg\" alt=\"Open In Colab\"/></a>"
      ]
    },
    {
      "cell_type": "code",
      "execution_count": 3,
      "metadata": {
        "id": "_ZbxYdrOuSUM"
      },
      "outputs": [],
      "source": [
        "import pandas as pd\n",
        "import numpy as np\n",
        "from sklearn.model_selection import train_test_split\n",
        "from sklearn.linear_model import LinearRegression, HuberRegressor\n",
        "from sklearn.preprocessing import LabelEncoder\n",
        "from sklearn.metrics import mean_absolute_error, median_absolute_error, r2_score\n",
        "\n",
        "df  =  pd.read_csv(\"Salary Data (2).csv\")\n",
        "df.dropna(inplace=True)\n",
        "le = LabelEncoder()\n",
        "#df.dtypes\n",
        "columns= [\"Gender\",\"Education Level\", \"Job Title\"]\n",
        "df[columns] = df[columns].apply(LabelEncoder().fit_transform)\n",
        "train_df, test_df = train_test_split(df, test_size = 0.3, random_state=40)\n",
        "\n",
        "X_train = train_df[['Age','Gender','Education Level', 'Job Title', 'Years of Experience']]\n",
        "Y_train = train_df['Salary']\n",
        "X_test = test_df[['Age','Gender','Education Level', 'Job Title', 'Years of Experience']]\n",
        "Y_test = test_df['Salary']\n",
        "\n",
        "reg = LinearRegression().fit(X_train,Y_train)\n",
        "reg.score(X_train,Y_train)\n",
        "reg.coef_\n",
        "reg.intercept_\n",
        "y_predic = reg.predict(X_test)\n"
      ]
    },
    {
      "cell_type": "code",
      "source": [
        "huber = HuberRegressor().fit(X_train,Y_train)\n",
        "huber.score(X_train,Y_train)\n",
        "huber.coef_\n",
        "huber.intercept_\n",
        "y_predic_huber = huber.predict(X_test)"
      ],
      "metadata": {
        "id": "oWuxMckl9Ftz"
      },
      "execution_count": 4,
      "outputs": []
    },
    {
      "cell_type": "code",
      "source": [
        "y_true = Y_test\n",
        "print (\"regresja liniowa:\",  mean_absolute_error(y_true,y_predic))\n",
        "print(\"regresja Hubera\",mean_absolute_error(y_true,y_predic_huber))"
      ],
      "metadata": {
        "colab": {
          "base_uri": "https://localhost:8080/"
        },
        "id": "zKDPY3aR40gE",
        "outputId": "aa461c1a-996b-461c-e72b-b661a0755de8"
      },
      "execution_count": 11,
      "outputs": [
        {
          "output_type": "stream",
          "name": "stdout",
          "text": [
            "regresja liniowa: 12351.261118548075\n",
            "regresja Hubera 11696.811241388032\n"
          ]
        }
      ]
    },
    {
      "cell_type": "code",
      "source": [
        "y_true = Y_test\n",
        "print(\"regresja liniowa\",median_absolute_error(y_true,y_predic))\n",
        "print(\"regresja Hubera\",median_absolute_error(y_true,y_predic_huber))"
      ],
      "metadata": {
        "colab": {
          "base_uri": "https://localhost:8080/"
        },
        "id": "mZScOYZc76DU",
        "outputId": "daad463b-fff7-45f5-f7f7-543556c9863f"
      },
      "execution_count": 12,
      "outputs": [
        {
          "output_type": "stream",
          "name": "stdout",
          "text": [
            "regresja liniowa 10532.659544538386\n",
            "regresja Hubera 9092.997949978522\n"
          ]
        }
      ]
    },
    {
      "cell_type": "code",
      "source": [
        "y_true = Y_test\n",
        "print(\"regresja liniowa\", r2_score(y_true,y_predic))\n",
        "print(\"regresja Hubra\",r2_score(y_true,y_predic_huber))"
      ],
      "metadata": {
        "colab": {
          "base_uri": "https://localhost:8080/"
        },
        "id": "p4SiE5NW8XpP",
        "outputId": "c10b0b80-7710-4c8d-ea96-ad01ff5b80dc"
      },
      "execution_count": 13,
      "outputs": [
        {
          "output_type": "stream",
          "name": "stdout",
          "text": [
            "regresja liniowa 0.885420522400265\n",
            "regresja Hubra 0.8944905861139743\n"
          ]
        }
      ]
    }
  ]
}