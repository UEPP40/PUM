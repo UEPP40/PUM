from sklearn.datasets import load_breast_cancer

data = load_breast_cancer()
y=data.target
x=data.data
list(data.target_names)
data.feature_names

total_cases = len(data.target)
print("Liczba wszystkich przypadków:", total_cases)

malignant_cases = sum(data.target)
print("Liczba złosliwego przypadków:", malignant_cases)

print(x[:5])
import matplotlib.pyplot as plt
import seaborn as sns

# Ustawienia stylu wykresu seaborn
sns.set(style="whitegrid")

# Histogram średniego obszaru (mean area)
plt.figure(figsize=(8, 6))
sns.histplot(x[:, 1], bins=30, kde=True, color='skyblue')
plt.title('Histogram średniego obszaru (mean area)')
plt.xlabel('Średni obszar')
plt.ylabel('Liczba przypadków')
plt.show()

# Wykres rozrzutu (scatterplot) średniego obszaru od klasyfikacji
plt.figure(figsize=(8, 6))
sns.regplot(x=x[:, 1], y=y, logistic=True, scatter_kws={'alpha':0.3}, line_kws={'color':'red'})
plt.title('Wykres rozrzutu (scatterplot) średniego obszaru od klasyfikacji')
plt.xlabel('Średni obszar')
plt.ylabel('Klasyfikacja (0 - Łagodny, 1 - Złośliwy)')
plt.show()
from sklearn.metrics import mean_absolute_error, median_absolute_error
from sklearn.model_selection import train_test_split
import pandas as pd
import numpy as np
from sklearn.preprocessing import LabelEncoder
from sklearn.linear_model import LinearRegression


import pandas as pd
from sklearn.datasets import load_breast_cancer

# Wczytaj dane
data = load_breast_cancer()

# Utwórz DataFrame
tabela = pd.DataFrame(data.data, columns=data.feature_names)

# Dodaj kolumnę z etykietami klas
tabela['target'] = data.target

# Zobacz pierwsze kilka wierszy
print(tabela.head())
from sklearn.model_selection import train_test_split
from sklearn.preprocessing import StandardScaler
from sklearn.linear_model import LogisticRegression

# Podział danych na zbiór treningowy i testowy
x_train, x_test, y_train, y_test = train_test_split(x, y, test_size=0.2, random_state=42)

# Standaryzacja danych
scaler = StandardScaler()
x_train_scaled = scaler.fit_transform(x_train)
x_test_scaled = scaler.transform(x_test)

# Budowa modelu regresji logistycznej
model = LogisticRegression()

# Trenowanie modelu na danych treningowych
model.fit(x_train_scaled, y_train)

# Ocena modelu na danych testowych
accuracy = model.score(x_test_scaled, y_test)
print("Dokładność modelu (accuracy):", accuracy)
from sklearn.model_selection import train_test_split
from sklearn.preprocessing import StandardScaler
from sklearn.linear_model import LogisticRegression
from sklearn.datasets import load_breast_cancer
from sklearn.metrics import confusion_matrix, roc_curve, roc_auc_score
from sklearn.metrics import ConfusionMatrixDisplay, RocCurveDisplay
import matplotlib.pyplot as plt

# Załaduj dane
data = load_breast_cancer()
x = data.data
y = data.target

# Standardyzacja danych
scaler = StandardScaler()
x_standardized = scaler.fit_transform(x)

# Podział danych na zestaw uczący i testowy
x_train, x_test, y_train, y_test = train_test_split(x_standardized, y, test_size=0.3, random_state=42)

# Tworzenie i trenowanie modelu regresji logistycznej
model = LogisticRegression()
model.fit(x_train, y_train)

# Predykcja na zbiorze testowym
y_pred = model.predict(x_test)

# Obliczenie macierzy pomyłek
cm = confusion_matrix(y_test, y_pred)

# Wizualizacja macierzy pomyłek
disp_cm = ConfusionMatrixDisplay(confusion_matrix=cm, display_labels=data.target_names)
disp_cm.plot()
plt.title("Macierz pomyłek")
plt.show


from sklearn.metrics import RocCurveDisplay, roc_curve

# Oblicz wynik decyzyjny dla danych testowych
y_score = model.decision_function(x_test)

# Oblicz krzywą ROC
fpr, tpr, _ = roc_curve(y_test, y_score)
roc_display = RocCurveDisplay(fpr=fpr, tpr=tpr).plot()
