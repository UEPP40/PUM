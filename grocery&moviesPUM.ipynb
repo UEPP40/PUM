{
  "nbformat": 4,
  "nbformat_minor": 0,
  "metadata": {
    "colab": {
      "provenance": [],
      "authorship_tag": "ABX9TyPlecP8pjwYCpk6rel8DMKq",
      "include_colab_link": true
    },
    "kernelspec": {
      "name": "python3",
      "display_name": "Python 3"
    },
    "language_info": {
      "name": "python"
    }
  },
  "cells": [
    {
      "cell_type": "markdown",
      "metadata": {
        "id": "view-in-github",
        "colab_type": "text"
      },
      "source": [
        "<a href=\"https://colab.research.google.com/github/UEPP40/PUM/blob/krosnicki/grocery%26moviesPUM.ipynb\" target=\"_parent\"><img src=\"https://colab.research.google.com/assets/colab-badge.svg\" alt=\"Open In Colab\"/></a>"
      ]
    },
    {
      "cell_type": "code",
      "source": [
        "import pandas as pd\n",
        "\n",
        "\n",
        "ratings = pd.read_csv('https://s3-us-west-2.amazonaws.com/recommender-tutorial/ratings.csv')\n",
        "movies = pd.read_csv('https://s3-us-west-2.amazonaws.com/recommender-tutorial/movies.csv')\n",
        "\n",
        "\n",
        "total_ratings = ratings.shape[0]\n",
        "total_movies = movies.shape[0]\n",
        "\n",
        "total_users = ratings['userId'].nunique()\n",
        "\n",
        "avg_ratings_per_user = total_ratings / total_users\n",
        "\n",
        "avg_ratings_per_movie = total_ratings / total_movies\n",
        "\n",
        "\n",
        "ratings_distribution = ratings['rating'].value_counts().sort_index()\n",
        "\n",
        "# Wyświetlenie wyników\n",
        "print(\"Liczba wszystkich ocen:\", total_ratings)\n",
        "print(\"Liczba filmów w bazie:\", total_movies)\n",
        "print(\"Liczba użytkowników:\", total_users)\n",
        "print(\"Średnia liczba ocen na użytkownika:\", avg_ratings_per_user)\n",
        "print(\"Średnia liczba ocen na film:\", avg_ratings_per_movie)\n",
        "print(\"\\nRozkład ocen:\")\n",
        "print(ratings_distribution)\n"
      ],
      "metadata": {
        "colab": {
          "base_uri": "https://localhost:8080/"
        },
        "id": "3Rfrduhc0TBJ",
        "outputId": "2230c978-e16c-4df1-dca9-ef152fdb8239"
      },
      "execution_count": 3,
      "outputs": [
        {
          "output_type": "stream",
          "name": "stdout",
          "text": [
            "Liczba wszystkich ocen: 100836\n",
            "Liczba filmów w bazie: 9742\n",
            "Liczba użytkowników: 610\n",
            "Średnia liczba ocen na użytkownika: 165.30491803278687\n",
            "Średnia liczba ocen na film: 10.350646684459043\n",
            "\n",
            "Rozkład ocen:\n",
            "rating\n",
            "0.5     1370\n",
            "1.0     2811\n",
            "1.5     1791\n",
            "2.0     7551\n",
            "2.5     5550\n",
            "3.0    20047\n",
            "3.5    13136\n",
            "4.0    26818\n",
            "4.5     8551\n",
            "5.0    13211\n",
            "Name: count, dtype: int64\n"
          ]
        }
      ]
    },
    {
      "cell_type": "code",
      "source": [
        "# Słownik\n",
        "movie_titles = dict(zip(movies['movieId'], movies['title']))\n",
        "\n",
        "\n",
        "C = ratings['rating'].mean()\n",
        "m = ratings.groupby('movieId')['rating'].agg(['count', 'mean'])\n",
        "m = m['count'].mean()\n",
        "\n",
        "#bayesian_avg\n",
        "def bayesian_avg(ratings):\n",
        "    bayesian_avg = (C * m + ratings.sum()) / (C + ratings.count())\n",
        "    return bayesian_avg\n",
        "\n",
        "#bayesian_avg_ratings\n",
        "bayesian_avg_ratings = ratings.groupby('movieId')['rating'].agg(bayesian_avg).reset_index()\n",
        "bayesian_avg_ratings.columns = ['movieId', 'bayesian_avg']\n",
        "\n",
        "movie_stats = movies.merge(bayesian_avg_ratings, on='movieId')\n",
        "\n",
        "# Wyświetlenie wyników\n",
        "print(movie_stats.head())"
      ],
      "metadata": {
        "id": "dL2QO0Nc7s4g",
        "colab": {
          "base_uri": "https://localhost:8080/"
        },
        "outputId": "64a7bc6a-3046-4214-f130-482588c2c9e7"
      },
      "execution_count": 4,
      "outputs": [
        {
          "output_type": "stream",
          "name": "stdout",
          "text": [
            "   movieId                               title  \\\n",
            "0        1                    Toy Story (1995)   \n",
            "1        2                      Jumanji (1995)   \n",
            "2        3             Grumpier Old Men (1995)   \n",
            "3        4            Waiting to Exhale (1995)   \n",
            "4        5  Father of the Bride Part II (1995)   \n",
            "\n",
            "                                        genres  bayesian_avg  \n",
            "0  Adventure|Animation|Children|Comedy|Fantasy      4.024276  \n",
            "1                   Adventure|Children|Fantasy      3.645857  \n",
            "2                               Comedy|Romance      3.708193  \n",
            "3                         Comedy|Drama|Romance      5.028823  \n",
            "4                                       Comedy      3.558189  \n"
          ]
        }
      ]
    },
    {
      "cell_type": "code",
      "source": [
        "import pandas as pd\n",
        "import numpy as np\n",
        "from scipy.sparse import csr_matrix\n",
        "\n",
        "ratings = pd.read_csv('https://s3-us-west-2.amazonaws.com/recommender-tutorial/ratings.csv')\n",
        "movies = pd.read_csv('https://s3-us-west-2.amazonaws.com/recommender-tutorial/movies.csv')\n",
        "\n",
        "total_ratings = ratings.shape[0]\n",
        "\n",
        "total_movies = movies.shape[0]\n",
        "total_users = ratings['userId'].nunique()\n",
        "\n",
        "\n",
        "avg_ratings_per_user = total_ratings / total_users\n",
        "\n",
        "avg_ratings_per_movie = total_ratings / total_movies\n",
        "\n",
        "# Rozkład ocen\n",
        "ratings_distribution = ratings['rating'].value_counts().sort_index()\n",
        "\n",
        "# Wyświetlenie wyników\n",
        "print(\"Liczba wszystkich ocen:\", total_ratings)\n",
        "print(\"Liczba filmów w bazie:\", total_movies)\n",
        "print(\"Liczba użytkowników:\", total_users)\n",
        "print(\"Średnia liczba ocen na użytkownika:\", avg_ratings_per_user)\n",
        "print(\"Średnia liczba ocen na film:\", avg_ratings_per_movie)\n",
        "print(\"\\nRozkład ocen:\")\n",
        "print(ratings_distribution)\n",
        "\n",
        "movie_titles = dict(zip(movies['movieId'], movies['title']))\n",
        "\n",
        "C = ratings['rating'].mean()\n",
        "m = ratings.groupby('movieId')['rating'].agg(['count', 'mean'])\n",
        "m = m['count'].mean()\n",
        "\n",
        "#bayesian_avg\n",
        "def bayesian_avg(ratings):\n",
        "    bayesian_avg = (C * m + ratings.sum()) / (C + ratings.count())\n",
        "    return bayesian_avg\n",
        "\n",
        "#bayesian_avg_ratings\n",
        "bayesian_avg_ratings = ratings.groupby('movieId')['rating'].agg(bayesian_avg).reset_index()\n",
        "bayesian_avg_ratings.columns = ['movieId', 'bayesian_avg']\n",
        "\n",
        "\n",
        "movie_stats = movies.merge(bayesian_avg_ratings, on='movieId')\n",
        "\n",
        "# Wyświetlenie wyników\n",
        "print(movie_stats.head())\n",
        "\n",
        "def create_sparse(df):\n",
        "    M = df['userId'].nunique()\n",
        "    N = df['movieId'].nunique()\n",
        "    user_mapper = dict(zip(np.unique(df[\"userId\"]), list(range(M))))\n",
        "    movie_mapper = dict(zip(np.unique(df[\"movieId\"]), list(range(N))))\n",
        "    user_inv_mapper = dict(zip(list(range(M)), np.unique(df[\"userId\"])))\n",
        "    movie_inv_mapper = dict(zip(list(range(N)), np.unique(df[\"movieId\"])))\n",
        "    user_index = [user_mapper[i] for i in df['userId']]\n",
        "    item_index = [movie_mapper[i] for i in df['movieId']]\n",
        "    X = csr_matrix((df[\"rating\"], (user_index, item_index)), shape=(M,N))\n",
        "    return X, user_mapper, movie_mapper, user_inv_mapper, movie_inv_mapper\n",
        "\n",
        "X, user_mapper, movie_mapper, user_inv_mapper, movie_inv_mapper = create_sparse(ratings)\n",
        "\n",
        "n_total = X.shape[0] * X.shape[1]\n",
        "n_ratings = X.nnz\n",
        "sparsity = n_ratings / n_total\n",
        "sparsity_p = round(sparsity * 100, 2)\n",
        "\n",
        "print(f\"Matrix sparsity: {sparsity_p}%\")\n"
      ],
      "metadata": {
        "colab": {
          "base_uri": "https://localhost:8080/"
        },
        "id": "TO6f6-OJ7wyd",
        "outputId": "5b293665-68cd-4ba4-f5db-1f007d80226a"
      },
      "execution_count": 5,
      "outputs": [
        {
          "output_type": "stream",
          "name": "stdout",
          "text": [
            "Liczba wszystkich ocen: 100836\n",
            "Liczba filmów w bazie: 9742\n",
            "Liczba użytkowników: 610\n",
            "Średnia liczba ocen na użytkownika: 165.30491803278687\n",
            "Średnia liczba ocen na film: 10.350646684459043\n",
            "\n",
            "Rozkład ocen:\n",
            "rating\n",
            "0.5     1370\n",
            "1.0     2811\n",
            "1.5     1791\n",
            "2.0     7551\n",
            "2.5     5550\n",
            "3.0    20047\n",
            "3.5    13136\n",
            "4.0    26818\n",
            "4.5     8551\n",
            "5.0    13211\n",
            "Name: count, dtype: int64\n",
            "   movieId                               title  \\\n",
            "0        1                    Toy Story (1995)   \n",
            "1        2                      Jumanji (1995)   \n",
            "2        3             Grumpier Old Men (1995)   \n",
            "3        4            Waiting to Exhale (1995)   \n",
            "4        5  Father of the Bride Part II (1995)   \n",
            "\n",
            "                                        genres  bayesian_avg  \n",
            "0  Adventure|Animation|Children|Comedy|Fantasy      4.024276  \n",
            "1                   Adventure|Children|Fantasy      3.645857  \n",
            "2                               Comedy|Romance      3.708193  \n",
            "3                         Comedy|Drama|Romance      5.028823  \n",
            "4                                       Comedy      3.558189  \n",
            "Matrix sparsity: 1.7%\n"
          ]
        }
      ]
    },
    {
      "cell_type": "code",
      "source": [
        "from sklearn.neighbors import NearestNeighbors\n",
        "import numpy as np\n",
        "\n",
        "def find_similar_movies(movie_id, X, movie_mapper, movie_inv_mapper, k, metric='cosine'):\n",
        "    X = X.T\n",
        "    neighbour_ids = []\n",
        "    movie_ind = movie_mapper[movie_id]\n",
        "    movie_vec = X[movie_ind]\n",
        "    if isinstance(movie_vec, (np.ndarray)):\n",
        "        movie_vec = movie_vec.reshape(1, -1)\n",
        "    kNN = NearestNeighbors(n_neighbors=k+1, algorithm=\"brute\", metric=metric)\n",
        "    kNN.fit(X)\n",
        "    neighbour = kNN.kneighbors(movie_vec, return_distance=False)\n",
        "    neighbour = neighbour[0][1:]\n",
        "    for n in neighbour:\n",
        "        neighbour_ids.append(movie_inv_mapper[n])\n",
        "    return neighbour_ids\n",
        "\n",
        "recommendations = find_similar_movies(1, X, movie_mapper, movie_inv_mapper, k=10)\n",
        "\n",
        "# Wyświetlenie rekomendacji\n",
        "for i, movie_id in enumerate(recommendations, 1):\n",
        "    print(f\"{i}. {movie_titles[movie_id]}\")\n"
      ],
      "metadata": {
        "colab": {
          "base_uri": "https://localhost:8080/"
        },
        "id": "caiJ5Zdc9KFs",
        "outputId": "d17a0bb7-c15d-42a2-a013-299d1aa8a21c"
      },
      "execution_count": 6,
      "outputs": [
        {
          "output_type": "stream",
          "name": "stdout",
          "text": [
            "1. Toy Story 2 (1999)\n",
            "2. Jurassic Park (1993)\n",
            "3. Independence Day (a.k.a. ID4) (1996)\n",
            "4. Star Wars: Episode IV - A New Hope (1977)\n",
            "5. Forrest Gump (1994)\n",
            "6. Lion King, The (1994)\n",
            "7. Star Wars: Episode VI - Return of the Jedi (1983)\n",
            "8. Mission: Impossible (1996)\n",
            "9. Groundhog Day (1993)\n",
            "10. Back to the Future (1985)\n"
          ]
        }
      ]
    },
    {
      "cell_type": "code",
      "source": [
        "\n",
        "!pip install surprise\n",
        "from surprise.model_selection import cross_validate\n",
        "from surprise import SVD\n",
        "from surprise import Dataset\n",
        "from surprise import Reader\n",
        "from surprise.model_selection import train_test_split\n",
        "from surprise import accuracy\n",
        "\n",
        "\n",
        "min_rating = ratings.rating.min()\n",
        "max_rating = ratings.rating.max()\n",
        "reader = Reader(rating_scale=(min_rating, max_rating))\n",
        "data = Dataset.load_from_df(ratings[['userId', 'movieId', 'rating']], reader)\n",
        "algo = SVD()\n",
        "\n",
        "#cross-validation\n",
        "cross_validate(algo, data, measures=['RMSE', 'MAE'], cv=5, verbose=True)\n"
      ],
      "metadata": {
        "colab": {
          "base_uri": "https://localhost:8080/"
        },
        "id": "JMDXgxKE8n_b",
        "outputId": "3a6cbe59-9a26-4aeb-af65-1cd348a2d81c"
      },
      "execution_count": 7,
      "outputs": [
        {
          "output_type": "stream",
          "name": "stdout",
          "text": [
            "Requirement already satisfied: surprise in /usr/local/lib/python3.10/dist-packages (0.1)\n",
            "Requirement already satisfied: scikit-surprise in /usr/local/lib/python3.10/dist-packages (from surprise) (1.1.4)\n",
            "Requirement already satisfied: joblib>=1.2.0 in /usr/local/lib/python3.10/dist-packages (from scikit-surprise->surprise) (1.4.2)\n",
            "Requirement already satisfied: numpy>=1.19.5 in /usr/local/lib/python3.10/dist-packages (from scikit-surprise->surprise) (1.25.2)\n",
            "Requirement already satisfied: scipy>=1.6.0 in /usr/local/lib/python3.10/dist-packages (from scikit-surprise->surprise) (1.11.4)\n",
            "Evaluating RMSE, MAE of algorithm SVD on 5 split(s).\n",
            "\n",
            "                  Fold 1  Fold 2  Fold 3  Fold 4  Fold 5  Mean    Std     \n",
            "RMSE (testset)    0.8810  0.8631  0.8701  0.8691  0.8813  0.8729  0.0071  \n",
            "MAE (testset)     0.6738  0.6672  0.6685  0.6693  0.6762  0.6710  0.0034  \n",
            "Fit time          2.25    1.61    1.84    1.58    1.56    1.76    0.26    \n",
            "Test time         0.26    0.14    0.24    0.13    0.25    0.20    0.06    \n"
          ]
        },
        {
          "output_type": "execute_result",
          "data": {
            "text/plain": [
              "{'test_rmse': array([0.88095237, 0.86308953, 0.87005302, 0.86908367, 0.88132632]),\n",
              " 'test_mae': array([0.67375794, 0.66717734, 0.66851478, 0.66929015, 0.67622163]),\n",
              " 'fit_time': (2.2495460510253906,\n",
              "  1.6065635681152344,\n",
              "  1.8352391719818115,\n",
              "  1.5752620697021484,\n",
              "  1.5573420524597168),\n",
              " 'test_time': (0.25607967376708984,\n",
              "  0.13532543182373047,\n",
              "  0.24147367477416992,\n",
              "  0.13227033615112305,\n",
              "  0.250821590423584)}"
            ]
          },
          "metadata": {},
          "execution_count": 7
        }
      ]
    },
    {
      "cell_type": "code",
      "source": [
        "\n",
        "trainset, testset = train_test_split(data, test_size=0.25)\n",
        "\n",
        "algo = SVD()\n",
        "\n",
        "algo.fit(trainset)\n",
        "predictions = algo.test(testset)\n",
        "\n",
        "accuracy.rmse(predictions)"
      ],
      "metadata": {
        "colab": {
          "base_uri": "https://localhost:8080/"
        },
        "id": "BlWo-5vR9qes",
        "outputId": "8af9c850-32b8-4d4a-e971-7ae6846452ef"
      },
      "execution_count": 8,
      "outputs": [
        {
          "output_type": "stream",
          "name": "stdout",
          "text": [
            "RMSE: 0.8800\n"
          ]
        },
        {
          "output_type": "execute_result",
          "data": {
            "text/plain": [
              "0.8799578908510743"
            ]
          },
          "metadata": {},
          "execution_count": 8
        }
      ]
    },
    {
      "cell_type": "markdown",
      "source": [
        "KNN"
      ],
      "metadata": {
        "id": "ww49970xcHFQ"
      }
    },
    {
      "cell_type": "code",
      "source": [
        "from surprise.prediction_algorithms import SVD, KNNBasic, KNNBaseline\n",
        "from surprise import Dataset\n",
        "from surprise.model_selection import cross_validate, GridSearchCV\n",
        "from surprise import Reader\n",
        "from surprise import accuracy, Dataset, SVD\n",
        "from surprise.model_selection import train_test_split\n",
        "lgo = KNNBasic()\n",
        "algo.fit(trainset)\n",
        "predict = algo.test(testset)\n",
        "accuracy.rmse(predict)\n"
      ],
      "metadata": {
        "id": "uuiw7wtQ5jE_",
        "colab": {
          "base_uri": "https://localhost:8080/"
        },
        "outputId": "bf8810ce-b5f7-4217-da13-e275ab0168aa"
      },
      "execution_count": 13,
      "outputs": [
        {
          "output_type": "stream",
          "name": "stdout",
          "text": [
            "RMSE: 0.8792\n"
          ]
        },
        {
          "output_type": "execute_result",
          "data": {
            "text/plain": [
              "0.8792029214760289"
            ]
          },
          "metadata": {},
          "execution_count": 13
        }
      ]
    },
    {
      "cell_type": "code",
      "source": [
        "param_grid = {\n",
        "    'k': [1, 2, 5, 10, 20, 30, 40, 50]\n",
        "}\n",
        "\n",
        "gs_knn = GridSearchCV(KNNBasic, param_grid, measures=['rmse'], cv=5, n_jobs=-1)\n",
        "gs_knn.fit(data)"
      ],
      "metadata": {
        "id": "JOFGOlggZ-A4"
      },
      "execution_count": 15,
      "outputs": []
    },
    {
      "cell_type": "code",
      "source": [
        "gs_knn.best_params\n",
        "\n",
        "cross_validate(KNNBasic(), data, measures=['RMSE', 'MAE'], cv=5, verbose=True)\n",
        ""
      ],
      "metadata": {
        "colab": {
          "base_uri": "https://localhost:8080/"
        },
        "id": "eHiudd1Lcvdw",
        "outputId": "11cc41fb-2630-4386-ced3-02b1f13840f1"
      },
      "execution_count": 16,
      "outputs": [
        {
          "output_type": "stream",
          "name": "stdout",
          "text": [
            "Computing the msd similarity matrix...\n",
            "Done computing similarity matrix.\n",
            "Computing the msd similarity matrix...\n",
            "Done computing similarity matrix.\n",
            "Computing the msd similarity matrix...\n",
            "Done computing similarity matrix.\n",
            "Computing the msd similarity matrix...\n",
            "Done computing similarity matrix.\n",
            "Computing the msd similarity matrix...\n",
            "Done computing similarity matrix.\n",
            "Evaluating RMSE, MAE of algorithm KNNBasic on 5 split(s).\n",
            "\n",
            "                  Fold 1  Fold 2  Fold 3  Fold 4  Fold 5  Mean    Std     \n",
            "RMSE (testset)    0.9451  0.9461  0.9411  0.9550  0.9472  0.9469  0.0045  \n",
            "MAE (testset)     0.7256  0.7256  0.7231  0.7299  0.7258  0.7260  0.0022  \n",
            "Fit time          0.11    0.14    0.14    0.15    0.17    0.14    0.02    \n",
            "Test time         1.39    1.36    1.53    1.53    2.31    1.62    0.35    \n"
          ]
        },
        {
          "output_type": "execute_result",
          "data": {
            "text/plain": [
              "{'test_rmse': array([0.94513791, 0.94607912, 0.94111887, 0.95501451, 0.94715329]),\n",
              " 'test_mae': array([0.72562038, 0.72557226, 0.72313436, 0.72994282, 0.72578605]),\n",
              " 'fit_time': (0.10595035552978516,\n",
              "  0.13922476768493652,\n",
              "  0.1414659023284912,\n",
              "  0.14609527587890625,\n",
              "  0.17458367347717285),\n",
              " 'test_time': (1.3925535678863525,\n",
              "  1.3624820709228516,\n",
              "  1.5277931690216064,\n",
              "  1.5336651802062988,\n",
              "  2.306063652038574)}"
            ]
          },
          "metadata": {},
          "execution_count": 16
        }
      ]
    },
    {
      "cell_type": "code",
      "source": [
        "gs_knn.best_params"
      ],
      "metadata": {
        "colab": {
          "base_uri": "https://localhost:8080/"
        },
        "id": "BJKqMuVudDKn",
        "outputId": "418527f8-c957-45eb-e4d9-3009dc6f2bb4"
      },
      "execution_count": 17,
      "outputs": [
        {
          "output_type": "execute_result",
          "data": {
            "text/plain": [
              "{'rmse': {'k': 20}}"
            ]
          },
          "metadata": {},
          "execution_count": 17
        }
      ]
    },
    {
      "cell_type": "code",
      "source": [
        "algo = KNNBaseline()\n",
        "algo.fit(trainset)\n",
        "predictions = algo.test(testset)\n",
        "accuracy.rmse(predict)"
      ],
      "metadata": {
        "colab": {
          "base_uri": "https://localhost:8080/"
        },
        "id": "Hma_rAxGdDj4",
        "outputId": "5a000605-5bf5-4086-a729-0546e9417d24"
      },
      "execution_count": 18,
      "outputs": [
        {
          "output_type": "stream",
          "name": "stdout",
          "text": [
            "Estimating biases using als...\n",
            "Computing the msd similarity matrix...\n",
            "Done computing similarity matrix.\n",
            "RMSE: 0.8792\n"
          ]
        },
        {
          "output_type": "execute_result",
          "data": {
            "text/plain": [
              "0.8792029214760289"
            ]
          },
          "metadata": {},
          "execution_count": 18
        }
      ]
    }
  ]
}