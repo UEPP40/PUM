{
 "cells": [
  {
   "cell_type": "code",
   "execution_count": 157,
   "id": "initial_id",
   "metadata": {
    "collapsed": true,
    "ExecuteTime": {
     "end_time": "2024-03-19T13:25:34.043778Z",
     "start_time": "2024-03-19T13:25:33.993796Z"
    }
   },
   "outputs": [
    {
     "name": "stdout",
     "output_type": "stream",
     "text": [
      "<class 'pandas.core.frame.DataFrame'>\n",
      "RangeIndex: 375 entries, 0 to 374\n",
      "Data columns (total 6 columns):\n",
      " #   Column               Non-Null Count  Dtype  \n",
      "---  ------               --------------  -----  \n",
      " 0   Age                  373 non-null    float64\n",
      " 1   Gender               373 non-null    object \n",
      " 2   Education Level      373 non-null    object \n",
      " 3   Job Title            373 non-null    object \n",
      " 4   Years of Experience  373 non-null    float64\n",
      " 5   Salary               373 non-null    float64\n",
      "dtypes: float64(3), object(3)\n",
      "memory usage: 17.7+ KB\n",
      "Age :  2\n",
      "Gender :  2\n",
      "Education Level :  2\n",
      "Job Title :  2\n",
      "Years of Experience :  2\n",
      "Salary :  2\n"
     ]
    }
   ],
   "source": [
    "import pandas as pd\n",
    "data = pd.read_csv('Salary Data (2).csv')\n",
    "data.info()\n",
    "for col in data.columns:\n",
    "    print(col,': ',sum(data[col].isna()))\n",
    "data.dropna(inplace=True)"
   ]
  },
  {
   "cell_type": "code",
   "execution_count": 158,
   "outputs": [],
   "source": [
    "numeric_columns = ['Age', 'Salary', 'Years of Experience']\n",
    "category_columns = ['Gender', 'Education Level', 'Job Title']"
   ],
   "metadata": {
    "collapsed": false,
    "ExecuteTime": {
     "end_time": "2024-03-19T13:25:34.079586Z",
     "start_time": "2024-03-19T13:25:34.007591Z"
    }
   },
   "id": "d7fc3ae8ad80b55d"
  },
  {
   "cell_type": "code",
   "execution_count": 159,
   "outputs": [
    {
     "name": "stdout",
     "output_type": "stream",
     "text": [
      "\n",
      " Gender\n",
      "Unique Values:  2\n",
      "Empty: 0\n",
      "Gender\n",
      "Male      194\n",
      "Female    179\n",
      "Name: count, dtype: int64\n",
      "\n",
      " Education Level\n",
      "Unique Values:  3\n",
      "Empty: 0\n",
      "Education Level\n",
      "Bachelor's    224\n",
      "Master's       98\n",
      "PhD            51\n",
      "Name: count, dtype: int64\n",
      "\n",
      " Job Title\n",
      "Unique Values:  174\n",
      "Empty: 0\n",
      "Job Title\n",
      "Director of Marketing              12\n",
      "Director of Operations             11\n",
      "Senior Business Analyst            10\n",
      "Senior Marketing Analyst            9\n",
      "Senior Marketing Manager            9\n",
      "                                   ..\n",
      "Business Development Manager        1\n",
      "Customer Service Representative     1\n",
      "IT Manager                          1\n",
      "Digital Marketing Manager           1\n",
      "Junior Web Developer                1\n",
      "Name: count, Length: 174, dtype: int64\n"
     ]
    }
   ],
   "source": [
    "for col in category_columns:\n",
    "    print('\\n', col)\n",
    "    print('Unique Values: ', len(set(data[col])))\n",
    "    print('Empty:' , sum(data[col].isna()))\n",
    "    print(data[col].value_counts())"
   ],
   "metadata": {
    "collapsed": false,
    "ExecuteTime": {
     "end_time": "2024-03-19T13:25:34.079962Z",
     "start_time": "2024-03-19T13:25:34.014594Z"
    }
   },
   "id": "6295fd38e62bc2af"
  },
  {
   "cell_type": "code",
   "execution_count": 160,
   "outputs": [
    {
     "name": "stdout",
     "output_type": "stream",
     "text": [
      "\n",
      "\n",
      "Gender\n",
      "Female: 0\n",
      "Male: 1\n",
      "\n",
      "\n",
      "Education Level\n",
      "Bachelor's: 0\n",
      "Master's: 1\n",
      "PhD: 2\n",
      "\n",
      "\n",
      "Job Title\n",
      "Account Manager: 0\n",
      "Accountant: 1\n",
      "Administrative Assistant: 2\n",
      "Business Analyst: 3\n",
      "Business Development Manager: 4\n",
      "Business Intelligence Analyst: 5\n",
      "CEO: 6\n",
      "Chief Data Officer: 7\n",
      "Chief Technology Officer: 8\n",
      "Content Marketing Manager: 9\n",
      "Copywriter: 10\n",
      "Creative Director: 11\n",
      "Customer Service Manager: 12\n",
      "Customer Service Rep: 13\n",
      "Customer Service Representative: 14\n",
      "Customer Success Manager: 15\n",
      "Customer Success Rep: 16\n",
      "Data Analyst: 17\n",
      "Data Entry Clerk: 18\n",
      "Data Scientist: 19\n",
      "Digital Content Producer: 20\n",
      "Digital Marketing Manager: 21\n",
      "Director: 22\n",
      "Director of Business Development: 23\n",
      "Director of Engineering: 24\n",
      "Director of Finance: 25\n",
      "Director of HR: 26\n",
      "Director of Human Capital: 27\n",
      "Director of Human Resources: 28\n",
      "Director of Marketing: 29\n",
      "Director of Operations: 30\n",
      "Director of Product Management: 31\n",
      "Director of Sales: 32\n",
      "Director of Sales and Marketing: 33\n",
      "Event Coordinator: 34\n",
      "Financial Advisor: 35\n",
      "Financial Analyst: 36\n",
      "Financial Manager: 37\n",
      "Graphic Designer: 38\n",
      "HR Generalist: 39\n",
      "HR Manager: 40\n",
      "Help Desk Analyst: 41\n",
      "Human Resources Director: 42\n",
      "IT Manager: 43\n",
      "IT Support: 44\n",
      "IT Support Specialist: 45\n",
      "Junior Account Manager: 46\n",
      "Junior Accountant: 47\n",
      "Junior Advertising Coordinator: 48\n",
      "Junior Business Analyst: 49\n",
      "Junior Business Development Associate: 50\n",
      "Junior Business Operations Analyst: 51\n",
      "Junior Copywriter: 52\n",
      "Junior Customer Support Specialist: 53\n",
      "Junior Data Analyst: 54\n",
      "Junior Data Scientist: 55\n",
      "Junior Designer: 56\n",
      "Junior Developer: 57\n",
      "Junior Financial Advisor: 58\n",
      "Junior Financial Analyst: 59\n",
      "Junior HR Coordinator: 60\n",
      "Junior HR Generalist: 61\n",
      "Junior Marketing Analyst: 62\n",
      "Junior Marketing Coordinator: 63\n",
      "Junior Marketing Manager: 64\n",
      "Junior Marketing Specialist: 65\n",
      "Junior Operations Analyst: 66\n",
      "Junior Operations Coordinator: 67\n",
      "Junior Operations Manager: 68\n",
      "Junior Product Manager: 69\n",
      "Junior Project Manager: 70\n",
      "Junior Recruiter: 71\n",
      "Junior Research Scientist: 72\n",
      "Junior Sales Representative: 73\n",
      "Junior Social Media Manager: 74\n",
      "Junior Social Media Specialist: 75\n",
      "Junior Software Developer: 76\n",
      "Junior Software Engineer: 77\n",
      "Junior UX Designer: 78\n",
      "Junior Web Designer: 79\n",
      "Junior Web Developer: 80\n",
      "Marketing Analyst: 81\n",
      "Marketing Coordinator: 82\n",
      "Marketing Manager: 83\n",
      "Marketing Specialist: 84\n",
      "Network Engineer: 85\n",
      "Office Manager: 86\n",
      "Operations Analyst: 87\n",
      "Operations Director: 88\n",
      "Operations Manager: 89\n",
      "Principal Engineer: 90\n",
      "Principal Scientist: 91\n",
      "Product Designer: 92\n",
      "Product Manager: 93\n",
      "Product Marketing Manager: 94\n",
      "Project Engineer: 95\n",
      "Project Manager: 96\n",
      "Public Relations Manager: 97\n",
      "Recruiter: 98\n",
      "Research Director: 99\n",
      "Research Scientist: 100\n",
      "Sales Associate: 101\n",
      "Sales Director: 102\n",
      "Sales Executive: 103\n",
      "Sales Manager: 104\n",
      "Sales Operations Manager: 105\n",
      "Sales Representative: 106\n",
      "Senior Account Executive: 107\n",
      "Senior Account Manager: 108\n",
      "Senior Accountant: 109\n",
      "Senior Business Analyst: 110\n",
      "Senior Business Development Manager: 111\n",
      "Senior Consultant: 112\n",
      "Senior Data Analyst: 113\n",
      "Senior Data Engineer: 114\n",
      "Senior Data Scientist: 115\n",
      "Senior Engineer: 116\n",
      "Senior Financial Advisor: 117\n",
      "Senior Financial Analyst: 118\n",
      "Senior Financial Manager: 119\n",
      "Senior Graphic Designer: 120\n",
      "Senior HR Generalist: 121\n",
      "Senior HR Manager: 122\n",
      "Senior HR Specialist: 123\n",
      "Senior Human Resources Coordinator: 124\n",
      "Senior Human Resources Manager: 125\n",
      "Senior Human Resources Specialist: 126\n",
      "Senior IT Consultant: 127\n",
      "Senior IT Project Manager: 128\n",
      "Senior IT Support Specialist: 129\n",
      "Senior Manager: 130\n",
      "Senior Marketing Analyst: 131\n",
      "Senior Marketing Coordinator: 132\n",
      "Senior Marketing Director: 133\n",
      "Senior Marketing Manager: 134\n",
      "Senior Marketing Specialist: 135\n",
      "Senior Operations Analyst: 136\n",
      "Senior Operations Coordinator: 137\n",
      "Senior Operations Manager: 138\n",
      "Senior Product Designer: 139\n",
      "Senior Product Development Manager: 140\n",
      "Senior Product Manager: 141\n",
      "Senior Product Marketing Manager: 142\n",
      "Senior Project Coordinator: 143\n",
      "Senior Project Manager: 144\n",
      "Senior Quality Assurance Analyst: 145\n",
      "Senior Research Scientist: 146\n",
      "Senior Researcher: 147\n",
      "Senior Sales Manager: 148\n",
      "Senior Sales Representative: 149\n",
      "Senior Scientist: 150\n",
      "Senior Software Architect: 151\n",
      "Senior Software Developer: 152\n",
      "Senior Software Engineer: 153\n",
      "Senior Training Specialist: 154\n",
      "Senior UX Designer: 155\n",
      "Social Media Manager: 156\n",
      "Social Media Specialist: 157\n",
      "Software Developer: 158\n",
      "Software Engineer: 159\n",
      "Software Manager: 160\n",
      "Software Project Manager: 161\n",
      "Strategy Consultant: 162\n",
      "Supply Chain Analyst: 163\n",
      "Supply Chain Manager: 164\n",
      "Technical Recruiter: 165\n",
      "Technical Support Specialist: 166\n",
      "Technical Writer: 167\n",
      "Training Specialist: 168\n",
      "UX Designer: 169\n",
      "UX Researcher: 170\n",
      "VP of Finance: 171\n",
      "VP of Operations: 172\n",
      "Web Developer: 173\n"
     ]
    }
   ],
   "source": [
    "from sklearn.preprocessing import LabelEncoder\n",
    "\n",
    "label_encoders = {}\n",
    "for column in category_columns:\n",
    "    print('\\n')\n",
    "    print(column)\n",
    "    label_encoders[column] = LabelEncoder()\n",
    "    data[column] = label_encoders[column].fit_transform(data[column])\n",
    "    for class_index, class_name in enumerate(label_encoders[column].classes_):\n",
    "        print(f\"{class_name}: {class_index}\")\n",
    "    \n"
   ],
   "metadata": {
    "collapsed": false,
    "ExecuteTime": {
     "end_time": "2024-03-19T13:25:34.080266Z",
     "start_time": "2024-03-19T13:25:34.024288Z"
    }
   },
   "id": "2ad30195dab711af"
  },
  {
   "cell_type": "code",
   "execution_count": 161,
   "outputs": [
    {
     "data": {
      "text/plain": "Salary\n40000.0     31\n50000.0     22\n95000.0     22\n180000.0    20\n120000.0    20\n90000.0     18\n150000.0    18\n45000.0     18\n160000.0    17\n60000.0     17\n110000.0    17\n170000.0    16\n130000.0    14\n100000.0    14\n140000.0    14\n35000.0     13\n80000.0     12\n55000.0     10\n85000.0     10\n70000.0      9\n65000.0      9\n105000.0     6\n190000.0     4\n75000.0      4\n115000.0     3\n250000.0     2\n200000.0     2\n135000.0     2\n175000.0     2\n125000.0     1\n30000.0      1\n220000.0     1\n185000.0     1\n145000.0     1\n155000.0     1\n350.0        1\nName: count, dtype: int64"
     },
     "execution_count": 161,
     "metadata": {},
     "output_type": "execute_result"
    }
   ],
   "source": [
    "data['Salary'].value_counts(ascending=False)"
   ],
   "metadata": {
    "collapsed": false,
    "ExecuteTime": {
     "end_time": "2024-03-19T13:25:34.081014Z",
     "start_time": "2024-03-19T13:25:34.034148Z"
    }
   },
   "id": "2dd0a6295e072713"
  },
  {
   "cell_type": "code",
   "execution_count": 162,
   "outputs": [
    {
     "name": "stdout",
     "output_type": "stream",
     "text": [
      "Age Empty: 0\n",
      "Salary Empty: 0\n",
      "Years of Experience Empty: 0\n",
      "              Age         Salary  Years of Experience\n",
      "count  373.000000     373.000000           373.000000\n",
      "mean    37.431635  100577.345845            10.030831\n",
      "std      7.069073   48240.013482             6.557007\n",
      "min     23.000000     350.000000             0.000000\n",
      "25%     31.000000   55000.000000             4.000000\n",
      "50%     36.000000   95000.000000             9.000000\n",
      "75%     44.000000  140000.000000            15.000000\n",
      "max     53.000000  250000.000000            25.000000\n"
     ]
    }
   ],
   "source": [
    "for col in numeric_columns:\n",
    "    print( col, 'Empty:' , sum(data[col].isna()))\n",
    "print(data[numeric_columns].describe())"
   ],
   "metadata": {
    "collapsed": false,
    "ExecuteTime": {
     "end_time": "2024-03-19T13:25:34.083918Z",
     "start_time": "2024-03-19T13:25:34.042398Z"
    }
   },
   "id": "79150c7091b0a23e"
  },
  {
   "cell_type": "code",
   "execution_count": 163,
   "outputs": [
    {
     "name": "stdout",
     "output_type": "stream",
     "text": [
      "5\n"
     ]
    }
   ],
   "source": [
    "from sklearn.preprocessing import MinMaxScaler\n",
    "scaler = MinMaxScaler()\n",
    "columns = data.select_dtypes(include=['float', 'int64']).columns.tolist()\n",
    "columns.remove('Salary')\n",
    "print(len(columns))\n",
    "\n",
    "mm_scalers = {}\n",
    "for column in columns:\n",
    "    mm_scalers[column] = MinMaxScaler()\n",
    "    data[column] = mm_scalers[column].fit_transform(data[column].values.reshape(-1, 1))"
   ],
   "metadata": {
    "collapsed": false,
    "ExecuteTime": {
     "end_time": "2024-03-19T13:25:34.084436Z",
     "start_time": "2024-03-19T13:25:34.056722Z"
    }
   },
   "id": "f44ae0782eb672f3"
  },
  {
   "cell_type": "code",
   "execution_count": 164,
   "outputs": [],
   "source": [
    "from sklearn.model_selection import train_test_split\n",
    "\n",
    "X = data.drop(columns='Salary')\n",
    "y = data['Salary']\n"
   ],
   "metadata": {
    "collapsed": false,
    "ExecuteTime": {
     "end_time": "2024-03-19T13:25:34.084647Z",
     "start_time": "2024-03-19T13:25:34.065204Z"
    }
   },
   "id": "481a0c6581e0fec9"
  },
  {
   "cell_type": "code",
   "execution_count": 165,
   "outputs": [],
   "source": [
    "X_train, X_test, y_train, y_test = train_test_split(X, y, test_size=0.3, random_state=42)"
   ],
   "metadata": {
    "collapsed": false,
    "ExecuteTime": {
     "end_time": "2024-03-19T13:25:34.112389Z",
     "start_time": "2024-03-19T13:25:34.070108Z"
    }
   },
   "id": "93686b1148b6584c"
  },
  {
   "cell_type": "code",
   "execution_count": 166,
   "outputs": [
    {
     "name": "stdout",
     "output_type": "stream",
     "text": [
      "Coef:  [102019.6875001    7384.17507075  30579.50611229   6627.36734243\n",
      "  53878.11629044]\n",
      "intercept_ 14243.009870414055\n"
     ]
    }
   ],
   "source": [
    "from sklearn.linear_model import LinearRegression, HuberRegressor\n",
    "\n",
    "reg = LinearRegression().fit(X_train, y_train)\n",
    "\n",
    "print('Coef: ',reg.coef_)\n",
    "print('intercept_', reg.intercept_)"
   ],
   "metadata": {
    "collapsed": false,
    "ExecuteTime": {
     "end_time": "2024-03-19T13:25:34.113041Z",
     "start_time": "2024-03-19T13:25:34.092398Z"
    }
   },
   "id": "3835e886ab28ffe4"
  },
  {
   "cell_type": "code",
   "execution_count": 167,
   "outputs": [],
   "source": [
    "y_pred = reg.predict(X_test)"
   ],
   "metadata": {
    "collapsed": false,
    "ExecuteTime": {
     "end_time": "2024-03-19T13:25:34.169787Z",
     "start_time": "2024-03-19T13:25:34.099660Z"
    }
   },
   "id": "14de6146c249534b"
  },
  {
   "cell_type": "code",
   "execution_count": 168,
   "outputs": [
    {
     "name": "stdout",
     "output_type": "stream",
     "text": [
      "R-squared: 0.888212607358783\n",
      "Mean Absolute Error: 11377.183126703096\n",
      "Median Absolute Error: 8320.821301534204\n",
      "Mean Squared Error: 252493731.91717702\n",
      "Root Mean Squared Error: 15890.051350363126\n"
     ]
    }
   ],
   "source": [
    "from sklearn.metrics import r2_score, mean_absolute_error, mean_squared_error, median_absolute_error\n",
    "import numpy as np\n",
    "\n",
    "print(\"R-squared:\", r2_score(y_test, y_pred))\n",
    "#R-squared value of 0.886 indicates that approximately 88.6% of the variance in the target variable can be explained by the features used in the model.\n",
    "print(\"Mean Absolute Error:\", mean_absolute_error(y_test, y_pred))\n",
    "print(\"Median Absolute Error:\", median_absolute_error(y_test, y_pred))\n",
    "print(\"Mean Squared Error:\", mean_squared_error(y_test, y_pred))\n",
    "print(\"Root Mean Squared Error:\", np.sqrt(mean_squared_error(y_test, y_pred)))\n",
    "#RMSE of approximately 16049.02 means that, on average, the model's predictions are off by around $16049.02."
   ],
   "metadata": {
    "collapsed": false,
    "ExecuteTime": {
     "end_time": "2024-03-19T13:25:34.186006Z",
     "start_time": "2024-03-19T13:25:34.105482Z"
    }
   },
   "id": "970258ebee70221c"
  },
  {
   "cell_type": "code",
   "execution_count": 169,
   "outputs": [
    {
     "data": {
      "text/plain": "          Age  Gender  Education Level  Job Title  Years of Experience  \\\n0    0.300000     1.0              0.0   0.919075                 0.20   \n1    0.166667     0.0              0.5   0.098266                 0.12   \n2    0.733333     1.0              1.0   0.751445                 0.60   \n3    0.433333     0.0              0.0   0.583815                 0.28   \n4    0.966667     1.0              0.5   0.127168                 0.80   \n..        ...     ...              ...        ...                  ...   \n370  0.400000     0.0              0.0   0.757225                 0.32   \n371  0.666667     1.0              0.5   0.173410                 0.76   \n372  0.200000     0.0              0.0   0.404624                 0.08   \n373  0.366667     1.0              0.0   0.791908                 0.28   \n374  0.700000     0.0              1.0   0.635838                 0.60   \n\n       Salary  \n0     90000.0  \n1     65000.0  \n2    150000.0  \n3     60000.0  \n4    200000.0  \n..        ...  \n370   85000.0  \n371  170000.0  \n372   40000.0  \n373   90000.0  \n374  150000.0  \n\n[373 rows x 6 columns]",
      "text/html": "<div>\n<style scoped>\n    .dataframe tbody tr th:only-of-type {\n        vertical-align: middle;\n    }\n\n    .dataframe tbody tr th {\n        vertical-align: top;\n    }\n\n    .dataframe thead th {\n        text-align: right;\n    }\n</style>\n<table border=\"1\" class=\"dataframe\">\n  <thead>\n    <tr style=\"text-align: right;\">\n      <th></th>\n      <th>Age</th>\n      <th>Gender</th>\n      <th>Education Level</th>\n      <th>Job Title</th>\n      <th>Years of Experience</th>\n      <th>Salary</th>\n    </tr>\n  </thead>\n  <tbody>\n    <tr>\n      <th>0</th>\n      <td>0.300000</td>\n      <td>1.0</td>\n      <td>0.0</td>\n      <td>0.919075</td>\n      <td>0.20</td>\n      <td>90000.0</td>\n    </tr>\n    <tr>\n      <th>1</th>\n      <td>0.166667</td>\n      <td>0.0</td>\n      <td>0.5</td>\n      <td>0.098266</td>\n      <td>0.12</td>\n      <td>65000.0</td>\n    </tr>\n    <tr>\n      <th>2</th>\n      <td>0.733333</td>\n      <td>1.0</td>\n      <td>1.0</td>\n      <td>0.751445</td>\n      <td>0.60</td>\n      <td>150000.0</td>\n    </tr>\n    <tr>\n      <th>3</th>\n      <td>0.433333</td>\n      <td>0.0</td>\n      <td>0.0</td>\n      <td>0.583815</td>\n      <td>0.28</td>\n      <td>60000.0</td>\n    </tr>\n    <tr>\n      <th>4</th>\n      <td>0.966667</td>\n      <td>1.0</td>\n      <td>0.5</td>\n      <td>0.127168</td>\n      <td>0.80</td>\n      <td>200000.0</td>\n    </tr>\n    <tr>\n      <th>...</th>\n      <td>...</td>\n      <td>...</td>\n      <td>...</td>\n      <td>...</td>\n      <td>...</td>\n      <td>...</td>\n    </tr>\n    <tr>\n      <th>370</th>\n      <td>0.400000</td>\n      <td>0.0</td>\n      <td>0.0</td>\n      <td>0.757225</td>\n      <td>0.32</td>\n      <td>85000.0</td>\n    </tr>\n    <tr>\n      <th>371</th>\n      <td>0.666667</td>\n      <td>1.0</td>\n      <td>0.5</td>\n      <td>0.173410</td>\n      <td>0.76</td>\n      <td>170000.0</td>\n    </tr>\n    <tr>\n      <th>372</th>\n      <td>0.200000</td>\n      <td>0.0</td>\n      <td>0.0</td>\n      <td>0.404624</td>\n      <td>0.08</td>\n      <td>40000.0</td>\n    </tr>\n    <tr>\n      <th>373</th>\n      <td>0.366667</td>\n      <td>1.0</td>\n      <td>0.0</td>\n      <td>0.791908</td>\n      <td>0.28</td>\n      <td>90000.0</td>\n    </tr>\n    <tr>\n      <th>374</th>\n      <td>0.700000</td>\n      <td>0.0</td>\n      <td>1.0</td>\n      <td>0.635838</td>\n      <td>0.60</td>\n      <td>150000.0</td>\n    </tr>\n  </tbody>\n</table>\n<p>373 rows × 6 columns</p>\n</div>"
     },
     "execution_count": 169,
     "metadata": {},
     "output_type": "execute_result"
    }
   ],
   "source": [
    "data"
   ],
   "metadata": {
    "collapsed": false,
    "ExecuteTime": {
     "end_time": "2024-03-19T13:25:34.188060Z",
     "start_time": "2024-03-19T13:25:34.115776Z"
    }
   },
   "id": "8ab513624116c180"
  },
  {
   "cell_type": "code",
   "execution_count": 170,
   "outputs": [
    {
     "data": {
      "text/plain": "<Figure size 1000x600 with 1 Axes>",
      "image/png": "[encoded data removed]"
     },
     "metadata": {},
     "output_type": "display_data"
    }
   ],
   "source": [
    "import matplotlib.pyplot as plt\n",
    "\n",
    "# Plotting the actual vs predicted values\n",
    "plt.figure(figsize=(10, 6))\n",
    "plt.scatter(y_test, y_pred, color='blue', label='Actual vs Predicted')\n",
    "plt.plot([y_test.min(), y_test.max()], [y_test.min(), y_test.max()], '--', color='red', label='Ideal Line')\n",
    "plt.title('Actual vs Predicted')\n",
    "plt.xlabel('Actual')\n",
    "plt.ylabel('Predicted')\n",
    "plt.legend()\n",
    "plt.show()"
   ],
   "metadata": {
    "collapsed": false,
    "ExecuteTime": {
     "end_time": "2024-03-19T13:25:34.487897Z",
     "start_time": "2024-03-19T13:25:34.149002Z"
    }
   },
   "id": "5a2774bfaf70adf7"
  },
  {
   "cell_type": "code",
   "execution_count": 171,
   "outputs": [],
   "source": [
    "huber = HuberRegressor().fit(X_train, y_train)\n"
   ],
   "metadata": {
    "collapsed": false,
    "ExecuteTime": {
     "end_time": "2024-03-19T13:25:34.527260Z",
     "start_time": "2024-03-19T13:25:34.486354Z"
    }
   },
   "id": "5b9775b059f71bf2"
  },
  {
   "cell_type": "code",
   "execution_count": 172,
   "outputs": [
    {
     "name": "stdout",
     "output_type": "stream",
     "text": [
      "R-squared: 0.8877460028847141\n",
      "Mean Absolute Error: 11297.001861178305\n",
      "Median Absolute Error: 7059.181714621984\n",
      "Mean Squared Error: 253547649.55675417\n",
      "Root Mean Squared Error: 15923.179630863748\n"
     ]
    }
   ],
   "source": [
    "y_pred = huber.predict(X_test)\n",
    "print(\"R-squared:\", r2_score(y_test, y_pred))\n",
    "#R-squared value of 0.886 indicates that approximately 88.6% of the variance in the target variable can be explained by the features used in the model.\n",
    "print(\"Mean Absolute Error:\", mean_absolute_error(y_test, y_pred))\n",
    "print(\"Median Absolute Error:\", median_absolute_error(y_test, y_pred))\n",
    "print(\"Mean Squared Error:\", mean_squared_error(y_test, y_pred))\n",
    "print(\"Root Mean Squared Error:\", np.sqrt(mean_squared_error(y_test, y_pred)))"
   ],
   "metadata": {
    "collapsed": false,
    "ExecuteTime": {
     "end_time": "2024-03-19T13:25:34.527682Z",
     "start_time": "2024-03-19T13:25:34.508989Z"
    }
   },
   "id": "cf7a9119881680d1"
  },
  {
   "cell_type": "code",
   "execution_count": 173,
   "outputs": [
    {
     "data": {
      "text/plain": "<Figure size 1000x600 with 1 Axes>",
      "image/png": "[encoded data removed]"
     },
     "metadata": {},
     "output_type": "display_data"
    }
   ],
   "source": [
    "import matplotlib.pyplot as plt\n",
    "\n",
    "# Plotting the actual vs predicted values\n",
    "plt.figure(figsize=(10, 6))\n",
    "plt.scatter(y_test, y_pred, color='blue', label='Actual vs Predicted')\n",
    "plt.plot([y_test.min(), y_test.max()], [y_test.min(), y_test.max()], '--', color='red', label='Ideal Line')\n",
    "plt.title('Actual vs Predicted')\n",
    "plt.xlabel('Actual')\n",
    "plt.ylabel('Predicted')\n",
    "plt.legend()\n",
    "plt.show()"
   ],
   "metadata": {
    "collapsed": false,
    "ExecuteTime": {
     "end_time": "2024-03-19T13:27:35.514231Z",
     "start_time": "2024-03-19T13:27:35.255814Z"
    }
   },
   "id": "f3fb0c55a8b55b6a"
  },
  {
   "cell_type": "code",
   "execution_count": null,
   "outputs": [],
   "source": [],
   "metadata": {
    "collapsed": false
   },
   "id": "383768d53eccdf82"
  }
 ],
 "metadata": {
  "kernelspec": {
   "display_name": "Python 3",
   "language": "python",
   "name": "python3"
  },
  "language_info": {
   "codemirror_mode": {
    "name": "ipython",
    "version": 2
   },
   "file_extension": ".py",
   "mimetype": "text/x-python",
   "name": "python",
   "nbconvert_exporter": "python",
   "pygments_lexer": "ipython2",
   "version": "2.7.6"
  }
 },
 "nbformat": 4,
 "nbformat_minor": 5
}
