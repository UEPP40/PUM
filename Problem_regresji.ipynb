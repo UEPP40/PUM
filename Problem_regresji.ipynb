{
  "nbformat": 4,
  "nbformat_minor": 0,
  "metadata": {
    "colab": {
      "provenance": [],
      "authorship_tag": "ABX9TyP/QEnsc3eNAyCYpYZDNwD/",
      "include_colab_link": true
    },
    "kernelspec": {
      "name": "python3",
      "display_name": "Python 3"
    },
    "language_info": {
      "name": "python"
    }
  },
  "cells": [
    {
      "cell_type": "markdown",
      "metadata": {
        "id": "view-in-github",
        "colab_type": "text"
      },
      "source": [
        "<a href=\"https://colab.research.google.com/github/UEPP40/PUM/blob/Dudziak/Problem_regresji.ipynb\" target=\"_parent\"><img src=\"https://colab.research.google.com/assets/colab-badge.svg\" alt=\"Open In Colab\"/></a>"
      ]
    },
    {
      "cell_type": "code",
      "execution_count": 81,
      "metadata": {
        "id": "gJw8217ggrU7"
      },
      "outputs": [],
      "source": [
        "import pandas as pd\n",
        "from sklearn.preprocessing import LabelEncoder\n",
        "le = LabelEncoder()\n",
        "from sklearn.preprocessing import OrdinalEncoder\n",
        "enc = OrdinalEncoder(categories=[[\"Bachelor\\'s\", \"Master\\'s\", \"PhD\"]])\n",
        "from sklearn.model_selection import train_test_split\n",
        "\n",
        "from sklearn.linear_model import LinearRegression\n",
        "from sklearn.metrics import median_absolute_error\n",
        "from sklearn.metrics import mean_absolute_error"
      ]
    },
    {
      "cell_type": "code",
      "source": [
        "df = pd.read_csv('Salary Data.csv')\n",
        "df"
      ],
      "metadata": {
        "id": "OXbNBBartJ0k"
      },
      "execution_count": null,
      "outputs": []
    },
    {
      "cell_type": "code",
      "source": [
        "empty_counts = df.isna().sum()\n",
        "empty_counts"
      ],
      "metadata": {
        "id": "veauN1SbvA-M"
      },
      "execution_count": null,
      "outputs": []
    },
    {
      "cell_type": "code",
      "source": [
        "df.dropna(inplace=True)\n"
      ],
      "metadata": {
        "id": "wQYznThDvymE"
      },
      "execution_count": 84,
      "outputs": []
    },
    {
      "cell_type": "code",
      "source": [
        "df['Education Level'] = df['Education Level'].astype('string')\n",
        "df['Job Title'] = df['Job Title'].astype('string')"
      ],
      "metadata": {
        "id": "k4CZ28HoyQSz"
      },
      "execution_count": 85,
      "outputs": []
    },
    {
      "cell_type": "code",
      "source": [
        "df.Gender = le.fit_transform(df.Gender)\n",
        "\n",
        "\n",
        "df['Education Level'] = enc.fit_transform(df[['Education Level']])\n",
        "df[\"Job Title\"] = le.fit_transform(df[\"Job Title\"])"
      ],
      "metadata": {
        "id": "trtk6MxOt8Ky"
      },
      "execution_count": 86,
      "outputs": []
    },
    {
      "cell_type": "code",
      "source": [
        "x = df.drop(columns='Salary')\n",
        "\n",
        "X_train, X_test, y_train, y_test = train_test_split(x, df['Salary'], test_size=0.33, random_state=42)"
      ],
      "metadata": {
        "id": "2bVf9lgm4OR5"
      },
      "execution_count": 87,
      "outputs": []
    },
    {
      "cell_type": "code",
      "source": [
        "# Inicjalizacja i dopasowanie modelu regresji liniowej\n",
        "model = LinearRegression()\n",
        "model.fit(X_train, y_train)\n",
        "\n",
        "# Przewidywanie na zbiorze testowym\n",
        "y_pred = model.predict(X_test)\n",
        "\n",
        "\n"
      ],
      "metadata": {
        "id": "F8Jk-TMB6Su4"
      },
      "execution_count": 88,
      "outputs": []
    },
    {
      "cell_type": "code",
      "source": [
        "median_absolute_error(y_test,y_pred)"
      ],
      "metadata": {
        "colab": {
          "base_uri": "https://localhost:8080/"
        },
        "id": "KR84d92N6vLu",
        "outputId": "01f2b23e-b747-42f4-d504-70d006fc06f6"
      },
      "execution_count": 89,
      "outputs": [
        {
          "output_type": "execute_result",
          "data": {
            "text/plain": [
              "8858.308816896773"
            ]
          },
          "metadata": {},
          "execution_count": 89
        }
      ]
    },
    {
      "cell_type": "code",
      "source": [
        "mean_absolute_error(y_test,y_pred)"
      ],
      "metadata": {
        "colab": {
          "base_uri": "https://localhost:8080/"
        },
        "id": "04qeMscI6yAO",
        "outputId": "47c2e3d8-d5d0-4e3e-d5da-482445e643a3"
      },
      "execution_count": 90,
      "outputs": [
        {
          "output_type": "execute_result",
          "data": {
            "text/plain": [
              "11647.136609116484"
            ]
          },
          "metadata": {},
          "execution_count": 90
        }
      ]
    }
  ]
}