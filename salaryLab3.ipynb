import pandas as pd
from sklearn.preprocessing import OrdinalEncoder
from sklearn.preprocessing import LabelEncoder
from sklearn.model_selection import train_test_split
from sklearn.linear_model import LinearRegression
from sklearn.metrics import median_absolute_error
from sklearn.metrics import mean_absolute_error
df = pd.read_csv("Salary Data.csv")
df.head()
df.dtypes
df.dropna(inplace=True)
df['Education Level'] = df['Education Level'].astype('string')
df['Job Title'] = df['Job Title'].astype('string')
le = LabelEncoder()
df.Gender = le.fit_transform(df.Gender)
df['Job Title'] = le.fit_transform(df['Job Title'])
enc = OrdinalEncoder(categories = [["Bachelor\'s", "Master\'s", "PhD"]])
df['Education Level'] = enc.fit_transform(df[['Education Level']])
X_train, X_test, y_train, y_test = train_test_split(x, df["Salary"], test_size=0.33, random_state=42)
model = LinearRegression()
model.fit(X_train, y_train)
y_pred = model.predict(X_test)
median_absolute_error(y_test,y_pred)    
median_absolute_error(y_test,y_pred)
mean_absolute_error(y_test,y_pred)
