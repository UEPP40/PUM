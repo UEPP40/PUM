{
  "nbformat": 4,
  "nbformat_minor": 0,
  "metadata": {
    "colab": {
      "provenance": [],
      "authorship_tag": "ABX9TyO1PW1AhWfFnjg+28eGvyYj",
      "include_colab_link": true
    },
    "kernelspec": {
      "name": "python3",
      "display_name": "Python 3"
    },
    "language_info": {
      "name": "python"
    }
  },
  "cells": [
    {
      "cell_type": "markdown",
      "metadata": {
        "id": "view-in-github",
        "colab_type": "text"
      },
      "source": [
        "<a href=\"https://colab.research.google.com/github/UEPP40/PUM/blob/matusiak/system_rekomendacyjny.ipynb\" target=\"_parent\"><img src=\"https://colab.research.google.com/assets/colab-badge.svg\" alt=\"Open In Colab\"/></a>"
      ]
    },
    {
      "cell_type": "code",
      "source": [
        "import numpy as np\n",
        "import pandas as pd\n",
        "from mlxtend.frequent_patterns import apriori, association_rules\n",
        "from mlxtend.preprocessing import TransactionEncoder"
      ],
      "metadata": {
        "colab": {
          "base_uri": "https://localhost:8080/"
        },
        "id": "0oRtwcrq68V7",
        "outputId": "95048c1e-9852-4a95-d422-36340977e0b5"
      },
      "execution_count": 15,
      "outputs": [
        {
          "output_type": "stream",
          "name": "stderr",
          "text": [
            "/usr/local/lib/python3.10/dist-packages/ipykernel/ipkernel.py:283: DeprecationWarning: `should_run_async` will not call `transform_cell` automatically in the future. Please pass the result to `transformed_cell` argument and any exception that happen during thetransform in `preprocessing_exc_tuple` in IPython 7.17 and above.\n",
            "  and should_run_async(code)\n"
          ]
        }
      ]
    },
    {
      "cell_type": "code",
      "source": [
        "grocery_data = pd.read_csv('GroceryStoreDataSet.csv', names=[\"products_list\"])\n",
        "grocery_data"
      ],
      "metadata": {
        "colab": {
          "base_uri": "https://localhost:8080/",
          "height": 731
        },
        "id": "VOJIMVWX7K5O",
        "outputId": "39214813-e8f5-414d-9113-a820871753b1"
      },
      "execution_count": 19,
      "outputs": [
        {
          "output_type": "stream",
          "name": "stderr",
          "text": [
            "/usr/local/lib/python3.10/dist-packages/ipykernel/ipkernel.py:283: DeprecationWarning: `should_run_async` will not call `transform_cell` automatically in the future. Please pass the result to `transformed_cell` argument and any exception that happen during thetransform in `preprocessing_exc_tuple` in IPython 7.17 and above.\n",
            "  and should_run_async(code)\n"
          ]
        },
        {
          "output_type": "execute_result",
          "data": {
            "text/plain": [
              "                     products_list\n",
              "0               MILK,BREAD,BISCUIT\n",
              "1    BREAD,MILK,BISCUIT,CORNFLAKES\n",
              "2              BREAD,TEA,BOURNVITA\n",
              "3             JAM,MAGGI,BREAD,MILK\n",
              "4                MAGGI,TEA,BISCUIT\n",
              "5              BREAD,TEA,BOURNVITA\n",
              "6             MAGGI,TEA,CORNFLAKES\n",
              "7          MAGGI,BREAD,TEA,BISCUIT\n",
              "8              JAM,MAGGI,BREAD,TEA\n",
              "9                       BREAD,MILK\n",
              "10  COFFEE,COCK,BISCUIT,CORNFLAKES\n",
              "11  COFFEE,COCK,BISCUIT,CORNFLAKES\n",
              "12          COFFEE,SUGER,BOURNVITA\n",
              "13               BREAD,COFFEE,COCK\n",
              "14             BREAD,SUGER,BISCUIT\n",
              "15         COFFEE,SUGER,CORNFLAKES\n",
              "16           BREAD,SUGER,BOURNVITA\n",
              "17              BREAD,COFFEE,SUGER\n",
              "18              BREAD,COFFEE,SUGER\n",
              "19      TEA,MILK,COFFEE,CORNFLAKES"
            ],
            "text/html": [
              "\n",
              "  <div id=\"df-9851b0ed-9c42-4348-a93f-34b801113a92\" class=\"colab-df-container\">\n",
              "    <div>\n",
              "<style scoped>\n",
              "    .dataframe tbody tr th:only-of-type {\n",
              "        vertical-align: middle;\n",
              "    }\n",
              "\n",
              "    .dataframe tbody tr th {\n",
              "        vertical-align: top;\n",
              "    }\n",
              "\n",
              "    .dataframe thead th {\n",
              "        text-align: right;\n",
              "    }\n",
              "</style>\n",
              "<table border=\"1\" class=\"dataframe\">\n",
              "  <thead>\n",
              "    <tr style=\"text-align: right;\">\n",
              "      <th></th>\n",
              "      <th>products_list</th>\n",
              "    </tr>\n",
              "  </thead>\n",
              "  <tbody>\n",
              "    <tr>\n",
              "      <th>0</th>\n",
              "      <td>MILK,BREAD,BISCUIT</td>\n",
              "    </tr>\n",
              "    <tr>\n",
              "      <th>1</th>\n",
              "      <td>BREAD,MILK,BISCUIT,CORNFLAKES</td>\n",
              "    </tr>\n",
              "    <tr>\n",
              "      <th>2</th>\n",
              "      <td>BREAD,TEA,BOURNVITA</td>\n",
              "    </tr>\n",
              "    <tr>\n",
              "      <th>3</th>\n",
              "      <td>JAM,MAGGI,BREAD,MILK</td>\n",
              "    </tr>\n",
              "    <tr>\n",
              "      <th>4</th>\n",
              "      <td>MAGGI,TEA,BISCUIT</td>\n",
              "    </tr>\n",
              "    <tr>\n",
              "      <th>5</th>\n",
              "      <td>BREAD,TEA,BOURNVITA</td>\n",
              "    </tr>\n",
              "    <tr>\n",
              "      <th>6</th>\n",
              "      <td>MAGGI,TEA,CORNFLAKES</td>\n",
              "    </tr>\n",
              "    <tr>\n",
              "      <th>7</th>\n",
              "      <td>MAGGI,BREAD,TEA,BISCUIT</td>\n",
              "    </tr>\n",
              "    <tr>\n",
              "      <th>8</th>\n",
              "      <td>JAM,MAGGI,BREAD,TEA</td>\n",
              "    </tr>\n",
              "    <tr>\n",
              "      <th>9</th>\n",
              "      <td>BREAD,MILK</td>\n",
              "    </tr>\n",
              "    <tr>\n",
              "      <th>10</th>\n",
              "      <td>COFFEE,COCK,BISCUIT,CORNFLAKES</td>\n",
              "    </tr>\n",
              "    <tr>\n",
              "      <th>11</th>\n",
              "      <td>COFFEE,COCK,BISCUIT,CORNFLAKES</td>\n",
              "    </tr>\n",
              "    <tr>\n",
              "      <th>12</th>\n",
              "      <td>COFFEE,SUGER,BOURNVITA</td>\n",
              "    </tr>\n",
              "    <tr>\n",
              "      <th>13</th>\n",
              "      <td>BREAD,COFFEE,COCK</td>\n",
              "    </tr>\n",
              "    <tr>\n",
              "      <th>14</th>\n",
              "      <td>BREAD,SUGER,BISCUIT</td>\n",
              "    </tr>\n",
              "    <tr>\n",
              "      <th>15</th>\n",
              "      <td>COFFEE,SUGER,CORNFLAKES</td>\n",
              "    </tr>\n",
              "    <tr>\n",
              "      <th>16</th>\n",
              "      <td>BREAD,SUGER,BOURNVITA</td>\n",
              "    </tr>\n",
              "    <tr>\n",
              "      <th>17</th>\n",
              "      <td>BREAD,COFFEE,SUGER</td>\n",
              "    </tr>\n",
              "    <tr>\n",
              "      <th>18</th>\n",
              "      <td>BREAD,COFFEE,SUGER</td>\n",
              "    </tr>\n",
              "    <tr>\n",
              "      <th>19</th>\n",
              "      <td>TEA,MILK,COFFEE,CORNFLAKES</td>\n",
              "    </tr>\n",
              "  </tbody>\n",
              "</table>\n",
              "</div>\n",
              "    <div class=\"colab-df-buttons\">\n",
              "\n",
              "  <div class=\"colab-df-container\">\n",
              "    <button class=\"colab-df-convert\" onclick=\"convertToInteractive('df-9851b0ed-9c42-4348-a93f-34b801113a92')\"\n",
              "            title=\"Convert this dataframe to an interactive table.\"\n",
              "            style=\"display:none;\">\n",
              "\n",
              "  <svg xmlns=\"http://www.w3.org/2000/svg\" height=\"24px\" viewBox=\"0 -960 960 960\">\n",
              "    <path d=\"M120-120v-720h720v720H120Zm60-500h600v-160H180v160Zm220 220h160v-160H400v160Zm0 220h160v-160H400v160ZM180-400h160v-160H180v160Zm440 0h160v-160H620v160ZM180-180h160v-160H180v160Zm440 0h160v-160H620v160Z\"/>\n",
              "  </svg>\n",
              "    </button>\n",
              "\n",
              "  <style>\n",
              "    .colab-df-container {\n",
              "      display:flex;\n",
              "      gap: 12px;\n",
              "    }\n",
              "\n",
              "    .colab-df-convert {\n",
              "      background-color: #E8F0FE;\n",
              "      border: none;\n",
              "      border-radius: 50%;\n",
              "      cursor: pointer;\n",
              "      display: none;\n",
              "      fill: #1967D2;\n",
              "      height: 32px;\n",
              "      padding: 0 0 0 0;\n",
              "      width: 32px;\n",
              "    }\n",
              "\n",
              "    .colab-df-convert:hover {\n",
              "      background-color: #E2EBFA;\n",
              "      box-shadow: 0px 1px 2px rgba(60, 64, 67, 0.3), 0px 1px 3px 1px rgba(60, 64, 67, 0.15);\n",
              "      fill: #174EA6;\n",
              "    }\n",
              "\n",
              "    .colab-df-buttons div {\n",
              "      margin-bottom: 4px;\n",
              "    }\n",
              "\n",
              "    [theme=dark] .colab-df-convert {\n",
              "      background-color: #3B4455;\n",
              "      fill: #D2E3FC;\n",
              "    }\n",
              "\n",
              "    [theme=dark] .colab-df-convert:hover {\n",
              "      background-color: #434B5C;\n",
              "      box-shadow: 0px 1px 3px 1px rgba(0, 0, 0, 0.15);\n",
              "      filter: drop-shadow(0px 1px 2px rgba(0, 0, 0, 0.3));\n",
              "      fill: #FFFFFF;\n",
              "    }\n",
              "  </style>\n",
              "\n",
              "    <script>\n",
              "      const buttonEl =\n",
              "        document.querySelector('#df-9851b0ed-9c42-4348-a93f-34b801113a92 button.colab-df-convert');\n",
              "      buttonEl.style.display =\n",
              "        google.colab.kernel.accessAllowed ? 'block' : 'none';\n",
              "\n",
              "      async function convertToInteractive(key) {\n",
              "        const element = document.querySelector('#df-9851b0ed-9c42-4348-a93f-34b801113a92');\n",
              "        const dataTable =\n",
              "          await google.colab.kernel.invokeFunction('convertToInteractive',\n",
              "                                                    [key], {});\n",
              "        if (!dataTable) return;\n",
              "\n",
              "        const docLinkHtml = 'Like what you see? Visit the ' +\n",
              "          '<a target=\"_blank\" href=https://colab.research.google.com/notebooks/data_table.ipynb>data table notebook</a>'\n",
              "          + ' to learn more about interactive tables.';\n",
              "        element.innerHTML = '';\n",
              "        dataTable['output_type'] = 'display_data';\n",
              "        await google.colab.output.renderOutput(dataTable, element);\n",
              "        const docLink = document.createElement('div');\n",
              "        docLink.innerHTML = docLinkHtml;\n",
              "        element.appendChild(docLink);\n",
              "      }\n",
              "    </script>\n",
              "  </div>\n",
              "\n",
              "\n",
              "<div id=\"df-d289dc4f-068e-42ab-b168-36c853a61e0f\">\n",
              "  <button class=\"colab-df-quickchart\" onclick=\"quickchart('df-d289dc4f-068e-42ab-b168-36c853a61e0f')\"\n",
              "            title=\"Suggest charts\"\n",
              "            style=\"display:none;\">\n",
              "\n",
              "<svg xmlns=\"http://www.w3.org/2000/svg\" height=\"24px\"viewBox=\"0 0 24 24\"\n",
              "     width=\"24px\">\n",
              "    <g>\n",
              "        <path d=\"M19 3H5c-1.1 0-2 .9-2 2v14c0 1.1.9 2 2 2h14c1.1 0 2-.9 2-2V5c0-1.1-.9-2-2-2zM9 17H7v-7h2v7zm4 0h-2V7h2v10zm4 0h-2v-4h2v4z\"/>\n",
              "    </g>\n",
              "</svg>\n",
              "  </button>\n",
              "\n",
              "<style>\n",
              "  .colab-df-quickchart {\n",
              "      --bg-color: #E8F0FE;\n",
              "      --fill-color: #1967D2;\n",
              "      --hover-bg-color: #E2EBFA;\n",
              "      --hover-fill-color: #174EA6;\n",
              "      --disabled-fill-color: #AAA;\n",
              "      --disabled-bg-color: #DDD;\n",
              "  }\n",
              "\n",
              "  [theme=dark] .colab-df-quickchart {\n",
              "      --bg-color: #3B4455;\n",
              "      --fill-color: #D2E3FC;\n",
              "      --hover-bg-color: #434B5C;\n",
              "      --hover-fill-color: #FFFFFF;\n",
              "      --disabled-bg-color: #3B4455;\n",
              "      --disabled-fill-color: #666;\n",
              "  }\n",
              "\n",
              "  .colab-df-quickchart {\n",
              "    background-color: var(--bg-color);\n",
              "    border: none;\n",
              "    border-radius: 50%;\n",
              "    cursor: pointer;\n",
              "    display: none;\n",
              "    fill: var(--fill-color);\n",
              "    height: 32px;\n",
              "    padding: 0;\n",
              "    width: 32px;\n",
              "  }\n",
              "\n",
              "  .colab-df-quickchart:hover {\n",
              "    background-color: var(--hover-bg-color);\n",
              "    box-shadow: 0 1px 2px rgba(60, 64, 67, 0.3), 0 1px 3px 1px rgba(60, 64, 67, 0.15);\n",
              "    fill: var(--button-hover-fill-color);\n",
              "  }\n",
              "\n",
              "  .colab-df-quickchart-complete:disabled,\n",
              "  .colab-df-quickchart-complete:disabled:hover {\n",
              "    background-color: var(--disabled-bg-color);\n",
              "    fill: var(--disabled-fill-color);\n",
              "    box-shadow: none;\n",
              "  }\n",
              "\n",
              "  .colab-df-spinner {\n",
              "    border: 2px solid var(--fill-color);\n",
              "    border-color: transparent;\n",
              "    border-bottom-color: var(--fill-color);\n",
              "    animation:\n",
              "      spin 1s steps(1) infinite;\n",
              "  }\n",
              "\n",
              "  @keyframes spin {\n",
              "    0% {\n",
              "      border-color: transparent;\n",
              "      border-bottom-color: var(--fill-color);\n",
              "      border-left-color: var(--fill-color);\n",
              "    }\n",
              "    20% {\n",
              "      border-color: transparent;\n",
              "      border-left-color: var(--fill-color);\n",
              "      border-top-color: var(--fill-color);\n",
              "    }\n",
              "    30% {\n",
              "      border-color: transparent;\n",
              "      border-left-color: var(--fill-color);\n",
              "      border-top-color: var(--fill-color);\n",
              "      border-right-color: var(--fill-color);\n",
              "    }\n",
              "    40% {\n",
              "      border-color: transparent;\n",
              "      border-right-color: var(--fill-color);\n",
              "      border-top-color: var(--fill-color);\n",
              "    }\n",
              "    60% {\n",
              "      border-color: transparent;\n",
              "      border-right-color: var(--fill-color);\n",
              "    }\n",
              "    80% {\n",
              "      border-color: transparent;\n",
              "      border-right-color: var(--fill-color);\n",
              "      border-bottom-color: var(--fill-color);\n",
              "    }\n",
              "    90% {\n",
              "      border-color: transparent;\n",
              "      border-bottom-color: var(--fill-color);\n",
              "    }\n",
              "  }\n",
              "</style>\n",
              "\n",
              "  <script>\n",
              "    async function quickchart(key) {\n",
              "      const quickchartButtonEl =\n",
              "        document.querySelector('#' + key + ' button');\n",
              "      quickchartButtonEl.disabled = true;  // To prevent multiple clicks.\n",
              "      quickchartButtonEl.classList.add('colab-df-spinner');\n",
              "      try {\n",
              "        const charts = await google.colab.kernel.invokeFunction(\n",
              "            'suggestCharts', [key], {});\n",
              "      } catch (error) {\n",
              "        console.error('Error during call to suggestCharts:', error);\n",
              "      }\n",
              "      quickchartButtonEl.classList.remove('colab-df-spinner');\n",
              "      quickchartButtonEl.classList.add('colab-df-quickchart-complete');\n",
              "    }\n",
              "    (() => {\n",
              "      let quickchartButtonEl =\n",
              "        document.querySelector('#df-d289dc4f-068e-42ab-b168-36c853a61e0f button');\n",
              "      quickchartButtonEl.style.display =\n",
              "        google.colab.kernel.accessAllowed ? 'block' : 'none';\n",
              "    })();\n",
              "  </script>\n",
              "</div>\n",
              "    </div>\n",
              "  </div>\n"
            ],
            "application/vnd.google.colaboratory.intrinsic+json": {
              "type": "dataframe",
              "variable_name": "grocery_data",
              "summary": "{\n  \"name\": \"grocery_data\",\n  \"rows\": 20,\n  \"fields\": [\n    {\n      \"column\": \"products_list\",\n      \"properties\": {\n        \"dtype\": \"string\",\n        \"num_unique_values\": 17,\n        \"samples\": [\n          \"MILK,BREAD,BISCUIT\",\n          \"BREAD,MILK,BISCUIT,CORNFLAKES\",\n          \"MAGGI,TEA,CORNFLAKES\"\n        ],\n        \"semantic_type\": \"\",\n        \"description\": \"\"\n      }\n    }\n  ]\n}"
            }
          },
          "metadata": {},
          "execution_count": 19
        }
      ]
    },
    {
      "cell_type": "code",
      "source": [
        "grocery_data['products_list'] = grocery_data['products_list'].str.replace('COCK', 'COKE').str.replace('SUGER', 'SUGAR')\n",
        "products_structured = grocery_data['products_list'].apply(lambda x: x.split(','))\n",
        "\n",
        "trans_encoder = TransactionEncoder()\n",
        "encoded_products = trans_encoder.fit(products_structured).transform(products_structured)\n",
        "encoded_df = pd.DataFrame(encoded_products, columns=trans_encoder.columns_).astype(int)"
      ],
      "metadata": {
        "colab": {
          "base_uri": "https://localhost:8080/"
        },
        "id": "XetYj4dg7N3U",
        "outputId": "edefa1c5-5718-468d-d9a8-37ff1b657f57"
      },
      "execution_count": 20,
      "outputs": [
        {
          "output_type": "stream",
          "name": "stderr",
          "text": [
            "/usr/local/lib/python3.10/dist-packages/ipykernel/ipkernel.py:283: DeprecationWarning: `should_run_async` will not call `transform_cell` automatically in the future. Please pass the result to `transformed_cell` argument and any exception that happen during thetransform in `preprocessing_exc_tuple` in IPython 7.17 and above.\n",
            "  and should_run_async(code)\n"
          ]
        }
      ]
    },
    {
      "cell_type": "code",
      "source": [
        "# zbiory częste\n",
        "frequent_item_sets = apriori(encoded_df, min_support=0.15, use_colnames=True)\n",
        "\n",
        "# reguły asocjacyjne\n",
        "assoc_rules = association_rules(frequent_item_sets, metric=\"confidence\", min_threshold=0.1)\n",
        "\n",
        "# para produktów o największej ufności reguły\n",
        "highest_conf_rule = assoc_rules[assoc_rules['confidence'] == assoc_rules['confidence'].max()].head(1)\n",
        "print(\"Para produktów o największej ufności reguły:\")\n",
        "print(highest_conf_rule)\n",
        "\n",
        "# para produktów o największym lift\n",
        "assoc_rules = association_rules(frequent_item_sets, metric=\"lift\", min_threshold=0.1)\n",
        "highest_lift_rule = assoc_rules[assoc_rules['lift'] == assoc_rules['lift'].max()].head(1)\n",
        "print(\"Para produktów o największym lift:\")\n",
        "print(highest_lift_rule)"
      ],
      "metadata": {
        "colab": {
          "base_uri": "https://localhost:8080/"
        },
        "id": "OHrV0X_W7Ill",
        "outputId": "1995b375-da61-4bd5-e03b-02fa0c7ad7dd"
      },
      "execution_count": 21,
      "outputs": [
        {
          "output_type": "stream",
          "name": "stdout",
          "text": [
            "Para produktów o największej ufności reguły:\n",
            "   antecedents consequents  antecedent support  consequent support  support  \\\n",
            "17      (COKE)    (COFFEE)                0.15                 0.4     0.15   \n",
            "\n",
            "    confidence  lift  leverage  conviction  zhangs_metric  \n",
            "17         1.0   2.5      0.09         inf       0.705882  \n",
            "Para produktów o największym lift:\n",
            "   antecedents consequents  antecedent support  consequent support  support  \\\n",
            "17      (COKE)    (COFFEE)                0.15                 0.4     0.15   \n",
            "\n",
            "    confidence  lift  leverage  conviction  zhangs_metric  \n",
            "17         1.0   2.5      0.09         inf       0.705882  \n"
          ]
        },
        {
          "output_type": "stream",
          "name": "stderr",
          "text": [
            "/usr/local/lib/python3.10/dist-packages/ipykernel/ipkernel.py:283: DeprecationWarning: `should_run_async` will not call `transform_cell` automatically in the future. Please pass the result to `transformed_cell` argument and any exception that happen during thetransform in `preprocessing_exc_tuple` in IPython 7.17 and above.\n",
            "  and should_run_async(code)\n",
            "/usr/local/lib/python3.10/dist-packages/mlxtend/frequent_patterns/fpcommon.py:110: DeprecationWarning: DataFrames with non-bool types result in worse computationalperformance and their support might be discontinued in the future.Please use a DataFrame with bool type\n",
            "  warnings.warn(\n"
          ]
        }
      ]
    },
    {
      "cell_type": "markdown",
      "source": [
        "----------"
      ],
      "metadata": {
        "id": "ZZYYytFm786j"
      }
    },
    {
      "cell_type": "code",
      "source": [
        "import pandas as pd\n",
        "import numpy as np\n",
        "from scipy.sparse import csr_matrix\n",
        "from sklearn.neighbors import NearestNeighbors"
      ],
      "metadata": {
        "colab": {
          "base_uri": "https://localhost:8080/"
        },
        "id": "QVk-JIyd7xy0",
        "outputId": "edad1d8e-d483-48e0-9528-6141ea5f5760"
      },
      "execution_count": 22,
      "outputs": [
        {
          "output_type": "stream",
          "name": "stderr",
          "text": [
            "/usr/local/lib/python3.10/dist-packages/ipykernel/ipkernel.py:283: DeprecationWarning: `should_run_async` will not call `transform_cell` automatically in the future. Please pass the result to `transformed_cell` argument and any exception that happen during thetransform in `preprocessing_exc_tuple` in IPython 7.17 and above.\n",
            "  and should_run_async(code)\n"
          ]
        }
      ]
    },
    {
      "cell_type": "code",
      "source": [
        "ratings_data = pd.read_csv('https://s3-us-west-2.amazonaws.com/recommender-tutorial/ratings.csv')\n",
        "movies_data = pd.read_csv('https://s3-us-west-2.amazonaws.com/recommender-tutorial/movies.csv')\n",
        "\n",
        "print(\"Brakujące wartości w ocenach:\\n\", ratings_data.isnull().sum())\n",
        "print(\"Brakujące wartości w filmach:\\n\", movies_data.isnull().sum())\n",
        "\n",
        "# statystyki dotyczące ocen i filmów\n",
        "print(\"Oceny: \", ratings_data['rating'].nunique(), sorted(ratings_data['rating'].unique()))\n",
        "print(\"Liczba ocen: \", ratings_data.shape[0])\n",
        "print(\"Liczba filmów: \", movies_data['movieId'].nunique(), \", Unikalne tytuły: \", movies_data['title'].nunique())\n",
        "print(\"Liczba ocenionych filmów: \", movies_data['movieId'].nunique())\n",
        "print(\"Liczba użytkowników: \", ratings_data['userId'].nunique(), \", Najwyższe ID: \", ratings_data['userId'].max())\n",
        "print(\"Średnia liczba ocen na użytkownika: \", round(ratings_data.shape[0] / ratings_data['userId'].nunique(), 2))\n",
        "print(\"Średnia liczba ocen na film: \", round(ratings_data.shape[0] / ratings_data['movieId'].nunique(), 2))"
      ],
      "metadata": {
        "colab": {
          "base_uri": "https://localhost:8080/"
        },
        "id": "YD5wItzL8Rkq",
        "outputId": "ede35e59-53a2-4e20-bde2-eb3c8c2a0a1f"
      },
      "execution_count": 23,
      "outputs": [
        {
          "output_type": "stream",
          "name": "stderr",
          "text": [
            "/usr/local/lib/python3.10/dist-packages/ipykernel/ipkernel.py:283: DeprecationWarning: `should_run_async` will not call `transform_cell` automatically in the future. Please pass the result to `transformed_cell` argument and any exception that happen during thetransform in `preprocessing_exc_tuple` in IPython 7.17 and above.\n",
            "  and should_run_async(code)\n"
          ]
        },
        {
          "output_type": "stream",
          "name": "stdout",
          "text": [
            "Brakujące wartości w ocenach:\n",
            " userId       0\n",
            "movieId      0\n",
            "rating       0\n",
            "timestamp    0\n",
            "dtype: int64\n",
            "Brakujące wartości w filmach:\n",
            " movieId    0\n",
            "title      0\n",
            "genres     0\n",
            "dtype: int64\n",
            "Oceny:  10 [0.5, 1.0, 1.5, 2.0, 2.5, 3.0, 3.5, 4.0, 4.5, 5.0]\n",
            "Liczba ocen:  100836\n",
            "Liczba filmów:  9742 , Unikalne tytuły:  9737\n",
            "Liczba ocenionych filmów:  9742\n",
            "Liczba użytkowników:  610 , Najwyższe ID:  610\n",
            "Średnia liczba ocen na użytkownika:  165.3\n",
            "Średnia liczba ocen na film:  10.37\n"
          ]
        }
      ]
    },
    {
      "cell_type": "code",
      "source": [
        "# analiza zduplikowanych tytułów filmów\n",
        "film_titles = list(movies_data['title'])\n",
        "duplicates = set([x for x in film_titles if film_titles.count(x) > 1])\n",
        "print(\"Zduplikowane tytuły filmów:\")\n",
        "for duplicate in duplicates:\n",
        "    print(\"  -\", duplicate)"
      ],
      "metadata": {
        "colab": {
          "base_uri": "https://localhost:8080/"
        },
        "id": "lSstBtXQ8Khk",
        "outputId": "7755a1d9-6ebb-40a3-948f-48e106456e32"
      },
      "execution_count": 24,
      "outputs": [
        {
          "output_type": "stream",
          "name": "stderr",
          "text": [
            "/usr/local/lib/python3.10/dist-packages/ipykernel/ipkernel.py:283: DeprecationWarning: `should_run_async` will not call `transform_cell` automatically in the future. Please pass the result to `transformed_cell` argument and any exception that happen during thetransform in `preprocessing_exc_tuple` in IPython 7.17 and above.\n",
            "  and should_run_async(code)\n"
          ]
        },
        {
          "output_type": "stream",
          "name": "stdout",
          "text": [
            "Zduplikowane tytuły filmów:\n",
            "  - Confessions of a Dangerous Mind (2002)\n",
            "  - Emma (1996)\n",
            "  - War of the Worlds (2005)\n",
            "  - Saturn 3 (1980)\n",
            "  - Eros (2004)\n"
          ]
        }
      ]
    },
    {
      "cell_type": "code",
      "source": [
        "# średnia bayesowska\n",
        "C = ratings_data.shape[0] / ratings_data['movieId'].nunique()\n",
        "m = ratings_data['rating'].sum() / ratings_data.shape[0]\n",
        "print(\"C: \", C, \", m: \", m)\n",
        "\n",
        "def bayesian_average(ratings):\n",
        "    bayesian_avg = (C * m + ratings.sum()) / (C + ratings.count())\n",
        "    return bayesian_avg\n",
        "\n",
        "bayesian_avg_ratings = ratings_data.groupby('movieId')['rating'].agg(bayesian_average).reset_index()\n",
        "bayesian_avg_ratings.columns = ['movieId', 'bayesian_avg']\n",
        "movie_statistics = pd.merge(movies_data, bayesian_avg_ratings, on='movieId')\n",
        "print(movie_statistics.head())"
      ],
      "metadata": {
        "colab": {
          "base_uri": "https://localhost:8080/"
        },
        "id": "0CMX52rH8bMR",
        "outputId": "a8237262-fca5-465b-f69a-e8d7d8f98588"
      },
      "execution_count": 25,
      "outputs": [
        {
          "output_type": "stream",
          "name": "stderr",
          "text": [
            "/usr/local/lib/python3.10/dist-packages/ipykernel/ipkernel.py:283: DeprecationWarning: `should_run_async` will not call `transform_cell` automatically in the future. Please pass the result to `transformed_cell` argument and any exception that happen during thetransform in `preprocessing_exc_tuple` in IPython 7.17 and above.\n",
            "  and should_run_async(code)\n"
          ]
        },
        {
          "output_type": "stream",
          "name": "stdout",
          "text": [
            "C:  10.369806663924312 , m:  3.501556983616962\n",
            "   movieId                               title  \\\n",
            "0        1                    Toy Story (1995)   \n",
            "1        2                      Jumanji (1995)   \n",
            "2        3             Grumpier Old Men (1995)   \n",
            "3        4            Waiting to Exhale (1995)   \n",
            "4        5  Father of the Bride Part II (1995)   \n",
            "\n",
            "                                        genres  bayesian_avg  \n",
            "0  Adventure|Animation|Children|Comedy|Fantasy      3.901634  \n",
            "1                   Adventure|Children|Fantasy      3.437826  \n",
            "2                               Comedy|Romance      3.299841  \n",
            "3                         Comedy|Drama|Romance      3.040360  \n",
            "4                                       Comedy      3.146557  \n"
          ]
        }
      ]
    },
    {
      "cell_type": "code",
      "source": [
        "# macierz rzadka\n",
        "def create_sparse_matrix(df):\n",
        "    M = df['userId'].nunique()\n",
        "    N = df['movieId'].nunique()\n",
        "    user_map = dict(zip(np.unique(df[\"userId\"]), list(range(M))))\n",
        "    movie_map = dict(zip(np.unique(df[\"movieId\"]), list(range(N))))\n",
        "    user_inv_map = dict(zip(list(range(M)), np.unique(df[\"userId\"])))\n",
        "    movie_inv_map = dict(zip(list(range(N)), np.unique(df[\"movieId\"])))\n",
        "    user_idx = [user_map[i] for i in df['userId']]\n",
        "    item_idx = [movie_map[i] for i in df['movieId']]\n",
        "    X = csr_matrix((df[\"rating\"], (user_idx, item_idx)), shape=(M, N))\n",
        "    return X, user_map, movie_map, user_inv_map, movie_inv_map\n",
        "\n",
        "X, user_map, movie_map, user_inv_map, movie_inv_map = create_sparse_matrix(ratings_data)"
      ],
      "metadata": {
        "colab": {
          "base_uri": "https://localhost:8080/"
        },
        "id": "SN7iYMbe8gju",
        "outputId": "4305d2c7-0aaf-4cc2-d1c1-a5e0959b4824"
      },
      "execution_count": 26,
      "outputs": [
        {
          "output_type": "stream",
          "name": "stderr",
          "text": [
            "/usr/local/lib/python3.10/dist-packages/ipykernel/ipkernel.py:283: DeprecationWarning: `should_run_async` will not call `transform_cell` automatically in the future. Please pass the result to `transformed_cell` argument and any exception that happen during thetransform in `preprocessing_exc_tuple` in IPython 7.17 and above.\n",
            "  and should_run_async(code)\n"
          ]
        }
      ]
    },
    {
      "cell_type": "code",
      "source": [
        "# znajdowanie podobnych filmów\n",
        "def get_similar_movies(movie_id, X, movie_map, movie_inv_map, k, metric='cosine'):\n",
        "    X = X.T\n",
        "    neighbor_ids = []\n",
        "    movie_index = movie_map[movie_id]\n",
        "    movie_vector = X[movie_index]\n",
        "    if isinstance(movie_vector, (np.ndarray)):\n",
        "        movie_vector = movie_vector.reshape(1, -1)\n",
        "    kNN = NearestNeighbors(n_neighbors=k+1, algorithm=\"brute\", metric=metric)\n",
        "    kNN.fit(X)\n",
        "    neighbors = kNN.kneighbors(movie_vector, return_distance=False)\n",
        "    for i in range(1, k+1):\n",
        "        n = neighbors[0, i]\n",
        "        neighbor_ids.append(movie_inv_map[n])\n",
        "    return neighbor_ids\n",
        "\n",
        "toy_story_movie_id = movies_data[movies_data['title'].str.contains('Toy Story \\(')]['movieId'].iloc[0]\n",
        "similar_movies_list = get_similar_movies(toy_story_movie_id, X, movie_map, movie_inv_map, k=10, metric='cosine')\n",
        "print(f\"Najbardziej podobne filmy (Id): {toy_story_movie_id}: {similar_movies_list}\")\n",
        "print(f\"Najbardziej podobne filmy (Title): {list(movies_data[movies_data['movieId']==toy_story_movie_id]['title'])}:\")\n",
        "print(movies_data[movies_data['movieId'].isin(similar_movies_list)]['title'])"
      ],
      "metadata": {
        "colab": {
          "base_uri": "https://localhost:8080/"
        },
        "id": "RLObA-RI8kZx",
        "outputId": "b552716c-7603-4208-8b18-10333a3a6b5c"
      },
      "execution_count": 28,
      "outputs": [
        {
          "output_type": "stream",
          "name": "stdout",
          "text": [
            "Najbardziej podobne filmy (Id): 1: [3114, 480, 780, 260, 356, 364, 1210, 648, 1265, 1270]\n",
            "Najbardziej podobne filmy (Title): ['Toy Story (1995)']:\n",
            "224             Star Wars: Episode IV - A New Hope (1977)\n",
            "314                                   Forrest Gump (1994)\n",
            "322                                 Lion King, The (1994)\n",
            "418                                  Jurassic Park (1993)\n",
            "546                            Mission: Impossible (1996)\n",
            "615                  Independence Day (a.k.a. ID4) (1996)\n",
            "911     Star Wars: Episode VI - Return of the Jedi (1983)\n",
            "964                                  Groundhog Day (1993)\n",
            "969                             Back to the Future (1985)\n",
            "2355                                   Toy Story 2 (1999)\n",
            "Name: title, dtype: object\n"
          ]
        },
        {
          "output_type": "stream",
          "name": "stderr",
          "text": [
            "/usr/local/lib/python3.10/dist-packages/ipykernel/ipkernel.py:283: DeprecationWarning: `should_run_async` will not call `transform_cell` automatically in the future. Please pass the result to `transformed_cell` argument and any exception that happen during thetransform in `preprocessing_exc_tuple` in IPython 7.17 and above.\n",
            "  and should_run_async(code)\n",
            "<>:17: DeprecationWarning: invalid escape sequence '\\('\n",
            "<>:17: DeprecationWarning: invalid escape sequence '\\('\n",
            "<ipython-input-28-38f2362eebf2>:17: DeprecationWarning: invalid escape sequence '\\('\n",
            "  toy_story_movie_id = movies_data[movies_data['title'].str.contains('Toy Story \\(')]['movieId'].iloc[0]\n"
          ]
        }
      ]
    },
    {
      "cell_type": "code",
      "source": [
        "# przegląd danych\n",
        "movies_data['genres'] = movies_data['genres'].str.lower()\n",
        "movies_data['year'] = movies_data['title'].str.extract(r'(\\(\\d{4}\\))', expand=False)\n",
        "children_movies_count = movies_data[movies_data['genres'].str.contains('children')].shape[0]\n",
        "print(\"Liczba filmów dla dzieci:\", children_movies_count)\n",
        "\n",
        "ratings_data['rating_year'] = pd.to_datetime(ratings_data['timestamp'], unit='s').dt.year\n",
        "ratings_merged = ratings_data.merge(movies_data, on='movieId', how='inner')\n",
        "ratings_1995 = ratings_merged[ratings_merged['year'] == '(1995)']\n",
        "ratings_distribution_1995 = ratings_1995['rating'].value_counts().sort_index()\n",
        "print(\"Rozkład ocen filmów z 1995 roku:\")\n",
        "print(ratings_distribution_1995)\n",
        "import matplotlib.pyplot as plt\n",
        "plt.figure(figsize=(10, 6))\n",
        "ratings_distribution_1995.plot(kind='bar')\n",
        "plt.title('Rozkład ocen filmów z 1995 roku')\n",
        "plt.xlabel('Ocena')\n",
        "plt.ylabel('Liczba wystąpień')\n",
        "plt.xticks(rotation=0)\n",
        "plt.grid(axis='y')\n",
        "plt.show()\n",
        "\n",
        "action_movies_data = ratings_merged[ratings_merged['genres'].str.contains('action', case=False)]\n",
        "average_rating_action_movies = action_movies_data['rating'].mean()\n",
        "print(f\"Średnia ocen filmów akcji: {average_rating_action_movies}\")\n",
        "print(\"Trzy najwyżej oceniane filmy akcji:\")\n",
        "print(action_movies_data.groupby('title')['rating'].mean().sort_values(ascending=False).head(3))\n"
      ],
      "metadata": {
        "colab": {
          "base_uri": "https://localhost:8080/",
          "height": 983
        },
        "id": "c4Nk44AN8uOv",
        "outputId": "2a0ed0d1-b0e5-4585-e070-346a1a62db7f"
      },
      "execution_count": 29,
      "outputs": [
        {
          "output_type": "stream",
          "name": "stderr",
          "text": [
            "/usr/local/lib/python3.10/dist-packages/ipykernel/ipkernel.py:283: DeprecationWarning: `should_run_async` will not call `transform_cell` automatically in the future. Please pass the result to `transformed_cell` argument and any exception that happen during thetransform in `preprocessing_exc_tuple` in IPython 7.17 and above.\n",
            "  and should_run_async(code)\n"
          ]
        },
        {
          "output_type": "stream",
          "name": "stdout",
          "text": [
            "Liczba filmów dla dzieci: 664\n",
            "Rozkład ocen filmów z 1995 roku:\n",
            "rating\n",
            "0.5      50\n",
            "1.0     254\n",
            "1.5      75\n",
            "2.0     522\n",
            "2.5     244\n",
            "3.0    1701\n",
            "3.5     467\n",
            "4.0    1625\n",
            "4.5     308\n",
            "5.0     898\n",
            "Name: count, dtype: int64\n"
          ]
        },
        {
          "output_type": "display_data",
          "data": {
            "text/plain": [
              "<Figure size 1000x600 with 1 Axes>"
            ],
            "image/png": "[encoded data removed]"
          },
          "metadata": {}
        },
        {
          "output_type": "stream",
          "name": "stdout",
          "text": [
            "Średnia ocen filmów akcji: 3.447984331646809\n",
            "Trzy najwyżej oceniane filmy akcji:\n",
            "title\n",
            "Knock Off (1998)                                                      5.0\n",
            "On the Other Side of the Tracks (De l'autre côté du périph) (2012)    5.0\n",
            "Sonatine (Sonachine) (1993)                                           5.0\n",
            "Name: rating, dtype: float64\n"
          ]
        }
      ]
    },
    {
      "cell_type": "markdown",
      "source": [
        "SURPRISE"
      ],
      "metadata": {
        "id": "zTPe38C_-A3l"
      }
    },
    {
      "cell_type": "code",
      "source": [
        "!pip install surprise\n",
        "\n",
        "import pandas as pd\n",
        "import time\n",
        "from surprise import Dataset, Reader, accuracy\n",
        "from surprise.model_selection import cross_validate, GridSearchCV, train_test_split\n",
        "from surprise.prediction_algorithms import SVD, KNNBasic, KNNBaseline"
      ],
      "metadata": {
        "colab": {
          "base_uri": "https://localhost:8080/"
        },
        "id": "eWgHxSdX9-b4",
        "outputId": "cf543de2-007d-4c57-e7de-fab964850699"
      },
      "execution_count": 35,
      "outputs": [
        {
          "output_type": "stream",
          "name": "stderr",
          "text": [
            "/usr/local/lib/python3.10/dist-packages/ipykernel/ipkernel.py:283: DeprecationWarning: `should_run_async` will not call `transform_cell` automatically in the future. Please pass the result to `transformed_cell` argument and any exception that happen during thetransform in `preprocessing_exc_tuple` in IPython 7.17 and above.\n",
            "  and should_run_async(code)\n"
          ]
        },
        {
          "output_type": "stream",
          "name": "stdout",
          "text": [
            "Requirement already satisfied: surprise in /usr/local/lib/python3.10/dist-packages (0.1)\n",
            "Requirement already satisfied: scikit-surprise in /usr/local/lib/python3.10/dist-packages (from surprise) (1.1.4)\n",
            "Requirement already satisfied: joblib>=1.2.0 in /usr/local/lib/python3.10/dist-packages (from scikit-surprise->surprise) (1.4.2)\n",
            "Requirement already satisfied: numpy>=1.19.5 in /usr/local/lib/python3.10/dist-packages (from scikit-surprise->surprise) (1.25.2)\n",
            "Requirement already satisfied: scipy>=1.6.0 in /usr/local/lib/python3.10/dist-packages (from scikit-surprise->surprise) (1.11.4)\n"
          ]
        }
      ]
    },
    {
      "cell_type": "code",
      "source": [
        "ratings_data = pd.read_csv('https://s3-us-west-2.amazonaws.com/recommender-tutorial/ratings.csv')\n",
        "\n",
        "min_rating_value = ratings_data.rating.min()\n",
        "max_rating_value = ratings_data.rating.max()\n",
        "\n",
        "reader = Reader(rating_scale=(min_rating_value, max_rating_value))\n",
        "data = Dataset.load_from_df(ratings_data[['userId', 'movieId', 'rating']], reader)\n",
        "trainset, testset = train_test_split(data, test_size=0.25)"
      ],
      "metadata": {
        "colab": {
          "base_uri": "https://localhost:8080/"
        },
        "id": "DL0MztDg-leD",
        "outputId": "74c01825-338c-4f13-c122-9ce0d2ebab18"
      },
      "execution_count": 36,
      "outputs": [
        {
          "output_type": "stream",
          "name": "stderr",
          "text": [
            "/usr/local/lib/python3.10/dist-packages/ipykernel/ipkernel.py:283: DeprecationWarning: `should_run_async` will not call `transform_cell` automatically in the future. Please pass the result to `transformed_cell` argument and any exception that happen during thetransform in `preprocessing_exc_tuple` in IPython 7.17 and above.\n",
            "  and should_run_async(code)\n"
          ]
        }
      ]
    },
    {
      "cell_type": "code",
      "source": [
        "# SVD\n",
        "start_time_svd_train = time.time()\n",
        "algo_svd = SVD()\n",
        "algo_svd.fit(trainset)\n",
        "predictions_svd = algo_svd.test(testset)\n",
        "accuracy.rmse(predictions_svd)\n",
        "end_time_svd_train = time.time()\n",
        "\n",
        "param_grid_svd = {'n_factors': [1, 2, 5, 10, 50]}\n",
        "start_time_svd = time.time()\n",
        "grid_search_svd = GridSearchCV(SVD, param_grid_svd, measures=['rmse'], cv=5, n_jobs=-1)\n",
        "grid_search_svd.fit(data)\n",
        "end_time_svd = time.time()\n",
        "\n",
        "best_svd_params = grid_search_svd.best_params\n",
        "best_svd = grid_search_svd.best_estimator['rmse']\n",
        "\n",
        "cv_results_svd = cross_validate(best_svd, data, measures=['RMSE', 'MAE'], cv=5, verbose=True)\n"
      ],
      "metadata": {
        "colab": {
          "base_uri": "https://localhost:8080/"
        },
        "id": "ny34KNwH-qC8",
        "outputId": "08f3403f-a90c-47e5-ff14-5c342da3c4f5"
      },
      "execution_count": 37,
      "outputs": [
        {
          "output_type": "stream",
          "name": "stderr",
          "text": [
            "/usr/local/lib/python3.10/dist-packages/ipykernel/ipkernel.py:283: DeprecationWarning: `should_run_async` will not call `transform_cell` automatically in the future. Please pass the result to `transformed_cell` argument and any exception that happen during thetransform in `preprocessing_exc_tuple` in IPython 7.17 and above.\n",
            "  and should_run_async(code)\n"
          ]
        },
        {
          "output_type": "stream",
          "name": "stdout",
          "text": [
            "RMSE: 0.8816\n",
            "Evaluating RMSE, MAE of algorithm SVD on 5 split(s).\n",
            "\n",
            "                  Fold 1  Fold 2  Fold 3  Fold 4  Fold 5  Mean    Std     \n",
            "RMSE (testset)    0.8695  0.8684  0.8697  0.8639  0.8758  0.8695  0.0038  \n",
            "MAE (testset)     0.6663  0.6676  0.6660  0.6676  0.6736  0.6682  0.0028  \n",
            "Fit time          0.73    0.77    0.80    0.78    1.05    0.82    0.12    \n",
            "Test time         0.12    0.28    0.17    0.12    0.21    0.18    0.06    \n"
          ]
        }
      ]
    },
    {
      "cell_type": "code",
      "source": [
        "# kNN\n",
        "start_time_knn_train = time.time()\n",
        "algo_knn = KNNBasic()\n",
        "algo_knn.fit(trainset)\n",
        "predictions_knn = algo_knn.test(testset)\n",
        "accuracy.rmse(predictions_knn)\n",
        "end_time_knn_train = time.time()\n",
        "\n",
        "param_grid_knn = {'k': [1, 2, 5, 10, 20, 30, 40, 50]}\n",
        "start_time_knn = time.time()\n",
        "grid_search_knn = GridSearchCV(KNNBasic, param_grid_knn, measures=['rmse'], cv=5, n_jobs=-1)\n",
        "grid_search_knn.fit(data)\n",
        "end_time_knn = time.time()\n",
        "\n",
        "best_knn_params = grid_search_knn.best_params\n",
        "best_knn = grid_search_knn.best_estimator['rmse']\n",
        "\n",
        "cv_results_knn = cross_validate(best_knn, data, measures=['RMSE', 'MAE'], cv=5, verbose=True)"
      ],
      "metadata": {
        "colab": {
          "base_uri": "https://localhost:8080/"
        },
        "id": "lsTx2Ho2-wGq",
        "outputId": "ae660945-887d-4d5e-c672-b78f8dcae1cf"
      },
      "execution_count": 38,
      "outputs": [
        {
          "output_type": "stream",
          "name": "stdout",
          "text": [
            "Computing the msd similarity matrix...\n",
            "Done computing similarity matrix.\n"
          ]
        },
        {
          "output_type": "stream",
          "name": "stderr",
          "text": [
            "/usr/local/lib/python3.10/dist-packages/ipykernel/ipkernel.py:283: DeprecationWarning: `should_run_async` will not call `transform_cell` automatically in the future. Please pass the result to `transformed_cell` argument and any exception that happen during thetransform in `preprocessing_exc_tuple` in IPython 7.17 and above.\n",
            "  and should_run_async(code)\n"
          ]
        },
        {
          "output_type": "stream",
          "name": "stdout",
          "text": [
            "RMSE: 0.9577\n",
            "Computing the msd similarity matrix...\n",
            "Done computing similarity matrix.\n",
            "Computing the msd similarity matrix...\n",
            "Done computing similarity matrix.\n",
            "Computing the msd similarity matrix...\n",
            "Done computing similarity matrix.\n",
            "Computing the msd similarity matrix...\n",
            "Done computing similarity matrix.\n",
            "Computing the msd similarity matrix...\n",
            "Done computing similarity matrix.\n",
            "Evaluating RMSE, MAE of algorithm KNNBasic on 5 split(s).\n",
            "\n",
            "                  Fold 1  Fold 2  Fold 3  Fold 4  Fold 5  Mean    Std     \n",
            "RMSE (testset)    0.9250  0.9443  0.9462  0.9405  0.9433  0.9399  0.0076  \n",
            "MAE (testset)     0.7052  0.7200  0.7203  0.7155  0.7187  0.7159  0.0056  \n",
            "Fit time          0.12    0.14    0.15    0.14    0.19    0.15    0.02    \n",
            "Test time         1.08    1.26    1.11    1.37    1.89    1.34    0.29    \n"
          ]
        }
      ]
    },
    {
      "cell_type": "code",
      "source": [
        "# kNN Baseline\n",
        "algo_knn_baseline = KNNBaseline()\n",
        "algo_knn_baseline.fit(trainset)\n",
        "predictions_knn_baseline = algo_knn_baseline.test(testset)\n",
        "accuracy.rmse(predictions_knn_baseline)"
      ],
      "metadata": {
        "colab": {
          "base_uri": "https://localhost:8080/"
        },
        "id": "LMLxkJOT_fVI",
        "outputId": "2e261d1d-acbe-4ede-c97f-984c5b527746"
      },
      "execution_count": 39,
      "outputs": [
        {
          "output_type": "stream",
          "name": "stdout",
          "text": [
            "Estimating biases using als...\n"
          ]
        },
        {
          "output_type": "stream",
          "name": "stderr",
          "text": [
            "/usr/local/lib/python3.10/dist-packages/ipykernel/ipkernel.py:283: DeprecationWarning: `should_run_async` will not call `transform_cell` automatically in the future. Please pass the result to `transformed_cell` argument and any exception that happen during thetransform in `preprocessing_exc_tuple` in IPython 7.17 and above.\n",
            "  and should_run_async(code)\n"
          ]
        },
        {
          "output_type": "stream",
          "name": "stdout",
          "text": [
            "Computing the msd similarity matrix...\n",
            "Done computing similarity matrix.\n",
            "RMSE: 0.8810\n"
          ]
        },
        {
          "output_type": "execute_result",
          "data": {
            "text/plain": [
              "0.8810132496591062"
            ]
          },
          "metadata": {},
          "execution_count": 39
        }
      ]
    },
    {
      "cell_type": "code",
      "source": [
        "# czasy walidacji krzyżowej\n",
        "start_time_knn_cross = time.time()\n",
        "cross_val_knn = cross_validate(best_knn, data, measures=['rmse'], cv=5, verbose=True)\n",
        "end_time_knn_cross = time.time()\n",
        "\n",
        "start_time_svd_cross = time.time()\n",
        "cross_val_svd = cross_validate(best_svd, data, measures=['rmse'], cv=5, verbose=True)\n",
        "end_time_svd_cross = time.time()"
      ],
      "metadata": {
        "colab": {
          "base_uri": "https://localhost:8080/"
        },
        "id": "jg8wv2S9_g7N",
        "outputId": "ce4449e8-64b3-4d49-d73b-35d5f839611e"
      },
      "execution_count": 40,
      "outputs": [
        {
          "output_type": "stream",
          "name": "stderr",
          "text": [
            "/usr/local/lib/python3.10/dist-packages/ipykernel/ipkernel.py:283: DeprecationWarning: `should_run_async` will not call `transform_cell` automatically in the future. Please pass the result to `transformed_cell` argument and any exception that happen during thetransform in `preprocessing_exc_tuple` in IPython 7.17 and above.\n",
            "  and should_run_async(code)\n"
          ]
        },
        {
          "output_type": "stream",
          "name": "stdout",
          "text": [
            "Computing the msd similarity matrix...\n",
            "Done computing similarity matrix.\n",
            "Computing the msd similarity matrix...\n",
            "Done computing similarity matrix.\n",
            "Computing the msd similarity matrix...\n",
            "Done computing similarity matrix.\n",
            "Computing the msd similarity matrix...\n",
            "Done computing similarity matrix.\n",
            "Computing the msd similarity matrix...\n",
            "Done computing similarity matrix.\n",
            "Evaluating RMSE of algorithm KNNBasic on 5 split(s).\n",
            "\n",
            "                  Fold 1  Fold 2  Fold 3  Fold 4  Fold 5  Mean    Std     \n",
            "RMSE (testset)    0.9425  0.9398  0.9405  0.9435  0.9365  0.9406  0.0024  \n",
            "Fit time          0.15    0.15    0.15    0.15    0.15    0.15    0.00    \n",
            "Test time         1.31    1.28    1.12    1.28    1.33    1.26    0.07    \n",
            "Evaluating RMSE of algorithm SVD on 5 split(s).\n",
            "\n",
            "                  Fold 1  Fold 2  Fold 3  Fold 4  Fold 5  Mean    Std     \n",
            "RMSE (testset)    0.8676  0.8627  0.8767  0.8665  0.8732  0.8693  0.0050  \n",
            "Fit time          1.12    1.03    0.77    0.78    0.78    0.89    0.15    \n",
            "Test time         0.19    0.32    0.12    0.15    0.12    0.18    0.07    \n"
          ]
        }
      ]
    },
    {
      "cell_type": "code",
      "source": [
        "print(f\"\\nNajlepszy KNN RMSE: {grid_search_knn.best_score['rmse']}\")\n",
        "print(f\"Najlepszy SVD RMSE: {grid_search_svd.best_score['rmse']}\")\n",
        "print(f\"\\nNajlepsze parametry KNN: {grid_search_knn.best_params['rmse']}\")\n",
        "print(f\"Najlepsze parametry SVD: {grid_search_svd.best_params['rmse']}\")\n",
        "print(f\"\\nCzas trenowania hiperparametrów KNN: {end_time_knn - start_time_knn} sekund\")\n",
        "print(f\"Czas trenowania hiperparametrów SVD: {end_time_svd - start_time_svd} sekund\")\n",
        "print(f\"\\nCzas trenowania KNN (cross-validation): {end_time_knn_cross - start_time_knn_cross} sekund\")\n",
        "print(f\"Czas trenowania SVD (cross-validation): {end_time_svd_cross - start_time_svd_cross} sekund\")\n",
        "print(f\"\\nCzas trenowania SVD: {end_time_svd_train - start_time_svd_train} sekund\")\n",
        "print(f\"Czas trenowania KNN: {end_time_knn_train - start_time_knn_train} sekund\")\n",
        "print(f\"\\nWyniki walidacji krzyżowej KNN: {cv_results_knn}\")\n",
        "print(f\"Wyniki walidacji krzyżowej SVD: {cv_results_svd}\")"
      ],
      "metadata": {
        "colab": {
          "base_uri": "https://localhost:8080/"
        },
        "id": "Y-wOQZ6L_kjW",
        "outputId": "31776315-aff3-4562-ca0b-4fd31689129a"
      },
      "execution_count": 41,
      "outputs": [
        {
          "output_type": "stream",
          "name": "stdout",
          "text": [
            "\n",
            "Najlepszy KNN RMSE: 0.9401366736656034\n",
            "Najlepszy SVD RMSE: 0.8691068227984247\n",
            "\n",
            "Najlepsze parametry KNN: {'k': 10}\n",
            "Najlepsze parametry SVD: {'n_factors': 10}\n",
            "\n",
            "Czas trenowania hiperparametrów KNN: 45.81804037094116 sekund\n",
            "Czas trenowania hiperparametrów SVD: 34.83514332771301 sekund\n",
            "\n",
            "Czas trenowania KNN (cross-validation): 7.9716503620147705 sekund\n",
            "Czas trenowania SVD (cross-validation): 6.62999701499939 sekund\n",
            "\n",
            "Czas trenowania SVD: 8.209537744522095 sekund\n",
            "Czas trenowania KNN: 2.387096881866455 sekund\n",
            "\n",
            "Wyniki walidacji krzyżowej KNN: {'test_rmse': array([0.92499936, 0.94432379, 0.94615581, 0.94051792, 0.94327015]), 'test_mae': array([0.70520087, 0.72000368, 0.7203174 , 0.71548725, 0.7186724 ]), 'fit_time': (0.11924266815185547, 0.142730712890625, 0.14731979370117188, 0.14405083656311035, 0.19446468353271484), 'test_time': (1.0794198513031006, 1.2614662647247314, 1.1111576557159424, 1.3695733547210693, 1.8931875228881836)}\n",
            "Wyniki walidacji krzyżowej SVD: {'test_rmse': array([0.86946445, 0.8684445 , 0.86973924, 0.86385744, 0.8758442 ]), 'test_mae': array([0.66634028, 0.66761015, 0.66601179, 0.66760467, 0.67358925]), 'fit_time': (0.7261607646942139, 0.7691810131072998, 0.798924446105957, 0.7784416675567627, 1.0514333248138428), 'test_time': (0.12422299385070801, 0.2829117774963379, 0.16941142082214355, 0.11886739730834961, 0.21182966232299805)}\n"
          ]
        },
        {
          "output_type": "stream",
          "name": "stderr",
          "text": [
            "/usr/local/lib/python3.10/dist-packages/ipykernel/ipkernel.py:283: DeprecationWarning: `should_run_async` will not call `transform_cell` automatically in the future. Please pass the result to `transformed_cell` argument and any exception that happen during thetransform in `preprocessing_exc_tuple` in IPython 7.17 and above.\n",
            "  and should_run_async(code)\n"
          ]
        }
      ]
    }
  ]
}