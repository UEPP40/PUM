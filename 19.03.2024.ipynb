{
  "nbformat": 4,
  "nbformat_minor": 0,
  "metadata": {
    "colab": {
      "provenance": [],
      "include_colab_link": true
    },
    "kernelspec": {
      "name": "python3",
      "display_name": "Python 3"
    },
    "language_info": {
      "name": "python"
    }
  },
  "cells": [
    {
      "cell_type": "markdown",
      "metadata": {
        "id": "view-in-github",
        "colab_type": "text"
      },
      "source": [
        "<a href=\"https://colab.research.google.com/github/UEPP40/PUM/blob/Jablonski/19.03.2024.ipynb\" target=\"_parent\"><img src=\"https://colab.research.google.com/assets/colab-badge.svg\" alt=\"Open In Colab\"/></a>"
      ]
    },
    {
      "cell_type": "code",
      "execution_count": null,
      "metadata": {
        "id": "aUyKM4fqfejx"
      },
      "outputs": [],
      "source": [
        "import pandas as pd\n",
        "import numpy as np\n",
        "from sklearn.preprocessing import LabelEncoder\n",
        "from sklearn.linear_model import LinearRegression , HuberRegressor\n",
        "from sklearn.model_selection import train_test_split\n",
        "from sklearn.metrics import mean_absolute_error, median_absolute_error, r2_score\n",
        "df = pd.read_csv(\"Salary Data (2) (2).csv\")\n",
        "le = LabelEncoder()\n",
        "df.dtypes\n",
        "columns = [\"Gender\",\"Job Title\",\"Education Level\",]\n",
        "df[columns] = df[columns].apply(LabelEncoder().fit_transform)\n",
        "df.dropna (inplace =True)\n",
        "\n",
        "\n",
        "# Split the data into training and testing sets\n",
        "train_df, test_df = train_test_split(df, test_size=0.3, random_state=40)\n",
        "X_train = df[['Age','Gender','Job Title','Years of Experience','Education Level']]\n",
        "y_train = df['Salary']\n",
        "X_test = df[['Age','Gender','Job Title','Years of Experience','Education Level']]\n",
        "y_test = df['Salary']\n",
        "reg = LinearRegression().fit(X_train, y_train)\n",
        "\n",
        "\n",
        "reg.coef_\n",
        "reg.intercept_\n",
        "y_predict = reg.predict(X_test)\n",
        "\n",
        "\n",
        "\n"
      ]
    },
    {
      "cell_type": "code",
      "source": [
        "print(df.head())"
      ],
      "metadata": {
        "colab": {
          "base_uri": "https://localhost:8080/"
        },
        "id": "oZ_57nHS6yYh",
        "outputId": "93c123dd-4b17-44f5-b745-19cab73d76b3"
      },
      "execution_count": null,
      "outputs": [
        {
          "output_type": "stream",
          "name": "stdout",
          "text": [
            "    Age  Gender  Education Level  Job Title  Years of Experience    Salary\n",
            "0  32.0       1                0        159                  5.0   90000.0\n",
            "1  28.0       0                1         17                  3.0   65000.0\n",
            "2  45.0       1                2        130                 15.0  150000.0\n",
            "3  36.0       0                0        101                  7.0   60000.0\n",
            "4  52.0       1                1         22                 20.0  200000.0\n"
          ]
        }
      ]
    },
    {
      "cell_type": "code",
      "source": [
        "y_true = y_test\n",
        "mean_absolute_error(y_true,y_predict)"
      ],
      "metadata": {
        "colab": {
          "base_uri": "https://localhost:8080/"
        },
        "id": "e9pNpbNM4_bL",
        "outputId": "7830d4ef-5705-424d-e024-18a681ef203d"
      },
      "execution_count": null,
      "outputs": [
        {
          "output_type": "execute_result",
          "data": {
            "text/plain": [
              "11010.6086070049"
            ]
          },
          "metadata": {},
          "execution_count": 49
        }
      ]
    },
    {
      "cell_type": "markdown",
      "source": [
        "# Nowa sekcja"
      ],
      "metadata": {
        "id": "O6kVdnaxtZD3"
      }
    },
    {
      "cell_type": "code",
      "source": [
        "y_true = y_test\n",
        "median_absolute_error(y_true,y_predict)"
      ],
      "metadata": {
        "id": "kdUVL22fwNjM",
        "colab": {
          "base_uri": "https://localhost:8080/"
        },
        "outputId": "c62994f1-658a-42ea-aa7e-77c08380e2e7"
      },
      "execution_count": null,
      "outputs": [
        {
          "output_type": "execute_result",
          "data": {
            "text/plain": [
              "7616.469091657607"
            ]
          },
          "metadata": {},
          "execution_count": 61
        }
      ]
    },
    {
      "cell_type": "code",
      "source": [
        "y_true = y_test\n",
        "r2_score(y_true,y_predict)"
      ],
      "metadata": {
        "colab": {
          "base_uri": "https://localhost:8080/"
        },
        "id": "F1V2F1aW5v4F",
        "outputId": "c605930d-680d-45e9-b411-5ad4f8c2b9eb"
      },
      "execution_count": null,
      "outputs": [
        {
          "output_type": "execute_result",
          "data": {
            "text/plain": [
              "0.901060004949187"
            ]
          },
          "metadata": {},
          "execution_count": 51
        }
      ]
    },
    {
      "cell_type": "markdown",
      "source": [],
      "metadata": {
        "id": "K7DSwHtavWcz"
      }
    },
    {
      "cell_type": "markdown",
      "source": [],
      "metadata": {
        "id": "WDIZefeS9GXz"
      }
    },
    {
      "cell_type": "code",
      "source": [
        "huber = HuberRegressor().fit(X_train, y_train)\n",
        "huber.coef_\n",
        "huber.intercept_\n",
        "y_predict_huber = huber.predict(X_test)\n"
      ],
      "metadata": {
        "id": "0UbFdlwz9GtS"
      },
      "execution_count": null,
      "outputs": []
    },
    {
      "cell_type": "code",
      "source": [
        "y_true = y_test\n",
        "mean_absolute_error(y_true,y_predict_huber)"
      ],
      "metadata": {
        "colab": {
          "base_uri": "https://localhost:8080/"
        },
        "id": "t9j6O3AL97Jk",
        "outputId": "efd936d2-f2f3-43d1-ad2d-e54a55fb010f"
      },
      "execution_count": null,
      "outputs": [
        {
          "output_type": "execute_result",
          "data": {
            "text/plain": [
              "10896.488326499613"
            ]
          },
          "metadata": {},
          "execution_count": 67
        }
      ]
    },
    {
      "cell_type": "code",
      "source": [
        "y_true = y_test\n",
        "median_absolute_error(y_true,y_predict_huber)"
      ],
      "metadata": {
        "colab": {
          "base_uri": "https://localhost:8080/"
        },
        "id": "etMzVk1E9-K8",
        "outputId": "f2a8652d-87c1-47db-c54f-8bd8ee86b557"
      },
      "execution_count": null,
      "outputs": [
        {
          "output_type": "execute_result",
          "data": {
            "text/plain": [
              "7823.035523242841"
            ]
          },
          "metadata": {},
          "execution_count": 68
        }
      ]
    },
    {
      "cell_type": "code",
      "source": [
        "y_true = y_test\n",
        "r2_score(y_true,y_predict_huber)"
      ],
      "metadata": {
        "id": "AhlpV-2r-EtT",
        "outputId": "c9cf4212-8c06-43f3-ddab-0abe44d28850",
        "colab": {
          "base_uri": "https://localhost:8080/"
        }
      },
      "execution_count": null,
      "outputs": [
        {
          "output_type": "execute_result",
          "data": {
            "text/plain": [
              "0.8989919829056086"
            ]
          },
          "metadata": {},
          "execution_count": 69
        }
      ]
    }
  ]
}