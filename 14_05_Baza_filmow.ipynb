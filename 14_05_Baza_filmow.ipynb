{
 "cells": [
  {
   "cell_type": "code",
   "execution_count": 1,
   "metadata": {},
   "outputs": [],
   "source": [
    "import numpy as np\n",
    "import pandas as pd\n",
    "import matplotlib.pyplot as plt\n",
    "import seaborn as sns"
   ]
  },
  {
   "cell_type": "code",
   "execution_count": 3,
   "metadata": {},
   "outputs": [],
   "source": [
    "ratings = pd.read_csv('https://s3-us-west-2.amazonaws.com/recommender-tutorial/ratings.csv')"
   ]
  },
  {
   "cell_type": "code",
   "execution_count": 4,
   "metadata": {},
   "outputs": [],
   "source": [
    "movies = pd.read_csv('https://s3-us-west-2.amazonaws.com/recommender-tutorial/movies.csv')"
   ]
  },
  {
   "cell_type": "code",
   "execution_count": null,
   "metadata": {},
   "outputs": [],
   "source": [
    "#Sprawdź:\n",
    "# - Liczbę wszystkich ocen\n",
    "# - Liczbę filmów w bazie\n",
    "# - Liczbę użytkowników\n",
    "# - Średnią liczbę ocen na użytkownika\n",
    "# - Średnią liczbę ocen na film\n",
    "# - Rozkład ocen"
   ]
  },
  {
   "cell_type": "code",
   "execution_count": 5,
   "metadata": {},
   "outputs": [
    {
     "name": "stdout",
     "output_type": "stream",
     "text": [
      "Liczba wszystkich ocen: 100836\n",
      "Liczba filmów w bazie: 9742\n",
      "Liczba użytkowników: 610\n",
      "Średnia liczba ocen na użytkownika: 165.30491803278687\n",
      "Średnia liczba ocen na film: 10.350646684459043\n",
      "Rozkład ocen:\n",
      "rating\n",
      "4.0    26818\n",
      "3.0    20047\n",
      "5.0    13211\n",
      "3.5    13136\n",
      "4.5     8551\n",
      "2.0     7551\n",
      "2.5     5550\n",
      "1.0     2811\n",
      "1.5     1791\n",
      "0.5     1370\n",
      "Name: count, dtype: int64\n"
     ]
    }
   ],
   "source": [
    "print('Liczba wszystkich ocen:', ratings.shape[0])\n",
    "print('Liczba filmów w bazie:', movies.shape[0])\n",
    "print('Liczba użytkowników:', ratings['userId'].nunique())\n",
    "print('Średnia liczba ocen na użytkownika:', ratings.shape[0] / ratings['userId'].nunique())\n",
    "print('Średnia liczba ocen na film:', ratings.shape[0] / movies.shape[0])\n",
    "print('Rozkład ocen:')\n",
    "print(ratings['rating'].value_counts())\n"
   ]
  }
 ],
 "metadata": {
  "kernelspec": {
   "display_name": "Python 3",
   "language": "python",
   "name": "python3"
  },
  "language_info": {
   "codemirror_mode": {
    "name": "ipython",
    "version": 3
   },
   "file_extension": ".py",
   "mimetype": "text/x-python",
   "name": "python",
   "nbconvert_exporter": "python",
   "pygments_lexer": "ipython3",
   "version": "3.12.2"
  }
 },
 "nbformat": 4,
 "nbformat_minor": 2
}
