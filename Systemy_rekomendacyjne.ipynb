{
  "nbformat": 4,
  "nbformat_minor": 0,
  "metadata": {
    "colab": {
      "provenance": [],
      "authorship_tag": "ABX9TyNtiydEMoPwjCDh/j1Zn4zz",
      "include_colab_link": true
    },
    "kernelspec": {
      "name": "python3",
      "display_name": "Python 3"
    },
    "language_info": {
      "name": "python"
    }
  },
  "cells": [
    {
      "cell_type": "markdown",
      "metadata": {
        "id": "view-in-github",
        "colab_type": "text"
      },
      "source": [
        "<a href=\"https://colab.research.google.com/github/UEPP40/PUM/blob/Dudziak/Systemy_rekomendacyjne.ipynb\" target=\"_parent\"><img src=\"https://colab.research.google.com/assets/colab-badge.svg\" alt=\"Open In Colab\"/></a>"
      ]
    },
    {
      "cell_type": "code",
      "execution_count": 1,
      "metadata": {
        "collapsed": true,
        "id": "ZodzLoC_q938"
      },
      "outputs": [],
      "source": [
        "import pandas as pd\n",
        "import numpy as np\n",
        "from mlxtend.frequent_patterns import apriori, association_rules\n",
        "from mlxtend.preprocessing import TransactionEncoder"
      ]
    },
    {
      "cell_type": "code",
      "source": [
        "df = pd.read_csv(\"GroceryStoreDataSet.csv\", header=None)\n",
        "df.head()"
      ],
      "metadata": {
        "colab": {
          "base_uri": "https://localhost:8080/",
          "height": 376
        },
        "id": "czZRXLDUsfLr",
        "outputId": "f86a0895-b654-42b2-d387-68ee5e3ea3f2"
      },
      "execution_count": 2,
      "outputs": [
        {
          "output_type": "stream",
          "name": "stderr",
          "text": [
            "/usr/local/lib/python3.10/dist-packages/ipykernel/ipkernel.py:283: DeprecationWarning: `should_run_async` will not call `transform_cell` automatically in the future. Please pass the result to `transformed_cell` argument and any exception that happen during thetransform in `preprocessing_exc_tuple` in IPython 7.17 and above.\n",
            "  and should_run_async(code)\n"
          ]
        },
        {
          "output_type": "error",
          "ename": "FileNotFoundError",
          "evalue": "[Errno 2] No such file or directory: 'GroceryStoreDataSet.csv'",
          "traceback": [
            "\u001b[0;31m---------------------------------------------------------------------------\u001b[0m",
            "\u001b[0;31mFileNotFoundError\u001b[0m                         Traceback (most recent call last)",
            "\u001b[0;32m<ipython-input-2-e5846e4e8019>\u001b[0m in \u001b[0;36m<cell line: 1>\u001b[0;34m()\u001b[0m\n\u001b[0;32m----> 1\u001b[0;31m \u001b[0mdf\u001b[0m \u001b[0;34m=\u001b[0m \u001b[0mpd\u001b[0m\u001b[0;34m.\u001b[0m\u001b[0mread_csv\u001b[0m\u001b[0;34m(\u001b[0m\u001b[0;34m\"GroceryStoreDataSet.csv\"\u001b[0m\u001b[0;34m,\u001b[0m \u001b[0mheader\u001b[0m\u001b[0;34m=\u001b[0m\u001b[0;32mNone\u001b[0m\u001b[0;34m)\u001b[0m\u001b[0;34m\u001b[0m\u001b[0;34m\u001b[0m\u001b[0m\n\u001b[0m\u001b[1;32m      2\u001b[0m \u001b[0mdf\u001b[0m\u001b[0;34m.\u001b[0m\u001b[0mhead\u001b[0m\u001b[0;34m(\u001b[0m\u001b[0;34m)\u001b[0m\u001b[0;34m\u001b[0m\u001b[0;34m\u001b[0m\u001b[0m\n",
            "\u001b[0;32m/usr/local/lib/python3.10/dist-packages/pandas/io/parsers/readers.py\u001b[0m in \u001b[0;36mread_csv\u001b[0;34m(filepath_or_buffer, sep, delimiter, header, names, index_col, usecols, dtype, engine, converters, true_values, false_values, skipinitialspace, skiprows, skipfooter, nrows, na_values, keep_default_na, na_filter, verbose, skip_blank_lines, parse_dates, infer_datetime_format, keep_date_col, date_parser, date_format, dayfirst, cache_dates, iterator, chunksize, compression, thousands, decimal, lineterminator, quotechar, quoting, doublequote, escapechar, comment, encoding, encoding_errors, dialect, on_bad_lines, delim_whitespace, low_memory, memory_map, float_precision, storage_options, dtype_backend)\u001b[0m\n\u001b[1;32m    910\u001b[0m     \u001b[0mkwds\u001b[0m\u001b[0;34m.\u001b[0m\u001b[0mupdate\u001b[0m\u001b[0;34m(\u001b[0m\u001b[0mkwds_defaults\u001b[0m\u001b[0;34m)\u001b[0m\u001b[0;34m\u001b[0m\u001b[0;34m\u001b[0m\u001b[0m\n\u001b[1;32m    911\u001b[0m \u001b[0;34m\u001b[0m\u001b[0m\n\u001b[0;32m--> 912\u001b[0;31m     \u001b[0;32mreturn\u001b[0m \u001b[0m_read\u001b[0m\u001b[0;34m(\u001b[0m\u001b[0mfilepath_or_buffer\u001b[0m\u001b[0;34m,\u001b[0m \u001b[0mkwds\u001b[0m\u001b[0;34m)\u001b[0m\u001b[0;34m\u001b[0m\u001b[0;34m\u001b[0m\u001b[0m\n\u001b[0m\u001b[1;32m    913\u001b[0m \u001b[0;34m\u001b[0m\u001b[0m\n\u001b[1;32m    914\u001b[0m \u001b[0;34m\u001b[0m\u001b[0m\n",
            "\u001b[0;32m/usr/local/lib/python3.10/dist-packages/pandas/io/parsers/readers.py\u001b[0m in \u001b[0;36m_read\u001b[0;34m(filepath_or_buffer, kwds)\u001b[0m\n\u001b[1;32m    575\u001b[0m \u001b[0;34m\u001b[0m\u001b[0m\n\u001b[1;32m    576\u001b[0m     \u001b[0;31m# Create the parser.\u001b[0m\u001b[0;34m\u001b[0m\u001b[0;34m\u001b[0m\u001b[0m\n\u001b[0;32m--> 577\u001b[0;31m     \u001b[0mparser\u001b[0m \u001b[0;34m=\u001b[0m \u001b[0mTextFileReader\u001b[0m\u001b[0;34m(\u001b[0m\u001b[0mfilepath_or_buffer\u001b[0m\u001b[0;34m,\u001b[0m \u001b[0;34m**\u001b[0m\u001b[0mkwds\u001b[0m\u001b[0;34m)\u001b[0m\u001b[0;34m\u001b[0m\u001b[0;34m\u001b[0m\u001b[0m\n\u001b[0m\u001b[1;32m    578\u001b[0m \u001b[0;34m\u001b[0m\u001b[0m\n\u001b[1;32m    579\u001b[0m     \u001b[0;32mif\u001b[0m \u001b[0mchunksize\u001b[0m \u001b[0;32mor\u001b[0m \u001b[0miterator\u001b[0m\u001b[0;34m:\u001b[0m\u001b[0;34m\u001b[0m\u001b[0;34m\u001b[0m\u001b[0m\n",
            "\u001b[0;32m/usr/local/lib/python3.10/dist-packages/pandas/io/parsers/readers.py\u001b[0m in \u001b[0;36m__init__\u001b[0;34m(self, f, engine, **kwds)\u001b[0m\n\u001b[1;32m   1405\u001b[0m \u001b[0;34m\u001b[0m\u001b[0m\n\u001b[1;32m   1406\u001b[0m         \u001b[0mself\u001b[0m\u001b[0;34m.\u001b[0m\u001b[0mhandles\u001b[0m\u001b[0;34m:\u001b[0m \u001b[0mIOHandles\u001b[0m \u001b[0;34m|\u001b[0m \u001b[0;32mNone\u001b[0m \u001b[0;34m=\u001b[0m \u001b[0;32mNone\u001b[0m\u001b[0;34m\u001b[0m\u001b[0;34m\u001b[0m\u001b[0m\n\u001b[0;32m-> 1407\u001b[0;31m         \u001b[0mself\u001b[0m\u001b[0;34m.\u001b[0m\u001b[0m_engine\u001b[0m \u001b[0;34m=\u001b[0m \u001b[0mself\u001b[0m\u001b[0;34m.\u001b[0m\u001b[0m_make_engine\u001b[0m\u001b[0;34m(\u001b[0m\u001b[0mf\u001b[0m\u001b[0;34m,\u001b[0m \u001b[0mself\u001b[0m\u001b[0;34m.\u001b[0m\u001b[0mengine\u001b[0m\u001b[0;34m)\u001b[0m\u001b[0;34m\u001b[0m\u001b[0;34m\u001b[0m\u001b[0m\n\u001b[0m\u001b[1;32m   1408\u001b[0m \u001b[0;34m\u001b[0m\u001b[0m\n\u001b[1;32m   1409\u001b[0m     \u001b[0;32mdef\u001b[0m \u001b[0mclose\u001b[0m\u001b[0;34m(\u001b[0m\u001b[0mself\u001b[0m\u001b[0;34m)\u001b[0m \u001b[0;34m->\u001b[0m \u001b[0;32mNone\u001b[0m\u001b[0;34m:\u001b[0m\u001b[0;34m\u001b[0m\u001b[0;34m\u001b[0m\u001b[0m\n",
            "\u001b[0;32m/usr/local/lib/python3.10/dist-packages/pandas/io/parsers/readers.py\u001b[0m in \u001b[0;36m_make_engine\u001b[0;34m(self, f, engine)\u001b[0m\n\u001b[1;32m   1659\u001b[0m                 \u001b[0;32mif\u001b[0m \u001b[0;34m\"b\"\u001b[0m \u001b[0;32mnot\u001b[0m \u001b[0;32min\u001b[0m \u001b[0mmode\u001b[0m\u001b[0;34m:\u001b[0m\u001b[0;34m\u001b[0m\u001b[0;34m\u001b[0m\u001b[0m\n\u001b[1;32m   1660\u001b[0m                     \u001b[0mmode\u001b[0m \u001b[0;34m+=\u001b[0m \u001b[0;34m\"b\"\u001b[0m\u001b[0;34m\u001b[0m\u001b[0;34m\u001b[0m\u001b[0m\n\u001b[0;32m-> 1661\u001b[0;31m             self.handles = get_handle(\n\u001b[0m\u001b[1;32m   1662\u001b[0m                 \u001b[0mf\u001b[0m\u001b[0;34m,\u001b[0m\u001b[0;34m\u001b[0m\u001b[0;34m\u001b[0m\u001b[0m\n\u001b[1;32m   1663\u001b[0m                 \u001b[0mmode\u001b[0m\u001b[0;34m,\u001b[0m\u001b[0;34m\u001b[0m\u001b[0;34m\u001b[0m\u001b[0m\n",
            "\u001b[0;32m/usr/local/lib/python3.10/dist-packages/pandas/io/common.py\u001b[0m in \u001b[0;36mget_handle\u001b[0;34m(path_or_buf, mode, encoding, compression, memory_map, is_text, errors, storage_options)\u001b[0m\n\u001b[1;32m    857\u001b[0m         \u001b[0;32mif\u001b[0m \u001b[0mioargs\u001b[0m\u001b[0;34m.\u001b[0m\u001b[0mencoding\u001b[0m \u001b[0;32mand\u001b[0m \u001b[0;34m\"b\"\u001b[0m \u001b[0;32mnot\u001b[0m \u001b[0;32min\u001b[0m \u001b[0mioargs\u001b[0m\u001b[0;34m.\u001b[0m\u001b[0mmode\u001b[0m\u001b[0;34m:\u001b[0m\u001b[0;34m\u001b[0m\u001b[0;34m\u001b[0m\u001b[0m\n\u001b[1;32m    858\u001b[0m             \u001b[0;31m# Encoding\u001b[0m\u001b[0;34m\u001b[0m\u001b[0;34m\u001b[0m\u001b[0m\n\u001b[0;32m--> 859\u001b[0;31m             handle = open(\n\u001b[0m\u001b[1;32m    860\u001b[0m                 \u001b[0mhandle\u001b[0m\u001b[0;34m,\u001b[0m\u001b[0;34m\u001b[0m\u001b[0;34m\u001b[0m\u001b[0m\n\u001b[1;32m    861\u001b[0m                 \u001b[0mioargs\u001b[0m\u001b[0;34m.\u001b[0m\u001b[0mmode\u001b[0m\u001b[0;34m,\u001b[0m\u001b[0;34m\u001b[0m\u001b[0;34m\u001b[0m\u001b[0m\n",
            "\u001b[0;31mFileNotFoundError\u001b[0m: [Errno 2] No such file or directory: 'GroceryStoreDataSet.csv'"
          ]
        }
      ]
    },
    {
      "cell_type": "code",
      "source": [
        "list_of_lists = [row.split(',') for row in df[0]]"
      ],
      "metadata": {
        "id": "RJV0zAK6uExa"
      },
      "execution_count": null,
      "outputs": []
    },
    {
      "cell_type": "code",
      "source": [
        "list_of_lists"
      ],
      "metadata": {
        "id": "v-fg4r9owFVB",
        "collapsed": true
      },
      "execution_count": null,
      "outputs": []
    },
    {
      "cell_type": "code",
      "source": [
        "te = TransactionEncoder()\n",
        "te_ary = te.fit(list_of_lists).transform(list_of_lists)\n",
        "te_ary"
      ],
      "metadata": {
        "id": "2OTNjlLBrjD5",
        "collapsed": true
      },
      "execution_count": null,
      "outputs": []
    },
    {
      "cell_type": "code",
      "source": [
        "df = pd.DataFrame(te_ary, columns = te.columns_)\n",
        "df"
      ],
      "metadata": {
        "collapsed": true,
        "id": "Eh08Z8ZpwWUQ"
      },
      "execution_count": null,
      "outputs": []
    },
    {
      "cell_type": "code",
      "source": [
        "# zamiana bool na int\n",
        "df.replace({True: 1, False: 0}, inplace=True)\n",
        "df.head()"
      ],
      "metadata": {
        "id": "j58Qhqphw6Df"
      },
      "execution_count": null,
      "outputs": []
    },
    {
      "cell_type": "code",
      "source": [
        "supp = apriori(df, min_support = 0.15, use_colnames = True).sort_values(by = 'support', ascending = False)"
      ],
      "metadata": {
        "id": "FA_6QRlbyLIp"
      },
      "execution_count": null,
      "outputs": []
    },
    {
      "cell_type": "code",
      "source": [
        "supp"
      ],
      "metadata": {
        "id": "3VWzBrfUydkX"
      },
      "execution_count": null,
      "outputs": []
    },
    {
      "cell_type": "code",
      "source": [
        "conf = association_rules(supp, metric=\"confidence\", min_threshold=0.05).sort_values(by = 'confidence', ascending = False)"
      ],
      "metadata": {
        "id": "ARn8HEU2yhZX"
      },
      "execution_count": null,
      "outputs": []
    },
    {
      "cell_type": "code",
      "source": [
        "conf"
      ],
      "metadata": {
        "id": "MqQm-DHlzHDn"
      },
      "execution_count": null,
      "outputs": []
    },
    {
      "cell_type": "markdown",
      "source": [
        "Rekomendacja Filmów"
      ],
      "metadata": {
        "id": "lEhbbW19J4TL"
      }
    },
    {
      "cell_type": "code",
      "source": [
        "# zaimportowanie i wczytanie danych\n",
        "ratings = pd.read_csv(\"https://s3-us-west-2.amazonaws.com/recommender-tutorial/ratings.csv\")\n",
        "movies = pd.read_csv(\"https://s3-us-west-2.amazonaws.com/recommender-tutorial/movies.csv\")"
      ],
      "metadata": {
        "colab": {
          "base_uri": "https://localhost:8080/"
        },
        "id": "YguihUFCJsF5",
        "outputId": "7b213026-da91-4d98-bd39-390b4bf1fabc"
      },
      "execution_count": 3,
      "outputs": [
        {
          "output_type": "stream",
          "name": "stderr",
          "text": [
            "/usr/local/lib/python3.10/dist-packages/ipykernel/ipkernel.py:283: DeprecationWarning: `should_run_async` will not call `transform_cell` automatically in the future. Please pass the result to `transformed_cell` argument and any exception that happen during thetransform in `preprocessing_exc_tuple` in IPython 7.17 and above.\n",
            "  and should_run_async(code)\n"
          ]
        }
      ]
    },
    {
      "cell_type": "code",
      "source": [
        "ratings.head()"
      ],
      "metadata": {
        "colab": {
          "base_uri": "https://localhost:8080/",
          "height": 261
        },
        "id": "fqYTJw9EKhtG",
        "outputId": "4d538620-9a41-4acd-9dcc-8dd212124739"
      },
      "execution_count": 4,
      "outputs": [
        {
          "output_type": "stream",
          "name": "stderr",
          "text": [
            "/usr/local/lib/python3.10/dist-packages/ipykernel/ipkernel.py:283: DeprecationWarning: `should_run_async` will not call `transform_cell` automatically in the future. Please pass the result to `transformed_cell` argument and any exception that happen during thetransform in `preprocessing_exc_tuple` in IPython 7.17 and above.\n",
            "  and should_run_async(code)\n"
          ]
        },
        {
          "output_type": "execute_result",
          "data": {
            "text/plain": [
              "   userId  movieId  rating  timestamp\n",
              "0       1        1     4.0  964982703\n",
              "1       1        3     4.0  964981247\n",
              "2       1        6     4.0  964982224\n",
              "3       1       47     5.0  964983815\n",
              "4       1       50     5.0  964982931"
            ],
            "text/html": [
              "\n",
              "  <div id=\"df-cc56c62f-f59e-4255-b7fa-70acf9be4b14\" class=\"colab-df-container\">\n",
              "    <div>\n",
              "<style scoped>\n",
              "    .dataframe tbody tr th:only-of-type {\n",
              "        vertical-align: middle;\n",
              "    }\n",
              "\n",
              "    .dataframe tbody tr th {\n",
              "        vertical-align: top;\n",
              "    }\n",
              "\n",
              "    .dataframe thead th {\n",
              "        text-align: right;\n",
              "    }\n",
              "</style>\n",
              "<table border=\"1\" class=\"dataframe\">\n",
              "  <thead>\n",
              "    <tr style=\"text-align: right;\">\n",
              "      <th></th>\n",
              "      <th>userId</th>\n",
              "      <th>movieId</th>\n",
              "      <th>rating</th>\n",
              "      <th>timestamp</th>\n",
              "    </tr>\n",
              "  </thead>\n",
              "  <tbody>\n",
              "    <tr>\n",
              "      <th>0</th>\n",
              "      <td>1</td>\n",
              "      <td>1</td>\n",
              "      <td>4.0</td>\n",
              "      <td>964982703</td>\n",
              "    </tr>\n",
              "    <tr>\n",
              "      <th>1</th>\n",
              "      <td>1</td>\n",
              "      <td>3</td>\n",
              "      <td>4.0</td>\n",
              "      <td>964981247</td>\n",
              "    </tr>\n",
              "    <tr>\n",
              "      <th>2</th>\n",
              "      <td>1</td>\n",
              "      <td>6</td>\n",
              "      <td>4.0</td>\n",
              "      <td>964982224</td>\n",
              "    </tr>\n",
              "    <tr>\n",
              "      <th>3</th>\n",
              "      <td>1</td>\n",
              "      <td>47</td>\n",
              "      <td>5.0</td>\n",
              "      <td>964983815</td>\n",
              "    </tr>\n",
              "    <tr>\n",
              "      <th>4</th>\n",
              "      <td>1</td>\n",
              "      <td>50</td>\n",
              "      <td>5.0</td>\n",
              "      <td>964982931</td>\n",
              "    </tr>\n",
              "  </tbody>\n",
              "</table>\n",
              "</div>\n",
              "    <div class=\"colab-df-buttons\">\n",
              "\n",
              "  <div class=\"colab-df-container\">\n",
              "    <button class=\"colab-df-convert\" onclick=\"convertToInteractive('df-cc56c62f-f59e-4255-b7fa-70acf9be4b14')\"\n",
              "            title=\"Convert this dataframe to an interactive table.\"\n",
              "            style=\"display:none;\">\n",
              "\n",
              "  <svg xmlns=\"http://www.w3.org/2000/svg\" height=\"24px\" viewBox=\"0 -960 960 960\">\n",
              "    <path d=\"M120-120v-720h720v720H120Zm60-500h600v-160H180v160Zm220 220h160v-160H400v160Zm0 220h160v-160H400v160ZM180-400h160v-160H180v160Zm440 0h160v-160H620v160ZM180-180h160v-160H180v160Zm440 0h160v-160H620v160Z\"/>\n",
              "  </svg>\n",
              "    </button>\n",
              "\n",
              "  <style>\n",
              "    .colab-df-container {\n",
              "      display:flex;\n",
              "      gap: 12px;\n",
              "    }\n",
              "\n",
              "    .colab-df-convert {\n",
              "      background-color: #E8F0FE;\n",
              "      border: none;\n",
              "      border-radius: 50%;\n",
              "      cursor: pointer;\n",
              "      display: none;\n",
              "      fill: #1967D2;\n",
              "      height: 32px;\n",
              "      padding: 0 0 0 0;\n",
              "      width: 32px;\n",
              "    }\n",
              "\n",
              "    .colab-df-convert:hover {\n",
              "      background-color: #E2EBFA;\n",
              "      box-shadow: 0px 1px 2px rgba(60, 64, 67, 0.3), 0px 1px 3px 1px rgba(60, 64, 67, 0.15);\n",
              "      fill: #174EA6;\n",
              "    }\n",
              "\n",
              "    .colab-df-buttons div {\n",
              "      margin-bottom: 4px;\n",
              "    }\n",
              "\n",
              "    [theme=dark] .colab-df-convert {\n",
              "      background-color: #3B4455;\n",
              "      fill: #D2E3FC;\n",
              "    }\n",
              "\n",
              "    [theme=dark] .colab-df-convert:hover {\n",
              "      background-color: #434B5C;\n",
              "      box-shadow: 0px 1px 3px 1px rgba(0, 0, 0, 0.15);\n",
              "      filter: drop-shadow(0px 1px 2px rgba(0, 0, 0, 0.3));\n",
              "      fill: #FFFFFF;\n",
              "    }\n",
              "  </style>\n",
              "\n",
              "    <script>\n",
              "      const buttonEl =\n",
              "        document.querySelector('#df-cc56c62f-f59e-4255-b7fa-70acf9be4b14 button.colab-df-convert');\n",
              "      buttonEl.style.display =\n",
              "        google.colab.kernel.accessAllowed ? 'block' : 'none';\n",
              "\n",
              "      async function convertToInteractive(key) {\n",
              "        const element = document.querySelector('#df-cc56c62f-f59e-4255-b7fa-70acf9be4b14');\n",
              "        const dataTable =\n",
              "          await google.colab.kernel.invokeFunction('convertToInteractive',\n",
              "                                                    [key], {});\n",
              "        if (!dataTable) return;\n",
              "\n",
              "        const docLinkHtml = 'Like what you see? Visit the ' +\n",
              "          '<a target=\"_blank\" href=https://colab.research.google.com/notebooks/data_table.ipynb>data table notebook</a>'\n",
              "          + ' to learn more about interactive tables.';\n",
              "        element.innerHTML = '';\n",
              "        dataTable['output_type'] = 'display_data';\n",
              "        await google.colab.output.renderOutput(dataTable, element);\n",
              "        const docLink = document.createElement('div');\n",
              "        docLink.innerHTML = docLinkHtml;\n",
              "        element.appendChild(docLink);\n",
              "      }\n",
              "    </script>\n",
              "  </div>\n",
              "\n",
              "\n",
              "<div id=\"df-767de64d-4a6e-4d89-b349-7d8ff067b242\">\n",
              "  <button class=\"colab-df-quickchart\" onclick=\"quickchart('df-767de64d-4a6e-4d89-b349-7d8ff067b242')\"\n",
              "            title=\"Suggest charts\"\n",
              "            style=\"display:none;\">\n",
              "\n",
              "<svg xmlns=\"http://www.w3.org/2000/svg\" height=\"24px\"viewBox=\"0 0 24 24\"\n",
              "     width=\"24px\">\n",
              "    <g>\n",
              "        <path d=\"M19 3H5c-1.1 0-2 .9-2 2v14c0 1.1.9 2 2 2h14c1.1 0 2-.9 2-2V5c0-1.1-.9-2-2-2zM9 17H7v-7h2v7zm4 0h-2V7h2v10zm4 0h-2v-4h2v4z\"/>\n",
              "    </g>\n",
              "</svg>\n",
              "  </button>\n",
              "\n",
              "<style>\n",
              "  .colab-df-quickchart {\n",
              "      --bg-color: #E8F0FE;\n",
              "      --fill-color: #1967D2;\n",
              "      --hover-bg-color: #E2EBFA;\n",
              "      --hover-fill-color: #174EA6;\n",
              "      --disabled-fill-color: #AAA;\n",
              "      --disabled-bg-color: #DDD;\n",
              "  }\n",
              "\n",
              "  [theme=dark] .colab-df-quickchart {\n",
              "      --bg-color: #3B4455;\n",
              "      --fill-color: #D2E3FC;\n",
              "      --hover-bg-color: #434B5C;\n",
              "      --hover-fill-color: #FFFFFF;\n",
              "      --disabled-bg-color: #3B4455;\n",
              "      --disabled-fill-color: #666;\n",
              "  }\n",
              "\n",
              "  .colab-df-quickchart {\n",
              "    background-color: var(--bg-color);\n",
              "    border: none;\n",
              "    border-radius: 50%;\n",
              "    cursor: pointer;\n",
              "    display: none;\n",
              "    fill: var(--fill-color);\n",
              "    height: 32px;\n",
              "    padding: 0;\n",
              "    width: 32px;\n",
              "  }\n",
              "\n",
              "  .colab-df-quickchart:hover {\n",
              "    background-color: var(--hover-bg-color);\n",
              "    box-shadow: 0 1px 2px rgba(60, 64, 67, 0.3), 0 1px 3px 1px rgba(60, 64, 67, 0.15);\n",
              "    fill: var(--button-hover-fill-color);\n",
              "  }\n",
              "\n",
              "  .colab-df-quickchart-complete:disabled,\n",
              "  .colab-df-quickchart-complete:disabled:hover {\n",
              "    background-color: var(--disabled-bg-color);\n",
              "    fill: var(--disabled-fill-color);\n",
              "    box-shadow: none;\n",
              "  }\n",
              "\n",
              "  .colab-df-spinner {\n",
              "    border: 2px solid var(--fill-color);\n",
              "    border-color: transparent;\n",
              "    border-bottom-color: var(--fill-color);\n",
              "    animation:\n",
              "      spin 1s steps(1) infinite;\n",
              "  }\n",
              "\n",
              "  @keyframes spin {\n",
              "    0% {\n",
              "      border-color: transparent;\n",
              "      border-bottom-color: var(--fill-color);\n",
              "      border-left-color: var(--fill-color);\n",
              "    }\n",
              "    20% {\n",
              "      border-color: transparent;\n",
              "      border-left-color: var(--fill-color);\n",
              "      border-top-color: var(--fill-color);\n",
              "    }\n",
              "    30% {\n",
              "      border-color: transparent;\n",
              "      border-left-color: var(--fill-color);\n",
              "      border-top-color: var(--fill-color);\n",
              "      border-right-color: var(--fill-color);\n",
              "    }\n",
              "    40% {\n",
              "      border-color: transparent;\n",
              "      border-right-color: var(--fill-color);\n",
              "      border-top-color: var(--fill-color);\n",
              "    }\n",
              "    60% {\n",
              "      border-color: transparent;\n",
              "      border-right-color: var(--fill-color);\n",
              "    }\n",
              "    80% {\n",
              "      border-color: transparent;\n",
              "      border-right-color: var(--fill-color);\n",
              "      border-bottom-color: var(--fill-color);\n",
              "    }\n",
              "    90% {\n",
              "      border-color: transparent;\n",
              "      border-bottom-color: var(--fill-color);\n",
              "    }\n",
              "  }\n",
              "</style>\n",
              "\n",
              "  <script>\n",
              "    async function quickchart(key) {\n",
              "      const quickchartButtonEl =\n",
              "        document.querySelector('#' + key + ' button');\n",
              "      quickchartButtonEl.disabled = true;  // To prevent multiple clicks.\n",
              "      quickchartButtonEl.classList.add('colab-df-spinner');\n",
              "      try {\n",
              "        const charts = await google.colab.kernel.invokeFunction(\n",
              "            'suggestCharts', [key], {});\n",
              "      } catch (error) {\n",
              "        console.error('Error during call to suggestCharts:', error);\n",
              "      }\n",
              "      quickchartButtonEl.classList.remove('colab-df-spinner');\n",
              "      quickchartButtonEl.classList.add('colab-df-quickchart-complete');\n",
              "    }\n",
              "    (() => {\n",
              "      let quickchartButtonEl =\n",
              "        document.querySelector('#df-767de64d-4a6e-4d89-b349-7d8ff067b242 button');\n",
              "      quickchartButtonEl.style.display =\n",
              "        google.colab.kernel.accessAllowed ? 'block' : 'none';\n",
              "    })();\n",
              "  </script>\n",
              "</div>\n",
              "    </div>\n",
              "  </div>\n"
            ],
            "application/vnd.google.colaboratory.intrinsic+json": {
              "type": "dataframe",
              "variable_name": "ratings"
            }
          },
          "metadata": {},
          "execution_count": 4
        }
      ]
    },
    {
      "cell_type": "code",
      "source": [
        "movies.head()"
      ],
      "metadata": {
        "id": "6x9dzX0SKska"
      },
      "execution_count": null,
      "outputs": []
    },
    {
      "cell_type": "code",
      "source": [
        "# Łączymy oba zbiory w jeden, dzięki wspólnej kolumnie movieId\n",
        "df = pd.merge(ratings, movies, on='movieId')"
      ],
      "metadata": {
        "colab": {
          "base_uri": "https://localhost:8080/"
        },
        "id": "30zZo6fDKxtg",
        "outputId": "0c9358de-5880-4ed8-dda3-07ffd46cf881"
      },
      "execution_count": 6,
      "outputs": [
        {
          "output_type": "stream",
          "name": "stderr",
          "text": [
            "/usr/local/lib/python3.10/dist-packages/ipykernel/ipkernel.py:283: DeprecationWarning: `should_run_async` will not call `transform_cell` automatically in the future. Please pass the result to `transformed_cell` argument and any exception that happen during thetransform in `preprocessing_exc_tuple` in IPython 7.17 and above.\n",
            "  and should_run_async(code)\n"
          ]
        }
      ]
    },
    {
      "cell_type": "markdown",
      "source": [
        "Sprawdź:\n",
        "- Liczbę wszystkich ocen\n",
        "- Liczbę filmów w bazie\n",
        "- Liczbę użytkowników\n",
        "- Średnią liczbę ocen na użytkownika\n",
        "- Średnią liczbę ocen na film\n",
        "- Rozkład ocen"
      ],
      "metadata": {
        "id": "Jv351ul7K8w8"
      }
    },
    {
      "cell_type": "code",
      "source": [
        "rating_sum = df['rating'].count()\n",
        "rating_sum"
      ],
      "metadata": {
        "colab": {
          "base_uri": "https://localhost:8080/"
        },
        "id": "utcODn8ZK43N",
        "outputId": "c07fc1d0-c326-41b7-9d80-3c68c3555c3a"
      },
      "execution_count": 7,
      "outputs": [
        {
          "output_type": "stream",
          "name": "stderr",
          "text": [
            "/usr/local/lib/python3.10/dist-packages/ipykernel/ipkernel.py:283: DeprecationWarning: `should_run_async` will not call `transform_cell` automatically in the future. Please pass the result to `transformed_cell` argument and any exception that happen during thetransform in `preprocessing_exc_tuple` in IPython 7.17 and above.\n",
            "  and should_run_async(code)\n"
          ]
        },
        {
          "output_type": "execute_result",
          "data": {
            "text/plain": [
              "100836"
            ]
          },
          "metadata": {},
          "execution_count": 7
        }
      ]
    },
    {
      "cell_type": "code",
      "source": [
        "movies_sum = df['title'].nunique()\n",
        "movies_sum"
      ],
      "metadata": {
        "colab": {
          "base_uri": "https://localhost:8080/"
        },
        "id": "ZMz1wjjMLQ-x",
        "outputId": "cef4ee55-f499-48a2-aea5-aa37cd074add"
      },
      "execution_count": 8,
      "outputs": [
        {
          "output_type": "stream",
          "name": "stderr",
          "text": [
            "/usr/local/lib/python3.10/dist-packages/ipykernel/ipkernel.py:283: DeprecationWarning: `should_run_async` will not call `transform_cell` automatically in the future. Please pass the result to `transformed_cell` argument and any exception that happen during thetransform in `preprocessing_exc_tuple` in IPython 7.17 and above.\n",
            "  and should_run_async(code)\n"
          ]
        },
        {
          "output_type": "execute_result",
          "data": {
            "text/plain": [
              "9719"
            ]
          },
          "metadata": {},
          "execution_count": 8
        }
      ]
    },
    {
      "cell_type": "code",
      "source": [
        "users_sum = df['userId'].nunique()\n",
        "users_sum"
      ],
      "metadata": {
        "colab": {
          "base_uri": "https://localhost:8080/"
        },
        "id": "SGO6fIBuMmmn",
        "outputId": "f49d6f93-fea1-4ace-84ee-b0ee435f25bd"
      },
      "execution_count": 9,
      "outputs": [
        {
          "output_type": "stream",
          "name": "stderr",
          "text": [
            "/usr/local/lib/python3.10/dist-packages/ipykernel/ipkernel.py:283: DeprecationWarning: `should_run_async` will not call `transform_cell` automatically in the future. Please pass the result to `transformed_cell` argument and any exception that happen during thetransform in `preprocessing_exc_tuple` in IPython 7.17 and above.\n",
            "  and should_run_async(code)\n"
          ]
        },
        {
          "output_type": "execute_result",
          "data": {
            "text/plain": [
              "610"
            ]
          },
          "metadata": {},
          "execution_count": 9
        }
      ]
    },
    {
      "cell_type": "code",
      "source": [
        "# Średnia liczba ocen na użytkownika\n",
        "avg_num_ratings = rating_sum / users_sum\n",
        "avg_num_ratings"
      ],
      "metadata": {
        "colab": {
          "base_uri": "https://localhost:8080/"
        },
        "id": "fQUemuosMzbo",
        "outputId": "31a788cd-e9c8-4d51-b376-3bad3f5eda71"
      },
      "execution_count": 10,
      "outputs": [
        {
          "output_type": "stream",
          "name": "stderr",
          "text": [
            "/usr/local/lib/python3.10/dist-packages/ipykernel/ipkernel.py:283: DeprecationWarning: `should_run_async` will not call `transform_cell` automatically in the future. Please pass the result to `transformed_cell` argument and any exception that happen during thetransform in `preprocessing_exc_tuple` in IPython 7.17 and above.\n",
            "  and should_run_async(code)\n"
          ]
        },
        {
          "output_type": "execute_result",
          "data": {
            "text/plain": [
              "165.30491803278687"
            ]
          },
          "metadata": {},
          "execution_count": 10
        }
      ]
    },
    {
      "cell_type": "code",
      "source": [
        "# Średnia liczba ocen na film\n",
        "avg_num_ratings_per_film = rating_sum / movies_sum\n",
        "avg_num_ratings_per_film"
      ],
      "metadata": {
        "id": "2CmJNRB7NXrB",
        "outputId": "112cd579-bc8f-4d4a-cdd4-1aeed13aef73",
        "colab": {
          "base_uri": "https://localhost:8080/"
        }
      },
      "execution_count": 11,
      "outputs": [
        {
          "output_type": "stream",
          "name": "stderr",
          "text": [
            "/usr/local/lib/python3.10/dist-packages/ipykernel/ipkernel.py:283: DeprecationWarning: `should_run_async` will not call `transform_cell` automatically in the future. Please pass the result to `transformed_cell` argument and any exception that happen during thetransform in `preprocessing_exc_tuple` in IPython 7.17 and above.\n",
            "  and should_run_async(code)\n"
          ]
        },
        {
          "output_type": "execute_result",
          "data": {
            "text/plain": [
              "10.375141475460438"
            ]
          },
          "metadata": {},
          "execution_count": 11
        }
      ]
    },
    {
      "cell_type": "code",
      "source": [
        "# Tworzymy słownik filmów\n",
        "movie_titles = dict(zip(movies['movieId'], movies['title']))\n",
        "movie_titles"
      ],
      "metadata": {
        "collapsed": true,
        "id": "e1nCc0tIOYVn",
        "outputId": "ab87be19-439d-4a6d-8ebf-f4b41761a954",
        "colab": {
          "base_uri": "https://localhost:8080/"
        }
      },
      "execution_count": 12,
      "outputs": [
        {
          "output_type": "stream",
          "name": "stderr",
          "text": [
            "/usr/local/lib/python3.10/dist-packages/ipykernel/ipkernel.py:283: DeprecationWarning: `should_run_async` will not call `transform_cell` automatically in the future. Please pass the result to `transformed_cell` argument and any exception that happen during thetransform in `preprocessing_exc_tuple` in IPython 7.17 and above.\n",
            "  and should_run_async(code)\n"
          ]
        },
        {
          "output_type": "execute_result",
          "data": {
            "text/plain": [
              "{1: 'Toy Story (1995)',\n",
              " 2: 'Jumanji (1995)',\n",
              " 3: 'Grumpier Old Men (1995)',\n",
              " 4: 'Waiting to Exhale (1995)',\n",
              " 5: 'Father of the Bride Part II (1995)',\n",
              " 6: 'Heat (1995)',\n",
              " 7: 'Sabrina (1995)',\n",
              " 8: 'Tom and Huck (1995)',\n",
              " 9: 'Sudden Death (1995)',\n",
              " 10: 'GoldenEye (1995)',\n",
              " 11: 'American President, The (1995)',\n",
              " 12: 'Dracula: Dead and Loving It (1995)',\n",
              " 13: 'Balto (1995)',\n",
              " 14: 'Nixon (1995)',\n",
              " 15: 'Cutthroat Island (1995)',\n",
              " 16: 'Casino (1995)',\n",
              " 17: 'Sense and Sensibility (1995)',\n",
              " 18: 'Four Rooms (1995)',\n",
              " 19: 'Ace Ventura: When Nature Calls (1995)',\n",
              " 20: 'Money Train (1995)',\n",
              " 21: 'Get Shorty (1995)',\n",
              " 22: 'Copycat (1995)',\n",
              " 23: 'Assassins (1995)',\n",
              " 24: 'Powder (1995)',\n",
              " 25: 'Leaving Las Vegas (1995)',\n",
              " 26: 'Othello (1995)',\n",
              " 27: 'Now and Then (1995)',\n",
              " 28: 'Persuasion (1995)',\n",
              " 29: 'City of Lost Children, The (Cité des enfants perdus, La) (1995)',\n",
              " 30: 'Shanghai Triad (Yao a yao yao dao waipo qiao) (1995)',\n",
              " 31: 'Dangerous Minds (1995)',\n",
              " 32: 'Twelve Monkeys (a.k.a. 12 Monkeys) (1995)',\n",
              " 34: 'Babe (1995)',\n",
              " 36: 'Dead Man Walking (1995)',\n",
              " 38: 'It Takes Two (1995)',\n",
              " 39: 'Clueless (1995)',\n",
              " 40: 'Cry, the Beloved Country (1995)',\n",
              " 41: 'Richard III (1995)',\n",
              " 42: 'Dead Presidents (1995)',\n",
              " 43: 'Restoration (1995)',\n",
              " 44: 'Mortal Kombat (1995)',\n",
              " 45: 'To Die For (1995)',\n",
              " 46: 'How to Make an American Quilt (1995)',\n",
              " 47: 'Seven (a.k.a. Se7en) (1995)',\n",
              " 48: 'Pocahontas (1995)',\n",
              " 49: 'When Night Is Falling (1995)',\n",
              " 50: 'Usual Suspects, The (1995)',\n",
              " 52: 'Mighty Aphrodite (1995)',\n",
              " 53: 'Lamerica (1994)',\n",
              " 54: 'Big Green, The (1995)',\n",
              " 55: 'Georgia (1995)',\n",
              " 57: 'Home for the Holidays (1995)',\n",
              " 58: 'Postman, The (Postino, Il) (1994)',\n",
              " 60: 'Indian in the Cupboard, The (1995)',\n",
              " 61: 'Eye for an Eye (1996)',\n",
              " 62: \"Mr. Holland's Opus (1995)\",\n",
              " 63: \"Don't Be a Menace to South Central While Drinking Your Juice in the Hood (1996)\",\n",
              " 64: 'Two if by Sea (1996)',\n",
              " 65: 'Bio-Dome (1996)',\n",
              " 66: 'Lawnmower Man 2: Beyond Cyberspace (1996)',\n",
              " 68: 'French Twist (Gazon maudit) (1995)',\n",
              " 69: 'Friday (1995)',\n",
              " 70: 'From Dusk Till Dawn (1996)',\n",
              " 71: 'Fair Game (1995)',\n",
              " 72: 'Kicking and Screaming (1995)',\n",
              " 73: 'Misérables, Les (1995)',\n",
              " 74: 'Bed of Roses (1996)',\n",
              " 75: 'Big Bully (1996)',\n",
              " 76: 'Screamers (1995)',\n",
              " 77: 'Nico Icon (1995)',\n",
              " 78: 'Crossing Guard, The (1995)',\n",
              " 79: 'Juror, The (1996)',\n",
              " 80: 'White Balloon, The (Badkonake sefid) (1995)',\n",
              " 81: \"Things to Do in Denver When You're Dead (1995)\",\n",
              " 82: \"Antonia's Line (Antonia) (1995)\",\n",
              " 83: 'Once Upon a Time... When We Were Colored (1995)',\n",
              " 85: 'Angels and Insects (1995)',\n",
              " 86: 'White Squall (1996)',\n",
              " 87: 'Dunston Checks In (1996)',\n",
              " 88: 'Black Sheep (1996)',\n",
              " 89: 'Nick of Time (1995)',\n",
              " 92: 'Mary Reilly (1996)',\n",
              " 93: 'Vampire in Brooklyn (1995)',\n",
              " 94: 'Beautiful Girls (1996)',\n",
              " 95: 'Broken Arrow (1996)',\n",
              " 96: 'In the Bleak Midwinter (1995)',\n",
              " 97: 'Hate (Haine, La) (1995)',\n",
              " 99: 'Heidi Fleiss: Hollywood Madam (1995)',\n",
              " 100: 'City Hall (1996)',\n",
              " 101: 'Bottle Rocket (1996)',\n",
              " 102: 'Mr. Wrong (1996)',\n",
              " 103: 'Unforgettable (1996)',\n",
              " 104: 'Happy Gilmore (1996)',\n",
              " 105: 'Bridges of Madison County, The (1995)',\n",
              " 106: 'Nobody Loves Me (Keiner liebt mich) (1994)',\n",
              " 107: 'Muppet Treasure Island (1996)',\n",
              " 108: 'Catwalk (1996)',\n",
              " 110: 'Braveheart (1995)',\n",
              " 111: 'Taxi Driver (1976)',\n",
              " 112: 'Rumble in the Bronx (Hont faan kui) (1995)',\n",
              " 113: 'Before and After (1996)',\n",
              " 116: 'Anne Frank Remembered (1995)',\n",
              " 117: \"Young Poisoner's Handbook, The (1995)\",\n",
              " 118: 'If Lucy Fell (1996)',\n",
              " 119: 'Steal Big, Steal Little (1995)',\n",
              " 121: 'Boys of St. Vincent, The (1992)',\n",
              " 122: 'Boomerang (1992)',\n",
              " 123: 'Chungking Express (Chung Hing sam lam) (1994)',\n",
              " 125: 'Flirting With Disaster (1996)',\n",
              " 126: 'NeverEnding Story III, The (1994)',\n",
              " 128: \"Jupiter's Wife (1994)\",\n",
              " 129: 'Pie in the Sky (1996)',\n",
              " 132: 'Jade (1995)',\n",
              " 135: 'Down Periscope (1996)',\n",
              " 137: 'Man of the Year (1995)',\n",
              " 140: 'Up Close and Personal (1996)',\n",
              " 141: 'Birdcage, The (1996)',\n",
              " 144: 'Brothers McMullen, The (1995)',\n",
              " 145: 'Bad Boys (1995)',\n",
              " 146: 'Amazing Panda Adventure, The (1995)',\n",
              " 147: 'Basketball Diaries, The (1995)',\n",
              " 148: 'Awfully Big Adventure, An (1995)',\n",
              " 149: 'Amateur (1994)',\n",
              " 150: 'Apollo 13 (1995)',\n",
              " 151: 'Rob Roy (1995)',\n",
              " 152: 'Addiction, The (1995)',\n",
              " 153: 'Batman Forever (1995)',\n",
              " 154: 'Beauty of the Day (Belle de jour) (1967)',\n",
              " 155: 'Beyond Rangoon (1995)',\n",
              " 156: 'Blue in the Face (1995)',\n",
              " 157: 'Canadian Bacon (1995)',\n",
              " 158: 'Casper (1995)',\n",
              " 159: 'Clockers (1995)',\n",
              " 160: 'Congo (1995)',\n",
              " 161: 'Crimson Tide (1995)',\n",
              " 162: 'Crumb (1994)',\n",
              " 163: 'Desperado (1995)',\n",
              " 164: 'Devil in a Blue Dress (1995)',\n",
              " 165: 'Die Hard: With a Vengeance (1995)',\n",
              " 166: 'Doom Generation, The (1995)',\n",
              " 168: 'First Knight (1995)',\n",
              " 169: 'Free Willy 2: The Adventure Home (1995)',\n",
              " 170: 'Hackers (1995)',\n",
              " 171: 'Jeffrey (1995)',\n",
              " 172: 'Johnny Mnemonic (1995)',\n",
              " 173: 'Judge Dredd (1995)',\n",
              " 174: 'Jury Duty (1995)',\n",
              " 175: 'Kids (1995)',\n",
              " 176: 'Living in Oblivion (1995)',\n",
              " 177: 'Lord of Illusions (1995)',\n",
              " 178: 'Love & Human Remains (1993)',\n",
              " 179: 'Mad Love (1995)',\n",
              " 180: 'Mallrats (1995)',\n",
              " 181: 'Mighty Morphin Power Rangers: The Movie (1995)',\n",
              " 183: 'Mute Witness (1994)',\n",
              " 184: 'Nadja (1994)',\n",
              " 185: 'Net, The (1995)',\n",
              " 186: 'Nine Months (1995)',\n",
              " 187: 'Party Girl (1995)',\n",
              " 188: 'Prophecy, The (1995)',\n",
              " 189: 'Reckless (1995)',\n",
              " 190: 'Safe (1995)',\n",
              " 191: 'Scarlet Letter, The (1995)',\n",
              " 193: 'Showgirls (1995)',\n",
              " 194: 'Smoke (1995)',\n",
              " 195: 'Something to Talk About (1995)',\n",
              " 196: 'Species (1995)',\n",
              " 198: 'Strange Days (1995)',\n",
              " 199: 'Umbrellas of Cherbourg, The (Parapluies de Cherbourg, Les) (1964)',\n",
              " 201: 'Three Wishes (1995)',\n",
              " 202: 'Total Eclipse (1995)',\n",
              " 203: 'To Wong Foo, Thanks for Everything! Julie Newmar (1995)',\n",
              " 204: 'Under Siege 2: Dark Territory (1995)',\n",
              " 205: 'Unstrung Heroes (1995)',\n",
              " 206: 'Unzipped (1995)',\n",
              " 207: 'Walk in the Clouds, A (1995)',\n",
              " 208: 'Waterworld (1995)',\n",
              " 209: \"White Man's Burden (1995)\",\n",
              " 210: 'Wild Bill (1995)',\n",
              " 211: 'Browning Version, The (1994)',\n",
              " 212: 'Bushwhacked (1995)',\n",
              " 213: 'Burnt by the Sun (Utomlyonnye solntsem) (1994)',\n",
              " 214: 'Before the Rain (Pred dozhdot) (1994)',\n",
              " 215: 'Before Sunrise (1995)',\n",
              " 216: 'Billy Madison (1995)',\n",
              " 217: 'Babysitter, The (1995)',\n",
              " 218: 'Boys on the Side (1995)',\n",
              " 219: 'Cure, The (1995)',\n",
              " 220: 'Castle Freak (1995)',\n",
              " 222: 'Circle of Friends (1995)',\n",
              " 223: 'Clerks (1994)',\n",
              " 224: 'Don Juan DeMarco (1995)',\n",
              " 225: 'Disclosure (1994)',\n",
              " 227: 'Drop Zone (1994)',\n",
              " 228: 'Destiny Turns on the Radio (1995)',\n",
              " 229: 'Death and the Maiden (1994)',\n",
              " 230: 'Dolores Claiborne (1995)',\n",
              " 231: 'Dumb & Dumber (Dumb and Dumber) (1994)',\n",
              " 232: 'Eat Drink Man Woman (Yin shi nan nu) (1994)',\n",
              " 233: 'Exotica (1994)',\n",
              " 234: 'Exit to Eden (1994)',\n",
              " 235: 'Ed Wood (1994)',\n",
              " 236: 'French Kiss (1995)',\n",
              " 237: 'Forget Paris (1995)',\n",
              " 238: 'Far From Home: The Adventures of Yellow Dog (1995)',\n",
              " 239: 'Goofy Movie, A (1995)',\n",
              " 240: 'Hideaway (1995)',\n",
              " 241: 'Fluke (1995)',\n",
              " 242: 'Farinelli: il castrato (1994)',\n",
              " 243: 'Gordy (1995)',\n",
              " 246: 'Hoop Dreams (1994)',\n",
              " 247: 'Heavenly Creatures (1994)',\n",
              " 248: 'Houseguest (1994)',\n",
              " 249: 'Immortal Beloved (1994)',\n",
              " 250: 'Heavyweights (Heavy Weights) (1995)',\n",
              " 251: 'Hunted, The (1995)',\n",
              " 252: 'I.Q. (1994)',\n",
              " 253: 'Interview with the Vampire: The Vampire Chronicles (1994)',\n",
              " 254: 'Jefferson in Paris (1995)',\n",
              " 255: 'Jerky Boys, The (1995)',\n",
              " 256: 'Junior (1994)',\n",
              " 257: 'Just Cause (1995)',\n",
              " 258: \"Kid in King Arthur's Court, A (1995)\",\n",
              " 259: 'Kiss of Death (1995)',\n",
              " 260: 'Star Wars: Episode IV - A New Hope (1977)',\n",
              " 261: 'Little Women (1994)',\n",
              " 262: 'Little Princess, A (1995)',\n",
              " 263: 'Ladybird Ladybird (1994)',\n",
              " 265: 'Like Water for Chocolate (Como agua para chocolate) (1992)',\n",
              " 266: 'Legends of the Fall (1994)',\n",
              " 267: 'Major Payne (1995)',\n",
              " 269: 'My Crazy Life (Mi vida loca) (1993)',\n",
              " 270: 'Love Affair (1994)',\n",
              " 271: 'Losing Isaiah (1995)',\n",
              " 272: 'Madness of King George, The (1994)',\n",
              " 273: \"Mary Shelley's Frankenstein (Frankenstein) (1994)\",\n",
              " 274: 'Man of the House (1995)',\n",
              " 275: 'Mixed Nuts (1994)',\n",
              " 276: 'Milk Money (1994)',\n",
              " 277: 'Miracle on 34th Street (1994)',\n",
              " 278: 'Miami Rhapsody (1995)',\n",
              " 279: 'My Family (1995)',\n",
              " 280: 'Murder in the First (1995)',\n",
              " 281: \"Nobody's Fool (1994)\",\n",
              " 282: 'Nell (1994)',\n",
              " 283: 'New Jersey Drive (1995)',\n",
              " 284: 'New York Cop (Nyû Yôku no koppu) (1993)',\n",
              " 285: 'Beyond Bedlam (1993)',\n",
              " 287: 'Nina Takes a Lover (1994)',\n",
              " 288: 'Natural Born Killers (1994)',\n",
              " 289: 'Only You (1994)',\n",
              " 290: 'Once Were Warriors (1994)',\n",
              " 291: 'Poison Ivy II (1996)',\n",
              " 292: 'Outbreak (1995)',\n",
              " 293: 'Léon: The Professional (a.k.a. The Professional) (Léon) (1994)',\n",
              " 294: 'Perez Family, The (1995)',\n",
              " 295: \"Pyromaniac's Love Story, A (1995)\",\n",
              " 296: 'Pulp Fiction (1994)',\n",
              " 298: 'Pushing Hands (Tui shou) (1992)',\n",
              " 299: 'Priest (1994)',\n",
              " 300: 'Quiz Show (1994)',\n",
              " 301: 'Picture Bride (Bijo photo) (1994)',\n",
              " 302: 'Queen Margot (Reine Margot, La) (1994)',\n",
              " 303: 'Quick and the Dead, The (1995)',\n",
              " 304: 'Roommates (1995)',\n",
              " 305: 'Ready to Wear (Pret-A-Porter) (1994)',\n",
              " 306: 'Three Colors: Red (Trois couleurs: Rouge) (1994)',\n",
              " 307: 'Three Colors: Blue (Trois couleurs: Bleu) (1993)',\n",
              " 308: 'Three Colors: White (Trzy kolory: Bialy) (1994)',\n",
              " 310: 'Rent-a-Kid (1995)',\n",
              " 311: 'Relative Fear (1994)',\n",
              " 312: 'Stuart Saves His Family (1995)',\n",
              " 313: 'Swan Princess, The (1994)',\n",
              " 314: 'Secret of Roan Inish, The (1994)',\n",
              " 315: 'Specialist, The (1994)',\n",
              " 316: 'Stargate (1994)',\n",
              " 317: 'Santa Clause, The (1994)',\n",
              " 318: 'Shawshank Redemption, The (1994)',\n",
              " 319: 'Shallow Grave (1994)',\n",
              " 320: 'Suture (1993)',\n",
              " 321: 'Strawberry and Chocolate (Fresa y chocolate) (1993)',\n",
              " 322: 'Swimming with Sharks (1995)',\n",
              " 324: 'Sum of Us, The (1994)',\n",
              " 325: \"National Lampoon's Senior Trip (1995)\",\n",
              " 326: 'To Live (Huozhe) (1994)',\n",
              " 327: 'Tank Girl (1995)',\n",
              " 328: 'Tales from the Crypt Presents: Demon Knight (1995)',\n",
              " 329: 'Star Trek: Generations (1994)',\n",
              " 330: 'Tales from the Hood (1995)',\n",
              " 331: 'Tom & Viv (1994)',\n",
              " 332: 'Village of the Damned (1995)',\n",
              " 333: 'Tommy Boy (1995)',\n",
              " 334: 'Vanya on 42nd Street (1994)',\n",
              " 335: 'Underneath (1995)',\n",
              " 336: 'Walking Dead, The (1995)',\n",
              " 337: \"What's Eating Gilbert Grape (1993)\",\n",
              " 338: 'Virtuosity (1995)',\n",
              " 339: 'While You Were Sleeping (1995)',\n",
              " 340: 'War, The (1994)',\n",
              " 341: 'Double Happiness (1994)',\n",
              " 342: \"Muriel's Wedding (1994)\",\n",
              " 343: 'Baby-Sitters Club, The (1995)',\n",
              " 344: 'Ace Ventura: Pet Detective (1994)',\n",
              " 345: 'Adventures of Priscilla, Queen of the Desert, The (1994)',\n",
              " 346: 'Backbeat (1993)',\n",
              " 347: 'Bitter Moon (1992)',\n",
              " 348: 'Bullets Over Broadway (1994)',\n",
              " 349: 'Clear and Present Danger (1994)',\n",
              " 350: 'Client, The (1994)',\n",
              " 351: 'Corrina, Corrina (1994)',\n",
              " 352: 'Crooklyn (1994)',\n",
              " 353: 'Crow, The (1994)',\n",
              " 354: 'Cobb (1994)',\n",
              " 355: 'Flintstones, The (1994)',\n",
              " 356: 'Forrest Gump (1994)',\n",
              " 357: 'Four Weddings and a Funeral (1994)',\n",
              " 358: 'Higher Learning (1995)',\n",
              " 359: 'I Like It Like That (1994)',\n",
              " 360: 'I Love Trouble (1994)',\n",
              " 361: 'It Could Happen to You (1994)',\n",
              " 362: 'Jungle Book, The (1994)',\n",
              " 363: 'Wonderful, Horrible Life of Leni Riefenstahl, The (Macht der Bilder: Leni Riefenstahl, Die) (1993)',\n",
              " 364: 'Lion King, The (1994)',\n",
              " 365: 'Little Buddha (1993)',\n",
              " 366: \"Wes Craven's New Nightmare (Nightmare on Elm Street Part 7: Freddy's Finale, A) (1994)\",\n",
              " 367: 'Mask, The (1994)',\n",
              " 368: 'Maverick (1994)',\n",
              " 369: 'Mrs. Parker and the Vicious Circle (1994)',\n",
              " 370: 'Naked Gun 33 1/3: The Final Insult (1994)',\n",
              " 371: 'Paper, The (1994)',\n",
              " 372: 'Reality Bites (1994)',\n",
              " 373: 'Red Rock West (1992)',\n",
              " 374: 'Richie Rich (1994)',\n",
              " 376: 'River Wild, The (1994)',\n",
              " 377: 'Speed (1994)',\n",
              " 378: 'Speechless (1994)',\n",
              " 379: 'Timecop (1994)',\n",
              " 380: 'True Lies (1994)',\n",
              " 381: 'When a Man Loves a Woman (1994)',\n",
              " 382: 'Wolf (1994)',\n",
              " 383: 'Wyatt Earp (1994)',\n",
              " 384: 'Bad Company (1995)',\n",
              " 385: 'Man of No Importance, A (1994)',\n",
              " 386: 'S.F.W. (1994)',\n",
              " 387: 'Low Down Dirty Shame, A (1994)',\n",
              " 388: 'Boys Life (1995)',\n",
              " 389: 'Colonel Chabert, Le (1994)',\n",
              " 390: 'Faster Pussycat! Kill! Kill! (1965)',\n",
              " 391: \"Jason's Lyric (1994)\",\n",
              " 393: 'Street Fighter (1994)',\n",
              " 405: 'Highlander III: The Sorcerer (a.k.a. Highlander: The Final Dimension) (1994)',\n",
              " 406: 'Federal Hill (1994)',\n",
              " 407: 'In the Mouth of Madness (1995)',\n",
              " 408: '8 Seconds (1994)',\n",
              " 409: 'Above the Rim (1994)',\n",
              " 410: 'Addams Family Values (1993)',\n",
              " 412: 'Age of Innocence, The (1993)',\n",
              " 413: 'Airheads (1994)',\n",
              " 414: 'Air Up There, The (1994)',\n",
              " 415: 'Another Stakeout (1993)',\n",
              " 416: 'Bad Girls (1994)',\n",
              " 417: 'Barcelona (1994)',\n",
              " 418: 'Being Human (1993)',\n",
              " 419: 'Beverly Hillbillies, The (1993)',\n",
              " 420: 'Beverly Hills Cop III (1994)',\n",
              " 421: 'Black Beauty (1994)',\n",
              " 422: 'Blink (1994)',\n",
              " 423: 'Blown Away (1994)',\n",
              " 424: 'Blue Chips (1994)',\n",
              " 425: 'Blue Sky (1994)',\n",
              " 426: 'Body Snatchers (1993)',\n",
              " 427: 'Boxing Helena (1993)',\n",
              " 428: 'Bronx Tale, A (1993)',\n",
              " 429: 'Cabin Boy (1994)',\n",
              " 430: 'Calendar Girl (1993)',\n",
              " 431: \"Carlito's Way (1993)\",\n",
              " 432: \"City Slickers II: The Legend of Curly's Gold (1994)\",\n",
              " 433: 'Clean Slate (1994)',\n",
              " 434: 'Cliffhanger (1993)',\n",
              " 435: 'Coneheads (1993)',\n",
              " 436: 'Color of Night (1994)',\n",
              " 437: 'Cops and Robbersons (1994)',\n",
              " 438: 'Cowboy Way, The (1994)',\n",
              " 440: 'Dave (1993)',\n",
              " 441: 'Dazed and Confused (1993)',\n",
              " 442: 'Demolition Man (1993)',\n",
              " 444: 'Even Cowgirls Get the Blues (1993)',\n",
              " 445: 'Fatal Instinct (1993)',\n",
              " 446: 'Farewell My Concubine (Ba wang bie ji) (1993)',\n",
              " 448: 'Fearless (1993)',\n",
              " 449: 'Fear of a Black Hat (1994)',\n",
              " 450: 'With Honors (1994)',\n",
              " 451: 'Flesh and Bone (1993)',\n",
              " 452: \"Widows' Peak (1994)\",\n",
              " 453: 'For Love or Money (1993)',\n",
              " 454: 'Firm, The (1993)',\n",
              " 455: 'Free Willy (1993)',\n",
              " 456: 'Fresh (1994)',\n",
              " 457: 'Fugitive, The (1993)',\n",
              " 458: 'Geronimo: An American Legend (1993)',\n",
              " 459: 'Getaway, The (1994)',\n",
              " 460: 'Getting Even with Dad (1994)',\n",
              " 461: 'Go Fish (1994)',\n",
              " 464: 'Hard Target (1993)',\n",
              " 466: 'Hot Shots! Part Deux (1993)',\n",
              " 467: 'Live Nude Girls (1995)',\n",
              " 468: 'Englishman Who Went Up a Hill But Came Down a Mountain, The (1995)',\n",
              " 469: 'House of the Spirits, The (1993)',\n",
              " 470: 'House Party 3 (1994)',\n",
              " 471: 'Hudsucker Proxy, The (1994)',\n",
              " 472: \"I'll Do Anything (1994)\",\n",
              " 473: 'In the Army Now (1994)',\n",
              " 474: 'In the Line of Fire (1993)',\n",
              " 475: 'In the Name of the Father (1993)',\n",
              " 476: 'Inkwell, The (1994)',\n",
              " 477: \"What's Love Got to Do with It? (1993)\",\n",
              " 478: 'Jimmy Hollywood (1994)',\n",
              " 479: 'Judgment Night (1993)',\n",
              " 480: 'Jurassic Park (1993)',\n",
              " 481: 'Kalifornia (1993)',\n",
              " 482: 'Killing Zoe (1994)',\n",
              " 484: 'Lassie (1994)',\n",
              " 485: 'Last Action Hero (1993)',\n",
              " 486: 'Life with Mikey (1993)',\n",
              " 487: 'Lightning Jack (1994)',\n",
              " 488: 'M. Butterfly (1993)',\n",
              " 489: 'Made in America (1993)',\n",
              " 490: 'Malice (1993)',\n",
              " 491: 'Man Without a Face, The (1993)',\n",
              " 492: 'Manhattan Murder Mystery (1993)',\n",
              " 493: 'Menace II Society (1993)',\n",
              " 494: 'Executive Decision (1996)',\n",
              " 495: 'In the Realm of the Senses (Ai no corrida) (1976)',\n",
              " 496: 'What Happened Was... (1994)',\n",
              " 497: 'Much Ado About Nothing (1993)',\n",
              " 499: 'Mr. Wonderful (1993)',\n",
              " 500: 'Mrs. Doubtfire (1993)',\n",
              " 501: 'Naked (1993)',\n",
              " 502: 'Next Karate Kid, The (1994)',\n",
              " 504: 'No Escape (1994)',\n",
              " 505: 'North (1994)',\n",
              " 506: 'Orlando (1992)',\n",
              " 507: 'Perfect World, A (1993)',\n",
              " 508: 'Philadelphia (1993)',\n",
              " 509: 'Piano, The (1993)',\n",
              " 510: 'Poetic Justice (1993)',\n",
              " 511: 'Program, The (1993)',\n",
              " 512: 'Puppet Masters, The (1994)',\n",
              " 513: 'Radioland Murders (1994)',\n",
              " 514: 'Ref, The (1994)',\n",
              " 515: 'Remains of the Day, The (1993)',\n",
              " 516: 'Renaissance Man (1994)',\n",
              " 517: 'Rising Sun (1993)',\n",
              " 518: 'Road to Wellville, The (1994)',\n",
              " 519: 'RoboCop 3 (1993)',\n",
              " 520: 'Robin Hood: Men in Tights (1993)',\n",
              " 521: 'Romeo Is Bleeding (1993)',\n",
              " 522: 'Romper Stomper (1992)',\n",
              " 523: 'Ruby in Paradise (1993)',\n",
              " 524: 'Rudy (1993)',\n",
              " 526: 'Savage Nights (Nuits fauves, Les) (1992)',\n",
              " 527: \"Schindler's List (1993)\",\n",
              " 528: 'Scout, The (1994)',\n",
              " 529: 'Searching for Bobby Fischer (1993)',\n",
              " 531: 'Secret Garden, The (1993)',\n",
              " 532: 'Serial Mom (1994)',\n",
              " 533: 'Shadow, The (1994)',\n",
              " 534: 'Shadowlands (1993)',\n",
              " 535: 'Short Cuts (1993)',\n",
              " 536: 'Simple Twist of Fate, A (1994)',\n",
              " 537: 'Sirens (1994)',\n",
              " 538: 'Six Degrees of Separation (1993)',\n",
              " 539: 'Sleepless in Seattle (1993)',\n",
              " 540: 'Sliver (1993)',\n",
              " 541: 'Blade Runner (1982)',\n",
              " 542: 'Son in Law (1993)',\n",
              " 543: 'So I Married an Axe Murderer (1993)',\n",
              " 544: 'Striking Distance (1993)',\n",
              " 546: 'Super Mario Bros. (1993)',\n",
              " 547: 'Surviving the Game (1994)',\n",
              " 548: 'Terminal Velocity (1994)',\n",
              " 549: 'Thirty-Two Short Films About Glenn Gould (1993)',\n",
              " 550: 'Threesome (1994)',\n",
              " 551: 'Nightmare Before Christmas, The (1993)',\n",
              " 552: 'Three Musketeers, The (1993)',\n",
              " 553: 'Tombstone (1993)',\n",
              " 555: 'True Romance (1993)',\n",
              " 556: 'War Room, The (1993)',\n",
              " 558: 'Pagemaster, The (1994)',\n",
              " 562: 'Welcome to the Dollhouse (1995)',\n",
              " 563: 'Germinal (1993)',\n",
              " 564: 'Chasers (1994)',\n",
              " 567: 'Kika (1993)',\n",
              " 568: 'Bhaji on the Beach (1993)',\n",
              " 569: 'Little Big League (1994)',\n",
              " 573: 'Ciao, Professore! (Io speriamo che me la cavo) (1992)',\n",
              " 574: 'Spanking the Monkey (1994)',\n",
              " 575: 'Little Rascals, The (1994)',\n",
              " 577: 'Andre (1994)',\n",
              " 579: 'Escort, The (Scorta, La) (1993)',\n",
              " 580: 'Princess Caraboo (1994)',\n",
              " 581: 'Celluloid Closet, The (1995)',\n",
              " 583: 'Dear Diary (Caro Diario) (1994)',\n",
              " 585: 'Brady Bunch Movie, The (1995)',\n",
              " 586: 'Home Alone (1990)',\n",
              " 587: 'Ghost (1990)',\n",
              " 588: 'Aladdin (1992)',\n",
              " 589: 'Terminator 2: Judgment Day (1991)',\n",
              " 590: 'Dances with Wolves (1990)',\n",
              " 592: 'Batman (1989)',\n",
              " 593: 'Silence of the Lambs, The (1991)',\n",
              " 594: 'Snow White and the Seven Dwarfs (1937)',\n",
              " 595: 'Beauty and the Beast (1991)',\n",
              " 596: 'Pinocchio (1940)',\n",
              " 597: 'Pretty Woman (1990)',\n",
              " 599: 'Wild Bunch, The (1969)',\n",
              " 600: 'Love and a .45 (1994)',\n",
              " 602: 'Great Day in Harlem, A (1994)',\n",
              " 605: 'One Fine Day (1996)',\n",
              " 606: 'Candyman: Farewell to the Flesh (1995)',\n",
              " 608: 'Fargo (1996)',\n",
              " 609: 'Homeward Bound II: Lost in San Francisco (1996)',\n",
              " 610: 'Heavy Metal (1981)',\n",
              " 611: 'Hellraiser: Bloodline (1996)',\n",
              " 612: 'Pallbearer, The (1996)',\n",
              " 613: 'Jane Eyre (1996)',\n",
              " 615: 'Bread and Chocolate (Pane e cioccolata) (1973)',\n",
              " 616: 'Aristocats, The (1970)',\n",
              " 617: 'Flower of My Secret, The (La flor de mi secreto) (1995)',\n",
              " 618: 'Two Much (1995)',\n",
              " 619: 'Ed (1996)',\n",
              " 626: 'Thin Line Between Love and Hate, A (1996)',\n",
              " 627: 'Last Supper, The (1995)',\n",
              " 628: 'Primal Fear (1996)',\n",
              " 631: 'All Dogs Go to Heaven 2 (1996)',\n",
              " 632: 'Land and Freedom (Tierra y libertad) (1995)',\n",
              " 633: 'Denise Calls Up (1995)',\n",
              " 634: 'Theodore Rex (1995)',\n",
              " 635: 'Family Thing, A (1996)',\n",
              " 636: 'Frisk (1995)',\n",
              " 637: 'Sgt. Bilko (1996)',\n",
              " 638: 'Jack and Sarah (1995)',\n",
              " 639: 'Girl 6 (1996)',\n",
              " 640: 'Diabolique (1996)',\n",
              " 645: 'Nelly & Monsieur Arnaud (1995)',\n",
              " 647: 'Courage Under Fire (1996)',\n",
              " 648: 'Mission: Impossible (1996)',\n",
              " 649: 'Cold Fever (Á köldum klaka) (1995)',\n",
              " 650: 'Moll Flanders (1996)',\n",
              " 653: 'Dragonheart (1996)',\n",
              " 656: 'Eddie (1996)',\n",
              " 661: 'James and the Giant Peach (1996)',\n",
              " 662: 'Fear (1996)',\n",
              " 663: 'Kids in the Hall: Brain Candy (1996)',\n",
              " 665: 'Underground (1995)',\n",
              " 667: 'Bloodsport 2 (a.k.a. Bloodsport II: The Next Kumite) (1996)',\n",
              " 668: 'Song of the Little Road (Pather Panchali) (1955)',\n",
              " 670: 'World of Apu, The (Apur Sansar) (1959)',\n",
              " 671: 'Mystery Science Theater 3000: The Movie (1996)',\n",
              " 673: 'Space Jam (1996)',\n",
              " 674: 'Barbarella (1968)',\n",
              " 678: 'Some Folks Call It a Sling Blade (1993)',\n",
              " 679: 'Run of the Country, The (1995)',\n",
              " 680: 'Alphaville (Alphaville, une étrange aventure de Lemmy Caution) (1965)',\n",
              " 685: \"It's My Party (1996)\",\n",
              " 688: 'Operation Dumbo Drop (1995)',\n",
              " 691: 'Mrs. Winterbourne (1996)',\n",
              " 692: 'Solo (1996)',\n",
              " 694: 'Substitute, The (1996)',\n",
              " 695: 'True Crime (1996)',\n",
              " 697: 'Feeling Minnesota (1996)',\n",
              " 698: 'Delta of Venus (1995)',\n",
              " 700: 'Angus (1995)',\n",
              " 703: 'Boys (1996)',\n",
              " 704: 'Quest, The (1996)',\n",
              " 706: 'Sunset Park (1996)',\n",
              " 707: 'Mulholland Falls (1996)',\n",
              " 708: 'Truth About Cats & Dogs, The (1996)',\n",
              " 709: 'Oliver & Company (1988)',\n",
              " 710: 'Celtic Pride (1996)',\n",
              " 711: 'Flipper (1996)',\n",
              " 714: 'Dead Man (1995)',\n",
              " 715: 'Horseman on the Roof, The (Hussard sur le toit, Le) (1995)',\n",
              " 718: 'Visitors, The (Visiteurs, Les) (1993)',\n",
              " 719: 'Multiplicity (1996)',\n",
              " 720: 'Wallace & Gromit: The Best of Aardman Animation (1996)',\n",
              " 722: 'Haunted World of Edward D. Wood Jr., The (1996)',\n",
              " 724: 'Craft, The (1996)',\n",
              " 725: 'Great White Hype, The (1996)',\n",
              " 726: 'Last Dance (1996)',\n",
              " 728: 'Cold Comfort Farm (1995)',\n",
              " 731: \"Heaven's Prisoners (1996)\",\n",
              " 733: 'Rock, The (1996)',\n",
              " 735: 'Cemetery Man (Dellamorte Dellamore) (1994)',\n",
              " 736: 'Twister (1996)',\n",
              " 737: 'Barb Wire (1996)',\n",
              " 741: 'Ghost in the Shell (Kôkaku kidôtai) (1995)',\n",
              " 742: 'Thinner (1996)',\n",
              " 743: 'Spy Hard (1996)',\n",
              " 745: 'Wallace & Gromit: A Close Shave (1995)',\n",
              " 747: 'Stupids, The (1996)',\n",
              " 748: 'Arrival, The (1996)',\n",
              " 750: 'Dr. Strangelove or: How I Learned to Stop Worrying and Love the Bomb (1964)',\n",
              " 757: 'Ashes of Time (Dung che sai duk) (1994)',\n",
              " 759: 'Maya Lin: A Strong Clear Vision (1994)',\n",
              " 760: 'Stalingrad (1993)',\n",
              " 761: 'Phantom, The (1996)',\n",
              " 762: 'Striptease (1996)',\n",
              " 764: 'Heavy (1995)',\n",
              " 765: 'Jack (1996)',\n",
              " 766: 'I Shot Andy Warhol (1996)',\n",
              " 773: 'Touki Bouki (1973)',\n",
              " 775: 'Spirits of the Dead (1968)',\n",
              " 778: 'Trainspotting (1996)',\n",
              " 779: \"'Til There Was You (1997)\",\n",
              " 780: 'Independence Day (a.k.a. ID4) (1996)',\n",
              " 781: 'Stealing Beauty (1996)',\n",
              " 782: 'Fan, The (1996)',\n",
              " 783: 'Hunchback of Notre Dame, The (1996)',\n",
              " 784: 'Cable Guy, The (1996)',\n",
              " 785: 'Kingpin (1996)',\n",
              " 786: 'Eraser (1996)',\n",
              " 788: 'Nutty Professor, The (1996)',\n",
              " 790: 'Unforgettable Summer, An (Un été inoubliable) (1994)',\n",
              " 791: 'Last Klezmer: Leopold Kozlowski, His Life and Music, The (1994)',\n",
              " 795: 'Somebody to Love (1994)',\n",
              " 798: 'Daylight (1996)',\n",
              " 799: 'Frighteners, The (1996)',\n",
              " 800: 'Lone Star (1996)',\n",
              " 801: 'Harriet the Spy (1996)',\n",
              " 802: 'Phenomenon (1996)',\n",
              " 803: 'Walking and Talking (1996)',\n",
              " 804: \"She's the One (1996)\",\n",
              " 805: 'Time to Kill, A (1996)',\n",
              " 806: 'American Buffalo (1996)',\n",
              " 808: 'Alaska (1996)',\n",
              " 809: 'Fled (1996)',\n",
              " 810: 'Kazaam (1996)',\n",
              " 813: 'Larger Than Life (1996)',\n",
              " 818: 'Very Brady Sequel, A (1996)',\n",
              " 823: 'Collector, The (La collectionneuse) (1967)',\n",
              " 824: 'Kaspar Hauser (1993)',\n",
              " 828: 'Adventures of Pinocchio, The (1996)',\n",
              " 829: \"Joe's Apartment (1996)\",\n",
              " 830: 'First Wives Club, The (1996)',\n",
              " 832: 'Ransom (1996)',\n",
              " 833: 'High School High (1996)',\n",
              " 835: 'Foxfire (1996)',\n",
              " 836: 'Chain Reaction (1996)',\n",
              " 837: 'Matilda (1996)',\n",
              " 838: 'Emma (1996)',\n",
              " 839: 'Crow: City of Angels, The (1996)',\n",
              " 840: 'House Arrest (1996)',\n",
              " 841: 'Eyes Without a Face (Yeux sans visage, Les) (1959)',\n",
              " 842: 'Tales from the Crypt Presents: Bordello of Blood (1996)',\n",
              " 848: 'Spitfire Grill, The (1996)',\n",
              " 849: 'Escape from L.A. (1996)',\n",
              " 851: 'Basquiat (1996)',\n",
              " 852: 'Tin Cup (1996)',\n",
              " 858: 'Godfather, The (1972)',\n",
              " 861: 'Supercop (Police Story 3: Supercop) (Jing cha gu shi III: Chao ji jing cha) (1992)',\n",
              " 866: 'Bound (1996)',\n",
              " 867: 'Carpool (1996)',\n",
              " 869: 'Kansas City (1996)',\n",
              " 870: \"Gone Fishin' (1997)\",\n",
              " 875: 'Nothing to Lose (1994)',\n",
              " 876: 'Supercop 2 (Project S) (Chao ji ji hua) (1993)',\n",
              " 879: 'Relic, The (1997)',\n",
              " 880: 'Island of Dr. Moreau, The (1996)',\n",
              " 881: 'First Kid (1996)',\n",
              " 882: 'Trigger Effect, The (1996)',\n",
              " 885: 'Bogus (1996)',\n",
              " 886: 'Bulletproof (1996)',\n",
              " 888: 'Land Before Time III: The Time of the Great Giving (1995)',\n",
              " 889: '1-900 (06) (1994)',\n",
              " 891: 'Halloween: The Curse of Michael Myers (Halloween 6: The Curse of Michael Myers) (1995)',\n",
              " 892: 'Twelfth Night (1996)',\n",
              " 893: 'Mother Night (1996)',\n",
              " 896: 'Wild Reeds (Les roseaux sauvages) (1994)',\n",
              " 897: 'For Whom the Bell Tolls (1943)',\n",
              " 898: 'Philadelphia Story, The (1940)',\n",
              " 899: \"Singin' in the Rain (1952)\",\n",
              " 900: 'American in Paris, An (1951)',\n",
              " 901: 'Funny Face (1957)',\n",
              " 902: \"Breakfast at Tiffany's (1961)\",\n",
              " 903: 'Vertigo (1958)',\n",
              " 904: 'Rear Window (1954)',\n",
              " 905: 'It Happened One Night (1934)',\n",
              " 906: 'Gaslight (1944)',\n",
              " 907: 'Gay Divorcee, The (1934)',\n",
              " 908: 'North by Northwest (1959)',\n",
              " 909: 'Apartment, The (1960)',\n",
              " 910: 'Some Like It Hot (1959)',\n",
              " 911: 'Charade (1963)',\n",
              " 912: 'Casablanca (1942)',\n",
              " 913: 'Maltese Falcon, The (1941)',\n",
              " 914: 'My Fair Lady (1964)',\n",
              " 915: 'Sabrina (1954)',\n",
              " 916: 'Roman Holiday (1953)',\n",
              " 917: 'Little Princess, The (1939)',\n",
              " 918: 'Meet Me in St. Louis (1944)',\n",
              " 919: 'Wizard of Oz, The (1939)',\n",
              " 920: 'Gone with the Wind (1939)',\n",
              " 921: 'My Favorite Year (1982)',\n",
              " 922: 'Sunset Blvd. (a.k.a. Sunset Boulevard) (1950)',\n",
              " 923: 'Citizen Kane (1941)',\n",
              " 924: '2001: A Space Odyssey (1968)',\n",
              " 926: 'All About Eve (1950)',\n",
              " 927: 'Women, The (1939)',\n",
              " 928: 'Rebecca (1940)',\n",
              " 929: 'Foreign Correspondent (1940)',\n",
              " 930: 'Notorious (1946)',\n",
              " 931: 'Spellbound (1945)',\n",
              " 932: 'Affair to Remember, An (1957)',\n",
              " 933: 'To Catch a Thief (1955)',\n",
              " 934: 'Father of the Bride (1950)',\n",
              " 935: 'Band Wagon, The (1953)',\n",
              " 936: 'Ninotchka (1939)',\n",
              " 937: 'Love in the Afternoon (1957)',\n",
              " 938: 'Gigi (1958)',\n",
              " 940: 'Adventures of Robin Hood, The (1938)',\n",
              " 941: 'Mark of Zorro, The (1940)',\n",
              " 942: 'Laura (1944)',\n",
              " 943: 'Ghost and Mrs. Muir, The (1947)',\n",
              " 944: 'Lost Horizon (1937)',\n",
              " 945: 'Top Hat (1935)',\n",
              " 946: 'To Be or Not to Be (1942)',\n",
              " 947: 'My Man Godfrey (1936)',\n",
              " 948: 'Giant (1956)',\n",
              " 949: 'East of Eden (1955)',\n",
              " 950: 'Thin Man, The (1934)',\n",
              " 951: 'His Girl Friday (1940)',\n",
              " 952: 'Around the World in 80 Days (1956)',\n",
              " 953: \"It's a Wonderful Life (1946)\",\n",
              " 954: 'Mr. Smith Goes to Washington (1939)',\n",
              " 955: 'Bringing Up Baby (1938)',\n",
              " 956: 'Penny Serenade (1941)',\n",
              " 959: 'Of Human Bondage (1934)',\n",
              " 961: 'Little Lord Fauntleroy (1936)',\n",
              " 963: 'Inspector General, The (1949)',\n",
              " 965: '39 Steps, The (1935)',\n",
              " 968: 'Night of the Living Dead (1968)',\n",
              " 969: 'African Queen, The (1951)',\n",
              " 970: 'Beat the Devil (1953)',\n",
              " 971: 'Cat on a Hot Tin Roof (1958)',\n",
              " 973: 'Meet John Doe (1941)',\n",
              " 976: 'Farewell to Arms, A (1932)',\n",
              " 979: 'Nothing Personal (1995)',\n",
              " 981: 'Dangerous Ground (1997)',\n",
              " 982: 'Picnic (1955)',\n",
              " 984: 'Pompatus of Love, The (1996)',\n",
              " 986: 'Fly Away Home (1996)',\n",
              " 987: 'Bliss (1997)',\n",
              " 988: 'Grace of My Heart (1996)',\n",
              " 990: 'Maximum Risk (1996)',\n",
              " 991: 'Michael Collins (1996)',\n",
              " 993: 'Infinity (1996)',\n",
              " 994: 'Big Night (1996)',\n",
              " 996: 'Last Man Standing (1996)',\n",
              " 998: 'Set It Off (1996)',\n",
              " 999: '2 Days in the Valley (1996)',\n",
              " 1003: 'Extreme Measures (1996)',\n",
              " 1004: 'Glimmer Man, The (1996)',\n",
              " 1005: 'D3: The Mighty Ducks (1996)',\n",
              " 1006: 'Chamber, The (1996)',\n",
              " 1007: 'Apple Dumpling Gang, The (1975)',\n",
              " 1008: 'Davy Crockett, King of the Wild Frontier (1955)',\n",
              " 1009: 'Escape to Witch Mountain (1975)',\n",
              " 1010: 'Love Bug, The (1969)',\n",
              " 1011: 'Herbie Rides Again (1974)',\n",
              " 1012: 'Old Yeller (1957)',\n",
              " 1013: 'Parent Trap, The (1961)',\n",
              " 1014: 'Pollyanna (1960)',\n",
              " 1015: 'Homeward Bound: The Incredible Journey (1993)',\n",
              " 1016: 'Shaggy Dog, The (1959)',\n",
              " 1017: 'Swiss Family Robinson (1960)',\n",
              " 1018: 'That Darn Cat! (1965)',\n",
              " 1019: '20,000 Leagues Under the Sea (1954)',\n",
              " 1020: 'Cool Runnings (1993)',\n",
              " 1021: 'Angels in the Outfield (1994)',\n",
              " 1022: 'Cinderella (1950)',\n",
              " 1023: 'Winnie the Pooh and the Blustery Day (1968)',\n",
              " 1024: 'Three Caballeros, The (1945)',\n",
              " 1025: 'Sword in the Stone, The (1963)',\n",
              " 1027: 'Robin Hood: Prince of Thieves (1991)',\n",
              " 1028: 'Mary Poppins (1964)',\n",
              " 1029: 'Dumbo (1941)',\n",
              " 1030: \"Pete's Dragon (1977)\",\n",
              " 1031: 'Bedknobs and Broomsticks (1971)',\n",
              " 1032: 'Alice in Wonderland (1951)',\n",
              " 1033: 'Fox and the Hound, The (1981)',\n",
              " 1034: 'Freeway (1996)',\n",
              " 1035: 'Sound of Music, The (1965)',\n",
              " 1036: 'Die Hard (1988)',\n",
              " 1037: 'Lawnmower Man, The (1992)',\n",
              " 1040: 'Secret Agent, The (1996)',\n",
              " 1041: 'Secrets & Lies (1996)',\n",
              " 1042: 'That Thing You Do! (1996)',\n",
              " 1043: 'To Gillian on Her 37th Birthday (1996)',\n",
              " 1046: 'Beautiful Thing (1996)',\n",
              " 1047: 'Long Kiss Goodnight, The (1996)',\n",
              " 1049: 'Ghost and the Darkness, The (1996)',\n",
              " 1050: 'Looking for Richard (1996)',\n",
              " 1051: 'Trees Lounge (1996)',\n",
              " 1053: 'Normal Life (1996)',\n",
              " 1054: 'Get on the Bus (1996)',\n",
              " 1055: 'Shadow Conspiracy (1997)',\n",
              " 1056: 'Jude (1996)',\n",
              " 1057: 'Everyone Says I Love You (1996)',\n",
              " 1059: \"William Shakespeare's Romeo + Juliet (1996)\",\n",
              " 1060: 'Swingers (1996)',\n",
              " 1061: 'Sleepers (1996)',\n",
              " 1064: 'Aladdin and the King of Thieves (1996)',\n",
              " 1066: 'Shall We Dance (1937)',\n",
              " 1068: 'Crossfire (1947)',\n",
              " 1073: 'Willy Wonka & the Chocolate Factory (1971)',\n",
              " 1076: 'Innocents, The (1961)',\n",
              " 1077: 'Sleeper (1973)',\n",
              " 1078: 'Bananas (1971)',\n",
              " 1079: 'Fish Called Wanda, A (1988)',\n",
              " 1080: \"Monty Python's Life of Brian (1979)\",\n",
              " 1081: 'Victor/Victoria (1982)',\n",
              " 1082: 'Candidate, The (1972)',\n",
              " 1083: 'Great Race, The (1965)',\n",
              " 1084: 'Bonnie and Clyde (1967)',\n",
              " 1085: 'Old Man and the Sea, The (1958)',\n",
              " 1086: 'Dial M for Murder (1954)',\n",
              " 1088: 'Dirty Dancing (1987)',\n",
              " 1089: 'Reservoir Dogs (1992)',\n",
              " 1090: 'Platoon (1986)',\n",
              " 1091: \"Weekend at Bernie's (1989)\",\n",
              " 1092: 'Basic Instinct (1992)',\n",
              " 1093: 'Doors, The (1991)',\n",
              " 1094: 'Crying Game, The (1992)',\n",
              " 1095: 'Glengarry Glen Ross (1992)',\n",
              " 1096: \"Sophie's Choice (1982)\",\n",
              " 1097: 'E.T. the Extra-Terrestrial (1982)',\n",
              " 1099: 'Christmas Carol, A (1938)',\n",
              " 1100: 'Days of Thunder (1990)',\n",
              " 1101: 'Top Gun (1986)',\n",
              " 1103: 'Rebel Without a Cause (1955)',\n",
              " 1104: 'Streetcar Named Desire, A (1951)',\n",
              " 1105: 'Children of the Corn IV: The Gathering (1996)',\n",
              " 1107: 'Loser (1991)',\n",
              " 1111: \"Microcosmos (Microcosmos: Le peuple de l'herbe) (1996)\",\n",
              " 1112: 'Palookaville (1996)',\n",
              " 1114: 'Funeral, The (1996)',\n",
              " 1116: 'Single Girl, A (Fille seule, La) (1995)',\n",
              " 1117: 'Eighth Day, The (Huitième jour, Le) (1996)',\n",
              " 1119: 'Drunks (1995)',\n",
              " 1120: 'People vs. Larry Flynt, The (1996)',\n",
              " 1121: 'Glory Daze (1995)',\n",
              " 1123: 'Perfect Candidate, A (1996)',\n",
              " 1124: 'On Golden Pond (1981)',\n",
              " 1125: 'Return of the Pink Panther, The (1975)',\n",
              " 1126: 'Drop Dead Fred (1991)',\n",
              " 1127: 'Abyss, The (1989)',\n",
              " 1128: 'Fog, The (1980)',\n",
              " 1129: 'Escape from New York (1981)',\n",
              " 1130: 'Howling, The (1980)',\n",
              " 1131: 'Jean de Florette (1986)',\n",
              " 1132: 'Manon of the Spring (Manon des sources) (1986)',\n",
              " 1135: 'Private Benjamin (1980)',\n",
              " 1136: 'Monty Python and the Holy Grail (1975)',\n",
              " 1137: 'Hustler White (1996)',\n",
              " 1140: 'Entertaining Angels: The Dorothy Day Story (1996)',\n",
              " 1144: 'Line King: The Al Hirschfeld Story, The (1996)',\n",
              " 1147: 'When We Were Kings (1996)',\n",
              " 1148: 'Wallace & Gromit: The Wrong Trousers (1993)',\n",
              " 1150: 'Return of Martin Guerre, The (Retour de Martin Guerre, Le) (1982)',\n",
              " 1151: 'Lesson Faust (1994)',\n",
              " 1156: 'Children Are Watching Us, The (Bambini ci guardano, I) (1944)',\n",
              " 1161: 'Tin Drum, The (Blechtrommel, Die) (1979)',\n",
              " 1162: 'Ruling Class, The (1972)',\n",
              " 1163: 'Mina Tannenbaum (1994)',\n",
              " 1167: 'Dear God (1996)',\n",
              " 1170: 'Best of the Best 3: No Turning Back (1995)',\n",
              " 1171: 'Bob Roberts (1992)',\n",
              " 1172: 'Cinema Paradiso (Nuovo cinema Paradiso) (1989)',\n",
              " 1173: 'Cook the Thief His Wife & Her Lover, The (1989)',\n",
              " 1175: 'Delicatessen (1991)',\n",
              " 1176: 'Double Life of Veronique, The (Double Vie de Véronique, La) (1991)',\n",
              " 1177: 'Enchanted April (1992)',\n",
              " 1178: 'Paths of Glory (1957)',\n",
              " 1179: 'Grifters, The (1990)',\n",
              " 1180: 'Hear My Song (1991)',\n",
              " 1183: 'English Patient, The (1996)',\n",
              " 1184: 'Mediterraneo (1991)',\n",
              " 1185: 'My Left Foot (1989)',\n",
              " 1186: 'Sex, Lies, and Videotape (1989)',\n",
              " 1187: 'Passion Fish (1992)',\n",
              " 1188: 'Strictly Ballroom (1992)',\n",
              " 1189: 'Thin Blue Line, The (1988)',\n",
              " 1190: 'Tie Me Up! Tie Me Down! (¡Átame!) (1990)',\n",
              " 1191: 'Madonna: Truth or Dare (1991)',\n",
              " 1192: 'Paris Is Burning (1990)',\n",
              " 1193: \"One Flew Over the Cuckoo's Nest (1975)\",\n",
              " 1194: \"Cheech and Chong's Up in Smoke (1978)\",\n",
              " 1196: 'Star Wars: Episode V - The Empire Strikes Back (1980)',\n",
              " 1197: 'Princess Bride, The (1987)',\n",
              " 1198: 'Raiders of the Lost Ark (Indiana Jones and the Raiders of the Lost Ark) (1981)',\n",
              " 1199: 'Brazil (1985)',\n",
              " 1200: 'Aliens (1986)',\n",
              " 1201: 'Good, the Bad and the Ugly, The (Buono, il brutto, il cattivo, Il) (1966)',\n",
              " 1202: 'Withnail & I (1987)',\n",
              " 1203: '12 Angry Men (1957)',\n",
              " 1204: 'Lawrence of Arabia (1962)',\n",
              " 1206: 'Clockwork Orange, A (1971)',\n",
              " 1207: 'To Kill a Mockingbird (1962)',\n",
              " 1208: 'Apocalypse Now (1979)',\n",
              " 1209: \"Once Upon a Time in the West (C'era una volta il West) (1968)\",\n",
              " 1210: 'Star Wars: Episode VI - Return of the Jedi (1983)',\n",
              " 1211: 'Wings of Desire (Himmel über Berlin, Der) (1987)',\n",
              " 1212: 'Third Man, The (1949)',\n",
              " 1213: 'Goodfellas (1990)',\n",
              " 1214: 'Alien (1979)',\n",
              " 1215: 'Army of Darkness (1993)',\n",
              " 1216: 'Big Blue, The (Grand bleu, Le) (1988)',\n",
              " 1217: 'Ran (1985)',\n",
              " 1218: 'Killer, The (Die xue shuang xiong) (1989)',\n",
              " 1219: 'Psycho (1960)',\n",
              " 1220: 'Blues Brothers, The (1980)',\n",
              " 1221: 'Godfather: Part II, The (1974)',\n",
              " 1222: 'Full Metal Jacket (1987)',\n",
              " 1223: 'Grand Day Out with Wallace and Gromit, A (1989)',\n",
              " 1224: 'Henry V (1989)',\n",
              " 1225: 'Amadeus (1984)',\n",
              " 1226: 'Quiet Man, The (1952)',\n",
              " 1227: 'Once Upon a Time in America (1984)',\n",
              " 1228: 'Raging Bull (1980)',\n",
              " 1230: 'Annie Hall (1977)',\n",
              " 1231: 'Right Stuff, The (1983)',\n",
              " 1232: 'Stalker (1979)',\n",
              " 1233: 'Boot, Das (Boat, The) (1981)',\n",
              " 1234: 'Sting, The (1973)',\n",
              " 1235: 'Harold and Maude (1971)',\n",
              " 1236: 'Trust (1990)',\n",
              " 1237: 'Seventh Seal, The (Sjunde inseglet, Det) (1957)',\n",
              " 1238: 'Local Hero (1983)',\n",
              " 1240: 'Terminator, The (1984)',\n",
              " 1241: 'Dead Alive (Braindead) (1992)',\n",
              " 1242: 'Glory (1989)',\n",
              " 1243: 'Rosencrantz and Guildenstern Are Dead (1990)',\n",
              " 1244: 'Manhattan (1979)',\n",
              " 1245: \"Miller's Crossing (1990)\",\n",
              " 1246: 'Dead Poets Society (1989)',\n",
              " 1247: 'Graduate, The (1967)',\n",
              " 1248: 'Touch of Evil (1958)',\n",
              " 1249: 'Femme Nikita, La (Nikita) (1990)',\n",
              " 1250: 'Bridge on the River Kwai, The (1957)',\n",
              " 1251: '8 1/2 (8½) (1963)',\n",
              " 1252: 'Chinatown (1974)',\n",
              " 1253: 'Day the Earth Stood Still, The (1951)',\n",
              " 1254: 'Treasure of the Sierra Madre, The (1948)',\n",
              " 1255: 'Bad Taste (1987)',\n",
              " 1256: 'Duck Soup (1933)',\n",
              " 1257: 'Better Off Dead... (1985)',\n",
              " 1258: 'Shining, The (1980)',\n",
              " 1259: 'Stand by Me (1986)',\n",
              " 1260: 'M (1931)',\n",
              " 1261: 'Evil Dead II (Dead by Dawn) (1987)',\n",
              " 1262: 'Great Escape, The (1963)',\n",
              " 1263: 'Deer Hunter, The (1978)',\n",
              " 1264: 'Diva (1981)',\n",
              " 1265: 'Groundhog Day (1993)',\n",
              " 1266: 'Unforgiven (1992)',\n",
              " 1267: 'Manchurian Candidate, The (1962)',\n",
              " 1268: 'Pump Up the Volume (1990)',\n",
              " 1269: 'Arsenic and Old Lace (1944)',\n",
              " 1270: 'Back to the Future (1985)',\n",
              " 1271: 'Fried Green Tomatoes (1991)',\n",
              " 1272: 'Patton (1970)',\n",
              " 1273: 'Down by Law (1986)',\n",
              " 1274: 'Akira (1988)',\n",
              " 1275: 'Highlander (1986)',\n",
              " 1276: 'Cool Hand Luke (1967)',\n",
              " 1277: 'Cyrano de Bergerac (1990)',\n",
              " 1278: 'Young Frankenstein (1974)',\n",
              " 1279: 'Night on Earth (1991)',\n",
              " 1280: 'Raise the Red Lantern (Da hong deng long gao gao gua) (1991)',\n",
              " 1281: 'Great Dictator, The (1940)',\n",
              " 1282: 'Fantasia (1940)',\n",
              " 1283: 'High Noon (1952)',\n",
              " 1284: 'Big Sleep, The (1946)',\n",
              " 1285: 'Heathers (1989)',\n",
              " 1286: 'Somewhere in Time (1980)',\n",
              " 1287: 'Ben-Hur (1959)',\n",
              " 1288: 'This Is Spinal Tap (1984)',\n",
              " 1289: 'Koyaanisqatsi (a.k.a. Koyaanisqatsi: Life Out of Balance) (1983)',\n",
              " 1290: 'Some Kind of Wonderful (1987)',\n",
              " 1291: 'Indiana Jones and the Last Crusade (1989)',\n",
              " 1292: 'Being There (1979)',\n",
              " 1293: 'Gandhi (1982)',\n",
              " 1295: 'Unbearable Lightness of Being, The (1988)',\n",
              " 1296: 'Room with a View, A (1986)',\n",
              " 1297: 'Real Genius (1985)',\n",
              " 1298: 'Pink Floyd: The Wall (1982)',\n",
              " 1299: 'Killing Fields, The (1984)',\n",
              " 1300: 'My Life as a Dog (Mitt liv som hund) (1985)',\n",
              " 1301: 'Forbidden Planet (1956)',\n",
              " ...}"
            ]
          },
          "metadata": {},
          "execution_count": 12
        }
      ]
    },
    {
      "cell_type": "code",
      "source": [
        "from scipy.sparse import csr_matrix"
      ],
      "metadata": {
        "id": "o-mOUATiO_i-",
        "outputId": "47e3eb06-3ecb-4993-c1ba-a72a169dccc3",
        "colab": {
          "base_uri": "https://localhost:8080/"
        }
      },
      "execution_count": 13,
      "outputs": [
        {
          "output_type": "stream",
          "name": "stderr",
          "text": [
            "/usr/local/lib/python3.10/dist-packages/ipykernel/ipkernel.py:283: DeprecationWarning: `should_run_async` will not call `transform_cell` automatically in the future. Please pass the result to `transformed_cell` argument and any exception that happen during thetransform in `preprocessing_exc_tuple` in IPython 7.17 and above.\n",
            "  and should_run_async(code)\n"
          ]
        }
      ]
    },
    {
      "cell_type": "code",
      "source": [
        "def create_sparse(data):\n",
        "  M = data['userId'].nunique()\n",
        "  N = data['movieId'].nunique()\n",
        "  user_mapper = dict(zip(np.unique(data[\"userId\"]), list(range(M))))\n",
        "  movie_mapper = dict(zip(np.unique(data[\"movieId\"]), list(range(N))))\n",
        "  user_inv_mapper = dict(zip(list(range(M)), np.unique(data[\"userId\"])))\n",
        "  movie_inv_mapper = dict(zip(list(range(N)), np.unique(data[\"movieId\"])))\n",
        "  user_index = [user_mapper[i] for i in data['userId']]\n",
        "  item_index = [movie_mapper[i] for i in data['movieId']]\n",
        "  X = csr_matrix((data[\"rating\"], (user_index, item_index)), shape=(M,N))\n",
        "  return X, user_mapper, movie_mapper, user_inv_mapper, movie_inv_mapper\n",
        "\n",
        "# create_sparse(data)"
      ],
      "metadata": {
        "id": "lAk17hLpR3GB",
        "outputId": "6b8bab94-b8d5-40d1-f10b-39d97319495b",
        "colab": {
          "base_uri": "https://localhost:8080/"
        }
      },
      "execution_count": 14,
      "outputs": [
        {
          "output_type": "stream",
          "name": "stderr",
          "text": [
            "/usr/local/lib/python3.10/dist-packages/ipykernel/ipkernel.py:283: DeprecationWarning: `should_run_async` will not call `transform_cell` automatically in the future. Please pass the result to `transformed_cell` argument and any exception that happen during thetransform in `preprocessing_exc_tuple` in IPython 7.17 and above.\n",
            "  and should_run_async(code)\n"
          ]
        }
      ]
    },
    {
      "cell_type": "code",
      "source": [
        "M = df['userId'].nunique()\n",
        "N = df['movieId'].nunique()\n",
        "user_mapper = dict(zip(np.unique(df[\"userId\"]), list(range(M))))\n",
        "movie_mapper = dict(zip(np.unique(df[\"movieId\"]), list(range(N))))\n",
        "user_inv_mapper = dict(zip(list(range(M)), np.unique(df[\"userId\"])))\n",
        "movie_inv_mapper = dict(zip(list(range(N)), np.unique(df[\"movieId\"])))\n",
        "user_index = [user_mapper[i] for i in df['userId']]\n",
        "item_index = [movie_mapper[i] for i in df['movieId']]\n",
        "X = csr_matrix((df[\"rating\"], (user_index, item_index)), shape=(M,N))"
      ],
      "metadata": {
        "id": "cGvyqeOISCkD",
        "outputId": "68b53fa9-eb82-41e5-8844-fb0560d84578",
        "colab": {
          "base_uri": "https://localhost:8080/"
        }
      },
      "execution_count": 15,
      "outputs": [
        {
          "output_type": "stream",
          "name": "stderr",
          "text": [
            "/usr/local/lib/python3.10/dist-packages/ipykernel/ipkernel.py:283: DeprecationWarning: `should_run_async` will not call `transform_cell` automatically in the future. Please pass the result to `transformed_cell` argument and any exception that happen during thetransform in `preprocessing_exc_tuple` in IPython 7.17 and above.\n",
            "  and should_run_async(code)\n"
          ]
        }
      ]
    },
    {
      "cell_type": "code",
      "source": [
        "n_total = X.shape[0]*X.shape[1]\n",
        "n_ratings = X.nnz #scipy.sparse.csr_matrix.nnz no of stored values, including explicit 0\n",
        "sparsity = n_ratings/n_total\n",
        "sparsity_p = round(sparsity*100,2)\n",
        "print(f\"Matrix sparsity: {sparsity_p}%\")\n",
        "n_ratings_per_user = X.getnnz(axis=1)"
      ],
      "metadata": {
        "id": "okWN6vymSM5P",
        "outputId": "29789cc5-8da8-48fe-9c71-6e922f6da32a",
        "colab": {
          "base_uri": "https://localhost:8080/"
        }
      },
      "execution_count": 16,
      "outputs": [
        {
          "output_type": "stream",
          "name": "stdout",
          "text": [
            "Matrix sparsity: 1.7%\n"
          ]
        },
        {
          "output_type": "stream",
          "name": "stderr",
          "text": [
            "/usr/local/lib/python3.10/dist-packages/ipykernel/ipkernel.py:283: DeprecationWarning: `should_run_async` will not call `transform_cell` automatically in the future. Please pass the result to `transformed_cell` argument and any exception that happen during thetransform in `preprocessing_exc_tuple` in IPython 7.17 and above.\n",
            "  and should_run_async(code)\n"
          ]
        }
      ]
    },
    {
      "cell_type": "code",
      "source": [
        "from sklearn.neighbors import NearestNeighbors"
      ],
      "metadata": {
        "id": "vv9_LfTLTMJm",
        "outputId": "3f7fe9f5-6a8e-4ef1-a434-c29a82d83e8b",
        "colab": {
          "base_uri": "https://localhost:8080/"
        }
      },
      "execution_count": 19,
      "outputs": [
        {
          "output_type": "stream",
          "name": "stderr",
          "text": [
            "/usr/local/lib/python3.10/dist-packages/ipykernel/ipkernel.py:283: DeprecationWarning: `should_run_async` will not call `transform_cell` automatically in the future. Please pass the result to `transformed_cell` argument and any exception that happen during thetransform in `preprocessing_exc_tuple` in IPython 7.17 and above.\n",
            "  and should_run_async(code)\n"
          ]
        }
      ]
    },
    {
      "cell_type": "code",
      "source": [
        "def find_similar_movies(movie_id, X, movie_mapper, movie_inv_mapper, k, metric='cosine'):\n",
        "    X = X.T\n",
        "    neighbour_ids = []\n",
        "    movie_ind = movie_mapper[movie_id]\n",
        "    movie_vec = X[movie_ind]\n",
        "    if isinstance(movie_vec, (np.ndarray)):\n",
        "        movie_vec = movie_vec.reshape(1,-1)\n",
        "\n",
        "    kNN = NearestNeighbors(n_neighbors=k+1, algorithm=\"brute\", metric=metric)\n",
        "    kNN.fit(X)\n",
        "    neighbour = kNN.kneighbors(movie_vec, return_distance=False)\n",
        "    for i in range(0,k):\n",
        "        n = neighbour.item(i)\n",
        "        neighbour_ids.append(movie_inv_mapper[n])\n",
        "    neighbour_ids.pop(0)\n",
        "    return neighbour_ids\n"
      ],
      "metadata": {
        "id": "oTZm6t6NTSM1",
        "outputId": "43898482-3579-476c-dba6-aae29dd4d79e",
        "colab": {
          "base_uri": "https://localhost:8080/"
        }
      },
      "execution_count": 22,
      "outputs": [
        {
          "output_type": "stream",
          "name": "stderr",
          "text": [
            "/usr/local/lib/python3.10/dist-packages/ipykernel/ipkernel.py:283: DeprecationWarning: `should_run_async` will not call `transform_cell` automatically in the future. Please pass the result to `transformed_cell` argument and any exception that happen during thetransform in `preprocessing_exc_tuple` in IPython 7.17 and above.\n",
            "  and should_run_async(code)\n"
          ]
        }
      ]
    },
    {
      "cell_type": "code",
      "source": [
        "similar_movies = find_similar_movies(movie_id=1,X=X,movie_mapper=movie_mapper,movie_inv_mapper=movie_inv_mapper, k=10)\n",
        "similar_movies\n",
        "\n",
        "movie_names = df.loc[df['movieId'].isin(similar_movies), 'title'].tolist()\n",
        "set(movie_names)"
      ],
      "metadata": {
        "id": "x7hFtTgYUThX",
        "outputId": "41f4faeb-01f9-4eb7-e254-9d7c4aa12e35",
        "colab": {
          "base_uri": "https://localhost:8080/"
        }
      },
      "execution_count": 30,
      "outputs": [
        {
          "output_type": "stream",
          "name": "stderr",
          "text": [
            "/usr/local/lib/python3.10/dist-packages/ipykernel/ipkernel.py:283: DeprecationWarning: `should_run_async` will not call `transform_cell` automatically in the future. Please pass the result to `transformed_cell` argument and any exception that happen during thetransform in `preprocessing_exc_tuple` in IPython 7.17 and above.\n",
            "  and should_run_async(code)\n"
          ]
        },
        {
          "output_type": "execute_result",
          "data": {
            "text/plain": [
              "{'Forrest Gump (1994)',\n",
              " 'Groundhog Day (1993)',\n",
              " 'Independence Day (a.k.a. ID4) (1996)',\n",
              " 'Jurassic Park (1993)',\n",
              " 'Lion King, The (1994)',\n",
              " 'Mission: Impossible (1996)',\n",
              " 'Star Wars: Episode IV - A New Hope (1977)',\n",
              " 'Star Wars: Episode VI - Return of the Jedi (1983)',\n",
              " 'Toy Story 2 (1999)'}"
            ]
          },
          "metadata": {},
          "execution_count": 30
        }
      ]
    },
    {
      "cell_type": "code",
      "source": [
        "import scipy.sparse as sp"
      ],
      "metadata": {
        "id": "FU8QWrliSQID",
        "outputId": "06f5a9d7-e1d2-48c6-9bd8-67291a872294",
        "colab": {
          "base_uri": "https://localhost:8080/"
        }
      },
      "execution_count": 20,
      "outputs": [
        {
          "output_type": "stream",
          "name": "stderr",
          "text": [
            "/usr/local/lib/python3.10/dist-packages/ipykernel/ipkernel.py:283: DeprecationWarning: `should_run_async` will not call `transform_cell` automatically in the future. Please pass the result to `transformed_cell` argument and any exception that happen during thetransform in `preprocessing_exc_tuple` in IPython 7.17 and above.\n",
            "  and should_run_async(code)\n"
          ]
        }
      ]
    },
    {
      "cell_type": "code",
      "source": [
        "# Obliczenie liczby wszystkich możliwych ocen (łącznie z ocenami równymi zero)\n",
        "n_total = X.shape[0] * X.shape[1]\n",
        "\n",
        "# Obliczenie liczby ocenanych wartości (niezerowych) w macierzy rzadkiej\n",
        "n_ratings = X.nnz\n",
        "\n",
        "# Obliczenie rzadkości (sparsity) macierzy\n",
        "sparsity = n_ratings / n_total\n",
        "sparsity_p = round(sparsity * 100, 2)\n",
        "\n",
        "print(f\"Matrix sparsity: {sparsity_p}%\")\n",
        "\n",
        "# Obliczenie liczby ocen na użytkownika\n",
        "n_ratings_per_user = X.getnnz(axis=1)"
      ],
      "metadata": {
        "id": "mc5XFaglSR1_",
        "outputId": "31cfa010-7b44-419c-8d80-6aedbd485c03",
        "colab": {
          "base_uri": "https://localhost:8080/"
        }
      },
      "execution_count": 18,
      "outputs": [
        {
          "output_type": "stream",
          "name": "stdout",
          "text": [
            "Matrix sparsity: 1.7%\n"
          ]
        },
        {
          "output_type": "stream",
          "name": "stderr",
          "text": [
            "/usr/local/lib/python3.10/dist-packages/ipykernel/ipkernel.py:283: DeprecationWarning: `should_run_async` will not call `transform_cell` automatically in the future. Please pass the result to `transformed_cell` argument and any exception that happen during thetransform in `preprocessing_exc_tuple` in IPython 7.17 and above.\n",
            "  and should_run_async(code)\n"
          ]
        }
      ]
    }
  ]
}