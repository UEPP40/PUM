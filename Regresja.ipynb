{
  "nbformat": 4,
  "nbformat_minor": 0,
  "metadata": {
    "colab": {
      "provenance": [],
      "authorship_tag": "ABX9TyMXnUrBvC2JLfCGbca8sdtK",
      "include_colab_link": true
    },
    "kernelspec": {
      "name": "python3",
      "display_name": "Python 3"
    },
    "language_info": {
      "name": "python"
    }
  },
  "cells": [
    {
      "cell_type": "markdown",
      "metadata": {
        "id": "view-in-github",
        "colab_type": "text"
      },
      "source": [
        "<a href=\"https://colab.research.google.com/github/UEPP40/PUM/blob/wilmanski/Regresja.ipynb\" target=\"_parent\"><img src=\"https://colab.research.google.com/assets/colab-badge.svg\" alt=\"Open In Colab\"/></a>"
      ]
    },
    {
      "cell_type": "code",
      "execution_count": 2,
      "metadata": {
        "id": "qRVnQhNNpnRJ"
      },
      "outputs": [],
      "source": [
        "import pandas as pd\n",
        "from numpy import mean\n",
        "from numpy import std\n",
        "from numpy import absolute\n",
        "from matplotlib import pyplot\n",
        "from sklearn.datasets import fetch_california_housing\n",
        "from sklearn.model_selection import cross_val_score\n",
        "from sklearn.model_selection import KFold\n",
        "from sklearn.model_selection import RepeatedKFold\n",
        "from sklearn.pipeline import Pipeline\n",
        "from sklearn.linear_model import LinearRegression\n",
        "from sklearn.linear_model import HuberRegressor\n",
        "from sklearn.compose import TransformedTargetRegressor\n",
        "from sklearn.preprocessing import PolynomialFeatures\n",
        "from sklearn.preprocessing import MinMaxScaler\n",
        "from sklearn.metrics import mean_squared_error"
      ]
    },
    {
      "cell_type": "code",
      "source": [
        "housing = fetch_california_housing()\n",
        "print(housing)"
      ],
      "metadata": {
        "colab": {
          "base_uri": "https://localhost:8080/"
        },
        "id": "bnajEERErVAR",
        "outputId": "55dbf2d0-116d-4960-bba8-3f7e7b40a8bc"
      },
      "execution_count": 10,
      "outputs": [
        {
          "output_type": "stream",
          "name": "stdout",
          "text": [
            "{'data': array([[   8.3252    ,   41.        ,    6.98412698, ...,    2.55555556,\n",
            "          37.88      , -122.23      ],\n",
            "       [   8.3014    ,   21.        ,    6.23813708, ...,    2.10984183,\n",
            "          37.86      , -122.22      ],\n",
            "       [   7.2574    ,   52.        ,    8.28813559, ...,    2.80225989,\n",
            "          37.85      , -122.24      ],\n",
            "       ...,\n",
            "       [   1.7       ,   17.        ,    5.20554273, ...,    2.3256351 ,\n",
            "          39.43      , -121.22      ],\n",
            "       [   1.8672    ,   18.        ,    5.32951289, ...,    2.12320917,\n",
            "          39.43      , -121.32      ],\n",
            "       [   2.3886    ,   16.        ,    5.25471698, ...,    2.61698113,\n",
            "          39.37      , -121.24      ]]), 'target': array([4.526, 3.585, 3.521, ..., 0.923, 0.847, 0.894]), 'frame': None, 'target_names': ['MedHouseVal'], 'feature_names': ['MedInc', 'HouseAge', 'AveRooms', 'AveBedrms', 'Population', 'AveOccup', 'Latitude', 'Longitude'], 'DESCR': '.. _california_housing_dataset:\\n\\nCalifornia Housing dataset\\n--------------------------\\n\\n**Data Set Characteristics:**\\n\\n    :Number of Instances: 20640\\n\\n    :Number of Attributes: 8 numeric, predictive attributes and the target\\n\\n    :Attribute Information:\\n        - MedInc        median income in block group\\n        - HouseAge      median house age in block group\\n        - AveRooms      average number of rooms per household\\n        - AveBedrms     average number of bedrooms per household\\n        - Population    block group population\\n        - AveOccup      average number of household members\\n        - Latitude      block group latitude\\n        - Longitude     block group longitude\\n\\n    :Missing Attribute Values: None\\n\\nThis dataset was obtained from the StatLib repository.\\nhttps://www.dcc.fc.up.pt/~ltorgo/Regression/cal_housing.html\\n\\nThe target variable is the median house value for California districts,\\nexpressed in hundreds of thousands of dollars ($100,000).\\n\\nThis dataset was derived from the 1990 U.S. census, using one row per census\\nblock group. A block group is the smallest geographical unit for which the U.S.\\nCensus Bureau publishes sample data (a block group typically has a population\\nof 600 to 3,000 people).\\n\\nA household is a group of people residing within a home. Since the average\\nnumber of rooms and bedrooms in this dataset are provided per household, these\\ncolumns may take surprisingly large values for block groups with few households\\nand many empty houses, such as vacation resorts.\\n\\nIt can be downloaded/loaded using the\\n:func:`sklearn.datasets.fetch_california_housing` function.\\n\\n.. topic:: References\\n\\n    - Pace, R. Kelley and Ronald Barry, Sparse Spatial Autoregressions,\\n      Statistics and Probability Letters, 33 (1997) 291-297\\n'}\n"
          ]
        }
      ]
    },
    {
      "cell_type": "code",
      "source": [
        "df = pd.DataFrame(housing.data, columns=housing.feature_names)\n",
        "print(df.head())"
      ],
      "metadata": {
        "colab": {
          "base_uri": "https://localhost:8080/"
        },
        "id": "j3u5qJDE1Dkn",
        "outputId": "0352dd92-7bea-4d28-fb70-684b90e0f9dc"
      },
      "execution_count": 11,
      "outputs": [
        {
          "output_type": "stream",
          "name": "stdout",
          "text": [
            "   MedInc  HouseAge  AveRooms  AveBedrms  Population  AveOccup  Latitude  \\\n",
            "0  8.3252      41.0  6.984127   1.023810       322.0  2.555556     37.88   \n",
            "1  8.3014      21.0  6.238137   0.971880      2401.0  2.109842     37.86   \n",
            "2  7.2574      52.0  8.288136   1.073446       496.0  2.802260     37.85   \n",
            "3  5.6431      52.0  5.817352   1.073059       558.0  2.547945     37.85   \n",
            "4  3.8462      52.0  6.281853   1.081081       565.0  2.181467     37.85   \n",
            "\n",
            "   Longitude  \n",
            "0    -122.23  \n",
            "1    -122.22  \n",
            "2    -122.24  \n",
            "3    -122.25  \n",
            "4    -122.25  \n"
          ]
        }
      ]
    },
    {
      "cell_type": "code",
      "source": [
        "print(df['MedInc'])"
      ],
      "metadata": {
        "colab": {
          "base_uri": "https://localhost:8080/"
        },
        "id": "2vi3ieFH1jOM",
        "outputId": "911a1609-8bf9-4350-9c44-390437e51d81"
      },
      "execution_count": 18,
      "outputs": [
        {
          "output_type": "stream",
          "name": "stdout",
          "text": [
            "0        8.3252\n",
            "1        8.3014\n",
            "2        7.2574\n",
            "3        5.6431\n",
            "4        3.8462\n",
            "          ...  \n",
            "20635    1.5603\n",
            "20636    2.5568\n",
            "20637    1.7000\n",
            "20638    1.8672\n",
            "20639    2.3886\n",
            "Name: MedInc, Length: 20640, dtype: float64\n"
          ]
        }
      ]
    },
    {
      "cell_type": "code",
      "source": [
        "import numpy as np\n",
        "import pandas as pd\n",
        "from sklearn.linear_model import LinearRegression\n",
        "from sklearn.neighbors import KNeighborsRegressor\n",
        "from sklearn.preprocessing import PolynomialFeatures\n",
        "from sklearn.model_selection import RepeatedKFold\n",
        "import matplotlib.pyplot as plt\n",
        "\n",
        "# Przekształcanie danych wejściowych do DataFrame\n",
        "df = pd.DataFrame(housing.data, columns=housing.feature_names)\n",
        "target = pd.Series(housing.target)\n",
        "\n",
        "# Tworzenie cechy docelowej i cech wyjaśniających\n",
        "X = df.values\n",
        "y = target.values\n",
        "\n",
        "# Inicjowanie walidatora krzyżowego\n",
        "kf = RepeatedKFold(n_splits=5, n_repeats=10, random_state=42)\n",
        "\n",
        "# Tworzenie obiektów wielomianowych cech stopnia 2 i 3\n",
        "poly_features_2 = PolynomialFeatures(degree=2)\n",
        "poly_features_3 = PolynomialFeatures(degree=3)\n",
        "\n",
        "# Puste listy do przechowywania predykcji\n",
        "predictions_linear = []\n",
        "predictions_poly2 = []\n",
        "predictions_poly3 = []\n",
        "predictions_knn = []\n",
        "\n",
        "# Pętla walidacji krzyżowej\n",
        "for train_index, test_index in kf.split(X):\n",
        "    X_train, X_test = X[train_index], X[test_index]\n",
        "    y_train, y_test = y[train_index], y[test_index]\n",
        "\n",
        "    # Tworzenie i trenowanie modelu regresji liniowej\n",
        "    model_linear = LinearRegression()\n",
        "    model_linear.fit(X_train, y_train)\n",
        "\n",
        "    # Predykcja dla regresji liniowej\n",
        "    y_pred_linear = model_linear.predict(X_test)\n",
        "    predictions_linear.extend(y_pred_linear)\n",
        "\n",
        "    # Przekształcanie danych wejściowych dla regresji wielomianowej stopnia 2\n",
        "    X_train_poly2 = poly_features_2.fit_transform(X_train)\n",
        "    X_test_poly2 = poly_features_2.transform(X_test)\n",
        "\n",
        "    # Przekształcanie danych wejściowych dla regresji wielomianowej stopnia 3\n",
        "    X_train_poly3 = poly_features_3.fit_transform(X_train)\n",
        "    X_test_poly3 = poly_features_3.transform(X_test)\n",
        "\n",
        "    # Tworzenie i trenowanie modelu regresji wielomianowej stopnia 2\n",
        "    model_poly2 = LinearRegression()\n",
        "    model_poly2.fit(X_train_poly2, y_train)\n",
        "\n",
        "    # Predykcja dla regresji wielomianowej stopnia 2\n",
        "    y_pred_poly2 = model_poly2.predict(X_test_poly2)\n",
        "    predictions_poly2.extend(y_pred_poly2)\n",
        "\n",
        "    # Tworzenie i trenowanie modelu regresji wielomianowej stopnia 3\n",
        "    model_poly3 = LinearRegression()\n",
        "    model_poly3.fit(X_train_poly3, y_train)\n",
        "\n",
        "    # Predykcja dla regresji wielomianowej stopnia 3\n",
        "    y_pred_poly3 = model_poly3.predict(X_test_poly3)\n",
        "    predictions_poly3.extend(y_pred_poly3)\n",
        "\n",
        "    # Tworzenie i trenowanie modelu k-NN\n",
        "    model_knn = KNeighborsRegressor(n_neighbors=5)  # Ustawienie liczby sąsiadów\n",
        "    model_knn.fit(X_train_poly2, y_train)  # Używamy wielomianowych cech stopnia 2 dla k-NN\n",
        "\n",
        "    # Predykcja dla k-NN\n",
        "    y_pred_knn = model_knn.predict(X_test_poly2)\n",
        "    predictions_knn.extend(y_pred_knn)\n",
        "\n",
        "# Wykres boxplot\n",
        "plt.figure(figsize=(10, 6))\n",
        "plt.boxplot([predictions_linear, predictions_poly2, predictions_poly3, predictions_knn], labels=['Regresja liniowa', 'Regresja wielomianowa (stopień=2)', 'Regresja wielomianowa (stopień=3)', 'Regresja k-NN'])\n",
        "plt.title('Porównanie różnych metod regresji')\n",
        "plt.ylabel('Predykcje')\n",
        "plt.show()"
      ],
      "metadata": {
        "colab": {
          "base_uri": "https://localhost:8080/",
          "height": 546
        },
        "id": "tah590yNwSBq",
        "outputId": "6beeb132-c1cc-4bef-d86f-325314158058"
      },
      "execution_count": 25,
      "outputs": [
        {
          "output_type": "display_data",
          "data": {
            "text/plain": [
              "<Figure size 1000x600 with 1 Axes>"
            ],
            "image/png": "[encoded data removed]"
          },
          "metadata": {}
        }
      ]
    },
    {
      "cell_type": "markdown",
      "source": [],
      "metadata": {
        "id": "v3GybrSX2U2J"
      }
    }
  ]
}