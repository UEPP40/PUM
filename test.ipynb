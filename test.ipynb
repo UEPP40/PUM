{
  "nbformat": 4,
  "nbformat_minor": 0,
  "metadata": {
    "colab": {
      "provenance": [],
      "include_colab_link": true
    },
    "kernelspec": {
      "name": "python3",
      "display_name": "Python 3"
    },
    "language_info": {
      "name": "python"
    }
  },
  "cells": [
    {
      "cell_type": "markdown",
      "metadata": {
        "id": "view-in-github",
        "colab_type": "text"
      },
      "source": [
        "<a href=\"https://colab.research.google.com/github/UEPP40/PUM/blob/Pietruszkiewicz/test.ipynb\" target=\"_parent\"><img src=\"https://colab.research.google.com/assets/colab-badge.svg\" alt=\"Open In Colab\"/></a>"
      ]
    },
    {
      "cell_type": "code",
      "source": [
        "import pandas as pd\n",
        "import numpy as np\n",
        "import matplotlib.pyplot as plt\n",
        "import seaborn as sns\n",
        "from sklearn.preprocessing import LabelEncoder\n",
        "\n",
        "\n",
        "df = pd.read_csv(\"train.csv\")\n",
        "# df.head(100)"
      ],
      "metadata": {
        "colab": {
          "base_uri": "https://localhost:8080/"
        },
        "id": "2G8Vx3siiSg-",
        "outputId": "6d444523-e917-42cf-a478-68a1d57d2c5e"
      },
      "execution_count": 147,
      "outputs": [
        {
          "output_type": "stream",
          "name": "stderr",
          "text": [
            "<ipython-input-147-d640984135cf>:8: DtypeWarning: Columns (26) have mixed types. Specify dtype option on import or set low_memory=False.\n",
            "  df = pd.read_csv(\"train.csv\")\n"
          ]
        }
      ]
    },
    {
      "cell_type": "code",
      "source": [
        "df.shape"
      ],
      "metadata": {
        "colab": {
          "base_uri": "https://localhost:8080/"
        },
        "id": "Ff4sPeg9wxG9",
        "outputId": "58d882d1-1308-4e6c-dd82-6feec440a620"
      },
      "execution_count": 148,
      "outputs": [
        {
          "output_type": "execute_result",
          "data": {
            "text/plain": [
              "(100000, 28)"
            ]
          },
          "metadata": {},
          "execution_count": 148
        }
      ]
    },
    {
      "cell_type": "code",
      "source": [
        "df.info()"
      ],
      "metadata": {
        "colab": {
          "base_uri": "https://localhost:8080/"
        },
        "id": "xtRyJB3Iw1cP",
        "outputId": "537b5c01-f187-43ea-c9ab-f237441e1bd1"
      },
      "execution_count": 149,
      "outputs": [
        {
          "output_type": "stream",
          "name": "stdout",
          "text": [
            "<class 'pandas.core.frame.DataFrame'>\n",
            "RangeIndex: 100000 entries, 0 to 99999\n",
            "Data columns (total 28 columns):\n",
            " #   Column                    Non-Null Count   Dtype  \n",
            "---  ------                    --------------   -----  \n",
            " 0   ID                        100000 non-null  object \n",
            " 1   Customer_ID               100000 non-null  object \n",
            " 2   Month                     100000 non-null  object \n",
            " 3   Name                      90015 non-null   object \n",
            " 4   Age                       100000 non-null  object \n",
            " 5   SSN                       100000 non-null  object \n",
            " 6   Occupation                100000 non-null  object \n",
            " 7   Annual_Income             100000 non-null  object \n",
            " 8   Monthly_Inhand_Salary     84998 non-null   float64\n",
            " 9   Num_Bank_Accounts         100000 non-null  int64  \n",
            " 10  Num_Credit_Card           100000 non-null  int64  \n",
            " 11  Interest_Rate             100000 non-null  int64  \n",
            " 12  Num_of_Loan               100000 non-null  object \n",
            " 13  Type_of_Loan              88592 non-null   object \n",
            " 14  Delay_from_due_date       100000 non-null  int64  \n",
            " 15  Num_of_Delayed_Payment    92998 non-null   object \n",
            " 16  Changed_Credit_Limit      100000 non-null  object \n",
            " 17  Num_Credit_Inquiries      98035 non-null   float64\n",
            " 18  Credit_Mix                100000 non-null  object \n",
            " 19  Outstanding_Debt          100000 non-null  object \n",
            " 20  Credit_Utilization_Ratio  100000 non-null  float64\n",
            " 21  Credit_History_Age        90970 non-null   object \n",
            " 22  Payment_of_Min_Amount     100000 non-null  object \n",
            " 23  Total_EMI_per_month       100000 non-null  float64\n",
            " 24  Amount_invested_monthly   95521 non-null   object \n",
            " 25  Payment_Behaviour         100000 non-null  object \n",
            " 26  Monthly_Balance           98800 non-null   object \n",
            " 27  Credit_Score              100000 non-null  object \n",
            "dtypes: float64(4), int64(4), object(20)\n",
            "memory usage: 21.4+ MB\n"
          ]
        }
      ]
    },
    {
      "cell_type": "code",
      "source": [
        "duplicates = df.duplicated(subset=['ID'])\n",
        "if duplicates.any():\n",
        "    print(\"Znaleziono duplikaty w kolumnie 'ID'.\")\n",
        "    print(df[duplicates])\n",
        "else:\n",
        "    print(\"Brak duplikatów w kolumnie 'ID'.\")\n"
      ],
      "metadata": {
        "colab": {
          "base_uri": "https://localhost:8080/"
        },
        "id": "-AtsjyTTxOt-",
        "outputId": "d86e485c-b52d-4bf1-db0d-435e08ce2f0a"
      },
      "execution_count": 150,
      "outputs": [
        {
          "output_type": "stream",
          "name": "stdout",
          "text": [
            "Brak duplikatów w kolumnie 'ID'.\n"
          ]
        }
      ]
    },
    {
      "cell_type": "code",
      "source": [
        "df.drop_duplicates"
      ],
      "metadata": {
        "id": "OsyMKVMxb4Ur",
        "outputId": "51cf9c12-4190-45b1-c73d-5f2637f45256",
        "colab": {
          "base_uri": "https://localhost:8080/",
          "height": 203
        }
      },
      "execution_count": 151,
      "outputs": [
        {
          "output_type": "execute_result",
          "data": {
            "text/plain": [
              "<bound method DataFrame.drop_duplicates of             ID Customer_ID     Month           Name   Age          SSN  \\\n",
              "0       0x1602   CUS_0xd40   January  Aaron Maashoh    23  821-00-0265   \n",
              "1       0x1603   CUS_0xd40  February  Aaron Maashoh    23  821-00-0265   \n",
              "2       0x1604   CUS_0xd40     March  Aaron Maashoh  -500  821-00-0265   \n",
              "3       0x1605   CUS_0xd40     April  Aaron Maashoh    23  821-00-0265   \n",
              "4       0x1606   CUS_0xd40       May  Aaron Maashoh    23  821-00-0265   \n",
              "...        ...         ...       ...            ...   ...          ...   \n",
              "99995  0x25fe9  CUS_0x942c     April          Nicks    25  078-73-5990   \n",
              "99996  0x25fea  CUS_0x942c       May          Nicks    25  078-73-5990   \n",
              "99997  0x25feb  CUS_0x942c      June          Nicks    25  078-73-5990   \n",
              "99998  0x25fec  CUS_0x942c      July          Nicks    25  078-73-5990   \n",
              "99999  0x25fed  CUS_0x942c    August          Nicks    25  078-73-5990   \n",
              "\n",
              "      Occupation Annual_Income  Monthly_Inhand_Salary  Num_Bank_Accounts  ...  \\\n",
              "0      Scientist      19114.12            1824.843333                  3  ...   \n",
              "1      Scientist      19114.12                    NaN                  3  ...   \n",
              "2      Scientist      19114.12                    NaN                  3  ...   \n",
              "3      Scientist      19114.12                    NaN                  3  ...   \n",
              "4      Scientist      19114.12            1824.843333                  3  ...   \n",
              "...          ...           ...                    ...                ...  ...   \n",
              "99995   Mechanic      39628.99            3359.415833                  4  ...   \n",
              "99996   Mechanic      39628.99            3359.415833                  4  ...   \n",
              "99997   Mechanic      39628.99            3359.415833                  4  ...   \n",
              "99998   Mechanic      39628.99            3359.415833                  4  ...   \n",
              "99999   Mechanic     39628.99_            3359.415833                  4  ...   \n",
              "\n",
              "       Credit_Mix  Outstanding_Debt Credit_Utilization_Ratio  \\\n",
              "0               _            809.98                26.822620   \n",
              "1            Good            809.98                31.944960   \n",
              "2            Good            809.98                28.609352   \n",
              "3            Good            809.98                31.377862   \n",
              "4            Good            809.98                24.797347   \n",
              "...           ...               ...                      ...   \n",
              "99995           _            502.38                34.663572   \n",
              "99996           _            502.38                40.565631   \n",
              "99997        Good            502.38                41.255522   \n",
              "99998        Good            502.38                33.638208   \n",
              "99999        Good            502.38                34.192463   \n",
              "\n",
              "           Credit_History_Age  Payment_of_Min_Amount Total_EMI_per_month  \\\n",
              "0       22 Years and 1 Months                     No           49.574949   \n",
              "1                         NaN                     No           49.574949   \n",
              "2       22 Years and 3 Months                     No           49.574949   \n",
              "3       22 Years and 4 Months                     No           49.574949   \n",
              "4       22 Years and 5 Months                     No           49.574949   \n",
              "...                       ...                    ...                 ...   \n",
              "99995   31 Years and 6 Months                     No           35.104023   \n",
              "99996   31 Years and 7 Months                     No           35.104023   \n",
              "99997   31 Years and 8 Months                     No           35.104023   \n",
              "99998   31 Years and 9 Months                     No           35.104023   \n",
              "99999  31 Years and 10 Months                     No           35.104023   \n",
              "\n",
              "      Amount_invested_monthly                 Payment_Behaviour  \\\n",
              "0           80.41529543900253   High_spent_Small_value_payments   \n",
              "1          118.28022162236736    Low_spent_Large_value_payments   \n",
              "2             81.699521264648   Low_spent_Medium_value_payments   \n",
              "3           199.4580743910713    Low_spent_Small_value_payments   \n",
              "4          41.420153086217326  High_spent_Medium_value_payments   \n",
              "...                       ...                               ...   \n",
              "99995       60.97133255718485   High_spent_Large_value_payments   \n",
              "99996       54.18595028760385  High_spent_Medium_value_payments   \n",
              "99997       24.02847744864441   High_spent_Large_value_payments   \n",
              "99998      251.67258219721603    Low_spent_Large_value_payments   \n",
              "99999       167.1638651610451                            !@9#%8   \n",
              "\n",
              "          Monthly_Balance Credit_Score  \n",
              "0      312.49408867943663         Good  \n",
              "1      284.62916249607184         Good  \n",
              "2       331.2098628537912         Good  \n",
              "3      223.45130972736786         Good  \n",
              "4      341.48923103222177         Good  \n",
              "...                   ...          ...  \n",
              "99995          479.866228         Poor  \n",
              "99996           496.65161         Poor  \n",
              "99997          516.809083         Poor  \n",
              "99998          319.164979     Standard  \n",
              "99999          393.673696         Poor  \n",
              "\n",
              "[100000 rows x 28 columns]>"
            ],
            "text/html": [
              "<div style=\"max-width:800px; border: 1px solid var(--colab-border-color);\"><style>\n",
              "      pre.function-repr-contents {\n",
              "        overflow-x: auto;\n",
              "        padding: 8px 12px;\n",
              "        max-height: 500px;\n",
              "      }\n",
              "\n",
              "      pre.function-repr-contents.function-repr-contents-collapsed {\n",
              "        cursor: pointer;\n",
              "        max-height: 100px;\n",
              "      }\n",
              "    </style>\n",
              "    <pre style=\"white-space: initial; background:\n",
              "         var(--colab-secondary-surface-color); padding: 8px 12px;\n",
              "         border-bottom: 1px solid var(--colab-border-color);\"><b>pandas.core.frame.DataFrame.drop_duplicates</b><br/>def drop_duplicates(subset: Hashable | Sequence[Hashable] | None=None, keep: Literal[&#x27;first&#x27;, &#x27;last&#x27;, False]=&#x27;first&#x27;, inplace: bool=False, ignore_index: bool=False) -&gt; DataFrame | None</pre><pre class=\"function-repr-contents function-repr-contents-collapsed\" style=\"\"><a class=\"filepath\" style=\"display:none\" href=\"#\">/usr/local/lib/python3.10/dist-packages/pandas/core/frame.py</a>Return DataFrame with duplicate rows removed.\n",
              "\n",
              "Considering certain columns is optional. Indexes, including time indexes\n",
              "are ignored.\n",
              "\n",
              "Parameters\n",
              "----------\n",
              "subset : column label or sequence of labels, optional\n",
              "    Only consider certain columns for identifying duplicates, by\n",
              "    default use all of the columns.\n",
              "keep : {&#x27;first&#x27;, &#x27;last&#x27;, False}, default &#x27;first&#x27;\n",
              "    Determines which duplicates (if any) to keep.\n",
              "    - ``first`` : Drop duplicates except for the first occurrence.\n",
              "    - ``last`` : Drop duplicates except for the last occurrence.\n",
              "    - False : Drop all duplicates.\n",
              "inplace : bool, default False\n",
              "    Whether to modify the DataFrame rather than creating a new one.\n",
              "ignore_index : bool, default False\n",
              "    If True, the resulting axis will be labeled 0, 1, …, n - 1.\n",
              "\n",
              "    .. versionadded:: 1.0.0\n",
              "\n",
              "Returns\n",
              "-------\n",
              "DataFrame or None\n",
              "    DataFrame with duplicates removed or None if ``inplace=True``.\n",
              "\n",
              "See Also\n",
              "--------\n",
              "DataFrame.value_counts: Count unique combinations of columns.\n",
              "\n",
              "Examples\n",
              "--------\n",
              "Consider dataset containing ramen rating.\n",
              "\n",
              "&gt;&gt;&gt; df = pd.DataFrame({\n",
              "...     &#x27;brand&#x27;: [&#x27;Yum Yum&#x27;, &#x27;Yum Yum&#x27;, &#x27;Indomie&#x27;, &#x27;Indomie&#x27;, &#x27;Indomie&#x27;],\n",
              "...     &#x27;style&#x27;: [&#x27;cup&#x27;, &#x27;cup&#x27;, &#x27;cup&#x27;, &#x27;pack&#x27;, &#x27;pack&#x27;],\n",
              "...     &#x27;rating&#x27;: [4, 4, 3.5, 15, 5]\n",
              "... })\n",
              "&gt;&gt;&gt; df\n",
              "    brand style  rating\n",
              "0  Yum Yum   cup     4.0\n",
              "1  Yum Yum   cup     4.0\n",
              "2  Indomie   cup     3.5\n",
              "3  Indomie  pack    15.0\n",
              "4  Indomie  pack     5.0\n",
              "\n",
              "By default, it removes duplicate rows based on all columns.\n",
              "\n",
              "&gt;&gt;&gt; df.drop_duplicates()\n",
              "    brand style  rating\n",
              "0  Yum Yum   cup     4.0\n",
              "2  Indomie   cup     3.5\n",
              "3  Indomie  pack    15.0\n",
              "4  Indomie  pack     5.0\n",
              "\n",
              "To remove duplicates on specific column(s), use ``subset``.\n",
              "\n",
              "&gt;&gt;&gt; df.drop_duplicates(subset=[&#x27;brand&#x27;])\n",
              "    brand style  rating\n",
              "0  Yum Yum   cup     4.0\n",
              "2  Indomie   cup     3.5\n",
              "\n",
              "To remove duplicates and keep last occurrences, use ``keep``.\n",
              "\n",
              "&gt;&gt;&gt; df.drop_duplicates(subset=[&#x27;brand&#x27;, &#x27;style&#x27;], keep=&#x27;last&#x27;)\n",
              "    brand style  rating\n",
              "1  Yum Yum   cup     4.0\n",
              "2  Indomie   cup     3.5\n",
              "4  Indomie  pack     5.0</pre>\n",
              "      <script>\n",
              "      if (google.colab.kernel.accessAllowed && google.colab.files && google.colab.files.view) {\n",
              "        for (const element of document.querySelectorAll('.filepath')) {\n",
              "          element.style.display = 'block'\n",
              "          element.onclick = (event) => {\n",
              "            event.preventDefault();\n",
              "            event.stopPropagation();\n",
              "            google.colab.files.view(element.textContent, 6586);\n",
              "          };\n",
              "        }\n",
              "      }\n",
              "      for (const element of document.querySelectorAll('.function-repr-contents')) {\n",
              "        element.onclick = (event) => {\n",
              "          event.preventDefault();\n",
              "          event.stopPropagation();\n",
              "          element.classList.toggle('function-repr-contents-collapsed');\n",
              "        };\n",
              "      }\n",
              "      </script>\n",
              "      </div>"
            ]
          },
          "metadata": {},
          "execution_count": 151
        }
      ]
    },
    {
      "cell_type": "code",
      "source": [
        "df['ID'] = df['ID'].astype(str)\n",
        "df['Customer_ID'] = df['Customer_ID'].astype(str)\n",
        "df['Month'] = df['Month'].astype(str)\n",
        "df['Name'] = df['Name'].astype(str)\n",
        "\n",
        "df['Age'] = df['Age'].astype(str)\n",
        "df['Age'] = df['Age'].str.replace('_', '')\n",
        "df['Age'] = pd.to_numeric(df['Age'], errors='coerce')\n",
        "df['Age'] = df['Age'].fillna(method = 'pad').astype(int)\n",
        "\n",
        "df['SSN'] = df['SSN'].astype(str)\n",
        "df['Occupation'] = df['Occupation'].astype(str)\n",
        "\n",
        "df['Annual_Income'] = df['Annual_Income'].astype(str)\n",
        "df['Annual_Income'] = df['Annual_Income'].str.replace('_', '')\n",
        "df['Annual_Income'] = pd.to_numeric(df['Annual_Income'], errors='coerce')\n",
        "df['Annual_Income'] = df['Annual_Income'].fillna(method = 'pad').astype(float)\n",
        "\n",
        "df['Monthly_Inhand_Salary'] = df['Monthly_Inhand_Salary'].astype(str)\n",
        "df['Monthly_Inhand_Salary'] = df['Monthly_Inhand_Salary'].str.replace('_', '')\n",
        "df['Monthly_Inhand_Salary'] = pd.to_numeric(df['Monthly_Inhand_Salary'], errors='coerce')\n",
        "df['Monthly_Inhand_Salary'] = df['Monthly_Inhand_Salary'].fillna(method = 'pad').astype(float)\n",
        "\n",
        "df['Num_Bank_Accounts'] = df['Num_Bank_Accounts'].astype(str)\n",
        "df['Num_Bank_Accounts'] = df['Num_Bank_Accounts'].str.replace('_', '')\n",
        "df['Num_Bank_Accounts'] = pd.to_numeric(df['Num_Bank_Accounts'], errors='coerce')\n",
        "df['Num_Bank_Accounts'] = df['Num_Bank_Accounts'].fillna(method = 'pad').astype(int)\n",
        "\n",
        "df['Num_Credit_Card'] = df['Num_Credit_Card'].astype(str)\n",
        "df['Num_Credit_Card'] = df['Num_Credit_Card'].str.replace('_', '')\n",
        "df['Num_Credit_Card'] = df['Num_Credit_Card'].astype(int)\n",
        "\n",
        "df['Interest_Rate'] = df['Interest_Rate'].astype(str)\n",
        "df['Interest_Rate'] = df['Interest_Rate'].str.replace('_', '')\n",
        "df['Interest_Rate'] = pd.to_numeric(df['Interest_Rate'], errors='coerce')\n",
        "df['Interest_Rate'] = df['Interest_Rate'].fillna(method = 'pad').astype(float)\n",
        "\n",
        "df['Num_of_Loan'] = df['Num_of_Loan'].astype(str)\n",
        "df['Num_of_Loan'] = df['Num_of_Loan'].str.replace('_', '')\n",
        "df['Num_of_Loan'] = pd.to_numeric(df['Num_of_Loan'], errors='coerce')\n",
        "df['Num_of_Loan'] = df['Num_of_Loan'].fillna(method = 'pad').astype(int)\n",
        "\n",
        "df['Type_of_Loan'] = df['Type_of_Loan'].astype(str)\n",
        "\n",
        "df['Delay_from_due_date'] = df['Delay_from_due_date'].astype(str)\n",
        "df['Delay_from_due_date'] = df['Delay_from_due_date'].str.replace('_', '')\n",
        "df['Delay_from_due_date'] = pd.to_numeric(df['Delay_from_due_date'], errors='coerce')\n",
        "df['Delay_from_due_date'] = df['Delay_from_due_date'].fillna(method = 'pad').astype(int)\n",
        "\n",
        "df['Num_of_Delayed_Payment'] = df['Num_of_Delayed_Payment'].astype(str)\n",
        "df['Num_of_Delayed_Payment'] = df['Num_of_Delayed_Payment'].str.replace('_', '')\n",
        "df['Num_of_Delayed_Payment'] = pd.to_numeric(df['Num_of_Delayed_Payment'], errors='coerce')\n",
        "df['Num_of_Delayed_Payment'] = df['Num_of_Delayed_Payment'].fillna(method = 'pad').astype(int)\n",
        "\n",
        "df['Changed_Credit_Limit'] = df['Changed_Credit_Limit'].astype(str)\n",
        "df['Changed_Credit_Limit'] = df['Changed_Credit_Limit'].str.replace('_', '')\n",
        "df['Changed_Credit_Limit'] = pd.to_numeric(df['Changed_Credit_Limit'], errors='coerce')\n",
        "df['Changed_Credit_Limit'] = df['Changed_Credit_Limit'].fillna(method = 'pad').astype(float)\n",
        "\n",
        "\n",
        "df['Num_Credit_Inquiries'] = df['Num_Credit_Inquiries'].astype(str)\n",
        "df['Num_Credit_Inquiries'] = df['Num_Credit_Inquiries'].str.replace('_', '')\n",
        "df['Num_Credit_Inquiries'] = pd.to_numeric(df['Num_Credit_Inquiries'], errors='coerce')\n",
        "df['Num_Credit_Inquiries'] = df['Num_Credit_Inquiries'].fillna(method = 'pad').astype(float)\n",
        "\n",
        "df['Credit_Mix'] = df['Credit_Mix'].astype(str)\n",
        "\n",
        "df['Outstanding_Debt'] = df['Outstanding_Debt'].astype(str)\n",
        "df['Outstanding_Debt'] = df['Outstanding_Debt'].str.replace('_', '')\n",
        "df['Outstanding_Debt'] = pd.to_numeric(df['Outstanding_Debt'], errors='coerce')\n",
        "df['Outstanding_Debt'] = df['Outstanding_Debt'].fillna(method = 'pad').astype(float)\n",
        "\n",
        "df['Credit_Utilization_Ratio'] = df['Credit_Utilization_Ratio'].astype(str)\n",
        "df['Credit_Utilization_Ratio'] = df['Credit_Utilization_Ratio'].str.replace('_', '')\n",
        "df['Credit_Utilization_Ratio'] = pd.to_numeric(df['Credit_Utilization_Ratio'], errors='coerce')\n",
        "df['Credit_Utilization_Ratio'] = df['Credit_Utilization_Ratio'].fillna(method = 'pad').astype(float)\n",
        "\n",
        "df['Credit_History_Age'] = df['Credit_History_Age'].astype(str)\n",
        "df['Payment_of_Min_Amount'] = df['Payment_of_Min_Amount'].astype(str)\n",
        "\n",
        "df['Total_EMI_per_month'] = df['Total_EMI_per_month'].astype(str)\n",
        "df['Total_EMI_per_month'] = df['Total_EMI_per_month'].str.replace('_', '')\n",
        "df['Total_EMI_per_month'] = pd.to_numeric(df['Total_EMI_per_month'], errors='coerce')\n",
        "df['Total_EMI_per_month'] = df['Total_EMI_per_month'].fillna(method = 'pad').astype(float)\n",
        "\n",
        "df['Amount_invested_monthly'] = df['Amount_invested_monthly'].astype(str)\n",
        "df['Amount_invested_monthly'] = df['Amount_invested_monthly'].str.replace('_', '')\n",
        "df['Amount_invested_monthly'] = pd.to_numeric(df['Amount_invested_monthly'], errors='coerce')\n",
        "df['Amount_invested_monthly'] = df['Amount_invested_monthly'].fillna(method = 'pad').astype(float)\n",
        "\n",
        "df['Payment_Behaviour'] = df['Payment_Behaviour'].astype(str)\n",
        "\n",
        "df['Monthly_Balance'] = df['Monthly_Balance'].astype(str)\n",
        "df['Monthly_Balance'] = df['Monthly_Balance'].str.replace('_', '')\n",
        "df['Monthly_Balance'] = pd.to_numeric(df['Monthly_Balance'], errors='coerce')\n",
        "df['Monthly_Balance'] = df['Monthly_Balance'].fillna(method = 'pad').astype(float)\n",
        "\n",
        "df['Credit_Score'] = df['Credit_Score'].astype(str)"
      ],
      "metadata": {
        "id": "QuqzvHv9rb9T"
      },
      "execution_count": 152,
      "outputs": []
    },
    {
      "cell_type": "code",
      "source": [
        "def convert_to_months(age_str):\n",
        "    if pd.isna(age_str):\n",
        "        return None\n",
        "    else:\n",
        "        parts = age_str.split(' Years and ')\n",
        "        if len(parts) == 2:\n",
        "            years = int(parts[0])\n",
        "            months_part = parts[1].split(' Months')\n",
        "            if len(months_part) == 2:\n",
        "                months = int(months_part[0])\n",
        "                return years * 12 + months\n",
        "            else:\n",
        "                return None\n",
        "        return None\n",
        "df['Credit_History_Age'] = df['Credit_History_Age'].apply(convert_to_months)"
      ],
      "metadata": {
        "id": "cUj9m93x5JjQ"
      },
      "execution_count": 153,
      "outputs": []
    },
    {
      "cell_type": "code",
      "source": [
        "df['Credit_History_Age'].head()"
      ],
      "metadata": {
        "id": "465roeic5MaI",
        "outputId": "ad3264cc-d17c-4e87-bd4e-d501f66b6c6a",
        "colab": {
          "base_uri": "https://localhost:8080/"
        }
      },
      "execution_count": 154,
      "outputs": [
        {
          "output_type": "execute_result",
          "data": {
            "text/plain": [
              "0    265.0\n",
              "1      NaN\n",
              "2    267.0\n",
              "3    268.0\n",
              "4    269.0\n",
              "Name: Credit_History_Age, dtype: float64"
            ]
          },
          "metadata": {},
          "execution_count": 154
        }
      ]
    }
  ]
}