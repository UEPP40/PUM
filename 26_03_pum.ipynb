{
  "nbformat": 4,
  "nbformat_minor": 0,
  "metadata": {
    "colab": {
      "provenance": [],
      "authorship_tag": "ABX9TyN0t8ZJ8IPJcw6pYGF1yyXw",
      "include_colab_link": true
    },
    "kernelspec": {
      "name": "python3",
      "display_name": "Python 3"
    },
    "language_info": {
      "name": "python"
    }
  },
  "cells": [
    {
      "cell_type": "markdown",
      "metadata": {
        "id": "view-in-github",
        "colab_type": "text"
      },
      "source": [
        "<a href=\"https://colab.research.google.com/github/UEPP40/PUM/blob/Ranosz_testowy/26_03_pum.ipynb\" target=\"_parent\"><img src=\"https://colab.research.google.com/assets/colab-badge.svg\" alt=\"Open In Colab\"/></a>"
      ]
    },
    {
      "cell_type": "code",
      "execution_count": 44,
      "metadata": {
        "id": "YU80SKILpI2b"
      },
      "outputs": [],
      "source": [
        "import pandas as pd\n",
        "from numpy import mean\n",
        "from numpy import std\n",
        "from numpy import absolute\n",
        "\n",
        "from matplotlib import pyplot\n",
        "\n",
        "from sklearn.datasets import fetch_california_housing\n",
        "\n",
        "from sklearn.model_selection import cross_val_score\n",
        "from sklearn.model_selection import KFold\n",
        "from sklearn.model_selection import RepeatedKFold\n",
        "\n",
        "from sklearn.pipeline import Pipeline\n",
        "\n",
        "from sklearn.linear_model import LinearRegression\n",
        "from sklearn.linear_model import HuberRegressor\n",
        "from sklearn.compose import TransformedTargetRegressor\n",
        "\n",
        "from sklearn.preprocessing import PolynomialFeatures\n",
        "from sklearn.preprocessing import MinMaxScaler\n",
        "\n",
        "from sklearn.metrics import mean_squared_error"
      ]
    },
    {
      "cell_type": "code",
      "source": [
        "# load data\n",
        "housing = fetch_california_housing()\n",
        "print(housing.data.shape, housing.target.shape)\n",
        "print(housing.feature_names)\n",
        "X = pd.DataFrame(data = housing.data, columns = housing.feature_names)\n",
        "print(X.head())\n",
        "y = housing.target"
      ],
      "metadata": {
        "colab": {
          "base_uri": "https://localhost:8080/"
        },
        "id": "2qR4OXzsqkQL",
        "outputId": "e61843c9-1999-4a99-b3fe-851605c09ff4"
      },
      "execution_count": 45,
      "outputs": [
        {
          "output_type": "stream",
          "name": "stdout",
          "text": [
            "(20640, 8) (20640,)\n",
            "['MedInc', 'HouseAge', 'AveRooms', 'AveBedrms', 'Population', 'AveOccup', 'Latitude', 'Longitude']\n",
            "   MedInc  HouseAge  AveRooms  AveBedrms  Population  AveOccup  Latitude  \\\n",
            "0  8.3252      41.0  6.984127   1.023810       322.0  2.555556     37.88   \n",
            "1  8.3014      21.0  6.238137   0.971880      2401.0  2.109842     37.86   \n",
            "2  7.2574      52.0  8.288136   1.073446       496.0  2.802260     37.85   \n",
            "3  5.6431      52.0  5.817352   1.073059       558.0  2.547945     37.85   \n",
            "4  3.8462      52.0  6.281853   1.081081       565.0  2.181467     37.85   \n",
            "\n",
            "   Longitude  \n",
            "0    -122.23  \n",
            "1    -122.22  \n",
            "2    -122.24  \n",
            "3    -122.25  \n",
            "4    -122.25  \n"
          ]
        }
      ]
    },
    {
      "cell_type": "code",
      "source": [
        "from sklearn.metrics import get_scorer_names\n",
        "all_scorers = get_scorer_names()\n",
        "type(all_scorers)\n",
        "print(all_scorers)"
      ],
      "metadata": {
        "colab": {
          "base_uri": "https://localhost:8080/"
        },
        "id": "meCDtk9S39zh",
        "outputId": "81f2d0d5-4c9b-40f3-9303-469d794847b5"
      },
      "execution_count": 46,
      "outputs": [
        {
          "output_type": "stream",
          "name": "stdout",
          "text": [
            "['accuracy', 'adjusted_mutual_info_score', 'adjusted_rand_score', 'average_precision', 'balanced_accuracy', 'completeness_score', 'explained_variance', 'f1', 'f1_macro', 'f1_micro', 'f1_samples', 'f1_weighted', 'fowlkes_mallows_score', 'homogeneity_score', 'jaccard', 'jaccard_macro', 'jaccard_micro', 'jaccard_samples', 'jaccard_weighted', 'matthews_corrcoef', 'max_error', 'mutual_info_score', 'neg_brier_score', 'neg_log_loss', 'neg_mean_absolute_error', 'neg_mean_absolute_percentage_error', 'neg_mean_gamma_deviance', 'neg_mean_poisson_deviance', 'neg_mean_squared_error', 'neg_mean_squared_log_error', 'neg_median_absolute_error', 'neg_negative_likelihood_ratio', 'neg_root_mean_squared_error', 'normalized_mutual_info_score', 'positive_likelihood_ratio', 'precision', 'precision_macro', 'precision_micro', 'precision_samples', 'precision_weighted', 'r2', 'rand_score', 'recall', 'recall_macro', 'recall_micro', 'recall_samples', 'recall_weighted', 'roc_auc', 'roc_auc_ovo', 'roc_auc_ovo_weighted', 'roc_auc_ovr', 'roc_auc_ovr_weighted', 'top_k_accuracy', 'v_measure_score']\n"
          ]
        }
      ]
    },
    {
      "cell_type": "code",
      "source": [
        "# Przećwicz\n",
        "# Zbuduj regresję szacującą wysokość wypłaty w wersjach:\n",
        "# Regresja wielomianowa stopnia 2\n",
        "# Regresja wielomianowa stopnia 2\n",
        "# Regresja z wykorzystanie k-NN\n",
        "# Wykorzystaj walidacje krzyżową typu RepeatedKFold\n",
        "# Porównaj wyniki na wykresie\n",
        "cv = RepeatedKFold(n_splits=5, n_repeats=5, random_state=1)\n",
        "reg = LinearRegression()\n",
        "scores_nl = cross_val_score(reg, X, y, scoring='neg_mean_absolute_error', cv=cv)\n",
        "# scores_nl = cross_val_score(reg, X, y, cv=cv)\n",
        "print(scores_nl)\n"
      ],
      "metadata": {
        "colab": {
          "base_uri": "https://localhost:8080/"
        },
        "id": "2h8GPH24rSNp",
        "outputId": "4bec8d1b-f989-405d-ab0e-39e540031b98"
      },
      "execution_count": 47,
      "outputs": [
        {
          "output_type": "stream",
          "name": "stdout",
          "text": [
            "[-0.53286851 -0.52878709 -0.53770585 -0.52744413 -0.5316177  -0.51838361\n",
            " -0.54599058 -0.54441511 -0.52572175 -0.52433106 -0.53594667 -0.5264349\n",
            " -0.52975192 -0.53645394 -0.52883193 -0.52756796 -0.53376565 -0.54080917\n",
            " -0.52410467 -0.5328948  -0.53331152 -0.54714239 -0.52155503 -0.53514727\n",
            " -0.53577333]\n"
          ]
        }
      ]
    },
    {
      "cell_type": "code",
      "source": [
        "poly = PolynomialFeatures(degree=2)\n",
        "poly_2_X = poly.fit_transform(X)\n",
        "scores_nl_poly_2 = cross_val_score(reg, poly_2_X, y, scoring='neg_mean_absolute_error', cv=cv)\n",
        "# scores_nl_poly_2 = cross_val_score(reg, poly_2_X, y, cv=cv)\n",
        "print(scores_nl_poly_2)"
      ],
      "metadata": {
        "colab": {
          "base_uri": "https://localhost:8080/"
        },
        "id": "tQHKEK-kxBEf",
        "outputId": "f3f60d08-cdf1-4dd6-ac05-50fc5e1b289a"
      },
      "execution_count": 48,
      "outputs": [
        {
          "output_type": "stream",
          "name": "stdout",
          "text": [
            "[-0.46068688 -0.46520339 -0.48962711 -0.53463121 -0.46972893 -0.45852361\n",
            " -0.5073441  -0.55725589 -0.45461183 -0.45874716 -0.48855883 -0.46910137\n",
            " -0.46268312 -0.4657843  -0.53521965 -0.46827252 -0.65348789 -0.48126515\n",
            " -0.45291146 -0.47421852 -0.46808185 -0.73837247 -0.46453799 -0.47494396\n",
            " -0.46972059]\n"
          ]
        }
      ]
    },
    {
      "cell_type": "code",
      "source": [
        "poly = PolynomialFeatures(degree=3)\n",
        "poly_3_X = poly.fit_transform(X)\n",
        "scores_nl_poly_3 = cross_val_score(reg, poly_3_X, y, scoring='neg_mean_absolute_error', cv=cv)\n",
        "# scores_nl_poly_3 = cross_val_score(reg, poly_3_X, y, cv=cv)\n",
        "print(scores_nl_poly_3)"
      ],
      "metadata": {
        "colab": {
          "base_uri": "https://localhost:8080/"
        },
        "id": "redZU2_fyJYD",
        "outputId": "49a9b5fb-782c-4d6c-aa6e-12fce1ee1bd7"
      },
      "execution_count": 49,
      "outputs": [
        {
          "output_type": "stream",
          "name": "stdout",
          "text": [
            "[ -0.44583649  -0.43418764  -3.13814801  -2.68079974  -0.45236965\n",
            "  -0.46898174  -9.76736783 -11.46457604  -0.44884403  -0.42936489\n",
            " -10.06621983  -0.56477951  -0.57872008  -0.44306017  -5.64384053\n",
            "  -0.55661588 -33.28861067  -0.51706274  -0.42191951  -1.88780113\n",
            "  -0.44427609 -69.86595766  -0.61333829  -0.48673074  -0.52367037]\n"
          ]
        }
      ]
    },
    {
      "cell_type": "code",
      "source": [
        "from sklearn.neighbors import KNeighborsRegressor\n",
        "neigh = KNeighborsRegressor(n_neighbors=2)\n",
        "scores_knn = cross_val_score(neigh, X, y, scoring='neg_mean_absolute_error', cv=cv)\n",
        "# scores_knn = cross_val_score(neigh, X, y, cv=cv)"
      ],
      "metadata": {
        "id": "slCcRyL0yRbD"
      },
      "execution_count": 50,
      "outputs": []
    },
    {
      "cell_type": "code",
      "source": [
        "pyplot.boxplot([scores_nl,scores_nl_poly_2,scores_nl_poly_3, scores_knn], showmeans=True)\n",
        "pyplot.ylim(-1, 0,5)\n",
        "pyplot.show()\n",
        "# widac overfitting na regresji wielomianowej 3 stopnia"
      ],
      "metadata": {
        "colab": {
          "base_uri": "https://localhost:8080/",
          "height": 490
        },
        "id": "bD1numOJ1ccP",
        "outputId": "2a317f3f-409a-4797-c6be-cc9b4867cbc1"
      },
      "execution_count": 51,
      "outputs": [
        {
          "output_type": "stream",
          "name": "stderr",
          "text": [
            "<ipython-input-51-8f1ed3863bd9>:2: MatplotlibDeprecationWarning: Passing the emit parameter of set_ylim() positionally is deprecated since Matplotlib 3.6; the parameter will become keyword-only two minor releases later.\n",
            "  pyplot.ylim(-1, 0,5)\n"
          ]
        },
        {
          "output_type": "display_data",
          "data": {
            "text/plain": [
              "<Figure size 640x480 with 1 Axes>"
            ],
            "image/png": "[encoded data removed]"
          },
          "metadata": {}
        }
      ]
    },
    {
      "cell_type": "code",
      "source": [
        "# prepare the model without scaling\n",
        "model = TransformedTargetRegressor(regressor=LinearRegression())\n",
        "# evaluate the model\n",
        "scores_tv = cross_val_score(model, X, y, scoring='neg_mean_absolute_error', cv=cv)\n",
        "# convert scores to positive\n",
        "# scores = absolute(scores_tv) - niepotrzebne bo mamy ujemne\n",
        "# summarize the result\n",
        "s_mean = mean(scores_tv)\n",
        "print(scores_tv)\n",
        "print('Mean MAE: %.3f' % (s_mean))\n",
        "\n",
        "# plot the results\n",
        "pyplot.boxplot([scores_nl,scores_nl_poly_2,scores_nl_poly_3, scores_knn, scores_tv], showmeans=True)\n",
        "pyplot.ylim(-1, 0,5)\n",
        "pyplot.show()"
      ],
      "metadata": {
        "colab": {
          "base_uri": "https://localhost:8080/",
          "height": 594
        },
        "id": "7bV8Bdko8q4I",
        "outputId": "fc06dfea-f283-4031-e427-814c9d5f5889"
      },
      "execution_count": 52,
      "outputs": [
        {
          "output_type": "stream",
          "name": "stdout",
          "text": [
            "[-0.53286851 -0.52878709 -0.53770585 -0.52744413 -0.5316177  -0.51838361\n",
            " -0.54599058 -0.54441511 -0.52572175 -0.52433106 -0.53594667 -0.5264349\n",
            " -0.52975192 -0.53645394 -0.52883193 -0.52756796 -0.53376565 -0.54080917\n",
            " -0.52410467 -0.5328948  -0.53331152 -0.54714239 -0.52155503 -0.53514727\n",
            " -0.53577333]\n",
            "Mean MAE: -0.532\n"
          ]
        },
        {
          "output_type": "stream",
          "name": "stderr",
          "text": [
            "<ipython-input-52-e18f35ec82e3>:14: MatplotlibDeprecationWarning: Passing the emit parameter of set_ylim() positionally is deprecated since Matplotlib 3.6; the parameter will become keyword-only two minor releases later.\n",
            "  pyplot.ylim(-1, 0,5)\n"
          ]
        },
        {
          "output_type": "display_data",
          "data": {
            "text/plain": [
              "<Figure size 640x480 with 1 Axes>"
            ],
            "image/png": "[encoded data removed]"
          },
          "metadata": {}
        }
      ]
    }
  ]
}