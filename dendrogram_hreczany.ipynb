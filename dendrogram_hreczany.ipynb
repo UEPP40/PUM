{
  "nbformat": 4,
  "nbformat_minor": 0,
  "metadata": {
    "colab": {
      "provenance": [],
      "authorship_tag": "ABX9TyOVAzOogdEjXttQ7LTHgaQG",
      "include_colab_link": true
    },
    "kernelspec": {
      "name": "python3",
      "display_name": "Python 3"
    },
    "language_info": {
      "name": "python"
    }
  },
  "cells": [
    {
      "cell_type": "markdown",
      "metadata": {
        "id": "view-in-github",
        "colab_type": "text"
      },
      "source": [
        "<a href=\"https://colab.research.google.com/github/UEPP40/PUM/blob/hreczany/dendrogram_hreczany.ipynb\" target=\"_parent\"><img src=\"https://colab.research.google.com/assets/colab-badge.svg\" alt=\"Open In Colab\"/></a>"
      ]
    },
    {
      "cell_type": "code",
      "execution_count": 1,
      "metadata": {
        "id": "LDKWt554zW3w"
      },
      "outputs": [],
      "source": [
        "import pandas as pd\n",
        "import numpy as np\n",
        "import matplotlib.pyplot as plt\n",
        "from sklearn.cluster import KMeans\n",
        "from sklearn.preprocessing import StandardScaler\n",
        "from scipy.cluster.hierarchy import dendrogram, linkage\n"
      ]
    },
    {
      "cell_type": "code",
      "source": [
        "data = pd.read_csv('/content/countries of the world (2).csv')\n",
        "print(data.head())\n",
        "print(data.info())\n",
        "print(data.describe())\n",
        "print(data.isnull().sum())"
      ],
      "metadata": {
        "colab": {
          "base_uri": "https://localhost:8080/"
        },
        "id": "BdPnR5300kOO",
        "outputId": "d24af32d-37ce-4556-9e65-ddec9d54cf98"
      },
      "execution_count": 2,
      "outputs": [
        {
          "output_type": "stream",
          "name": "stdout",
          "text": [
            "           Country                               Region  Population  \\\n",
            "0     Afghanistan         ASIA (EX. NEAR EAST)             31056997   \n",
            "1         Albania   EASTERN EUROPE                          3581655   \n",
            "2         Algeria   NORTHERN AFRICA                        32930091   \n",
            "3  American Samoa   OCEANIA                                   57794   \n",
            "4         Andorra   WESTERN EUROPE                            71201   \n",
            "\n",
            "   Area (sq. mi.) Pop. Density (per sq. mi.) Coastline (coast/area ratio)  \\\n",
            "0          647500                       48,0                         0,00   \n",
            "1           28748                      124,6                         1,26   \n",
            "2         2381740                       13,8                         0,04   \n",
            "3             199                      290,4                        58,29   \n",
            "4             468                      152,1                         0,00   \n",
            "\n",
            "  Net migration Infant mortality (per 1000 births)  GDP ($ per capita)  \\\n",
            "0         23,06                             163,07               700.0   \n",
            "1         -4,93                              21,52              4500.0   \n",
            "2         -0,39                                 31              6000.0   \n",
            "3        -20,71                               9,27              8000.0   \n",
            "4           6,6                               4,05             19000.0   \n",
            "\n",
            "  Literacy (%) Phones (per 1000) Arable (%) Crops (%) Other (%) Climate  \\\n",
            "0         36,0               3,2      12,13      0,22     87,65       1   \n",
            "1         86,5              71,2      21,09      4,42     74,49       3   \n",
            "2         70,0              78,1       3,22      0,25     96,53       1   \n",
            "3         97,0             259,5         10        15        75       2   \n",
            "4        100,0             497,2       2,22         0     97,78       3   \n",
            "\n",
            "  Birthrate Deathrate Agriculture Industry Service  \n",
            "0      46,6     20,34        0,38     0,24    0,38  \n",
            "1     15,11      5,22       0,232    0,188   0,579  \n",
            "2     17,14      4,61       0,101      0,6   0,298  \n",
            "3     22,46      3,27         NaN      NaN     NaN  \n",
            "4      8,71      6,25         NaN      NaN     NaN  \n",
            "<class 'pandas.core.frame.DataFrame'>\n",
            "RangeIndex: 227 entries, 0 to 226\n",
            "Data columns (total 20 columns):\n",
            " #   Column                              Non-Null Count  Dtype  \n",
            "---  ------                              --------------  -----  \n",
            " 0   Country                             227 non-null    object \n",
            " 1   Region                              227 non-null    object \n",
            " 2   Population                          227 non-null    int64  \n",
            " 3   Area (sq. mi.)                      227 non-null    int64  \n",
            " 4   Pop. Density (per sq. mi.)          227 non-null    object \n",
            " 5   Coastline (coast/area ratio)        227 non-null    object \n",
            " 6   Net migration                       224 non-null    object \n",
            " 7   Infant mortality (per 1000 births)  224 non-null    object \n",
            " 8   GDP ($ per capita)                  226 non-null    float64\n",
            " 9   Literacy (%)                        209 non-null    object \n",
            " 10  Phones (per 1000)                   223 non-null    object \n",
            " 11  Arable (%)                          225 non-null    object \n",
            " 12  Crops (%)                           225 non-null    object \n",
            " 13  Other (%)                           225 non-null    object \n",
            " 14  Climate                             205 non-null    object \n",
            " 15  Birthrate                           224 non-null    object \n",
            " 16  Deathrate                           223 non-null    object \n",
            " 17  Agriculture                         212 non-null    object \n",
            " 18  Industry                            211 non-null    object \n",
            " 19  Service                             212 non-null    object \n",
            "dtypes: float64(1), int64(2), object(17)\n",
            "memory usage: 35.6+ KB\n",
            "None\n",
            "         Population  Area (sq. mi.)  GDP ($ per capita)\n",
            "count  2.270000e+02    2.270000e+02          226.000000\n",
            "mean   2.874028e+07    5.982270e+05         9689.823009\n",
            "std    1.178913e+08    1.790282e+06        10049.138513\n",
            "min    7.026000e+03    2.000000e+00          500.000000\n",
            "25%    4.376240e+05    4.647500e+03         1900.000000\n",
            "50%    4.786994e+06    8.660000e+04         5550.000000\n",
            "75%    1.749777e+07    4.418110e+05        15700.000000\n",
            "max    1.313974e+09    1.707520e+07        55100.000000\n",
            "Country                                0\n",
            "Region                                 0\n",
            "Population                             0\n",
            "Area (sq. mi.)                         0\n",
            "Pop. Density (per sq. mi.)             0\n",
            "Coastline (coast/area ratio)           0\n",
            "Net migration                          3\n",
            "Infant mortality (per 1000 births)     3\n",
            "GDP ($ per capita)                     1\n",
            "Literacy (%)                          18\n",
            "Phones (per 1000)                      4\n",
            "Arable (%)                             2\n",
            "Crops (%)                              2\n",
            "Other (%)                              2\n",
            "Climate                               22\n",
            "Birthrate                              3\n",
            "Deathrate                              4\n",
            "Agriculture                           15\n",
            "Industry                              16\n",
            "Service                               15\n",
            "dtype: int64\n"
          ]
        }
      ]
    },
    {
      "cell_type": "code",
      "source": [
        "X = data.drop(['Country', 'Region'], axis=1)  # Usunięcie kolumn 'Country' i 'Region'\n",
        "X = X.replace(',', '.', regex=True).astype(float)  # Zamiana przecinków na kropki i konwersja na float\n",
        "X.fillna(X.mean(), inplace=True)  # Wypełnienie brakujących wartości średnią"
      ],
      "metadata": {
        "id": "DjdKt0I8080T"
      },
      "execution_count": 3,
      "outputs": []
    },
    {
      "cell_type": "code",
      "source": [
        "scaler = StandardScaler()\n",
        "X_scaled = scaler.fit_transform(X)"
      ],
      "metadata": {
        "id": "29GzpczS1FAk"
      },
      "execution_count": 4,
      "outputs": []
    },
    {
      "cell_type": "code",
      "source": [
        "kmeans = KMeans(n_clusters=7, random_state=42)\n",
        "kmeans.fit(X_scaled)\n",
        "clusters = kmeans.labels_"
      ],
      "metadata": {
        "colab": {
          "base_uri": "https://localhost:8080/"
        },
        "id": "Kf1C76TX1IQ5",
        "outputId": "b5e9889b-e60e-46b3-960b-ba1da6279b33"
      },
      "execution_count": 9,
      "outputs": [
        {
          "output_type": "stream",
          "name": "stderr",
          "text": [
            "/usr/local/lib/python3.10/dist-packages/sklearn/cluster/_kmeans.py:870: FutureWarning: The default value of `n_init` will change from 10 to 'auto' in 1.4. Set the value of `n_init` explicitly to suppress the warning\n",
            "  warnings.warn(\n"
          ]
        }
      ]
    },
    {
      "cell_type": "code",
      "source": [
        "data['Cluster'] = clusters"
      ],
      "metadata": {
        "id": "IWkbgIU71Mzj"
      },
      "execution_count": 10,
      "outputs": []
    },
    {
      "cell_type": "code",
      "source": [
        "print(data['Cluster'].value_counts())"
      ],
      "metadata": {
        "colab": {
          "base_uri": "https://localhost:8080/"
        },
        "id": "91ExULW51USv",
        "outputId": "093f37aa-2ba8-41e0-8042-db3a6d49e75a"
      },
      "execution_count": 11,
      "outputs": [
        {
          "output_type": "stream",
          "name": "stdout",
          "text": [
            "Cluster\n",
            "1    66\n",
            "6    51\n",
            "3    43\n",
            "0    37\n",
            "2    24\n",
            "4     4\n",
            "5     2\n",
            "Name: count, dtype: int64\n"
          ]
        }
      ]
    },
    {
      "cell_type": "code",
      "source": [
        "plt.figure(figsize=(12, 6))\n",
        "dendrogram(linkage(X_scaled, method='ward'), truncate_mode='lastp', p=12)\n",
        "plt.title('Dendrogram')\n",
        "plt.xlabel('Samples')\n",
        "plt.ylabel('Distance')\n",
        "plt.show()"
      ],
      "metadata": {
        "colab": {
          "base_uri": "https://localhost:8080/",
          "height": 568
        },
        "id": "L-wImzBA1YjL",
        "outputId": "034d87da-7b2e-4db3-8e44-b8f3ae7249ca"
      },
      "execution_count": 13,
      "outputs": [
        {
          "output_type": "display_data",
          "data": {
            "text/plain": [
              "<Figure size 1200x600 with 1 Axes>"
            ],
            "image/png": "[encoded data removed]"
          },
          "metadata": {}
        }
      ]
    }
  ]
}