{
  "nbformat": 4,
  "nbformat_minor": 0,
  "metadata": {
    "colab": {
      "provenance": [],
      "authorship_tag": "ABX9TyMeWyf5UQiKCjMPONqDnAmJ",
      "include_colab_link": true
    },
    "kernelspec": {
      "name": "python3",
      "display_name": "Python 3"
    },
    "language_info": {
      "name": "python"
    }
  },
  "cells": [
    {
      "cell_type": "markdown",
      "metadata": {
        "id": "view-in-github",
        "colab_type": "text"
      },
      "source": [
        "<a href=\"https://colab.research.google.com/github/UEPP40/PUM/blob/Grabowski/cw02.ipynb\" target=\"_parent\"><img src=\"https://colab.research.google.com/assets/colab-badge.svg\" alt=\"Open In Colab\"/></a>"
      ]
    },
    {
      "cell_type": "code",
      "execution_count": 7,
      "metadata": {
        "id": "n4d3ehyQfsut"
      },
      "outputs": [],
      "source": [
        "import numpy as np\n",
        "import pandas as pd\n",
        "import matplotlib.pyplot as plt\n",
        "import seaborn as sns\n",
        "from sklearn.preprocessing import LabelEncoder\n",
        "import math\n",
        "from sklearn.preprocessing import MinMaxScaler,StandardScaler\n",
        "from sklearn.model_selection import train_test_split"
      ]
    },
    {
      "cell_type": "code",
      "source": [
        "#zaczytaj dane z pliku csv\n",
        "df_train = pd.read_csv(\"/content/sample_data/train.csv\", sep = \",\" , encoding= 'utf-8')\n",
        "\n",
        "#wyświetl część tabeli\n",
        "df_train.head()\n",
        "#usuń wiersze z duplikatami id\n",
        "df_train.drop_duplicates(subset=\"ID\", inplace=True)\n",
        "df = df_train"
      ],
      "metadata": {
        "colab": {
          "base_uri": "https://localhost:8080/"
        },
        "id": "QlPfQQYMhRsk",
        "outputId": "ff00c530-06f3-4409-9aec-6dce7906bdbf"
      },
      "execution_count": 12,
      "outputs": [
        {
          "output_type": "stream",
          "name": "stderr",
          "text": [
            "<ipython-input-12-c8af7b87c58e>:2: DtypeWarning: Columns (26) have mixed types. Specify dtype option on import or set low_memory=False.\n",
            "  df_train = pd.read_csv(\"/content/sample_data/train.csv\", sep = \",\" , encoding= 'utf-8')\n"
          ]
        }
      ]
    },
    {
      "cell_type": "code",
      "source": [
        "#opisz statystyki danych\n",
        "df.describe()\n",
        "#zlicz różne wartości danych\n",
        "for i in df.columns:\n",
        "  print(df[i].value_counts())\n",
        "print('*'*50)"
      ],
      "metadata": {
        "id": "i6Y3kqrWhZxb"
      },
      "execution_count": null,
      "outputs": []
    },
    {
      "cell_type": "code",
      "source": [
        "df.info()\n"
      ],
      "metadata": {
        "colab": {
          "base_uri": "https://localhost:8080/"
        },
        "id": "M43MWRESwntm",
        "outputId": "51cac6fd-ec17-4866-a848-021e300507fa"
      },
      "execution_count": 15,
      "outputs": [
        {
          "output_type": "stream",
          "name": "stdout",
          "text": [
            "<class 'pandas.core.frame.DataFrame'>\n",
            "Int64Index: 100000 entries, 0 to 99999\n",
            "Data columns (total 28 columns):\n",
            " #   Column                    Non-Null Count   Dtype  \n",
            "---  ------                    --------------   -----  \n",
            " 0   ID                        100000 non-null  object \n",
            " 1   Customer_ID               100000 non-null  object \n",
            " 2   Month                     100000 non-null  object \n",
            " 3   Name                      90015 non-null   object \n",
            " 4   Age                       100000 non-null  object \n",
            " 5   SSN                       100000 non-null  object \n",
            " 6   Occupation                100000 non-null  object \n",
            " 7   Annual_Income             100000 non-null  object \n",
            " 8   Monthly_Inhand_Salary     84998 non-null   float64\n",
            " 9   Num_Bank_Accounts         100000 non-null  int64  \n",
            " 10  Num_Credit_Card           100000 non-null  int64  \n",
            " 11  Interest_Rate             100000 non-null  int64  \n",
            " 12  Num_of_Loan               100000 non-null  object \n",
            " 13  Type_of_Loan              88592 non-null   object \n",
            " 14  Delay_from_due_date       100000 non-null  int64  \n",
            " 15  Num_of_Delayed_Payment    92998 non-null   object \n",
            " 16  Changed_Credit_Limit      100000 non-null  object \n",
            " 17  Num_Credit_Inquiries      98035 non-null   float64\n",
            " 18  Credit_Mix                100000 non-null  object \n",
            " 19  Outstanding_Debt          100000 non-null  object \n",
            " 20  Credit_Utilization_Ratio  100000 non-null  float64\n",
            " 21  Credit_History_Age        90970 non-null   object \n",
            " 22  Payment_of_Min_Amount     100000 non-null  object \n",
            " 23  Total_EMI_per_month       100000 non-null  float64\n",
            " 24  Amount_invested_monthly   95521 non-null   object \n",
            " 25  Payment_Behaviour         100000 non-null  object \n",
            " 26  Monthly_Balance           98800 non-null   object \n",
            " 27  Credit_Score              100000 non-null  object \n",
            "dtypes: float64(4), int64(4), object(20)\n",
            "memory usage: 22.1+ MB\n"
          ]
        }
      ]
    },
    {
      "cell_type": "code",
      "source": [
        "#zmień dane na numeryczne\n",
        "FeaturesToConvert = ['Age','Annual_Income','Num_of_Loan','Num_of_Delayed_Payment','Changed_Credit_Limit','Outstanding_Debt','Amount_invested_monthly','Monthly_Balance']\n",
        "# ale najpierw sprawdź czy nie ma błędów w danych\n",
        "for feature in FeaturesToConvert:\n",
        "  uniques = df[feature].unique()\n",
        "# usuń zbędne znaki '-’ , '_'\n",
        "for feature in FeaturesToConvert:\n",
        "  df[feature] = df[feature].str.strip('-_')\n",
        "# puste kolumny zastąp NAN\n",
        "for feature in FeaturesToConvert:\n",
        "  df[feature] = df[feature].replace({'':np.nan})\n",
        "# zmien typ zmiennych ilościowych\n",
        "for feature in FeaturesToConvert:\n",
        "  df[feature] = df[feature].astype('float64')"
      ],
      "metadata": {
        "id": "S-P_N1-ewpfv"
      },
      "execution_count": 18,
      "outputs": []
    },
    {
      "cell_type": "code",
      "source": [
        "df['Monthly_Inhand_Salary']= df['Monthly_Inhand_Salary'].fillna(method='pad')"
      ],
      "metadata": {
        "id": "hW8nU9VXxoMm"
      },
      "execution_count": 19,
      "outputs": []
    },
    {
      "cell_type": "code",
      "source": [
        "df.drop(columns=['ID', 'Customer_ID', 'Name', 'SSN'], inplace=True)"
      ],
      "metadata": {
        "id": "Yc1h6BUyyFqX"
      },
      "execution_count": 22,
      "outputs": []
    },
    {
      "cell_type": "code",
      "source": [
        "print(df.dtypes)"
      ],
      "metadata": {
        "colab": {
          "base_uri": "https://localhost:8080/"
        },
        "id": "-WhOx73rxrvN",
        "outputId": "0b4e77d3-8c4b-42af-dd12-00fbaaa57202"
      },
      "execution_count": 23,
      "outputs": [
        {
          "output_type": "stream",
          "name": "stdout",
          "text": [
            "Month                        object\n",
            "Age                         float64\n",
            "Occupation                   object\n",
            "Annual_Income               float64\n",
            "Monthly_Inhand_Salary       float64\n",
            "Num_Bank_Accounts             int64\n",
            "Num_Credit_Card               int64\n",
            "Interest_Rate                 int64\n",
            "Num_of_Loan                 float64\n",
            "Type_of_Loan                 object\n",
            "Delay_from_due_date           int64\n",
            "Num_of_Delayed_Payment      float64\n",
            "Changed_Credit_Limit        float64\n",
            "Num_Credit_Inquiries        float64\n",
            "Credit_Mix                   object\n",
            "Outstanding_Debt            float64\n",
            "Credit_Utilization_Ratio    float64\n",
            "Credit_History_Age           object\n",
            "Payment_of_Min_Amount        object\n",
            "Total_EMI_per_month         float64\n",
            "Amount_invested_monthly     float64\n",
            "Payment_Behaviour            object\n",
            "Monthly_Balance             float64\n",
            "Credit_Score                 object\n",
            "dtype: object\n"
          ]
        }
      ]
    },
    {
      "cell_type": "code",
      "source": [
        "age_summary = df['Age'].describe()\n",
        "\n",
        "print(age_summary)"
      ],
      "metadata": {
        "colab": {
          "base_uri": "https://localhost:8080/"
        },
        "id": "Hp23LGRayanP",
        "outputId": "d795dc49-9ff0-48b5-df1c-1bc9c90b99de"
      },
      "execution_count": 24,
      "outputs": [
        {
          "output_type": "stream",
          "name": "stdout",
          "text": [
            "count    100000.000000\n",
            "mean        119.509700\n",
            "std         684.757313\n",
            "min          14.000000\n",
            "25%          25.000000\n",
            "50%          34.000000\n",
            "75%          42.000000\n",
            "max        8698.000000\n",
            "Name: Age, dtype: float64\n"
          ]
        }
      ]
    },
    {
      "cell_type": "code",
      "source": [
        "negative_age_rows = df[df['Age'] >99 ]\n",
        "\n",
        "print(negative_age_rows)"
      ],
      "metadata": {
        "colab": {
          "base_uri": "https://localhost:8080/"
        },
        "id": "dK0uIRB8y3Qn",
        "outputId": "1ffab7c6-0c2b-4df7-82a1-6e407f21968d"
      },
      "execution_count": 25,
      "outputs": [
        {
          "output_type": "stream",
          "name": "stdout",
          "text": [
            "          Month     Age     Occupation  Annual_Income  Monthly_Inhand_Salary  \\\n",
            "2         March   500.0      Scientist       19114.12            1824.843333   \n",
            "56      January  7580.0  Media_Manager       34081.38           10469.207759   \n",
            "113    February   500.0   Entrepreneur       25546.26            2415.855000   \n",
            "122       March   181.0      Scientist       31993.78            2942.148333   \n",
            "219       April   995.0     Accountant       43070.24            3622.186667   \n",
            "...         ...     ...            ...            ...                    ...   \n",
            "99913  February  2263.0  Media_Manager       20059.98            1523.665000   \n",
            "99937  February   500.0        _______       22620.79            1722.065833   \n",
            "99950      July  1342.0  Media_Manager       59146.36            4908.863333   \n",
            "99963     April   500.0         Lawyer       42903.79            3468.315833   \n",
            "99972       May  1753.0  Media_Manager       16680.35            1528.029167   \n",
            "\n",
            "       Num_Bank_Accounts  Num_Credit_Card  Interest_Rate  Num_of_Loan  \\\n",
            "2                      3                4              3          4.0   \n",
            "56                     8                7             15          3.0   \n",
            "113                    8                7             14          5.0   \n",
            "122                    6                6              7          2.0   \n",
            "219                    3                3             18          1.0   \n",
            "...                  ...              ...            ...          ...   \n",
            "99913                  8                5             12          4.0   \n",
            "99937                  7                3              9          0.0   \n",
            "99950                  3                6              6          1.0   \n",
            "99963                  0                4              6          1.0   \n",
            "99972                  1                1              5          4.0   \n",
            "\n",
            "                                            Type_of_Loan  ...  Credit_Mix  \\\n",
            "2      Auto Loan, Credit-Builder Loan, Personal Loan,...  ...        Good   \n",
            "56            Not Specified, Auto Loan, and Student Loan  ...    Standard   \n",
            "113    Not Specified, Student Loan, Student Loan, Cre...  ...    Standard   \n",
            "122                    Payday Loan, and Home Equity Loan  ...    Standard   \n",
            "219                              Debt Consolidation Loan  ...    Standard   \n",
            "...                                                  ...  ...         ...   \n",
            "99913  Home Equity Loan, Payday Loan, Not Specified, ...  ...        Good   \n",
            "99937                                                NaN  ...    Standard   \n",
            "99950                                      Personal Loan  ...           _   \n",
            "99963                                      Not Specified  ...        Good   \n",
            "99972  Payday Loan, Student Loan, Mortgage Loan, and ...  ...        Good   \n",
            "\n",
            "       Outstanding_Debt  Credit_Utilization_Ratio     Credit_History_Age  \\\n",
            "2                809.98                 28.609352  22 Years and 3 Months   \n",
            "56              1704.18                 24.448063                    NaN   \n",
            "113              758.44                 29.711376  18 Years and 3 Months   \n",
            "122              818.22                 27.380109  17 Years and 0 Months   \n",
            "219             1233.10                 24.331772  19 Years and 5 Months   \n",
            "...                 ...                       ...                    ...   \n",
            "99913            909.01                 25.982154  16 Years and 4 Months   \n",
            "99937            642.46                 31.841872                    NaN   \n",
            "99950            418.03                 38.199635  20 Years and 7 Months   \n",
            "99963           1079.48                 30.625298                    NaN   \n",
            "99972            897.16                 37.788217  21 Years and 5 Months   \n",
            "\n",
            "      Payment_of_Min_Amount  Total_EMI_per_month  Amount_invested_monthly  \\\n",
            "2                        No            49.574949                81.699521   \n",
            "56                       NM            70.478333               162.441009   \n",
            "113                     Yes           101.328637               300.323232   \n",
            "122                     Yes            45.141298               264.257089   \n",
            "219                     Yes            30.576085                74.920375   \n",
            "...                     ...                  ...                      ...   \n",
            "99913                    No            45.076827                74.713580   \n",
            "99937                    No             0.000000               105.076293   \n",
            "99950                    No            26.778419               502.376320   \n",
            "99963                    No            34.975457                31.193919   \n",
            "99972                    No            41.113561                64.549748   \n",
            "\n",
            "                      Payment_Behaviour Monthly_Balance  Credit_Score  \n",
            "2       Low_spent_Medium_value_payments      331.209863          Good  \n",
            "56       Low_spent_Large_value_payments      298.192158          Poor  \n",
            "113      Low_spent_Small_value_payments      129.933631      Standard  \n",
            "122      Low_spent_Small_value_payments      274.816447      Standard  \n",
            "219    High_spent_Medium_value_payments      506.722207      Standard  \n",
            "...                                 ...             ...           ...  \n",
            "99913   High_spent_Small_value_payments             NaN          Poor  \n",
            "99937    Low_spent_Large_value_payments             NaN      Standard  \n",
            "99950    Low_spent_Small_value_payments             NaN      Standard  \n",
            "99963   High_spent_Large_value_payments             NaN      Standard  \n",
            "99972    Low_spent_Large_value_payments             NaN      Standard  \n",
            "\n",
            "[2777 rows x 24 columns]\n"
          ]
        }
      ]
    }
  ]
}