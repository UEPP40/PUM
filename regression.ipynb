{
  "nbformat": 4,
  "nbformat_minor": 0,
  "metadata": {
    "colab": {
      "provenance": [],
      "include_colab_link": true
    },
    "kernelspec": {
      "name": "python3",
      "display_name": "Python 3"
    },
    "language_info": {
      "name": "python"
    }
  },
  "cells": [
    {
      "cell_type": "markdown",
      "metadata": {
        "id": "view-in-github",
        "colab_type": "text"
      },
      "source": [
        "<a href=\"https://colab.research.google.com/github/UEPP40/PUM/blob/Romanowski/regression.ipynb\" target=\"_parent\"><img src=\"https://colab.research.google.com/assets/colab-badge.svg\" alt=\"Open In Colab\"/></a>"
      ]
    },
    {
      "cell_type": "code",
      "execution_count": 9,
      "metadata": {
        "id": "_ZbxYdrOuSUM"
      },
      "outputs": [],
      "source": [
        "import numpy as np\n",
        "import pandas as pd\n",
        "from sklearn.preprocessing import LabelEncoder\n",
        "from sklearn.linear_model import LinearRegression, HuberRegressor\n",
        "from sklearn.metrics import mean_absolute_error, median_absolute_error, r2_score\n",
        "from sklearn.model_selection import train_test_split\n",
        "\n",
        "dataf  =  pd.read_csv(\"Salary Data.csv\")\n",
        "dataf.dropna(inplace=True)\n",
        "le = LabelEncoder()\n",
        "#df.dtypes\n",
        "columns = [\"Gender\",\"Education Level\", \"Job Title\"]\n",
        "dataf[columns] = dataf[columns].apply(LabelEncoder().fit_transform)\n",
        "train_df, test_df = train_test_split(dataf, test_size = 0.3, random_state=40)\n",
        "\n",
        "X_train = train_df[['Age','Gender','Education Level', 'Job Title', 'Years of Experience']]\n",
        "Y_train = train_df['Salary']\n",
        "X_test = test_df[['Age','Gender','Education Level', 'Job Title', 'Years of Experience']]\n",
        "Y_test = test_df['Salary']\n",
        "\n",
        "regression = LinearRegression().fit(X_train,Y_train)\n",
        "regression.score(X_train,Y_train)\n",
        "regression.coef_\n",
        "regression.intercept_\n",
        "predict_y = regression.predict(X_test)\n"
      ]
    },
    {
      "cell_type": "code",
      "source": [
        "huber = HuberRegressor().fit(X_train,Y_train)\n",
        "huber.score(X_train,Y_train)\n",
        "huber.coef_\n",
        "huber.intercept_\n",
        "predict_huber_y = huber.predict(X_test)"
      ],
      "metadata": {
        "id": "oWuxMckl9Ftz"
      },
      "execution_count": 10,
      "outputs": []
    },
    {
      "cell_type": "code",
      "source": [
        "y_true = Y_test\n",
        "print (\"Regresja liniowa:\",  mean_absolute_error(y_true,predict_y))\n",
        "print(\"Regresja Hubera\",mean_absolute_error(y_true,predict_huber_y))\n"
      ],
      "metadata": {
        "colab": {
          "base_uri": "https://localhost:8080/"
        },
        "id": "zKDPY3aR40gE",
        "outputId": "8d750354-bbd9-4f53-8859-b82e299c7e8c"
      },
      "execution_count": 11,
      "outputs": [
        {
          "output_type": "stream",
          "name": "stdout",
          "text": [
            "Regresja liniowa: 12351.261118548075\n",
            "Regresja Hubera 11696.811241388032\n"
          ]
        }
      ]
    },
    {
      "cell_type": "code",
      "source": [
        "y_true = Y_test\n",
        "print(\"Regresja liniowa\",median_absolute_error(y_true,predict_y))\n",
        "print(\"Regresja Hubera\",median_absolute_error(y_true,predict_huber_y))"
      ],
      "metadata": {
        "colab": {
          "base_uri": "https://localhost:8080/"
        },
        "id": "mZScOYZc76DU",
        "outputId": "d72d8f30-2848-4fc1-a4fa-2a1f48e537f9"
      },
      "execution_count": 12,
      "outputs": [
        {
          "output_type": "stream",
          "name": "stdout",
          "text": [
            "Regresja liniowa 10532.659544538386\n",
            "Regresja Hubera 9092.997949978522\n"
          ]
        }
      ]
    },
    {
      "cell_type": "code",
      "source": [
        "y_true = Y_test\n",
        "print(\"Regresja liniowa\", r2_score(y_true,predict_y))\n",
        "print(\"Regresja Hubera\",r2_score(y_true,predict_huber_y))"
      ],
      "metadata": {
        "colab": {
          "base_uri": "https://localhost:8080/"
        },
        "id": "p4SiE5NW8XpP",
        "outputId": "791337ee-b5b3-4694-f039-088f7d033aa7"
      },
      "execution_count": 13,
      "outputs": [
        {
          "output_type": "stream",
          "name": "stdout",
          "text": [
            "Regresja liniowa 0.885420522400265\n",
            "Regresja Hubera 0.8944905861139743\n"
          ]
        }
      ]
    },
    {
      "cell_type": "code",
      "source": [
        "from statsmodels.stats.outliers_influence import variance_inflation_factor\n",
        "\n",
        "# calculating VIF for each feature\n",
        "vif_data = pd.DataFrame()\n",
        "vif_data[\"feature\"] = dataf.columns\n",
        "vif_data[\"VIF\"] = [variance_inflation_factor(dataf.values, i) for i in range(len(dataf.columns))]\n",
        "\n",
        "print(vif_data)"
      ],
      "metadata": {
        "colab": {
          "base_uri": "https://localhost:8080/"
        },
        "id": "kiJL9MPflcQG",
        "outputId": "72f03ca8-b35e-4360-cbfd-5273d5e6f4ce"
      },
      "execution_count": 15,
      "outputs": [
        {
          "output_type": "stream",
          "name": "stdout",
          "text": [
            "               feature        VIF\n",
            "0                  Age  21.740272\n",
            "1               Gender   2.184760\n",
            "2      Education Level   2.977172\n",
            "3            Job Title   4.899497\n",
            "4  Years of Experience  23.941208\n",
            "5               Salary  52.928738\n"
          ]
        }
      ]
    }
  ]
}