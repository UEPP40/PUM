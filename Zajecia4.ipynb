{
  "cells": [
    {
      "cell_type": "markdown",
      "metadata": {
        "id": "view-in-github",
        "colab_type": "text"
      },
      "source": [
        "<a href=\"https://colab.research.google.com/github/UEPP40/PUM/blob/wilmanski/Zajecia4.ipynb\" target=\"_parent\"><img src=\"https://colab.research.google.com/assets/colab-badge.svg\" alt=\"Open In Colab\"/></a>"
      ]
    },
    {
      "cell_type": "code",
      "source": [
        "import pandas as pd\n",
        "from sklearn.preprocessing import OrdinalEncoder\n",
        "from sklearn.preprocessing import LabelEncoder\n",
        "from sklearn.model_selection import train_test_split\n",
        "from sklearn.linear_model import LinearRegression\n",
        "from sklearn.metrics import median_absolute_error\n",
        "from sklearn.metrics import mean_absolute_error"
      ],
      "metadata": {
        "id": "XVt7cJBVruRR"
      },
      "execution_count": 60,
      "outputs": []
    },
    {
      "cell_type": "code",
      "source": [
        "df = pd.read_csv(\"salary.csv\")\n",
        "print(df.dtypes)"
      ],
      "metadata": {
        "id": "clfZdl_ntN_J",
        "outputId": "bae79c76-1b4d-436d-baff-42376b888379",
        "colab": {
          "base_uri": "https://localhost:8080/"
        }
      },
      "execution_count": 53,
      "outputs": [
        {
          "output_type": "stream",
          "name": "stdout",
          "text": [
            "Age                    float64\n",
            "Gender                  object\n",
            "Education Level         object\n",
            "Job Title               object\n",
            "Years of Experience    float64\n",
            "Salary                 float64\n",
            "dtype: object\n"
          ]
        }
      ]
    },
    {
      "cell_type": "code",
      "source": [
        "df.dropna(inplace=True)"
      ],
      "metadata": {
        "id": "-YmPFLWRwz-5"
      },
      "execution_count": 54,
      "outputs": []
    },
    {
      "cell_type": "code",
      "source": [
        "df['Education Level'] = df['Education Level'].astype('string')\n",
        "df['Job Title'] = df['Job Title'].astype('string')"
      ],
      "metadata": {
        "id": "b-TAerVbydP1"
      },
      "execution_count": 55,
      "outputs": []
    },
    {
      "cell_type": "code",
      "source": [
        "df.dtypes"
      ],
      "metadata": {
        "id": "qOPTgN-0yuVW",
        "outputId": "98580c5f-f82a-4c7b-bcea-7ec84d5e98b5",
        "colab": {
          "base_uri": "https://localhost:8080/"
        }
      },
      "execution_count": 50,
      "outputs": [
        {
          "output_type": "execute_result",
          "data": {
            "text/plain": [
              "Age                    float64\n",
              "Gender                   int64\n",
              "Education Level        float64\n",
              "Job Title                int64\n",
              "Years of Experience    float64\n",
              "Salary                 float64\n",
              "dtype: object"
            ]
          },
          "metadata": {},
          "execution_count": 50
        }
      ]
    },
    {
      "cell_type": "code",
      "source": [
        "# stwórz obiekt enkodera\n",
        "le = LabelEncoder()\n",
        "df.Gender = le.fit_transform(df.Gender)\n",
        "df['Job Title'] = le.fit_transform(df['Job Title'])"
      ],
      "metadata": {
        "id": "ueS4VLshwrJh"
      },
      "execution_count": 56,
      "outputs": []
    },
    {
      "cell_type": "code",
      "source": [
        "# obiekt ordinal enkodera\n",
        "enc = OrdinalEncoder(categories=[[\"Bachelor\\'s\", \"Master\\'s\", \"PhD\"]])\n",
        "df['Education Level'] = enc.fit_transform(df[['Education Level']])\n",
        "df.drop(columns='Salary')\n",
        "y = df[\"Salary\"]"
      ],
      "metadata": {
        "id": "0tCqNHlB0upt"
      },
      "execution_count": 57,
      "outputs": []
    },
    {
      "cell_type": "code",
      "source": [
        "X_train, X_test, y_train, y_test = train_test_split(df, y, test_size=0.33, random_state=42)"
      ],
      "metadata": {
        "id": "CQ7YnEyp4h3b"
      },
      "execution_count": 58,
      "outputs": []
    },
    {
      "cell_type": "code",
      "source": [
        "# Inicjalizacja i dopasowanie modelu regresji liniowej\n",
        "model = LinearRegression()\n",
        "model.fit(X_train, y_train)\n",
        "\n",
        "# Przewidywanie na zbiorze testowym\n",
        "y_pred = model.predict(X_test)\n",
        "\n",
        "median_absolute_error(y_test,y_pred)"
      ],
      "metadata": {
        "id": "lk20uZNRtzpm",
        "outputId": "62fa4926-5abb-41a7-e48b-d7bf0ee02197",
        "colab": {
          "base_uri": "https://localhost:8080/"
        }
      },
      "execution_count": 62,
      "outputs": [
        {
          "output_type": "execute_result",
          "data": {
            "text/plain": [
              "7.275957614183426e-12"
            ]
          },
          "metadata": {},
          "execution_count": 62
        }
      ]
    },
    {
      "cell_type": "code",
      "source": [
        "mean_absolute_error(y_test,y_pred)"
      ],
      "metadata": {
        "id": "-ml-WmYH6klB",
        "outputId": "ecbcd6a3-e63e-4e32-c647-98264322a8eb",
        "colab": {
          "base_uri": "https://localhost:8080/"
        }
      },
      "execution_count": 63,
      "outputs": [
        {
          "output_type": "execute_result",
          "data": {
            "text/plain": [
              "8.321143057753121e-12"
            ]
          },
          "metadata": {},
          "execution_count": 63
        }
      ]
    }
  ],
  "metadata": {
    "colab": {
      "name": "Witamy w Colaboratory",
      "provenance": [],
      "include_colab_link": true
    },
    "kernelspec": {
      "display_name": "Python 3",
      "name": "python3"
    }
  },
  "nbformat": 4,
  "nbformat_minor": 0
}