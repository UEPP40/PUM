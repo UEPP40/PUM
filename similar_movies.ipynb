{
  "nbformat": 4,
  "nbformat_minor": 0,
  "metadata": {
    "colab": {
      "provenance": [],
      "authorship_tag": "ABX9TyPzxazIXFi7K/R7Jjx/EXto",
      "include_colab_link": true
    },
    "kernelspec": {
      "name": "python3",
      "display_name": "Python 3"
    },
    "language_info": {
      "name": "python"
    }
  },
  "cells": [
    {
      "cell_type": "markdown",
      "metadata": {
        "id": "view-in-github",
        "colab_type": "text"
      },
      "source": [
        "<a href=\"https://colab.research.google.com/github/UEPP40/PUM/blob/golon/similar_movies.ipynb\" target=\"_parent\"><img src=\"https://colab.research.google.com/assets/colab-badge.svg\" alt=\"Open In Colab\"/></a>"
      ]
    },
    {
      "cell_type": "code",
      "execution_count": 2,
      "metadata": {
        "colab": {
          "base_uri": "https://localhost:8080/"
        },
        "id": "TS50DWqd9Qn_",
        "outputId": "a9dc2e53-3657-441e-c5e0-c42ed8a852a7"
      },
      "outputs": [
        {
          "output_type": "stream",
          "name": "stdout",
          "text": [
            "Liczba wszystkich ocen: 100836\n",
            "Liczba filmów w bazie: 9742\n",
            "Liczba użytkowników: 610\n",
            "Średnia liczba ocen na użytkownika: 165.30491803278687\n",
            "Średnia liczba ocen na film: 10.350646684459043\n",
            "\n",
            "Rozkład ocen:\n",
            "rating\n",
            "0.5     1370\n",
            "1.0     2811\n",
            "1.5     1791\n",
            "2.0     7551\n",
            "2.5     5550\n",
            "3.0    20047\n",
            "3.5    13136\n",
            "4.0    26818\n",
            "4.5     8551\n",
            "5.0    13211\n",
            "Name: count, dtype: int64\n"
          ]
        }
      ],
      "source": [
        "import pandas as pd\n",
        "\n",
        "# Wczytanie danych o ocenach i filmach\n",
        "ratings = pd.read_csv('https://s3-us-west-2.amazonaws.com/recommender-tutorial/ratings.csv')\n",
        "movies = pd.read_csv('https://s3-us-west-2.amazonaws.com/recommender-tutorial/movies.csv')\n",
        "\n",
        "# Liczba wszystkich ocen\n",
        "total_ratings = ratings.shape[0]\n",
        "\n",
        "# Liczba filmów w bazie\n",
        "total_movies = movies.shape[0]\n",
        "\n",
        "# Liczba użytkowników\n",
        "total_users = ratings['userId'].nunique()\n",
        "\n",
        "# Średnia liczba ocen na użytkownika\n",
        "avg_ratings_per_user = total_ratings / total_users\n",
        "\n",
        "# Średnia liczba ocen na film\n",
        "avg_ratings_per_movie = total_ratings / total_movies\n",
        "\n",
        "# Rozkład ocen\n",
        "ratings_distribution = ratings['rating'].value_counts().sort_index()\n",
        "\n",
        "# Wyświetlenie wyników\n",
        "print(\"Liczba wszystkich ocen:\", total_ratings)\n",
        "print(\"Liczba filmów w bazie:\", total_movies)\n",
        "print(\"Liczba użytkowników:\", total_users)\n",
        "print(\"Średnia liczba ocen na użytkownika:\", avg_ratings_per_user)\n",
        "print(\"Średnia liczba ocen na film:\", avg_ratings_per_movie)\n",
        "print(\"\\nRozkład ocen:\")\n",
        "print(ratings_distribution)\n"
      ]
    },
    {
      "cell_type": "code",
      "source": [
        "# Słownik tytułów filmów\n",
        "movie_titles = dict(zip(movies['movieId'], movies['title']))\n",
        "\n",
        "# Obliczenie C i m\n",
        "C = ratings['rating'].mean()\n",
        "m = ratings.groupby('movieId')['rating'].agg(['count', 'mean'])\n",
        "m = m['count'].mean()\n",
        "\n",
        "# Funkcja bayesian_avg\n",
        "def bayesian_avg(ratings):\n",
        "    bayesian_avg = (C * m + ratings.sum()) / (C + ratings.count())\n",
        "    return bayesian_avg\n",
        "\n",
        "# Obliczenie bayesian_avg_ratings\n",
        "bayesian_avg_ratings = ratings.groupby('movieId')['rating'].agg(bayesian_avg).reset_index()\n",
        "bayesian_avg_ratings.columns = ['movieId', 'bayesian_avg']\n",
        "\n",
        "# Połączenie z danymi o filmach\n",
        "movie_stats = movies.merge(bayesian_avg_ratings, on='movieId')\n",
        "\n",
        "# Wyświetlenie wyników\n",
        "print(movie_stats.head())"
      ],
      "metadata": {
        "colab": {
          "base_uri": "https://localhost:8080/"
        },
        "id": "gXMg9_68BdYA",
        "outputId": "dac6c55e-30f1-479b-e96d-aa34ecb00d42"
      },
      "execution_count": 3,
      "outputs": [
        {
          "output_type": "stream",
          "name": "stdout",
          "text": [
            "   movieId                               title  \\\n",
            "0        1                    Toy Story (1995)   \n",
            "1        2                      Jumanji (1995)   \n",
            "2        3             Grumpier Old Men (1995)   \n",
            "3        4            Waiting to Exhale (1995)   \n",
            "4        5  Father of the Bride Part II (1995)   \n",
            "\n",
            "                                        genres  bayesian_avg  \n",
            "0  Adventure|Animation|Children|Comedy|Fantasy      4.024276  \n",
            "1                   Adventure|Children|Fantasy      3.645857  \n",
            "2                               Comedy|Romance      3.708193  \n",
            "3                         Comedy|Drama|Romance      5.028823  \n",
            "4                                       Comedy      3.558189  \n"
          ]
        }
      ]
    },
    {
      "cell_type": "code",
      "source": [
        "import pandas as pd\n",
        "import numpy as np\n",
        "from scipy.sparse import csr_matrix\n",
        "\n",
        "# Wczytanie danych o ocenach i filmach\n",
        "ratings = pd.read_csv('https://s3-us-west-2.amazonaws.com/recommender-tutorial/ratings.csv')\n",
        "movies = pd.read_csv('https://s3-us-west-2.amazonaws.com/recommender-tutorial/movies.csv')\n",
        "\n",
        "# Liczba wszystkich ocen\n",
        "total_ratings = ratings.shape[0]\n",
        "\n",
        "# Liczba filmów w bazie\n",
        "total_movies = movies.shape[0]\n",
        "\n",
        "# Liczba użytkowników\n",
        "total_users = ratings['userId'].nunique()\n",
        "\n",
        "# Średnia liczba ocen na użytkownika\n",
        "avg_ratings_per_user = total_ratings / total_users\n",
        "\n",
        "# Średnia liczba ocen na film\n",
        "avg_ratings_per_movie = total_ratings / total_movies\n",
        "\n",
        "# Rozkład ocen\n",
        "ratings_distribution = ratings['rating'].value_counts().sort_index()\n",
        "\n",
        "# Wyświetlenie wyników\n",
        "print(\"Liczba wszystkich ocen:\", total_ratings)\n",
        "print(\"Liczba filmów w bazie:\", total_movies)\n",
        "print(\"Liczba użytkowników:\", total_users)\n",
        "print(\"Średnia liczba ocen na użytkownika:\", avg_ratings_per_user)\n",
        "print(\"Średnia liczba ocen na film:\", avg_ratings_per_movie)\n",
        "print(\"\\nRozkład ocen:\")\n",
        "print(ratings_distribution)\n",
        "\n",
        "# Słownik tytułów filmów\n",
        "movie_titles = dict(zip(movies['movieId'], movies['title']))\n",
        "\n",
        "# Obliczenie C i m\n",
        "C = ratings['rating'].mean()\n",
        "m = ratings.groupby('movieId')['rating'].agg(['count', 'mean'])\n",
        "m = m['count'].mean()\n",
        "\n",
        "# Funkcja bayesian_avg\n",
        "def bayesian_avg(ratings):\n",
        "    bayesian_avg = (C * m + ratings.sum()) / (C + ratings.count())\n",
        "    return bayesian_avg\n",
        "\n",
        "# Obliczenie bayesian_avg_ratings\n",
        "bayesian_avg_ratings = ratings.groupby('movieId')['rating'].agg(bayesian_avg).reset_index()\n",
        "bayesian_avg_ratings.columns = ['movieId', 'bayesian_avg']\n",
        "\n",
        "# Połączenie z danymi o filmach\n",
        "movie_stats = movies.merge(bayesian_avg_ratings, on='movieId')\n",
        "\n",
        "# Wyświetlenie wyników\n",
        "print(movie_stats.head())\n",
        "\n",
        "def create_sparse(df):\n",
        "    M = df['userId'].nunique()\n",
        "    N = df['movieId'].nunique()\n",
        "    user_mapper = dict(zip(np.unique(df[\"userId\"]), list(range(M))))\n",
        "    movie_mapper = dict(zip(np.unique(df[\"movieId\"]), list(range(N))))\n",
        "    user_inv_mapper = dict(zip(list(range(M)), np.unique(df[\"userId\"])))\n",
        "    movie_inv_mapper = dict(zip(list(range(N)), np.unique(df[\"movieId\"])))\n",
        "    user_index = [user_mapper[i] for i in df['userId']]\n",
        "    item_index = [movie_mapper[i] for i in df['movieId']]\n",
        "    X = csr_matrix((df[\"rating\"], (user_index, item_index)), shape=(M,N))\n",
        "    return X, user_mapper, movie_mapper, user_inv_mapper, movie_inv_mapper\n",
        "\n",
        "# Utworzenie macierzy rzadkiej\n",
        "X, user_mapper, movie_mapper, user_inv_mapper, movie_inv_mapper = create_sparse(ratings)\n",
        "\n",
        "n_total = X.shape[0] * X.shape[1]\n",
        "n_ratings = X.nnz\n",
        "sparsity = n_ratings / n_total\n",
        "sparsity_p = round(sparsity * 100, 2)\n",
        "\n",
        "print(f\"Matrix sparsity: {sparsity_p}%\")\n"
      ],
      "metadata": {
        "colab": {
          "base_uri": "https://localhost:8080/"
        },
        "id": "-T_YXCTyDBgy",
        "outputId": "fbc14542-56e7-4b35-fb0f-ec4d021a2b86"
      },
      "execution_count": 4,
      "outputs": [
        {
          "output_type": "stream",
          "name": "stdout",
          "text": [
            "Liczba wszystkich ocen: 100836\n",
            "Liczba filmów w bazie: 9742\n",
            "Liczba użytkowników: 610\n",
            "Średnia liczba ocen na użytkownika: 165.30491803278687\n",
            "Średnia liczba ocen na film: 10.350646684459043\n",
            "\n",
            "Rozkład ocen:\n",
            "rating\n",
            "0.5     1370\n",
            "1.0     2811\n",
            "1.5     1791\n",
            "2.0     7551\n",
            "2.5     5550\n",
            "3.0    20047\n",
            "3.5    13136\n",
            "4.0    26818\n",
            "4.5     8551\n",
            "5.0    13211\n",
            "Name: count, dtype: int64\n",
            "   movieId                               title  \\\n",
            "0        1                    Toy Story (1995)   \n",
            "1        2                      Jumanji (1995)   \n",
            "2        3             Grumpier Old Men (1995)   \n",
            "3        4            Waiting to Exhale (1995)   \n",
            "4        5  Father of the Bride Part II (1995)   \n",
            "\n",
            "                                        genres  bayesian_avg  \n",
            "0  Adventure|Animation|Children|Comedy|Fantasy      4.024276  \n",
            "1                   Adventure|Children|Fantasy      3.645857  \n",
            "2                               Comedy|Romance      3.708193  \n",
            "3                         Comedy|Drama|Romance      5.028823  \n",
            "4                                       Comedy      3.558189  \n",
            "Matrix sparsity: 1.7%\n"
          ]
        }
      ]
    },
    {
      "cell_type": "code",
      "source": [
        "from sklearn.neighbors import NearestNeighbors\n",
        "import numpy as np\n",
        "\n",
        "def find_similar_movies(movie_id, X, movie_mapper, movie_inv_mapper, k, metric='cosine'):\n",
        "    X = X.T\n",
        "    neighbour_ids = []\n",
        "    movie_ind = movie_mapper[movie_id]\n",
        "    movie_vec = X[movie_ind]\n",
        "    if isinstance(movie_vec, (np.ndarray)):\n",
        "        movie_vec = movie_vec.reshape(1, -1)\n",
        "    kNN = NearestNeighbors(n_neighbors=k+1, algorithm=\"brute\", metric=metric)\n",
        "    kNN.fit(X)\n",
        "    neighbour = kNN.kneighbors(movie_vec, return_distance=False)\n",
        "    neighbour = neighbour[0][1:]  # Pomijamy pierwszy element, który jest samym filmem\n",
        "    for n in neighbour:\n",
        "        neighbour_ids.append(movie_inv_mapper[n])\n",
        "    return neighbour_ids\n",
        "\n",
        "# Przykładowe użycie funkcji do znalezienia 10 rekomendacji dla filmu o identyfikatorze 1 (Toy Story)\n",
        "recommendations = find_similar_movies(1, X, movie_mapper, movie_inv_mapper, k=10)\n",
        "\n",
        "# Wyświetlenie rekomendacji\n",
        "for i, movie_id in enumerate(recommendations, 1):\n",
        "    print(f\"{i}. {movie_titles[movie_id]}\")\n"
      ],
      "metadata": {
        "colab": {
          "base_uri": "https://localhost:8080/"
        },
        "id": "soMNMJXoG_3g",
        "outputId": "24270679-950f-475d-b465-d6d1130dc86c"
      },
      "execution_count": 6,
      "outputs": [
        {
          "output_type": "stream",
          "name": "stdout",
          "text": [
            "1. Toy Story 2 (1999)\n",
            "2. Jurassic Park (1993)\n",
            "3. Independence Day (a.k.a. ID4) (1996)\n",
            "4. Star Wars: Episode IV - A New Hope (1977)\n",
            "5. Forrest Gump (1994)\n",
            "6. Lion King, The (1994)\n",
            "7. Star Wars: Episode VI - Return of the Jedi (1983)\n",
            "8. Mission: Impossible (1996)\n",
            "9. Groundhog Day (1993)\n",
            "10. Back to the Future (1985)\n"
          ]
        }
      ]
    }
  ]
}